{
 "cells": [
  {
   "cell_type": "markdown",
   "metadata": {},
   "source": [
    "<div style=\"border:solid Chocolate 2px; padding: 40px\">\n",
    "\n",
    "<b>Евгений, привет!</b>\n",
    "\n",
    "Меня зовут Евгений Головин, я буду ревьюером твоего проекта. Если ты не против, то предлагаю построить наше общение на \"ты\" ;) Если удобнее на \"вы\", то нет проблем, только скажи об этом. \n",
    "\n",
    "В ходе работы я оставил тебе комментарии <font color='green'>зеленого</font>, <font color='gold'>желтого</font> и <font color='red'>красного</font> цветов. Сейчас объясню, что они значат:\n",
    "\n",
    "<br/>\n",
    "\n",
    "<div class=\"alert alert-success\">\n",
    "<h2> Комментарий ревьюера <a class=\"tocSkip\"> </h2>\n",
    "\n",
    "<b>Все супер!👍:</b> Решение на этом шаге является полностью правильным.\n",
    "</div>\n",
    "\n",
    "<br/>\n",
    "\n",
    "<div class=\"alert alert-warning\">\n",
    "    <h2> Комментарий ревьюера <a class=\"tocSkip\"> </h2>\n",
    "    \n",
    "<b>Небольшие замечания и рекомендации💡:</b> Решение на этом шаге станет еще лучше, если внести небольшие коррективы.\n",
    "</div>\n",
    "\n",
    "\n",
    "<br/>\n",
    "<div class=\"alert alert-block alert-danger\">\n",
    "<h2> Комментарий ревьюера <a class=\"tocSkip\"></h2>\n",
    "\n",
    "    \n",
    "<b>На доработку🤔:</b>\n",
    " Решение на этом шаге требует существенной переработки и внесения правок. Напоминаю, что проект не может быть принят с первого раза, если ревью содержит комментарии, рекомендующие доработать шаги.\n",
    "</div>\n",
    "    \n",
    "Увидев мой комментарий, не удаляй его, он будет очень полезен в случае повторной проверки работы :)\n",
    "    \n",
    "<div class=\"alert alert-info\">\n",
    "<b>А свой помечай вот так, чтобы я его не потерял ;)</b> \n",
    "</div>\n",
    "    \n",
    "На мои комменатрии можно и нужно реагировать, только делать это стоит так, чтобы твои и мои комменты не смешались: выделяй свои цветами, сильно отличающимися от моих.\n",
    "    \n",
    "Увидев у тебя неточность, в первый раз я лишь укажу на ее наличие и дам тебе возможность самому найти и исправить ее. На реальной работе твой руководитель будет поступать также, и я пытаюсь подготовить тебя именно к работе аналитиком. Но если ты пока не справишься с такой задачей - при следующей проверке я дам более точную подсказку!"
   ]
  },
  {
   "cell_type": "markdown",
   "metadata": {
    "id": "sIfNaMOxgFyK"
   },
   "source": [
    "## Исследование данных о российском кинопрокате\n",
    "\n"
   ]
  },
  {
   "cell_type": "markdown",
   "metadata": {},
   "source": [
    "<b>Цель исследования:</b> Изучить рынок российского кинопроката и выявить текущие тренды. Уделите внимание фильмам, которые получили государственную поддержку. Попробовать ответить на вопрос, насколько такие фильмы интересны зрителю. \n",
    "\n",
    "<b>Ход исследования:</b> Данные берем из двух файлов: /datasets/mkrf_movies.csv и /datasets/mkrf_shows.csv. Так как про данные ничего не известно потребуется провести обзор и предобработку данных. Проверить данные на ошибки и пустые значения. А затем постараться исправить ошибки в данных, чтобы получить максимально достоверный результат.\n",
    "\n",
    "<b>Этапы исследования:</b>\n",
    "\n",
    "- Обзор данных;\n",
    "- Предобработка данных;\n",
    "- Расчеты и добавление новых столбцов;\n",
    "- Исследовательский анализ;\n",
    "- Общий вывод."
   ]
  },
  {
   "cell_type": "markdown",
   "metadata": {},
   "source": [
    "<div class=\"alert alert-warning\">\n",
    "    <h2> Комментарий ревьюера v1 <a class=\"tocSkip\"> </h2>\n",
    "    \n",
    "<b>Небольшие замечания и рекомендации💡:</b> Отлично) Было бы еще здорово добавить описание данных) "
   ]
  },
  {
   "cell_type": "markdown",
   "metadata": {
    "id": "3bSlkCsbgFyL"
   },
   "source": [
    "### Шаг 1. Откройте файлы с данными и объедините их в один датафрейм. \n",
    "\n",
    "Объедините данные таким образом, чтобы все объекты из датасета `mkrf_movies` обязательно вошли в получившийся датафрейм. \n",
    "\n",
    "<div id=\"accordion\">\n",
    "    <div class=\"card\">\n",
    "        <div class=\"card-header\" id=\"headingThree\">\n",
    "            <button class=\"btn btn-link collapsed\" data-toggle=\"collapse\" data-target=\"#collapseHint_0\" aria-expanded=\"false\" aria-controls=\"collapseHint_0\">Подсказка</button>\n",
    "        </div>\n",
    "        <div id=\"collapseHint_0\" class=\"collapse\" aria-labelledby=\"headingThree\" data-parent=\"#accordion\">\n",
    "            <div class=\"card-body\">\n",
    "Обратите внимание на тип данных столбца, по которому будете соединять датафреймы. Тип данных этих столбцов должен быть одинаковым в обоих датафреймах.\n",
    "            </div>\n",
    "        </div>\n",
    "    </div>\n",
    "</div>"
   ]
  },
  {
   "cell_type": "code",
   "execution_count": 112,
   "metadata": {
    "id": "dw87FlzMgFyM"
   },
   "outputs": [
    {
     "name": "stdout",
     "output_type": "stream",
     "text": [
      "<class 'pandas.core.frame.DataFrame'>\n",
      "RangeIndex: 7486 entries, 0 to 7485\n",
      "Data columns (total 15 columns):\n",
      " #   Column                 Non-Null Count  Dtype  \n",
      "---  ------                 --------------  -----  \n",
      " 0   title                  7486 non-null   object \n",
      " 1   puNumber               7486 non-null   object \n",
      " 2   show_start_date        7486 non-null   object \n",
      " 3   type                   7486 non-null   object \n",
      " 4   film_studio            7468 non-null   object \n",
      " 5   production_country     7484 non-null   object \n",
      " 6   director               7477 non-null   object \n",
      " 7   producer               6918 non-null   object \n",
      " 8   age_restriction        7486 non-null   object \n",
      " 9   refundable_support     332 non-null    float64\n",
      " 10  nonrefundable_support  332 non-null    float64\n",
      " 11  budget                 332 non-null    float64\n",
      " 12  financing_source       332 non-null    object \n",
      " 13  ratings                6519 non-null   object \n",
      " 14  genres                 6510 non-null   object \n",
      "dtypes: float64(3), object(12)\n",
      "memory usage: 877.4+ KB\n",
      "<class 'pandas.core.frame.DataFrame'>\n",
      "RangeIndex: 3158 entries, 0 to 3157\n",
      "Data columns (total 2 columns):\n",
      " #   Column      Non-Null Count  Dtype  \n",
      "---  ------      --------------  -----  \n",
      " 0   puNumber    3158 non-null   int64  \n",
      " 1   box_office  3158 non-null   float64\n",
      "dtypes: float64(1), int64(1)\n",
      "memory usage: 49.5 KB\n"
     ]
    }
   ],
   "source": [
    "import matplotlib.pyplot as plt\n",
    "import pylab as pl\n",
    "import pandas as pd\n",
    "\n",
    "try:\n",
    "    mkrf_movies = pd.read_csv('/datasets/mkrf_movies.csv', sep=',', skipinitialspace = True)\n",
    "    mkrf_shows = pd.read_csv('/datasets/mkrf_shows.csv', sep=',', skipinitialspace = True)\n",
    "except:\n",
    "    mkrf_movies = pd.read_csv('https://code.s3.yandex.net/datasets/mkrf_movies.csv', sep=',')\n",
    "    mkrf_shows = pd.read_csv('https://code.s3.yandex.net/datasets/mkrf_shows.csv', sep=',')\n",
    "\n",
    "mkrf_movies.info()\n",
    "mkrf_shows.info()"
   ]
  },
  {
   "cell_type": "markdown",
   "metadata": {},
   "source": [
    "Пержде чем объединить таблицы поменяем тип данных в столбце puNumber в mkrf_movies. Так как в этой таблице данные в столбце находятся в формате строки, а вот в mkrf_shows в числовом формате. Поэтому в первой таблице поменяем тип данных в столбце. При этом так как в столбце есть буквенное значение, сначала заменим его методом replace()."
   ]
  },
  {
   "cell_type": "code",
   "execution_count": 113,
   "metadata": {},
   "outputs": [],
   "source": [
    "mkrf_movies['puNumber'] = mkrf_movies['puNumber'].replace('нет','0')\n",
    "mkrf_movies['puNumber'] = mkrf_movies['puNumber'].astype('int')"
   ]
  },
  {
   "cell_type": "code",
   "execution_count": 114,
   "metadata": {},
   "outputs": [
    {
     "name": "stdout",
     "output_type": "stream",
     "text": [
      "<class 'pandas.core.frame.DataFrame'>\n",
      "RangeIndex: 7486 entries, 0 to 7485\n",
      "Data columns (total 15 columns):\n",
      " #   Column                 Non-Null Count  Dtype  \n",
      "---  ------                 --------------  -----  \n",
      " 0   title                  7486 non-null   object \n",
      " 1   puNumber               7486 non-null   int64  \n",
      " 2   show_start_date        7486 non-null   object \n",
      " 3   type                   7486 non-null   object \n",
      " 4   film_studio            7468 non-null   object \n",
      " 5   production_country     7484 non-null   object \n",
      " 6   director               7477 non-null   object \n",
      " 7   producer               6918 non-null   object \n",
      " 8   age_restriction        7486 non-null   object \n",
      " 9   refundable_support     332 non-null    float64\n",
      " 10  nonrefundable_support  332 non-null    float64\n",
      " 11  budget                 332 non-null    float64\n",
      " 12  financing_source       332 non-null    object \n",
      " 13  ratings                6519 non-null   object \n",
      " 14  genres                 6510 non-null   object \n",
      "dtypes: float64(3), int64(1), object(11)\n",
      "memory usage: 877.4+ KB\n"
     ]
    }
   ],
   "source": [
    "mkrf_movies.info()"
   ]
  },
  {
   "cell_type": "markdown",
   "metadata": {},
   "source": [
    "С помощью метода info() проверяем что тип данных был изменен не числовой. Значит можно приступать к объединению таблиц. Для этого будем использовать метод merge()"
   ]
  },
  {
   "cell_type": "code",
   "execution_count": 115,
   "metadata": {},
   "outputs": [
    {
     "name": "stdout",
     "output_type": "stream",
     "text": [
      "<class 'pandas.core.frame.DataFrame'>\n",
      "Int64Index: 7486 entries, 0 to 7485\n",
      "Data columns (total 16 columns):\n",
      " #   Column                 Non-Null Count  Dtype  \n",
      "---  ------                 --------------  -----  \n",
      " 0   title                  7486 non-null   object \n",
      " 1   puNumber               7486 non-null   int64  \n",
      " 2   show_start_date        7486 non-null   object \n",
      " 3   type                   7486 non-null   object \n",
      " 4   film_studio            7468 non-null   object \n",
      " 5   production_country     7484 non-null   object \n",
      " 6   director               7477 non-null   object \n",
      " 7   producer               6918 non-null   object \n",
      " 8   age_restriction        7486 non-null   object \n",
      " 9   refundable_support     332 non-null    float64\n",
      " 10  nonrefundable_support  332 non-null    float64\n",
      " 11  budget                 332 non-null    float64\n",
      " 12  financing_source       332 non-null    object \n",
      " 13  ratings                6519 non-null   object \n",
      " 14  genres                 6510 non-null   object \n",
      " 15  box_office             3158 non-null   float64\n",
      "dtypes: float64(4), int64(1), object(11)\n",
      "memory usage: 994.2+ KB\n"
     ]
    }
   ],
   "source": [
    "combined_data = mkrf_movies.merge(mkrf_shows, on = 'puNumber', how ='left')\n",
    "combined_data.info()"
   ]
  },
  {
   "cell_type": "markdown",
   "metadata": {},
   "source": [
    "После объединения так же проверяем что таблицы объединены и у нас в конце есть новый столбец box_office. А так же количество строк в этом столбце совпадает с тем что было во сторой таблице."
   ]
  },
  {
   "cell_type": "markdown",
   "metadata": {},
   "source": [
    "<div class=\"alert alert-success\">\n",
    "<h2> Комментарий ревьюера v1 <a class=\"tocSkip\"> </h2>\n",
    "\n",
    "<b>Все супер!👍:</b> Объединение выполнено максимально корректно. Молодец, что верно используешь параметр how"
   ]
  },
  {
   "cell_type": "markdown",
   "metadata": {
    "id": "KLDGpPG0gFyM"
   },
   "source": [
    "### Шаг 2. Предобработка данных"
   ]
  },
  {
   "cell_type": "markdown",
   "metadata": {
    "id": "ssWwKXsxgFyO"
   },
   "source": [
    "#### Шаг 2.1. Проверьте типы данных\n",
    "\n",
    "- Проверьте типы данных в датафрейме и преобразуйте их там, где это необходимо."
   ]
  },
  {
   "cell_type": "markdown",
   "metadata": {
    "id": "kVGSplJOgFyO"
   },
   "source": [
    "Еще раз пройдемся по типам данных, для этого посмотрим на информацию полученную методом info(). А так же выведем несколько срок методом head().\n",
    "Нам точно потребуется дата(show_start_date), поэтому ее нужно преобразовать в соответствующий формат и рейтинг фильма(ratings)"
   ]
  },
  {
   "cell_type": "code",
   "execution_count": 116,
   "metadata": {},
   "outputs": [
    {
     "data": {
      "text/html": [
       "<div>\n",
       "<style scoped>\n",
       "    .dataframe tbody tr th:only-of-type {\n",
       "        vertical-align: middle;\n",
       "    }\n",
       "\n",
       "    .dataframe tbody tr th {\n",
       "        vertical-align: top;\n",
       "    }\n",
       "\n",
       "    .dataframe thead th {\n",
       "        text-align: right;\n",
       "    }\n",
       "</style>\n",
       "<table border=\"1\" class=\"dataframe\">\n",
       "  <thead>\n",
       "    <tr style=\"text-align: right;\">\n",
       "      <th></th>\n",
       "      <th>title</th>\n",
       "      <th>puNumber</th>\n",
       "      <th>show_start_date</th>\n",
       "      <th>type</th>\n",
       "      <th>film_studio</th>\n",
       "      <th>production_country</th>\n",
       "      <th>director</th>\n",
       "      <th>producer</th>\n",
       "      <th>age_restriction</th>\n",
       "      <th>refundable_support</th>\n",
       "      <th>nonrefundable_support</th>\n",
       "      <th>budget</th>\n",
       "      <th>financing_source</th>\n",
       "      <th>ratings</th>\n",
       "      <th>genres</th>\n",
       "      <th>box_office</th>\n",
       "    </tr>\n",
       "  </thead>\n",
       "  <tbody>\n",
       "    <tr>\n",
       "      <th>0</th>\n",
       "      <td>Открытый простор</td>\n",
       "      <td>221048915</td>\n",
       "      <td>2015-11-27T12:00:00.000Z</td>\n",
       "      <td>Художественный</td>\n",
       "      <td>Тачстоун Пикчерз, Кобальт Пикчерз, Бикон Пикче...</td>\n",
       "      <td>США</td>\n",
       "      <td>Кевин Костнер</td>\n",
       "      <td>Дэвид Валдес, Кевин Костнер, Джейк Эбертс</td>\n",
       "      <td>«18+» - запрещено для детей</td>\n",
       "      <td>NaN</td>\n",
       "      <td>NaN</td>\n",
       "      <td>NaN</td>\n",
       "      <td>NaN</td>\n",
       "      <td>7.2</td>\n",
       "      <td>боевик,драма,мелодрама</td>\n",
       "      <td>NaN</td>\n",
       "    </tr>\n",
       "    <tr>\n",
       "      <th>1</th>\n",
       "      <td>Особо важное задание</td>\n",
       "      <td>111013716</td>\n",
       "      <td>2016-09-13T12:00:00.000Z</td>\n",
       "      <td>Художественный</td>\n",
       "      <td>Киностудия \"Мосфильм\"</td>\n",
       "      <td>СССР</td>\n",
       "      <td>Е.Матвеев</td>\n",
       "      <td>NaN</td>\n",
       "      <td>«6+» - для детей старше 6 лет</td>\n",
       "      <td>NaN</td>\n",
       "      <td>NaN</td>\n",
       "      <td>NaN</td>\n",
       "      <td>NaN</td>\n",
       "      <td>6.6</td>\n",
       "      <td>драма,военный</td>\n",
       "      <td>NaN</td>\n",
       "    </tr>\n",
       "    <tr>\n",
       "      <th>2</th>\n",
       "      <td>Особо опасен</td>\n",
       "      <td>221038416</td>\n",
       "      <td>2016-10-10T12:00:00.000Z</td>\n",
       "      <td>Художественный</td>\n",
       "      <td>Юниверсал Пикчерз, Кикстарт Продакшнз, Марк Пл...</td>\n",
       "      <td>США</td>\n",
       "      <td>Тимур Бекмамбетов</td>\n",
       "      <td>Джим Лемли, Джейсон Нетер, Марк Е.Платт, Яйн Смит</td>\n",
       "      <td>«18+» - запрещено для детей</td>\n",
       "      <td>NaN</td>\n",
       "      <td>NaN</td>\n",
       "      <td>NaN</td>\n",
       "      <td>NaN</td>\n",
       "      <td>6.8</td>\n",
       "      <td>фантастика,боевик,триллер</td>\n",
       "      <td>NaN</td>\n",
       "    </tr>\n",
       "    <tr>\n",
       "      <th>3</th>\n",
       "      <td>Особо опасен</td>\n",
       "      <td>221026916</td>\n",
       "      <td>2016-06-10T12:00:00.000Z</td>\n",
       "      <td>Художественный</td>\n",
       "      <td>Юниверсал Пикчерз, Кикстарт Продакшнз, Марк Пл...</td>\n",
       "      <td>США</td>\n",
       "      <td>Тимур Бекмамбетов</td>\n",
       "      <td>Джим Лемли, Джейсон Нетер, Марк Е.Платт, Яйн Смит</td>\n",
       "      <td>«18+» - запрещено для детей</td>\n",
       "      <td>NaN</td>\n",
       "      <td>NaN</td>\n",
       "      <td>NaN</td>\n",
       "      <td>NaN</td>\n",
       "      <td>6.8</td>\n",
       "      <td>фантастика,боевик,триллер</td>\n",
       "      <td>NaN</td>\n",
       "    </tr>\n",
       "    <tr>\n",
       "      <th>4</th>\n",
       "      <td>Особо опасен</td>\n",
       "      <td>221030815</td>\n",
       "      <td>2015-07-29T12:00:00.000Z</td>\n",
       "      <td>Художественный</td>\n",
       "      <td>Юниверсал Пикчерз, Кикстарт Продакшнз, Марк Пл...</td>\n",
       "      <td>США</td>\n",
       "      <td>Тимур Бекмамбетов</td>\n",
       "      <td>Джим Лемли, Джейсон Нетер, Марк Е.Платт, Яйн Смит</td>\n",
       "      <td>«18+» - запрещено для детей</td>\n",
       "      <td>NaN</td>\n",
       "      <td>NaN</td>\n",
       "      <td>NaN</td>\n",
       "      <td>NaN</td>\n",
       "      <td>6.8</td>\n",
       "      <td>фантастика,боевик,триллер</td>\n",
       "      <td>NaN</td>\n",
       "    </tr>\n",
       "  </tbody>\n",
       "</table>\n",
       "</div>"
      ],
      "text/plain": [
       "                  title   puNumber           show_start_date            type  \\\n",
       "0      Открытый простор  221048915  2015-11-27T12:00:00.000Z  Художественный   \n",
       "1  Особо важное задание  111013716  2016-09-13T12:00:00.000Z  Художественный   \n",
       "2          Особо опасен  221038416  2016-10-10T12:00:00.000Z  Художественный   \n",
       "3          Особо опасен  221026916  2016-06-10T12:00:00.000Z  Художественный   \n",
       "4          Особо опасен  221030815  2015-07-29T12:00:00.000Z  Художественный   \n",
       "\n",
       "                                         film_studio production_country  \\\n",
       "0  Тачстоун Пикчерз, Кобальт Пикчерз, Бикон Пикче...                США   \n",
       "1                              Киностудия \"Мосфильм\"               СССР   \n",
       "2  Юниверсал Пикчерз, Кикстарт Продакшнз, Марк Пл...                США   \n",
       "3  Юниверсал Пикчерз, Кикстарт Продакшнз, Марк Пл...                США   \n",
       "4  Юниверсал Пикчерз, Кикстарт Продакшнз, Марк Пл...                США   \n",
       "\n",
       "            director                                           producer  \\\n",
       "0      Кевин Костнер          Дэвид Валдес, Кевин Костнер, Джейк Эбертс   \n",
       "1          Е.Матвеев                                                NaN   \n",
       "2  Тимур Бекмамбетов  Джим Лемли, Джейсон Нетер, Марк Е.Платт, Яйн Смит   \n",
       "3  Тимур Бекмамбетов  Джим Лемли, Джейсон Нетер, Марк Е.Платт, Яйн Смит   \n",
       "4  Тимур Бекмамбетов  Джим Лемли, Джейсон Нетер, Марк Е.Платт, Яйн Смит   \n",
       "\n",
       "                 age_restriction  refundable_support  nonrefundable_support  \\\n",
       "0    «18+» - запрещено для детей                 NaN                    NaN   \n",
       "1  «6+» - для детей старше 6 лет                 NaN                    NaN   \n",
       "2    «18+» - запрещено для детей                 NaN                    NaN   \n",
       "3    «18+» - запрещено для детей                 NaN                    NaN   \n",
       "4    «18+» - запрещено для детей                 NaN                    NaN   \n",
       "\n",
       "   budget financing_source ratings                     genres  box_office  \n",
       "0     NaN              NaN     7.2     боевик,драма,мелодрама         NaN  \n",
       "1     NaN              NaN     6.6              драма,военный         NaN  \n",
       "2     NaN              NaN     6.8  фантастика,боевик,триллер         NaN  \n",
       "3     NaN              NaN     6.8  фантастика,боевик,триллер         NaN  \n",
       "4     NaN              NaN     6.8  фантастика,боевик,триллер         NaN  "
      ]
     },
     "execution_count": 116,
     "metadata": {},
     "output_type": "execute_result"
    }
   ],
   "source": [
    "combined_data.head(5)"
   ]
  },
  {
   "cell_type": "code",
   "execution_count": 117,
   "metadata": {},
   "outputs": [
    {
     "data": {
      "text/html": [
       "<style  type=\"text/css\" >\n",
       "#T_fc2ab_row0_col0,#T_fc2ab_row0_col1,#T_fc2ab_row1_col0,#T_fc2ab_row1_col1,#T_fc2ab_row2_col0,#T_fc2ab_row2_col1,#T_fc2ab_row3_col0,#T_fc2ab_row3_col1,#T_fc2ab_row4_col0,#T_fc2ab_row4_col1,#T_fc2ab_row5_col0,#T_fc2ab_row5_col1,#T_fc2ab_row6_col0,#T_fc2ab_row6_col1,#T_fc2ab_row8_col0,#T_fc2ab_row8_col1{\n",
       "            background-color:  #3b4cc0;\n",
       "            color:  #f1f1f1;\n",
       "        }#T_fc2ab_row7_col0,#T_fc2ab_row7_col1{\n",
       "            background-color:  #536edd;\n",
       "            color:  #000000;\n",
       "        }#T_fc2ab_row9_col0,#T_fc2ab_row9_col1,#T_fc2ab_row10_col0,#T_fc2ab_row10_col1,#T_fc2ab_row11_col0,#T_fc2ab_row11_col1,#T_fc2ab_row12_col0,#T_fc2ab_row12_col1{\n",
       "            background-color:  #b40426;\n",
       "            color:  #f1f1f1;\n",
       "        }#T_fc2ab_row13_col0,#T_fc2ab_row13_col1,#T_fc2ab_row14_col0,#T_fc2ab_row14_col1{\n",
       "            background-color:  #6485ec;\n",
       "            color:  #000000;\n",
       "        }#T_fc2ab_row15_col0,#T_fc2ab_row15_col1{\n",
       "            background-color:  #f2cab5;\n",
       "            color:  #000000;\n",
       "        }</style><table id=\"T_fc2ab_\" ><thead>    <tr>        <th class=\"blank level0\" ></th>        <th class=\"col_heading level0 col0\" >Количество пропусков</th>        <th class=\"col_heading level0 col1\" >% пропусков</th>    </tr></thead><tbody>\n",
       "                <tr>\n",
       "                        <th id=\"T_fc2ab_level0_row0\" class=\"row_heading level0 row0\" >title</th>\n",
       "                        <td id=\"T_fc2ab_row0_col0\" class=\"data row0 col0\" >0.00</td>\n",
       "                        <td id=\"T_fc2ab_row0_col1\" class=\"data row0 col1\" >0.00</td>\n",
       "            </tr>\n",
       "            <tr>\n",
       "                        <th id=\"T_fc2ab_level0_row1\" class=\"row_heading level0 row1\" >puNumber</th>\n",
       "                        <td id=\"T_fc2ab_row1_col0\" class=\"data row1 col0\" >0.00</td>\n",
       "                        <td id=\"T_fc2ab_row1_col1\" class=\"data row1 col1\" >0.00</td>\n",
       "            </tr>\n",
       "            <tr>\n",
       "                        <th id=\"T_fc2ab_level0_row2\" class=\"row_heading level0 row2\" >show_start_date</th>\n",
       "                        <td id=\"T_fc2ab_row2_col0\" class=\"data row2 col0\" >0.00</td>\n",
       "                        <td id=\"T_fc2ab_row2_col1\" class=\"data row2 col1\" >0.00</td>\n",
       "            </tr>\n",
       "            <tr>\n",
       "                        <th id=\"T_fc2ab_level0_row3\" class=\"row_heading level0 row3\" >type</th>\n",
       "                        <td id=\"T_fc2ab_row3_col0\" class=\"data row3 col0\" >0.00</td>\n",
       "                        <td id=\"T_fc2ab_row3_col1\" class=\"data row3 col1\" >0.00</td>\n",
       "            </tr>\n",
       "            <tr>\n",
       "                        <th id=\"T_fc2ab_level0_row4\" class=\"row_heading level0 row4\" >film_studio</th>\n",
       "                        <td id=\"T_fc2ab_row4_col0\" class=\"data row4 col0\" >18.00</td>\n",
       "                        <td id=\"T_fc2ab_row4_col1\" class=\"data row4 col1\" >0.24</td>\n",
       "            </tr>\n",
       "            <tr>\n",
       "                        <th id=\"T_fc2ab_level0_row5\" class=\"row_heading level0 row5\" >production_country</th>\n",
       "                        <td id=\"T_fc2ab_row5_col0\" class=\"data row5 col0\" >2.00</td>\n",
       "                        <td id=\"T_fc2ab_row5_col1\" class=\"data row5 col1\" >0.03</td>\n",
       "            </tr>\n",
       "            <tr>\n",
       "                        <th id=\"T_fc2ab_level0_row6\" class=\"row_heading level0 row6\" >director</th>\n",
       "                        <td id=\"T_fc2ab_row6_col0\" class=\"data row6 col0\" >9.00</td>\n",
       "                        <td id=\"T_fc2ab_row6_col1\" class=\"data row6 col1\" >0.12</td>\n",
       "            </tr>\n",
       "            <tr>\n",
       "                        <th id=\"T_fc2ab_level0_row7\" class=\"row_heading level0 row7\" >producer</th>\n",
       "                        <td id=\"T_fc2ab_row7_col0\" class=\"data row7 col0\" >568.00</td>\n",
       "                        <td id=\"T_fc2ab_row7_col1\" class=\"data row7 col1\" >7.59</td>\n",
       "            </tr>\n",
       "            <tr>\n",
       "                        <th id=\"T_fc2ab_level0_row8\" class=\"row_heading level0 row8\" >age_restriction</th>\n",
       "                        <td id=\"T_fc2ab_row8_col0\" class=\"data row8 col0\" >0.00</td>\n",
       "                        <td id=\"T_fc2ab_row8_col1\" class=\"data row8 col1\" >0.00</td>\n",
       "            </tr>\n",
       "            <tr>\n",
       "                        <th id=\"T_fc2ab_level0_row9\" class=\"row_heading level0 row9\" >refundable_support</th>\n",
       "                        <td id=\"T_fc2ab_row9_col0\" class=\"data row9 col0\" >7154.00</td>\n",
       "                        <td id=\"T_fc2ab_row9_col1\" class=\"data row9 col1\" >95.57</td>\n",
       "            </tr>\n",
       "            <tr>\n",
       "                        <th id=\"T_fc2ab_level0_row10\" class=\"row_heading level0 row10\" >nonrefundable_support</th>\n",
       "                        <td id=\"T_fc2ab_row10_col0\" class=\"data row10 col0\" >7154.00</td>\n",
       "                        <td id=\"T_fc2ab_row10_col1\" class=\"data row10 col1\" >95.57</td>\n",
       "            </tr>\n",
       "            <tr>\n",
       "                        <th id=\"T_fc2ab_level0_row11\" class=\"row_heading level0 row11\" >budget</th>\n",
       "                        <td id=\"T_fc2ab_row11_col0\" class=\"data row11 col0\" >7154.00</td>\n",
       "                        <td id=\"T_fc2ab_row11_col1\" class=\"data row11 col1\" >95.57</td>\n",
       "            </tr>\n",
       "            <tr>\n",
       "                        <th id=\"T_fc2ab_level0_row12\" class=\"row_heading level0 row12\" >financing_source</th>\n",
       "                        <td id=\"T_fc2ab_row12_col0\" class=\"data row12 col0\" >7154.00</td>\n",
       "                        <td id=\"T_fc2ab_row12_col1\" class=\"data row12 col1\" >95.57</td>\n",
       "            </tr>\n",
       "            <tr>\n",
       "                        <th id=\"T_fc2ab_level0_row13\" class=\"row_heading level0 row13\" >ratings</th>\n",
       "                        <td id=\"T_fc2ab_row13_col0\" class=\"data row13 col0\" >967.00</td>\n",
       "                        <td id=\"T_fc2ab_row13_col1\" class=\"data row13 col1\" >12.92</td>\n",
       "            </tr>\n",
       "            <tr>\n",
       "                        <th id=\"T_fc2ab_level0_row14\" class=\"row_heading level0 row14\" >genres</th>\n",
       "                        <td id=\"T_fc2ab_row14_col0\" class=\"data row14 col0\" >976.00</td>\n",
       "                        <td id=\"T_fc2ab_row14_col1\" class=\"data row14 col1\" >13.04</td>\n",
       "            </tr>\n",
       "            <tr>\n",
       "                        <th id=\"T_fc2ab_level0_row15\" class=\"row_heading level0 row15\" >box_office</th>\n",
       "                        <td id=\"T_fc2ab_row15_col0\" class=\"data row15 col0\" >4328.00</td>\n",
       "                        <td id=\"T_fc2ab_row15_col1\" class=\"data row15 col1\" >57.81</td>\n",
       "            </tr>\n",
       "    </tbody></table>"
      ],
      "text/plain": [
       "<pandas.io.formats.style.Styler at 0x7f16a7ed5280>"
      ]
     },
     "metadata": {},
     "output_type": "display_data"
    }
   ],
   "source": [
    "na = combined_data.isna().sum()\n",
    "na_perc = round(combined_data.isna().mean()*100,2)\n",
    "display(pd.DataFrame({'Количество пропусков':na,'% пропусков':na_perc}).style.format('{:.2f}').background_gradient('coolwarm'))"
   ]
  },
  {
   "cell_type": "code",
   "execution_count": 118,
   "metadata": {},
   "outputs": [
    {
     "data": {
      "text/html": [
       "<div>\n",
       "<style scoped>\n",
       "    .dataframe tbody tr th:only-of-type {\n",
       "        vertical-align: middle;\n",
       "    }\n",
       "\n",
       "    .dataframe tbody tr th {\n",
       "        vertical-align: top;\n",
       "    }\n",
       "\n",
       "    .dataframe thead th {\n",
       "        text-align: right;\n",
       "    }\n",
       "</style>\n",
       "<table border=\"1\" class=\"dataframe\">\n",
       "  <thead>\n",
       "    <tr style=\"text-align: right;\">\n",
       "      <th></th>\n",
       "      <th>title</th>\n",
       "      <th>puNumber</th>\n",
       "      <th>show_start_date</th>\n",
       "      <th>type</th>\n",
       "      <th>film_studio</th>\n",
       "      <th>production_country</th>\n",
       "      <th>director</th>\n",
       "      <th>producer</th>\n",
       "      <th>age_restriction</th>\n",
       "      <th>refundable_support</th>\n",
       "      <th>nonrefundable_support</th>\n",
       "      <th>budget</th>\n",
       "      <th>financing_source</th>\n",
       "      <th>ratings</th>\n",
       "      <th>genres</th>\n",
       "      <th>box_office</th>\n",
       "    </tr>\n",
       "  </thead>\n",
       "  <tbody>\n",
       "    <tr>\n",
       "      <th>259</th>\n",
       "      <td>Прошлое</td>\n",
       "      <td>221030715</td>\n",
       "      <td>2015-07-29 12:00:00+00:00</td>\n",
       "      <td>Художественный</td>\n",
       "      <td>20 Сенчюри Фокс де Архентина, Чемо, ЭйчБи Филм...</td>\n",
       "      <td>Аргентина - Бразилия</td>\n",
       "      <td>Эктор Бабенко</td>\n",
       "      <td>Эктор Бабенко, Оскар Крамер, Хуго Сидмэн</td>\n",
       "      <td>«16+» - для детей старше 16 лет</td>\n",
       "      <td>NaN</td>\n",
       "      <td>NaN</td>\n",
       "      <td>NaN</td>\n",
       "      <td>NaN</td>\n",
       "      <td>99%</td>\n",
       "      <td>ужасы,триллер,драма</td>\n",
       "      <td>NaN</td>\n",
       "    </tr>\n",
       "    <tr>\n",
       "      <th>1341</th>\n",
       "      <td>Сказка о добре и Вре</td>\n",
       "      <td>111008913</td>\n",
       "      <td>2013-11-15 12:00:00+00:00</td>\n",
       "      <td>Художественный</td>\n",
       "      <td>НП \"Студия игрового кино \"Лик\"</td>\n",
       "      <td>Россия</td>\n",
       "      <td>Е.Шиляева</td>\n",
       "      <td>К.Терещенко</td>\n",
       "      <td>«6+» - для детей старше 6 лет</td>\n",
       "      <td>NaN</td>\n",
       "      <td>NaN</td>\n",
       "      <td>NaN</td>\n",
       "      <td>NaN</td>\n",
       "      <td>99%</td>\n",
       "      <td>триллер,драма,детектив</td>\n",
       "      <td>NaN</td>\n",
       "    </tr>\n",
       "    <tr>\n",
       "      <th>1805</th>\n",
       "      <td>Спираль.</td>\n",
       "      <td>111001014</td>\n",
       "      <td>2014-01-30 12:00:00+00:00</td>\n",
       "      <td>Художественный</td>\n",
       "      <td>ООО \"Компания Питон\"</td>\n",
       "      <td>Россия</td>\n",
       "      <td>А.Волгин</td>\n",
       "      <td>Е.Ковалева</td>\n",
       "      <td>«12+» - для детей старше 12 лет</td>\n",
       "      <td>NaN</td>\n",
       "      <td>NaN</td>\n",
       "      <td>NaN</td>\n",
       "      <td>NaN</td>\n",
       "      <td>99%</td>\n",
       "      <td>аниме,мультфильм,ужасы</td>\n",
       "      <td>4295.0</td>\n",
       "    </tr>\n",
       "    <tr>\n",
       "      <th>6882</th>\n",
       "      <td>Животные рядом со Святыми</td>\n",
       "      <td>112003719</td>\n",
       "      <td>2019-05-03 12:00:00+00:00</td>\n",
       "      <td>Документальный</td>\n",
       "      <td>ООО \"Кинопрограмма \"XXI век\"</td>\n",
       "      <td>Россия</td>\n",
       "      <td>Т.Мирошник</td>\n",
       "      <td>В.Есинов, Е.Калинина</td>\n",
       "      <td>«0+» - для любой зрительской аудитории</td>\n",
       "      <td>NaN</td>\n",
       "      <td>NaN</td>\n",
       "      <td>NaN</td>\n",
       "      <td>NaN</td>\n",
       "      <td>99%</td>\n",
       "      <td>криминал,драма</td>\n",
       "      <td>NaN</td>\n",
       "    </tr>\n",
       "  </tbody>\n",
       "</table>\n",
       "</div>"
      ],
      "text/plain": [
       "                          title   puNumber           show_start_date  \\\n",
       "259                     Прошлое  221030715 2015-07-29 12:00:00+00:00   \n",
       "1341       Сказка о добре и Вре  111008913 2013-11-15 12:00:00+00:00   \n",
       "1805                   Спираль.  111001014 2014-01-30 12:00:00+00:00   \n",
       "6882  Животные рядом со Святыми  112003719 2019-05-03 12:00:00+00:00   \n",
       "\n",
       "                type                                        film_studio  \\\n",
       "259   Художественный  20 Сенчюри Фокс де Архентина, Чемо, ЭйчБи Филм...   \n",
       "1341  Художественный                     НП \"Студия игрового кино \"Лик\"   \n",
       "1805  Художественный                               ООО \"Компания Питон\"   \n",
       "6882  Документальный                       ООО \"Кинопрограмма \"XXI век\"   \n",
       "\n",
       "        production_country       director  \\\n",
       "259   Аргентина - Бразилия  Эктор Бабенко   \n",
       "1341                Россия      Е.Шиляева   \n",
       "1805                Россия       А.Волгин   \n",
       "6882                Россия     Т.Мирошник   \n",
       "\n",
       "                                      producer  \\\n",
       "259   Эктор Бабенко, Оскар Крамер, Хуго Сидмэн   \n",
       "1341                               К.Терещенко   \n",
       "1805                                Е.Ковалева   \n",
       "6882                      В.Есинов, Е.Калинина   \n",
       "\n",
       "                             age_restriction  refundable_support  \\\n",
       "259          «16+» - для детей старше 16 лет                 NaN   \n",
       "1341           «6+» - для детей старше 6 лет                 NaN   \n",
       "1805         «12+» - для детей старше 12 лет                 NaN   \n",
       "6882  «0+» - для любой зрительской аудитории                 NaN   \n",
       "\n",
       "      nonrefundable_support  budget financing_source ratings  \\\n",
       "259                     NaN     NaN              NaN     99%   \n",
       "1341                    NaN     NaN              NaN     99%   \n",
       "1805                    NaN     NaN              NaN     99%   \n",
       "6882                    NaN     NaN              NaN     99%   \n",
       "\n",
       "                      genres  box_office  \n",
       "259      ужасы,триллер,драма         NaN  \n",
       "1341  триллер,драма,детектив         NaN  \n",
       "1805  аниме,мультфильм,ужасы      4295.0  \n",
       "6882          криминал,драма         NaN  "
      ]
     },
     "execution_count": 118,
     "metadata": {},
     "output_type": "execute_result"
    }
   ],
   "source": [
    "combined_data['show_start_date'] = pd.to_datetime(combined_data['show_start_date'], format = '%Y-%m-%dT%H:%M:%S')\n",
    "\n",
    "combined_data['ratings'] = combined_data['ratings'].fillna('0')\n",
    "\n",
    "combined_data.loc[combined_data['ratings'] == '99%']"
   ]
  },
  {
   "cell_type": "markdown",
   "metadata": {},
   "source": [
    "Дату преобразуем из строки в дататайм с помощью метода to_datetime(). А вот с о столбцом рейтинг будет сложнее, так как в столбце есть пропуски в  виде значений nan, а так же значения введенные в виде процентов. Поэтому выше вывел для наглядности количество и % пропусков во всех столбцах. Но так как в рейтинге пропусков почти 13% просто удалить строки будет не верно. Поэтому пропуски на данно этапе зменяю на 0. А затем с помощью двух циклов убираю % значения. В первом убираю занк %, а во втором все значения что больше 10 делю на 10 соответственно, чтобы получить оценку сопоставимую с остальными."
   ]
  },
  {
   "cell_type": "code",
   "execution_count": 119,
   "metadata": {},
   "outputs": [],
   "source": [
    "for t in combined_data['ratings']:\n",
    "    if '%' in t:\n",
    "        combined_data.loc[combined_data['ratings'] == t, 'ratings'] = t.replace('%','')\n",
    "combined_data['ratings'] = combined_data['ratings'].astype('float')\n",
    "for t in combined_data['ratings']:\n",
    "    if t > 10:\n",
    "        combined_data.loc[combined_data['ratings'] == t, 'ratings'] = t/10"
   ]
  },
  {
   "cell_type": "code",
   "execution_count": 120,
   "metadata": {},
   "outputs": [
    {
     "data": {
      "text/plain": [
       "title                                 Животные рядом со Святыми\n",
       "puNumber                                              112003719\n",
       "show_start_date                       2019-05-03 12:00:00+00:00\n",
       "type                                             Документальный\n",
       "film_studio                        ООО \"Кинопрограмма \"XXI век\"\n",
       "production_country                                       Россия\n",
       "director                                             Т.Мирошник\n",
       "producer                                   В.Есинов, Е.Калинина\n",
       "age_restriction          «0+» - для любой зрительской аудитории\n",
       "refundable_support                                          NaN\n",
       "nonrefundable_support                                       NaN\n",
       "budget                                                      NaN\n",
       "financing_source                                            NaN\n",
       "ratings                                                     9.9\n",
       "genres                                           криминал,драма\n",
       "box_office                                                  NaN\n",
       "Name: 6882, dtype: object"
      ]
     },
     "execution_count": 120,
     "metadata": {},
     "output_type": "execute_result"
    }
   ],
   "source": [
    "combined_data.loc[6882]"
   ]
  },
  {
   "cell_type": "markdown",
   "metadata": {},
   "source": [
    "Для проверки вывожу 259 строку. Видим что все рпобразования прошли верно. Можно двигаться дальше."
   ]
  },
  {
   "cell_type": "markdown",
   "metadata": {},
   "source": [
    "<div class=\"alert alert-success\">\n",
    "<h2> Комментарий ревьюера v1 <a class=\"tocSkip\"> </h2>\n",
    "\n",
    "<b>Все супер!👍:</b> Супер, согласен) "
   ]
  },
  {
   "cell_type": "markdown",
   "metadata": {
    "id": "i0MOLbF-gFyP"
   },
   "source": [
    "#### Шаг 2.2. Изучите пропуски в датафрейме\n",
    "\n",
    "- Объясните, почему заполнили пропуски определённым образом или почему не стали этого делать."
   ]
  },
  {
   "cell_type": "markdown",
   "metadata": {
    "id": "8MJD_lkngFyP"
   },
   "source": [
    "Еще раз выведем сумму и % пропусков в таблице."
   ]
  },
  {
   "cell_type": "code",
   "execution_count": 121,
   "metadata": {},
   "outputs": [
    {
     "data": {
      "text/html": [
       "<style  type=\"text/css\" >\n",
       "#T_47a9c_row0_col0,#T_47a9c_row0_col1,#T_47a9c_row1_col0,#T_47a9c_row1_col1,#T_47a9c_row2_col0,#T_47a9c_row2_col1,#T_47a9c_row3_col0,#T_47a9c_row3_col1,#T_47a9c_row4_col0,#T_47a9c_row4_col1,#T_47a9c_row5_col0,#T_47a9c_row5_col1,#T_47a9c_row6_col0,#T_47a9c_row6_col1,#T_47a9c_row7_col0,#T_47a9c_row7_col1,#T_47a9c_row8_col0,#T_47a9c_row8_col1{\n",
       "            background-color:  #3b4cc0;\n",
       "            color:  #f1f1f1;\n",
       "        }#T_47a9c_row9_col0,#T_47a9c_row9_col1{\n",
       "            background-color:  #536edd;\n",
       "            color:  #000000;\n",
       "        }#T_47a9c_row10_col0,#T_47a9c_row10_col1{\n",
       "            background-color:  #6485ec;\n",
       "            color:  #000000;\n",
       "        }#T_47a9c_row11_col0,#T_47a9c_row11_col1{\n",
       "            background-color:  #f2cab5;\n",
       "            color:  #000000;\n",
       "        }#T_47a9c_row12_col0,#T_47a9c_row12_col1,#T_47a9c_row13_col0,#T_47a9c_row13_col1,#T_47a9c_row14_col0,#T_47a9c_row14_col1,#T_47a9c_row15_col0,#T_47a9c_row15_col1{\n",
       "            background-color:  #b40426;\n",
       "            color:  #f1f1f1;\n",
       "        }</style><table id=\"T_47a9c_\" ><thead>    <tr>        <th class=\"blank level0\" ></th>        <th class=\"col_heading level0 col0\" >Количество пропусков</th>        <th class=\"col_heading level0 col1\" >% пропусков</th>    </tr></thead><tbody>\n",
       "                <tr>\n",
       "                        <th id=\"T_47a9c_level0_row0\" class=\"row_heading level0 row0\" >title</th>\n",
       "                        <td id=\"T_47a9c_row0_col0\" class=\"data row0 col0\" >0.00</td>\n",
       "                        <td id=\"T_47a9c_row0_col1\" class=\"data row0 col1\" >0.00</td>\n",
       "            </tr>\n",
       "            <tr>\n",
       "                        <th id=\"T_47a9c_level0_row1\" class=\"row_heading level0 row1\" >puNumber</th>\n",
       "                        <td id=\"T_47a9c_row1_col0\" class=\"data row1 col0\" >0.00</td>\n",
       "                        <td id=\"T_47a9c_row1_col1\" class=\"data row1 col1\" >0.00</td>\n",
       "            </tr>\n",
       "            <tr>\n",
       "                        <th id=\"T_47a9c_level0_row2\" class=\"row_heading level0 row2\" >show_start_date</th>\n",
       "                        <td id=\"T_47a9c_row2_col0\" class=\"data row2 col0\" >0.00</td>\n",
       "                        <td id=\"T_47a9c_row2_col1\" class=\"data row2 col1\" >0.00</td>\n",
       "            </tr>\n",
       "            <tr>\n",
       "                        <th id=\"T_47a9c_level0_row3\" class=\"row_heading level0 row3\" >type</th>\n",
       "                        <td id=\"T_47a9c_row3_col0\" class=\"data row3 col0\" >0.00</td>\n",
       "                        <td id=\"T_47a9c_row3_col1\" class=\"data row3 col1\" >0.00</td>\n",
       "            </tr>\n",
       "            <tr>\n",
       "                        <th id=\"T_47a9c_level0_row4\" class=\"row_heading level0 row4\" >age_restriction</th>\n",
       "                        <td id=\"T_47a9c_row4_col0\" class=\"data row4 col0\" >0.00</td>\n",
       "                        <td id=\"T_47a9c_row4_col1\" class=\"data row4 col1\" >0.00</td>\n",
       "            </tr>\n",
       "            <tr>\n",
       "                        <th id=\"T_47a9c_level0_row5\" class=\"row_heading level0 row5\" >ratings</th>\n",
       "                        <td id=\"T_47a9c_row5_col0\" class=\"data row5 col0\" >0.00</td>\n",
       "                        <td id=\"T_47a9c_row5_col1\" class=\"data row5 col1\" >0.00</td>\n",
       "            </tr>\n",
       "            <tr>\n",
       "                        <th id=\"T_47a9c_level0_row6\" class=\"row_heading level0 row6\" >production_country</th>\n",
       "                        <td id=\"T_47a9c_row6_col0\" class=\"data row6 col0\" >2.00</td>\n",
       "                        <td id=\"T_47a9c_row6_col1\" class=\"data row6 col1\" >0.03</td>\n",
       "            </tr>\n",
       "            <tr>\n",
       "                        <th id=\"T_47a9c_level0_row7\" class=\"row_heading level0 row7\" >director</th>\n",
       "                        <td id=\"T_47a9c_row7_col0\" class=\"data row7 col0\" >9.00</td>\n",
       "                        <td id=\"T_47a9c_row7_col1\" class=\"data row7 col1\" >0.12</td>\n",
       "            </tr>\n",
       "            <tr>\n",
       "                        <th id=\"T_47a9c_level0_row8\" class=\"row_heading level0 row8\" >film_studio</th>\n",
       "                        <td id=\"T_47a9c_row8_col0\" class=\"data row8 col0\" >18.00</td>\n",
       "                        <td id=\"T_47a9c_row8_col1\" class=\"data row8 col1\" >0.24</td>\n",
       "            </tr>\n",
       "            <tr>\n",
       "                        <th id=\"T_47a9c_level0_row9\" class=\"row_heading level0 row9\" >producer</th>\n",
       "                        <td id=\"T_47a9c_row9_col0\" class=\"data row9 col0\" >568.00</td>\n",
       "                        <td id=\"T_47a9c_row9_col1\" class=\"data row9 col1\" >7.59</td>\n",
       "            </tr>\n",
       "            <tr>\n",
       "                        <th id=\"T_47a9c_level0_row10\" class=\"row_heading level0 row10\" >genres</th>\n",
       "                        <td id=\"T_47a9c_row10_col0\" class=\"data row10 col0\" >976.00</td>\n",
       "                        <td id=\"T_47a9c_row10_col1\" class=\"data row10 col1\" >13.04</td>\n",
       "            </tr>\n",
       "            <tr>\n",
       "                        <th id=\"T_47a9c_level0_row11\" class=\"row_heading level0 row11\" >box_office</th>\n",
       "                        <td id=\"T_47a9c_row11_col0\" class=\"data row11 col0\" >4328.00</td>\n",
       "                        <td id=\"T_47a9c_row11_col1\" class=\"data row11 col1\" >57.81</td>\n",
       "            </tr>\n",
       "            <tr>\n",
       "                        <th id=\"T_47a9c_level0_row12\" class=\"row_heading level0 row12\" >refundable_support</th>\n",
       "                        <td id=\"T_47a9c_row12_col0\" class=\"data row12 col0\" >7154.00</td>\n",
       "                        <td id=\"T_47a9c_row12_col1\" class=\"data row12 col1\" >95.57</td>\n",
       "            </tr>\n",
       "            <tr>\n",
       "                        <th id=\"T_47a9c_level0_row13\" class=\"row_heading level0 row13\" >nonrefundable_support</th>\n",
       "                        <td id=\"T_47a9c_row13_col0\" class=\"data row13 col0\" >7154.00</td>\n",
       "                        <td id=\"T_47a9c_row13_col1\" class=\"data row13 col1\" >95.57</td>\n",
       "            </tr>\n",
       "            <tr>\n",
       "                        <th id=\"T_47a9c_level0_row14\" class=\"row_heading level0 row14\" >budget</th>\n",
       "                        <td id=\"T_47a9c_row14_col0\" class=\"data row14 col0\" >7154.00</td>\n",
       "                        <td id=\"T_47a9c_row14_col1\" class=\"data row14 col1\" >95.57</td>\n",
       "            </tr>\n",
       "            <tr>\n",
       "                        <th id=\"T_47a9c_level0_row15\" class=\"row_heading level0 row15\" >financing_source</th>\n",
       "                        <td id=\"T_47a9c_row15_col0\" class=\"data row15 col0\" >7154.00</td>\n",
       "                        <td id=\"T_47a9c_row15_col1\" class=\"data row15 col1\" >95.57</td>\n",
       "            </tr>\n",
       "    </tbody></table>"
      ],
      "text/plain": [
       "<pandas.io.formats.style.Styler at 0x7f16a7f3dd90>"
      ]
     },
     "metadata": {},
     "output_type": "display_data"
    }
   ],
   "source": [
    "na = combined_data.isna().sum().sort_values()\n",
    "na_perc = round(combined_data.isna().mean()*100,2).sort_values()\n",
    "display(pd.DataFrame({'Количество пропусков':na,'% пропусков':na_perc}).style.format('{:.2f}').background_gradient('coolwarm'))"
   ]
  },
  {
   "cell_type": "markdown",
   "metadata": {},
   "source": [
    "В столбцах film_studio, production_country и director пропусков менее 5% поэтому такие строки просто удаляем."
   ]
  },
  {
   "cell_type": "markdown",
   "metadata": {},
   "source": [
    "<div class=\"alert alert-warning\">\n",
    "    <h2> Комментарий ревьюера v1 <a class=\"tocSkip\"> </h2>\n",
    "    \n",
    "<b>Небольшие замечания и рекомендации💡:</b> Было бы нагляднее отстортировать) "
   ]
  },
  {
   "cell_type": "code",
   "execution_count": 122,
   "metadata": {},
   "outputs": [],
   "source": [
    "combined_data.dropna(subset = ['film_studio', 'production_country', 'director'], inplace = True)"
   ]
  },
  {
   "cell_type": "code",
   "execution_count": 123,
   "metadata": {},
   "outputs": [
    {
     "data": {
      "text/html": [
       "<style  type=\"text/css\" >\n",
       "#T_c891f_row0_col0,#T_c891f_row0_col1,#T_c891f_row1_col0,#T_c891f_row1_col1,#T_c891f_row2_col0,#T_c891f_row2_col1,#T_c891f_row3_col0,#T_c891f_row3_col1,#T_c891f_row4_col0,#T_c891f_row4_col1,#T_c891f_row5_col0,#T_c891f_row5_col1,#T_c891f_row6_col0,#T_c891f_row6_col1,#T_c891f_row8_col0,#T_c891f_row8_col1,#T_c891f_row13_col0,#T_c891f_row13_col1{\n",
       "            background-color:  #3b4cc0;\n",
       "            color:  #f1f1f1;\n",
       "        }#T_c891f_row7_col0,#T_c891f_row7_col1{\n",
       "            background-color:  #536edd;\n",
       "            color:  #000000;\n",
       "        }#T_c891f_row9_col0,#T_c891f_row9_col1,#T_c891f_row10_col0,#T_c891f_row10_col1,#T_c891f_row11_col0,#T_c891f_row11_col1,#T_c891f_row12_col0,#T_c891f_row12_col1{\n",
       "            background-color:  #b40426;\n",
       "            color:  #f1f1f1;\n",
       "        }#T_c891f_row14_col0,#T_c891f_row14_col1{\n",
       "            background-color:  #6485ec;\n",
       "            color:  #000000;\n",
       "        }#T_c891f_row15_col0,#T_c891f_row15_col1{\n",
       "            background-color:  #f2cab5;\n",
       "            color:  #000000;\n",
       "        }</style><table id=\"T_c891f_\" ><thead>    <tr>        <th class=\"blank level0\" ></th>        <th class=\"col_heading level0 col0\" >Количество пропусков</th>        <th class=\"col_heading level0 col1\" >% пропусков</th>    </tr></thead><tbody>\n",
       "                <tr>\n",
       "                        <th id=\"T_c891f_level0_row0\" class=\"row_heading level0 row0\" >title</th>\n",
       "                        <td id=\"T_c891f_row0_col0\" class=\"data row0 col0\" >0.00</td>\n",
       "                        <td id=\"T_c891f_row0_col1\" class=\"data row0 col1\" >0.00</td>\n",
       "            </tr>\n",
       "            <tr>\n",
       "                        <th id=\"T_c891f_level0_row1\" class=\"row_heading level0 row1\" >puNumber</th>\n",
       "                        <td id=\"T_c891f_row1_col0\" class=\"data row1 col0\" >0.00</td>\n",
       "                        <td id=\"T_c891f_row1_col1\" class=\"data row1 col1\" >0.00</td>\n",
       "            </tr>\n",
       "            <tr>\n",
       "                        <th id=\"T_c891f_level0_row2\" class=\"row_heading level0 row2\" >show_start_date</th>\n",
       "                        <td id=\"T_c891f_row2_col0\" class=\"data row2 col0\" >0.00</td>\n",
       "                        <td id=\"T_c891f_row2_col1\" class=\"data row2 col1\" >0.00</td>\n",
       "            </tr>\n",
       "            <tr>\n",
       "                        <th id=\"T_c891f_level0_row3\" class=\"row_heading level0 row3\" >type</th>\n",
       "                        <td id=\"T_c891f_row3_col0\" class=\"data row3 col0\" >0.00</td>\n",
       "                        <td id=\"T_c891f_row3_col1\" class=\"data row3 col1\" >0.00</td>\n",
       "            </tr>\n",
       "            <tr>\n",
       "                        <th id=\"T_c891f_level0_row4\" class=\"row_heading level0 row4\" >film_studio</th>\n",
       "                        <td id=\"T_c891f_row4_col0\" class=\"data row4 col0\" >0.00</td>\n",
       "                        <td id=\"T_c891f_row4_col1\" class=\"data row4 col1\" >0.00</td>\n",
       "            </tr>\n",
       "            <tr>\n",
       "                        <th id=\"T_c891f_level0_row5\" class=\"row_heading level0 row5\" >production_country</th>\n",
       "                        <td id=\"T_c891f_row5_col0\" class=\"data row5 col0\" >0.00</td>\n",
       "                        <td id=\"T_c891f_row5_col1\" class=\"data row5 col1\" >0.00</td>\n",
       "            </tr>\n",
       "            <tr>\n",
       "                        <th id=\"T_c891f_level0_row6\" class=\"row_heading level0 row6\" >director</th>\n",
       "                        <td id=\"T_c891f_row6_col0\" class=\"data row6 col0\" >0.00</td>\n",
       "                        <td id=\"T_c891f_row6_col1\" class=\"data row6 col1\" >0.00</td>\n",
       "            </tr>\n",
       "            <tr>\n",
       "                        <th id=\"T_c891f_level0_row7\" class=\"row_heading level0 row7\" >producer</th>\n",
       "                        <td id=\"T_c891f_row7_col0\" class=\"data row7 col0\" >564.00</td>\n",
       "                        <td id=\"T_c891f_row7_col1\" class=\"data row7 col1\" >7.56</td>\n",
       "            </tr>\n",
       "            <tr>\n",
       "                        <th id=\"T_c891f_level0_row8\" class=\"row_heading level0 row8\" >age_restriction</th>\n",
       "                        <td id=\"T_c891f_row8_col0\" class=\"data row8 col0\" >0.00</td>\n",
       "                        <td id=\"T_c891f_row8_col1\" class=\"data row8 col1\" >0.00</td>\n",
       "            </tr>\n",
       "            <tr>\n",
       "                        <th id=\"T_c891f_level0_row9\" class=\"row_heading level0 row9\" >refundable_support</th>\n",
       "                        <td id=\"T_c891f_row9_col0\" class=\"data row9 col0\" >7127.00</td>\n",
       "                        <td id=\"T_c891f_row9_col1\" class=\"data row9 col1\" >95.55</td>\n",
       "            </tr>\n",
       "            <tr>\n",
       "                        <th id=\"T_c891f_level0_row10\" class=\"row_heading level0 row10\" >nonrefundable_support</th>\n",
       "                        <td id=\"T_c891f_row10_col0\" class=\"data row10 col0\" >7127.00</td>\n",
       "                        <td id=\"T_c891f_row10_col1\" class=\"data row10 col1\" >95.55</td>\n",
       "            </tr>\n",
       "            <tr>\n",
       "                        <th id=\"T_c891f_level0_row11\" class=\"row_heading level0 row11\" >budget</th>\n",
       "                        <td id=\"T_c891f_row11_col0\" class=\"data row11 col0\" >7127.00</td>\n",
       "                        <td id=\"T_c891f_row11_col1\" class=\"data row11 col1\" >95.55</td>\n",
       "            </tr>\n",
       "            <tr>\n",
       "                        <th id=\"T_c891f_level0_row12\" class=\"row_heading level0 row12\" >financing_source</th>\n",
       "                        <td id=\"T_c891f_row12_col0\" class=\"data row12 col0\" >7127.00</td>\n",
       "                        <td id=\"T_c891f_row12_col1\" class=\"data row12 col1\" >95.55</td>\n",
       "            </tr>\n",
       "            <tr>\n",
       "                        <th id=\"T_c891f_level0_row13\" class=\"row_heading level0 row13\" >ratings</th>\n",
       "                        <td id=\"T_c891f_row13_col0\" class=\"data row13 col0\" >0.00</td>\n",
       "                        <td id=\"T_c891f_row13_col1\" class=\"data row13 col1\" >0.00</td>\n",
       "            </tr>\n",
       "            <tr>\n",
       "                        <th id=\"T_c891f_level0_row14\" class=\"row_heading level0 row14\" >genres</th>\n",
       "                        <td id=\"T_c891f_row14_col0\" class=\"data row14 col0\" >957.00</td>\n",
       "                        <td id=\"T_c891f_row14_col1\" class=\"data row14 col1\" >12.83</td>\n",
       "            </tr>\n",
       "            <tr>\n",
       "                        <th id=\"T_c891f_level0_row15\" class=\"row_heading level0 row15\" >box_office</th>\n",
       "                        <td id=\"T_c891f_row15_col0\" class=\"data row15 col0\" >4304.00</td>\n",
       "                        <td id=\"T_c891f_row15_col1\" class=\"data row15 col1\" >57.70</td>\n",
       "            </tr>\n",
       "    </tbody></table>"
      ],
      "text/plain": [
       "<pandas.io.formats.style.Styler at 0x7f16aceea7f0>"
      ]
     },
     "metadata": {},
     "output_type": "display_data"
    }
   ],
   "source": [
    "na = combined_data.isna().sum()\n",
    "na_perc = round(combined_data.isna().mean()*100,2)\n",
    "display(pd.DataFrame({'Количество пропусков':na,'% пропусков':na_perc}).style.format('{:.2f}').background_gradient('coolwarm'))"
   ]
  },
  {
   "cell_type": "markdown",
   "metadata": {},
   "source": [
    "После удаления строк с пустыми значениями в столбцах film_studio, production_country и director у нас есть пропуски еще в нескольких. В столбцах producer и genres пропуски составлют от 8 до 12% и кажется логично заменить эти значения на \"Неизвестно\""
   ]
  },
  {
   "cell_type": "code",
   "execution_count": 124,
   "metadata": {},
   "outputs": [
    {
     "data": {
      "text/plain": [
       "0               Дэвид Валдес, Кевин Костнер, Джейк Эбертс\n",
       "1                                              неизвестно\n",
       "2       Джим Лемли, Джейсон Нетер, Марк Е.Платт, Яйн Смит\n",
       "3       Джим Лемли, Джейсон Нетер, Марк Е.Платт, Яйн Смит\n",
       "4       Джим Лемли, Джейсон Нетер, Марк Е.Платт, Яйн Смит\n",
       "                              ...                        \n",
       "7481                                          Фил Грабски\n",
       "7482    Джефф Боулер, Дэниэл Гродник, Луильо Руис, Брэ...\n",
       "7483                                       Дженнифер Додж\n",
       "7484                                            Д.Ловейко\n",
       "7485                                            Д.Ловейко\n",
       "Name: producer, Length: 7459, dtype: object"
      ]
     },
     "execution_count": 124,
     "metadata": {},
     "output_type": "execute_result"
    }
   ],
   "source": [
    "columns_to_replace = ['producer', 'genres'] \n",
    "for column in columns_to_replace:\n",
    "    combined_data[column] = combined_data[column].fillna('неизвестно')\n",
    "combined_data['producer']"
   ]
  },
  {
   "cell_type": "code",
   "execution_count": 125,
   "metadata": {},
   "outputs": [
    {
     "data": {
      "text/html": [
       "<style  type=\"text/css\" >\n",
       "#T_9e0ac_row0_col0,#T_9e0ac_row0_col1,#T_9e0ac_row1_col0,#T_9e0ac_row1_col1,#T_9e0ac_row2_col0,#T_9e0ac_row2_col1,#T_9e0ac_row3_col0,#T_9e0ac_row3_col1,#T_9e0ac_row4_col0,#T_9e0ac_row4_col1,#T_9e0ac_row5_col0,#T_9e0ac_row5_col1,#T_9e0ac_row6_col0,#T_9e0ac_row6_col1,#T_9e0ac_row7_col0,#T_9e0ac_row7_col1,#T_9e0ac_row8_col0,#T_9e0ac_row8_col1,#T_9e0ac_row13_col0,#T_9e0ac_row13_col1,#T_9e0ac_row14_col0,#T_9e0ac_row14_col1{\n",
       "            background-color:  #3b4cc0;\n",
       "            color:  #f1f1f1;\n",
       "        }#T_9e0ac_row9_col0,#T_9e0ac_row9_col1,#T_9e0ac_row10_col0,#T_9e0ac_row10_col1,#T_9e0ac_row11_col0,#T_9e0ac_row11_col1,#T_9e0ac_row12_col0,#T_9e0ac_row12_col1{\n",
       "            background-color:  #b40426;\n",
       "            color:  #f1f1f1;\n",
       "        }#T_9e0ac_row15_col0,#T_9e0ac_row15_col1{\n",
       "            background-color:  #f2cab5;\n",
       "            color:  #000000;\n",
       "        }</style><table id=\"T_9e0ac_\" ><thead>    <tr>        <th class=\"blank level0\" ></th>        <th class=\"col_heading level0 col0\" >Количество пропусков</th>        <th class=\"col_heading level0 col1\" >% пропусков</th>    </tr></thead><tbody>\n",
       "                <tr>\n",
       "                        <th id=\"T_9e0ac_level0_row0\" class=\"row_heading level0 row0\" >title</th>\n",
       "                        <td id=\"T_9e0ac_row0_col0\" class=\"data row0 col0\" >0.00</td>\n",
       "                        <td id=\"T_9e0ac_row0_col1\" class=\"data row0 col1\" >0.00</td>\n",
       "            </tr>\n",
       "            <tr>\n",
       "                        <th id=\"T_9e0ac_level0_row1\" class=\"row_heading level0 row1\" >puNumber</th>\n",
       "                        <td id=\"T_9e0ac_row1_col0\" class=\"data row1 col0\" >0.00</td>\n",
       "                        <td id=\"T_9e0ac_row1_col1\" class=\"data row1 col1\" >0.00</td>\n",
       "            </tr>\n",
       "            <tr>\n",
       "                        <th id=\"T_9e0ac_level0_row2\" class=\"row_heading level0 row2\" >show_start_date</th>\n",
       "                        <td id=\"T_9e0ac_row2_col0\" class=\"data row2 col0\" >0.00</td>\n",
       "                        <td id=\"T_9e0ac_row2_col1\" class=\"data row2 col1\" >0.00</td>\n",
       "            </tr>\n",
       "            <tr>\n",
       "                        <th id=\"T_9e0ac_level0_row3\" class=\"row_heading level0 row3\" >type</th>\n",
       "                        <td id=\"T_9e0ac_row3_col0\" class=\"data row3 col0\" >0.00</td>\n",
       "                        <td id=\"T_9e0ac_row3_col1\" class=\"data row3 col1\" >0.00</td>\n",
       "            </tr>\n",
       "            <tr>\n",
       "                        <th id=\"T_9e0ac_level0_row4\" class=\"row_heading level0 row4\" >film_studio</th>\n",
       "                        <td id=\"T_9e0ac_row4_col0\" class=\"data row4 col0\" >0.00</td>\n",
       "                        <td id=\"T_9e0ac_row4_col1\" class=\"data row4 col1\" >0.00</td>\n",
       "            </tr>\n",
       "            <tr>\n",
       "                        <th id=\"T_9e0ac_level0_row5\" class=\"row_heading level0 row5\" >production_country</th>\n",
       "                        <td id=\"T_9e0ac_row5_col0\" class=\"data row5 col0\" >0.00</td>\n",
       "                        <td id=\"T_9e0ac_row5_col1\" class=\"data row5 col1\" >0.00</td>\n",
       "            </tr>\n",
       "            <tr>\n",
       "                        <th id=\"T_9e0ac_level0_row6\" class=\"row_heading level0 row6\" >director</th>\n",
       "                        <td id=\"T_9e0ac_row6_col0\" class=\"data row6 col0\" >0.00</td>\n",
       "                        <td id=\"T_9e0ac_row6_col1\" class=\"data row6 col1\" >0.00</td>\n",
       "            </tr>\n",
       "            <tr>\n",
       "                        <th id=\"T_9e0ac_level0_row7\" class=\"row_heading level0 row7\" >producer</th>\n",
       "                        <td id=\"T_9e0ac_row7_col0\" class=\"data row7 col0\" >0.00</td>\n",
       "                        <td id=\"T_9e0ac_row7_col1\" class=\"data row7 col1\" >0.00</td>\n",
       "            </tr>\n",
       "            <tr>\n",
       "                        <th id=\"T_9e0ac_level0_row8\" class=\"row_heading level0 row8\" >age_restriction</th>\n",
       "                        <td id=\"T_9e0ac_row8_col0\" class=\"data row8 col0\" >0.00</td>\n",
       "                        <td id=\"T_9e0ac_row8_col1\" class=\"data row8 col1\" >0.00</td>\n",
       "            </tr>\n",
       "            <tr>\n",
       "                        <th id=\"T_9e0ac_level0_row9\" class=\"row_heading level0 row9\" >refundable_support</th>\n",
       "                        <td id=\"T_9e0ac_row9_col0\" class=\"data row9 col0\" >7127.00</td>\n",
       "                        <td id=\"T_9e0ac_row9_col1\" class=\"data row9 col1\" >95.55</td>\n",
       "            </tr>\n",
       "            <tr>\n",
       "                        <th id=\"T_9e0ac_level0_row10\" class=\"row_heading level0 row10\" >nonrefundable_support</th>\n",
       "                        <td id=\"T_9e0ac_row10_col0\" class=\"data row10 col0\" >7127.00</td>\n",
       "                        <td id=\"T_9e0ac_row10_col1\" class=\"data row10 col1\" >95.55</td>\n",
       "            </tr>\n",
       "            <tr>\n",
       "                        <th id=\"T_9e0ac_level0_row11\" class=\"row_heading level0 row11\" >budget</th>\n",
       "                        <td id=\"T_9e0ac_row11_col0\" class=\"data row11 col0\" >7127.00</td>\n",
       "                        <td id=\"T_9e0ac_row11_col1\" class=\"data row11 col1\" >95.55</td>\n",
       "            </tr>\n",
       "            <tr>\n",
       "                        <th id=\"T_9e0ac_level0_row12\" class=\"row_heading level0 row12\" >financing_source</th>\n",
       "                        <td id=\"T_9e0ac_row12_col0\" class=\"data row12 col0\" >7127.00</td>\n",
       "                        <td id=\"T_9e0ac_row12_col1\" class=\"data row12 col1\" >95.55</td>\n",
       "            </tr>\n",
       "            <tr>\n",
       "                        <th id=\"T_9e0ac_level0_row13\" class=\"row_heading level0 row13\" >ratings</th>\n",
       "                        <td id=\"T_9e0ac_row13_col0\" class=\"data row13 col0\" >0.00</td>\n",
       "                        <td id=\"T_9e0ac_row13_col1\" class=\"data row13 col1\" >0.00</td>\n",
       "            </tr>\n",
       "            <tr>\n",
       "                        <th id=\"T_9e0ac_level0_row14\" class=\"row_heading level0 row14\" >genres</th>\n",
       "                        <td id=\"T_9e0ac_row14_col0\" class=\"data row14 col0\" >0.00</td>\n",
       "                        <td id=\"T_9e0ac_row14_col1\" class=\"data row14 col1\" >0.00</td>\n",
       "            </tr>\n",
       "            <tr>\n",
       "                        <th id=\"T_9e0ac_level0_row15\" class=\"row_heading level0 row15\" >box_office</th>\n",
       "                        <td id=\"T_9e0ac_row15_col0\" class=\"data row15 col0\" >4304.00</td>\n",
       "                        <td id=\"T_9e0ac_row15_col1\" class=\"data row15 col1\" >57.70</td>\n",
       "            </tr>\n",
       "    </tbody></table>"
      ],
      "text/plain": [
       "<pandas.io.formats.style.Styler at 0x7f16ad48edf0>"
      ]
     },
     "metadata": {},
     "output_type": "display_data"
    }
   ],
   "source": [
    "na = combined_data.isna().sum()\n",
    "na_perc = round(combined_data.isna().mean()*100,2)\n",
    "display(pd.DataFrame({'Количество пропусков':na,'% пропусков':na_perc}).style.format('{:.2f}').background_gradient('coolwarm'))"
   ]
  },
  {
   "cell_type": "markdown",
   "metadata": {},
   "source": [
    "В итоге у нас остались пропуски только столбцах бюджет фильма, объем возвратных и невозвратных средств, источник финансирования и сборы. Но для рсчетов эти пропуски не будут мешать.\n"
   ]
  },
  {
   "cell_type": "markdown",
   "metadata": {},
   "source": [
    "<div class=\"alert alert-success\">\n",
    "<h2> Комментарий ревьюера v1 <a class=\"tocSkip\"> </h2>\n",
    "\n",
    "<b>Все супер!👍:</b> Очень хорошо! Поддерживаю) "
   ]
  },
  {
   "cell_type": "markdown",
   "metadata": {
    "id": "4c6k1t9ygFyQ"
   },
   "source": [
    "#### Шаг 2.3. Изучите дубликаты в датафрейме\n",
    "- Проверьте, есть ли в данных дубликаты. Опишите причины, которые могли повлиять на появление дублей."
   ]
  },
  {
   "cell_type": "code",
   "execution_count": 126,
   "metadata": {
    "id": "aKck8RIdgFyQ"
   },
   "outputs": [
    {
     "data": {
      "text/plain": [
       "0"
      ]
     },
     "execution_count": 126,
     "metadata": {},
     "output_type": "execute_result"
    }
   ],
   "source": [
    "combined_data.duplicated().sum()"
   ]
  },
  {
   "cell_type": "markdown",
   "metadata": {},
   "source": [
    "Видим что явных дубликатов у нас нет. Проверим наличие неявных дубликатов."
   ]
  },
  {
   "cell_type": "code",
   "execution_count": 127,
   "metadata": {},
   "outputs": [
    {
     "data": {
      "text/plain": [
       "2"
      ]
     },
     "execution_count": 127,
     "metadata": {},
     "output_type": "execute_result"
    }
   ],
   "source": [
    "combined_data['puNumber'].duplicated().sum()"
   ]
  },
  {
   "cell_type": "code",
   "execution_count": 128,
   "metadata": {},
   "outputs": [
    {
     "data": {
      "text/plain": [
       "puNumber\n",
       "221154310    2\n",
       "221054410    2\n",
       "0            1\n",
       "121029216    1\n",
       "121029412    1\n",
       "            ..\n",
       "121003013    1\n",
       "121003010    1\n",
       "121002919    1\n",
       "121002918    1\n",
       "231001111    1\n",
       "Name: title, Length: 7457, dtype: int64"
      ]
     },
     "execution_count": 128,
     "metadata": {},
     "output_type": "execute_result"
    }
   ],
   "source": [
    "combined_data.groupby('puNumber')['title'].count().sort_values(ascending = False)"
   ]
  },
  {
   "cell_type": "code",
   "execution_count": 129,
   "metadata": {},
   "outputs": [
    {
     "data": {
      "text/html": [
       "<div>\n",
       "<style scoped>\n",
       "    .dataframe tbody tr th:only-of-type {\n",
       "        vertical-align: middle;\n",
       "    }\n",
       "\n",
       "    .dataframe tbody tr th {\n",
       "        vertical-align: top;\n",
       "    }\n",
       "\n",
       "    .dataframe thead th {\n",
       "        text-align: right;\n",
       "    }\n",
       "</style>\n",
       "<table border=\"1\" class=\"dataframe\">\n",
       "  <thead>\n",
       "    <tr style=\"text-align: right;\">\n",
       "      <th></th>\n",
       "      <th>title</th>\n",
       "      <th>puNumber</th>\n",
       "      <th>show_start_date</th>\n",
       "      <th>type</th>\n",
       "      <th>film_studio</th>\n",
       "      <th>production_country</th>\n",
       "      <th>director</th>\n",
       "      <th>producer</th>\n",
       "      <th>age_restriction</th>\n",
       "      <th>refundable_support</th>\n",
       "      <th>nonrefundable_support</th>\n",
       "      <th>budget</th>\n",
       "      <th>financing_source</th>\n",
       "      <th>ratings</th>\n",
       "      <th>genres</th>\n",
       "      <th>box_office</th>\n",
       "    </tr>\n",
       "  </thead>\n",
       "  <tbody>\n",
       "    <tr>\n",
       "      <th>4638</th>\n",
       "      <td>Как жениться и остаться холостым</td>\n",
       "      <td>221154310</td>\n",
       "      <td>2010-12-17 12:00:00+00:00</td>\n",
       "      <td>Художественный</td>\n",
       "      <td>Ше Вам, Скрипт Ассосье, Тэ Фэ 1 Фильм Продюксь...</td>\n",
       "      <td>Франция</td>\n",
       "      <td>Эрик Лартиго</td>\n",
       "      <td>Амандин Било, Алан Шаба</td>\n",
       "      <td>«16+» - для детей старше 16 лет</td>\n",
       "      <td>NaN</td>\n",
       "      <td>NaN</td>\n",
       "      <td>NaN</td>\n",
       "      <td>NaN</td>\n",
       "      <td>7.0</td>\n",
       "      <td>мелодрама,комедия</td>\n",
       "      <td>NaN</td>\n",
       "    </tr>\n",
       "    <tr>\n",
       "      <th>4639</th>\n",
       "      <td>Иоанна - женщина на папском престоле /По роман...</td>\n",
       "      <td>221154310</td>\n",
       "      <td>2010-12-17 12:00:00+00:00</td>\n",
       "      <td>Художественный</td>\n",
       "      <td>Константин Фильм, А Эр Ди Дегето Фильм, Дюне ...</td>\n",
       "      <td>Германия - Великобритания - Италия - Испания</td>\n",
       "      <td>Зенке Вортманн</td>\n",
       "      <td>Оливер Бербен, Дорис Д.Хайнце, Фарук Элтан</td>\n",
       "      <td>«16+» - для детей старше 16 лет</td>\n",
       "      <td>NaN</td>\n",
       "      <td>NaN</td>\n",
       "      <td>NaN</td>\n",
       "      <td>NaN</td>\n",
       "      <td>7.6</td>\n",
       "      <td>драма,мелодрама,история</td>\n",
       "      <td>NaN</td>\n",
       "    </tr>\n",
       "  </tbody>\n",
       "</table>\n",
       "</div>"
      ],
      "text/plain": [
       "                                                  title   puNumber  \\\n",
       "4638                   Как жениться и остаться холостым  221154310   \n",
       "4639  Иоанна - женщина на папском престоле /По роман...  221154310   \n",
       "\n",
       "               show_start_date            type  \\\n",
       "4638 2010-12-17 12:00:00+00:00  Художественный   \n",
       "4639 2010-12-17 12:00:00+00:00  Художественный   \n",
       "\n",
       "                                            film_studio  \\\n",
       "4638  Ше Вам, Скрипт Ассосье, Тэ Фэ 1 Фильм Продюксь...   \n",
       "4639   Константин Фильм, А Эр Ди Дегето Фильм, Дюне ...   \n",
       "\n",
       "                                production_country        director  \\\n",
       "4638                                       Франция    Эрик Лартиго   \n",
       "4639  Германия - Великобритания - Италия - Испания  Зенке Вортманн   \n",
       "\n",
       "                                        producer  \\\n",
       "4638                     Амандин Било, Алан Шаба   \n",
       "4639  Оливер Бербен, Дорис Д.Хайнце, Фарук Элтан   \n",
       "\n",
       "                      age_restriction  refundable_support  \\\n",
       "4638  «16+» - для детей старше 16 лет                 NaN   \n",
       "4639  «16+» - для детей старше 16 лет                 NaN   \n",
       "\n",
       "      nonrefundable_support  budget financing_source  ratings  \\\n",
       "4638                    NaN     NaN              NaN      7.0   \n",
       "4639                    NaN     NaN              NaN      7.6   \n",
       "\n",
       "                       genres  box_office  \n",
       "4638        мелодрама,комедия         NaN  \n",
       "4639  драма,мелодрама,история         NaN  "
      ]
     },
     "execution_count": 129,
     "metadata": {},
     "output_type": "execute_result"
    }
   ],
   "source": [
    "combined_data.loc[combined_data['puNumber'] == 221154310]"
   ]
  },
  {
   "cell_type": "code",
   "execution_count": 130,
   "metadata": {},
   "outputs": [
    {
     "data": {
      "text/html": [
       "<div>\n",
       "<style scoped>\n",
       "    .dataframe tbody tr th:only-of-type {\n",
       "        vertical-align: middle;\n",
       "    }\n",
       "\n",
       "    .dataframe tbody tr th {\n",
       "        vertical-align: top;\n",
       "    }\n",
       "\n",
       "    .dataframe thead th {\n",
       "        text-align: right;\n",
       "    }\n",
       "</style>\n",
       "<table border=\"1\" class=\"dataframe\">\n",
       "  <thead>\n",
       "    <tr style=\"text-align: right;\">\n",
       "      <th></th>\n",
       "      <th>title</th>\n",
       "      <th>puNumber</th>\n",
       "      <th>show_start_date</th>\n",
       "      <th>type</th>\n",
       "      <th>film_studio</th>\n",
       "      <th>production_country</th>\n",
       "      <th>director</th>\n",
       "      <th>producer</th>\n",
       "      <th>age_restriction</th>\n",
       "      <th>refundable_support</th>\n",
       "      <th>nonrefundable_support</th>\n",
       "      <th>budget</th>\n",
       "      <th>financing_source</th>\n",
       "      <th>ratings</th>\n",
       "      <th>genres</th>\n",
       "      <th>box_office</th>\n",
       "    </tr>\n",
       "  </thead>\n",
       "  <tbody>\n",
       "    <tr>\n",
       "      <th>5067</th>\n",
       "      <td>Анализируй это!</td>\n",
       "      <td>221054410</td>\n",
       "      <td>2010-05-25 12:00:00+00:00</td>\n",
       "      <td>Художественный</td>\n",
       "      <td>Уорнер Бразерс, Вилладж Роудшоу Филмз ЛТД</td>\n",
       "      <td>США-Австралия</td>\n",
       "      <td>ХЭрольд Рэмис</td>\n",
       "      <td>Джейн Розенталь, Пола Уейнстейн</td>\n",
       "      <td>«16+» - для детей старше 16 лет</td>\n",
       "      <td>NaN</td>\n",
       "      <td>NaN</td>\n",
       "      <td>NaN</td>\n",
       "      <td>NaN</td>\n",
       "      <td>7.4</td>\n",
       "      <td>комедия,криминал</td>\n",
       "      <td>NaN</td>\n",
       "    </tr>\n",
       "    <tr>\n",
       "      <th>5068</th>\n",
       "      <td>Анализируй то!</td>\n",
       "      <td>221054410</td>\n",
       "      <td>2010-05-25 12:00:00+00:00</td>\n",
       "      <td>Художественный</td>\n",
       "      <td>Уорнер Бразерс, Виллидж Роадшоу Пикчерз, Эн-Пи...</td>\n",
       "      <td>США</td>\n",
       "      <td>Гарольд Реймис</td>\n",
       "      <td>Джейн Розенталь, Паул Уэйнстейн</td>\n",
       "      <td>«12+» - для детей старше 12 лет</td>\n",
       "      <td>NaN</td>\n",
       "      <td>NaN</td>\n",
       "      <td>NaN</td>\n",
       "      <td>NaN</td>\n",
       "      <td>6.8</td>\n",
       "      <td>комедия,криминал</td>\n",
       "      <td>NaN</td>\n",
       "    </tr>\n",
       "  </tbody>\n",
       "</table>\n",
       "</div>"
      ],
      "text/plain": [
       "                title   puNumber           show_start_date            type  \\\n",
       "5067  Анализируй это!  221054410 2010-05-25 12:00:00+00:00  Художественный   \n",
       "5068   Анализируй то!  221054410 2010-05-25 12:00:00+00:00  Художественный   \n",
       "\n",
       "                                            film_studio production_country  \\\n",
       "5067          Уорнер Бразерс, Вилладж Роудшоу Филмз ЛТД      США-Австралия   \n",
       "5068  Уорнер Бразерс, Виллидж Роадшоу Пикчерз, Эн-Пи...                США   \n",
       "\n",
       "            director                         producer  \\\n",
       "5067   ХЭрольд Рэмис  Джейн Розенталь, Пола Уейнстейн   \n",
       "5068  Гарольд Реймис  Джейн Розенталь, Паул Уэйнстейн   \n",
       "\n",
       "                      age_restriction  refundable_support  \\\n",
       "5067  «16+» - для детей старше 16 лет                 NaN   \n",
       "5068  «12+» - для детей старше 12 лет                 NaN   \n",
       "\n",
       "      nonrefundable_support  budget financing_source  ratings  \\\n",
       "5067                    NaN     NaN              NaN      7.4   \n",
       "5068                    NaN     NaN              NaN      6.8   \n",
       "\n",
       "                genres  box_office  \n",
       "5067  комедия,криминал         NaN  \n",
       "5068  комедия,криминал         NaN  "
      ]
     },
     "execution_count": 130,
     "metadata": {},
     "output_type": "execute_result"
    }
   ],
   "source": [
    "combined_data.loc[combined_data['puNumber'] == 221054410]"
   ]
  },
  {
   "cell_type": "markdown",
   "metadata": {},
   "source": [
    "Поле проверки столбца с номером прокатного удостоверения видим что есть два дубликата. Но при более детальном рассмотрении понимаем что фильмы схожи только по типу фильма и дате премьеры. Кажется логичным, что двух одинаковых номеров прокатного удостоверения быть не должно и это похоже на ошибку. А вот во втором случае отличия незначительные и больше похоже что это один фильм. Но в дальнейшем исследовании данные ошибки нам не помешает, так как две строки не повлияют на результат полученный при проверки почти 7500 строк. Поэтому удалим обе строки с повторяющимися фильмами."
   ]
  },
  {
   "cell_type": "code",
   "execution_count": 131,
   "metadata": {},
   "outputs": [],
   "source": [
    "combined_data = combined_data.drop_duplicates(subset = 'puNumber', keep = 'first')"
   ]
  },
  {
   "cell_type": "markdown",
   "metadata": {},
   "source": [
    "<div class=\"alert alert-block alert-danger\">\n",
    "<h2> Комментарий ревьюера v2 <a class=\"tocSkip\"></h2>\n",
    "   \n",
    "<b>На доработку🤔:</b> Я что-то пропустил этот момент, прости, пожалуйста! А что по неявным дубликатам?)"
   ]
  },
  {
   "cell_type": "markdown",
   "metadata": {},
   "source": [
    "<div class=\"alert alert-info\">\n",
    "<b>А разве в следующем этапе не проверка неявных дубликатов? Просто в прошлых проектах мы так и проверяли неявные дубликаты через unique(), а потом приводили повторяющиеся значения к одному виду. Или я что-то путаю?</b> \n",
    "</div>"
   ]
  },
  {
   "cell_type": "markdown",
   "metadata": {},
   "source": [
    "<div class=\"alert alert-block alert-danger\">\n",
    "<h2> Комментарий ревьюера v3 <a class=\"tocSkip\"></h2>\n",
    "   \n",
    "<b>На доработку🤔:</b>Это, конечно, замечательно) Но бы круто проверить отдельно, хотя бы для того, чтобы сделать соотвествующий вывод и, например, проверить дубли по прокатным удостоверениям "
   ]
  },
  {
   "cell_type": "markdown",
   "metadata": {},
   "source": [
    "<div class=\"alert alert-info\">\n",
    "<b>Добавил исследование неявных дубликатов, а именно столбца с номером прокатного удостоверения и вывод.</b> \n",
    "</div>"
   ]
  },
  {
   "cell_type": "markdown",
   "metadata": {},
   "source": [
    "<div class=\"alert alert-warning\">\n",
    "    <h2> Комментарий ревьюера v4 <a class=\"tocSkip\"> </h2>\n",
    "    \n",
    "<b>Небольшие замечания и рекомендации💡:</b> Анализируй то это сиквел фильма Анализируй это. В обоих де Ниро снимается. Только я не знаю, почему в одно время они вышли у нас в прокат. Это при том, что первый фильм снят в 1999, а второй - в 2002"
   ]
  },
  {
   "cell_type": "markdown",
   "metadata": {
    "id": "52fOPrEBgFyQ"
   },
   "source": [
    "#### Шаг 2.4. Изучите категориальные значения\n",
    "\n",
    "- Посмотрите, какая общая проблема встречается почти во всех категориальных столбцах;\n",
    "- Исправьте проблемные значения в поле `type`.\n",
    "\n",
    "<div id=\"accordion\">\n",
    "    <div class=\"card\">\n",
    "        <div class=\"card-header\" id=\"headingThree\">\n",
    "            <button class=\"btn btn-link collapsed\" data-toggle=\"collapse\" data-target=\"#collapseHint_1\" aria-expanded=\"false\" aria-controls=\"collapseHint_1\">Подсказка</button>\n",
    "        </div>\n",
    "        <div id=\"collapseHint_1\" class=\"collapse\" aria-labelledby=\"headingThree\" data-parent=\"#accordion\">\n",
    "            <div class=\"card-body\">\n",
    "В поле <code>type</code> есть несколько значений, у которых появился пробел в начале строки. Самый простой способ их «починить» -- использовать метод <a href=\"https://pandas.pydata.org/docs/reference/api/pandas.Series.str.strip.html#pandas.Series.str.strip\">.str.strip</a>. Этот метод удаляет все пробелы, которые встречаются в начале и в конце строки. Применяют его таким образом:<br>\n",
    "<code>df['type'].str.strip()</code>\n",
    "            </div>\n",
    "        </div>\n",
    "    </div>\n",
    "</div>"
   ]
  },
  {
   "cell_type": "code",
   "execution_count": 132,
   "metadata": {
    "id": "PnXKIVdFgFyR"
   },
   "outputs": [
    {
     "data": {
      "text/plain": [
       "array(['Анимационный', 'Документальный', 'Музыкально-развлекательный',\n",
       "       'Научно-популярный', 'Прочие', 'Художественный'], dtype=object)"
      ]
     },
     "execution_count": 132,
     "metadata": {},
     "output_type": "execute_result"
    }
   ],
   "source": [
    "combined_data['type'].sort_values().unique()"
   ]
  },
  {
   "cell_type": "markdown",
   "metadata": {},
   "source": [
    "Видим что в столбце type есть повторяющиеся значения которые стоит убрать."
   ]
  },
  {
   "cell_type": "code",
   "execution_count": 133,
   "metadata": {},
   "outputs": [
    {
     "data": {
      "text/plain": [
       "array(['Анимационный', 'Документальный', 'Музыкально-развлекательный',\n",
       "       'Научно-популярный', 'Прочие', 'Художественный'], dtype=object)"
      ]
     },
     "execution_count": 133,
     "metadata": {},
     "output_type": "execute_result"
    }
   ],
   "source": [
    "duplicates = [' Анимационный',' Художественный']\n",
    "original = ['Анимационный', 'Художественный']\n",
    "combined_data['type'] = combined_data['type'].replace(duplicates, original)\n",
    "combined_data['type'].sort_values().unique()"
   ]
  },
  {
   "cell_type": "code",
   "execution_count": 134,
   "metadata": {},
   "outputs": [
    {
     "name": "stdout",
     "output_type": "stream",
     "text": [
      "<class 'pandas.core.frame.DataFrame'>\n",
      "Int64Index: 7457 entries, 0 to 7485\n",
      "Data columns (total 16 columns):\n",
      " #   Column                 Non-Null Count  Dtype              \n",
      "---  ------                 --------------  -----              \n",
      " 0   title                  7457 non-null   object             \n",
      " 1   puNumber               7457 non-null   int64              \n",
      " 2   show_start_date        7457 non-null   datetime64[ns, UTC]\n",
      " 3   type                   7457 non-null   object             \n",
      " 4   film_studio            7457 non-null   object             \n",
      " 5   production_country     7457 non-null   object             \n",
      " 6   director               7457 non-null   object             \n",
      " 7   producer               7457 non-null   object             \n",
      " 8   age_restriction        7457 non-null   object             \n",
      " 9   refundable_support     332 non-null    float64            \n",
      " 10  nonrefundable_support  332 non-null    float64            \n",
      " 11  budget                 332 non-null    float64            \n",
      " 12  financing_source       332 non-null    object             \n",
      " 13  ratings                7457 non-null   float64            \n",
      " 14  genres                 7457 non-null   object             \n",
      " 15  box_office             3155 non-null   float64            \n",
      "dtypes: datetime64[ns, UTC](1), float64(5), int64(1), object(9)\n",
      "memory usage: 990.4+ KB\n"
     ]
    }
   ],
   "source": [
    "combined_data.info()"
   ]
  },
  {
   "cell_type": "code",
   "execution_count": 135,
   "metadata": {},
   "outputs": [
    {
     "data": {
      "text/plain": [
       "array(['\"SOS\" над тайгой', '\"V\" значит вендетта',\n",
       "       '\"АРТиШОК\" анимационный альманах авторских фильмов', ...,\n",
       "       'Ярость / Fury',\n",
       "       'альманах документальных фильмов \"Вокзалы России: История, Любовь и Великие тайны…\" Фильм первый \"ВОКЗАЛЫ РОССИИ СВЯЗЬ ВРЕМЕН\"',\n",
       "       'сНежное шоу'], dtype=object)"
      ]
     },
     "execution_count": 135,
     "metadata": {},
     "output_type": "execute_result"
    }
   ],
   "source": [
    "combined_data['title'].sort_values().unique()\n",
    "combined_data['title'] = combined_data['title'].str.strip()\n",
    "combined_data['title'].sort_values().unique()"
   ]
  },
  {
   "cell_type": "code",
   "execution_count": 136,
   "metadata": {},
   "outputs": [
    {
     "data": {
      "text/plain": [
       "array(['\"Дино де Лаурентиис\" (Италия) при участии Киностудии \"Мосфильм\"',\n",
       "       '\"Союздетфильм\", \"Мосфильм\", \"Москинокомбинат\"',\n",
       "       '\"Студия \"Птица Феникс\" Татьяны Новиковой', ...,\n",
       "       'ристалл Сити Интертейнмент, Эксклюзив Медиа Групп, Хоуп Таун Интертейнмент, Каппа Андерковар Пикчерз, Скарлет Файр Интертейнмент',\n",
       "       'совместное производство Киностудия \"Мосфильм\", \"Космос-филм\" (Франция), \"Посейдон Продакшинз Лимитед\" (Англия), \"ИКАИК\" (Куба), ДЕФА (ГДР)',\n",
       "       'юФилм, Твинпикс'], dtype=object)"
      ]
     },
     "execution_count": 136,
     "metadata": {},
     "output_type": "execute_result"
    }
   ],
   "source": [
    "combined_data['film_studio'].sort_values().unique()\n",
    "combined_data['film_studio'] = combined_data['film_studio'].str.strip()\n",
    "combined_data['film_studio'].sort_values().unique()"
   ]
  },
  {
   "cell_type": "code",
   "execution_count": 137,
   "metadata": {},
   "outputs": [
    {
     "data": {
      "text/plain": [
       "array(['2019', 'CША', 'Австралия',\n",
       "       'Австралия - Великобритания - Бельгия - Индия',\n",
       "       'Австралия - Германия', 'Австралия - Ирландия',\n",
       "       'Австралия - Колумбия', 'Австралия - США', 'Австралия, Канада',\n",
       "       'Австралия, США', 'Австралия-Великобритания', 'Австралия-Ирландия',\n",
       "       'Австралия-США', 'Австралия-Турция-США', 'Австрия',\n",
       "       'Австрия - Германия', 'Австрия - Германия - Франция',\n",
       "       'Австрия - Люксембург', 'Австрия, Великобритания, Германия',\n",
       "       'Австрия-Германия-Франция', 'Австрия-Франция-Германия',\n",
       "       'Азербайджан-Россия', 'Аргентина', 'Аргентина - Бразилия',\n",
       "       'Аргентина - Испания', 'Аргентина - Испания - Уругвай',\n",
       "       'Аргентина - Мексика - Бразилия - Франция - США',\n",
       "       'Аргентина - Уругвай - Россия - Германия - Франция - Нидерланды',\n",
       "       'Аргентина - Франция - Испания', 'Аргентина, Испания',\n",
       "       'Аргентина-Испания', 'Армения', 'Армения - Германия',\n",
       "       'Армения - Казахстан', 'Армения-Россия', 'Бельгия',\n",
       "       'Бельгия - Германия - Люксембург',\n",
       "       'Бельгия - Германия - Люксембург - Франция',\n",
       "       'Бельгия - Испания - Канада - Нидерланды',\n",
       "       'Бельгия - Италия - Франция', 'Бельгия - Люксембург',\n",
       "       'Бельгия - Люксембург - Франция - Швейцария',\n",
       "       'Бельгия - Нидерланды - Франция', 'Бельгия - США',\n",
       "       'Бельгия - Франция', 'Бельгия - Франция - Люксембург',\n",
       "       'Бельгия, Великобритания, США', 'Бельгия, Канада',\n",
       "       'Бельгия-Германия-Канада-Франция-США-Великобритания',\n",
       "       'Бельгия-Нидерланды', 'Бельгия-Франция', 'Бельгия-Франция-Италия',\n",
       "       'Болгария', 'Болгария - США', 'Болгария - Франция - Изриль',\n",
       "       'Босния и Герцеговина - Франция - Великобритания - Германия - Словения - Бельгия - Сербия',\n",
       "       'Бразилия', 'Бразилия - Германия - Порртугалия - Франция',\n",
       "       'Бразилия - Испания', 'Бразилия - К;анада',\n",
       "       'Бразилия - Канада - США', 'Бразилия - Португалия - Франция',\n",
       "       'Бразилия - США', 'Бразилия - США - КНР',\n",
       "       'Бразилия, Уругвай, Дания, Норвегия, Чили, Швеция',\n",
       "       'Великобритания', 'Великобритания - Австралия - США',\n",
       "       'Великобритания - Австрия - Германия',\n",
       "       'Великобритания - Австрия - Франция - США',\n",
       "       'Великобритания - Аргентина - США - Франция - Россия - Испания',\n",
       "       'Великобритания - Германия',\n",
       "       'Великобритания - Германия - Нидерланды - Дания',\n",
       "       'Великобритания - Германия - США',\n",
       "       'Великобритания - Германия - Франция - Кипр - США',\n",
       "       'Великобритания - Гонконг - Венгрия - США - Ирландия',\n",
       "       'Великобритания - Дания', 'Великобритания - Израиль',\n",
       "       'Великобритания - Израиль - Франция - Япония - США',\n",
       "       'Великобритания - Ирландия', 'Великобритания - Ирландия - США',\n",
       "       'Великобритания - Исландия - Испания - Швейцария - США',\n",
       "       'Великобритания - Испания', 'Великобритания - Испания - Германия',\n",
       "       'Великобритания - Испания - Италия - Латвия - Франция - Эстония',\n",
       "       'Великобритания - Испания - Непал - Индия - Венгрия - Гонконг - Германия - Дания - Бахрейн',\n",
       "       'Великобритания - Италия', 'Великобритания - Италия - Испания',\n",
       "       'Великобритания - Италия - Швейцария', 'Великобритания - КНР',\n",
       "       'Великобритания - Канада', 'Великобритания - Канада - США',\n",
       "       'Великобритания - Люксембург', 'Великобритания - Мексика - США',\n",
       "       'Великобритания - Нидерланды - Германия - Франция - Бельгия - Австрия',\n",
       "       'Великобритания - Нидерланды - Франция - США',\n",
       "       'Великобритания - Нидерланды - Франция - Хорватия',\n",
       "       'Великобритания - Новая Зеландия',\n",
       "       'Великобритания - Норвегия - Дания - Германия',\n",
       "       'Великобритания - Норвегия - Кения - Хорватия',\n",
       "       'Великобритания - Польша',\n",
       "       'Великобритания - Польша - КНР - Индия - Норвегия',\n",
       "       'Великобритания - Пуэрто-Рико', 'Великобритания - Россия - КНР',\n",
       "       'Великобритания - Россия - Украина - США',\n",
       "       'Великобритания - Румыния', 'Великобритания - США',\n",
       "       'Великобритания - США - Австралия - Ирландия - Германия - Куба - Канада',\n",
       "       'Великобритания - США - Германия',\n",
       "       'Великобритания - США - Германия - Бельгия',\n",
       "       'Великобритания - США - Германия - Канада - Австралия',\n",
       "       'Великобритания - США - Индия', 'Великобритания - США - Канада',\n",
       "       'Великобритания - США - Канада - Бельгия - Нидерланды - Австрия - Германия',\n",
       "       'Великобритания - США - Канада - Нидерланды - Франция',\n",
       "       'Великобритания - США - Россия', 'Великобритания - США - Франция',\n",
       "       'Великобритания - США - Швейцария', 'Великобритания - Франция',\n",
       "       'Великобритания - Франция - Австрия - Швеция',\n",
       "       'Великобритания - Франция - Бельгия',\n",
       "       'Великобритания - Франция - Бельгия - Италия',\n",
       "       'Великобритания - Франция - Бельгия - США',\n",
       "       'Великобритания - Франция - Венгрия',\n",
       "       'Великобритания - Франция - Германия',\n",
       "       'Великобритания - Франция - Германия - США',\n",
       "       'Великобритания - Франция - Италия',\n",
       "       'Великобритания - Франция - Италия - Индия - Дания - КНР - Бангладеш - Камбоджа - Гаити - Уганда',\n",
       "       'Великобритания - Франция - Италия - США',\n",
       "       'Великобритания - Франция - Республика Кипр - Швейцария - США - Сербия',\n",
       "       'Великобритания - Франция - США',\n",
       "       'Великобритания - Франция - Швеция - Бельгия',\n",
       "       'Великобритания - Чехия - Франция',\n",
       "       'Великобритания - Чехия - Франция - Италия',\n",
       "       'Великобритания - ЮАР', 'Великобритания - Япония - США',\n",
       "       'Великобритания, Австралия',\n",
       "       'Великобритания, Германия, Дания, США', 'Великобритания, Канада',\n",
       "       'Великобритания, Канада, США',\n",
       "       'Великобритания, Нидерланды, Польша, Швейцария, Франция',\n",
       "       'Великобритания, Новая Зеландия', 'Великобритания, США',\n",
       "       'Великобритания, США, Испания', 'Великобритания, Франция',\n",
       "       'Великобритания, Франция, Бельгия', 'Великобритания, Швеция, США',\n",
       "       'Великобритания, Южная Корея, Канада, США, Индия, Китай, Япония',\n",
       "       'Великобритания, Япония, США', 'Великобритания-Австралия - США',\n",
       "       'Великобритания-Венгрия', 'Великобритания-Германия-Канада-ЮАР',\n",
       "       'Великобритания-США', 'Великобритания-США-Германия-КНР',\n",
       "       'Великобритания-США-Франция', 'Великобритания-Франция',\n",
       "       'Великобритания-Франция-Германия', 'Великобритания-Франция-Италия',\n",
       "       'Венгрия', 'Венгрия - Германия - Швеция', 'Венесуэла', 'Германия',\n",
       "       'Германия - Австралия', 'Германия - Австрия',\n",
       "       'Германия - Австрия - Ирландия', 'Германия - Австрия - Франция',\n",
       "       'Германия - Аргентина - Нидерланды - Чили', 'Германия - Бельгия',\n",
       "       'Германия - Бельгия - Великобритания',\n",
       "       'Германия - Бельгия - Люксембург - Ирландия',\n",
       "       'Германия - Бельгия - Люксембург - Норвегия',\n",
       "       'Германия - Бельгия - США -Франция', 'Германия - Великобритания',\n",
       "       'Германия - Великобритания - Австрия',\n",
       "       'Германия - Великобритания - Италия - Испания',\n",
       "       'Германия - Великобритания - США',\n",
       "       'Германия - Дания - Испания - Швеция - Канада - Эстония - Франция',\n",
       "       'Германия - Дания - Норвегия', 'Германия - Исландия',\n",
       "       'Германия - Италия', 'Германия - Италия - США',\n",
       "       'Германия - Италия - Франция', 'Германия - Канада',\n",
       "       'Германия - Китай', 'Германия - Люксембург - Бельгия',\n",
       "       'Германия - Люксембург - Дания', 'Германия - Люксембург - Франция',\n",
       "       'Германия - Нидерланды - Беларусь - Россия - Латвия',\n",
       "       'Германия - Нидерланды - ЮАР', 'Германия - Россия',\n",
       "       'Германия - США', 'Германия - США - Великобритания - Израиль',\n",
       "       'Германия - США - Великобритания - Ирландия',\n",
       "       'Германия - США - Франция - Испания',\n",
       "       'Германия - США - Швеция - Франция',\n",
       "       'Германия - Финляндия - Австралия', 'Германия - Франция',\n",
       "       'Германия - Франция -  Польша - Турция - Канада - Италия - Россия',\n",
       "       'Германия - Франция - Австрия', 'Германия - Франция - Бельгия',\n",
       "       'Германия - Франция - Великобритания - Польша - США',\n",
       "       'Германия - Франция - Канада', 'Германия - Франция - Люксембург',\n",
       "       'Германия - Франция - Польша', 'Германия - Швейцария',\n",
       "       'Германия - Швейцария - Франция - Южная Корея - США',\n",
       "       'Германия, Австралия', 'Германия, Бельгия', 'Германия, Россия',\n",
       "       'Германия, США', 'Германия, Франция',\n",
       "       'Германия, Франция, Великобритания', 'Германия, Франция, США',\n",
       "       'Германия-Австрия', 'Германия-Австрия-Франция-Италия',\n",
       "       'Германия-Великобритания', 'Германия-Израиль',\n",
       "       'Германия-Италия- Шри-Ланка', 'Германия-Италия-Швейцария',\n",
       "       'Германия-Канада-Великобритания-Швейцария-Франция',\n",
       "       'Германия-Канада-Франция-Бельгия', 'Германия-Кения',\n",
       "       'Германия-США', 'Германия-Украина-Нидерланды',\n",
       "       'Германия-Франция-Великобритания',\n",
       "       'Германия-Франция-Великобритания-США', 'Германия-Франция-Польша',\n",
       "       'Германия-Швеция', 'Голландия', 'Гонконг', 'Гонконг - КНР',\n",
       "       'Гонконг - Сингапур - Таиланд - Великобритания', 'Гонконг, КНР',\n",
       "       'Греция', 'Греция - Германия - Франция', 'Греция - Россия',\n",
       "       'Грузия', 'Грузия - Россия - Украина - Хорватия - Германия',\n",
       "       'Грузия - Украина', 'Грузия - Франция - Люксембург',\n",
       "       'Грузия-Россия', 'Грузия-Франция', 'Дания',\n",
       "       'Дания - Австрия - Ирландия - Финляндия - Норвегия - Швеция - Нидерланды',\n",
       "       'Дания - Великобритания - ЮАР', 'Дания - Германия',\n",
       "       'Дания - Германия - Швеция', 'Дания - Исландия',\n",
       "       'Дания - Канада - Швеция - Франция - Германия - Великобритания - США',\n",
       "       'Дания - Латвия - Россия - США',\n",
       "       'Дания - Норвегия - Великобритания', 'Дания - США',\n",
       "       'Дания - Франция - Германия - Швеция',\n",
       "       'Дания - Франция - Италия - Бельгия - Нидерланды',\n",
       "       'Дания - Швейцария - Бельгия - Франция', 'Дания - Швеция',\n",
       "       'Дания - Швеция - Великобритания - Франция - Германия - Нидерланды - Норвегия - Финляндия',\n",
       "       'Дания - Швеция - Италия - Франция - Германия',\n",
       "       'Дания, Канада, Норвегия, Австралия, США',\n",
       "       'Дания, Норвегия, Венгрия, Чехия',\n",
       "       'Дания, Норвегия, Швеция, Исландия',\n",
       "       'Дания, Швеция, Великобритания, Франция, Германия, Норвегия, Финляндия, Нидерланды, Италия',\n",
       "       'Дания-Франция-Бельгия-Германия-Великобритания',\n",
       "       'Дания-Швеция-Франция-Германия', 'Израиль',\n",
       "       'Израиль - Германия - Польша - Бельгия - Франция - Люксембург',\n",
       "       'Израиль - Германия - Франция - Швейцария', 'Израиль - Франция',\n",
       "       'Израиль - Франция - Великобритания - Германия',\n",
       "       'Израиль - Франция - Германия - Палестина - США - Австрия - Великобритания',\n",
       "       'Израиль, Украина', 'Израиль-США-Франция', 'Индия',\n",
       "       'Индия - Великобритания', 'Индия - КНР', 'Индия - Мексика',\n",
       "       'Индия - США', 'Индонезия', 'Иран', 'Иран, Франция', 'Ирландия',\n",
       "       'Ирландия - Великобритания - Канада',\n",
       "       'Ирландия - Великобритания - США',\n",
       "       'Ирландия - Великобритания - Франция - США',\n",
       "       'Ирландия - Великобритания - Франция - США - Германия - Нидерланды',\n",
       "       'Ирландия - Дания - Бельгия - Люксембург - Франция',\n",
       "       'Ирландия - США',\n",
       "       'Ирландия - Финляндия - Бельгия - Великобритания - США - Швейцария',\n",
       "       'Ирландия, Великобритания', 'Ирландия, Канада',\n",
       "       'Ирландия-Великобритания', 'Ирландия-Великобритания-Германия',\n",
       "       'Ирландия-Нидерланды-Франция-США-Великобритания', 'Исландия',\n",
       "       'Исландия - Финляндия', 'Исландия, Бельгия',\n",
       "       'Исландия-Ирландия-Германия', 'Испания', 'Испания - Аргентина',\n",
       "       'Испания - Аргентина - Индия - США',\n",
       "       'Испания - Бельгия - Франция - Португалия - Великобритания',\n",
       "       'Испания - Болгария - США', 'Испания - Великобритания - Франция',\n",
       "       'Испания - Германия - Нидерланды', 'Испания - Италия - Франция',\n",
       "       'Испания - Канада', 'Испания - Канада - Япония', 'Испания - Куба',\n",
       "       'Испания - Мальта', 'Испания - Мексика', 'Испания - США',\n",
       "       'Испания - США - Великобритания - Канада',\n",
       "       'Испания - США - Колумбия', 'Испания - Уругвай - Аргентина',\n",
       "       'Испания - Франция',\n",
       "       'Испания - Франция - Нидерланды - Германия - Бельгия - Великобритания - Канада',\n",
       "       'Испания - Франция - США - Великобритания - Бельгия',\n",
       "       'Испания - Швейцария - Великобритания - Германия - Новая Зеландия - Нидерланды - Канада',\n",
       "       'Испания, Ирландия, Бельгия, Франция',\n",
       "       'Испания, Франция, Великобритания, Дания, Бельгия, Германия',\n",
       "       'Испания, Франция, Италия', 'Испания-Аргентина', 'Испания-Канада',\n",
       "       'Испания-Колумбия', 'Испания-Мексика',\n",
       "       'Испания-Франция-Греция-Индия-США-Россия-Великобритания', 'Италия',\n",
       "       'Италия - Аргентина - Словения', 'Италия - Бельгия - Франция',\n",
       "       'Италия - Канада', 'Италия - Россия', 'Италия - США',\n",
       "       'Италия - Франция', 'Италия - Франция - Германия',\n",
       "       'Италия - Франция - Швейцария',\n",
       "       'Италия - Франция - Швейцария - Великобритания',\n",
       "       'Италия - Фрация - Бразилия - Германия',\n",
       "       'Италия - Швейцария - Германия', 'Италия, Германия',\n",
       "       'Италия, Испания', 'Италия, Франция', 'Италия, Франция, Германия',\n",
       "       'Италия-Великобритания', 'Италия-США', 'Италия-Франция',\n",
       "       'Италия-Франция-Великобритания', 'Италия-Швейцария',\n",
       "       'Италия-Швейцария-Франция-Германия', 'КНР', 'КНР - Гонконг',\n",
       "       'КНР - Гонконг - США', 'КНР - Канада - США', 'КНР - США',\n",
       "       'КНР - Сингапур', 'КНР - Франция', 'КНР, Индия, Гонконг, США',\n",
       "       'КНР, США', 'КНР-США', 'Казахстан', 'Канада', 'Канада - Германия',\n",
       "       'Канада - Испания', 'Канада - Италия', 'Канада - КНР',\n",
       "       'Канада - Мексика', 'Канада - Норвегия', 'Канада - США',\n",
       "       'Канада - США - Германия - Франция',\n",
       "       'Канада - США - Нидерланды - Великобритания - Аргентина',\n",
       "       'Канада - Франция', 'Канада - Франция - Великобритания',\n",
       "       'Канада - Франция - Испания',\n",
       "       'Канада - Франция - США - ОАЭ - Великобритания',\n",
       "       'Канада - Южная Корея', 'Канада, Великобритания', 'Канада, США',\n",
       "       'Канада, США, Каймановы острова', 'Канада, США, Норвегия',\n",
       "       'Канада, Франция, Италия, Швейцария, США', 'Канада- Испания',\n",
       "       'Канада-Бразилия-Япония', 'Канада-Великобритания',\n",
       "       'Канада-Германия', 'Канада-США', 'Канада-Франция', 'Канада-ЮАР',\n",
       "       'Канада-Южная Корея-США', 'Кения, Германия', 'Киргизия',\n",
       "       'Киргизия-Россия', 'Китай', 'Китай - Гонконг',\n",
       "       'Китай, Канада, США', 'Китай, США', 'Китай-Гонконг',\n",
       "       'Китай-Гонконг-США', 'Княжество Андорра - Украина', 'Колумбия',\n",
       "       'Колумбия - США', 'Корея', 'Латвия - Россия', 'Латвия - Франция',\n",
       "       'Ливан-США', 'Литва - Венгрия', 'Литва-Россия-Украина',\n",
       "       'Люксембург - Бельгия - Франция',\n",
       "       'Люксембург - Нидерланды - Испания - Великобритания - США - Италия',\n",
       "       'Македония - Франция - Великобритания', 'Малайзия',\n",
       "       'Малайзия - США', 'Мексика',\n",
       "       'Мексика - Аргентина - Великобритания', 'Мексика - Испания',\n",
       "       'Мексика - Испания - Дания - США',\n",
       "       'Мексика - Нидерланды - Германия - Франция', 'Мексика - США',\n",
       "       'Мексика - Тайвань - США', 'Мексика - Франция',\n",
       "       'Мексика - Франция - Нидерланды - Германия', 'Мексика - Чили',\n",
       "       'Мексика - Эквадор - Канада - США - Франция - Малайзия - Италия - Аргентина - Германия - Индия',\n",
       "       'Мексика, Франция, Германия, Дания, Швеция', 'Мексика-Аргентина',\n",
       "       'Монголия', 'Нидерланды', 'Нидерланды - Бельгия - Болгария',\n",
       "       'Нидерланды - Бельгия - Германия - Ирландия',\n",
       "       'Нидерланды - Бельгия - Люксембург',\n",
       "       'Нидерланды - Великобритания - Бельгия', 'Нидерланды - Россия',\n",
       "       'Нидерланды - Россия - Германия',\n",
       "       'Нидерланды - США - Германия - Канада - Франция - Ирландия - Великобритания',\n",
       "       'Нидерланды - Франция - Германия - Бельгия - Швеция - Великобритания',\n",
       "       'Нидерланды, Бельгия', 'Нидерланды, Бельгия, Люксембург',\n",
       "       'Нидерланды-Великобритания-Франция-Италия-Япония',\n",
       "       'Новая Зеландия', 'Новая Зеландия - КНР', 'Новая Зеландия - США',\n",
       "       'Норвегия',\n",
       "       'Норвегия - Азербайджан - Россия - Колумбия - Великобритания - Венгрия - Румыния - Франция - Грузия',\n",
       "       'Норвегия - Дания - Швеция',\n",
       "       'Норвегия - Исландия - США - Великобритания',\n",
       "       'Норвегия - Нидерланды', 'Норвегия - США', 'Норвегия - Швеция',\n",
       "       'Норвегия - Швеция - Дания - Германия',\n",
       "       'Норвегия - Швеция - Россия', 'Норвегия, Швеция, Дания',\n",
       "       'Норвения', 'ОАЭ - США', 'Пакистан', 'Парагвай', 'Перу', 'Польша',\n",
       "       'Польша - Ирландия', 'Польша - Италия - Россия',\n",
       "       'Польша - Португалия - Франция - Великобритания',\n",
       "       'Польша - Франция', 'Польша - Франция - Великобритания',\n",
       "       'Польша - Франция - Испания - Бразилия - Швеция', 'Португалия',\n",
       "       'Португалия - Франция', 'Португалия, Франция, Польша, США',\n",
       "       'Пуэрто-Рико, Великобритания, США', 'Республика Армения',\n",
       "       'Республика Беларусь',\n",
       "       'Республика Беларусь, Германия, США, Россия',\n",
       "       'Республика Казахстан', 'Республика Кипр',\n",
       "       'Республика Кипр - Россия', 'Республика Кипр, Россия',\n",
       "       'Республика Кипр, США, Россия', 'Республика Кипр-Россия',\n",
       "       'Республика Корея', 'Республика Узбекистан', 'Россия',\n",
       "       'Россия - Азербайджан', 'Россия - Болгария', 'Россия - Германия',\n",
       "       'Россия - Германия - Украина', 'Россия - Германия - Швейцария',\n",
       "       'Россия - Грузия', 'Россия - Италия', 'Россия - Казахстан',\n",
       "       'Россия - Польша', 'Россия - Республика Кипр', 'Россия - США',\n",
       "       'Россия - Франция - Великобритания - Латвия',\n",
       "       'Россия - Эстония - Финляндия - Беларусь', 'Россия,  Испания',\n",
       "       'Россия, Австрия', 'Россия, Армения', 'Россия, Бельгия, Финляндия',\n",
       "       'Россия, Германия', 'Россия, Германия, Великобритания',\n",
       "       'Россия, Германия, Казахстан, Польша, Китай',\n",
       "       'Россия, Германия, Франция, Бельгия', 'Россия, Грузия, Испания',\n",
       "       'Россия, Грузия, Хорватия, Испания', 'Россия, Испания',\n",
       "       'Россия, Италия', 'Россия, Казахстан, США',\n",
       "       'Россия, Латвия, Чешская Республика',\n",
       "       'Россия, Нидерланды, Финляндия', 'Россия, Польша, Финляндия',\n",
       "       'Россия, Республика Беларусь', 'Россия, Республика Кипр',\n",
       "       'Россия, Румыния', 'Россия, Сербия', 'Россия, Таджикистан',\n",
       "       'Россия, Украина', 'Россия, Украина, Польша',\n",
       "       'Россия, Украина, Республика Беларусь, Литва',\n",
       "       'Россия, Франция, Германия, Бельгия', 'Россия, Франция, Латвия',\n",
       "       'Россия-Азербайджан', 'Россия-Беларусь', 'Россия-Белоруссия',\n",
       "       'Россия-Германия', 'Россия-Ирландия', 'Россия-Италия',\n",
       "       'Россия-Казахстан', 'Россия-Кипр', 'Россия-Китай', 'Россия-Польша',\n",
       "       'Россия-Польша-Голландия-Словакия', 'Россия-США',\n",
       "       'Россия-США-Канада-Люксембург', 'Россия-Словакия-Чехия',\n",
       "       'Россия-Украина', 'Россия-Украина-Германия', 'Россия-Франция',\n",
       "       'Румыния', 'Румыния - Франция - Бельгия',\n",
       "       'Румыния, ЮАР, Иран, Франция, Канада, Великобритания',\n",
       "       'Румыния-США', 'СССР', 'СССР - ГДР - Польша - Италия',\n",
       "       'СССР - Италия', 'СССР - Швейцария - Франция', 'СССР, Албания',\n",
       "       'СССР, Афганистан', 'СССР, ВНР', 'СССР, Венгрия',\n",
       "       'СССР, Венгрия, ЧССР, ГДР', 'СССР, ГДР', 'СССР, Италия',\n",
       "       'СССР, Монголия', 'СССР, Польша', 'СССР, Россия',\n",
       "       'СССР, Румыния, Франция', 'СССР, ФРГ',\n",
       "       'СССР, ФРГ, Западный Берлин', 'СССР, Финляндия',\n",
       "       'СССР, Франция, Англия, Куба, ГДР',\n",
       "       'СССР, ЧССР, Западный Берлин, ПНР', 'СССР, Швеция', 'США',\n",
       "       'США - Австралия', 'США - Австралия - Дания',\n",
       "       'США - Австралия - Индия', 'США - Австралия - Мексика',\n",
       "       'США - Австралия - Новая Зеландия - Великобритания',\n",
       "       'США - Австралия - Франция', 'США - Бельгия',\n",
       "       'США - Бельгия - Великобритания', 'США - Болгария - Мексика',\n",
       "       'США - Бразилия - Великобритания - Канада',\n",
       "       'США - Бразилия - Франция - Австралия - Великобритания - Германия',\n",
       "       'США - Великобритания', 'США - Великобритания - Австралия',\n",
       "       'США - Великобритания - Болгария',\n",
       "       'США - Великобритания - Германия',\n",
       "       'США - Великобритания - Германия - - Швеция - Канада',\n",
       "       'США - Великобритания - Германия - Бельгия - Дания',\n",
       "       'США - Великобритания - Германия - Новая Зеландия - Бельгия - Франция',\n",
       "       'США - Великобритания - Ирландия',\n",
       "       'США - Великобритания - Исландия',\n",
       "       'США - Великобритания - Испания',\n",
       "       'США - Великобритания - Италия - Израиль - Сербия - Индия',\n",
       "       'США - Великобритания - КНР', 'США - Великобритания - Канада',\n",
       "       'США - Великобритания - Канада - КНР',\n",
       "       'США - Великобритания - Канада - Швеция',\n",
       "       'США - Великобритания - Новая Зеландия',\n",
       "       'США - Великобритания - Франция',\n",
       "       'США - Великобритания - Франция - Гонконг',\n",
       "       'США - Великобритания - Чехия',\n",
       "       'США - Великобритания - Швейцария - Франция',\n",
       "       'США - Великобритания - Швеция', 'США - Великобритания - Япония',\n",
       "       'США - Великобритания- Франция - Швеция',\n",
       "       'США - Венгрия - Великобритания', 'США - Вьетнам',\n",
       "       'США - Германия', 'США - Германия - Великобритания',\n",
       "       'США - Германия - Гонконг - Сингапур', 'США - Германия - КНР',\n",
       "       'США - Германия - Канада', 'США - Германия - Нидерланды',\n",
       "       'США - Германия - Франция',\n",
       "       'США - Германия - Франция - Великобритания - Канада',\n",
       "       'США - Германия - Япония', 'США - Гонконг', 'США - Гонконг - КНР',\n",
       "       'США - Дания', 'США - Индия', 'США - Индия - ОАЭ',\n",
       "       'США - Ирландия - Великобритания',\n",
       "       'США - Ирландия - Великобритания - Франция', 'США - Испания',\n",
       "       'США - Испания - Болгария', 'США - Испания - Франция',\n",
       "       'США - Испания - Франция - Великобритания', 'США - Италия',\n",
       "       'США - КНР', 'США - КНР - Индия - Ю.Корея', 'США - Канада',\n",
       "       'США - Канада - Аргентина',\n",
       "       'США - Канада - Афганистан - Бельгия - Франция',\n",
       "       'США - Канада - Великобритания', 'США - Канада - Германия',\n",
       "       'США - Канада - Германия - Франция', 'США - Канада - Индонезия',\n",
       "       'США - Канада - КНР',\n",
       "       'США - Канада - Россия - Франция - Чили - Ирландия',\n",
       "       'США - Канада - Франция - Индия', 'США - Канада - Япония - КНР',\n",
       "       'США - Китай', 'США - Колумбия', 'США - Колумбия - Испания',\n",
       "       'США - Мальта', 'США - Мексика',\n",
       "       'США - Нидерланды - Бельгия - Венгрия - Греция - Канада',\n",
       "       'США - Нидерланды - Финляндия - Великобритания - Италия',\n",
       "       'США - Новая Зеландия', 'США - Новая Зеландия - Япония',\n",
       "       'США - Норвегия', 'США - ОАЭ',\n",
       "       'США - Объединенные Арабские Эмираты', 'США - Пуэрто Рико',\n",
       "       'США - Пуэрто-Рико - Франция', 'США - Россия',\n",
       "       'США - Россия - Польша - Германия - Пуэрто Рико',\n",
       "       'США - Россия - Франция', 'США - Румыния - Великобритания',\n",
       "       'США - Сингапур - Малайзия - Индонезия', 'США - Украина',\n",
       "       'США - Финляндия',\n",
       "       'США - Финляндия - Испания - Великобритания - Франция',\n",
       "       'США - Франция', 'США - Франция - Бельгия - Италия',\n",
       "       'США - Франция - Великобритания',\n",
       "       'США - Франция - Великобритания - Бразилия',\n",
       "       'США - Франция - Германия',\n",
       "       'США - Франция - Германия - Канада - Австралия',\n",
       "       'США - Франция - Испания - Великобритания',\n",
       "       'США - Франция - Канада - Великобритания',\n",
       "       'США - Франция - Канада - Германия - Австралия - Индия',\n",
       "       'США - Франция - Турция', 'США - Франция - ЮАР',\n",
       "       'США - Хорватия - Босния-Герцеговина', 'США - Чехия - Франция',\n",
       "       'США - Чили', 'США - Швейцария - Франция', 'США - Швеция',\n",
       "       'США - ЮАР', 'США - ЮАР - Гонконг', 'США - Южная Корея',\n",
       "       'США - Япония', 'США - Япония - Германия',\n",
       "       'США - Япония - Канада - Великобритания - Германия - Франция',\n",
       "       'США - Япония - Франция - Великобритания',\n",
       "       'США -Великобритания - Австралия', 'США -Германия',\n",
       "       'США, Великобритания', 'США, Великобритания, Ирландия, Люксембург',\n",
       "       'США, Великобритания, Люксембург', 'США, Великобритания, Франция',\n",
       "       'США, Германия', 'США, Гонконг', 'США, Индия', 'США, Канада',\n",
       "       'США, Россия', 'США, Украина', 'США, Франция',\n",
       "       'США, Франция, Япония', 'США, Япония', 'США- Ю.Корея',\n",
       "       'США-Австралия', 'США-Аргентина', 'США-Бельгия',\n",
       "       'США-Великобритания', 'США-Великобритания-Австралия',\n",
       "       'США-Великобритания-Индия', 'США-Великобритания-Ирландия',\n",
       "       'США-Великобритания-Новая Зеландия', 'США-Великобритания-Франция',\n",
       "       'США-Великобритания-Чехия-Румыния', 'США-Венгрия', 'США-Германия',\n",
       "       'США-Германия-Австралия', 'США-Германия-Великобритания',\n",
       "       'США-Германия-Канада', 'США-Гонконг-Китай', 'США-Индия',\n",
       "       'США-Индонезия', 'США-Ирландия', 'США-Испания',\n",
       "       'США-Италия-Греция', 'США-Италия-Испания',\n",
       "       'США-Италия-Испания-Аргентина', 'США-КНР', 'США-Канада',\n",
       "       'США-Канада-Австралия', 'США-Канада-Бельгия', 'США-Канада-Италия',\n",
       "       'США-Канада-Франция', 'США-Китай', 'США-Колумбия', 'США-Мальта',\n",
       "       'США-Мексика', 'США-Нидерланды', 'США-ОАЭ', 'США-Россия',\n",
       "       'США-ФРГ-Россия', 'США-Франция',\n",
       "       'США-Франция-Великобритания-Австрия', 'США-Франция-Ирландия',\n",
       "       'США-Франция-Испания', 'США-Франция-Канада', 'США-ЮАР',\n",
       "       'США-Южная Корея-Новая Зеландия', 'США-Япония',\n",
       "       'США-Япония-Германия-Великобритания',\n",
       "       'США-Япония-Германия-Великобритания-Нидерланды', 'СЩА',\n",
       "       'Сербия - Великобритания - США', 'Сербия - Германия - Венгрия',\n",
       "       'Сербия - Словения - Хорватия - Черногория - Македония',\n",
       "       'Сингапур - Великобритания - Индонезия - Канада - США',\n",
       "       'Сша, Канада', 'Таиланд', 'Таиланд - КНР - США', 'Таиланд - США',\n",
       "       'Таиланд-Великобритания-Франция-Германия-Испания-Нидерланды',\n",
       "       'Турция', 'Турция - Германя - Франция', 'Турция - США', 'Украина',\n",
       "       'Украина - Германия - Латвия - Эстония', 'Украина - Нидерланды',\n",
       "       'Уругвай - Аргентина - Испания', 'Уругвай - Колумбия',\n",
       "       'Уругвай-Мексика-Германия', 'Финляндия',\n",
       "       'Финляндия - Австрия - Россия',\n",
       "       'Финляндия - Великобритания - Германия', 'Финляндия - Германия',\n",
       "       'Финляндия - Дания - Германия - Ирландия',\n",
       "       'Финляндия - Исландия - Швеция', 'Финляндия - Канада',\n",
       "       'Финляндия - Польша', 'Финляндия - Франция - Германия',\n",
       "       'Финляндия - Швеция - Германия', 'Финляндия - Швеция - Норвегия',\n",
       "       'Финляндия, Латвия', 'Финляндия-Дания-Германия-Ирландия',\n",
       "       'Франция', 'Франция -  Бельгия', 'Франция - Австрия',\n",
       "       'Франция - Австрия - Германия - Италия - США', 'Франция - Бельгия',\n",
       "       'Франция - Бельгия - Великобритания - Испания - Германия - США',\n",
       "       'Франция - Бельгия - Великобритания - США - Нидерланды - Канада',\n",
       "       'Франция - Бельгия - Испания', 'Франция - Бельгия - Канада',\n",
       "       'Франция - Бельгия - Люксембург', 'Франция - Бельгия - Чехия',\n",
       "       'Франция - Бельгия - Япония', 'Франция - Бенльгия',\n",
       "       'Франция - Бразилия', 'Франция - Бразилия - Италия',\n",
       "       'Франция - Великобритания',\n",
       "       'Франция - Великобритания - Багамские острова - США',\n",
       "       'Франция - Великобритания - Камбоджа - США - КНР',\n",
       "       'Франция - Великобритания - Нидерланды - Люксембург',\n",
       "       'Франция - Германия', 'Франция - Германия - Австрия',\n",
       "       'Франция - Германия - Бельгия', 'Франция - Германия - Италия',\n",
       "       'Франция - Германия - Литва - Нидерланды - Россия',\n",
       "       'Франция - Германия - Нидерланды', 'Франция - Германия - США',\n",
       "       'Франция - Германия - Турция - Катар',\n",
       "       'Франция - Германия - Швеция - США - Чехия - Словакия - Великобритания - Нидерланды',\n",
       "       'Франция - Греция', 'Франция - Дания', 'Франция - Дания - США',\n",
       "       'Франция - Дания - Швеция - КНР', 'Франция - Израиль - Германия',\n",
       "       'Франция - Ирландия - Швеция', 'Франция - Испания',\n",
       "       'Франция - Испания - Дания - Венгрия - Швейцария',\n",
       "       'Франция - Испания - Румыния - США - Бельгия',\n",
       "       'Франция - Испания - Тайвань', 'Франция - Италия',\n",
       "       'Франция - Италия - Бельгия - КНР',\n",
       "       'Франция - Италия - Бельгия - Люксембург',\n",
       "       'Франция - Италия - Великобритания - США',\n",
       "       'Франция - Италия - Иран', 'Франция - Италия - Швейцария',\n",
       "       'Франция - КНР', 'Франция - Канада', 'Франция - Канада - Бельгия',\n",
       "       'Франция - Канада - Н.Зеландия - США - Нидерланды - Германия - Швеция - Россия',\n",
       "       'Франция - Люксембург', 'Франция - Люксембург - Бельгия',\n",
       "       'Франция - Люксембург - Германия - Бельгия - Швейцария - Великобритания',\n",
       "       'Франция - Македония', 'Франция - Мексика - США',\n",
       "       'Франция - Монако', 'Франция - Нидерланды',\n",
       "       'Франция - Польша - Бельгия', 'Франция - Португалия',\n",
       "       'Франция - Россия',\n",
       "       'Франция - Россия - Швейцария - Румыния - Венгрия',\n",
       "       'Франция - США', 'Франция - США - Бельгия',\n",
       "       'Франция - США - Великобритания - Колумбия - Бельгия - Россия',\n",
       "       'Франция - США - Норвегия - Дания', 'Франция - Сенегал - Бельгия',\n",
       "       'Франция - Украина - Грузия - Армения', 'Франция - Финляндия',\n",
       "       'Франция - Чехия - Бельгия', 'Франция - Чехия - Великобритания',\n",
       "       'Франция - Чили', 'Франция - Швейцария',\n",
       "       'Франция - Швейцария - Германия',\n",
       "       'Франция - Швеция - Дания - Норвегия', 'Франция -Бельгия',\n",
       "       'Франция, Бельгия', 'Франция, Бельгия, Люксембург',\n",
       "       'Франция, Германия', 'Франция, Канада',\n",
       "       'Франция, Люксембург, Бельгия', 'Франция, Новая Зеландия',\n",
       "       'Франция, Норвегия', 'Франция-Австралия', 'Франция-Аргентина',\n",
       "       'Франция-Бельгия', 'Франция-Бельгия-Канада',\n",
       "       'Франция-Великобритания', 'Франция-Великобритания - Германия',\n",
       "       'Франция-Великобритания-Чехия', 'Франция-Германия',\n",
       "       'Франция-Германия-Австрия', 'Франция-Германия-Великобритания',\n",
       "       'Франция-Германия-Италия', 'Франция-Гонконг-Ирландия',\n",
       "       'Франция-Грузия-Германия-Россия-Украина-Бельгия', 'Франция-Индия',\n",
       "       'Франция-Испания', 'Франция-Испания-Бельгия-Панама',\n",
       "       'Франция-Испания-Германия', 'Франция-Испания-Швейцария',\n",
       "       'Франция-Италия', 'Франция-Италия-Испания-Венгрия', 'Франция-КНР',\n",
       "       'Франция-Канада', 'Франция-Китай', 'Франция-Перу',\n",
       "       'Франция-Польша', 'Франция-Россия',\n",
       "       'Франция-Россия-Румыния-Италия-Бельгия', 'Франция-США',\n",
       "       'Франция-Украина', 'Хорватия', 'Чехия', 'Чехия - Германия',\n",
       "       'Чехия - Испания - США', 'Чехия - Словакия - Хорватия',\n",
       "       'Чехия-Великобритания-США', 'Чехословакия', 'Чили',\n",
       "       'Чили - Испания', 'Чили - Франция - США', 'Швейцария',\n",
       "       'Швейцария - Австрия', 'Швейцария - Великобритания',\n",
       "       'Швейцария - Израиль - Франция - Великобритания',\n",
       "       'Швейцария - КНР - США - Россия - Республика Корея - Великобритания',\n",
       "       'Швейцария - Люксембург', 'Швейцария - Франция',\n",
       "       'Швейцария, Великобритания, Франция, США, Ирландия',\n",
       "       'Швейцария-Австрия', 'Швейцария-Германия-ЮАР', 'Швейцария-Франция',\n",
       "       'Швеция', 'Швеция - Германия',\n",
       "       'Швеция - Германия - Дания - Норвегия',\n",
       "       'Швеция - Германия - Франция - Дания',\n",
       "       'Швеция - Германия - Франция - Норвегия', 'Швеция - Дания',\n",
       "       'Швеция - Дания - Финляндия', 'Швеция - Норвегия', 'Швеция - США',\n",
       "       'Швеция - Франция - Норвегия - Дания',\n",
       "       'Швеция, Норвегия, Финляндия, Франция',\n",
       "       'Швеция, Франция, Великобритания', 'Швеция-Куба',\n",
       "       'Швеция-Финляндия-Франция-Норвегия', 'Швеция-Франция',\n",
       "       'Швеция-Франция-Дания', 'Эстония', 'Эстония - Россия', 'ЮАР',\n",
       "       'ЮАР - США', 'Южная Корея', 'Южная Корея - КНР',\n",
       "       'Южная Корея - США', 'Южная Корея - США - Канада', 'Япония',\n",
       "       'Япония - Великобритания - Франция',\n",
       "       'Япония - Великобритания - Швейцария - Ирландия - Дания - Франция - Польша - Австралия - Канада',\n",
       "       'Япония - КНР - Южная Корея', 'Япония - Канада', 'Япония - США',\n",
       "       'Япония - Франция - США - Южная Корея - Турция',\n",
       "       'Япония, Великобритания',\n",
       "       'Япония, Великобритания, Австрия, Германия, Ю.Корея',\n",
       "       'Япония, США', 'Япония-Великобритания', 'Япония-США-Франция'],\n",
       "      dtype=object)"
      ]
     },
     "execution_count": 137,
     "metadata": {},
     "output_type": "execute_result"
    }
   ],
   "source": [
    "combined_data['production_country'].sort_values().unique()\n",
    "combined_data['production_country'] = combined_data['production_country'].str.strip()\n",
    "combined_data['production_country'].sort_values().unique()"
   ]
  },
  {
   "cell_type": "markdown",
   "metadata": {},
   "source": [
    "После проверки столбцов \"Название фильма\", \"Студия производитель\" и \"Страна производства\" видим что во всех трех столбцах встречается одна и та же проблема. В значения есть пробелы как перез самим значением так и после. Чтобы убрать пробелы в начале столбца использовал дополнительный параметр метода read_csv, а именно skipinitialspace = True. Информацию нашел вот тут:\n",
    "https://www.geeksforgeeks.org/pandas-strip-whitespace-from-entire-dataframe/\n",
    "А остальные пробелы убираем методом str.strip()\n",
    "После чего проверяем значения и видим что метод сработал. При этом в столбце \"Страна производства\" есть и другие ошибки: не верныц разделитель между названиями стран и ; в середине слова. Удалим ; с помощью метода replace(). И его же используем чтобы привести значения к единому виду, уберем тире с пробелами и запятые. На земену этим занчениям поставим просто тире."
   ]
  },
  {
   "cell_type": "code",
   "execution_count": 138,
   "metadata": {},
   "outputs": [],
   "source": [
    "combined_data['production_country'] = combined_data['production_country'].str.replace(';','')\n",
    "combined_data['production_country'] = combined_data['production_country'].str.replace(' - ','-')\n",
    "combined_data['production_country'] = combined_data['production_country'].str.replace(', ','-')"
   ]
  },
  {
   "cell_type": "code",
   "execution_count": 139,
   "metadata": {},
   "outputs": [
    {
     "data": {
      "text/plain": [
       "array(['2019', 'CША', 'Австралия', 'Австралия-Великобритания',\n",
       "       'Австралия-Великобритания-Бельгия-Индия', 'Австралия-Германия',\n",
       "       'Австралия-Ирландия', 'Австралия-Канада', 'Австралия-Колумбия',\n",
       "       'Австралия-США', 'Австралия-Турция-США', 'Австрия',\n",
       "       'Австрия-Великобритания-Германия', 'Австрия-Германия',\n",
       "       'Австрия-Германия-Франция', 'Австрия-Люксембург',\n",
       "       'Австрия-Франция-Германия', 'Азербайджан-Россия', 'Аргентина',\n",
       "       'Аргентина-Бразилия', 'Аргентина-Испания',\n",
       "       'Аргентина-Испания-Уругвай',\n",
       "       'Аргентина-Мексика-Бразилия-Франция-США',\n",
       "       'Аргентина-Уругвай-Россия-Германия-Франция-Нидерланды',\n",
       "       'Аргентина-Франция-Испания', 'Армения', 'Армения-Германия',\n",
       "       'Армения-Казахстан', 'Армения-Россия', 'Бельгия',\n",
       "       'Бельгия-Великобритания-США',\n",
       "       'Бельгия-Германия-Канада-Франция-США-Великобритания',\n",
       "       'Бельгия-Германия-Люксембург',\n",
       "       'Бельгия-Германия-Люксембург-Франция',\n",
       "       'Бельгия-Испания-Канада-Нидерланды', 'Бельгия-Италия-Франция',\n",
       "       'Бельгия-Канада', 'Бельгия-Люксембург',\n",
       "       'Бельгия-Люксембург-Франция-Швейцария', 'Бельгия-Нидерланды',\n",
       "       'Бельгия-Нидерланды-Франция', 'Бельгия-США', 'Бельгия-Франция',\n",
       "       'Бельгия-Франция-Италия', 'Бельгия-Франция-Люксембург', 'Болгария',\n",
       "       'Болгария-США', 'Болгария-Франция-Изриль',\n",
       "       'Босния и Герцеговина-Франция-Великобритания-Германия-Словения-Бельгия-Сербия',\n",
       "       'Бразилия', 'Бразилия-Германия-Порртугалия-Франция',\n",
       "       'Бразилия-Испания', 'Бразилия-Канада', 'Бразилия-Канада-США',\n",
       "       'Бразилия-Португалия-Франция', 'Бразилия-США', 'Бразилия-США-КНР',\n",
       "       'Бразилия-Уругвай-Дания-Норвегия-Чили-Швеция', 'Великобритания',\n",
       "       'Великобритания-Австралия', 'Великобритания-Австралия-США',\n",
       "       'Великобритания-Австрия-Германия',\n",
       "       'Великобритания-Австрия-Франция-США',\n",
       "       'Великобритания-Аргентина-США-Франция-Россия-Испания',\n",
       "       'Великобритания-Венгрия', 'Великобритания-Германия',\n",
       "       'Великобритания-Германия-Дания-США',\n",
       "       'Великобритания-Германия-Канада-ЮАР',\n",
       "       'Великобритания-Германия-Нидерланды-Дания',\n",
       "       'Великобритания-Германия-США',\n",
       "       'Великобритания-Германия-Франция-Кипр-США',\n",
       "       'Великобритания-Гонконг-Венгрия-США-Ирландия',\n",
       "       'Великобритания-Дания', 'Великобритания-Израиль',\n",
       "       'Великобритания-Израиль-Франция-Япония-США',\n",
       "       'Великобритания-Ирландия', 'Великобритания-Ирландия-США',\n",
       "       'Великобритания-Исландия-Испания-Швейцария-США',\n",
       "       'Великобритания-Испания', 'Великобритания-Испания-Германия',\n",
       "       'Великобритания-Испания-Италия-Латвия-Франция-Эстония',\n",
       "       'Великобритания-Испания-Непал-Индия-Венгрия-Гонконг-Германия-Дания-Бахрейн',\n",
       "       'Великобритания-Италия', 'Великобритания-Италия-Испания',\n",
       "       'Великобритания-Италия-Швейцария', 'Великобритания-КНР',\n",
       "       'Великобритания-Канада', 'Великобритания-Канада-США',\n",
       "       'Великобритания-Люксембург', 'Великобритания-Мексика-США',\n",
       "       'Великобритания-Нидерланды-Германия-Франция-Бельгия-Австрия',\n",
       "       'Великобритания-Нидерланды-Польша-Швейцария-Франция',\n",
       "       'Великобритания-Нидерланды-Франция-США',\n",
       "       'Великобритания-Нидерланды-Франция-Хорватия',\n",
       "       'Великобритания-Новая Зеландия',\n",
       "       'Великобритания-Норвегия-Дания-Германия',\n",
       "       'Великобритания-Норвегия-Кения-Хорватия', 'Великобритания-Польша',\n",
       "       'Великобритания-Польша-КНР-Индия-Норвегия',\n",
       "       'Великобритания-Пуэрто-Рико', 'Великобритания-Россия-КНР',\n",
       "       'Великобритания-Россия-Украина-США', 'Великобритания-Румыния',\n",
       "       'Великобритания-США',\n",
       "       'Великобритания-США-Австралия-Ирландия-Германия-Куба-Канада',\n",
       "       'Великобритания-США-Германия',\n",
       "       'Великобритания-США-Германия-Бельгия',\n",
       "       'Великобритания-США-Германия-КНР',\n",
       "       'Великобритания-США-Германия-Канада-Австралия',\n",
       "       'Великобритания-США-Индия', 'Великобритания-США-Испания',\n",
       "       'Великобритания-США-Канада',\n",
       "       'Великобритания-США-Канада-Бельгия-Нидерланды-Австрия-Германия',\n",
       "       'Великобритания-США-Канада-Нидерланды-Франция',\n",
       "       'Великобритания-США-Россия', 'Великобритания-США-Франция',\n",
       "       'Великобритания-США-Швейцария', 'Великобритания-Франция',\n",
       "       'Великобритания-Франция-Австрия-Швеция',\n",
       "       'Великобритания-Франция-Бельгия',\n",
       "       'Великобритания-Франция-Бельгия-Италия',\n",
       "       'Великобритания-Франция-Бельгия-США',\n",
       "       'Великобритания-Франция-Венгрия',\n",
       "       'Великобритания-Франция-Германия',\n",
       "       'Великобритания-Франция-Германия-США',\n",
       "       'Великобритания-Франция-Италия',\n",
       "       'Великобритания-Франция-Италия-Индия-Дания-КНР-Бангладеш-Камбоджа-Гаити-Уганда',\n",
       "       'Великобритания-Франция-Италия-США',\n",
       "       'Великобритания-Франция-Республика Кипр-Швейцария-США-Сербия',\n",
       "       'Великобритания-Франция-США',\n",
       "       'Великобритания-Франция-Швеция-Бельгия',\n",
       "       'Великобритания-Чехия-Франция',\n",
       "       'Великобритания-Чехия-Франция-Италия', 'Великобритания-Швеция-США',\n",
       "       'Великобритания-ЮАР',\n",
       "       'Великобритания-Южная Корея-Канада-США-Индия-Китай-Япония',\n",
       "       'Великобритания-Япония-США', 'Венгрия', 'Венгрия-Германия-Швеция',\n",
       "       'Венесуэла', 'Германия', 'Германия-Австралия', 'Германия-Австрия',\n",
       "       'Германия-Австрия-Ирландия', 'Германия-Австрия-Франция',\n",
       "       'Германия-Австрия-Франция-Италия',\n",
       "       'Германия-Аргентина-Нидерланды-Чили', 'Германия-Бельгия',\n",
       "       'Германия-Бельгия-Великобритания',\n",
       "       'Германия-Бельгия-Люксембург-Ирландия',\n",
       "       'Германия-Бельгия-Люксембург-Норвегия',\n",
       "       'Германия-Бельгия-США -Франция', 'Германия-Великобритания',\n",
       "       'Германия-Великобритания-Австрия',\n",
       "       'Германия-Великобритания-Италия-Испания',\n",
       "       'Германия-Великобритания-США',\n",
       "       'Германия-Дания-Испания-Швеция-Канада-Эстония-Франция',\n",
       "       'Германия-Дания-Норвегия', 'Германия-Израиль', 'Германия-Исландия',\n",
       "       'Германия-Италия', 'Германия-Италия- Шри-Ланка',\n",
       "       'Германия-Италия-США', 'Германия-Италия-Франция',\n",
       "       'Германия-Италия-Швейцария', 'Германия-Канада',\n",
       "       'Германия-Канада-Великобритания-Швейцария-Франция',\n",
       "       'Германия-Канада-Франция-Бельгия', 'Германия-Кения',\n",
       "       'Германия-Китай', 'Германия-Люксембург-Бельгия',\n",
       "       'Германия-Люксембург-Дания', 'Германия-Люксембург-Франция',\n",
       "       'Германия-Нидерланды-Беларусь-Россия-Латвия',\n",
       "       'Германия-Нидерланды-ЮАР', 'Германия-Россия', 'Германия-США',\n",
       "       'Германия-США-Великобритания-Израиль',\n",
       "       'Германия-США-Великобритания-Ирландия',\n",
       "       'Германия-США-Франция-Испания', 'Германия-США-Швеция-Франция',\n",
       "       'Германия-Украина-Нидерланды', 'Германия-Финляндия-Австралия',\n",
       "       'Германия-Франция',\n",
       "       'Германия-Франция- Польша-Турция-Канада-Италия-Россия',\n",
       "       'Германия-Франция-Австрия', 'Германия-Франция-Бельгия',\n",
       "       'Германия-Франция-Великобритания',\n",
       "       'Германия-Франция-Великобритания-Польша-США',\n",
       "       'Германия-Франция-Великобритания-США', 'Германия-Франция-Канада',\n",
       "       'Германия-Франция-Люксембург', 'Германия-Франция-Польша',\n",
       "       'Германия-Франция-США', 'Германия-Швейцария',\n",
       "       'Германия-Швейцария-Франция-Южная Корея-США', 'Германия-Швеция',\n",
       "       'Голландия', 'Гонконг', 'Гонконг-КНР',\n",
       "       'Гонконг-Сингапур-Таиланд-Великобритания', 'Греция',\n",
       "       'Греция-Германия-Франция', 'Греция-Россия', 'Грузия',\n",
       "       'Грузия-Россия', 'Грузия-Россия-Украина-Хорватия-Германия',\n",
       "       'Грузия-Украина', 'Грузия-Франция', 'Грузия-Франция-Люксембург',\n",
       "       'Дания',\n",
       "       'Дания-Австрия-Ирландия-Финляндия-Норвегия-Швеция-Нидерланды',\n",
       "       'Дания-Великобритания-ЮАР', 'Дания-Германия',\n",
       "       'Дания-Германия-Швеция', 'Дания-Исландия',\n",
       "       'Дания-Канада-Норвегия-Австралия-США',\n",
       "       'Дания-Канада-Швеция-Франция-Германия-Великобритания-США',\n",
       "       'Дания-Латвия-Россия-США', 'Дания-Норвегия-Великобритания',\n",
       "       'Дания-Норвегия-Венгрия-Чехия', 'Дания-Норвегия-Швеция-Исландия',\n",
       "       'Дания-США', 'Дания-Франция-Бельгия-Германия-Великобритания',\n",
       "       'Дания-Франция-Германия-Швеция',\n",
       "       'Дания-Франция-Италия-Бельгия-Нидерланды',\n",
       "       'Дания-Швейцария-Бельгия-Франция', 'Дания-Швеция',\n",
       "       'Дания-Швеция-Великобритания-Франция-Германия-Нидерланды-Норвегия-Финляндия',\n",
       "       'Дания-Швеция-Великобритания-Франция-Германия-Норвегия-Финляндия-Нидерланды-Италия',\n",
       "       'Дания-Швеция-Италия-Франция-Германия',\n",
       "       'Дания-Швеция-Франция-Германия', 'Израиль',\n",
       "       'Израиль-Германия-Польша-Бельгия-Франция-Люксембург',\n",
       "       'Израиль-Германия-Франция-Швейцария', 'Израиль-США-Франция',\n",
       "       'Израиль-Украина', 'Израиль-Франция',\n",
       "       'Израиль-Франция-Великобритания-Германия',\n",
       "       'Израиль-Франция-Германия-Палестина-США-Австрия-Великобритания',\n",
       "       'Индия', 'Индия-Великобритания', 'Индия-КНР', 'Индия-Мексика',\n",
       "       'Индия-США', 'Индонезия', 'Иран', 'Иран-Франция', 'Ирландия',\n",
       "       'Ирландия-Великобритания', 'Ирландия-Великобритания-Германия',\n",
       "       'Ирландия-Великобритания-Канада', 'Ирландия-Великобритания-США',\n",
       "       'Ирландия-Великобритания-Франция-США',\n",
       "       'Ирландия-Великобритания-Франция-США-Германия-Нидерланды',\n",
       "       'Ирландия-Дания-Бельгия-Люксембург-Франция', 'Ирландия-Канада',\n",
       "       'Ирландия-Нидерланды-Франция-США-Великобритания', 'Ирландия-США',\n",
       "       'Ирландия-Финляндия-Бельгия-Великобритания-США-Швейцария',\n",
       "       'Исландия', 'Исландия-Бельгия', 'Исландия-Ирландия-Германия',\n",
       "       'Исландия-Финляндия', 'Испания', 'Испания-Аргентина',\n",
       "       'Испания-Аргентина-Индия-США',\n",
       "       'Испания-Бельгия-Франция-Португалия-Великобритания',\n",
       "       'Испания-Болгария-США', 'Испания-Великобритания-Франция',\n",
       "       'Испания-Германия-Нидерланды', 'Испания-Ирландия-Бельгия-Франция',\n",
       "       'Испания-Италия-Франция', 'Испания-Канада',\n",
       "       'Испания-Канада-Япония', 'Испания-Колумбия', 'Испания-Куба',\n",
       "       'Испания-Мальта', 'Испания-Мексика', 'Испания-США',\n",
       "       'Испания-США-Великобритания-Канада', 'Испания-США-Колумбия',\n",
       "       'Испания-Уругвай-Аргентина', 'Испания-Франция',\n",
       "       'Испания-Франция-Великобритания-Дания-Бельгия-Германия',\n",
       "       'Испания-Франция-Греция-Индия-США-Россия-Великобритания',\n",
       "       'Испания-Франция-Италия',\n",
       "       'Испания-Франция-Нидерланды-Германия-Бельгия-Великобритания-Канада',\n",
       "       'Испания-Франция-США-Великобритания-Бельгия',\n",
       "       'Испания-Швейцария-Великобритания-Германия-Новая Зеландия-Нидерланды-Канада',\n",
       "       'Италия', 'Италия-Аргентина-Словения', 'Италия-Бельгия-Франция',\n",
       "       'Италия-Великобритания', 'Италия-Германия', 'Италия-Испания',\n",
       "       'Италия-Канада', 'Италия-Россия', 'Италия-США', 'Италия-Франция',\n",
       "       'Италия-Франция-Великобритания', 'Италия-Франция-Германия',\n",
       "       'Италия-Франция-Швейцария',\n",
       "       'Италия-Франция-Швейцария-Великобритания',\n",
       "       'Италия-Фрация-Бразилия-Германия', 'Италия-Швейцария',\n",
       "       'Италия-Швейцария-Германия', 'Италия-Швейцария-Франция-Германия',\n",
       "       'КНР', 'КНР-Гонконг', 'КНР-Гонконг-США', 'КНР-Индия-Гонконг-США',\n",
       "       'КНР-Канада-США', 'КНР-США', 'КНР-Сингапур', 'КНР-Франция',\n",
       "       'Казахстан', 'Канада', 'Канада- Испания', 'Канада-Бразилия-Япония',\n",
       "       'Канада-Великобритания', 'Канада-Германия', 'Канада-Испания',\n",
       "       'Канада-Италия', 'Канада-КНР', 'Канада-Мексика', 'Канада-Норвегия',\n",
       "       'Канада-США', 'Канада-США-Германия-Франция',\n",
       "       'Канада-США-Каймановы острова',\n",
       "       'Канада-США-Нидерланды-Великобритания-Аргентина',\n",
       "       'Канада-США-Норвегия', 'Канада-Франция',\n",
       "       'Канада-Франция-Великобритания', 'Канада-Франция-Испания',\n",
       "       'Канада-Франция-Италия-Швейцария-США',\n",
       "       'Канада-Франция-США-ОАЭ-Великобритания', 'Канада-ЮАР',\n",
       "       'Канада-Южная Корея', 'Канада-Южная Корея-США', 'Кения-Германия',\n",
       "       'Киргизия', 'Киргизия-Россия', 'Китай', 'Китай-Гонконг',\n",
       "       'Китай-Гонконг-США', 'Китай-Канада-США', 'Китай-США',\n",
       "       'Княжество Андорра-Украина', 'Колумбия', 'Колумбия-США', 'Корея',\n",
       "       'Латвия-Россия', 'Латвия-Франция', 'Ливан-США', 'Литва-Венгрия',\n",
       "       'Литва-Россия-Украина', 'Люксембург-Бельгия-Франция',\n",
       "       'Люксембург-Нидерланды-Испания-Великобритания-США-Италия',\n",
       "       'Македония-Франция-Великобритания', 'Малайзия', 'Малайзия-США',\n",
       "       'Мексика', 'Мексика-Аргентина', 'Мексика-Аргентина-Великобритания',\n",
       "       'Мексика-Испания', 'Мексика-Испания-Дания-США',\n",
       "       'Мексика-Нидерланды-Германия-Франция', 'Мексика-США',\n",
       "       'Мексика-Тайвань-США', 'Мексика-Франция',\n",
       "       'Мексика-Франция-Германия-Дания-Швеция',\n",
       "       'Мексика-Франция-Нидерланды-Германия', 'Мексика-Чили',\n",
       "       'Мексика-Эквадор-Канада-США-Франция-Малайзия-Италия-Аргентина-Германия-Индия',\n",
       "       'Монголия', 'Нидерланды', 'Нидерланды-Бельгия',\n",
       "       'Нидерланды-Бельгия-Болгария',\n",
       "       'Нидерланды-Бельгия-Германия-Ирландия',\n",
       "       'Нидерланды-Бельгия-Люксембург',\n",
       "       'Нидерланды-Великобритания-Бельгия',\n",
       "       'Нидерланды-Великобритания-Франция-Италия-Япония',\n",
       "       'Нидерланды-Россия', 'Нидерланды-Россия-Германия',\n",
       "       'Нидерланды-США-Германия-Канада-Франция-Ирландия-Великобритания',\n",
       "       'Нидерланды-Франция-Германия-Бельгия-Швеция-Великобритания',\n",
       "       'Новая Зеландия', 'Новая Зеландия-КНР', 'Новая Зеландия-США',\n",
       "       'Норвегия',\n",
       "       'Норвегия-Азербайджан-Россия-Колумбия-Великобритания-Венгрия-Румыния-Франция-Грузия',\n",
       "       'Норвегия-Дания-Швеция', 'Норвегия-Исландия-США-Великобритания',\n",
       "       'Норвегия-Нидерланды', 'Норвегия-США', 'Норвегия-Швеция',\n",
       "       'Норвегия-Швеция-Дания', 'Норвегия-Швеция-Дания-Германия',\n",
       "       'Норвегия-Швеция-Россия', 'Норвения', 'ОАЭ-США', 'Пакистан',\n",
       "       'Парагвай', 'Перу', 'Польша', 'Польша-Ирландия',\n",
       "       'Польша-Италия-Россия', 'Польша-Португалия-Франция-Великобритания',\n",
       "       'Польша-Франция', 'Польша-Франция-Великобритания',\n",
       "       'Польша-Франция-Испания-Бразилия-Швеция', 'Португалия',\n",
       "       'Португалия-Франция', 'Португалия-Франция-Польша-США',\n",
       "       'Пуэрто-Рико-Великобритания-США', 'Республика Армения',\n",
       "       'Республика Беларусь', 'Республика Беларусь-Германия-США-Россия',\n",
       "       'Республика Казахстан', 'Республика Кипр',\n",
       "       'Республика Кипр-Россия', 'Республика Кипр-США-Россия',\n",
       "       'Республика Корея', 'Республика Узбекистан', 'Россия',\n",
       "       'Россия- Испания', 'Россия-Австрия', 'Россия-Азербайджан',\n",
       "       'Россия-Армения', 'Россия-Беларусь', 'Россия-Белоруссия',\n",
       "       'Россия-Бельгия-Финляндия', 'Россия-Болгария', 'Россия-Германия',\n",
       "       'Россия-Германия-Великобритания',\n",
       "       'Россия-Германия-Казахстан-Польша-Китай',\n",
       "       'Россия-Германия-Украина', 'Россия-Германия-Франция-Бельгия',\n",
       "       'Россия-Германия-Швейцария', 'Россия-Грузия',\n",
       "       'Россия-Грузия-Испания', 'Россия-Грузия-Хорватия-Испания',\n",
       "       'Россия-Ирландия', 'Россия-Испания', 'Россия-Италия',\n",
       "       'Россия-Казахстан', 'Россия-Казахстан-США', 'Россия-Кипр',\n",
       "       'Россия-Китай', 'Россия-Латвия-Чешская Республика',\n",
       "       'Россия-Нидерланды-Финляндия', 'Россия-Польша',\n",
       "       'Россия-Польша-Голландия-Словакия', 'Россия-Польша-Финляндия',\n",
       "       'Россия-Республика Беларусь', 'Россия-Республика Кипр',\n",
       "       'Россия-Румыния', 'Россия-США', 'Россия-США-Канада-Люксембург',\n",
       "       'Россия-Сербия', 'Россия-Словакия-Чехия', 'Россия-Таджикистан',\n",
       "       'Россия-Украина', 'Россия-Украина-Германия',\n",
       "       'Россия-Украина-Польша',\n",
       "       'Россия-Украина-Республика Беларусь-Литва', 'Россия-Франция',\n",
       "       'Россия-Франция-Великобритания-Латвия',\n",
       "       'Россия-Франция-Германия-Бельгия', 'Россия-Франция-Латвия',\n",
       "       'Россия-Эстония-Финляндия-Беларусь', 'Румыния', 'Румыния-США',\n",
       "       'Румыния-Франция-Бельгия',\n",
       "       'Румыния-ЮАР-Иран-Франция-Канада-Великобритания', 'СССР',\n",
       "       'СССР-Албания', 'СССР-Афганистан', 'СССР-ВНР', 'СССР-Венгрия',\n",
       "       'СССР-Венгрия-ЧССР-ГДР', 'СССР-ГДР', 'СССР-ГДР-Польша-Италия',\n",
       "       'СССР-Италия', 'СССР-Монголия', 'СССР-Польша', 'СССР-Россия',\n",
       "       'СССР-Румыния-Франция', 'СССР-ФРГ', 'СССР-ФРГ-Западный Берлин',\n",
       "       'СССР-Финляндия', 'СССР-Франция-Англия-Куба-ГДР',\n",
       "       'СССР-ЧССР-Западный Берлин-ПНР', 'СССР-Швейцария-Франция',\n",
       "       'СССР-Швеция', 'США', 'США -Великобритания-Австралия',\n",
       "       'США -Германия', 'США- Ю.Корея', 'США-Австралия',\n",
       "       'США-Австралия-Дания', 'США-Австралия-Индия',\n",
       "       'США-Австралия-Мексика',\n",
       "       'США-Австралия-Новая Зеландия-Великобритания',\n",
       "       'США-Австралия-Франция', 'США-Аргентина', 'США-Бельгия',\n",
       "       'США-Бельгия-Великобритания', 'США-Болгария-Мексика',\n",
       "       'США-Бразилия-Великобритания-Канада',\n",
       "       'США-Бразилия-Франция-Австралия-Великобритания-Германия',\n",
       "       'США-Великобритания', 'США-Великобритания- Франция-Швеция',\n",
       "       'США-Великобритания-Австралия', 'США-Великобритания-Болгария',\n",
       "       'США-Великобритания-Германия',\n",
       "       'США-Великобритания-Германия-- Швеция-Канада',\n",
       "       'США-Великобритания-Германия-Бельгия-Дания',\n",
       "       'США-Великобритания-Германия-Новая Зеландия-Бельгия-Франция',\n",
       "       'США-Великобритания-Индия', 'США-Великобритания-Ирландия',\n",
       "       'США-Великобритания-Ирландия-Люксембург',\n",
       "       'США-Великобритания-Исландия', 'США-Великобритания-Испания',\n",
       "       'США-Великобритания-Италия-Израиль-Сербия-Индия',\n",
       "       'США-Великобритания-КНР', 'США-Великобритания-Канада',\n",
       "       'США-Великобритания-Канада-КНР',\n",
       "       'США-Великобритания-Канада-Швеция',\n",
       "       'США-Великобритания-Люксембург',\n",
       "       'США-Великобритания-Новая Зеландия', 'США-Великобритания-Франция',\n",
       "       'США-Великобритания-Франция-Гонконг', 'США-Великобритания-Чехия',\n",
       "       'США-Великобритания-Чехия-Румыния',\n",
       "       'США-Великобритания-Швейцария-Франция',\n",
       "       'США-Великобритания-Швеция', 'США-Великобритания-Япония',\n",
       "       'США-Венгрия', 'США-Венгрия-Великобритания', 'США-Вьетнам',\n",
       "       'США-Германия', 'США-Германия-Австралия',\n",
       "       'США-Германия-Великобритания', 'США-Германия-Гонконг-Сингапур',\n",
       "       'США-Германия-КНР', 'США-Германия-Канада',\n",
       "       'США-Германия-Нидерланды', 'США-Германия-Франция',\n",
       "       'США-Германия-Франция-Великобритания-Канада',\n",
       "       'США-Германия-Япония', 'США-Гонконг', 'США-Гонконг-КНР',\n",
       "       'США-Гонконг-Китай', 'США-Дания', 'США-Индия', 'США-Индия-ОАЭ',\n",
       "       'США-Индонезия', 'США-Ирландия', 'США-Ирландия-Великобритания',\n",
       "       'США-Ирландия-Великобритания-Франция', 'США-Испания',\n",
       "       'США-Испания-Болгария', 'США-Испания-Франция',\n",
       "       'США-Испания-Франция-Великобритания', 'США-Италия',\n",
       "       'США-Италия-Греция', 'США-Италия-Испания',\n",
       "       'США-Италия-Испания-Аргентина', 'США-КНР', 'США-КНР-Индия-Ю.Корея',\n",
       "       'США-Канада', 'США-Канада-Австралия', 'США-Канада-Аргентина',\n",
       "       'США-Канада-Афганистан-Бельгия-Франция', 'США-Канада-Бельгия',\n",
       "       'США-Канада-Великобритания', 'США-Канада-Германия',\n",
       "       'США-Канада-Германия-Франция', 'США-Канада-Индонезия',\n",
       "       'США-Канада-Италия', 'США-Канада-КНР',\n",
       "       'США-Канада-Россия-Франция-Чили-Ирландия', 'США-Канада-Франция',\n",
       "       'США-Канада-Франция-Индия', 'США-Канада-Япония-КНР', 'США-Китай',\n",
       "       'США-Колумбия', 'США-Колумбия-Испания', 'США-Мальта',\n",
       "       'США-Мексика', 'США-Нидерланды',\n",
       "       'США-Нидерланды-Бельгия-Венгрия-Греция-Канада',\n",
       "       'США-Нидерланды-Финляндия-Великобритания-Италия',\n",
       "       'США-Новая Зеландия', 'США-Новая Зеландия-Япония', 'США-Норвегия',\n",
       "       'США-ОАЭ', 'США-Объединенные Арабские Эмираты', 'США-Пуэрто Рико',\n",
       "       'США-Пуэрто-Рико-Франция', 'США-Россия',\n",
       "       'США-Россия-Польша-Германия-Пуэрто Рико', 'США-Россия-Франция',\n",
       "       'США-Румыния-Великобритания', 'США-Сингапур-Малайзия-Индонезия',\n",
       "       'США-Украина', 'США-ФРГ-Россия', 'США-Финляндия',\n",
       "       'США-Финляндия-Испания-Великобритания-Франция', 'США-Франция',\n",
       "       'США-Франция-Бельгия-Италия', 'США-Франция-Великобритания',\n",
       "       'США-Франция-Великобритания-Австрия',\n",
       "       'США-Франция-Великобритания-Бразилия', 'США-Франция-Германия',\n",
       "       'США-Франция-Германия-Канада-Австралия', 'США-Франция-Ирландия',\n",
       "       'США-Франция-Испания', 'США-Франция-Испания-Великобритания',\n",
       "       'США-Франция-Канада', 'США-Франция-Канада-Великобритания',\n",
       "       'США-Франция-Канада-Германия-Австралия-Индия',\n",
       "       'США-Франция-Турция', 'США-Франция-ЮАР', 'США-Франция-Япония',\n",
       "       'США-Хорватия-Босния-Герцеговина', 'США-Чехия-Франция', 'США-Чили',\n",
       "       'США-Швейцария-Франция', 'США-Швеция', 'США-ЮАР',\n",
       "       'США-ЮАР-Гонконг', 'США-Южная Корея',\n",
       "       'США-Южная Корея-Новая Зеландия', 'США-Япония',\n",
       "       'США-Япония-Германия', 'США-Япония-Германия-Великобритания',\n",
       "       'США-Япония-Германия-Великобритания-Нидерланды',\n",
       "       'США-Япония-Канада-Великобритания-Германия-Франция',\n",
       "       'США-Япония-Франция-Великобритания', 'СЩА',\n",
       "       'Сербия-Великобритания-США', 'Сербия-Германия-Венгрия',\n",
       "       'Сербия-Словения-Хорватия-Черногория-Македония',\n",
       "       'Сингапур-Великобритания-Индонезия-Канада-США', 'Сша-Канада',\n",
       "       'Таиланд',\n",
       "       'Таиланд-Великобритания-Франция-Германия-Испания-Нидерланды',\n",
       "       'Таиланд-КНР-США', 'Таиланд-США', 'Турция',\n",
       "       'Турция-Германя-Франция', 'Турция-США', 'Украина',\n",
       "       'Украина-Германия-Латвия-Эстония', 'Украина-Нидерланды',\n",
       "       'Уругвай-Аргентина-Испания', 'Уругвай-Колумбия',\n",
       "       'Уругвай-Мексика-Германия', 'Финляндия',\n",
       "       'Финляндия-Австрия-Россия', 'Финляндия-Великобритания-Германия',\n",
       "       'Финляндия-Германия', 'Финляндия-Дания-Германия-Ирландия',\n",
       "       'Финляндия-Исландия-Швеция', 'Финляндия-Канада',\n",
       "       'Финляндия-Латвия', 'Финляндия-Польша',\n",
       "       'Финляндия-Франция-Германия', 'Финляндия-Швеция-Германия',\n",
       "       'Финляндия-Швеция-Норвегия', 'Франция', 'Франция -Бельгия',\n",
       "       'Франция- Бельгия', 'Франция-Австралия', 'Франция-Австрия',\n",
       "       'Франция-Австрия-Германия-Италия-США', 'Франция-Аргентина',\n",
       "       'Франция-Бельгия',\n",
       "       'Франция-Бельгия-Великобритания-Испания-Германия-США',\n",
       "       'Франция-Бельгия-Великобритания-США-Нидерланды-Канада',\n",
       "       'Франция-Бельгия-Испания', 'Франция-Бельгия-Канада',\n",
       "       'Франция-Бельгия-Люксембург', 'Франция-Бельгия-Чехия',\n",
       "       'Франция-Бельгия-Япония', 'Франция-Бенльгия', 'Франция-Бразилия',\n",
       "       'Франция-Бразилия-Италия', 'Франция-Великобритания',\n",
       "       'Франция-Великобритания-Багамские острова-США',\n",
       "       'Франция-Великобритания-Германия',\n",
       "       'Франция-Великобритания-Камбоджа-США-КНР',\n",
       "       'Франция-Великобритания-Нидерланды-Люксембург',\n",
       "       'Франция-Великобритания-Чехия', 'Франция-Германия',\n",
       "       'Франция-Германия-Австрия', 'Франция-Германия-Бельгия',\n",
       "       'Франция-Германия-Великобритания', 'Франция-Германия-Италия',\n",
       "       'Франция-Германия-Литва-Нидерланды-Россия',\n",
       "       'Франция-Германия-Нидерланды', 'Франция-Германия-США',\n",
       "       'Франция-Германия-Турция-Катар',\n",
       "       'Франция-Германия-Швеция-США-Чехия-Словакия-Великобритания-Нидерланды',\n",
       "       'Франция-Гонконг-Ирландия', 'Франция-Греция',\n",
       "       'Франция-Грузия-Германия-Россия-Украина-Бельгия', 'Франция-Дания',\n",
       "       'Франция-Дания-США', 'Франция-Дания-Швеция-КНР',\n",
       "       'Франция-Израиль-Германия', 'Франция-Индия',\n",
       "       'Франция-Ирландия-Швеция', 'Франция-Испания',\n",
       "       'Франция-Испания-Бельгия-Панама', 'Франция-Испания-Германия',\n",
       "       'Франция-Испания-Дания-Венгрия-Швейцария',\n",
       "       'Франция-Испания-Румыния-США-Бельгия', 'Франция-Испания-Тайвань',\n",
       "       'Франция-Испания-Швейцария', 'Франция-Италия',\n",
       "       'Франция-Италия-Бельгия-КНР', 'Франция-Италия-Бельгия-Люксембург',\n",
       "       'Франция-Италия-Великобритания-США', 'Франция-Италия-Иран',\n",
       "       'Франция-Италия-Испания-Венгрия', 'Франция-Италия-Швейцария',\n",
       "       'Франция-КНР', 'Франция-Канада', 'Франция-Канада-Бельгия',\n",
       "       'Франция-Канада-Н.Зеландия-США-Нидерланды-Германия-Швеция-Россия',\n",
       "       'Франция-Китай', 'Франция-Люксембург',\n",
       "       'Франция-Люксембург-Бельгия',\n",
       "       'Франция-Люксембург-Германия-Бельгия-Швейцария-Великобритания',\n",
       "       'Франция-Македония', 'Франция-Мексика-США', 'Франция-Монако',\n",
       "       'Франция-Нидерланды', 'Франция-Новая Зеландия', 'Франция-Норвегия',\n",
       "       'Франция-Перу', 'Франция-Польша', 'Франция-Польша-Бельгия',\n",
       "       'Франция-Португалия', 'Франция-Россия',\n",
       "       'Франция-Россия-Румыния-Италия-Бельгия',\n",
       "       'Франция-Россия-Швейцария-Румыния-Венгрия', 'Франция-США',\n",
       "       'Франция-США-Бельгия',\n",
       "       'Франция-США-Великобритания-Колумбия-Бельгия-Россия',\n",
       "       'Франция-США-Норвегия-Дания', 'Франция-Сенегал-Бельгия',\n",
       "       'Франция-Украина', 'Франция-Украина-Грузия-Армения',\n",
       "       'Франция-Финляндия', 'Франция-Чехия-Бельгия',\n",
       "       'Франция-Чехия-Великобритания', 'Франция-Чили',\n",
       "       'Франция-Швейцария', 'Франция-Швейцария-Германия',\n",
       "       'Франция-Швеция-Дания-Норвегия', 'Хорватия', 'Чехия',\n",
       "       'Чехия-Великобритания-США', 'Чехия-Германия', 'Чехия-Испания-США',\n",
       "       'Чехия-Словакия-Хорватия', 'Чехословакия', 'Чили', 'Чили-Испания',\n",
       "       'Чили-Франция-США', 'Швейцария', 'Швейцария-Австрия',\n",
       "       'Швейцария-Великобритания',\n",
       "       'Швейцария-Великобритания-Франция-США-Ирландия',\n",
       "       'Швейцария-Германия-ЮАР',\n",
       "       'Швейцария-Израиль-Франция-Великобритания',\n",
       "       'Швейцария-КНР-США-Россия-Республика Корея-Великобритания',\n",
       "       'Швейцария-Люксембург', 'Швейцария-Франция', 'Швеция',\n",
       "       'Швеция-Германия', 'Швеция-Германия-Дания-Норвегия',\n",
       "       'Швеция-Германия-Франция-Дания',\n",
       "       'Швеция-Германия-Франция-Норвегия', 'Швеция-Дания',\n",
       "       'Швеция-Дания-Финляндия', 'Швеция-Куба', 'Швеция-Норвегия',\n",
       "       'Швеция-Норвегия-Финляндия-Франция', 'Швеция-США',\n",
       "       'Швеция-Финляндия-Франция-Норвегия', 'Швеция-Франция',\n",
       "       'Швеция-Франция-Великобритания', 'Швеция-Франция-Дания',\n",
       "       'Швеция-Франция-Норвегия-Дания', 'Эстония', 'Эстония-Россия',\n",
       "       'ЮАР', 'ЮАР-США', 'Южная Корея', 'Южная Корея-КНР',\n",
       "       'Южная Корея-США', 'Южная Корея-США-Канада', 'Япония',\n",
       "       'Япония-Великобритания',\n",
       "       'Япония-Великобритания-Австрия-Германия-Ю.Корея',\n",
       "       'Япония-Великобритания-Франция',\n",
       "       'Япония-Великобритания-Швейцария-Ирландия-Дания-Франция-Польша-Австралия-Канада',\n",
       "       'Япония-КНР-Южная Корея', 'Япония-Канада', 'Япония-США',\n",
       "       'Япония-США-Франция', 'Япония-Франция-США-Южная Корея-Турция'],\n",
       "      dtype=object)"
      ]
     },
     "execution_count": 139,
     "metadata": {},
     "output_type": "execute_result"
    }
   ],
   "source": [
    "combined_data['production_country'].sort_values().unique()"
   ]
  },
  {
   "cell_type": "markdown",
   "metadata": {},
   "source": [
    "Проверяем что получилось и видим что код сработал. Идем дальше."
   ]
  },
  {
   "cell_type": "code",
   "execution_count": 140,
   "metadata": {},
   "outputs": [
    {
     "data": {
      "text/plain": [
       "array(['аниме,мультфильм', 'аниме,мультфильм,боевик',\n",
       "       'аниме,мультфильм,детектив', 'аниме,мультфильм,драма',\n",
       "       'аниме,мультфильм,комедия', 'аниме,мультфильм,короткометражка',\n",
       "       'аниме,мультфильм,мелодрама', 'аниме,мультфильм,приключения',\n",
       "       'аниме,мультфильм,ужасы', 'аниме,мультфильм,фантастика',\n",
       "       'аниме,мультфильм,фэнтези', 'биография', 'биография,военный,драма',\n",
       "       'биография,документальный', 'биография,драма',\n",
       "       'биография,драма,военный', 'биография,драма,история',\n",
       "       'биография,драма,криминал', 'биография,история',\n",
       "       'биография,история,драма', 'биография,криминал,драма',\n",
       "       'биография,криминал,триллер', 'биография,мелодрама,драма',\n",
       "       'биография,музыка,драма', 'биография,музыка,мюзикл',\n",
       "       'биография,спорт,драма', 'биография,спорт,история',\n",
       "       'биография,спорт,комедия', 'боевик', 'боевик,вестерн,приключения',\n",
       "       'боевик,военный', 'боевик,военный,драма', 'боевик,военный,история',\n",
       "       'боевик,детектив', 'боевик,драма', 'боевик,драма,биография',\n",
       "       'боевик,драма,вестерн', 'боевик,драма,военный',\n",
       "       'боевик,драма,история', 'боевик,драма,комедия',\n",
       "       'боевик,драма,криминал', 'боевик,драма,мелодрама',\n",
       "       'боевик,драма,приключения', 'боевик,драма,триллер',\n",
       "       'боевик,история', 'боевик,история,драма', 'боевик,комедия',\n",
       "       'боевик,комедия,криминал', 'боевик,комедия,приключения',\n",
       "       'боевик,комедия,семейный', 'боевик,криминал',\n",
       "       'боевик,криминал,детектив', 'боевик,криминал,драма',\n",
       "       'боевик,криминал,триллер', 'боевик,мелодрама',\n",
       "       'боевик,мелодрама,комедия', 'боевик,приключения',\n",
       "       'боевик,приключения,детектив', 'боевик,приключения,история',\n",
       "       'боевик,приключения,семейный', 'боевик,приключения,триллер',\n",
       "       'боевик,спорт,драма', 'боевик,триллер', 'боевик,триллер,детектив',\n",
       "       'боевик,триллер,драма', 'боевик,триллер,комедия',\n",
       "       'боевик,триллер,криминал', 'боевик,триллер,мелодрама',\n",
       "       'боевик,триллер,приключения', 'боевик,триллер,фэнтези',\n",
       "       'боевик,фантастика', 'боевик,фантастика,приключения',\n",
       "       'боевик,фантастика,триллер', 'боевик,фэнтези',\n",
       "       'боевик,фэнтези,драма', 'вестерн,биография,драма',\n",
       "       'вестерн,боевик,драма', 'вестерн,драма,триллер',\n",
       "       'вестерн,криминал,триллер', 'вестерн,приключения,боевик',\n",
       "       'военный', 'военный,биография,драма', 'военный,боевик,драма',\n",
       "       'военный,боевик,история', 'военный,детектив', 'военный,драма',\n",
       "       'военный,драма,боевик', 'военный,драма,история',\n",
       "       'военный,драма,комедия', 'военный,история',\n",
       "       'военный,история,драма', 'военный,приключения,драма', 'детектив',\n",
       "       'детектив,боевик,история', 'детектив,драма,криминал',\n",
       "       'детектив,драма,триллер', 'детектив,история,драма',\n",
       "       'детектив,комедия', 'детектив,комедия,драма', 'детектив,криминал',\n",
       "       'детектив,криминал,боевик', 'детектив,криминал,драма',\n",
       "       'детектив,криминал,триллер', 'детектив,мелодрама',\n",
       "       'детектив,мелодрама,фэнтези', 'детектив,приключения,драма',\n",
       "       'детектив,приключения,триллер', 'детектив,триллер',\n",
       "       'детектив,триллер,боевик', 'детектив,триллер,драма',\n",
       "       'детектив,триллер,криминал', 'детектив,триллер,ужасы',\n",
       "       'детектив,ужасы,криминал', 'детектив,фантастика,криминал',\n",
       "       'детектив,фантастика,триллер', 'детектив,фильм-нуар,комедия',\n",
       "       'детектив,фэнтези,триллер', 'детский', 'детский,комедия',\n",
       "       'детский,мелодрама,семейный', 'детский,мультфильм,приключения',\n",
       "       'детский,приключения,комедия', 'детский,приключения,семейный',\n",
       "       'детский,приключения,фантастика', 'детский,семейный',\n",
       "       'детский,фэнтези', 'детский,фэнтези,приключения',\n",
       "       'для взрослых,драма,комедия', 'для взрослых,драма,мелодрама',\n",
       "       'документальный', 'документальный,биография',\n",
       "       'документальный,биография,история',\n",
       "       'документальный,биография,музыка',\n",
       "       'документальный,биография,спорт',\n",
       "       'документальный,боевик,приключения',\n",
       "       'документальный,военный,драма', 'документальный,военный,история',\n",
       "       'документальный,драма', 'документальный,драма,биография',\n",
       "       'документальный,драма,история', 'документальный,драма,комедия',\n",
       "       'документальный,драма,музыка', 'документальный,драма,семейный',\n",
       "       'документальный,история', 'документальный,комедия',\n",
       "       'документальный,комедия,история',\n",
       "       'документальный,комедия,криминал',\n",
       "       'документальный,короткометражка',\n",
       "       'документальный,короткометражка,семейный',\n",
       "       'документальный,криминал,военный', 'документальный,музыка',\n",
       "       'документальный,музыка,биография', 'документальный,музыка,концерт',\n",
       "       'документальный,мюзикл', 'документальный,новости,драма',\n",
       "       'документальный,приключения',\n",
       "       'документальный,приключения,семейный', 'документальный,семейный',\n",
       "       'документальный,семейный,музыка', 'документальный,спорт',\n",
       "       'документальный,спорт,биография',\n",
       "       'документальный,триллер,биография', 'документальный,ужасы',\n",
       "       'документальный,ужасы,боевик', 'документальный,фантастика',\n",
       "       'документальный,фэнтези', 'документальный,фэнтези,драма',\n",
       "       'документальный,фэнтези,семейный', 'драма', 'драма,биография',\n",
       "       'драма,биография,история', 'драма,биография,комедия',\n",
       "       'драма,биография,музыка', 'драма,биография,мюзикл',\n",
       "       'драма,биография,спорт', 'драма,боевик', 'драма,боевик,история',\n",
       "       'драма,боевик,криминал', 'драма,боевик,приключения',\n",
       "       'драма,вестерн', 'драма,вестерн,боевик',\n",
       "       'драма,вестерн,приключения', 'драма,военный',\n",
       "       'драма,военный,биография', 'драма,военный,боевик',\n",
       "       'драма,военный,история', 'драма,военный,приключения',\n",
       "       'драма,военный,триллер', 'драма,детектив',\n",
       "       'драма,детектив,история', 'драма,детектив,криминал',\n",
       "       'драма,детектив,приключения', 'драма,история',\n",
       "       'драма,история,биография', 'драма,история,военный',\n",
       "       'драма,история,детектив', 'драма,история,музыка',\n",
       "       'драма,история,триллер', 'драма,комедия',\n",
       "       'драма,комедия,биография', 'драма,комедия,вестерн',\n",
       "       'драма,комедия,военный', 'драма,комедия,детектив',\n",
       "       'драма,комедия,история', 'драма,комедия,криминал',\n",
       "       'драма,комедия,мелодрама', 'драма,комедия,музыка',\n",
       "       'драма,комедия,мультфильм', 'драма,комедия,приключения',\n",
       "       'драма,комедия,семейный', 'драма,комедия,спорт',\n",
       "       'драма,комедия,триллер', 'драма,комедия,ужасы',\n",
       "       'драма,комедия,фантастика', 'драма,криминал',\n",
       "       'драма,криминал,биография', 'драма,криминал,боевик',\n",
       "       'драма,криминал,вестерн', 'драма,криминал,детектив',\n",
       "       'драма,криминал,история', 'драма,криминал,приключения',\n",
       "       'драма,криминал,семейный', 'драма,криминал,спорт',\n",
       "       'драма,криминал,фантастика', 'драма,криминал,фильм-нуар',\n",
       "       'драма,мелодрама', 'драма,мелодрама,биография',\n",
       "       'драма,мелодрама,военный', 'драма,мелодрама,детектив',\n",
       "       'драма,мелодрама,история', 'драма,мелодрама,комедия',\n",
       "       'драма,мелодрама,криминал', 'драма,мелодрама,музыка',\n",
       "       'драма,мелодрама,приключения', 'драма,мелодрама,семейный',\n",
       "       'драма,мелодрама,триллер', 'драма,мелодрама,фэнтези',\n",
       "       'драма,музыка', 'драма,мультфильм', 'драма,приключения',\n",
       "       'драма,приключения,биография', 'драма,приключения,военный',\n",
       "       'драма,приключения,история', 'драма,приключения,мелодрама',\n",
       "       'драма,приключения,семейный', 'драма,приключения,триллер',\n",
       "       'драма,приключения,фэнтези', 'драма,семейный',\n",
       "       'драма,семейный,биография', 'драма,семейный,комедия',\n",
       "       'драма,спорт', 'драма,спорт,биография', 'драма,спорт,боевик',\n",
       "       'драма,спорт,история', 'драма,спорт,комедия',\n",
       "       'драма,спорт,семейный', 'драма,триллер', 'драма,триллер,биография',\n",
       "       'драма,триллер,детектив', 'драма,триллер,криминал',\n",
       "       'драма,триллер,приключения', 'драма,ужасы', 'драма,фантастика',\n",
       "       'драма,фантастика,триллер', 'драма,фантастика,ужасы',\n",
       "       'драма,фэнтези', 'драма,фэнтези,история', 'история',\n",
       "       'история,биография,военный', 'история,биография,драма',\n",
       "       'история,боевик,фэнтези', 'история,детектив', 'история,драма',\n",
       "       'история,драма,боевик', 'история,драма,мелодрама',\n",
       "       'история,криминал', 'история,мелодрама', 'история,приключения',\n",
       "       'история,спорт,драма', 'комедия', 'комедия,биография',\n",
       "       'комедия,биография,история', 'комедия,боевик,криминал',\n",
       "       'комедия,боевик,приключения', 'комедия,боевик,фантастика',\n",
       "       'комедия,вестерн', 'комедия,военный', 'комедия,военный,музыка',\n",
       "       'комедия,детектив', 'комедия,детектив,приключения',\n",
       "       'комедия,драма', 'комедия,драма,биография',\n",
       "       'комедия,драма,военный', 'комедия,драма,короткометражка',\n",
       "       'комедия,драма,криминал', 'комедия,драма,мелодрама',\n",
       "       'комедия,драма,семейный', 'комедия,история',\n",
       "       'комедия,история,драма', 'комедия,криминал',\n",
       "       'комедия,криминал,биография', 'комедия,криминал,боевик',\n",
       "       'комедия,криминал,детектив', 'комедия,криминал,драма',\n",
       "       'комедия,криминал,история', 'комедия,криминал,приключения',\n",
       "       'комедия,криминал,семейный', 'комедия,криминал,спорт',\n",
       "       'комедия,криминал,триллер', 'комедия,мелодрама',\n",
       "       'комедия,мелодрама,драма', 'комедия,мелодрама,криминал',\n",
       "       'комедия,мелодрама,фантастика', 'комедия,мелодрама,фэнтези',\n",
       "       'комедия,музыка', 'комедия,музыка,драма',\n",
       "       'комедия,мультфильм,фантастика', 'комедия,приключения',\n",
       "       'комедия,приключения,вестерн', 'комедия,приключения,детектив',\n",
       "       'комедия,приключения,история', 'комедия,приключения,криминал',\n",
       "       'комедия,приключения,мелодрама', 'комедия,приключения,музыка',\n",
       "       'комедия,приключения,семейный', 'комедия,приключения,спорт',\n",
       "       'комедия,приключения,фэнтези', 'комедия,семейный',\n",
       "       'комедия,семейный,музыка', 'комедия,семейный,приключения',\n",
       "       'комедия,семейный,фантастика', 'комедия,семейный,фэнтези',\n",
       "       'комедия,спорт', 'комедия,триллер', 'комедия,триллер,драма',\n",
       "       'комедия,ужасы', 'комедия,фантастика', 'комедия,фантастика,боевик',\n",
       "       'комедия,фантастика,мелодрама', 'комедия,фэнтези',\n",
       "       'комедия,фэнтези,криминал', 'комедия,фэнтези,мелодрама',\n",
       "       'комедия,фэнтези,приключения', 'комедия,фэнтези,ужасы',\n",
       "       'концерт,музыка', 'концерт,музыка,документальный',\n",
       "       'короткометражка', 'короткометражка,биография',\n",
       "       'короткометражка,боевик,драма', 'короткометражка,драма',\n",
       "       'короткометражка,драма,военный', 'короткометражка,драма,триллер',\n",
       "       'короткометражка,комедия,криминал', 'короткометражка,мелодрама',\n",
       "       'короткометражка,музыка', 'короткометражка,мультфильм', 'криминал',\n",
       "       'криминал,биография,комедия', 'криминал,боевик',\n",
       "       'криминал,боевик,комедия', 'криминал,боевик,триллер',\n",
       "       'криминал,детектив', 'криминал,детектив,приключения',\n",
       "       'криминал,драма', 'криминал,драма,комедия',\n",
       "       'криминал,драма,триллер', 'криминал,комедия',\n",
       "       'криминал,комедия,боевик', 'криминал,комедия,драма',\n",
       "       'криминал,комедия,триллер', 'криминал,мелодрама',\n",
       "       'криминал,триллер,драма', 'мелодрама', 'мелодрама,биография',\n",
       "       'мелодрама,военный,драма', 'мелодрама,детектив',\n",
       "       'мелодрама,детектив,комедия', 'мелодрама,драма',\n",
       "       'мелодрама,драма,боевик', 'мелодрама,драма,комедия',\n",
       "       'мелодрама,драма,музыка', 'мелодрама,драма,фэнтези',\n",
       "       'мелодрама,история', 'мелодрама,история,драма',\n",
       "       'мелодрама,история,триллер', 'мелодрама,комедия',\n",
       "       'мелодрама,комедия,драма', 'мелодрама,комедия,криминал',\n",
       "       'мелодрама,комедия,музыка', 'мелодрама,комедия,приключения',\n",
       "       'мелодрама,комедия,семейный', 'мелодрама,комедия,спорт',\n",
       "       'мелодрама,комедия,триллер', 'мелодрама,комедия,ужасы',\n",
       "       'мелодрама,криминал', 'мелодрама,музыка', 'мелодрама,музыка,драма',\n",
       "       'мелодрама,приключения', 'мелодрама,приключения,боевик',\n",
       "       'мелодрама,семейный', 'мелодрама,семейный,приключения',\n",
       "       'мелодрама,триллер,история', 'мелодрама,фантастика,драма',\n",
       "       'мелодрама,фэнтези,триллер', 'музыка,концерт',\n",
       "       'музыка,концерт,документальный', 'музыка,мелодрама,фэнтези',\n",
       "       'музыка,приключения,концерт', 'мультфильм',\n",
       "       'мультфильм,биография,драма', 'мультфильм,боевик,детектив',\n",
       "       'мультфильм,боевик,комедия', 'мультфильм,боевик,приключения',\n",
       "       'мультфильм,боевик,триллер', 'мультфильм,детский',\n",
       "       'мультфильм,детский,комедия', 'мультфильм,детский,приключения',\n",
       "       'мультфильм,детский,семейный', 'мультфильм,драма',\n",
       "       'мультфильм,драма,комедия', 'мультфильм,драма,приключения',\n",
       "       'мультфильм,история', 'мультфильм,комедия',\n",
       "       'мультфильм,комедия,детский', 'мультфильм,комедия,криминал',\n",
       "       'мультфильм,комедия,приключения', 'мультфильм,комедия,семейный',\n",
       "       'мультфильм,комедия,фантастика', 'мультфильм,короткометражка',\n",
       "       'мультфильм,короткометражка,детский',\n",
       "       'мультфильм,короткометражка,комедия',\n",
       "       'мультфильм,короткометражка,мелодрама',\n",
       "       'мультфильм,короткометражка,мюзикл',\n",
       "       'мультфильм,короткометражка,ужасы',\n",
       "       'мультфильм,короткометражка,фэнтези', 'мультфильм,мелодрама,драма',\n",
       "       'мультфильм,мелодрама,комедия', 'мультфильм,мелодрама,приключения',\n",
       "       'мультфильм,мюзикл,детский', 'мультфильм,мюзикл,драма',\n",
       "       'мультфильм,мюзикл,комедия', 'мультфильм,мюзикл,мелодрама',\n",
       "       'мультфильм,мюзикл,фэнтези', 'мультфильм,приключения',\n",
       "       'мультфильм,приключения,военный',\n",
       "       'мультфильм,приключения,детектив',\n",
       "       'мультфильм,приключения,детский', 'мультфильм,приключения,драма',\n",
       "       'мультфильм,приключения,комедия',\n",
       "       'мультфильм,приключения,семейный',\n",
       "       'мультфильм,приключения,фантастика',\n",
       "       'мультфильм,приключения,фэнтези', 'мультфильм,семейный',\n",
       "       'мультфильм,семейный,детский', 'мультфильм,семейный,драма',\n",
       "       'мультфильм,семейный,комедия', 'мультфильм,семейный,спорт',\n",
       "       'мультфильм,семейный,фэнтези', 'мультфильм,ужасы,комедия',\n",
       "       'мультфильм,ужасы,фантастика', 'мультфильм,ужасы,фэнтези',\n",
       "       'мультфильм,фантастика,боевик', 'мультфильм,фантастика,комедия',\n",
       "       'мультфильм,фантастика,приключения',\n",
       "       'мультфильм,фантастика,фэнтези', 'мультфильм,фэнтези',\n",
       "       'мультфильм,фэнтези,боевик', 'мультфильм,фэнтези,детский',\n",
       "       'мультфильм,фэнтези,драма', 'мультфильм,фэнтези,история',\n",
       "       'мультфильм,фэнтези,комедия', 'мультфильм,фэнтези,мелодрама',\n",
       "       'мультфильм,фэнтези,приключения', 'мультфильм,фэнтези,семейный',\n",
       "       'мультфильм,фэнтези,триллер', 'мюзикл', 'мюзикл,боевик,драма',\n",
       "       'мюзикл,драма', 'мюзикл,драма,мелодрама', 'мюзикл,комедия',\n",
       "       'мюзикл,комедия,детский', 'мюзикл,комедия,мелодрама',\n",
       "       'мюзикл,комедия,музыка', 'мюзикл,комедия,приключения',\n",
       "       'мюзикл,мелодрама', 'мюзикл,мелодрама,комедия',\n",
       "       'мюзикл,мелодрама,фэнтези', 'мюзикл,семейный',\n",
       "       'мюзикл,семейный,драма', 'мюзикл,ужасы,триллер',\n",
       "       'мюзикл,фэнтези,драма', 'мюзикл,фэнтези,комедия',\n",
       "       'мюзикл,фэнтези,мелодрама', 'мюзикл,фэнтези,семейный',\n",
       "       'неизвестно', 'приключения', 'приключения,биография,драма',\n",
       "       'приключения,биография,история', 'приключения,боевик',\n",
       "       'приключения,боевик,триллер', 'приключения,вестерн,боевик',\n",
       "       'приключения,военный', 'приключения,детектив,мелодрама',\n",
       "       'приключения,детектив,семейный', 'приключения,детский',\n",
       "       'приключения,детский,комедия', 'приключения,драма',\n",
       "       'приключения,драма,фантастика', 'приключения,история',\n",
       "       'приключения,история,военный', 'приключения,история,драма',\n",
       "       'приключения,комедия,фэнтези', 'приключения,мелодрама,детектив',\n",
       "       'приключения,семейный', 'приключения,семейный,драма',\n",
       "       'приключения,триллер', 'приключения,триллер,биография',\n",
       "       'приключения,фантастика', 'приключения,фантастика,драма',\n",
       "       'приключения,фантастика,семейный', 'приключения,фэнтези',\n",
       "       'приключения,фэнтези,семейный', 'реальное ТВ', 'семейный',\n",
       "       'семейный,детектив,детский', 'семейный,документальный',\n",
       "       'семейный,комедия', 'семейный,комедия,драма',\n",
       "       'семейный,комедия,музыка', 'семейный,мелодрама',\n",
       "       'семейный,мультфильм,комедия', 'семейный,приключения',\n",
       "       'семейный,приключения,военный',\n",
       "       'семейный,приключения,документальный',\n",
       "       'семейный,приключения,комедия', 'семейный,спорт,боевик',\n",
       "       'семейный,фэнтези', 'семейный,фэнтези,комедия', 'спорт,драма',\n",
       "       'спорт,драма,биография', 'спорт,драма,комедия',\n",
       "       'спорт,мелодрама,криминал', 'триллер', 'триллер,биография,драма',\n",
       "       'триллер,боевик', 'триллер,боевик,криминал',\n",
       "       'триллер,боевик,приключения', 'триллер,военный',\n",
       "       'триллер,детектив', 'триллер,детектив,драма',\n",
       "       'триллер,детектив,криминал', 'триллер,детектив,ужасы',\n",
       "       'триллер,драма', 'триллер,драма,биография', 'триллер,драма,боевик',\n",
       "       'триллер,драма,военный', 'триллер,драма,детектив',\n",
       "       'триллер,драма,история', 'триллер,драма,комедия',\n",
       "       'триллер,драма,криминал', 'триллер,драма,мелодрама',\n",
       "       'триллер,драма,приключения', 'триллер,драма,ужасы',\n",
       "       'триллер,драма,фантастика', 'триллер,комедия',\n",
       "       'триллер,комедия,криминал', 'триллер,комедия,ужасы',\n",
       "       'триллер,криминал', 'триллер,криминал,боевик',\n",
       "       'триллер,криминал,детектив', 'триллер,криминал,драма',\n",
       "       'триллер,криминал,комедия', 'триллер,криминал,приключения',\n",
       "       'триллер,мелодрама', 'триллер,мелодрама,детектив',\n",
       "       'триллер,мелодрама,драма', 'триллер,мелодрама,комедия',\n",
       "       'триллер,мелодрама,криминал', 'триллер,приключения',\n",
       "       'триллер,приключения,драма', 'триллер,ужасы',\n",
       "       'триллер,ужасы,детектив', 'триллер,ужасы,драма',\n",
       "       'триллер,ужасы,криминал', 'триллер,ужасы,мелодрама',\n",
       "       'триллер,фантастика,боевик', 'триллер,фантастика,драма',\n",
       "       'триллер,фэнтези', 'триллер,фэнтези,драма', 'ужасы',\n",
       "       'ужасы,боевик', 'ужасы,боевик,комедия', 'ужасы,боевик,криминал',\n",
       "       'ужасы,боевик,триллер', 'ужасы,боевик,фантастика',\n",
       "       'ужасы,боевик,фэнтези', 'ужасы,детектив', 'ужасы,драма',\n",
       "       'ужасы,драма,вестерн', 'ужасы,драма,военный',\n",
       "       'ужасы,драма,детектив', 'ужасы,драма,комедия',\n",
       "       'ужасы,драма,мелодрама', 'ужасы,драма,триллер', 'ужасы,комедия',\n",
       "       'ужасы,комедия,боевик', 'ужасы,комедия,детектив',\n",
       "       'ужасы,комедия,драма', 'ужасы,комедия,криминал',\n",
       "       'ужасы,комедия,музыка', 'ужасы,комедия,приключения',\n",
       "       'ужасы,комедия,семейный', 'ужасы,комедия,фантастика',\n",
       "       'ужасы,комедия,фэнтези', 'ужасы,мелодрама,детектив',\n",
       "       'ужасы,мелодрама,комедия', 'ужасы,приключения', 'ужасы,триллер',\n",
       "       'ужасы,триллер,детектив', 'ужасы,триллер,драма',\n",
       "       'ужасы,триллер,комедия', 'ужасы,триллер,криминал',\n",
       "       'ужасы,триллер,мелодрама', 'ужасы,триллер,приключения',\n",
       "       'ужасы,триллер,фантастика', 'ужасы,фантастика',\n",
       "       'ужасы,фантастика,боевик', 'ужасы,фантастика,детектив',\n",
       "       'ужасы,фантастика,драма', 'ужасы,фантастика,комедия',\n",
       "       'ужасы,фантастика,мелодрама', 'ужасы,фантастика,триллер',\n",
       "       'ужасы,фантастика,фэнтези', 'ужасы,фэнтези',\n",
       "       'ужасы,фэнтези,боевик', 'ужасы,фэнтези,детектив',\n",
       "       'ужасы,фэнтези,драма', 'ужасы,фэнтези,комедия',\n",
       "       'ужасы,фэнтези,мелодрама', 'ужасы,фэнтези,приключения',\n",
       "       'ужасы,фэнтези,триллер', 'фантастика', 'фантастика,боевик',\n",
       "       'фантастика,боевик,военный', 'фантастика,боевик,детектив',\n",
       "       'фантастика,боевик,драма', 'фантастика,боевик,комедия',\n",
       "       'фантастика,боевик,криминал', 'фантастика,боевик,мелодрама',\n",
       "       'фантастика,боевик,приключения', 'фантастика,боевик,семейный',\n",
       "       'фантастика,боевик,триллер', 'фантастика,боевик,ужасы',\n",
       "       'фантастика,боевик,фэнтези', 'фантастика,детектив,боевик',\n",
       "       'фантастика,детектив,фэнтези', 'фантастика,драма',\n",
       "       'фантастика,драма,боевик', 'фантастика,драма,детектив',\n",
       "       'фантастика,драма,комедия', 'фантастика,драма,криминал',\n",
       "       'фантастика,драма,мелодрама', 'фантастика,драма,приключения',\n",
       "       'фантастика,драма,триллер', 'фантастика,драма,ужасы',\n",
       "       'фантастика,комедия', 'фантастика,комедия,боевик',\n",
       "       'фантастика,комедия,детектив', 'фантастика,комедия,приключения',\n",
       "       'фантастика,комедия,семейный', 'фантастика,мелодрама',\n",
       "       'фантастика,мелодрама,боевик', 'фантастика,мелодрама,комедия',\n",
       "       'фантастика,мелодрама,фэнтези', 'фантастика,мультфильм,драма',\n",
       "       'фантастика,приключения', 'фантастика,приключения,боевик',\n",
       "       'фантастика,приключения,военный',\n",
       "       'фантастика,приключения,детектив', 'фантастика,приключения,драма',\n",
       "       'фантастика,приключения,семейный', 'фантастика,триллер',\n",
       "       'фантастика,триллер,боевик', 'фантастика,триллер,детектив',\n",
       "       'фантастика,триллер,драма', 'фантастика,триллер,комедия',\n",
       "       'фантастика,триллер,криминал', 'фантастика,триллер,мелодрама',\n",
       "       'фантастика,триллер,приключения', 'фантастика,фэнтези,боевик',\n",
       "       'фантастика,фэнтези,детектив', 'фантастика,фэнтези,драма',\n",
       "       'фантастика,фэнтези,комедия', 'фантастика,фэнтези,приключения',\n",
       "       'фантастика,фэнтези,триллер', 'фильм-нуар,триллер,детектив',\n",
       "       'фэнтези', 'фэнтези,боевик', 'фэнтези,боевик,вестерн',\n",
       "       'фэнтези,боевик,военный', 'фэнтези,боевик,детектив',\n",
       "       'фэнтези,боевик,драма', 'фэнтези,боевик,комедия',\n",
       "       'фэнтези,боевик,криминал', 'фэнтези,боевик,мелодрама',\n",
       "       'фэнтези,боевик,приключения', 'фэнтези,боевик,семейный',\n",
       "       'фэнтези,боевик,триллер', 'фэнтези,боевик,ужасы', 'фэнтези,драма',\n",
       "       'фэнтези,драма,биография', 'фэнтези,драма,детектив',\n",
       "       'фэнтези,драма,комедия', 'фэнтези,драма,мелодрама',\n",
       "       'фэнтези,драма,приключения', 'фэнтези,драма,семейный',\n",
       "       'фэнтези,драма,ужасы', 'фэнтези,драма,фильм-нуар',\n",
       "       'фэнтези,комедия', 'фэнтези,комедия,детектив',\n",
       "       'фэнтези,комедия,драма', 'фэнтези,комедия,криминал',\n",
       "       'фэнтези,комедия,приключения', 'фэнтези,комедия,семейный',\n",
       "       'фэнтези,мелодрама', 'фэнтези,мелодрама,драма',\n",
       "       'фэнтези,мелодрама,комедия', 'фэнтези,мелодрама,приключения',\n",
       "       'фэнтези,приключения', 'фэнтези,приключения,боевик',\n",
       "       'фэнтези,приключения,драма', 'фэнтези,приключения,комедия',\n",
       "       'фэнтези,приключения,семейный', 'фэнтези,семейный',\n",
       "       'фэнтези,семейный,мелодрама', 'фэнтези,семейный,приключения',\n",
       "       'фэнтези,триллер,детектив', 'фэнтези,триллер,драма',\n",
       "       'фэнтези,триллер,мелодрама', 'фэнтези,триллер,приключения',\n",
       "       'фэнтези,ужасы', 'фэнтези,ужасы,триллер'], dtype=object)"
      ]
     },
     "execution_count": 140,
     "metadata": {},
     "output_type": "execute_result"
    }
   ],
   "source": [
    "combined_data['director'] = combined_data['director'].str.strip()\n",
    "combined_data['producer'] = combined_data['producer'].str.strip()\n",
    "combined_data['genres'].sort_values().unique()"
   ]
  },
  {
   "cell_type": "markdown",
   "metadata": {},
   "source": [
    "После проверки всех остальных столбцов с категориальными занчениями видим что в столбцах \"Режисер\" и \"Продюсер\" наблюдается таже проблема с пробелами. Аналогичным образом убираем пробелы и переходим к селдующему этапу."
   ]
  },
  {
   "cell_type": "markdown",
   "metadata": {},
   "source": [
    "<div class=\"alert alert-success\">\n",
    "<h2> Комментарий ревьюера v1 <a class=\"tocSkip\"> </h2>\n",
    "\n",
    "<b>Все супер!👍:</b> Топ!"
   ]
  },
  {
   "cell_type": "markdown",
   "metadata": {
    "id": "XFSN5lrEgFyR"
   },
   "source": [
    "#### Шаг 2.5. Проверьте количественные значения\n",
    "\n",
    "- Проверьте, обнаружились ли в таких столбцах подозрительные данные. Как с такими данными лучше поступить?\n",
    "\n",
    "<div id=\"accordion\">\n",
    "    <div class=\"card\">\n",
    "        <div class=\"card-header\" id=\"headingThree\">\n",
    "            <button class=\"btn btn-link collapsed\" data-toggle=\"collapse\" data-target=\"#collapseHint_budget\" aria-expanded=\"false\" aria-controls=\"collapseHint_budget\">Подсказка</button>\n",
    "        </div>\n",
    "        <div id=\"collapseHint_budget\" class=\"collapse\" aria-labelledby=\"headingThree\" data-parent=\"#accordion\">\n",
    "            <div class=\"card-body\">\n",
    "Обратите внимание на описание столбца <code>budget</code>. Как этот столбец соотносится с двумя другими: <code>refundable_support</code> и <code>nonrefundable_support</code>?\n",
    "            </div>\n",
    "        </div>\n",
    "    </div>\n",
    "</div>"
   ]
  },
  {
   "cell_type": "markdown",
   "metadata": {
    "id": "YbzClBxagFyS"
   },
   "source": [
    "Для проверки количественных значений еще раз выведем список всех столбцов и их тип данных."
   ]
  },
  {
   "cell_type": "code",
   "execution_count": 141,
   "metadata": {},
   "outputs": [
    {
     "name": "stdout",
     "output_type": "stream",
     "text": [
      "<class 'pandas.core.frame.DataFrame'>\n",
      "Int64Index: 7457 entries, 0 to 7485\n",
      "Data columns (total 16 columns):\n",
      " #   Column                 Non-Null Count  Dtype              \n",
      "---  ------                 --------------  -----              \n",
      " 0   title                  7457 non-null   object             \n",
      " 1   puNumber               7457 non-null   int64              \n",
      " 2   show_start_date        7457 non-null   datetime64[ns, UTC]\n",
      " 3   type                   7457 non-null   object             \n",
      " 4   film_studio            7457 non-null   object             \n",
      " 5   production_country     7457 non-null   object             \n",
      " 6   director               7457 non-null   object             \n",
      " 7   producer               7457 non-null   object             \n",
      " 8   age_restriction        7457 non-null   object             \n",
      " 9   refundable_support     332 non-null    float64            \n",
      " 10  nonrefundable_support  332 non-null    float64            \n",
      " 11  budget                 332 non-null    float64            \n",
      " 12  financing_source       332 non-null    object             \n",
      " 13  ratings                7457 non-null   float64            \n",
      " 14  genres                 7457 non-null   object             \n",
      " 15  box_office             3155 non-null   float64            \n",
      "dtypes: datetime64[ns, UTC](1), float64(5), int64(1), object(9)\n",
      "memory usage: 990.4+ KB\n"
     ]
    }
   ],
   "source": [
    "combined_data.info()"
   ]
  },
  {
   "cell_type": "code",
   "execution_count": 142,
   "metadata": {},
   "outputs": [
    {
     "data": {
      "text/plain": [
       "(-2000000.0, 500000000.0)"
      ]
     },
     "execution_count": 142,
     "metadata": {},
     "output_type": "execute_result"
    },
    {
     "data": {
      "image/png": "[encoded data removed]",
      "text/plain": [
       "<Figure size 432x288 with 1 Axes>"
      ]
     },
     "metadata": {
      "needs_background": "light"
     },
     "output_type": "display_data"
    }
   ],
   "source": [
    "combined_data['refundable_support'].unique()\n",
    "combined_data.boxplot(column=['refundable_support','nonrefundable_support','budget'])\n",
    "plt.ylim(-2000000,500000000)"
   ]
  },
  {
   "cell_type": "code",
   "execution_count": 143,
   "metadata": {},
   "outputs": [
    {
     "data": {
      "text/plain": [
       "count    3.320000e+02\n",
       "mean     1.186446e+07\n",
       "std      2.491656e+07\n",
       "min      0.000000e+00\n",
       "25%      0.000000e+00\n",
       "50%      0.000000e+00\n",
       "75%      1.500000e+07\n",
       "max      1.800000e+08\n",
       "Name: refundable_support, dtype: float64"
      ]
     },
     "execution_count": 143,
     "metadata": {},
     "output_type": "execute_result"
    }
   ],
   "source": [
    "combined_data['refundable_support'].describe()\n"
   ]
  },
  {
   "cell_type": "code",
   "execution_count": 144,
   "metadata": {},
   "outputs": [
    {
     "data": {
      "text/plain": [
       "<AxesSubplot:title={'center':'Объём возвратных средств'}, ylabel='Frequency'>"
      ]
     },
     "execution_count": 144,
     "metadata": {},
     "output_type": "execute_result"
    },
    {
     "data": {
      "image/png": "[encoded data removed]",
      "text/plain": [
       "<Figure size 432x288 with 1 Axes>"
      ]
     },
     "metadata": {
      "needs_background": "light"
     },
     "output_type": "display_data"
    }
   ],
   "source": [
    "combined_data['refundable_support'].plot(kind = 'hist',bins = 20, title = 'Объём возвратных средств')"
   ]
  },
  {
   "cell_type": "code",
   "execution_count": 145,
   "metadata": {},
   "outputs": [
    {
     "data": {
      "text/plain": [
       "count    3.320000e+02\n",
       "mean     4.898099e+07\n",
       "std      5.998012e+07\n",
       "min      0.000000e+00\n",
       "25%      2.500000e+07\n",
       "50%      3.000000e+07\n",
       "75%      4.037500e+07\n",
       "max      4.000000e+08\n",
       "Name: nonrefundable_support, dtype: float64"
      ]
     },
     "execution_count": 145,
     "metadata": {},
     "output_type": "execute_result"
    }
   ],
   "source": [
    "combined_data['nonrefundable_support'].describe()"
   ]
  },
  {
   "cell_type": "code",
   "execution_count": 146,
   "metadata": {},
   "outputs": [
    {
     "data": {
      "text/plain": [
       "<AxesSubplot:title={'center':'Объём невозвратных средств'}, ylabel='Frequency'>"
      ]
     },
     "execution_count": 146,
     "metadata": {},
     "output_type": "execute_result"
    },
    {
     "data": {
      "image/png": "[encoded data removed]",
      "text/plain": [
       "<Figure size 432x288 with 1 Axes>"
      ]
     },
     "metadata": {
      "needs_background": "light"
     },
     "output_type": "display_data"
    }
   ],
   "source": [
    "combined_data['nonrefundable_support'].plot(kind = 'hist',bins = 30, title = 'Объём невозвратных средств')"
   ]
  },
  {
   "cell_type": "code",
   "execution_count": 147,
   "metadata": {},
   "outputs": [
    {
     "data": {
      "text/plain": [
       "count    3.320000e+02\n",
       "mean     1.272297e+08\n",
       "std      1.885883e+08\n",
       "min      0.000000e+00\n",
       "25%      4.200000e+07\n",
       "50%      6.864992e+07\n",
       "75%      1.419853e+08\n",
       "max      2.305074e+09\n",
       "Name: budget, dtype: float64"
      ]
     },
     "execution_count": 147,
     "metadata": {},
     "output_type": "execute_result"
    }
   ],
   "source": [
    "combined_data['budget'].describe()"
   ]
  },
  {
   "cell_type": "code",
   "execution_count": 148,
   "metadata": {},
   "outputs": [
    {
     "data": {
      "text/plain": [
       "<AxesSubplot:title={'center':'Общий бюджет фильма'}, ylabel='Frequency'>"
      ]
     },
     "execution_count": 148,
     "metadata": {},
     "output_type": "execute_result"
    },
    {
     "data": {
      "image/png": "[encoded data removed]",
      "text/plain": [
       "<Figure size 432x288 with 1 Axes>"
      ]
     },
     "metadata": {
      "needs_background": "light"
     },
     "output_type": "display_data"
    }
   ],
   "source": [
    "combined_data['budget'].plot(kind = 'hist', bins = 30, title = 'Общий бюджет фильма')"
   ]
  },
  {
   "cell_type": "markdown",
   "metadata": {},
   "source": [
    "После построения даиграмм размаха, а так же проверки основных показателей по столбцам возвратных средств, невозвратных средств и общего буджета фильма видим что бюджет в несколько раз превышает сумму возватных и не возвратных средств. По все видимости на фильмы по которым у нас есть информация о бюджете так же ипользовались какие-то дополнительные средств, что в целом выглядит логично."
   ]
  },
  {
   "cell_type": "code",
   "execution_count": 149,
   "metadata": {},
   "outputs": [
    {
     "data": {
      "text/plain": [
       "1281     79411900.0\n",
       "1448     37142857.0\n",
       "1498    176023490.0\n",
       "1524     40574140.0\n",
       "1792     40015122.0\n",
       "           ...     \n",
       "7464    980000000.0\n",
       "7466    190000000.0\n",
       "7474    944000000.0\n",
       "7476     46154000.0\n",
       "7478    150147502.0\n",
       "Name: budget, Length: 315, dtype: float64"
      ]
     },
     "execution_count": 149,
     "metadata": {},
     "output_type": "execute_result"
    }
   ],
   "source": [
    "combined_data.loc[combined_data['budget']>0, 'budget']"
   ]
  },
  {
   "cell_type": "code",
   "execution_count": 150,
   "metadata": {},
   "outputs": [
    {
     "data": {
      "text/plain": [
       "1870     50000000.0\n",
       "1987     26000000.0\n",
       "2005     30000000.0\n",
       "2142     30000000.0\n",
       "2288     15000000.0\n",
       "           ...     \n",
       "7456     25000000.0\n",
       "7464    100000000.0\n",
       "7466    100000000.0\n",
       "7474    100000000.0\n",
       "7478     40000000.0\n",
       "Name: refundable_support, Length: 111, dtype: float64"
      ]
     },
     "execution_count": 150,
     "metadata": {},
     "output_type": "execute_result"
    }
   ],
   "source": [
    "combined_data.loc[combined_data['refundable_support']>0, 'refundable_support']"
   ]
  },
  {
   "cell_type": "code",
   "execution_count": 151,
   "metadata": {},
   "outputs": [
    {
     "data": {
      "text/plain": [
       "1281     26500000.0\n",
       "1448     26000000.0\n",
       "1498    107847945.0\n",
       "1524     28000000.0\n",
       "1792     25000000.0\n",
       "           ...     \n",
       "7456     35000000.0\n",
       "7464    400000000.0\n",
       "7474    400000000.0\n",
       "7476     30000000.0\n",
       "7478     60000000.0\n",
       "Name: nonrefundable_support, Length: 323, dtype: float64"
      ]
     },
     "execution_count": 151,
     "metadata": {},
     "output_type": "execute_result"
    }
   ],
   "source": [
    "combined_data.loc[combined_data['nonrefundable_support']>0, 'nonrefundable_support']"
   ]
  },
  {
   "cell_type": "code",
   "execution_count": 152,
   "metadata": {},
   "outputs": [
    {
     "data": {
      "text/html": [
       "<div>\n",
       "<style scoped>\n",
       "    .dataframe tbody tr th:only-of-type {\n",
       "        vertical-align: middle;\n",
       "    }\n",
       "\n",
       "    .dataframe tbody tr th {\n",
       "        vertical-align: top;\n",
       "    }\n",
       "\n",
       "    .dataframe thead th {\n",
       "        text-align: right;\n",
       "    }\n",
       "</style>\n",
       "<table border=\"1\" class=\"dataframe\">\n",
       "  <thead>\n",
       "    <tr style=\"text-align: right;\">\n",
       "      <th></th>\n",
       "      <th>title</th>\n",
       "      <th>puNumber</th>\n",
       "      <th>show_start_date</th>\n",
       "      <th>type</th>\n",
       "      <th>film_studio</th>\n",
       "      <th>production_country</th>\n",
       "      <th>director</th>\n",
       "      <th>producer</th>\n",
       "      <th>age_restriction</th>\n",
       "      <th>refundable_support</th>\n",
       "      <th>nonrefundable_support</th>\n",
       "      <th>budget</th>\n",
       "      <th>financing_source</th>\n",
       "      <th>ratings</th>\n",
       "      <th>genres</th>\n",
       "      <th>box_office</th>\n",
       "    </tr>\n",
       "  </thead>\n",
       "  <tbody>\n",
       "    <tr>\n",
       "      <th>1281</th>\n",
       "      <td>Пока еще жива</td>\n",
       "      <td>111005313</td>\n",
       "      <td>2013-10-11 12:00:00+00:00</td>\n",
       "      <td>Художественный</td>\n",
       "      <td>АНО содействия развитию кинематографии \"Ангел-...</td>\n",
       "      <td>Россия</td>\n",
       "      <td>А.Атанесян</td>\n",
       "      <td>А.Атанесян, М.Бабаханов, Р.Бутко</td>\n",
       "      <td>«16+» - для детей старше 16 лет</td>\n",
       "      <td>0.0</td>\n",
       "      <td>26500000.0</td>\n",
       "      <td>79411900.0</td>\n",
       "      <td>Министерство культуры</td>\n",
       "      <td>8.1</td>\n",
       "      <td>драма,мелодрама</td>\n",
       "      <td>365353.6</td>\n",
       "    </tr>\n",
       "    <tr>\n",
       "      <th>1448</th>\n",
       "      <td>Бесславные придурки</td>\n",
       "      <td>111003314</td>\n",
       "      <td>2014-03-28 12:00:00+00:00</td>\n",
       "      <td>Художественный</td>\n",
       "      <td>ООО \"Компания \"АТК-Студио\"</td>\n",
       "      <td>Россия</td>\n",
       "      <td>А.Якимчук</td>\n",
       "      <td>А.Тютрюмов</td>\n",
       "      <td>«12+» - для детей старше 12 лет</td>\n",
       "      <td>0.0</td>\n",
       "      <td>26000000.0</td>\n",
       "      <td>37142857.0</td>\n",
       "      <td>Министерство культуры</td>\n",
       "      <td>0.0</td>\n",
       "      <td>неизвестно</td>\n",
       "      <td>28140.0</td>\n",
       "    </tr>\n",
       "    <tr>\n",
       "      <th>1498</th>\n",
       "      <td>Невидимки</td>\n",
       "      <td>111004213</td>\n",
       "      <td>2013-09-10 12:00:00+00:00</td>\n",
       "      <td>Художественный</td>\n",
       "      <td>ООО \"Компания \"РЕАЛ-ДАКОТА\"</td>\n",
       "      <td>Россия</td>\n",
       "      <td>Р.Давлетьяров, С.Комаров</td>\n",
       "      <td>Р.Давлетьяров, А.Котелевский, А.Олейников</td>\n",
       "      <td>«12+» - для детей старше 12 лет</td>\n",
       "      <td>0.0</td>\n",
       "      <td>107847945.0</td>\n",
       "      <td>176023490.0</td>\n",
       "      <td>Фонд кино</td>\n",
       "      <td>5.3</td>\n",
       "      <td>комедия,фантастика</td>\n",
       "      <td>19957031.5</td>\n",
       "    </tr>\n",
       "    <tr>\n",
       "      <th>1524</th>\n",
       "      <td>БЕРЦЫ</td>\n",
       "      <td>111004314</td>\n",
       "      <td>2014-05-05 12:00:00+00:00</td>\n",
       "      <td>Художественный</td>\n",
       "      <td>ООО \"Студия \"Пассажир\"</td>\n",
       "      <td>Россия</td>\n",
       "      <td>Е.Миндадзе (псевдоним Катя Шагалова)</td>\n",
       "      <td>Л.Антонова</td>\n",
       "      <td>«16+» - для детей старше 16 лет</td>\n",
       "      <td>0.0</td>\n",
       "      <td>28000000.0</td>\n",
       "      <td>40574140.0</td>\n",
       "      <td>Министерство культуры</td>\n",
       "      <td>4.2</td>\n",
       "      <td>драма</td>\n",
       "      <td>55917.5</td>\n",
       "    </tr>\n",
       "    <tr>\n",
       "      <th>1792</th>\n",
       "      <td>Братья Ч</td>\n",
       "      <td>111004414</td>\n",
       "      <td>2014-04-23 12:00:00+00:00</td>\n",
       "      <td>Художественный</td>\n",
       "      <td>ООО \"Студия \"Пассажир\"</td>\n",
       "      <td>Россия</td>\n",
       "      <td>М.Угаров</td>\n",
       "      <td>А.Миндадзе, Л.Антонова</td>\n",
       "      <td>«16+» - для детей старше 16 лет</td>\n",
       "      <td>0.0</td>\n",
       "      <td>25000000.0</td>\n",
       "      <td>40015122.0</td>\n",
       "      <td>Министерство культуры</td>\n",
       "      <td>6.4</td>\n",
       "      <td>драма</td>\n",
       "      <td>232100.0</td>\n",
       "    </tr>\n",
       "    <tr>\n",
       "      <th>1854</th>\n",
       "      <td>Тайна Сухаревой башни. Чародей равновесия</td>\n",
       "      <td>114000115</td>\n",
       "      <td>2015-02-18 12:00:00+00:00</td>\n",
       "      <td>Анимационный</td>\n",
       "      <td>ООО \"Студия \"Мастер-Фильм\"</td>\n",
       "      <td>Россия</td>\n",
       "      <td>С.Серегин</td>\n",
       "      <td>А.Герасимов</td>\n",
       "      <td>«6+» - для детей старше 6 лет</td>\n",
       "      <td>0.0</td>\n",
       "      <td>25000000.0</td>\n",
       "      <td>51850000.0</td>\n",
       "      <td>Министерство культуры</td>\n",
       "      <td>6.1</td>\n",
       "      <td>мультфильм,фэнтези,история</td>\n",
       "      <td>15078858.6</td>\n",
       "    </tr>\n",
       "    <tr>\n",
       "      <th>1870</th>\n",
       "      <td>А зори здесь тихие..._</td>\n",
       "      <td>111002915</td>\n",
       "      <td>2015-03-16 12:00:00+00:00</td>\n",
       "      <td>Художественный</td>\n",
       "      <td>ООО \"Компания \"Реал-Дакота\"</td>\n",
       "      <td>Россия</td>\n",
       "      <td>Р.Давлетьяров</td>\n",
       "      <td>неизвестно</td>\n",
       "      <td>«12+» - для детей старше 12 лет</td>\n",
       "      <td>50000000.0</td>\n",
       "      <td>100000000.0</td>\n",
       "      <td>220588394.0</td>\n",
       "      <td>Фонд кино</td>\n",
       "      <td>8.5</td>\n",
       "      <td>драма,военный,история</td>\n",
       "      <td>249166767.7</td>\n",
       "    </tr>\n",
       "    <tr>\n",
       "      <th>1871</th>\n",
       "      <td>Две женщины</td>\n",
       "      <td>111013714</td>\n",
       "      <td>2014-10-02 12:00:00+00:00</td>\n",
       "      <td>Художественный</td>\n",
       "      <td>ООО \"Продюсерский Центр \"Хорошо Продакшн\", Rez...</td>\n",
       "      <td>Россия-Франция-Латвия</td>\n",
       "      <td>В.Глаголева</td>\n",
       "      <td>Н.Иванова</td>\n",
       "      <td>«12+» - для детей старше 12 лет</td>\n",
       "      <td>0.0</td>\n",
       "      <td>46502299.0</td>\n",
       "      <td>86210067.0</td>\n",
       "      <td>Министерство культуры, Фонд кино</td>\n",
       "      <td>6.7</td>\n",
       "      <td>драма</td>\n",
       "      <td>4731239.5</td>\n",
       "    </tr>\n",
       "    <tr>\n",
       "      <th>1903</th>\n",
       "      <td>Призрак_.</td>\n",
       "      <td>111001815</td>\n",
       "      <td>2015-03-02 12:00:00+00:00</td>\n",
       "      <td>Художественный</td>\n",
       "      <td>ООО \"Водород 2011\"</td>\n",
       "      <td>Россия</td>\n",
       "      <td>А.Войтинский</td>\n",
       "      <td>С.Сельянов</td>\n",
       "      <td>«6+» - для детей старше 6 лет</td>\n",
       "      <td>0.0</td>\n",
       "      <td>75000000.0</td>\n",
       "      <td>139551503.0</td>\n",
       "      <td>Фонд кино</td>\n",
       "      <td>7.0</td>\n",
       "      <td>триллер,боевик,приключения</td>\n",
       "      <td>352804320.4</td>\n",
       "    </tr>\n",
       "    <tr>\n",
       "      <th>1912</th>\n",
       "      <td>Ведьма .</td>\n",
       "      <td>111002215</td>\n",
       "      <td>2015-03-05 12:00:00+00:00</td>\n",
       "      <td>Художественный</td>\n",
       "      <td>ООО \"Кинокомпания \"Ракурс\"</td>\n",
       "      <td>Россия</td>\n",
       "      <td>Д.Федоров</td>\n",
       "      <td>В.Сидоренко</td>\n",
       "      <td>«16+» - для детей старше 16 лет</td>\n",
       "      <td>0.0</td>\n",
       "      <td>34000000.0</td>\n",
       "      <td>48571430.0</td>\n",
       "      <td>Министерство культуры</td>\n",
       "      <td>7.4</td>\n",
       "      <td>фэнтези,приключения,драма</td>\n",
       "      <td>51907.5</td>\n",
       "    </tr>\n",
       "    <tr>\n",
       "      <th>1987</th>\n",
       "      <td>Елки Лохматые</td>\n",
       "      <td>111023114</td>\n",
       "      <td>2014-12-10 12:00:00+00:00</td>\n",
       "      <td>Художественный</td>\n",
       "      <td>ООО \"ТаББаК\"</td>\n",
       "      <td>Россия</td>\n",
       "      <td>Максим Свешников</td>\n",
       "      <td>Тимур Бекмамбетов, Евгения Аронова</td>\n",
       "      <td>«6+» - для детей старше 6 лет</td>\n",
       "      <td>26000000.0</td>\n",
       "      <td>30000000.0</td>\n",
       "      <td>80000000.0</td>\n",
       "      <td>Фонд кино</td>\n",
       "      <td>5.0</td>\n",
       "      <td>семейный,комедия</td>\n",
       "      <td>121225633.8</td>\n",
       "    </tr>\n",
       "    <tr>\n",
       "      <th>1991</th>\n",
       "      <td>Смайлик</td>\n",
       "      <td>111008614</td>\n",
       "      <td>2014-08-08 12:00:00+00:00</td>\n",
       "      <td>Художественный</td>\n",
       "      <td>ООО \"Продюсерская кинокомпания \"Киномир\"</td>\n",
       "      <td>Россия</td>\n",
       "      <td>Т.Аленикова</td>\n",
       "      <td>Т.Яковенко</td>\n",
       "      <td>«16+» - для детей старше 16 лет</td>\n",
       "      <td>0.0</td>\n",
       "      <td>25000000.0</td>\n",
       "      <td>36259500.0</td>\n",
       "      <td>Министерство культуры</td>\n",
       "      <td>6.8</td>\n",
       "      <td>мелодрама</td>\n",
       "      <td>554251.0</td>\n",
       "    </tr>\n",
       "    <tr>\n",
       "      <th>1997</th>\n",
       "      <td>Овечка Долли была злая и рано умерла</td>\n",
       "      <td>111015214</td>\n",
       "      <td>2014-11-10 12:00:00+00:00</td>\n",
       "      <td>Художественный</td>\n",
       "      <td>ООО \"Пиманов и партнеры\"</td>\n",
       "      <td>Россия</td>\n",
       "      <td>А.Пиманов</td>\n",
       "      <td>А.Пиманов, О.Погодина</td>\n",
       "      <td>«12+» - для детей старше 12 лет</td>\n",
       "      <td>0.0</td>\n",
       "      <td>25000000.0</td>\n",
       "      <td>70876172.0</td>\n",
       "      <td>Фонд кино</td>\n",
       "      <td>6.6</td>\n",
       "      <td>фантастика,комедия,приключения</td>\n",
       "      <td>43534847.1</td>\n",
       "    </tr>\n",
       "    <tr>\n",
       "      <th>2005</th>\n",
       "      <td>Снежная Королева 2: Перезаморозка</td>\n",
       "      <td>114000214</td>\n",
       "      <td>2014-11-13 12:00:00+00:00</td>\n",
       "      <td>Анимационный</td>\n",
       "      <td>ООО \"ВИЗАРТ ФИЛЬМ\"</td>\n",
       "      <td>Россия</td>\n",
       "      <td>А.Цицилин</td>\n",
       "      <td>ООО \"ВИЗАРТ ФИЛЬМ\", ООО \"ТаББаК\"</td>\n",
       "      <td>«0+» - для любой зрительской аудитории</td>\n",
       "      <td>30000000.0</td>\n",
       "      <td>40000000.0</td>\n",
       "      <td>252489571.0</td>\n",
       "      <td>Фонд кино</td>\n",
       "      <td>6.5</td>\n",
       "      <td>мультфильм,фэнтези,приключения</td>\n",
       "      <td>313489846.5</td>\n",
       "    </tr>\n",
       "    <tr>\n",
       "      <th>2014</th>\n",
       "      <td>Дедушка моей мечты</td>\n",
       "      <td>111007714</td>\n",
       "      <td>2014-07-22 12:00:00+00:00</td>\n",
       "      <td>Художественный</td>\n",
       "      <td>ООО \"Пендулум\"</td>\n",
       "      <td>Россия</td>\n",
       "      <td>А.Стриженов</td>\n",
       "      <td>Л.Якубович, А.Стриженов, Л.Лищинская</td>\n",
       "      <td>«12+» - для детей старше 12 лет</td>\n",
       "      <td>0.0</td>\n",
       "      <td>28000000.0</td>\n",
       "      <td>74910000.0</td>\n",
       "      <td>Министерство культуры</td>\n",
       "      <td>5.7</td>\n",
       "      <td>комедия,семейный</td>\n",
       "      <td>6277796.2</td>\n",
       "    </tr>\n",
       "    <tr>\n",
       "      <th>2084</th>\n",
       "      <td>Дорога на Берлин</td>\n",
       "      <td>111001315</td>\n",
       "      <td>2015-02-17 12:00:00+00:00</td>\n",
       "      <td>Художественный</td>\n",
       "      <td>ООО \"Продюсерская компания Александра Литвинов...</td>\n",
       "      <td>Россия</td>\n",
       "      <td>С.Попов</td>\n",
       "      <td>А.Литвинов, К.Шахназаров</td>\n",
       "      <td>«12+» - для детей старше 12 лет</td>\n",
       "      <td>0.0</td>\n",
       "      <td>45000000.0</td>\n",
       "      <td>89782312.0</td>\n",
       "      <td>Министерство культуры</td>\n",
       "      <td>6.2</td>\n",
       "      <td>военный,драма,история</td>\n",
       "      <td>22723575.0</td>\n",
       "    </tr>\n",
       "    <tr>\n",
       "      <th>2092</th>\n",
       "      <td>Батальонъ</td>\n",
       "      <td>111000715</td>\n",
       "      <td>2015-01-29 12:00:00+00:00</td>\n",
       "      <td>Художественный</td>\n",
       "      <td>ООО \"Корнер Ворк\", ООО \"Арт Пикчерс Студия\"</td>\n",
       "      <td>Россия</td>\n",
       "      <td>Д.Месхиев</td>\n",
       "      <td>И.Угольников</td>\n",
       "      <td>«12+» - для детей старше 12 лет</td>\n",
       "      <td>0.0</td>\n",
       "      <td>56579055.0</td>\n",
       "      <td>436437176.0</td>\n",
       "      <td>Министерство культуры, Фонд кино</td>\n",
       "      <td>7.1</td>\n",
       "      <td>драма,военный,история</td>\n",
       "      <td>451812221.7</td>\n",
       "    </tr>\n",
       "    <tr>\n",
       "      <th>2106</th>\n",
       "      <td>С пяти до семи</td>\n",
       "      <td>111000615</td>\n",
       "      <td>2015-01-28 12:00:00+00:00</td>\n",
       "      <td>Художественный</td>\n",
       "      <td>ООО \"АМАЛЬГАМА ПРОДАКШН\"</td>\n",
       "      <td>Россия</td>\n",
       "      <td>В.Щегольков</td>\n",
       "      <td>А.Феофанов, С.Новиков</td>\n",
       "      <td>«16+» - для детей старше 16 лет</td>\n",
       "      <td>0.0</td>\n",
       "      <td>25500000.0</td>\n",
       "      <td>40500000.0</td>\n",
       "      <td>Министерство культуры</td>\n",
       "      <td>6.7</td>\n",
       "      <td>драма,мелодрама</td>\n",
       "      <td>366998.0</td>\n",
       "    </tr>\n",
       "    <tr>\n",
       "      <th>2108</th>\n",
       "      <td>ОХРАНА</td>\n",
       "      <td>111001115</td>\n",
       "      <td>2015-02-11 12:00:00+00:00</td>\n",
       "      <td>Художественный</td>\n",
       "      <td>ООО \"Амкарт\"</td>\n",
       "      <td>Россия</td>\n",
       "      <td>А.Прошкин</td>\n",
       "      <td>Д.Пиркулов</td>\n",
       "      <td>«16+» - для детей старше 16 лет</td>\n",
       "      <td>0.0</td>\n",
       "      <td>45000000.0</td>\n",
       "      <td>68490606.0</td>\n",
       "      <td>Министерство культуры, Фонд кино</td>\n",
       "      <td>5.0</td>\n",
       "      <td>драма,комедия</td>\n",
       "      <td>310738.0</td>\n",
       "    </tr>\n",
       "    <tr>\n",
       "      <th>2109</th>\n",
       "      <td>Полное превращение</td>\n",
       "      <td>111001215</td>\n",
       "      <td>2015-02-12 12:00:00+00:00</td>\n",
       "      <td>Художественный</td>\n",
       "      <td>ООО \"Каро Продакшн\"</td>\n",
       "      <td>Россия</td>\n",
       "      <td>П.Санаев, Ф.Коршунов</td>\n",
       "      <td>Ю.Обухов, А.Рязанцев</td>\n",
       "      <td>«16+» - для детей старше 16 лет</td>\n",
       "      <td>0.0</td>\n",
       "      <td>30000000.0</td>\n",
       "      <td>45006609.0</td>\n",
       "      <td>Фонд кино</td>\n",
       "      <td>5.4</td>\n",
       "      <td>комедия,фантастика</td>\n",
       "      <td>11663188.0</td>\n",
       "    </tr>\n",
       "  </tbody>\n",
       "</table>\n",
       "</div>"
      ],
      "text/plain": [
       "                                          title   puNumber  \\\n",
       "1281                              Пока еще жива  111005313   \n",
       "1448                        Бесславные придурки  111003314   \n",
       "1498                                  Невидимки  111004213   \n",
       "1524                                      БЕРЦЫ  111004314   \n",
       "1792                                   Братья Ч  111004414   \n",
       "1854  Тайна Сухаревой башни. Чародей равновесия  114000115   \n",
       "1870                     А зори здесь тихие..._  111002915   \n",
       "1871                                Две женщины  111013714   \n",
       "1903                                  Призрак_.  111001815   \n",
       "1912                                   Ведьма .  111002215   \n",
       "1987                              Елки Лохматые  111023114   \n",
       "1991                                    Смайлик  111008614   \n",
       "1997       Овечка Долли была злая и рано умерла  111015214   \n",
       "2005          Снежная Королева 2: Перезаморозка  114000214   \n",
       "2014                         Дедушка моей мечты  111007714   \n",
       "2084                           Дорога на Берлин  111001315   \n",
       "2092                                  Батальонъ  111000715   \n",
       "2106                             С пяти до семи  111000615   \n",
       "2108                                     ОХРАНА  111001115   \n",
       "2109                         Полное превращение  111001215   \n",
       "\n",
       "               show_start_date            type  \\\n",
       "1281 2013-10-11 12:00:00+00:00  Художественный   \n",
       "1448 2014-03-28 12:00:00+00:00  Художественный   \n",
       "1498 2013-09-10 12:00:00+00:00  Художественный   \n",
       "1524 2014-05-05 12:00:00+00:00  Художественный   \n",
       "1792 2014-04-23 12:00:00+00:00  Художественный   \n",
       "1854 2015-02-18 12:00:00+00:00    Анимационный   \n",
       "1870 2015-03-16 12:00:00+00:00  Художественный   \n",
       "1871 2014-10-02 12:00:00+00:00  Художественный   \n",
       "1903 2015-03-02 12:00:00+00:00  Художественный   \n",
       "1912 2015-03-05 12:00:00+00:00  Художественный   \n",
       "1987 2014-12-10 12:00:00+00:00  Художественный   \n",
       "1991 2014-08-08 12:00:00+00:00  Художественный   \n",
       "1997 2014-11-10 12:00:00+00:00  Художественный   \n",
       "2005 2014-11-13 12:00:00+00:00    Анимационный   \n",
       "2014 2014-07-22 12:00:00+00:00  Художественный   \n",
       "2084 2015-02-17 12:00:00+00:00  Художественный   \n",
       "2092 2015-01-29 12:00:00+00:00  Художественный   \n",
       "2106 2015-01-28 12:00:00+00:00  Художественный   \n",
       "2108 2015-02-11 12:00:00+00:00  Художественный   \n",
       "2109 2015-02-12 12:00:00+00:00  Художественный   \n",
       "\n",
       "                                            film_studio  \\\n",
       "1281  АНО содействия развитию кинематографии \"Ангел-...   \n",
       "1448                         ООО \"Компания \"АТК-Студио\"   \n",
       "1498                        ООО \"Компания \"РЕАЛ-ДАКОТА\"   \n",
       "1524                             ООО \"Студия \"Пассажир\"   \n",
       "1792                             ООО \"Студия \"Пассажир\"   \n",
       "1854                         ООО \"Студия \"Мастер-Фильм\"   \n",
       "1870                        ООО \"Компания \"Реал-Дакота\"   \n",
       "1871  ООО \"Продюсерский Центр \"Хорошо Продакшн\", Rez...   \n",
       "1903                                 ООО \"Водород 2011\"   \n",
       "1912                         ООО \"Кинокомпания \"Ракурс\"   \n",
       "1987                                       ООО \"ТаББаК\"   \n",
       "1991           ООО \"Продюсерская кинокомпания \"Киномир\"   \n",
       "1997                           ООО \"Пиманов и партнеры\"   \n",
       "2005                                 ООО \"ВИЗАРТ ФИЛЬМ\"   \n",
       "2014                                     ООО \"Пендулум\"   \n",
       "2084  ООО \"Продюсерская компания Александра Литвинов...   \n",
       "2092        ООО \"Корнер Ворк\", ООО \"Арт Пикчерс Студия\"   \n",
       "2106                           ООО \"АМАЛЬГАМА ПРОДАКШН\"   \n",
       "2108                                       ООО \"Амкарт\"   \n",
       "2109                                ООО \"Каро Продакшн\"   \n",
       "\n",
       "         production_country                              director  \\\n",
       "1281                 Россия                            А.Атанесян   \n",
       "1448                 Россия                             А.Якимчук   \n",
       "1498                 Россия              Р.Давлетьяров, С.Комаров   \n",
       "1524                 Россия  Е.Миндадзе (псевдоним Катя Шагалова)   \n",
       "1792                 Россия                              М.Угаров   \n",
       "1854                 Россия                             С.Серегин   \n",
       "1870                 Россия                         Р.Давлетьяров   \n",
       "1871  Россия-Франция-Латвия                           В.Глаголева   \n",
       "1903                 Россия                          А.Войтинский   \n",
       "1912                 Россия                             Д.Федоров   \n",
       "1987                 Россия                      Максим Свешников   \n",
       "1991                 Россия                           Т.Аленикова   \n",
       "1997                 Россия                             А.Пиманов   \n",
       "2005                 Россия                             А.Цицилин   \n",
       "2014                 Россия                           А.Стриженов   \n",
       "2084                 Россия                               С.Попов   \n",
       "2092                 Россия                             Д.Месхиев   \n",
       "2106                 Россия                           В.Щегольков   \n",
       "2108                 Россия                             А.Прошкин   \n",
       "2109                 Россия                  П.Санаев, Ф.Коршунов   \n",
       "\n",
       "                                       producer  \\\n",
       "1281           А.Атанесян, М.Бабаханов, Р.Бутко   \n",
       "1448                                 А.Тютрюмов   \n",
       "1498  Р.Давлетьяров, А.Котелевский, А.Олейников   \n",
       "1524                                 Л.Антонова   \n",
       "1792                     А.Миндадзе, Л.Антонова   \n",
       "1854                                А.Герасимов   \n",
       "1870                                 неизвестно   \n",
       "1871                                  Н.Иванова   \n",
       "1903                                 С.Сельянов   \n",
       "1912                                В.Сидоренко   \n",
       "1987         Тимур Бекмамбетов, Евгения Аронова   \n",
       "1991                                 Т.Яковенко   \n",
       "1997                      А.Пиманов, О.Погодина   \n",
       "2005           ООО \"ВИЗАРТ ФИЛЬМ\", ООО \"ТаББаК\"   \n",
       "2014       Л.Якубович, А.Стриженов, Л.Лищинская   \n",
       "2084                   А.Литвинов, К.Шахназаров   \n",
       "2092                               И.Угольников   \n",
       "2106                      А.Феофанов, С.Новиков   \n",
       "2108                                 Д.Пиркулов   \n",
       "2109                       Ю.Обухов, А.Рязанцев   \n",
       "\n",
       "                             age_restriction  refundable_support  \\\n",
       "1281         «16+» - для детей старше 16 лет                 0.0   \n",
       "1448         «12+» - для детей старше 12 лет                 0.0   \n",
       "1498         «12+» - для детей старше 12 лет                 0.0   \n",
       "1524         «16+» - для детей старше 16 лет                 0.0   \n",
       "1792         «16+» - для детей старше 16 лет                 0.0   \n",
       "1854           «6+» - для детей старше 6 лет                 0.0   \n",
       "1870         «12+» - для детей старше 12 лет          50000000.0   \n",
       "1871         «12+» - для детей старше 12 лет                 0.0   \n",
       "1903           «6+» - для детей старше 6 лет                 0.0   \n",
       "1912         «16+» - для детей старше 16 лет                 0.0   \n",
       "1987           «6+» - для детей старше 6 лет          26000000.0   \n",
       "1991         «16+» - для детей старше 16 лет                 0.0   \n",
       "1997         «12+» - для детей старше 12 лет                 0.0   \n",
       "2005  «0+» - для любой зрительской аудитории          30000000.0   \n",
       "2014         «12+» - для детей старше 12 лет                 0.0   \n",
       "2084         «12+» - для детей старше 12 лет                 0.0   \n",
       "2092         «12+» - для детей старше 12 лет                 0.0   \n",
       "2106         «16+» - для детей старше 16 лет                 0.0   \n",
       "2108         «16+» - для детей старше 16 лет                 0.0   \n",
       "2109         «16+» - для детей старше 16 лет                 0.0   \n",
       "\n",
       "      nonrefundable_support       budget                  financing_source  \\\n",
       "1281             26500000.0   79411900.0             Министерство культуры   \n",
       "1448             26000000.0   37142857.0             Министерство культуры   \n",
       "1498            107847945.0  176023490.0                         Фонд кино   \n",
       "1524             28000000.0   40574140.0             Министерство культуры   \n",
       "1792             25000000.0   40015122.0             Министерство культуры   \n",
       "1854             25000000.0   51850000.0             Министерство культуры   \n",
       "1870            100000000.0  220588394.0                         Фонд кино   \n",
       "1871             46502299.0   86210067.0  Министерство культуры, Фонд кино   \n",
       "1903             75000000.0  139551503.0                         Фонд кино   \n",
       "1912             34000000.0   48571430.0             Министерство культуры   \n",
       "1987             30000000.0   80000000.0                         Фонд кино   \n",
       "1991             25000000.0   36259500.0             Министерство культуры   \n",
       "1997             25000000.0   70876172.0                         Фонд кино   \n",
       "2005             40000000.0  252489571.0                         Фонд кино   \n",
       "2014             28000000.0   74910000.0             Министерство культуры   \n",
       "2084             45000000.0   89782312.0             Министерство культуры   \n",
       "2092             56579055.0  436437176.0  Министерство культуры, Фонд кино   \n",
       "2106             25500000.0   40500000.0             Министерство культуры   \n",
       "2108             45000000.0   68490606.0  Министерство культуры, Фонд кино   \n",
       "2109             30000000.0   45006609.0                         Фонд кино   \n",
       "\n",
       "      ratings                          genres   box_office  \n",
       "1281      8.1                 драма,мелодрама     365353.6  \n",
       "1448      0.0                      неизвестно      28140.0  \n",
       "1498      5.3              комедия,фантастика   19957031.5  \n",
       "1524      4.2                           драма      55917.5  \n",
       "1792      6.4                           драма     232100.0  \n",
       "1854      6.1      мультфильм,фэнтези,история   15078858.6  \n",
       "1870      8.5           драма,военный,история  249166767.7  \n",
       "1871      6.7                           драма    4731239.5  \n",
       "1903      7.0      триллер,боевик,приключения  352804320.4  \n",
       "1912      7.4       фэнтези,приключения,драма      51907.5  \n",
       "1987      5.0                семейный,комедия  121225633.8  \n",
       "1991      6.8                       мелодрама     554251.0  \n",
       "1997      6.6  фантастика,комедия,приключения   43534847.1  \n",
       "2005      6.5  мультфильм,фэнтези,приключения  313489846.5  \n",
       "2014      5.7                комедия,семейный    6277796.2  \n",
       "2084      6.2           военный,драма,история   22723575.0  \n",
       "2092      7.1           драма,военный,история  451812221.7  \n",
       "2106      6.7                 драма,мелодрама     366998.0  \n",
       "2108      5.0                   драма,комедия     310738.0  \n",
       "2109      5.4              комедия,фантастика   11663188.0  "
      ]
     },
     "execution_count": 152,
     "metadata": {},
     "output_type": "execute_result"
    }
   ],
   "source": [
    "combined_data.loc[combined_data['budget']>0].head(20)"
   ]
  },
  {
   "cell_type": "code",
   "execution_count": 153,
   "metadata": {},
   "outputs": [
    {
     "data": {
      "text/plain": [
       "<AxesSubplot:title={'center':'Cборы в рублях'}, ylabel='Frequency'>"
      ]
     },
     "execution_count": 153,
     "metadata": {},
     "output_type": "execute_result"
    },
    {
     "data": {
      "image/png": "[encoded data removed]",
      "text/plain": [
       "<Figure size 432x288 with 1 Axes>"
      ]
     },
     "metadata": {
      "needs_background": "light"
     },
     "output_type": "display_data"
    }
   ],
   "source": [
    "combined_data['box_office'].plot(kind = 'hist',bins=50, range=(0, 150000), title = 'Cборы в рублях')"
   ]
  },
  {
   "cell_type": "markdown",
   "metadata": {},
   "source": [
    "Если посмотреть на сборы на диаграмме размаха, видим что для большинства фильмов сборы близки к нулю."
   ]
  },
  {
   "cell_type": "markdown",
   "metadata": {},
   "source": [
    "<div class=\"alert alert-success\">\n",
    "<h2> Комментарий ревьюера v1 <a class=\"tocSkip\"> </h2>\n",
    "\n",
    "<b>Все супер!👍:</b> Тоже супер) Но было бы круто подписать графики) "
   ]
  },
  {
   "cell_type": "markdown",
   "metadata": {
    "id": "Eu6oWp2CgFyS"
   },
   "source": [
    "#### Шаг 2.6. Добавьте новые столбцы\n",
    "\n",
    "\n",
    "\n"
   ]
  },
  {
   "cell_type": "markdown",
   "metadata": {
    "id": "7GgW-UpAgFyS"
   },
   "source": [
    "- Создайте столбец с информацией о годе проката. Выделите год из даты премьеры фильма."
   ]
  },
  {
   "cell_type": "code",
   "execution_count": 154,
   "metadata": {
    "id": "I-yd1DkWgFyT"
   },
   "outputs": [
    {
     "data": {
      "text/html": [
       "<div>\n",
       "<style scoped>\n",
       "    .dataframe tbody tr th:only-of-type {\n",
       "        vertical-align: middle;\n",
       "    }\n",
       "\n",
       "    .dataframe tbody tr th {\n",
       "        vertical-align: top;\n",
       "    }\n",
       "\n",
       "    .dataframe thead th {\n",
       "        text-align: right;\n",
       "    }\n",
       "</style>\n",
       "<table border=\"1\" class=\"dataframe\">\n",
       "  <thead>\n",
       "    <tr style=\"text-align: right;\">\n",
       "      <th></th>\n",
       "      <th>title</th>\n",
       "      <th>puNumber</th>\n",
       "      <th>show_start_date</th>\n",
       "      <th>type</th>\n",
       "      <th>film_studio</th>\n",
       "      <th>production_country</th>\n",
       "      <th>director</th>\n",
       "      <th>producer</th>\n",
       "      <th>age_restriction</th>\n",
       "      <th>refundable_support</th>\n",
       "      <th>nonrefundable_support</th>\n",
       "      <th>budget</th>\n",
       "      <th>financing_source</th>\n",
       "      <th>ratings</th>\n",
       "      <th>genres</th>\n",
       "      <th>box_office</th>\n",
       "      <th>rental_year</th>\n",
       "    </tr>\n",
       "  </thead>\n",
       "  <tbody>\n",
       "    <tr>\n",
       "      <th>0</th>\n",
       "      <td>Открытый простор</td>\n",
       "      <td>221048915</td>\n",
       "      <td>2015-11-27 12:00:00+00:00</td>\n",
       "      <td>Художественный</td>\n",
       "      <td>Тачстоун Пикчерз, Кобальт Пикчерз, Бикон Пикче...</td>\n",
       "      <td>США</td>\n",
       "      <td>Кевин Костнер</td>\n",
       "      <td>Дэвид Валдес, Кевин Костнер, Джейк Эбертс</td>\n",
       "      <td>«18+» - запрещено для детей</td>\n",
       "      <td>NaN</td>\n",
       "      <td>NaN</td>\n",
       "      <td>NaN</td>\n",
       "      <td>NaN</td>\n",
       "      <td>7.2</td>\n",
       "      <td>боевик,драма,мелодрама</td>\n",
       "      <td>NaN</td>\n",
       "      <td>2015</td>\n",
       "    </tr>\n",
       "    <tr>\n",
       "      <th>1</th>\n",
       "      <td>Особо важное задание</td>\n",
       "      <td>111013716</td>\n",
       "      <td>2016-09-13 12:00:00+00:00</td>\n",
       "      <td>Художественный</td>\n",
       "      <td>Киностудия \"Мосфильм\"</td>\n",
       "      <td>СССР</td>\n",
       "      <td>Е.Матвеев</td>\n",
       "      <td>неизвестно</td>\n",
       "      <td>«6+» - для детей старше 6 лет</td>\n",
       "      <td>NaN</td>\n",
       "      <td>NaN</td>\n",
       "      <td>NaN</td>\n",
       "      <td>NaN</td>\n",
       "      <td>6.6</td>\n",
       "      <td>драма,военный</td>\n",
       "      <td>NaN</td>\n",
       "      <td>2016</td>\n",
       "    </tr>\n",
       "    <tr>\n",
       "      <th>2</th>\n",
       "      <td>Особо опасен</td>\n",
       "      <td>221038416</td>\n",
       "      <td>2016-10-10 12:00:00+00:00</td>\n",
       "      <td>Художественный</td>\n",
       "      <td>Юниверсал Пикчерз, Кикстарт Продакшнз, Марк Пл...</td>\n",
       "      <td>США</td>\n",
       "      <td>Тимур Бекмамбетов</td>\n",
       "      <td>Джим Лемли, Джейсон Нетер, Марк Е.Платт, Яйн Смит</td>\n",
       "      <td>«18+» - запрещено для детей</td>\n",
       "      <td>NaN</td>\n",
       "      <td>NaN</td>\n",
       "      <td>NaN</td>\n",
       "      <td>NaN</td>\n",
       "      <td>6.8</td>\n",
       "      <td>фантастика,боевик,триллер</td>\n",
       "      <td>NaN</td>\n",
       "      <td>2016</td>\n",
       "    </tr>\n",
       "    <tr>\n",
       "      <th>3</th>\n",
       "      <td>Особо опасен</td>\n",
       "      <td>221026916</td>\n",
       "      <td>2016-06-10 12:00:00+00:00</td>\n",
       "      <td>Художественный</td>\n",
       "      <td>Юниверсал Пикчерз, Кикстарт Продакшнз, Марк Пл...</td>\n",
       "      <td>США</td>\n",
       "      <td>Тимур Бекмамбетов</td>\n",
       "      <td>Джим Лемли, Джейсон Нетер, Марк Е.Платт, Яйн Смит</td>\n",
       "      <td>«18+» - запрещено для детей</td>\n",
       "      <td>NaN</td>\n",
       "      <td>NaN</td>\n",
       "      <td>NaN</td>\n",
       "      <td>NaN</td>\n",
       "      <td>6.8</td>\n",
       "      <td>фантастика,боевик,триллер</td>\n",
       "      <td>NaN</td>\n",
       "      <td>2016</td>\n",
       "    </tr>\n",
       "    <tr>\n",
       "      <th>4</th>\n",
       "      <td>Особо опасен</td>\n",
       "      <td>221030815</td>\n",
       "      <td>2015-07-29 12:00:00+00:00</td>\n",
       "      <td>Художественный</td>\n",
       "      <td>Юниверсал Пикчерз, Кикстарт Продакшнз, Марк Пл...</td>\n",
       "      <td>США</td>\n",
       "      <td>Тимур Бекмамбетов</td>\n",
       "      <td>Джим Лемли, Джейсон Нетер, Марк Е.Платт, Яйн Смит</td>\n",
       "      <td>«18+» - запрещено для детей</td>\n",
       "      <td>NaN</td>\n",
       "      <td>NaN</td>\n",
       "      <td>NaN</td>\n",
       "      <td>NaN</td>\n",
       "      <td>6.8</td>\n",
       "      <td>фантастика,боевик,триллер</td>\n",
       "      <td>NaN</td>\n",
       "      <td>2015</td>\n",
       "    </tr>\n",
       "    <tr>\n",
       "      <th>5</th>\n",
       "      <td>Остановился поезд</td>\n",
       "      <td>111013816</td>\n",
       "      <td>2016-09-13 12:00:00+00:00</td>\n",
       "      <td>Художественный</td>\n",
       "      <td>Киностудия \"Мосфильм\"</td>\n",
       "      <td>СССР</td>\n",
       "      <td>В.Абдрашитов</td>\n",
       "      <td>неизвестно</td>\n",
       "      <td>«6+» - для детей старше 6 лет</td>\n",
       "      <td>NaN</td>\n",
       "      <td>NaN</td>\n",
       "      <td>NaN</td>\n",
       "      <td>NaN</td>\n",
       "      <td>7.7</td>\n",
       "      <td>драма</td>\n",
       "      <td>NaN</td>\n",
       "      <td>2016</td>\n",
       "    </tr>\n",
       "    <tr>\n",
       "      <th>6</th>\n",
       "      <td>Любовь и голуби</td>\n",
       "      <td>111007013</td>\n",
       "      <td>2013-10-18 12:00:00+00:00</td>\n",
       "      <td>Художественный</td>\n",
       "      <td>Киностудия \"Мосфильм\"</td>\n",
       "      <td>СССР</td>\n",
       "      <td>В.Меньшов</td>\n",
       "      <td>неизвестно</td>\n",
       "      <td>«12+» - для детей старше 12 лет</td>\n",
       "      <td>NaN</td>\n",
       "      <td>NaN</td>\n",
       "      <td>NaN</td>\n",
       "      <td>NaN</td>\n",
       "      <td>8.3</td>\n",
       "      <td>мелодрама,комедия</td>\n",
       "      <td>2700.0</td>\n",
       "      <td>2013</td>\n",
       "    </tr>\n",
       "    <tr>\n",
       "      <th>7</th>\n",
       "      <td>Любовь и сигареты</td>\n",
       "      <td>221074614</td>\n",
       "      <td>2014-12-29 12:00:00+00:00</td>\n",
       "      <td>Художественный</td>\n",
       "      <td>Юнайтед Артистс, Грин Стрит Филмз, Айкон Интер...</td>\n",
       "      <td>США</td>\n",
       "      <td>Джон Туртурро</td>\n",
       "      <td>Джон Пенотти, Джон Туртурро</td>\n",
       "      <td>«18+» - запрещено для детей</td>\n",
       "      <td>NaN</td>\n",
       "      <td>NaN</td>\n",
       "      <td>NaN</td>\n",
       "      <td>NaN</td>\n",
       "      <td>6.6</td>\n",
       "      <td>мюзикл,мелодрама,комедия</td>\n",
       "      <td>NaN</td>\n",
       "      <td>2014</td>\n",
       "    </tr>\n",
       "    <tr>\n",
       "      <th>8</th>\n",
       "      <td>Отпетые мошенники.</td>\n",
       "      <td>121011416</td>\n",
       "      <td>2016-05-05 12:00:00+00:00</td>\n",
       "      <td>Художественный</td>\n",
       "      <td>Пульсар Продюксьон, ТФ1 Фильм</td>\n",
       "      <td>Франция</td>\n",
       "      <td>Эрик Беснард</td>\n",
       "      <td>Патрис Леду</td>\n",
       "      <td>«18+» - запрещено для детей</td>\n",
       "      <td>NaN</td>\n",
       "      <td>NaN</td>\n",
       "      <td>NaN</td>\n",
       "      <td>NaN</td>\n",
       "      <td>8.0</td>\n",
       "      <td>комедия,криминал</td>\n",
       "      <td>NaN</td>\n",
       "      <td>2016</td>\n",
       "    </tr>\n",
       "    <tr>\n",
       "      <th>9</th>\n",
       "      <td>Отпуск за свой счет</td>\n",
       "      <td>111019114</td>\n",
       "      <td>2014-12-01 12:00:00+00:00</td>\n",
       "      <td>Художественный</td>\n",
       "      <td>Киностудия \"Мосфильм\", Телевидение ВНР</td>\n",
       "      <td>СССР-Венгрия</td>\n",
       "      <td>В.Титов</td>\n",
       "      <td>неизвестно</td>\n",
       "      <td>«12+» - для детей старше 12 лет</td>\n",
       "      <td>NaN</td>\n",
       "      <td>NaN</td>\n",
       "      <td>NaN</td>\n",
       "      <td>NaN</td>\n",
       "      <td>7.8</td>\n",
       "      <td>мелодрама,комедия</td>\n",
       "      <td>NaN</td>\n",
       "      <td>2014</td>\n",
       "    </tr>\n",
       "    <tr>\n",
       "      <th>10</th>\n",
       "      <td>Превосходство Борна /По одноименной новелле Ро...</td>\n",
       "      <td>221031416</td>\n",
       "      <td>2016-06-29 12:00:00+00:00</td>\n",
       "      <td>Художественный</td>\n",
       "      <td>Кеннеди/Маршал Компани, Юниверсал Пикчерз, Гип...</td>\n",
       "      <td>США</td>\n",
       "      <td>Пол Грингросс</td>\n",
       "      <td>Патрик Кроули, Фрэнк Маршалл, Пол Сэндберг</td>\n",
       "      <td>«16+» - для детей старше 16 лет</td>\n",
       "      <td>NaN</td>\n",
       "      <td>NaN</td>\n",
       "      <td>NaN</td>\n",
       "      <td>NaN</td>\n",
       "      <td>7.7</td>\n",
       "      <td>боевик,триллер,детектив</td>\n",
       "      <td>NaN</td>\n",
       "      <td>2016</td>\n",
       "    </tr>\n",
       "    <tr>\n",
       "      <th>11</th>\n",
       "      <td>Ответный ход</td>\n",
       "      <td>111019014</td>\n",
       "      <td>2014-12-01 12:00:00+00:00</td>\n",
       "      <td>Художественный</td>\n",
       "      <td>Киностудия \"Мосфильм\"</td>\n",
       "      <td>СССР</td>\n",
       "      <td>М.Туманишвили</td>\n",
       "      <td>неизвестно</td>\n",
       "      <td>«12+» - для детей старше 12 лет</td>\n",
       "      <td>NaN</td>\n",
       "      <td>NaN</td>\n",
       "      <td>NaN</td>\n",
       "      <td>NaN</td>\n",
       "      <td>7.8</td>\n",
       "      <td>боевик,драма,приключения</td>\n",
       "      <td>NaN</td>\n",
       "      <td>2014</td>\n",
       "    </tr>\n",
       "    <tr>\n",
       "      <th>12</th>\n",
       "      <td>Малышка на миллион /По мотивам рассказов Ф.Х.Т...</td>\n",
       "      <td>221011415</td>\n",
       "      <td>2015-04-03 12:00:00+00:00</td>\n",
       "      <td>Художественный</td>\n",
       "      <td>Уорнер Бразерс, Лейкшор Интертейнмент, Малпасо...</td>\n",
       "      <td>США</td>\n",
       "      <td>Клинт Иствуд</td>\n",
       "      <td>Клинт Иствуд, Том Розенберг, Альберт С.Рудди, ...</td>\n",
       "      <td>«16+» - для детей старше 16 лет</td>\n",
       "      <td>NaN</td>\n",
       "      <td>NaN</td>\n",
       "      <td>NaN</td>\n",
       "      <td>NaN</td>\n",
       "      <td>8.1</td>\n",
       "      <td>драма,спорт</td>\n",
       "      <td>NaN</td>\n",
       "      <td>2015</td>\n",
       "    </tr>\n",
       "    <tr>\n",
       "      <th>13</th>\n",
       "      <td>Преданный садовник</td>\n",
       "      <td>121003106</td>\n",
       "      <td>2013-08-26 12:00:00+00:00</td>\n",
       "      <td>Художественный</td>\n",
       "      <td>Потбойлер Продакшнз, Эпсилон Моушн Пикчерз, Ск...</td>\n",
       "      <td>Германия-Великобритания</td>\n",
       "      <td>Фернанду Мейрелльеш</td>\n",
       "      <td>Саймон Чэннинг Уильямс</td>\n",
       "      <td>«16+» - для детей старше 16 лет</td>\n",
       "      <td>NaN</td>\n",
       "      <td>NaN</td>\n",
       "      <td>NaN</td>\n",
       "      <td>NaN</td>\n",
       "      <td>7.1</td>\n",
       "      <td>триллер,драма,мелодрама</td>\n",
       "      <td>NaN</td>\n",
       "      <td>2013</td>\n",
       "    </tr>\n",
       "    <tr>\n",
       "      <th>14</th>\n",
       "      <td>Отель /По мотивам пьесы Джона Уэбстера/</td>\n",
       "      <td>221008812</td>\n",
       "      <td>2012-01-27 12:00:00+00:00</td>\n",
       "      <td>Художественный</td>\n",
       "      <td>Кэтлей, Отель Продакшнс, Мунстоун Интертейнмен...</td>\n",
       "      <td>Великобритания-Италия</td>\n",
       "      <td>Майк Фиггис</td>\n",
       "      <td>Этчи Стро, Анни Стюарт, Майк Фиггис</td>\n",
       "      <td>«18+» - запрещено для детей</td>\n",
       "      <td>NaN</td>\n",
       "      <td>NaN</td>\n",
       "      <td>NaN</td>\n",
       "      <td>NaN</td>\n",
       "      <td>6.0</td>\n",
       "      <td>комедия,мелодрама</td>\n",
       "      <td>NaN</td>\n",
       "      <td>2012</td>\n",
       "    </tr>\n",
       "    <tr>\n",
       "      <th>15</th>\n",
       "      <td>Председатель</td>\n",
       "      <td>111014916</td>\n",
       "      <td>2016-09-13 12:00:00+00:00</td>\n",
       "      <td>Художественный</td>\n",
       "      <td>Киностудия \"Мосфильм\"</td>\n",
       "      <td>СССР</td>\n",
       "      <td>А.Салтыков</td>\n",
       "      <td>неизвестно</td>\n",
       "      <td>«12+» - для детей старше 12 лет</td>\n",
       "      <td>NaN</td>\n",
       "      <td>NaN</td>\n",
       "      <td>NaN</td>\n",
       "      <td>NaN</td>\n",
       "      <td>8.3</td>\n",
       "      <td>драма</td>\n",
       "      <td>NaN</td>\n",
       "      <td>2016</td>\n",
       "    </tr>\n",
       "    <tr>\n",
       "      <th>16</th>\n",
       "      <td>Осенний марафон</td>\n",
       "      <td>111007513</td>\n",
       "      <td>2013-10-18 12:00:00+00:00</td>\n",
       "      <td>Художественный</td>\n",
       "      <td>Киностудия \"Мосфильм\"</td>\n",
       "      <td>СССР</td>\n",
       "      <td>Г.Данелия</td>\n",
       "      <td>неизвестно</td>\n",
       "      <td>«12+» - для детей старше 12 лет</td>\n",
       "      <td>NaN</td>\n",
       "      <td>NaN</td>\n",
       "      <td>NaN</td>\n",
       "      <td>NaN</td>\n",
       "      <td>8.0</td>\n",
       "      <td>драма,мелодрама,комедия</td>\n",
       "      <td>NaN</td>\n",
       "      <td>2013</td>\n",
       "    </tr>\n",
       "    <tr>\n",
       "      <th>17</th>\n",
       "      <td>Осень</td>\n",
       "      <td>111027914</td>\n",
       "      <td>2014-12-24 12:00:00+00:00</td>\n",
       "      <td>Художественный</td>\n",
       "      <td>Киностудия \"Мосфильм\"</td>\n",
       "      <td>СССР</td>\n",
       "      <td>А.Смирнов</td>\n",
       "      <td>неизвестно</td>\n",
       "      <td>«12+» - для детей старше 12 лет</td>\n",
       "      <td>NaN</td>\n",
       "      <td>NaN</td>\n",
       "      <td>NaN</td>\n",
       "      <td>NaN</td>\n",
       "      <td>7.4</td>\n",
       "      <td>драма,мелодрама</td>\n",
       "      <td>NaN</td>\n",
       "      <td>2014</td>\n",
       "    </tr>\n",
       "    <tr>\n",
       "      <th>18</th>\n",
       "      <td>Неподдающиеся</td>\n",
       "      <td>111003616</td>\n",
       "      <td>2016-02-12 12:00:00+00:00</td>\n",
       "      <td>Художественный</td>\n",
       "      <td>Киностудия \"Мосфильм\"</td>\n",
       "      <td>СССР</td>\n",
       "      <td>Ю.Чулюкин</td>\n",
       "      <td>неизвестно</td>\n",
       "      <td>«6+» - для детей старше 6 лет</td>\n",
       "      <td>NaN</td>\n",
       "      <td>NaN</td>\n",
       "      <td>NaN</td>\n",
       "      <td>NaN</td>\n",
       "      <td>8.0</td>\n",
       "      <td>мелодрама,комедия</td>\n",
       "      <td>360.0</td>\n",
       "      <td>2016</td>\n",
       "    </tr>\n",
       "    <tr>\n",
       "      <th>19</th>\n",
       "      <td>Неподсуден</td>\n",
       "      <td>111003716</td>\n",
       "      <td>2016-02-12 12:00:00+00:00</td>\n",
       "      <td>Художественный</td>\n",
       "      <td>Киностудия \"Мосфильм\"</td>\n",
       "      <td>СССР</td>\n",
       "      <td>В.Краснопольский, В.Усков</td>\n",
       "      <td>неизвестно</td>\n",
       "      <td>«6+» - для детей старше 6 лет</td>\n",
       "      <td>NaN</td>\n",
       "      <td>NaN</td>\n",
       "      <td>NaN</td>\n",
       "      <td>NaN</td>\n",
       "      <td>7.7</td>\n",
       "      <td>драма</td>\n",
       "      <td>420.0</td>\n",
       "      <td>2016</td>\n",
       "    </tr>\n",
       "  </tbody>\n",
       "</table>\n",
       "</div>"
      ],
      "text/plain": [
       "                                                title   puNumber  \\\n",
       "0                                    Открытый простор  221048915   \n",
       "1                                Особо важное задание  111013716   \n",
       "2                                        Особо опасен  221038416   \n",
       "3                                        Особо опасен  221026916   \n",
       "4                                        Особо опасен  221030815   \n",
       "5                                   Остановился поезд  111013816   \n",
       "6                                     Любовь и голуби  111007013   \n",
       "7                                   Любовь и сигареты  221074614   \n",
       "8                                  Отпетые мошенники.  121011416   \n",
       "9                                 Отпуск за свой счет  111019114   \n",
       "10  Превосходство Борна /По одноименной новелле Ро...  221031416   \n",
       "11                                       Ответный ход  111019014   \n",
       "12  Малышка на миллион /По мотивам рассказов Ф.Х.Т...  221011415   \n",
       "13                                 Преданный садовник  121003106   \n",
       "14            Отель /По мотивам пьесы Джона Уэбстера/  221008812   \n",
       "15                                       Председатель  111014916   \n",
       "16                                    Осенний марафон  111007513   \n",
       "17                                              Осень  111027914   \n",
       "18                                      Неподдающиеся  111003616   \n",
       "19                                         Неподсуден  111003716   \n",
       "\n",
       "             show_start_date            type  \\\n",
       "0  2015-11-27 12:00:00+00:00  Художественный   \n",
       "1  2016-09-13 12:00:00+00:00  Художественный   \n",
       "2  2016-10-10 12:00:00+00:00  Художественный   \n",
       "3  2016-06-10 12:00:00+00:00  Художественный   \n",
       "4  2015-07-29 12:00:00+00:00  Художественный   \n",
       "5  2016-09-13 12:00:00+00:00  Художественный   \n",
       "6  2013-10-18 12:00:00+00:00  Художественный   \n",
       "7  2014-12-29 12:00:00+00:00  Художественный   \n",
       "8  2016-05-05 12:00:00+00:00  Художественный   \n",
       "9  2014-12-01 12:00:00+00:00  Художественный   \n",
       "10 2016-06-29 12:00:00+00:00  Художественный   \n",
       "11 2014-12-01 12:00:00+00:00  Художественный   \n",
       "12 2015-04-03 12:00:00+00:00  Художественный   \n",
       "13 2013-08-26 12:00:00+00:00  Художественный   \n",
       "14 2012-01-27 12:00:00+00:00  Художественный   \n",
       "15 2016-09-13 12:00:00+00:00  Художественный   \n",
       "16 2013-10-18 12:00:00+00:00  Художественный   \n",
       "17 2014-12-24 12:00:00+00:00  Художественный   \n",
       "18 2016-02-12 12:00:00+00:00  Художественный   \n",
       "19 2016-02-12 12:00:00+00:00  Художественный   \n",
       "\n",
       "                                          film_studio  \\\n",
       "0   Тачстоун Пикчерз, Кобальт Пикчерз, Бикон Пикче...   \n",
       "1                               Киностудия \"Мосфильм\"   \n",
       "2   Юниверсал Пикчерз, Кикстарт Продакшнз, Марк Пл...   \n",
       "3   Юниверсал Пикчерз, Кикстарт Продакшнз, Марк Пл...   \n",
       "4   Юниверсал Пикчерз, Кикстарт Продакшнз, Марк Пл...   \n",
       "5                               Киностудия \"Мосфильм\"   \n",
       "6                               Киностудия \"Мосфильм\"   \n",
       "7   Юнайтед Артистс, Грин Стрит Филмз, Айкон Интер...   \n",
       "8                       Пульсар Продюксьон, ТФ1 Фильм   \n",
       "9              Киностудия \"Мосфильм\", Телевидение ВНР   \n",
       "10  Кеннеди/Маршал Компани, Юниверсал Пикчерз, Гип...   \n",
       "11                              Киностудия \"Мосфильм\"   \n",
       "12  Уорнер Бразерс, Лейкшор Интертейнмент, Малпасо...   \n",
       "13  Потбойлер Продакшнз, Эпсилон Моушн Пикчерз, Ск...   \n",
       "14  Кэтлей, Отель Продакшнс, Мунстоун Интертейнмен...   \n",
       "15                              Киностудия \"Мосфильм\"   \n",
       "16                              Киностудия \"Мосфильм\"   \n",
       "17                              Киностудия \"Мосфильм\"   \n",
       "18                              Киностудия \"Мосфильм\"   \n",
       "19                              Киностудия \"Мосфильм\"   \n",
       "\n",
       "         production_country                   director  \\\n",
       "0                       США              Кевин Костнер   \n",
       "1                      СССР                  Е.Матвеев   \n",
       "2                       США          Тимур Бекмамбетов   \n",
       "3                       США          Тимур Бекмамбетов   \n",
       "4                       США          Тимур Бекмамбетов   \n",
       "5                      СССР               В.Абдрашитов   \n",
       "6                      СССР                  В.Меньшов   \n",
       "7                       США              Джон Туртурро   \n",
       "8                   Франция               Эрик Беснард   \n",
       "9              СССР-Венгрия                    В.Титов   \n",
       "10                      США              Пол Грингросс   \n",
       "11                     СССР              М.Туманишвили   \n",
       "12                      США               Клинт Иствуд   \n",
       "13  Германия-Великобритания        Фернанду Мейрелльеш   \n",
       "14    Великобритания-Италия                Майк Фиггис   \n",
       "15                     СССР                 А.Салтыков   \n",
       "16                     СССР                  Г.Данелия   \n",
       "17                     СССР                  А.Смирнов   \n",
       "18                     СССР                  Ю.Чулюкин   \n",
       "19                     СССР  В.Краснопольский, В.Усков   \n",
       "\n",
       "                                             producer  \\\n",
       "0           Дэвид Валдес, Кевин Костнер, Джейк Эбертс   \n",
       "1                                          неизвестно   \n",
       "2   Джим Лемли, Джейсон Нетер, Марк Е.Платт, Яйн Смит   \n",
       "3   Джим Лемли, Джейсон Нетер, Марк Е.Платт, Яйн Смит   \n",
       "4   Джим Лемли, Джейсон Нетер, Марк Е.Платт, Яйн Смит   \n",
       "5                                          неизвестно   \n",
       "6                                          неизвестно   \n",
       "7                         Джон Пенотти, Джон Туртурро   \n",
       "8                                         Патрис Леду   \n",
       "9                                          неизвестно   \n",
       "10         Патрик Кроули, Фрэнк Маршалл, Пол Сэндберг   \n",
       "11                                         неизвестно   \n",
       "12  Клинт Иствуд, Том Розенберг, Альберт С.Рудди, ...   \n",
       "13                             Саймон Чэннинг Уильямс   \n",
       "14                Этчи Стро, Анни Стюарт, Майк Фиггис   \n",
       "15                                         неизвестно   \n",
       "16                                         неизвестно   \n",
       "17                                         неизвестно   \n",
       "18                                         неизвестно   \n",
       "19                                         неизвестно   \n",
       "\n",
       "                    age_restriction  refundable_support  \\\n",
       "0       «18+» - запрещено для детей                 NaN   \n",
       "1     «6+» - для детей старше 6 лет                 NaN   \n",
       "2       «18+» - запрещено для детей                 NaN   \n",
       "3       «18+» - запрещено для детей                 NaN   \n",
       "4       «18+» - запрещено для детей                 NaN   \n",
       "5     «6+» - для детей старше 6 лет                 NaN   \n",
       "6   «12+» - для детей старше 12 лет                 NaN   \n",
       "7       «18+» - запрещено для детей                 NaN   \n",
       "8       «18+» - запрещено для детей                 NaN   \n",
       "9   «12+» - для детей старше 12 лет                 NaN   \n",
       "10  «16+» - для детей старше 16 лет                 NaN   \n",
       "11  «12+» - для детей старше 12 лет                 NaN   \n",
       "12  «16+» - для детей старше 16 лет                 NaN   \n",
       "13  «16+» - для детей старше 16 лет                 NaN   \n",
       "14      «18+» - запрещено для детей                 NaN   \n",
       "15  «12+» - для детей старше 12 лет                 NaN   \n",
       "16  «12+» - для детей старше 12 лет                 NaN   \n",
       "17  «12+» - для детей старше 12 лет                 NaN   \n",
       "18    «6+» - для детей старше 6 лет                 NaN   \n",
       "19    «6+» - для детей старше 6 лет                 NaN   \n",
       "\n",
       "    nonrefundable_support  budget financing_source  ratings  \\\n",
       "0                     NaN     NaN              NaN      7.2   \n",
       "1                     NaN     NaN              NaN      6.6   \n",
       "2                     NaN     NaN              NaN      6.8   \n",
       "3                     NaN     NaN              NaN      6.8   \n",
       "4                     NaN     NaN              NaN      6.8   \n",
       "5                     NaN     NaN              NaN      7.7   \n",
       "6                     NaN     NaN              NaN      8.3   \n",
       "7                     NaN     NaN              NaN      6.6   \n",
       "8                     NaN     NaN              NaN      8.0   \n",
       "9                     NaN     NaN              NaN      7.8   \n",
       "10                    NaN     NaN              NaN      7.7   \n",
       "11                    NaN     NaN              NaN      7.8   \n",
       "12                    NaN     NaN              NaN      8.1   \n",
       "13                    NaN     NaN              NaN      7.1   \n",
       "14                    NaN     NaN              NaN      6.0   \n",
       "15                    NaN     NaN              NaN      8.3   \n",
       "16                    NaN     NaN              NaN      8.0   \n",
       "17                    NaN     NaN              NaN      7.4   \n",
       "18                    NaN     NaN              NaN      8.0   \n",
       "19                    NaN     NaN              NaN      7.7   \n",
       "\n",
       "                       genres  box_office  rental_year  \n",
       "0      боевик,драма,мелодрама         NaN         2015  \n",
       "1               драма,военный         NaN         2016  \n",
       "2   фантастика,боевик,триллер         NaN         2016  \n",
       "3   фантастика,боевик,триллер         NaN         2016  \n",
       "4   фантастика,боевик,триллер         NaN         2015  \n",
       "5                       драма         NaN         2016  \n",
       "6           мелодрама,комедия      2700.0         2013  \n",
       "7    мюзикл,мелодрама,комедия         NaN         2014  \n",
       "8            комедия,криминал         NaN         2016  \n",
       "9           мелодрама,комедия         NaN         2014  \n",
       "10    боевик,триллер,детектив         NaN         2016  \n",
       "11   боевик,драма,приключения         NaN         2014  \n",
       "12                драма,спорт         NaN         2015  \n",
       "13    триллер,драма,мелодрама         NaN         2013  \n",
       "14          комедия,мелодрама         NaN         2012  \n",
       "15                      драма         NaN         2016  \n",
       "16    драма,мелодрама,комедия         NaN         2013  \n",
       "17            драма,мелодрама         NaN         2014  \n",
       "18          мелодрама,комедия       360.0         2016  \n",
       "19                      драма       420.0         2016  "
      ]
     },
     "execution_count": 154,
     "metadata": {},
     "output_type": "execute_result"
    }
   ],
   "source": [
    "combined_data['rental_year'] = combined_data['show_start_date'].dt.year\n",
    "combined_data.head(20)"
   ]
  },
  {
   "cell_type": "markdown",
   "metadata": {
    "id": "nFTDLDYOgFyT"
   },
   "source": [
    "- Создайте два столбца: с именем и фамилией главного режиссёра и основным жанром фильма. В столбцы войдут первые значения из списка режиссёров и жанров соответственно.\n",
    "\n",
    "<div id=\"accordion\">\n",
    "    <div class=\"card\">\n",
    "        <div class=\"card-header\" id=\"headingThree\">\n",
    "            <button class=\"btn btn-link collapsed\" data-toggle=\"collapse\" data-target=\"#collapseHint_2\" aria-expanded=\"false\" aria-controls=\"collapseHint_2\">Подсказка</button>\n",
    "        </div>\n",
    "        <div id=\"collapseHint_2\" class=\"collapse\" aria-labelledby=\"headingThree\" data-parent=\"#accordion\">\n",
    "            <div class=\"card-body\">\n",
    "Чтобы создать такие столбцы, лучше всего использовать собственную функцию. Эту функцию можно применить к двум столбцам сразу. \n",
    "            </div>\n",
    "        </div>\n",
    "    </div>\n",
    "</div>"
   ]
  },
  {
   "cell_type": "code",
   "execution_count": 155,
   "metadata": {
    "id": "LSbRZKbMgFyU"
   },
   "outputs": [
    {
     "data": {
      "text/html": [
       "<div>\n",
       "<style scoped>\n",
       "    .dataframe tbody tr th:only-of-type {\n",
       "        vertical-align: middle;\n",
       "    }\n",
       "\n",
       "    .dataframe tbody tr th {\n",
       "        vertical-align: top;\n",
       "    }\n",
       "\n",
       "    .dataframe thead th {\n",
       "        text-align: right;\n",
       "    }\n",
       "</style>\n",
       "<table border=\"1\" class=\"dataframe\">\n",
       "  <thead>\n",
       "    <tr style=\"text-align: right;\">\n",
       "      <th></th>\n",
       "      <th>title</th>\n",
       "      <th>puNumber</th>\n",
       "      <th>show_start_date</th>\n",
       "      <th>type</th>\n",
       "      <th>film_studio</th>\n",
       "      <th>production_country</th>\n",
       "      <th>director</th>\n",
       "      <th>producer</th>\n",
       "      <th>age_restriction</th>\n",
       "      <th>refundable_support</th>\n",
       "      <th>nonrefundable_support</th>\n",
       "      <th>budget</th>\n",
       "      <th>financing_source</th>\n",
       "      <th>ratings</th>\n",
       "      <th>genres</th>\n",
       "      <th>box_office</th>\n",
       "      <th>rental_year</th>\n",
       "      <th>director_name</th>\n",
       "      <th>main_genre</th>\n",
       "    </tr>\n",
       "  </thead>\n",
       "  <tbody>\n",
       "    <tr>\n",
       "      <th>0</th>\n",
       "      <td>Открытый простор</td>\n",
       "      <td>221048915</td>\n",
       "      <td>2015-11-27 12:00:00+00:00</td>\n",
       "      <td>Художественный</td>\n",
       "      <td>Тачстоун Пикчерз, Кобальт Пикчерз, Бикон Пикче...</td>\n",
       "      <td>США</td>\n",
       "      <td>Кевин Костнер</td>\n",
       "      <td>Дэвид Валдес, Кевин Костнер, Джейк Эбертс</td>\n",
       "      <td>«18+» - запрещено для детей</td>\n",
       "      <td>NaN</td>\n",
       "      <td>NaN</td>\n",
       "      <td>NaN</td>\n",
       "      <td>NaN</td>\n",
       "      <td>7.2</td>\n",
       "      <td>боевик,драма,мелодрама</td>\n",
       "      <td>NaN</td>\n",
       "      <td>2015</td>\n",
       "      <td>Кевин Костнер</td>\n",
       "      <td>боевик</td>\n",
       "    </tr>\n",
       "    <tr>\n",
       "      <th>1</th>\n",
       "      <td>Особо важное задание</td>\n",
       "      <td>111013716</td>\n",
       "      <td>2016-09-13 12:00:00+00:00</td>\n",
       "      <td>Художественный</td>\n",
       "      <td>Киностудия \"Мосфильм\"</td>\n",
       "      <td>СССР</td>\n",
       "      <td>Е.Матвеев</td>\n",
       "      <td>неизвестно</td>\n",
       "      <td>«6+» - для детей старше 6 лет</td>\n",
       "      <td>NaN</td>\n",
       "      <td>NaN</td>\n",
       "      <td>NaN</td>\n",
       "      <td>NaN</td>\n",
       "      <td>6.6</td>\n",
       "      <td>драма,военный</td>\n",
       "      <td>NaN</td>\n",
       "      <td>2016</td>\n",
       "      <td>Е.Матвеев</td>\n",
       "      <td>драма</td>\n",
       "    </tr>\n",
       "    <tr>\n",
       "      <th>2</th>\n",
       "      <td>Особо опасен</td>\n",
       "      <td>221038416</td>\n",
       "      <td>2016-10-10 12:00:00+00:00</td>\n",
       "      <td>Художественный</td>\n",
       "      <td>Юниверсал Пикчерз, Кикстарт Продакшнз, Марк Пл...</td>\n",
       "      <td>США</td>\n",
       "      <td>Тимур Бекмамбетов</td>\n",
       "      <td>Джим Лемли, Джейсон Нетер, Марк Е.Платт, Яйн Смит</td>\n",
       "      <td>«18+» - запрещено для детей</td>\n",
       "      <td>NaN</td>\n",
       "      <td>NaN</td>\n",
       "      <td>NaN</td>\n",
       "      <td>NaN</td>\n",
       "      <td>6.8</td>\n",
       "      <td>фантастика,боевик,триллер</td>\n",
       "      <td>NaN</td>\n",
       "      <td>2016</td>\n",
       "      <td>Тимур Бекмамбетов</td>\n",
       "      <td>фантастика</td>\n",
       "    </tr>\n",
       "    <tr>\n",
       "      <th>3</th>\n",
       "      <td>Особо опасен</td>\n",
       "      <td>221026916</td>\n",
       "      <td>2016-06-10 12:00:00+00:00</td>\n",
       "      <td>Художественный</td>\n",
       "      <td>Юниверсал Пикчерз, Кикстарт Продакшнз, Марк Пл...</td>\n",
       "      <td>США</td>\n",
       "      <td>Тимур Бекмамбетов</td>\n",
       "      <td>Джим Лемли, Джейсон Нетер, Марк Е.Платт, Яйн Смит</td>\n",
       "      <td>«18+» - запрещено для детей</td>\n",
       "      <td>NaN</td>\n",
       "      <td>NaN</td>\n",
       "      <td>NaN</td>\n",
       "      <td>NaN</td>\n",
       "      <td>6.8</td>\n",
       "      <td>фантастика,боевик,триллер</td>\n",
       "      <td>NaN</td>\n",
       "      <td>2016</td>\n",
       "      <td>Тимур Бекмамбетов</td>\n",
       "      <td>фантастика</td>\n",
       "    </tr>\n",
       "    <tr>\n",
       "      <th>4</th>\n",
       "      <td>Особо опасен</td>\n",
       "      <td>221030815</td>\n",
       "      <td>2015-07-29 12:00:00+00:00</td>\n",
       "      <td>Художественный</td>\n",
       "      <td>Юниверсал Пикчерз, Кикстарт Продакшнз, Марк Пл...</td>\n",
       "      <td>США</td>\n",
       "      <td>Тимур Бекмамбетов</td>\n",
       "      <td>Джим Лемли, Джейсон Нетер, Марк Е.Платт, Яйн Смит</td>\n",
       "      <td>«18+» - запрещено для детей</td>\n",
       "      <td>NaN</td>\n",
       "      <td>NaN</td>\n",
       "      <td>NaN</td>\n",
       "      <td>NaN</td>\n",
       "      <td>6.8</td>\n",
       "      <td>фантастика,боевик,триллер</td>\n",
       "      <td>NaN</td>\n",
       "      <td>2015</td>\n",
       "      <td>Тимур Бекмамбетов</td>\n",
       "      <td>фантастика</td>\n",
       "    </tr>\n",
       "    <tr>\n",
       "      <th>5</th>\n",
       "      <td>Остановился поезд</td>\n",
       "      <td>111013816</td>\n",
       "      <td>2016-09-13 12:00:00+00:00</td>\n",
       "      <td>Художественный</td>\n",
       "      <td>Киностудия \"Мосфильм\"</td>\n",
       "      <td>СССР</td>\n",
       "      <td>В.Абдрашитов</td>\n",
       "      <td>неизвестно</td>\n",
       "      <td>«6+» - для детей старше 6 лет</td>\n",
       "      <td>NaN</td>\n",
       "      <td>NaN</td>\n",
       "      <td>NaN</td>\n",
       "      <td>NaN</td>\n",
       "      <td>7.7</td>\n",
       "      <td>драма</td>\n",
       "      <td>NaN</td>\n",
       "      <td>2016</td>\n",
       "      <td>В.Абдрашитов</td>\n",
       "      <td>драма</td>\n",
       "    </tr>\n",
       "    <tr>\n",
       "      <th>6</th>\n",
       "      <td>Любовь и голуби</td>\n",
       "      <td>111007013</td>\n",
       "      <td>2013-10-18 12:00:00+00:00</td>\n",
       "      <td>Художественный</td>\n",
       "      <td>Киностудия \"Мосфильм\"</td>\n",
       "      <td>СССР</td>\n",
       "      <td>В.Меньшов</td>\n",
       "      <td>неизвестно</td>\n",
       "      <td>«12+» - для детей старше 12 лет</td>\n",
       "      <td>NaN</td>\n",
       "      <td>NaN</td>\n",
       "      <td>NaN</td>\n",
       "      <td>NaN</td>\n",
       "      <td>8.3</td>\n",
       "      <td>мелодрама,комедия</td>\n",
       "      <td>2700.0</td>\n",
       "      <td>2013</td>\n",
       "      <td>В.Меньшов</td>\n",
       "      <td>мелодрама</td>\n",
       "    </tr>\n",
       "    <tr>\n",
       "      <th>7</th>\n",
       "      <td>Любовь и сигареты</td>\n",
       "      <td>221074614</td>\n",
       "      <td>2014-12-29 12:00:00+00:00</td>\n",
       "      <td>Художественный</td>\n",
       "      <td>Юнайтед Артистс, Грин Стрит Филмз, Айкон Интер...</td>\n",
       "      <td>США</td>\n",
       "      <td>Джон Туртурро</td>\n",
       "      <td>Джон Пенотти, Джон Туртурро</td>\n",
       "      <td>«18+» - запрещено для детей</td>\n",
       "      <td>NaN</td>\n",
       "      <td>NaN</td>\n",
       "      <td>NaN</td>\n",
       "      <td>NaN</td>\n",
       "      <td>6.6</td>\n",
       "      <td>мюзикл,мелодрама,комедия</td>\n",
       "      <td>NaN</td>\n",
       "      <td>2014</td>\n",
       "      <td>Джон Туртурро</td>\n",
       "      <td>мюзикл</td>\n",
       "    </tr>\n",
       "    <tr>\n",
       "      <th>8</th>\n",
       "      <td>Отпетые мошенники.</td>\n",
       "      <td>121011416</td>\n",
       "      <td>2016-05-05 12:00:00+00:00</td>\n",
       "      <td>Художественный</td>\n",
       "      <td>Пульсар Продюксьон, ТФ1 Фильм</td>\n",
       "      <td>Франция</td>\n",
       "      <td>Эрик Беснард</td>\n",
       "      <td>Патрис Леду</td>\n",
       "      <td>«18+» - запрещено для детей</td>\n",
       "      <td>NaN</td>\n",
       "      <td>NaN</td>\n",
       "      <td>NaN</td>\n",
       "      <td>NaN</td>\n",
       "      <td>8.0</td>\n",
       "      <td>комедия,криминал</td>\n",
       "      <td>NaN</td>\n",
       "      <td>2016</td>\n",
       "      <td>Эрик Беснард</td>\n",
       "      <td>комедия</td>\n",
       "    </tr>\n",
       "    <tr>\n",
       "      <th>9</th>\n",
       "      <td>Отпуск за свой счет</td>\n",
       "      <td>111019114</td>\n",
       "      <td>2014-12-01 12:00:00+00:00</td>\n",
       "      <td>Художественный</td>\n",
       "      <td>Киностудия \"Мосфильм\", Телевидение ВНР</td>\n",
       "      <td>СССР-Венгрия</td>\n",
       "      <td>В.Титов</td>\n",
       "      <td>неизвестно</td>\n",
       "      <td>«12+» - для детей старше 12 лет</td>\n",
       "      <td>NaN</td>\n",
       "      <td>NaN</td>\n",
       "      <td>NaN</td>\n",
       "      <td>NaN</td>\n",
       "      <td>7.8</td>\n",
       "      <td>мелодрама,комедия</td>\n",
       "      <td>NaN</td>\n",
       "      <td>2014</td>\n",
       "      <td>В.Титов</td>\n",
       "      <td>мелодрама</td>\n",
       "    </tr>\n",
       "    <tr>\n",
       "      <th>10</th>\n",
       "      <td>Превосходство Борна /По одноименной новелле Ро...</td>\n",
       "      <td>221031416</td>\n",
       "      <td>2016-06-29 12:00:00+00:00</td>\n",
       "      <td>Художественный</td>\n",
       "      <td>Кеннеди/Маршал Компани, Юниверсал Пикчерз, Гип...</td>\n",
       "      <td>США</td>\n",
       "      <td>Пол Грингросс</td>\n",
       "      <td>Патрик Кроули, Фрэнк Маршалл, Пол Сэндберг</td>\n",
       "      <td>«16+» - для детей старше 16 лет</td>\n",
       "      <td>NaN</td>\n",
       "      <td>NaN</td>\n",
       "      <td>NaN</td>\n",
       "      <td>NaN</td>\n",
       "      <td>7.7</td>\n",
       "      <td>боевик,триллер,детектив</td>\n",
       "      <td>NaN</td>\n",
       "      <td>2016</td>\n",
       "      <td>Пол Грингросс</td>\n",
       "      <td>боевик</td>\n",
       "    </tr>\n",
       "    <tr>\n",
       "      <th>11</th>\n",
       "      <td>Ответный ход</td>\n",
       "      <td>111019014</td>\n",
       "      <td>2014-12-01 12:00:00+00:00</td>\n",
       "      <td>Художественный</td>\n",
       "      <td>Киностудия \"Мосфильм\"</td>\n",
       "      <td>СССР</td>\n",
       "      <td>М.Туманишвили</td>\n",
       "      <td>неизвестно</td>\n",
       "      <td>«12+» - для детей старше 12 лет</td>\n",
       "      <td>NaN</td>\n",
       "      <td>NaN</td>\n",
       "      <td>NaN</td>\n",
       "      <td>NaN</td>\n",
       "      <td>7.8</td>\n",
       "      <td>боевик,драма,приключения</td>\n",
       "      <td>NaN</td>\n",
       "      <td>2014</td>\n",
       "      <td>М.Туманишвили</td>\n",
       "      <td>боевик</td>\n",
       "    </tr>\n",
       "    <tr>\n",
       "      <th>12</th>\n",
       "      <td>Малышка на миллион /По мотивам рассказов Ф.Х.Т...</td>\n",
       "      <td>221011415</td>\n",
       "      <td>2015-04-03 12:00:00+00:00</td>\n",
       "      <td>Художественный</td>\n",
       "      <td>Уорнер Бразерс, Лейкшор Интертейнмент, Малпасо...</td>\n",
       "      <td>США</td>\n",
       "      <td>Клинт Иствуд</td>\n",
       "      <td>Клинт Иствуд, Том Розенберг, Альберт С.Рудди, ...</td>\n",
       "      <td>«16+» - для детей старше 16 лет</td>\n",
       "      <td>NaN</td>\n",
       "      <td>NaN</td>\n",
       "      <td>NaN</td>\n",
       "      <td>NaN</td>\n",
       "      <td>8.1</td>\n",
       "      <td>драма,спорт</td>\n",
       "      <td>NaN</td>\n",
       "      <td>2015</td>\n",
       "      <td>Клинт Иствуд</td>\n",
       "      <td>драма</td>\n",
       "    </tr>\n",
       "    <tr>\n",
       "      <th>13</th>\n",
       "      <td>Преданный садовник</td>\n",
       "      <td>121003106</td>\n",
       "      <td>2013-08-26 12:00:00+00:00</td>\n",
       "      <td>Художественный</td>\n",
       "      <td>Потбойлер Продакшнз, Эпсилон Моушн Пикчерз, Ск...</td>\n",
       "      <td>Германия-Великобритания</td>\n",
       "      <td>Фернанду Мейрелльеш</td>\n",
       "      <td>Саймон Чэннинг Уильямс</td>\n",
       "      <td>«16+» - для детей старше 16 лет</td>\n",
       "      <td>NaN</td>\n",
       "      <td>NaN</td>\n",
       "      <td>NaN</td>\n",
       "      <td>NaN</td>\n",
       "      <td>7.1</td>\n",
       "      <td>триллер,драма,мелодрама</td>\n",
       "      <td>NaN</td>\n",
       "      <td>2013</td>\n",
       "      <td>Фернанду Мейрелльеш</td>\n",
       "      <td>триллер</td>\n",
       "    </tr>\n",
       "    <tr>\n",
       "      <th>14</th>\n",
       "      <td>Отель /По мотивам пьесы Джона Уэбстера/</td>\n",
       "      <td>221008812</td>\n",
       "      <td>2012-01-27 12:00:00+00:00</td>\n",
       "      <td>Художественный</td>\n",
       "      <td>Кэтлей, Отель Продакшнс, Мунстоун Интертейнмен...</td>\n",
       "      <td>Великобритания-Италия</td>\n",
       "      <td>Майк Фиггис</td>\n",
       "      <td>Этчи Стро, Анни Стюарт, Майк Фиггис</td>\n",
       "      <td>«18+» - запрещено для детей</td>\n",
       "      <td>NaN</td>\n",
       "      <td>NaN</td>\n",
       "      <td>NaN</td>\n",
       "      <td>NaN</td>\n",
       "      <td>6.0</td>\n",
       "      <td>комедия,мелодрама</td>\n",
       "      <td>NaN</td>\n",
       "      <td>2012</td>\n",
       "      <td>Майк Фиггис</td>\n",
       "      <td>комедия</td>\n",
       "    </tr>\n",
       "    <tr>\n",
       "      <th>15</th>\n",
       "      <td>Председатель</td>\n",
       "      <td>111014916</td>\n",
       "      <td>2016-09-13 12:00:00+00:00</td>\n",
       "      <td>Художественный</td>\n",
       "      <td>Киностудия \"Мосфильм\"</td>\n",
       "      <td>СССР</td>\n",
       "      <td>А.Салтыков</td>\n",
       "      <td>неизвестно</td>\n",
       "      <td>«12+» - для детей старше 12 лет</td>\n",
       "      <td>NaN</td>\n",
       "      <td>NaN</td>\n",
       "      <td>NaN</td>\n",
       "      <td>NaN</td>\n",
       "      <td>8.3</td>\n",
       "      <td>драма</td>\n",
       "      <td>NaN</td>\n",
       "      <td>2016</td>\n",
       "      <td>А.Салтыков</td>\n",
       "      <td>драма</td>\n",
       "    </tr>\n",
       "    <tr>\n",
       "      <th>16</th>\n",
       "      <td>Осенний марафон</td>\n",
       "      <td>111007513</td>\n",
       "      <td>2013-10-18 12:00:00+00:00</td>\n",
       "      <td>Художественный</td>\n",
       "      <td>Киностудия \"Мосфильм\"</td>\n",
       "      <td>СССР</td>\n",
       "      <td>Г.Данелия</td>\n",
       "      <td>неизвестно</td>\n",
       "      <td>«12+» - для детей старше 12 лет</td>\n",
       "      <td>NaN</td>\n",
       "      <td>NaN</td>\n",
       "      <td>NaN</td>\n",
       "      <td>NaN</td>\n",
       "      <td>8.0</td>\n",
       "      <td>драма,мелодрама,комедия</td>\n",
       "      <td>NaN</td>\n",
       "      <td>2013</td>\n",
       "      <td>Г.Данелия</td>\n",
       "      <td>драма</td>\n",
       "    </tr>\n",
       "    <tr>\n",
       "      <th>17</th>\n",
       "      <td>Осень</td>\n",
       "      <td>111027914</td>\n",
       "      <td>2014-12-24 12:00:00+00:00</td>\n",
       "      <td>Художественный</td>\n",
       "      <td>Киностудия \"Мосфильм\"</td>\n",
       "      <td>СССР</td>\n",
       "      <td>А.Смирнов</td>\n",
       "      <td>неизвестно</td>\n",
       "      <td>«12+» - для детей старше 12 лет</td>\n",
       "      <td>NaN</td>\n",
       "      <td>NaN</td>\n",
       "      <td>NaN</td>\n",
       "      <td>NaN</td>\n",
       "      <td>7.4</td>\n",
       "      <td>драма,мелодрама</td>\n",
       "      <td>NaN</td>\n",
       "      <td>2014</td>\n",
       "      <td>А.Смирнов</td>\n",
       "      <td>драма</td>\n",
       "    </tr>\n",
       "    <tr>\n",
       "      <th>18</th>\n",
       "      <td>Неподдающиеся</td>\n",
       "      <td>111003616</td>\n",
       "      <td>2016-02-12 12:00:00+00:00</td>\n",
       "      <td>Художественный</td>\n",
       "      <td>Киностудия \"Мосфильм\"</td>\n",
       "      <td>СССР</td>\n",
       "      <td>Ю.Чулюкин</td>\n",
       "      <td>неизвестно</td>\n",
       "      <td>«6+» - для детей старше 6 лет</td>\n",
       "      <td>NaN</td>\n",
       "      <td>NaN</td>\n",
       "      <td>NaN</td>\n",
       "      <td>NaN</td>\n",
       "      <td>8.0</td>\n",
       "      <td>мелодрама,комедия</td>\n",
       "      <td>360.0</td>\n",
       "      <td>2016</td>\n",
       "      <td>Ю.Чулюкин</td>\n",
       "      <td>мелодрама</td>\n",
       "    </tr>\n",
       "    <tr>\n",
       "      <th>19</th>\n",
       "      <td>Неподсуден</td>\n",
       "      <td>111003716</td>\n",
       "      <td>2016-02-12 12:00:00+00:00</td>\n",
       "      <td>Художественный</td>\n",
       "      <td>Киностудия \"Мосфильм\"</td>\n",
       "      <td>СССР</td>\n",
       "      <td>В.Краснопольский, В.Усков</td>\n",
       "      <td>неизвестно</td>\n",
       "      <td>«6+» - для детей старше 6 лет</td>\n",
       "      <td>NaN</td>\n",
       "      <td>NaN</td>\n",
       "      <td>NaN</td>\n",
       "      <td>NaN</td>\n",
       "      <td>7.7</td>\n",
       "      <td>драма</td>\n",
       "      <td>420.0</td>\n",
       "      <td>2016</td>\n",
       "      <td>В.Краснопольский</td>\n",
       "      <td>драма</td>\n",
       "    </tr>\n",
       "  </tbody>\n",
       "</table>\n",
       "</div>"
      ],
      "text/plain": [
       "                                                title   puNumber  \\\n",
       "0                                    Открытый простор  221048915   \n",
       "1                                Особо важное задание  111013716   \n",
       "2                                        Особо опасен  221038416   \n",
       "3                                        Особо опасен  221026916   \n",
       "4                                        Особо опасен  221030815   \n",
       "5                                   Остановился поезд  111013816   \n",
       "6                                     Любовь и голуби  111007013   \n",
       "7                                   Любовь и сигареты  221074614   \n",
       "8                                  Отпетые мошенники.  121011416   \n",
       "9                                 Отпуск за свой счет  111019114   \n",
       "10  Превосходство Борна /По одноименной новелле Ро...  221031416   \n",
       "11                                       Ответный ход  111019014   \n",
       "12  Малышка на миллион /По мотивам рассказов Ф.Х.Т...  221011415   \n",
       "13                                 Преданный садовник  121003106   \n",
       "14            Отель /По мотивам пьесы Джона Уэбстера/  221008812   \n",
       "15                                       Председатель  111014916   \n",
       "16                                    Осенний марафон  111007513   \n",
       "17                                              Осень  111027914   \n",
       "18                                      Неподдающиеся  111003616   \n",
       "19                                         Неподсуден  111003716   \n",
       "\n",
       "             show_start_date            type  \\\n",
       "0  2015-11-27 12:00:00+00:00  Художественный   \n",
       "1  2016-09-13 12:00:00+00:00  Художественный   \n",
       "2  2016-10-10 12:00:00+00:00  Художественный   \n",
       "3  2016-06-10 12:00:00+00:00  Художественный   \n",
       "4  2015-07-29 12:00:00+00:00  Художественный   \n",
       "5  2016-09-13 12:00:00+00:00  Художественный   \n",
       "6  2013-10-18 12:00:00+00:00  Художественный   \n",
       "7  2014-12-29 12:00:00+00:00  Художественный   \n",
       "8  2016-05-05 12:00:00+00:00  Художественный   \n",
       "9  2014-12-01 12:00:00+00:00  Художественный   \n",
       "10 2016-06-29 12:00:00+00:00  Художественный   \n",
       "11 2014-12-01 12:00:00+00:00  Художественный   \n",
       "12 2015-04-03 12:00:00+00:00  Художественный   \n",
       "13 2013-08-26 12:00:00+00:00  Художественный   \n",
       "14 2012-01-27 12:00:00+00:00  Художественный   \n",
       "15 2016-09-13 12:00:00+00:00  Художественный   \n",
       "16 2013-10-18 12:00:00+00:00  Художественный   \n",
       "17 2014-12-24 12:00:00+00:00  Художественный   \n",
       "18 2016-02-12 12:00:00+00:00  Художественный   \n",
       "19 2016-02-12 12:00:00+00:00  Художественный   \n",
       "\n",
       "                                          film_studio  \\\n",
       "0   Тачстоун Пикчерз, Кобальт Пикчерз, Бикон Пикче...   \n",
       "1                               Киностудия \"Мосфильм\"   \n",
       "2   Юниверсал Пикчерз, Кикстарт Продакшнз, Марк Пл...   \n",
       "3   Юниверсал Пикчерз, Кикстарт Продакшнз, Марк Пл...   \n",
       "4   Юниверсал Пикчерз, Кикстарт Продакшнз, Марк Пл...   \n",
       "5                               Киностудия \"Мосфильм\"   \n",
       "6                               Киностудия \"Мосфильм\"   \n",
       "7   Юнайтед Артистс, Грин Стрит Филмз, Айкон Интер...   \n",
       "8                       Пульсар Продюксьон, ТФ1 Фильм   \n",
       "9              Киностудия \"Мосфильм\", Телевидение ВНР   \n",
       "10  Кеннеди/Маршал Компани, Юниверсал Пикчерз, Гип...   \n",
       "11                              Киностудия \"Мосфильм\"   \n",
       "12  Уорнер Бразерс, Лейкшор Интертейнмент, Малпасо...   \n",
       "13  Потбойлер Продакшнз, Эпсилон Моушн Пикчерз, Ск...   \n",
       "14  Кэтлей, Отель Продакшнс, Мунстоун Интертейнмен...   \n",
       "15                              Киностудия \"Мосфильм\"   \n",
       "16                              Киностудия \"Мосфильм\"   \n",
       "17                              Киностудия \"Мосфильм\"   \n",
       "18                              Киностудия \"Мосфильм\"   \n",
       "19                              Киностудия \"Мосфильм\"   \n",
       "\n",
       "         production_country                   director  \\\n",
       "0                       США              Кевин Костнер   \n",
       "1                      СССР                  Е.Матвеев   \n",
       "2                       США          Тимур Бекмамбетов   \n",
       "3                       США          Тимур Бекмамбетов   \n",
       "4                       США          Тимур Бекмамбетов   \n",
       "5                      СССР               В.Абдрашитов   \n",
       "6                      СССР                  В.Меньшов   \n",
       "7                       США              Джон Туртурро   \n",
       "8                   Франция               Эрик Беснард   \n",
       "9              СССР-Венгрия                    В.Титов   \n",
       "10                      США              Пол Грингросс   \n",
       "11                     СССР              М.Туманишвили   \n",
       "12                      США               Клинт Иствуд   \n",
       "13  Германия-Великобритания        Фернанду Мейрелльеш   \n",
       "14    Великобритания-Италия                Майк Фиггис   \n",
       "15                     СССР                 А.Салтыков   \n",
       "16                     СССР                  Г.Данелия   \n",
       "17                     СССР                  А.Смирнов   \n",
       "18                     СССР                  Ю.Чулюкин   \n",
       "19                     СССР  В.Краснопольский, В.Усков   \n",
       "\n",
       "                                             producer  \\\n",
       "0           Дэвид Валдес, Кевин Костнер, Джейк Эбертс   \n",
       "1                                          неизвестно   \n",
       "2   Джим Лемли, Джейсон Нетер, Марк Е.Платт, Яйн Смит   \n",
       "3   Джим Лемли, Джейсон Нетер, Марк Е.Платт, Яйн Смит   \n",
       "4   Джим Лемли, Джейсон Нетер, Марк Е.Платт, Яйн Смит   \n",
       "5                                          неизвестно   \n",
       "6                                          неизвестно   \n",
       "7                         Джон Пенотти, Джон Туртурро   \n",
       "8                                         Патрис Леду   \n",
       "9                                          неизвестно   \n",
       "10         Патрик Кроули, Фрэнк Маршалл, Пол Сэндберг   \n",
       "11                                         неизвестно   \n",
       "12  Клинт Иствуд, Том Розенберг, Альберт С.Рудди, ...   \n",
       "13                             Саймон Чэннинг Уильямс   \n",
       "14                Этчи Стро, Анни Стюарт, Майк Фиггис   \n",
       "15                                         неизвестно   \n",
       "16                                         неизвестно   \n",
       "17                                         неизвестно   \n",
       "18                                         неизвестно   \n",
       "19                                         неизвестно   \n",
       "\n",
       "                    age_restriction  refundable_support  \\\n",
       "0       «18+» - запрещено для детей                 NaN   \n",
       "1     «6+» - для детей старше 6 лет                 NaN   \n",
       "2       «18+» - запрещено для детей                 NaN   \n",
       "3       «18+» - запрещено для детей                 NaN   \n",
       "4       «18+» - запрещено для детей                 NaN   \n",
       "5     «6+» - для детей старше 6 лет                 NaN   \n",
       "6   «12+» - для детей старше 12 лет                 NaN   \n",
       "7       «18+» - запрещено для детей                 NaN   \n",
       "8       «18+» - запрещено для детей                 NaN   \n",
       "9   «12+» - для детей старше 12 лет                 NaN   \n",
       "10  «16+» - для детей старше 16 лет                 NaN   \n",
       "11  «12+» - для детей старше 12 лет                 NaN   \n",
       "12  «16+» - для детей старше 16 лет                 NaN   \n",
       "13  «16+» - для детей старше 16 лет                 NaN   \n",
       "14      «18+» - запрещено для детей                 NaN   \n",
       "15  «12+» - для детей старше 12 лет                 NaN   \n",
       "16  «12+» - для детей старше 12 лет                 NaN   \n",
       "17  «12+» - для детей старше 12 лет                 NaN   \n",
       "18    «6+» - для детей старше 6 лет                 NaN   \n",
       "19    «6+» - для детей старше 6 лет                 NaN   \n",
       "\n",
       "    nonrefundable_support  budget financing_source  ratings  \\\n",
       "0                     NaN     NaN              NaN      7.2   \n",
       "1                     NaN     NaN              NaN      6.6   \n",
       "2                     NaN     NaN              NaN      6.8   \n",
       "3                     NaN     NaN              NaN      6.8   \n",
       "4                     NaN     NaN              NaN      6.8   \n",
       "5                     NaN     NaN              NaN      7.7   \n",
       "6                     NaN     NaN              NaN      8.3   \n",
       "7                     NaN     NaN              NaN      6.6   \n",
       "8                     NaN     NaN              NaN      8.0   \n",
       "9                     NaN     NaN              NaN      7.8   \n",
       "10                    NaN     NaN              NaN      7.7   \n",
       "11                    NaN     NaN              NaN      7.8   \n",
       "12                    NaN     NaN              NaN      8.1   \n",
       "13                    NaN     NaN              NaN      7.1   \n",
       "14                    NaN     NaN              NaN      6.0   \n",
       "15                    NaN     NaN              NaN      8.3   \n",
       "16                    NaN     NaN              NaN      8.0   \n",
       "17                    NaN     NaN              NaN      7.4   \n",
       "18                    NaN     NaN              NaN      8.0   \n",
       "19                    NaN     NaN              NaN      7.7   \n",
       "\n",
       "                       genres  box_office  rental_year        director_name  \\\n",
       "0      боевик,драма,мелодрама         NaN         2015        Кевин Костнер   \n",
       "1               драма,военный         NaN         2016            Е.Матвеев   \n",
       "2   фантастика,боевик,триллер         NaN         2016    Тимур Бекмамбетов   \n",
       "3   фантастика,боевик,триллер         NaN         2016    Тимур Бекмамбетов   \n",
       "4   фантастика,боевик,триллер         NaN         2015    Тимур Бекмамбетов   \n",
       "5                       драма         NaN         2016         В.Абдрашитов   \n",
       "6           мелодрама,комедия      2700.0         2013            В.Меньшов   \n",
       "7    мюзикл,мелодрама,комедия         NaN         2014        Джон Туртурро   \n",
       "8            комедия,криминал         NaN         2016         Эрик Беснард   \n",
       "9           мелодрама,комедия         NaN         2014              В.Титов   \n",
       "10    боевик,триллер,детектив         NaN         2016        Пол Грингросс   \n",
       "11   боевик,драма,приключения         NaN         2014        М.Туманишвили   \n",
       "12                драма,спорт         NaN         2015         Клинт Иствуд   \n",
       "13    триллер,драма,мелодрама         NaN         2013  Фернанду Мейрелльеш   \n",
       "14          комедия,мелодрама         NaN         2012          Майк Фиггис   \n",
       "15                      драма         NaN         2016           А.Салтыков   \n",
       "16    драма,мелодрама,комедия         NaN         2013            Г.Данелия   \n",
       "17            драма,мелодрама         NaN         2014            А.Смирнов   \n",
       "18          мелодрама,комедия       360.0         2016            Ю.Чулюкин   \n",
       "19                      драма       420.0         2016     В.Краснопольский   \n",
       "\n",
       "    main_genre  \n",
       "0       боевик  \n",
       "1        драма  \n",
       "2   фантастика  \n",
       "3   фантастика  \n",
       "4   фантастика  \n",
       "5        драма  \n",
       "6    мелодрама  \n",
       "7       мюзикл  \n",
       "8      комедия  \n",
       "9    мелодрама  \n",
       "10      боевик  \n",
       "11      боевик  \n",
       "12       драма  \n",
       "13     триллер  \n",
       "14     комедия  \n",
       "15       драма  \n",
       "16       драма  \n",
       "17       драма  \n",
       "18   мелодрама  \n",
       "19       драма  "
      ]
     },
     "execution_count": 155,
     "metadata": {},
     "output_type": "execute_result"
    }
   ],
   "source": [
    "combined_data['director_name'] = combined_data['director'].str.split(\",\").str.get(0)\n",
    "combined_data['main_genre'] = combined_data['genres'].str.split(\",\").str.get(0)\n",
    "combined_data.head(20)"
   ]
  },
  {
   "cell_type": "markdown",
   "metadata": {},
   "source": [
    "Для получения новых столбцов использовал метод split.\n",
    "https://pandas.pydata.org/pandas-docs/stable/reference/api/pandas.Series.str.split.html"
   ]
  },
  {
   "cell_type": "markdown",
   "metadata": {
    "id": "1FsCXHwdgFyU"
   },
   "source": [
    "- Посчитайте, какую долю от общего бюджета фильма составляет государственная поддержка."
   ]
  },
  {
   "cell_type": "code",
   "execution_count": 156,
   "metadata": {
    "id": "LV6qFuZLgFyV",
    "scrolled": true
   },
   "outputs": [
    {
     "data": {
      "text/html": [
       "<div>\n",
       "<style scoped>\n",
       "    .dataframe tbody tr th:only-of-type {\n",
       "        vertical-align: middle;\n",
       "    }\n",
       "\n",
       "    .dataframe tbody tr th {\n",
       "        vertical-align: top;\n",
       "    }\n",
       "\n",
       "    .dataframe thead th {\n",
       "        text-align: right;\n",
       "    }\n",
       "</style>\n",
       "<table border=\"1\" class=\"dataframe\">\n",
       "  <thead>\n",
       "    <tr style=\"text-align: right;\">\n",
       "      <th></th>\n",
       "      <th>title</th>\n",
       "      <th>puNumber</th>\n",
       "      <th>show_start_date</th>\n",
       "      <th>type</th>\n",
       "      <th>film_studio</th>\n",
       "      <th>production_country</th>\n",
       "      <th>director</th>\n",
       "      <th>producer</th>\n",
       "      <th>age_restriction</th>\n",
       "      <th>refundable_support</th>\n",
       "      <th>nonrefundable_support</th>\n",
       "      <th>budget</th>\n",
       "      <th>financing_source</th>\n",
       "      <th>ratings</th>\n",
       "      <th>genres</th>\n",
       "      <th>box_office</th>\n",
       "      <th>rental_year</th>\n",
       "      <th>director_name</th>\n",
       "      <th>main_genre</th>\n",
       "      <th>state_support</th>\n",
       "    </tr>\n",
       "  </thead>\n",
       "  <tbody>\n",
       "    <tr>\n",
       "      <th>1281</th>\n",
       "      <td>Пока еще жива</td>\n",
       "      <td>111005313</td>\n",
       "      <td>2013-10-11 12:00:00+00:00</td>\n",
       "      <td>Художественный</td>\n",
       "      <td>АНО содействия развитию кинематографии \"Ангел-...</td>\n",
       "      <td>Россия</td>\n",
       "      <td>А.Атанесян</td>\n",
       "      <td>А.Атанесян, М.Бабаханов, Р.Бутко</td>\n",
       "      <td>«16+» - для детей старше 16 лет</td>\n",
       "      <td>0.0</td>\n",
       "      <td>26500000.0</td>\n",
       "      <td>79411900.0</td>\n",
       "      <td>Министерство культуры</td>\n",
       "      <td>8.1</td>\n",
       "      <td>драма,мелодрама</td>\n",
       "      <td>3.653536e+05</td>\n",
       "      <td>2013</td>\n",
       "      <td>А.Атанесян</td>\n",
       "      <td>драма</td>\n",
       "      <td>33.37</td>\n",
       "    </tr>\n",
       "    <tr>\n",
       "      <th>1448</th>\n",
       "      <td>Бесславные придурки</td>\n",
       "      <td>111003314</td>\n",
       "      <td>2014-03-28 12:00:00+00:00</td>\n",
       "      <td>Художественный</td>\n",
       "      <td>ООО \"Компания \"АТК-Студио\"</td>\n",
       "      <td>Россия</td>\n",
       "      <td>А.Якимчук</td>\n",
       "      <td>А.Тютрюмов</td>\n",
       "      <td>«12+» - для детей старше 12 лет</td>\n",
       "      <td>0.0</td>\n",
       "      <td>26000000.0</td>\n",
       "      <td>37142857.0</td>\n",
       "      <td>Министерство культуры</td>\n",
       "      <td>0.0</td>\n",
       "      <td>неизвестно</td>\n",
       "      <td>2.814000e+04</td>\n",
       "      <td>2014</td>\n",
       "      <td>А.Якимчук</td>\n",
       "      <td>неизвестно</td>\n",
       "      <td>70.00</td>\n",
       "    </tr>\n",
       "    <tr>\n",
       "      <th>1498</th>\n",
       "      <td>Невидимки</td>\n",
       "      <td>111004213</td>\n",
       "      <td>2013-09-10 12:00:00+00:00</td>\n",
       "      <td>Художественный</td>\n",
       "      <td>ООО \"Компания \"РЕАЛ-ДАКОТА\"</td>\n",
       "      <td>Россия</td>\n",
       "      <td>Р.Давлетьяров, С.Комаров</td>\n",
       "      <td>Р.Давлетьяров, А.Котелевский, А.Олейников</td>\n",
       "      <td>«12+» - для детей старше 12 лет</td>\n",
       "      <td>0.0</td>\n",
       "      <td>107847945.0</td>\n",
       "      <td>176023490.0</td>\n",
       "      <td>Фонд кино</td>\n",
       "      <td>5.3</td>\n",
       "      <td>комедия,фантастика</td>\n",
       "      <td>1.995703e+07</td>\n",
       "      <td>2013</td>\n",
       "      <td>Р.Давлетьяров</td>\n",
       "      <td>комедия</td>\n",
       "      <td>61.27</td>\n",
       "    </tr>\n",
       "    <tr>\n",
       "      <th>1524</th>\n",
       "      <td>БЕРЦЫ</td>\n",
       "      <td>111004314</td>\n",
       "      <td>2014-05-05 12:00:00+00:00</td>\n",
       "      <td>Художественный</td>\n",
       "      <td>ООО \"Студия \"Пассажир\"</td>\n",
       "      <td>Россия</td>\n",
       "      <td>Е.Миндадзе (псевдоним Катя Шагалова)</td>\n",
       "      <td>Л.Антонова</td>\n",
       "      <td>«16+» - для детей старше 16 лет</td>\n",
       "      <td>0.0</td>\n",
       "      <td>28000000.0</td>\n",
       "      <td>40574140.0</td>\n",
       "      <td>Министерство культуры</td>\n",
       "      <td>4.2</td>\n",
       "      <td>драма</td>\n",
       "      <td>5.591750e+04</td>\n",
       "      <td>2014</td>\n",
       "      <td>Е.Миндадзе (псевдоним Катя Шагалова)</td>\n",
       "      <td>драма</td>\n",
       "      <td>69.01</td>\n",
       "    </tr>\n",
       "    <tr>\n",
       "      <th>1792</th>\n",
       "      <td>Братья Ч</td>\n",
       "      <td>111004414</td>\n",
       "      <td>2014-04-23 12:00:00+00:00</td>\n",
       "      <td>Художественный</td>\n",
       "      <td>ООО \"Студия \"Пассажир\"</td>\n",
       "      <td>Россия</td>\n",
       "      <td>М.Угаров</td>\n",
       "      <td>А.Миндадзе, Л.Антонова</td>\n",
       "      <td>«16+» - для детей старше 16 лет</td>\n",
       "      <td>0.0</td>\n",
       "      <td>25000000.0</td>\n",
       "      <td>40015122.0</td>\n",
       "      <td>Министерство культуры</td>\n",
       "      <td>6.4</td>\n",
       "      <td>драма</td>\n",
       "      <td>2.321000e+05</td>\n",
       "      <td>2014</td>\n",
       "      <td>М.Угаров</td>\n",
       "      <td>драма</td>\n",
       "      <td>62.48</td>\n",
       "    </tr>\n",
       "    <tr>\n",
       "      <th>...</th>\n",
       "      <td>...</td>\n",
       "      <td>...</td>\n",
       "      <td>...</td>\n",
       "      <td>...</td>\n",
       "      <td>...</td>\n",
       "      <td>...</td>\n",
       "      <td>...</td>\n",
       "      <td>...</td>\n",
       "      <td>...</td>\n",
       "      <td>...</td>\n",
       "      <td>...</td>\n",
       "      <td>...</td>\n",
       "      <td>...</td>\n",
       "      <td>...</td>\n",
       "      <td>...</td>\n",
       "      <td>...</td>\n",
       "      <td>...</td>\n",
       "      <td>...</td>\n",
       "      <td>...</td>\n",
       "      <td>...</td>\n",
       "    </tr>\n",
       "    <tr>\n",
       "      <th>7464</th>\n",
       "      <td>Союз спасения</td>\n",
       "      <td>111022019</td>\n",
       "      <td>2019-12-26 12:00:00+00:00</td>\n",
       "      <td>Художественный</td>\n",
       "      <td>ЗАО \"Дирекция кино\"</td>\n",
       "      <td>Россия</td>\n",
       "      <td>А.Кравчук</td>\n",
       "      <td>А.Максимов, К.Эрнст</td>\n",
       "      <td>«12+» - для детей старше 12 лет</td>\n",
       "      <td>100000000.0</td>\n",
       "      <td>400000000.0</td>\n",
       "      <td>980000000.0</td>\n",
       "      <td>Фонд кино</td>\n",
       "      <td>6.0</td>\n",
       "      <td>история,биография,драма</td>\n",
       "      <td>7.177032e+08</td>\n",
       "      <td>2019</td>\n",
       "      <td>А.Кравчук</td>\n",
       "      <td>история</td>\n",
       "      <td>51.02</td>\n",
       "    </tr>\n",
       "    <tr>\n",
       "      <th>7466</th>\n",
       "      <td>Иван Царевич и Серый Волк 4</td>\n",
       "      <td>114005019</td>\n",
       "      <td>2019-12-20 12:00:00+00:00</td>\n",
       "      <td>Анимационный</td>\n",
       "      <td>ООО \"Студия анимационного кино \"Мельница\"</td>\n",
       "      <td>Россия</td>\n",
       "      <td>Д.Шмидт, К.Феоктистов</td>\n",
       "      <td>С.Сельянов, А.Боярский</td>\n",
       "      <td>«6+» - для детей старше 6 лет</td>\n",
       "      <td>100000000.0</td>\n",
       "      <td>0.0</td>\n",
       "      <td>190000000.0</td>\n",
       "      <td>Фонд кино</td>\n",
       "      <td>6.7</td>\n",
       "      <td>мультфильм,приключения,семейный</td>\n",
       "      <td>5.010692e+08</td>\n",
       "      <td>2019</td>\n",
       "      <td>Д.Шмидт</td>\n",
       "      <td>мультфильм</td>\n",
       "      <td>52.63</td>\n",
       "    </tr>\n",
       "    <tr>\n",
       "      <th>7474</th>\n",
       "      <td>Вторжение</td>\n",
       "      <td>111022519</td>\n",
       "      <td>2019-12-23 12:00:00+00:00</td>\n",
       "      <td>Художественный</td>\n",
       "      <td>ООО \"Арт Пикчерс Студия\", ООО \"Водород 2011\"</td>\n",
       "      <td>Россия</td>\n",
       "      <td>Ф.Бондарчук</td>\n",
       "      <td>Ф.Бондарчук, М.Врубель, А.Андрющенко, Д.Рудовский</td>\n",
       "      <td>«12+» - для детей старше 12 лет</td>\n",
       "      <td>100000000.0</td>\n",
       "      <td>400000000.0</td>\n",
       "      <td>944000000.0</td>\n",
       "      <td>Фонд кино</td>\n",
       "      <td>5.7</td>\n",
       "      <td>фантастика,боевик</td>\n",
       "      <td>NaN</td>\n",
       "      <td>2019</td>\n",
       "      <td>Ф.Бондарчук</td>\n",
       "      <td>фантастика</td>\n",
       "      <td>52.97</td>\n",
       "    </tr>\n",
       "    <tr>\n",
       "      <th>7476</th>\n",
       "      <td>Я свободен</td>\n",
       "      <td>111023019</td>\n",
       "      <td>2019-12-26 12:00:00+00:00</td>\n",
       "      <td>Художественный</td>\n",
       "      <td>АО \"ТПО \"Киностудия им. М.Горького\"</td>\n",
       "      <td>Россия</td>\n",
       "      <td>И.Северов</td>\n",
       "      <td>С.Зернов</td>\n",
       "      <td>«12+» - для детей старше 12 лет</td>\n",
       "      <td>0.0</td>\n",
       "      <td>30000000.0</td>\n",
       "      <td>46154000.0</td>\n",
       "      <td>Министерство культуры</td>\n",
       "      <td>5.9</td>\n",
       "      <td>драма</td>\n",
       "      <td>NaN</td>\n",
       "      <td>2019</td>\n",
       "      <td>И.Северов</td>\n",
       "      <td>драма</td>\n",
       "      <td>65.00</td>\n",
       "    </tr>\n",
       "    <tr>\n",
       "      <th>7478</th>\n",
       "      <td>(Не)идеальный мужчина</td>\n",
       "      <td>111023119</td>\n",
       "      <td>2019-12-24 12:00:00+00:00</td>\n",
       "      <td>Художественный</td>\n",
       "      <td>ООО \"Нон-Стоп Продакшн\"</td>\n",
       "      <td>Россия</td>\n",
       "      <td>М.Бальчюнас (псевдоним М.Вайсберг)</td>\n",
       "      <td>С.Мелькумов, А.Роднянский, М.Вайсберг, Р.Минас...</td>\n",
       "      <td>«12+» - для детей старше 12 лет</td>\n",
       "      <td>40000000.0</td>\n",
       "      <td>60000000.0</td>\n",
       "      <td>150147502.0</td>\n",
       "      <td>Фонд кино</td>\n",
       "      <td>4.5</td>\n",
       "      <td>комедия,фантастика,мелодрама</td>\n",
       "      <td>NaN</td>\n",
       "      <td>2019</td>\n",
       "      <td>М.Бальчюнас (псевдоним М.Вайсберг)</td>\n",
       "      <td>комедия</td>\n",
       "      <td>66.60</td>\n",
       "    </tr>\n",
       "  </tbody>\n",
       "</table>\n",
       "<p>332 rows × 20 columns</p>\n",
       "</div>"
      ],
      "text/plain": [
       "                            title   puNumber           show_start_date  \\\n",
       "1281                Пока еще жива  111005313 2013-10-11 12:00:00+00:00   \n",
       "1448          Бесславные придурки  111003314 2014-03-28 12:00:00+00:00   \n",
       "1498                    Невидимки  111004213 2013-09-10 12:00:00+00:00   \n",
       "1524                        БЕРЦЫ  111004314 2014-05-05 12:00:00+00:00   \n",
       "1792                     Братья Ч  111004414 2014-04-23 12:00:00+00:00   \n",
       "...                           ...        ...                       ...   \n",
       "7464                Союз спасения  111022019 2019-12-26 12:00:00+00:00   \n",
       "7466  Иван Царевич и Серый Волк 4  114005019 2019-12-20 12:00:00+00:00   \n",
       "7474                    Вторжение  111022519 2019-12-23 12:00:00+00:00   \n",
       "7476                   Я свободен  111023019 2019-12-26 12:00:00+00:00   \n",
       "7478        (Не)идеальный мужчина  111023119 2019-12-24 12:00:00+00:00   \n",
       "\n",
       "                type                                        film_studio  \\\n",
       "1281  Художественный  АНО содействия развитию кинематографии \"Ангел-...   \n",
       "1448  Художественный                         ООО \"Компания \"АТК-Студио\"   \n",
       "1498  Художественный                        ООО \"Компания \"РЕАЛ-ДАКОТА\"   \n",
       "1524  Художественный                             ООО \"Студия \"Пассажир\"   \n",
       "1792  Художественный                             ООО \"Студия \"Пассажир\"   \n",
       "...              ...                                                ...   \n",
       "7464  Художественный                                ЗАО \"Дирекция кино\"   \n",
       "7466    Анимационный          ООО \"Студия анимационного кино \"Мельница\"   \n",
       "7474  Художественный       ООО \"Арт Пикчерс Студия\", ООО \"Водород 2011\"   \n",
       "7476  Художественный                АО \"ТПО \"Киностудия им. М.Горького\"   \n",
       "7478  Художественный                            ООО \"Нон-Стоп Продакшн\"   \n",
       "\n",
       "     production_country                              director  \\\n",
       "1281             Россия                            А.Атанесян   \n",
       "1448             Россия                             А.Якимчук   \n",
       "1498             Россия              Р.Давлетьяров, С.Комаров   \n",
       "1524             Россия  Е.Миндадзе (псевдоним Катя Шагалова)   \n",
       "1792             Россия                              М.Угаров   \n",
       "...                 ...                                   ...   \n",
       "7464             Россия                             А.Кравчук   \n",
       "7466             Россия                 Д.Шмидт, К.Феоктистов   \n",
       "7474             Россия                           Ф.Бондарчук   \n",
       "7476             Россия                             И.Северов   \n",
       "7478             Россия    М.Бальчюнас (псевдоним М.Вайсберг)   \n",
       "\n",
       "                                               producer  \\\n",
       "1281                   А.Атанесян, М.Бабаханов, Р.Бутко   \n",
       "1448                                         А.Тютрюмов   \n",
       "1498          Р.Давлетьяров, А.Котелевский, А.Олейников   \n",
       "1524                                         Л.Антонова   \n",
       "1792                             А.Миндадзе, Л.Антонова   \n",
       "...                                                 ...   \n",
       "7464                                А.Максимов, К.Эрнст   \n",
       "7466                             С.Сельянов, А.Боярский   \n",
       "7474  Ф.Бондарчук, М.Врубель, А.Андрющенко, Д.Рудовский   \n",
       "7476                                           С.Зернов   \n",
       "7478  С.Мелькумов, А.Роднянский, М.Вайсберг, Р.Минас...   \n",
       "\n",
       "                      age_restriction  refundable_support  \\\n",
       "1281  «16+» - для детей старше 16 лет                 0.0   \n",
       "1448  «12+» - для детей старше 12 лет                 0.0   \n",
       "1498  «12+» - для детей старше 12 лет                 0.0   \n",
       "1524  «16+» - для детей старше 16 лет                 0.0   \n",
       "1792  «16+» - для детей старше 16 лет                 0.0   \n",
       "...                               ...                 ...   \n",
       "7464  «12+» - для детей старше 12 лет         100000000.0   \n",
       "7466    «6+» - для детей старше 6 лет         100000000.0   \n",
       "7474  «12+» - для детей старше 12 лет         100000000.0   \n",
       "7476  «12+» - для детей старше 12 лет                 0.0   \n",
       "7478  «12+» - для детей старше 12 лет          40000000.0   \n",
       "\n",
       "      nonrefundable_support       budget       financing_source  ratings  \\\n",
       "1281             26500000.0   79411900.0  Министерство культуры      8.1   \n",
       "1448             26000000.0   37142857.0  Министерство культуры      0.0   \n",
       "1498            107847945.0  176023490.0              Фонд кино      5.3   \n",
       "1524             28000000.0   40574140.0  Министерство культуры      4.2   \n",
       "1792             25000000.0   40015122.0  Министерство культуры      6.4   \n",
       "...                     ...          ...                    ...      ...   \n",
       "7464            400000000.0  980000000.0              Фонд кино      6.0   \n",
       "7466                    0.0  190000000.0              Фонд кино      6.7   \n",
       "7474            400000000.0  944000000.0              Фонд кино      5.7   \n",
       "7476             30000000.0   46154000.0  Министерство культуры      5.9   \n",
       "7478             60000000.0  150147502.0              Фонд кино      4.5   \n",
       "\n",
       "                               genres    box_office  rental_year  \\\n",
       "1281                  драма,мелодрама  3.653536e+05         2013   \n",
       "1448                       неизвестно  2.814000e+04         2014   \n",
       "1498               комедия,фантастика  1.995703e+07         2013   \n",
       "1524                            драма  5.591750e+04         2014   \n",
       "1792                            драма  2.321000e+05         2014   \n",
       "...                               ...           ...          ...   \n",
       "7464          история,биография,драма  7.177032e+08         2019   \n",
       "7466  мультфильм,приключения,семейный  5.010692e+08         2019   \n",
       "7474                фантастика,боевик           NaN         2019   \n",
       "7476                            драма           NaN         2019   \n",
       "7478     комедия,фантастика,мелодрама           NaN         2019   \n",
       "\n",
       "                             director_name  main_genre  state_support  \n",
       "1281                            А.Атанесян       драма          33.37  \n",
       "1448                             А.Якимчук  неизвестно          70.00  \n",
       "1498                         Р.Давлетьяров     комедия          61.27  \n",
       "1524  Е.Миндадзе (псевдоним Катя Шагалова)       драма          69.01  \n",
       "1792                              М.Угаров       драма          62.48  \n",
       "...                                    ...         ...            ...  \n",
       "7464                             А.Кравчук     история          51.02  \n",
       "7466                               Д.Шмидт  мультфильм          52.63  \n",
       "7474                           Ф.Бондарчук  фантастика          52.97  \n",
       "7476                             И.Северов       драма          65.00  \n",
       "7478    М.Бальчюнас (псевдоним М.Вайсберг)     комедия          66.60  \n",
       "\n",
       "[332 rows x 20 columns]"
      ]
     },
     "execution_count": 156,
     "metadata": {},
     "output_type": "execute_result"
    }
   ],
   "source": [
    "combined_data['state_support'] = ((combined_data['refundable_support'] + combined_data['nonrefundable_support'])/combined_data['budget']*100).round(2)\n",
    "combined_data.loc[combined_data['state_support']>0]"
   ]
  },
  {
   "cell_type": "markdown",
   "metadata": {},
   "source": [
    "<div class=\"alert alert-success\">\n",
    "<h2> Комментарий ревьюера v1 <a class=\"tocSkip\"> </h2>\n",
    "\n",
    "<b>Все супер!👍:</b> Столбцы добавлены верно!"
   ]
  },
  {
   "cell_type": "markdown",
   "metadata": {
    "id": "6t4EukPLgFyV"
   },
   "source": [
    "### Шаг 3. Проведите исследовательский анализ данных\n"
   ]
  },
  {
   "cell_type": "markdown",
   "metadata": {
    "id": "vAH8WCzugFyV"
   },
   "source": [
    "- Посмотрите, сколько фильмов выходило в прокат каждый год. Обратите внимание, что данные о прокате в кинотеатрах известны не для всех фильмов. Посчитайте, какую долю составляют фильмы с указанной информацией о прокате в кинотеатрах."
   ]
  },
  {
   "cell_type": "code",
   "execution_count": 157,
   "metadata": {},
   "outputs": [],
   "source": [
    "combined_data = combined_data.rename(columns = {'puNumber':'pu_number'})"
   ]
  },
  {
   "cell_type": "code",
   "execution_count": 158,
   "metadata": {
    "id": "ABeV47y7gFyW"
   },
   "outputs": [
    {
     "data": {
      "text/plain": [
       "<AxesSubplot:title={'center':'Количество фильмов в год'}, xlabel='Год', ylabel='Количество фильмов'>"
      ]
     },
     "execution_count": 158,
     "metadata": {},
     "output_type": "execute_result"
    },
    {
     "data": {
      "image/png": "[encoded data removed]",
      "text/plain": [
       "<Figure size 1440x576 with 1 Axes>"
      ]
     },
     "metadata": {
      "needs_background": "light"
     },
     "output_type": "display_data"
    }
   ],
   "source": [
    "combined_data.groupby('rental_year')['show_start_date'].count() \\\n",
    ".plot(title = 'Количество фильмов в год', figsize = (20, 8), grid = True, ylabel = 'Количество фильмов', xlabel = 'Год')"
   ]
  },
  {
   "cell_type": "code",
   "execution_count": 159,
   "metadata": {},
   "outputs": [
    {
     "data": {
      "text/html": [
       "<style  type=\"text/css\" >\n",
       "#T_9b576_row0_col0,#T_9b576_row7_col1{\n",
       "            background-color:  #b40426;\n",
       "            color:  #f1f1f1;\n",
       "        }#T_9b576_row0_col1,#T_9b576_row7_col0{\n",
       "            background-color:  #3b4cc0;\n",
       "            color:  #f1f1f1;\n",
       "        }#T_9b576_row1_col0{\n",
       "            background-color:  #8badfd;\n",
       "            color:  #000000;\n",
       "        }#T_9b576_row1_col1{\n",
       "            background-color:  #5e7de7;\n",
       "            color:  #000000;\n",
       "        }#T_9b576_row2_col0{\n",
       "            background-color:  #7699f6;\n",
       "            color:  #000000;\n",
       "        }#T_9b576_row2_col1{\n",
       "            background-color:  #7396f5;\n",
       "            color:  #000000;\n",
       "        }#T_9b576_row3_col0{\n",
       "            background-color:  #92b4fe;\n",
       "            color:  #000000;\n",
       "        }#T_9b576_row3_col1{\n",
       "            background-color:  #a2c1ff;\n",
       "            color:  #000000;\n",
       "        }#T_9b576_row4_col0{\n",
       "            background-color:  #f5c1a9;\n",
       "            color:  #000000;\n",
       "        }#T_9b576_row4_col1{\n",
       "            background-color:  #bfd3f6;\n",
       "            color:  #000000;\n",
       "        }#T_9b576_row5_col0{\n",
       "            background-color:  #c7d7f0;\n",
       "            color:  #000000;\n",
       "        }#T_9b576_row5_col1{\n",
       "            background-color:  #d0473d;\n",
       "            color:  #f1f1f1;\n",
       "        }#T_9b576_row6_col0{\n",
       "            background-color:  #f7ba9f;\n",
       "            color:  #000000;\n",
       "        }#T_9b576_row6_col1{\n",
       "            background-color:  #d85646;\n",
       "            color:  #000000;\n",
       "        }#T_9b576_row8_col0{\n",
       "            background-color:  #ef886b;\n",
       "            color:  #000000;\n",
       "        }#T_9b576_row8_col1{\n",
       "            background-color:  #f6a586;\n",
       "            color:  #000000;\n",
       "        }#T_9b576_row9_col0{\n",
       "            background-color:  #d95847;\n",
       "            color:  #000000;\n",
       "        }#T_9b576_row9_col1{\n",
       "            background-color:  #f18f71;\n",
       "            color:  #000000;\n",
       "        }</style><table id=\"T_9b576_\" ><thead>    <tr>        <th class=\"blank level0\" ></th>        <th class=\"col_heading level0 col0\" >Количество фильмов</th>        <th class=\"col_heading level0 col1\" >% фильмов в прокате</th>    </tr>    <tr>        <th class=\"index_name level0\" >rental_year</th>        <th class=\"blank\" ></th>        <th class=\"blank\" ></th>    </tr></thead><tbody>\n",
       "                <tr>\n",
       "                        <th id=\"T_9b576_level0_row0\" class=\"row_heading level0 row0\" >2010</th>\n",
       "                        <td id=\"T_9b576_row0_col0\" class=\"data row0 col0\" >978.00</td>\n",
       "                        <td id=\"T_9b576_row0_col1\" class=\"data row0 col1\" >10.74</td>\n",
       "            </tr>\n",
       "            <tr>\n",
       "                        <th id=\"T_9b576_level0_row1\" class=\"row_heading level0 row1\" >2011</th>\n",
       "                        <td id=\"T_9b576_row1_col0\" class=\"data row1 col0\" >620.00</td>\n",
       "                        <td id=\"T_9b576_row1_col1\" class=\"data row1 col1\" >17.58</td>\n",
       "            </tr>\n",
       "            <tr>\n",
       "                        <th id=\"T_9b576_level0_row2\" class=\"row_heading level0 row2\" >2012</th>\n",
       "                        <td id=\"T_9b576_row2_col0\" class=\"data row2 col0\" >592.00</td>\n",
       "                        <td id=\"T_9b576_row2_col1\" class=\"data row2 col1\" >21.45</td>\n",
       "            </tr>\n",
       "            <tr>\n",
       "                        <th id=\"T_9b576_level0_row3\" class=\"row_heading level0 row3\" >2013</th>\n",
       "                        <td id=\"T_9b576_row3_col0\" class=\"data row3 col0\" >629.00</td>\n",
       "                        <td id=\"T_9b576_row3_col1\" class=\"data row3 col1\" >29.25</td>\n",
       "            </tr>\n",
       "            <tr>\n",
       "                        <th id=\"T_9b576_level0_row4\" class=\"row_heading level0 row4\" >2014</th>\n",
       "                        <td id=\"T_9b576_row4_col0\" class=\"data row4 col0\" >806.00</td>\n",
       "                        <td id=\"T_9b576_row4_col1\" class=\"data row4 col1\" >34.62</td>\n",
       "            </tr>\n",
       "            <tr>\n",
       "                        <th id=\"T_9b576_level0_row5\" class=\"row_heading level0 row5\" >2015</th>\n",
       "                        <td id=\"T_9b576_row5_col0\" class=\"data row5 col0\" >705.00</td>\n",
       "                        <td id=\"T_9b576_row5_col1\" class=\"data row5 col1\" >65.96</td>\n",
       "            </tr>\n",
       "            <tr>\n",
       "                        <th id=\"T_9b576_level0_row6\" class=\"row_heading level0 row6\" >2016</th>\n",
       "                        <td id=\"T_9b576_row6_col0\" class=\"data row6 col0\" >817.00</td>\n",
       "                        <td id=\"T_9b576_row6_col1\" class=\"data row6 col1\" >64.26</td>\n",
       "            </tr>\n",
       "            <tr>\n",
       "                        <th id=\"T_9b576_level0_row7\" class=\"row_heading level0 row7\" >2017</th>\n",
       "                        <td id=\"T_9b576_row7_col0\" class=\"data row7 col0\" >505.00</td>\n",
       "                        <td id=\"T_9b576_row7_col1\" class=\"data row7 col1\" >70.69</td>\n",
       "            </tr>\n",
       "            <tr>\n",
       "                        <th id=\"T_9b576_level0_row8\" class=\"row_heading level0 row8\" >2018</th>\n",
       "                        <td id=\"T_9b576_row8_col0\" class=\"data row8 col0\" >879.00</td>\n",
       "                        <td id=\"T_9b576_row8_col1\" class=\"data row8 col1\" >53.92</td>\n",
       "            </tr>\n",
       "            <tr>\n",
       "                        <th id=\"T_9b576_level0_row9\" class=\"row_heading level0 row9\" >2019</th>\n",
       "                        <td id=\"T_9b576_row9_col0\" class=\"data row9 col0\" >926.00</td>\n",
       "                        <td id=\"T_9b576_row9_col1\" class=\"data row9 col1\" >57.24</td>\n",
       "            </tr>\n",
       "    </tbody></table>"
      ],
      "text/plain": [
       "<pandas.io.formats.style.Styler at 0x7f16ac627e20>"
      ]
     },
     "metadata": {},
     "output_type": "display_data"
    }
   ],
   "source": [
    "film_inyear = combined_data.groupby('rental_year')['show_start_date'].count()\n",
    "rent_film_inyear_perc = round((combined_data.groupby('rental_year')['box_office'].count()/combined_data.groupby('rental_year')['show_start_date'].count())*100,2)\n",
    "display(pd.DataFrame({'Количество фильмов':film_inyear,'% фильмов в прокате':rent_film_inyear_perc}).style.format('{:.2f}').background_gradient('coolwarm'))"
   ]
  },
  {
   "cell_type": "markdown",
   "metadata": {},
   "source": [
    "Для того чтобы посчитать количество фильмов по годам используем метод группировки плюс метод count(). А вот для получения процента фильмов в прокате проведем те же дейтсвия только посчитаем количество фильмов по которым были прокатные сборы, а затем разделим полученное количество на количество вышедших фильмов в год.\n",
    "В результат видим что начиная с 2015 года количество филмов в прокате не опускалось менее 54% от выпущенных фильмов за этот год. При этом наибольший процент фильмов в прокате был в 2017 целых 70.69%, а наименьший в 2010 - 10.71%"
   ]
  },
  {
   "cell_type": "code",
   "execution_count": 160,
   "metadata": {},
   "outputs": [
    {
     "data": {
      "text/plain": [
       "42.31"
      ]
     },
     "execution_count": 160,
     "metadata": {},
     "output_type": "execute_result"
    }
   ],
   "source": [
    "round((combined_data['box_office'].count()/combined_data['show_start_date'].count())*100,2)"
   ]
  },
  {
   "cell_type": "markdown",
   "metadata": {},
   "source": [
    "<div class=\"alert alert-block alert-danger\">\n",
    "<h2> Комментарий ревьюера v1 <a class=\"tocSkip\"></h2>\n",
    "\n",
    "<b>На доработку🤔:</b>  Подпишем оси у графика? И Выведем общую долю фильмов с информацией о прокате?) "
   ]
  },
  {
   "cell_type": "markdown",
   "metadata": {},
   "source": [
    "<div class=\"alert alert-info\">\n",
    "<b>Женя, привет! Добавил подписи осей в график. А так же вывел общую долю фильмов с информацией о прокате, она составила 42.3%</b> \n",
    "</div>"
   ]
  },
  {
   "cell_type": "markdown",
   "metadata": {},
   "source": [
    "<div class=\"alert alert-success\">\n",
    "<h2> Комментарий ревьюера v2 <a class=\"tocSkip\"> </h2>\n",
    "\n",
    "<b>Все супер!👍:</b> Топ!"
   ]
  },
  {
   "cell_type": "markdown",
   "metadata": {
    "id": "BEOdcIrIgFyW"
   },
   "source": [
    "- Изучите, как менялась динамика проката по годам. В каком году сумма сборов была минимальной? А максимальной?"
   ]
  },
  {
   "cell_type": "code",
   "execution_count": 161,
   "metadata": {
    "id": "tfEhofYvgFyX"
   },
   "outputs": [
    {
     "data": {
      "text/html": [
       "<style  type=\"text/css\" >\n",
       "#T_6f6d4_row0_col0,#T_6f6d4_row1_col0,#T_6f6d4_row2_col0,#T_6f6d4_row3_col0{\n",
       "            background-color:  #3b4cc0;\n",
       "            color:  #f1f1f1;\n",
       "        }#T_6f6d4_row4_col0{\n",
       "            background-color:  #6a8bef;\n",
       "            color:  #000000;\n",
       "        }#T_6f6d4_row5_col0{\n",
       "            background-color:  #ee8669;\n",
       "            color:  #000000;\n",
       "        }#T_6f6d4_row6_col0{\n",
       "            background-color:  #c12b30;\n",
       "            color:  #f1f1f1;\n",
       "        }#T_6f6d4_row7_col0{\n",
       "            background-color:  #bb1b2c;\n",
       "            color:  #f1f1f1;\n",
       "        }#T_6f6d4_row8_col0{\n",
       "            background-color:  #b40426;\n",
       "            color:  #f1f1f1;\n",
       "        }#T_6f6d4_row9_col0{\n",
       "            background-color:  #bd1f2d;\n",
       "            color:  #f1f1f1;\n",
       "        }</style><table id=\"T_6f6d4_\" ><thead>    <tr>        <th class=\"blank level0\" ></th>        <th class=\"col_heading level0 col0\" >Сумма зборов</th>    </tr>    <tr>        <th class=\"index_name level0\" >rental_year</th>        <th class=\"blank\" ></th>    </tr></thead><tbody>\n",
       "                <tr>\n",
       "                        <th id=\"T_6f6d4_level0_row0\" class=\"row_heading level0 row0\" >2010</th>\n",
       "                        <td id=\"T_6f6d4_row0_col0\" class=\"data row0 col0\" >2428654</td>\n",
       "            </tr>\n",
       "            <tr>\n",
       "                        <th id=\"T_6f6d4_level0_row1\" class=\"row_heading level0 row1\" >2011</th>\n",
       "                        <td id=\"T_6f6d4_row1_col0\" class=\"data row1 col0\" >14102765</td>\n",
       "            </tr>\n",
       "            <tr>\n",
       "                        <th id=\"T_6f6d4_level0_row2\" class=\"row_heading level0 row2\" >2012</th>\n",
       "                        <td id=\"T_6f6d4_row2_col0\" class=\"data row2 col0\" >6911073</td>\n",
       "            </tr>\n",
       "            <tr>\n",
       "                        <th id=\"T_6f6d4_level0_row3\" class=\"row_heading level0 row3\" >2013</th>\n",
       "                        <td id=\"T_6f6d4_row3_col0\" class=\"data row3 col0\" >29799706</td>\n",
       "            </tr>\n",
       "            <tr>\n",
       "                        <th id=\"T_6f6d4_level0_row4\" class=\"row_heading level0 row4\" >2014</th>\n",
       "                        <td id=\"T_6f6d4_row4_col0\" class=\"data row4 col0\" >7444951859</td>\n",
       "            </tr>\n",
       "            <tr>\n",
       "                        <th id=\"T_6f6d4_level0_row5\" class=\"row_heading level0 row5\" >2015</th>\n",
       "                        <td id=\"T_6f6d4_row5_col0\" class=\"data row5 col0\" >39497365196</td>\n",
       "            </tr>\n",
       "            <tr>\n",
       "                        <th id=\"T_6f6d4_level0_row6\" class=\"row_heading level0 row6\" >2016</th>\n",
       "                        <td id=\"T_6f6d4_row6_col0\" class=\"data row6 col0\" >47866105215</td>\n",
       "            </tr>\n",
       "            <tr>\n",
       "                        <th id=\"T_6f6d4_level0_row7\" class=\"row_heading level0 row7\" >2017</th>\n",
       "                        <td id=\"T_6f6d4_row7_col0\" class=\"data row7 col0\" >48563707218</td>\n",
       "            </tr>\n",
       "            <tr>\n",
       "                        <th id=\"T_6f6d4_level0_row8\" class=\"row_heading level0 row8\" >2018</th>\n",
       "                        <td id=\"T_6f6d4_row8_col0\" class=\"data row8 col0\" >49668361909</td>\n",
       "            </tr>\n",
       "            <tr>\n",
       "                        <th id=\"T_6f6d4_level0_row9\" class=\"row_heading level0 row9\" >2019</th>\n",
       "                        <td id=\"T_6f6d4_row9_col0\" class=\"data row9 col0\" >48425708780</td>\n",
       "            </tr>\n",
       "    </tbody></table>"
      ],
      "text/plain": [
       "<pandas.io.formats.style.Styler at 0x7f16a7922520>"
      ]
     },
     "metadata": {},
     "output_type": "display_data"
    }
   ],
   "source": [
    "box_office_sum = combined_data.groupby('rental_year')['box_office'].sum()\n",
    "display(pd.DataFrame({'Сумма зборов':box_office_sum}).style.format('{:.0f}').background_gradient('coolwarm'))"
   ]
  },
  {
   "cell_type": "code",
   "execution_count": 162,
   "metadata": {},
   "outputs": [
    {
     "data": {
      "image/png": "[encoded data removed]",
      "text/plain": [
       "<Figure size 1440x576 with 1 Axes>"
      ]
     },
     "metadata": {
      "needs_background": "light"
     },
     "output_type": "display_data"
    }
   ],
   "source": [
    "box_office_sum = combined_data.groupby('rental_year')['box_office'].sum() \\\n",
    ".plot(title = 'Количество фильмов в год', figsize = (20, 8), grid = True, ylabel = 'Количество фильмов', xlabel = 'Год')"
   ]
  },
  {
   "cell_type": "markdown",
   "metadata": {},
   "source": [
    "Аналогичным образом через грeппировку данных и сумму по полю сборов получаем таблицу с данными. Согласно которой минимальная сумма собров была в 2010 году, а максимальная в 2018."
   ]
  },
  {
   "cell_type": "markdown",
   "metadata": {},
   "source": [
    "<div class=\"alert alert-warning\">\n",
    "    <h2> Комментарий ревьюера v1 <a class=\"tocSkip\"> </h2>\n",
    "    \n",
    "<b>Небольшие замечания и рекомендации💡:</b> Согласен, только также доработаем график) "
   ]
  },
  {
   "cell_type": "markdown",
   "metadata": {
    "id": "G-7qS-N-gFyY"
   },
   "source": [
    "- С помощью сводной таблицы посчитайте среднюю и медианную сумму сборов для каждого года."
   ]
  },
  {
   "cell_type": "code",
   "execution_count": 163,
   "metadata": {
    "id": "jmp-rgg9gFyY"
   },
   "outputs": [
    {
     "data": {
      "text/html": [
       "<style  type=\"text/css\" >\n",
       "#T_fc6dd_row0_col0,#T_fc6dd_row0_col1,#T_fc6dd_row1_col0,#T_fc6dd_row1_col1,#T_fc6dd_row2_col0,#T_fc6dd_row2_col1,#T_fc6dd_row3_col0,#T_fc6dd_row3_col1,#T_fc6dd_row4_col1{\n",
       "            background-color:  #3b4cc0;\n",
       "            color:  #f1f1f1;\n",
       "        }#T_fc6dd_row4_col0{\n",
       "            background-color:  #7a9df8;\n",
       "            color:  #000000;\n",
       "        }#T_fc6dd_row5_col0{\n",
       "            background-color:  #f4c5ad;\n",
       "            color:  #000000;\n",
       "        }#T_fc6dd_row5_col1{\n",
       "            background-color:  #dbdcde;\n",
       "            color:  #000000;\n",
       "        }#T_fc6dd_row6_col0,#T_fc6dd_row9_col0{\n",
       "            background-color:  #f7b79b;\n",
       "            color:  #000000;\n",
       "        }#T_fc6dd_row6_col1{\n",
       "            background-color:  #bed2f6;\n",
       "            color:  #000000;\n",
       "        }#T_fc6dd_row7_col0,#T_fc6dd_row7_col1{\n",
       "            background-color:  #b40426;\n",
       "            color:  #f1f1f1;\n",
       "        }#T_fc6dd_row8_col0{\n",
       "            background-color:  #f29072;\n",
       "            color:  #000000;\n",
       "        }#T_fc6dd_row8_col1{\n",
       "            background-color:  #d85646;\n",
       "            color:  #000000;\n",
       "        }#T_fc6dd_row9_col1{\n",
       "            background-color:  #d3dbe7;\n",
       "            color:  #000000;\n",
       "        }</style><table id=\"T_fc6dd_\" ><thead>    <tr>        <th class=\"blank level0\" ></th>        <th class=\"col_heading level0 col0\" >mean</th>        <th class=\"col_heading level0 col1\" >median</th>    </tr>    <tr>        <th class=\"index_name level0\" >rental_year</th>        <th class=\"blank\" ></th>        <th class=\"blank\" ></th>    </tr></thead><tbody>\n",
       "                <tr>\n",
       "                        <th id=\"T_fc6dd_level0_row0\" class=\"row_heading level0 row0\" >2010</th>\n",
       "                        <td id=\"T_fc6dd_row0_col0\" class=\"data row0 col0\" >23130</td>\n",
       "                        <td id=\"T_fc6dd_row0_col1\" class=\"data row0 col1\" >1700</td>\n",
       "            </tr>\n",
       "            <tr>\n",
       "                        <th id=\"T_fc6dd_level0_row1\" class=\"row_heading level0 row1\" >2011</th>\n",
       "                        <td id=\"T_fc6dd_row1_col0\" class=\"data row1 col0\" >129383</td>\n",
       "                        <td id=\"T_fc6dd_row1_col1\" class=\"data row1 col1\" >3000</td>\n",
       "            </tr>\n",
       "            <tr>\n",
       "                        <th id=\"T_fc6dd_level0_row2\" class=\"row_heading level0 row2\" >2012</th>\n",
       "                        <td id=\"T_fc6dd_row2_col0\" class=\"data row2 col0\" >54418</td>\n",
       "                        <td id=\"T_fc6dd_row2_col1\" class=\"data row2 col1\" >5560</td>\n",
       "            </tr>\n",
       "            <tr>\n",
       "                        <th id=\"T_fc6dd_level0_row3\" class=\"row_heading level0 row3\" >2013</th>\n",
       "                        <td id=\"T_fc6dd_row3_col0\" class=\"data row3 col0\" >161955</td>\n",
       "                        <td id=\"T_fc6dd_row3_col1\" class=\"data row3 col1\" >3522</td>\n",
       "            </tr>\n",
       "            <tr>\n",
       "                        <th id=\"T_fc6dd_level0_row4\" class=\"row_heading level0 row4\" >2014</th>\n",
       "                        <td id=\"T_fc6dd_row4_col0\" class=\"data row4 col0\" >26684415</td>\n",
       "                        <td id=\"T_fc6dd_row4_col1\" class=\"data row4 col1\" >18160</td>\n",
       "            </tr>\n",
       "            <tr>\n",
       "                        <th id=\"T_fc6dd_level0_row5\" class=\"row_heading level0 row5\" >2015</th>\n",
       "                        <td id=\"T_fc6dd_row5_col0\" class=\"data row5 col0\" >84940570</td>\n",
       "                        <td id=\"T_fc6dd_row5_col1\" class=\"data row5 col1\" >4920933</td>\n",
       "            </tr>\n",
       "            <tr>\n",
       "                        <th id=\"T_fc6dd_level0_row6\" class=\"row_heading level0 row6\" >2016</th>\n",
       "                        <td id=\"T_fc6dd_row6_col0\" class=\"data row6 col0\" >91173534</td>\n",
       "                        <td id=\"T_fc6dd_row6_col1\" class=\"data row6 col1\" >3915041</td>\n",
       "            </tr>\n",
       "            <tr>\n",
       "                        <th id=\"T_fc6dd_level0_row7\" class=\"row_heading level0 row7\" >2017</th>\n",
       "                        <td id=\"T_fc6dd_row7_col0\" class=\"data row7 col0\" >136032793</td>\n",
       "                        <td id=\"T_fc6dd_row7_col1\" class=\"data row7 col1\" >9968340</td>\n",
       "            </tr>\n",
       "            <tr>\n",
       "                        <th id=\"T_fc6dd_level0_row8\" class=\"row_heading level0 row8\" >2018</th>\n",
       "                        <td id=\"T_fc6dd_row8_col0\" class=\"data row8 col0\" >104785574</td>\n",
       "                        <td id=\"T_fc6dd_row8_col1\" class=\"data row8 col1\" >8911534</td>\n",
       "            </tr>\n",
       "            <tr>\n",
       "                        <th id=\"T_fc6dd_level0_row9\" class=\"row_heading level0 row9\" >2019</th>\n",
       "                        <td id=\"T_fc6dd_row9_col0\" class=\"data row9 col0\" >91369262</td>\n",
       "                        <td id=\"T_fc6dd_row9_col1\" class=\"data row9 col1\" >4627798</td>\n",
       "            </tr>\n",
       "    </tbody></table>"
      ],
      "text/plain": [
       "<pandas.io.formats.style.Styler at 0x7f16ac558220>"
      ]
     },
     "metadata": {},
     "output_type": "display_data"
    }
   ],
   "source": [
    "mean_median = combined_data.pivot_table(index = 'rental_year', values = 'box_office', aggfunc = ['mean', 'median']).round()\n",
    "mean_median.columns = ['mean', 'median']\n",
    "display(pd.DataFrame(mean_median).style.format('{:.0f}').background_gradient('coolwarm'))"
   ]
  },
  {
   "cell_type": "markdown",
   "metadata": {},
   "source": [
    "<div class=\"alert alert-block alert-danger\">\n",
    "<h2> Комментарий ревьюера v1 <a class=\"tocSkip\"></h2>\n",
    "\n",
    "<b>На доработку🤔:</b> Сделаем вывод?)\n",
    "    "
   ]
  },
  {
   "cell_type": "markdown",
   "metadata": {},
   "source": [
    "<div class=\"alert alert-info\">\n",
    "<b>Медиана у нас в несколько раз меньше среднего значения, что говорит о наличие больших значений в показетеле, которые в итоге и влияют на среднее.</b> \n",
    "</div>\n"
   ]
  },
  {
   "cell_type": "markdown",
   "metadata": {},
   "source": [
    "<div class=\"alert alert-success\">\n",
    "<h2> Комментарий ревьюера v2 <a class=\"tocSkip\"> </h2>\n",
    "\n",
    "<b>Все супер!👍:</b> довольно кратко) "
   ]
  },
  {
   "cell_type": "markdown",
   "metadata": {
    "id": "Ok89WFwJgFyZ"
   },
   "source": [
    "- Определите, влияет ли возрастное ограничение аудитории («6+», «12+», «16+», «18+» и т. д.) на сборы фильма в прокате в период с 2015 по 2019 год? Фильмы с каким возрастным ограничением собрали больше всего денег в прокате? Меняется ли картина в зависимости от года? Если да, предположите, с чем это может быть связано."
   ]
  },
  {
   "cell_type": "code",
   "execution_count": 164,
   "metadata": {
    "id": "jsSbEqfjgFya"
   },
   "outputs": [
    {
     "data": {
      "text/html": [
       "<style  type=\"text/css\" >\n",
       "#T_2a62c_row0_col0{\n",
       "            background-color:  #3b4cc0;\n",
       "            color:  #f1f1f1;\n",
       "        }#T_2a62c_row1_col0{\n",
       "            background-color:  #ee8669;\n",
       "            color:  #000000;\n",
       "        }#T_2a62c_row2_col0{\n",
       "            background-color:  #b40426;\n",
       "            color:  #f1f1f1;\n",
       "        }#T_2a62c_row3_col0{\n",
       "            background-color:  #e4d9d2;\n",
       "            color:  #000000;\n",
       "        }#T_2a62c_row4_col0{\n",
       "            background-color:  #f5a081;\n",
       "            color:  #000000;\n",
       "        }</style><table id=\"T_2a62c_\" ><thead>    <tr>        <th class=\"blank level0\" ></th>        <th class=\"col_heading level0 col0\" >Сумма зборов</th>    </tr>    <tr>        <th class=\"index_name level0\" >age_restriction</th>        <th class=\"blank\" ></th>    </tr></thead><tbody>\n",
       "                <tr>\n",
       "                        <th id=\"T_2a62c_level0_row0\" class=\"row_heading level0 row0\" >«0+» - для любой зрительской аудитории</th>\n",
       "                        <td id=\"T_2a62c_row0_col0\" class=\"data row0 col0\" >808882899</td>\n",
       "            </tr>\n",
       "            <tr>\n",
       "                        <th id=\"T_2a62c_level0_row1\" class=\"row_heading level0 row1\" >«12+» - для детей старше 12 лет</th>\n",
       "                        <td id=\"T_2a62c_row1_col0\" class=\"data row1 col0\" >60619405403</td>\n",
       "            </tr>\n",
       "            <tr>\n",
       "                        <th id=\"T_2a62c_level0_row2\" class=\"row_heading level0 row2\" >«16+» - для детей старше 16 лет</th>\n",
       "                        <td id=\"T_2a62c_row2_col0\" class=\"data row2 col0\" >76034733644</td>\n",
       "            </tr>\n",
       "            <tr>\n",
       "                        <th id=\"T_2a62c_level0_row3\" class=\"row_heading level0 row3\" >«18+» - запрещено для детей</th>\n",
       "                        <td id=\"T_2a62c_row3_col0\" class=\"data row3 col0\" >40759615572</td>\n",
       "            </tr>\n",
       "            <tr>\n",
       "                        <th id=\"T_2a62c_level0_row4\" class=\"row_heading level0 row4\" >«6+» - для детей старше 6 лет</th>\n",
       "                        <td id=\"T_2a62c_row4_col0\" class=\"data row4 col0\" >55798610800</td>\n",
       "            </tr>\n",
       "    </tbody></table>"
      ],
      "text/plain": [
       "<pandas.io.formats.style.Styler at 0x7f16a7922490>"
      ]
     },
     "metadata": {},
     "output_type": "display_data"
    }
   ],
   "source": [
    "from_15_to_19 = combined_data.loc[combined_data['rental_year'] > 2014]\n",
    "age_rest_box = from_15_to_19.groupby('age_restriction')['box_office'].sum()\n",
    "display(pd.DataFrame({'Сумма зборов':age_rest_box}).style.format('{:.0f}').background_gradient('coolwarm'))"
   ]
  },
  {
   "cell_type": "code",
   "execution_count": 165,
   "metadata": {},
   "outputs": [
    {
     "data": {
      "text/plain": [
       "<AxesSubplot:title={'center':'Сумма сбров возрастным ограничениям'}, xlabel='age_restriction'>"
      ]
     },
     "execution_count": 165,
     "metadata": {},
     "output_type": "execute_result"
    },
    {
     "data": {
      "image/png": "[encoded data removed]",
      "text/plain": [
       "<Figure size 1440x576 with 1 Axes>"
      ]
     },
     "metadata": {
      "needs_background": "light"
     },
     "output_type": "display_data"
    }
   ],
   "source": [
    "age_rest_box.plot(title = 'Сумма сбров возрастным ограничениям', figsize = (20, 8), grid = True)"
   ]
  },
  {
   "cell_type": "markdown",
   "metadata": {},
   "source": [
    "Что касается зависимости суммы сбров от возрастной категории четкой зависимости не наблюдается. Имеется постепенный рост суммы сбров с категории 0+ до 16+, но в категории 18+ идет снижение суммы. Больше всего за период с 2015 по 2019 годы собрали фильмы в категории 16+. Меньще всего за тот же временной период в категории 0+."
   ]
  },
  {
   "cell_type": "code",
   "execution_count": 166,
   "metadata": {},
   "outputs": [
    {
     "data": {
      "text/html": [
       "<style  type=\"text/css\" >\n",
       "#T_e77a1_row0_col0,#T_e77a1_row0_col1,#T_e77a1_row0_col2,#T_e77a1_row0_col3,#T_e77a1_row0_col4,#T_e77a1_row0_col5,#T_e77a1_row0_col6,#T_e77a1_row0_col7,#T_e77a1_row0_col8,#T_e77a1_row0_col9{\n",
       "            background-color:  #3b4cc0;\n",
       "            color:  #f1f1f1;\n",
       "        }#T_e77a1_row1_col0,#T_e77a1_row1_col2{\n",
       "            background-color:  #92b4fe;\n",
       "            color:  #000000;\n",
       "        }#T_e77a1_row1_col1{\n",
       "            background-color:  #9dbdff;\n",
       "            color:  #000000;\n",
       "        }#T_e77a1_row1_col3{\n",
       "            background-color:  #afcafc;\n",
       "            color:  #000000;\n",
       "        }#T_e77a1_row1_col4{\n",
       "            background-color:  #d1dae9;\n",
       "            color:  #000000;\n",
       "        }#T_e77a1_row1_col5,#T_e77a1_row2_col0,#T_e77a1_row2_col1,#T_e77a1_row2_col6,#T_e77a1_row2_col7,#T_e77a1_row2_col8,#T_e77a1_row3_col2,#T_e77a1_row3_col3,#T_e77a1_row3_col4,#T_e77a1_row4_col9{\n",
       "            background-color:  #b40426;\n",
       "            color:  #f1f1f1;\n",
       "        }#T_e77a1_row1_col6{\n",
       "            background-color:  #f6a283;\n",
       "            color:  #000000;\n",
       "        }#T_e77a1_row1_col7{\n",
       "            background-color:  #c4d5f3;\n",
       "            color:  #000000;\n",
       "        }#T_e77a1_row1_col8{\n",
       "            background-color:  #e0654f;\n",
       "            color:  #000000;\n",
       "        }#T_e77a1_row1_col9{\n",
       "            background-color:  #b8122a;\n",
       "            color:  #f1f1f1;\n",
       "        }#T_e77a1_row2_col2{\n",
       "            background-color:  #ea7b60;\n",
       "            color:  #000000;\n",
       "        }#T_e77a1_row2_col3{\n",
       "            background-color:  #df634e;\n",
       "            color:  #000000;\n",
       "        }#T_e77a1_row2_col4{\n",
       "            background-color:  #be242e;\n",
       "            color:  #f1f1f1;\n",
       "        }#T_e77a1_row2_col5{\n",
       "            background-color:  #e8765c;\n",
       "            color:  #000000;\n",
       "        }#T_e77a1_row2_col9{\n",
       "            background-color:  #b50927;\n",
       "            color:  #f1f1f1;\n",
       "        }#T_e77a1_row3_col0,#T_e77a1_row4_col6{\n",
       "            background-color:  #f6a586;\n",
       "            color:  #000000;\n",
       "        }#T_e77a1_row3_col1{\n",
       "            background-color:  #f08b6e;\n",
       "            color:  #000000;\n",
       "        }#T_e77a1_row3_col5{\n",
       "            background-color:  #bad0f8;\n",
       "            color:  #000000;\n",
       "        }#T_e77a1_row3_col6{\n",
       "            background-color:  #c0d4f5;\n",
       "            color:  #000000;\n",
       "        }#T_e77a1_row3_col7{\n",
       "            background-color:  #dfdbd9;\n",
       "            color:  #000000;\n",
       "        }#T_e77a1_row3_col8{\n",
       "            background-color:  #e4d9d2;\n",
       "            color:  #000000;\n",
       "        }#T_e77a1_row3_col9{\n",
       "            background-color:  #f08a6c;\n",
       "            color:  #000000;\n",
       "        }#T_e77a1_row4_col0{\n",
       "            background-color:  #5b7ae5;\n",
       "            color:  #000000;\n",
       "        }#T_e77a1_row4_col1{\n",
       "            background-color:  #80a3fa;\n",
       "            color:  #000000;\n",
       "        }#T_e77a1_row4_col2{\n",
       "            background-color:  #9bbcff;\n",
       "            color:  #000000;\n",
       "        }#T_e77a1_row4_col3{\n",
       "            background-color:  #b3cdfb;\n",
       "            color:  #000000;\n",
       "        }#T_e77a1_row4_col4{\n",
       "            background-color:  #cad8ef;\n",
       "            color:  #000000;\n",
       "        }#T_e77a1_row4_col5{\n",
       "            background-color:  #f5c4ac;\n",
       "            color:  #000000;\n",
       "        }#T_e77a1_row4_col7{\n",
       "            background-color:  #f5c0a7;\n",
       "            color:  #000000;\n",
       "        }#T_e77a1_row4_col8{\n",
       "            background-color:  #f3c8b2;\n",
       "            color:  #000000;\n",
       "        }</style><table id=\"T_e77a1_\" ><thead>    <tr>        <th class=\"blank level0\" ></th>        <th class=\"col_heading level0 col0\" colspan=\"5\">count</th>        <th class=\"col_heading level0 col5\" colspan=\"5\">sum</th>    </tr>    <tr>        <th class=\"index_name level1\" >rental_year</th>        <th class=\"col_heading level1 col0\" >2015</th>        <th class=\"col_heading level1 col1\" >2016</th>        <th class=\"col_heading level1 col2\" >2017</th>        <th class=\"col_heading level1 col3\" >2018</th>        <th class=\"col_heading level1 col4\" >2019</th>        <th class=\"col_heading level1 col5\" >2015</th>        <th class=\"col_heading level1 col6\" >2016</th>        <th class=\"col_heading level1 col7\" >2017</th>        <th class=\"col_heading level1 col8\" >2018</th>        <th class=\"col_heading level1 col9\" >2019</th>    </tr>    <tr>        <th class=\"index_name level0\" >age_restriction</th>        <th class=\"blank\" ></th>        <th class=\"blank\" ></th>        <th class=\"blank\" ></th>        <th class=\"blank\" ></th>        <th class=\"blank\" ></th>        <th class=\"blank\" ></th>        <th class=\"blank\" ></th>        <th class=\"blank\" ></th>        <th class=\"blank\" ></th>        <th class=\"blank\" ></th>    </tr></thead><tbody>\n",
       "                <tr>\n",
       "                        <th id=\"T_e77a1_level0_row0\" class=\"row_heading level0 row0\" >«0+» - для любой зрительской аудитории</th>\n",
       "                        <td id=\"T_e77a1_row0_col0\" class=\"data row0 col0\" >39</td>\n",
       "                        <td id=\"T_e77a1_row0_col1\" class=\"data row0 col1\" >40</td>\n",
       "                        <td id=\"T_e77a1_row0_col2\" class=\"data row0 col2\" >3</td>\n",
       "                        <td id=\"T_e77a1_row0_col3\" class=\"data row0 col3\" >5</td>\n",
       "                        <td id=\"T_e77a1_row0_col4\" class=\"data row0 col4\" >3</td>\n",
       "                        <td id=\"T_e77a1_row0_col5\" class=\"data row0 col5\" >379054578</td>\n",
       "                        <td id=\"T_e77a1_row0_col6\" class=\"data row0 col6\" >150034322</td>\n",
       "                        <td id=\"T_e77a1_row0_col7\" class=\"data row0 col7\" >229598930</td>\n",
       "                        <td id=\"T_e77a1_row0_col8\" class=\"data row0 col8\" >32449002</td>\n",
       "                        <td id=\"T_e77a1_row0_col9\" class=\"data row0 col9\" >17746067</td>\n",
       "            </tr>\n",
       "            <tr>\n",
       "                        <th id=\"T_e77a1_level0_row1\" class=\"row_heading level0 row1\" >«12+» - для детей старше 12 лет</th>\n",
       "                        <td id=\"T_e77a1_row1_col0\" class=\"data row1 col0\" >73</td>\n",
       "                        <td id=\"T_e77a1_row1_col1\" class=\"data row1 col1\" >82</td>\n",
       "                        <td id=\"T_e77a1_row1_col2\" class=\"data row1 col2\" >41</td>\n",
       "                        <td id=\"T_e77a1_row1_col3\" class=\"data row1 col3\" >66</td>\n",
       "                        <td id=\"T_e77a1_row1_col4\" class=\"data row1 col4\" >85</td>\n",
       "                        <td id=\"T_e77a1_row1_col5\" class=\"data row1 col5\" >13616082009</td>\n",
       "                        <td id=\"T_e77a1_row1_col6\" class=\"data row1 col6\" >12204446524</td>\n",
       "                        <td id=\"T_e77a1_row1_col7\" class=\"data row1 col7\" >7851427661</td>\n",
       "                        <td id=\"T_e77a1_row1_col8\" class=\"data row1 col8\" >14267250436</td>\n",
       "                        <td id=\"T_e77a1_row1_col9\" class=\"data row1 col9\" >12680198774</td>\n",
       "            </tr>\n",
       "            <tr>\n",
       "                        <th id=\"T_e77a1_level0_row2\" class=\"row_heading level0 row2\" >«16+» - для детей старше 16 лет</th>\n",
       "                        <td id=\"T_e77a1_row2_col0\" class=\"data row2 col0\" >168</td>\n",
       "                        <td id=\"T_e77a1_row2_col1\" class=\"data row2 col1\" >182</td>\n",
       "                        <td id=\"T_e77a1_row2_col2\" class=\"data row2 col2\" >121</td>\n",
       "                        <td id=\"T_e77a1_row2_col3\" class=\"data row2 col3\" >156</td>\n",
       "                        <td id=\"T_e77a1_row2_col4\" class=\"data row2 col4\" >178</td>\n",
       "                        <td id=\"T_e77a1_row2_col5\" class=\"data row2 col5\" >11368120870</td>\n",
       "                        <td id=\"T_e77a1_row2_col6\" class=\"data row2 col6\" >16664548542</td>\n",
       "                        <td id=\"T_e77a1_row2_col7\" class=\"data row2 col7\" >18745042900</td>\n",
       "                        <td id=\"T_e77a1_row2_col8\" class=\"data row2 col8\" >16503602347</td>\n",
       "                        <td id=\"T_e77a1_row2_col9\" class=\"data row2 col9\" >12753418985</td>\n",
       "            </tr>\n",
       "            <tr>\n",
       "                        <th id=\"T_e77a1_level0_row3\" class=\"row_heading level0 row3\" >«18+» - запрещено для детей</th>\n",
       "                        <td id=\"T_e77a1_row3_col0\" class=\"data row3 col0\" >132</td>\n",
       "                        <td id=\"T_e77a1_row3_col1\" class=\"data row3 col1\" >151</td>\n",
       "                        <td id=\"T_e77a1_row3_col2\" class=\"data row3 col2\" >147</td>\n",
       "                        <td id=\"T_e77a1_row3_col3\" class=\"data row3 col3\" >179</td>\n",
       "                        <td id=\"T_e77a1_row3_col4\" class=\"data row3 col4\" >183</td>\n",
       "                        <td id=\"T_e77a1_row3_col5\" class=\"data row3 col5\" >5432308367</td>\n",
       "                        <td id=\"T_e77a1_row3_col6\" class=\"data row3 col6\" >6793929819</td>\n",
       "                        <td id=\"T_e77a1_row3_col7\" class=\"data row3 col7\" >9651495581</td>\n",
       "                        <td id=\"T_e77a1_row3_col8\" class=\"data row3 col8\" >8760085501</td>\n",
       "                        <td id=\"T_e77a1_row3_col9\" class=\"data row3 col9\" >10121796304</td>\n",
       "            </tr>\n",
       "            <tr>\n",
       "                        <th id=\"T_e77a1_level0_row4\" class=\"row_heading level0 row4\" >«6+» - для детей старше 6 лет</th>\n",
       "                        <td id=\"T_e77a1_row4_col0\" class=\"data row4 col0\" >53</td>\n",
       "                        <td id=\"T_e77a1_row4_col1\" class=\"data row4 col1\" >70</td>\n",
       "                        <td id=\"T_e77a1_row4_col2\" class=\"data row4 col2\" >45</td>\n",
       "                        <td id=\"T_e77a1_row4_col3\" class=\"data row4 col3\" >68</td>\n",
       "                        <td id=\"T_e77a1_row4_col4\" class=\"data row4 col4\" >81</td>\n",
       "                        <td id=\"T_e77a1_row4_col5\" class=\"data row4 col5\" >8701799371</td>\n",
       "                        <td id=\"T_e77a1_row4_col6\" class=\"data row4 col6\" >12053146008</td>\n",
       "                        <td id=\"T_e77a1_row4_col7\" class=\"data row4 col7\" >12086142146</td>\n",
       "                        <td id=\"T_e77a1_row4_col8\" class=\"data row4 col8\" >10104974623</td>\n",
       "                        <td id=\"T_e77a1_row4_col9\" class=\"data row4 col9\" >12852548651</td>\n",
       "            </tr>\n",
       "    </tbody></table>"
      ],
      "text/plain": [
       "<pandas.io.formats.style.Styler at 0x7f16ac4e12e0>"
      ]
     },
     "metadata": {},
     "output_type": "display_data"
    }
   ],
   "source": [
    "sum_per_year = from_15_to_19.pivot_table(\n",
    "    index = 'age_restriction',\n",
    "    columns = 'rental_year',\n",
    "    values = 'box_office',\n",
    "    aggfunc = ['count','sum']).round()\n",
    "display(pd.DataFrame(sum_per_year).style.format('{:.0f}').background_gradient('coolwarm'))\n"
   ]
  },
  {
   "cell_type": "markdown",
   "metadata": {},
   "source": [
    "Если посмотреть по годам видим что картина практически не меняется. Наименьшая сумма сбров у категории 0+, а наибольшая 16+. Хотя в 2015 наибольшая сумма была в категории 12+. А уже в 2019 можно сказать что максимальная сумма сборов примерно равна для трех категорий 12+, 16+ и 6+.\n",
    "Если еще посмотреть на количество фильмов что выпускалось в каждой категории, то можно отметить, что в 2019 годы почти во всех категориях было выпущено наибольшее количество фильмов за весь период с 2015 по 2019 годы, что способствовало росту сборов. Исключение фильмы 0+ в этой категории фильмов было выпущено наименьшее коичество, всего 3. Что в целом логично, так как данная категория не приносит больших сборов. "
   ]
  },
  {
   "cell_type": "code",
   "execution_count": 167,
   "metadata": {},
   "outputs": [
    {
     "data": {
      "text/html": [
       "<style  type=\"text/css\" >\n",
       "#T_ebeb7_row0_col0,#T_ebeb7_row0_col1,#T_ebeb7_row0_col3,#T_ebeb7_row2_col4,#T_ebeb7_row3_col2{\n",
       "            background-color:  #3b4cc0;\n",
       "            color:  #f1f1f1;\n",
       "        }#T_ebeb7_row0_col2{\n",
       "            background-color:  #a5c3fe;\n",
       "            color:  #000000;\n",
       "        }#T_ebeb7_row0_col4{\n",
       "            background-color:  #4f69d9;\n",
       "            color:  #000000;\n",
       "        }#T_ebeb7_row1_col0{\n",
       "            background-color:  #f7a889;\n",
       "            color:  #000000;\n",
       "        }#T_ebeb7_row1_col1{\n",
       "            background-color:  #efcebd;\n",
       "            color:  #000000;\n",
       "        }#T_ebeb7_row1_col2{\n",
       "            background-color:  #3f53c6;\n",
       "            color:  #f1f1f1;\n",
       "        }#T_ebeb7_row1_col3{\n",
       "            background-color:  #efcfbf;\n",
       "            color:  #000000;\n",
       "        }#T_ebeb7_row1_col4{\n",
       "            background-color:  #4055c8;\n",
       "            color:  #f1f1f1;\n",
       "        }#T_ebeb7_row2_col0,#T_ebeb7_row4_col1{\n",
       "            background-color:  #5977e3;\n",
       "            color:  #000000;\n",
       "        }#T_ebeb7_row2_col1{\n",
       "            background-color:  #f7a688;\n",
       "            color:  #000000;\n",
       "        }#T_ebeb7_row2_col2{\n",
       "            background-color:  #445acc;\n",
       "            color:  #f1f1f1;\n",
       "        }#T_ebeb7_row2_col3{\n",
       "            background-color:  #d9dce1;\n",
       "            color:  #000000;\n",
       "        }#T_ebeb7_row3_col0{\n",
       "            background-color:  #5875e1;\n",
       "            color:  #000000;\n",
       "        }#T_ebeb7_row3_col1,#T_ebeb7_row4_col0,#T_ebeb7_row4_col2,#T_ebeb7_row4_col3,#T_ebeb7_row4_col4{\n",
       "            background-color:  #b40426;\n",
       "            color:  #f1f1f1;\n",
       "        }#T_ebeb7_row3_col3{\n",
       "            background-color:  #a6c4fe;\n",
       "            color:  #000000;\n",
       "        }#T_ebeb7_row3_col4{\n",
       "            background-color:  #8caffe;\n",
       "            color:  #000000;\n",
       "        }</style><table id=\"T_ebeb7_\" ><thead>    <tr>        <th class=\"index_name level0\" >rental_year</th>        <th class=\"col_heading level0 col0\" >2015</th>        <th class=\"col_heading level0 col1\" >2016</th>        <th class=\"col_heading level0 col2\" >2017</th>        <th class=\"col_heading level0 col3\" >2018</th>        <th class=\"col_heading level0 col4\" >2019</th>    </tr>    <tr>        <th class=\"index_name level0\" >age_restriction</th>        <th class=\"blank\" ></th>        <th class=\"blank\" ></th>        <th class=\"blank\" ></th>        <th class=\"blank\" ></th>        <th class=\"blank\" ></th>    </tr></thead><tbody>\n",
       "                <tr>\n",
       "                        <th id=\"T_ebeb7_level0_row0\" class=\"row_heading level0 row0\" >«0+» - для любой зрительской аудитории</th>\n",
       "                        <td id=\"T_ebeb7_row0_col0\" class=\"data row0 col0\" >2943319</td>\n",
       "                        <td id=\"T_ebeb7_row0_col1\" class=\"data row0 col1\" >2687779</td>\n",
       "                        <td id=\"T_ebeb7_row0_col2\" class=\"data row0 col2\" >22178956</td>\n",
       "                        <td id=\"T_ebeb7_row0_col3\" class=\"data row0 col3\" >3616937</td>\n",
       "                        <td id=\"T_ebeb7_row0_col4\" class=\"data row0 col4\" >3885434</td>\n",
       "            </tr>\n",
       "            <tr>\n",
       "                        <th id=\"T_ebeb7_level0_row1\" class=\"row_heading level0 row1\" >«12+» - для детей старше 12 лет</th>\n",
       "                        <td id=\"T_ebeb7_row1_col0\" class=\"data row1 col0\" >15351562</td>\n",
       "                        <td id=\"T_ebeb7_row1_col1\" class=\"data row1 col1\" >4690635</td>\n",
       "                        <td id=\"T_ebeb7_row1_col2\" class=\"data row1 col2\" >9010548</td>\n",
       "                        <td id=\"T_ebeb7_row1_col3\" class=\"data row1 col3\" >10035323</td>\n",
       "                        <td id=\"T_ebeb7_row1_col4\" class=\"data row1 col4\" >3405546</td>\n",
       "            </tr>\n",
       "            <tr>\n",
       "                        <th id=\"T_ebeb7_level0_row2\" class=\"row_heading level0 row2\" >«16+» - для детей старше 16 лет</th>\n",
       "                        <td id=\"T_ebeb7_row2_col0\" class=\"data row2 col0\" >4676819</td>\n",
       "                        <td id=\"T_ebeb7_row2_col1\" class=\"data row2 col1\" >5133022</td>\n",
       "                        <td id=\"T_ebeb7_row2_col2\" class=\"data row2 col2\" >9702077</td>\n",
       "                        <td id=\"T_ebeb7_row2_col3\" class=\"data row2 col3\" >9010639</td>\n",
       "                        <td id=\"T_ebeb7_row2_col4\" class=\"data row2 col4\" >3210718</td>\n",
       "            </tr>\n",
       "            <tr>\n",
       "                        <th id=\"T_ebeb7_level0_row3\" class=\"row_heading level0 row3\" >«18+» - запрещено для детей</th>\n",
       "                        <td id=\"T_ebeb7_row3_col0\" class=\"data row3 col0\" >4616615</td>\n",
       "                        <td id=\"T_ebeb7_row3_col1\" class=\"data row3 col1\" >6107002</td>\n",
       "                        <td id=\"T_ebeb7_row3_col2\" class=\"data row3 col2\" >8212677</td>\n",
       "                        <td id=\"T_ebeb7_row3_col3\" class=\"data row3 col3\" >7179466</td>\n",
       "                        <td id=\"T_ebeb7_row3_col4\" class=\"data row3 col4\" >5603217</td>\n",
       "            </tr>\n",
       "            <tr>\n",
       "                        <th id=\"T_ebeb7_level0_row4\" class=\"row_heading level0 row4\" >«6+» - для детей старше 6 лет</th>\n",
       "                        <td id=\"T_ebeb7_row4_col0\" class=\"data row4 col0\" >20380982</td>\n",
       "                        <td id=\"T_ebeb7_row4_col1\" class=\"data row4 col1\" >3026256</td>\n",
       "                        <td id=\"T_ebeb7_row4_col2\" class=\"data row4 col2\" >51992103</td>\n",
       "                        <td id=\"T_ebeb7_row4_col3\" class=\"data row4 col3\" >14688850</td>\n",
       "                        <td id=\"T_ebeb7_row4_col4\" class=\"data row4 col4\" >12875350</td>\n",
       "            </tr>\n",
       "    </tbody></table>"
      ],
      "text/plain": [
       "<pandas.io.formats.style.Styler at 0x7f16a789cdc0>"
      ]
     },
     "metadata": {},
     "output_type": "display_data"
    }
   ],
   "source": [
    "sum_per_year = from_15_to_19.pivot_table(\n",
    "    index = 'age_restriction',\n",
    "    columns = 'rental_year',\n",
    "    values = 'box_office',\n",
    "    aggfunc = 'median').round()\n",
    "display(pd.DataFrame(sum_per_year).style.format('{:.0f}').background_gradient('coolwarm'))"
   ]
  },
  {
   "cell_type": "markdown",
   "metadata": {},
   "source": [
    "<div class=\"alert alert-block alert-danger\">\n",
    "<h2> Комментарий ревьюера v1 <a class=\"tocSkip\"></h2>\n",
    "\n",
    "<b>На доработку🤔:</b>  А давай посмотрим на поведние средний или медианы?) "
   ]
  },
  {
   "cell_type": "markdown",
   "metadata": {},
   "source": [
    "<div class=\"alert alert-info\">\n",
    "<b>Если посмотреть на медиану по сборам в каждой категории, то видим что наибольшая сумма сборов по медиане была в категории 6+ все года с 2015 по 2019 за исключением 2016 года. А наименьшая менялась практически ежегодно. Если рассмотреть 2019 год то наибольшая медиана была у категории 6+, а нименьшая у 16+.</b> \n",
    "</div>"
   ]
  },
  {
   "cell_type": "markdown",
   "metadata": {},
   "source": [
    "<div class=\"alert alert-success\">\n",
    "<h2> Комментарий ревьюера v2 <a class=\"tocSkip\"> </h2>\n",
    "\n",
    "<b>Все супер!👍:</b> Супер, молодец!"
   ]
  },
  {
   "cell_type": "markdown",
   "metadata": {
    "id": "l_Kg6Ku4gFya"
   },
   "source": [
    "### Шаг 4. Исследуйте фильмы, которые получили государственную поддержку\n",
    "\n",
    "На этом этапе нет конкретных инструкций и заданий — поищите интересные закономерности в данных. Посмотрите, сколько выделяют средств на поддержку кино. Проверьте, хорошо ли окупаются такие фильмы, какой у них рейтинг."
   ]
  },
  {
   "cell_type": "code",
   "execution_count": 168,
   "metadata": {
    "id": "W9QKpjUdgFyb"
   },
   "outputs": [
    {
     "data": {
      "text/html": [
       "<style  type=\"text/css\" >\n",
       "#T_d58b4_row0_col0,#T_d58b4_row0_col1,#T_d58b4_row1_col0,#T_d58b4_row1_col1,#T_d58b4_row2_col0,#T_d58b4_row2_col1,#T_d58b4_row3_col1{\n",
       "            background-color:  #3b4cc0;\n",
       "            color:  #f1f1f1;\n",
       "        }#T_d58b4_row3_col0{\n",
       "            background-color:  #445acc;\n",
       "            color:  #f1f1f1;\n",
       "        }#T_d58b4_row4_col0{\n",
       "            background-color:  #6282ea;\n",
       "            color:  #000000;\n",
       "        }#T_d58b4_row4_col1{\n",
       "            background-color:  #516ddb;\n",
       "            color:  #000000;\n",
       "        }#T_d58b4_row5_col0{\n",
       "            background-color:  #f39577;\n",
       "            color:  #000000;\n",
       "        }#T_d58b4_row5_col1{\n",
       "            background-color:  #f7b194;\n",
       "            color:  #000000;\n",
       "        }#T_d58b4_row6_col0{\n",
       "            background-color:  #e36c55;\n",
       "            color:  #000000;\n",
       "        }#T_d58b4_row6_col1{\n",
       "            background-color:  #b50927;\n",
       "            color:  #f1f1f1;\n",
       "        }#T_d58b4_row7_col0{\n",
       "            background-color:  #f4c6af;\n",
       "            color:  #000000;\n",
       "        }#T_d58b4_row7_col1{\n",
       "            background-color:  #f18f71;\n",
       "            color:  #000000;\n",
       "        }#T_d58b4_row8_col0{\n",
       "            background-color:  #f7ac8e;\n",
       "            color:  #000000;\n",
       "        }#T_d58b4_row8_col1{\n",
       "            background-color:  #f7a889;\n",
       "            color:  #000000;\n",
       "        }#T_d58b4_row9_col0,#T_d58b4_row9_col1{\n",
       "            background-color:  #b40426;\n",
       "            color:  #f1f1f1;\n",
       "        }</style><table id=\"T_d58b4_\" ><thead>    <tr>        <th class=\"blank level0\" ></th>        <th class=\"col_heading level0 col0\" >nonrefundable_support</th>        <th class=\"col_heading level0 col1\" >refundable_support</th>    </tr>    <tr>        <th class=\"index_name level0\" >rental_year</th>        <th class=\"blank\" ></th>        <th class=\"blank\" ></th>    </tr></thead><tbody>\n",
       "                <tr>\n",
       "                        <th id=\"T_d58b4_level0_row0\" class=\"row_heading level0 row0\" >2010</th>\n",
       "                        <td id=\"T_d58b4_row0_col0\" class=\"data row0 col0\" >0</td>\n",
       "                        <td id=\"T_d58b4_row0_col1\" class=\"data row0 col1\" >0</td>\n",
       "            </tr>\n",
       "            <tr>\n",
       "                        <th id=\"T_d58b4_level0_row1\" class=\"row_heading level0 row1\" >2011</th>\n",
       "                        <td id=\"T_d58b4_row1_col0\" class=\"data row1 col0\" >0</td>\n",
       "                        <td id=\"T_d58b4_row1_col1\" class=\"data row1 col1\" >0</td>\n",
       "            </tr>\n",
       "            <tr>\n",
       "                        <th id=\"T_d58b4_level0_row2\" class=\"row_heading level0 row2\" >2012</th>\n",
       "                        <td id=\"T_d58b4_row2_col0\" class=\"data row2 col0\" >0</td>\n",
       "                        <td id=\"T_d58b4_row2_col1\" class=\"data row2 col1\" >0</td>\n",
       "            </tr>\n",
       "            <tr>\n",
       "                        <th id=\"T_d58b4_level0_row3\" class=\"row_heading level0 row3\" >2013</th>\n",
       "                        <td id=\"T_d58b4_row3_col0\" class=\"data row3 col0\" >134347945</td>\n",
       "                        <td id=\"T_d58b4_row3_col1\" class=\"data row3 col1\" >0</td>\n",
       "            </tr>\n",
       "            <tr>\n",
       "                        <th id=\"T_d58b4_level0_row4\" class=\"row_heading level0 row4\" >2014</th>\n",
       "                        <td id=\"T_d58b4_row4_col0\" class=\"data row4 col0\" >501002299</td>\n",
       "                        <td id=\"T_d58b4_row4_col1\" class=\"data row4 col1\" >71000000</td>\n",
       "            </tr>\n",
       "            <tr>\n",
       "                        <th id=\"T_d58b4_level0_row5\" class=\"row_heading level0 row5\" >2015</th>\n",
       "                        <td id=\"T_d58b4_row5_col0\" class=\"data row5 col0\" >3019088340</td>\n",
       "                        <td id=\"T_d58b4_row5_col1\" class=\"data row5 col1\" >637153119</td>\n",
       "            </tr>\n",
       "            <tr>\n",
       "                        <th id=\"T_d58b4_level0_row6\" class=\"row_heading level0 row6\" >2016</th>\n",
       "                        <td id=\"T_d58b4_row6_col0\" class=\"data row6 col0\" >3381655482</td>\n",
       "                        <td id=\"T_d58b4_row6_col1\" class=\"data row6 col1\" >921500000</td>\n",
       "            </tr>\n",
       "            <tr>\n",
       "                        <th id=\"T_d58b4_level0_row7\" class=\"row_heading level0 row7\" >2017</th>\n",
       "                        <td id=\"T_d58b4_row7_col0\" class=\"data row7 col0\" >2464624781</td>\n",
       "                        <td id=\"T_d58b4_row7_col1\" class=\"data row7 col1\" >719346881</td>\n",
       "            </tr>\n",
       "            <tr>\n",
       "                        <th id=\"T_d58b4_level0_row8\" class=\"row_heading level0 row8\" >2018</th>\n",
       "                        <td id=\"T_d58b4_row8_col0\" class=\"data row8 col0\" >2784969465</td>\n",
       "                        <td id=\"T_d58b4_row8_col1\" class=\"data row8 col1\" >662000000</td>\n",
       "            </tr>\n",
       "            <tr>\n",
       "                        <th id=\"T_d58b4_level0_row9\" class=\"row_heading level0 row9\" >2019</th>\n",
       "                        <td id=\"T_d58b4_row9_col0\" class=\"data row9 col0\" >3976000000</td>\n",
       "                        <td id=\"T_d58b4_row9_col1\" class=\"data row9 col1\" >928000000</td>\n",
       "            </tr>\n",
       "    </tbody></table>"
      ],
      "text/plain": [
       "<pandas.io.formats.style.Styler at 0x7f16ac4ce700>"
      ]
     },
     "metadata": {},
     "output_type": "display_data"
    }
   ],
   "source": [
    "support_ref_nonref = combined_data.pivot_table(\n",
    "    index = 'rental_year',\n",
    "    values = ['nonrefundable_support', 'refundable_support'],\n",
    "    aggfunc = 'sum').round()\n",
    "display(pd.DataFrame(support_ref_nonref).style.format('{:.0f}').background_gradient('coolwarm'))"
   ]
  },
  {
   "cell_type": "markdown",
   "metadata": {},
   "source": [
    "После группировки по годам возвратных и не возвратных срадств поддержки видим что до 2013 года средства не выделялись совсем, а в 2014 и 2015 годах выделенные средства были минимальныеми. Целесообразнее рассматривать период с 2015 по 2019 годы. Еще один момент по данной таблице видно что суммы средств на возвратной основе в разы меньше. Наибольшие суммы поддержки были выделены в 2019 году."
   ]
  },
  {
   "cell_type": "code",
   "execution_count": 169,
   "metadata": {},
   "outputs": [
    {
     "data": {
      "text/html": [
       "<style  type=\"text/css\" >\n",
       "#T_c530b_row0_col0{\n",
       "            background-color:  #5d7ce6;\n",
       "            color:  #000000;\n",
       "        }#T_c530b_row0_col1{\n",
       "            background-color:  #a2c1ff;\n",
       "            color:  #000000;\n",
       "        }#T_c530b_row1_col0,#T_c530b_row1_col1,#T_c530b_row2_col0,#T_c530b_row2_col1,#T_c530b_row3_col0,#T_c530b_row3_col1,#T_c530b_row4_col0,#T_c530b_row4_col1{\n",
       "            background-color:  #3b4cc0;\n",
       "            color:  #f1f1f1;\n",
       "        }#T_c530b_row5_col0,#T_c530b_row5_col1{\n",
       "            background-color:  #b40426;\n",
       "            color:  #f1f1f1;\n",
       "        }</style><table id=\"T_c530b_\" ><thead>    <tr>        <th class=\"blank level0\" ></th>        <th class=\"col_heading level0 col0\" >nonrefundable_support</th>        <th class=\"col_heading level0 col1\" >refundable_support</th>    </tr>    <tr>        <th class=\"index_name level0\" >type</th>        <th class=\"blank\" ></th>        <th class=\"blank\" ></th>    </tr></thead><tbody>\n",
       "                <tr>\n",
       "                        <th id=\"T_c530b_level0_row0\" class=\"row_heading level0 row0\" >Анимационный</th>\n",
       "                        <td id=\"T_c530b_row0_col0\" class=\"data row0 col0\" >1640489465</td>\n",
       "                        <td id=\"T_c530b_row0_col1\" class=\"data row0 col1\" >930000000</td>\n",
       "            </tr>\n",
       "            <tr>\n",
       "                        <th id=\"T_c530b_level0_row1\" class=\"row_heading level0 row1\" >Документальный</th>\n",
       "                        <td id=\"T_c530b_row1_col0\" class=\"data row1 col0\" >3000000</td>\n",
       "                        <td id=\"T_c530b_row1_col1\" class=\"data row1 col1\" >0</td>\n",
       "            </tr>\n",
       "            <tr>\n",
       "                        <th id=\"T_c530b_level0_row2\" class=\"row_heading level0 row2\" >Музыкально-развлекательный</th>\n",
       "                        <td id=\"T_c530b_row2_col0\" class=\"data row2 col0\" >0</td>\n",
       "                        <td id=\"T_c530b_row2_col1\" class=\"data row2 col1\" >0</td>\n",
       "            </tr>\n",
       "            <tr>\n",
       "                        <th id=\"T_c530b_level0_row3\" class=\"row_heading level0 row3\" >Научно-популярный</th>\n",
       "                        <td id=\"T_c530b_row3_col0\" class=\"data row3 col0\" >0</td>\n",
       "                        <td id=\"T_c530b_row3_col1\" class=\"data row3 col1\" >0</td>\n",
       "            </tr>\n",
       "            <tr>\n",
       "                        <th id=\"T_c530b_level0_row4\" class=\"row_heading level0 row4\" >Прочие</th>\n",
       "                        <td id=\"T_c530b_row4_col0\" class=\"data row4 col0\" >0</td>\n",
       "                        <td id=\"T_c530b_row4_col1\" class=\"data row4 col1\" >0</td>\n",
       "            </tr>\n",
       "            <tr>\n",
       "                        <th id=\"T_c530b_level0_row5\" class=\"row_heading level0 row5\" >Художественный</th>\n",
       "                        <td id=\"T_c530b_row5_col0\" class=\"data row5 col0\" >14618198847</td>\n",
       "                        <td id=\"T_c530b_row5_col1\" class=\"data row5 col1\" >3009000000</td>\n",
       "            </tr>\n",
       "    </tbody></table>"
      ],
      "text/plain": [
       "<pandas.io.formats.style.Styler at 0x7f16a7861a60>"
      ]
     },
     "metadata": {},
     "output_type": "display_data"
    }
   ],
   "source": [
    "type_support_ref_nonref = combined_data.pivot_table(\n",
    "    index = 'type',\n",
    "    values = ['nonrefundable_support', 'refundable_support'],\n",
    "    aggfunc = 'sum').round()\n",
    "display(pd.DataFrame(type_support_ref_nonref).style.format('{:.0f}').background_gradient('coolwarm'))"
   ]
  },
  {
   "cell_type": "markdown",
   "metadata": {},
   "source": [
    "А вот если посмотреть по типу фильмов, то поддержка выделяется исключительно на Художественные, Анимационные и Документальные фильмы."
   ]
  },
  {
   "cell_type": "code",
   "execution_count": 170,
   "metadata": {},
   "outputs": [
    {
     "data": {
      "text/html": [
       "<style  type=\"text/css\" >\n",
       "#T_0a3bd_row0_col0,#T_0a3bd_row3_col1{\n",
       "            background-color:  #3b4cc0;\n",
       "            color:  #f1f1f1;\n",
       "        }#T_0a3bd_row0_col1{\n",
       "            background-color:  #3d50c3;\n",
       "            color:  #f1f1f1;\n",
       "        }#T_0a3bd_row1_col0,#T_0a3bd_row1_col1{\n",
       "            background-color:  #b40426;\n",
       "            color:  #f1f1f1;\n",
       "        }#T_0a3bd_row2_col0{\n",
       "            background-color:  #f4987a;\n",
       "            color:  #000000;\n",
       "        }#T_0a3bd_row2_col1{\n",
       "            background-color:  #e2dad5;\n",
       "            color:  #000000;\n",
       "        }#T_0a3bd_row3_col0{\n",
       "            background-color:  #6282ea;\n",
       "            color:  #000000;\n",
       "        }#T_0a3bd_row4_col0{\n",
       "            background-color:  #f6bfa6;\n",
       "            color:  #000000;\n",
       "        }#T_0a3bd_row4_col1{\n",
       "            background-color:  #cd423b;\n",
       "            color:  #f1f1f1;\n",
       "        }</style><table id=\"T_0a3bd_\" ><thead>    <tr>        <th class=\"blank level0\" ></th>        <th class=\"col_heading level0 col0\" >nonrefundable_support</th>        <th class=\"col_heading level0 col1\" >refundable_support</th>    </tr>    <tr>        <th class=\"index_name level0\" >age_restriction</th>        <th class=\"blank\" ></th>        <th class=\"blank\" ></th>    </tr></thead><tbody>\n",
       "                <tr>\n",
       "                        <th id=\"T_0a3bd_level0_row0\" class=\"row_heading level0 row0\" >«0+» - для любой зрительской аудитории</th>\n",
       "                        <td id=\"T_0a3bd_row0_col0\" class=\"data row0 col0\" >228520000</td>\n",
       "                        <td id=\"T_0a3bd_row0_col1\" class=\"data row0 col1\" >45000000</td>\n",
       "            </tr>\n",
       "            <tr>\n",
       "                        <th id=\"T_0a3bd_level0_row1\" class=\"row_heading level0 row1\" >«12+» - для детей старше 12 лет</th>\n",
       "                        <td id=\"T_0a3bd_row1_col0\" class=\"data row1 col0\" >6231894165</td>\n",
       "                        <td id=\"T_0a3bd_row1_col1\" class=\"data row1 col1\" >1567500000</td>\n",
       "            </tr>\n",
       "            <tr>\n",
       "                        <th id=\"T_0a3bd_level0_row2\" class=\"row_heading level0 row2\" >«16+» - для детей старше 16 лет</th>\n",
       "                        <td id=\"T_0a3bd_row2_col0\" class=\"data row2 col0\" >4733900200</td>\n",
       "                        <td id=\"T_0a3bd_row2_col1\" class=\"data row2 col1\" >835153119</td>\n",
       "            </tr>\n",
       "            <tr>\n",
       "                        <th id=\"T_0a3bd_level0_row3\" class=\"row_heading level0 row3\" >«18+» - запрещено для детей</th>\n",
       "                        <td id=\"T_0a3bd_row3_col0\" class=\"data row3 col0\" >980000000</td>\n",
       "                        <td id=\"T_0a3bd_row3_col1\" class=\"data row3 col1\" >32346881</td>\n",
       "            </tr>\n",
       "            <tr>\n",
       "                        <th id=\"T_0a3bd_level0_row4\" class=\"row_heading level0 row4\" >«6+» - для детей старше 6 лет</th>\n",
       "                        <td id=\"T_0a3bd_row4_col0\" class=\"data row4 col0\" >4087373947</td>\n",
       "                        <td id=\"T_0a3bd_row4_col1\" class=\"data row4 col1\" >1459000000</td>\n",
       "            </tr>\n",
       "    </tbody></table>"
      ],
      "text/plain": [
       "<pandas.io.formats.style.Styler at 0x7f16ac4bd700>"
      ]
     },
     "metadata": {},
     "output_type": "display_data"
    }
   ],
   "source": [
    "age_rest_ref_nonref = combined_data.pivot_table(\n",
    "    index = 'age_restriction',\n",
    "    values = ['nonrefundable_support', 'refundable_support'],\n",
    "    aggfunc = 'sum').round()\n",
    "display(pd.DataFrame(age_rest_ref_nonref).style.format('{:.0f}').background_gradient('coolwarm'))"
   ]
  },
  {
   "cell_type": "markdown",
   "metadata": {},
   "source": [
    "Что касается возрастной категории, то наибольшие средства выделяются для категории 16+(как возвратные так и не возвратные). А вот минимально возвратных средств выделяется для категории 18+, не возвратных - 0+."
   ]
  },
  {
   "cell_type": "code",
   "execution_count": 171,
   "metadata": {},
   "outputs": [
    {
     "data": {
      "text/html": [
       "<style  type=\"text/css\" >\n",
       "#T_2560e_row0_col0,#T_2560e_row0_col1{\n",
       "            background-color:  #b40426;\n",
       "            color:  #f1f1f1;\n",
       "        }#T_2560e_row1_col0,#T_2560e_row1_col1,#T_2560e_row2_col0,#T_2560e_row2_col1,#T_2560e_row3_col0,#T_2560e_row3_col1,#T_2560e_row4_col0,#T_2560e_row5_col0,#T_2560e_row5_col1,#T_2560e_row6_col0,#T_2560e_row6_col1,#T_2560e_row7_col1,#T_2560e_row9_col0,#T_2560e_row9_col1,#T_2560e_row10_col0,#T_2560e_row10_col1,#T_2560e_row11_col0,#T_2560e_row11_col1,#T_2560e_row12_col0,#T_2560e_row12_col1,#T_2560e_row13_col0,#T_2560e_row13_col1,#T_2560e_row14_col0,#T_2560e_row14_col1{\n",
       "            background-color:  #3b4cc0;\n",
       "            color:  #f1f1f1;\n",
       "        }#T_2560e_row4_col1,#T_2560e_row7_col0,#T_2560e_row8_col0{\n",
       "            background-color:  #3c4ec2;\n",
       "            color:  #f1f1f1;\n",
       "        }#T_2560e_row8_col1{\n",
       "            background-color:  #4961d2;\n",
       "            color:  #f1f1f1;\n",
       "        }</style><table id=\"T_2560e_\" ><thead>    <tr>        <th class=\"blank level0\" ></th>        <th class=\"col_heading level0 col0\" >nonrefundable_support</th>        <th class=\"col_heading level0 col1\" >refundable_support</th>    </tr>    <tr>        <th class=\"index_name level0\" >production_country</th>        <th class=\"blank\" ></th>        <th class=\"blank\" ></th>    </tr></thead><tbody>\n",
       "                <tr>\n",
       "                        <th id=\"T_2560e_level0_row0\" class=\"row_heading level0 row0\" >Россия</th>\n",
       "                        <td id=\"T_2560e_row0_col0\" class=\"data row0 col0\" >15631676013</td>\n",
       "                        <td id=\"T_2560e_row0_col1\" class=\"data row0 col1\" >3744000000</td>\n",
       "            </tr>\n",
       "            <tr>\n",
       "                        <th id=\"T_2560e_level0_row1\" class=\"row_heading level0 row1\" >Россия-Армения</th>\n",
       "                        <td id=\"T_2560e_row1_col0\" class=\"data row1 col0\" >50000000</td>\n",
       "                        <td id=\"T_2560e_row1_col1\" class=\"data row1 col1\" >0</td>\n",
       "            </tr>\n",
       "            <tr>\n",
       "                        <th id=\"T_2560e_level0_row2\" class=\"row_heading level0 row2\" >Россия-Бельгия-Финляндия</th>\n",
       "                        <td id=\"T_2560e_row2_col0\" class=\"data row2 col0\" >30000000</td>\n",
       "                        <td id=\"T_2560e_row2_col1\" class=\"data row2 col1\" >0</td>\n",
       "            </tr>\n",
       "            <tr>\n",
       "                        <th id=\"T_2560e_level0_row3\" class=\"row_heading level0 row3\" >Россия-Германия</th>\n",
       "                        <td id=\"T_2560e_row3_col0\" class=\"data row3 col0\" >63000000</td>\n",
       "                        <td id=\"T_2560e_row3_col1\" class=\"data row3 col1\" >0</td>\n",
       "            </tr>\n",
       "            <tr>\n",
       "                        <th id=\"T_2560e_level0_row4\" class=\"row_heading level0 row4\" >Россия-Германия-Великобритания</th>\n",
       "                        <td id=\"T_2560e_row4_col0\" class=\"data row4 col0\" >35000000</td>\n",
       "                        <td id=\"T_2560e_row4_col1\" class=\"data row4 col1\" >15000000</td>\n",
       "            </tr>\n",
       "            <tr>\n",
       "                        <th id=\"T_2560e_level0_row5\" class=\"row_heading level0 row5\" >Россия-Германия-Казахстан-Польша-Китай</th>\n",
       "                        <td id=\"T_2560e_row5_col0\" class=\"data row5 col0\" >28000000</td>\n",
       "                        <td id=\"T_2560e_row5_col1\" class=\"data row5 col1\" >0</td>\n",
       "            </tr>\n",
       "            <tr>\n",
       "                        <th id=\"T_2560e_level0_row6\" class=\"row_heading level0 row6\" >Россия-Грузия</th>\n",
       "                        <td id=\"T_2560e_row6_col0\" class=\"data row6 col0\" >25000000</td>\n",
       "                        <td id=\"T_2560e_row6_col1\" class=\"data row6 col1\" >0</td>\n",
       "            </tr>\n",
       "            <tr>\n",
       "                        <th id=\"T_2560e_level0_row7\" class=\"row_heading level0 row7\" >Россия-Италия</th>\n",
       "                        <td id=\"T_2560e_row7_col0\" class=\"data row7 col0\" >120000000</td>\n",
       "                        <td id=\"T_2560e_row7_col1\" class=\"data row7 col1\" >0</td>\n",
       "            </tr>\n",
       "            <tr>\n",
       "                        <th id=\"T_2560e_level0_row8\" class=\"row_heading level0 row8\" >Россия-Китай</th>\n",
       "                        <td id=\"T_2560e_row8_col0\" class=\"data row8 col0\" >90000000</td>\n",
       "                        <td id=\"T_2560e_row8_col1\" class=\"data row8 col1\" >180000000</td>\n",
       "            </tr>\n",
       "            <tr>\n",
       "                        <th id=\"T_2560e_level0_row9\" class=\"row_heading level0 row9\" >Россия-Латвия-Чешская Республика</th>\n",
       "                        <td id=\"T_2560e_row9_col0\" class=\"data row9 col0\" >20000000</td>\n",
       "                        <td id=\"T_2560e_row9_col1\" class=\"data row9 col1\" >0</td>\n",
       "            </tr>\n",
       "            <tr>\n",
       "                        <th id=\"T_2560e_level0_row10\" class=\"row_heading level0 row10\" >Россия-Сербия</th>\n",
       "                        <td id=\"T_2560e_row10_col0\" class=\"data row10 col0\" >35000000</td>\n",
       "                        <td id=\"T_2560e_row10_col1\" class=\"data row10 col1\" >0</td>\n",
       "            </tr>\n",
       "            <tr>\n",
       "                        <th id=\"T_2560e_level0_row11\" class=\"row_heading level0 row11\" >Россия-Словакия-Чехия</th>\n",
       "                        <td id=\"T_2560e_row11_col0\" class=\"data row11 col0\" >30000000</td>\n",
       "                        <td id=\"T_2560e_row11_col1\" class=\"data row11 col1\" >0</td>\n",
       "            </tr>\n",
       "            <tr>\n",
       "                        <th id=\"T_2560e_level0_row12\" class=\"row_heading level0 row12\" >Россия-Украина</th>\n",
       "                        <td id=\"T_2560e_row12_col0\" class=\"data row12 col0\" >27510000</td>\n",
       "                        <td id=\"T_2560e_row12_col1\" class=\"data row12 col1\" >0</td>\n",
       "            </tr>\n",
       "            <tr>\n",
       "                        <th id=\"T_2560e_level0_row13\" class=\"row_heading level0 row13\" >Россия-Украина-Польша</th>\n",
       "                        <td id=\"T_2560e_row13_col0\" class=\"data row13 col0\" >30000000</td>\n",
       "                        <td id=\"T_2560e_row13_col1\" class=\"data row13 col1\" >0</td>\n",
       "            </tr>\n",
       "            <tr>\n",
       "                        <th id=\"T_2560e_level0_row14\" class=\"row_heading level0 row14\" >Россия-Франция-Латвия</th>\n",
       "                        <td id=\"T_2560e_row14_col0\" class=\"data row14 col0\" >46502299</td>\n",
       "                        <td id=\"T_2560e_row14_col1\" class=\"data row14 col1\" >0</td>\n",
       "            </tr>\n",
       "    </tbody></table>"
      ],
      "text/plain": [
       "<pandas.io.formats.style.Styler at 0x7f16ac4b5730>"
      ]
     },
     "metadata": {},
     "output_type": "display_data"
    }
   ],
   "source": [
    "country_ref_nonref = combined_data.pivot_table(\n",
    "    index = 'production_country',\n",
    "    values = ['nonrefundable_support', 'refundable_support'],\n",
    "    aggfunc = 'sum').round()\n",
    "for_table_nonre = country_ref_nonref.loc[ country_ref_nonref['nonrefundable_support']>0 ]\n",
    "display(pd.DataFrame(for_table_nonre).style.format('{:.0f}').background_gradient('coolwarm'))"
   ]
  },
  {
   "cell_type": "code",
   "execution_count": 172,
   "metadata": {},
   "outputs": [
    {
     "data": {
      "text/html": [
       "<style  type=\"text/css\" >\n",
       "#T_d60ee_row0_col0{\n",
       "            background-color:  #c3d5f4;\n",
       "            color:  #000000;\n",
       "        }#T_d60ee_row0_col1,#T_d60ee_row1_col0{\n",
       "            background-color:  #3b4cc0;\n",
       "            color:  #f1f1f1;\n",
       "        }#T_d60ee_row1_col1{\n",
       "            background-color:  #5673e0;\n",
       "            color:  #000000;\n",
       "        }#T_d60ee_row2_col0,#T_d60ee_row2_col1{\n",
       "            background-color:  #b40426;\n",
       "            color:  #f1f1f1;\n",
       "        }</style><table id=\"T_d60ee_\" ><thead>    <tr>        <th class=\"blank level0\" ></th>        <th class=\"col_heading level0 col0\" >nonrefundable_support</th>        <th class=\"col_heading level0 col1\" >refundable_support</th>    </tr>    <tr>        <th class=\"index_name level0\" >financing_source</th>        <th class=\"blank\" ></th>        <th class=\"blank\" ></th>    </tr></thead><tbody>\n",
       "                <tr>\n",
       "                        <th id=\"T_d60ee_level0_row0\" class=\"row_heading level0 row0\" >Министерство культуры</th>\n",
       "                        <td id=\"T_d60ee_row0_col0\" class=\"data row0 col0\" >4836661000</td>\n",
       "                        <td id=\"T_d60ee_row0_col1\" class=\"data row0 col1\" >0</td>\n",
       "            </tr>\n",
       "            <tr>\n",
       "                        <th id=\"T_d60ee_level0_row1\" class=\"row_heading level0 row1\" >Министерство культуры, Фонд кино</th>\n",
       "                        <td id=\"T_d60ee_row1_col0\" class=\"data row1 col0\" >859931354</td>\n",
       "                        <td id=\"T_d60ee_row1_col1\" class=\"data row1 col1\" >325500000</td>\n",
       "            </tr>\n",
       "            <tr>\n",
       "                        <th id=\"T_d60ee_level0_row2\" class=\"row_heading level0 row2\" >Фонд кино</th>\n",
       "                        <td id=\"T_d60ee_row2_col0\" class=\"data row2 col0\" >10565095958</td>\n",
       "                        <td id=\"T_d60ee_row2_col1\" class=\"data row2 col1\" >3613500000</td>\n",
       "            </tr>\n",
       "    </tbody></table>"
      ],
      "text/plain": [
       "<pandas.io.formats.style.Styler at 0x7f16ac4ce640>"
      ]
     },
     "metadata": {},
     "output_type": "display_data"
    }
   ],
   "source": [
    "fin_source_ref_nonref = combined_data.pivot_table(\n",
    "    index = 'financing_source',\n",
    "    values = ['nonrefundable_support', 'refundable_support'],\n",
    "    aggfunc = 'sum').round()\n",
    "display(pd.DataFrame(fin_source_ref_nonref).style.format('{:.0f}').background_gradient('coolwarm'))"
   ]
  },
  {
   "cell_type": "markdown",
   "metadata": {},
   "source": [
    "Наибольшее количество средств выделяет Фонд кино."
   ]
  },
  {
   "cell_type": "code",
   "execution_count": 173,
   "metadata": {},
   "outputs": [
    {
     "data": {
      "text/html": [
       "<style  type=\"text/css\" >\n",
       "#T_0374b_row0_col0,#T_0374b_row1_col0,#T_0374b_row2_col0{\n",
       "            background-color:  #f2cab5;\n",
       "            color:  #000000;\n",
       "        }#T_0374b_row0_col1,#T_0374b_row0_col2,#T_0374b_row1_col1,#T_0374b_row1_col2,#T_0374b_row2_col1,#T_0374b_row2_col2,#T_0374b_row3_col2,#T_0374b_row7_col0{\n",
       "            background-color:  #3b4cc0;\n",
       "            color:  #f1f1f1;\n",
       "        }#T_0374b_row3_col0{\n",
       "            background-color:  #f5c0a7;\n",
       "            color:  #000000;\n",
       "        }#T_0374b_row3_col1{\n",
       "            background-color:  #445acc;\n",
       "            color:  #f1f1f1;\n",
       "        }#T_0374b_row4_col0{\n",
       "            background-color:  #f6bfa6;\n",
       "            color:  #000000;\n",
       "        }#T_0374b_row4_col1{\n",
       "            background-color:  #6282ea;\n",
       "            color:  #000000;\n",
       "        }#T_0374b_row4_col2{\n",
       "            background-color:  #516ddb;\n",
       "            color:  #000000;\n",
       "        }#T_0374b_row5_col0{\n",
       "            background-color:  #e9785d;\n",
       "            color:  #000000;\n",
       "        }#T_0374b_row5_col1{\n",
       "            background-color:  #f39577;\n",
       "            color:  #000000;\n",
       "        }#T_0374b_row5_col2{\n",
       "            background-color:  #f7b194;\n",
       "            color:  #000000;\n",
       "        }#T_0374b_row6_col0{\n",
       "            background-color:  #f29072;\n",
       "            color:  #000000;\n",
       "        }#T_0374b_row6_col1{\n",
       "            background-color:  #e36c55;\n",
       "            color:  #000000;\n",
       "        }#T_0374b_row6_col2{\n",
       "            background-color:  #b50927;\n",
       "            color:  #f1f1f1;\n",
       "        }#T_0374b_row7_col1{\n",
       "            background-color:  #f4c6af;\n",
       "            color:  #000000;\n",
       "        }#T_0374b_row7_col2{\n",
       "            background-color:  #f18f71;\n",
       "            color:  #000000;\n",
       "        }#T_0374b_row8_col0{\n",
       "            background-color:  #5b7ae5;\n",
       "            color:  #000000;\n",
       "        }#T_0374b_row8_col1{\n",
       "            background-color:  #f7ac8e;\n",
       "            color:  #000000;\n",
       "        }#T_0374b_row8_col2{\n",
       "            background-color:  #f7a889;\n",
       "            color:  #000000;\n",
       "        }#T_0374b_row9_col0,#T_0374b_row9_col1,#T_0374b_row9_col2{\n",
       "            background-color:  #b40426;\n",
       "            color:  #f1f1f1;\n",
       "        }</style><table id=\"T_0374b_\" ><thead>    <tr>        <th class=\"blank level0\" ></th>        <th class=\"col_heading level0 col0\" >budg_box_off</th>        <th class=\"col_heading level0 col1\" >nonrefundable_support</th>        <th class=\"col_heading level0 col2\" >refundable_support</th>    </tr>    <tr>        <th class=\"index_name level0\" >rental_year</th>        <th class=\"blank\" ></th>        <th class=\"blank\" ></th>        <th class=\"blank\" ></th>    </tr></thead><tbody>\n",
       "                <tr>\n",
       "                        <th id=\"T_0374b_level0_row0\" class=\"row_heading level0 row0\" >2010</th>\n",
       "                        <td id=\"T_0374b_row0_col0\" class=\"data row0 col0\" >0</td>\n",
       "                        <td id=\"T_0374b_row0_col1\" class=\"data row0 col1\" >0</td>\n",
       "                        <td id=\"T_0374b_row0_col2\" class=\"data row0 col2\" >0</td>\n",
       "            </tr>\n",
       "            <tr>\n",
       "                        <th id=\"T_0374b_level0_row1\" class=\"row_heading level0 row1\" >2011</th>\n",
       "                        <td id=\"T_0374b_row1_col0\" class=\"data row1 col0\" >0</td>\n",
       "                        <td id=\"T_0374b_row1_col1\" class=\"data row1 col1\" >0</td>\n",
       "                        <td id=\"T_0374b_row1_col2\" class=\"data row1 col2\" >0</td>\n",
       "            </tr>\n",
       "            <tr>\n",
       "                        <th id=\"T_0374b_level0_row2\" class=\"row_heading level0 row2\" >2012</th>\n",
       "                        <td id=\"T_0374b_row2_col0\" class=\"data row2 col0\" >0</td>\n",
       "                        <td id=\"T_0374b_row2_col1\" class=\"data row2 col1\" >0</td>\n",
       "                        <td id=\"T_0374b_row2_col2\" class=\"data row2 col2\" >0</td>\n",
       "            </tr>\n",
       "            <tr>\n",
       "                        <th id=\"T_0374b_level0_row3\" class=\"row_heading level0 row3\" >2013</th>\n",
       "                        <td id=\"T_0374b_row3_col0\" class=\"data row3 col0\" >235113005</td>\n",
       "                        <td id=\"T_0374b_row3_col1\" class=\"data row3 col1\" >134347945</td>\n",
       "                        <td id=\"T_0374b_row3_col2\" class=\"data row3 col2\" >0</td>\n",
       "            </tr>\n",
       "            <tr>\n",
       "                        <th id=\"T_0374b_level0_row4\" class=\"row_heading level0 row4\" >2014</th>\n",
       "                        <td id=\"T_0374b_row4_col0\" class=\"data row4 col0\" >262062616</td>\n",
       "                        <td id=\"T_0374b_row4_col1\" class=\"data row4 col1\" >501002299</td>\n",
       "                        <td id=\"T_0374b_row4_col2\" class=\"data row4 col2\" >71000000</td>\n",
       "            </tr>\n",
       "            <tr>\n",
       "                        <th id=\"T_0374b_level0_row5\" class=\"row_heading level0 row5\" >2015</th>\n",
       "                        <td id=\"T_0374b_row5_col0\" class=\"data row5 col0\" >1482384805</td>\n",
       "                        <td id=\"T_0374b_row5_col1\" class=\"data row5 col1\" >3019088340</td>\n",
       "                        <td id=\"T_0374b_row5_col2\" class=\"data row5 col2\" >637153119</td>\n",
       "            </tr>\n",
       "            <tr>\n",
       "                        <th id=\"T_0374b_level0_row6\" class=\"row_heading level0 row6\" >2016</th>\n",
       "                        <td id=\"T_0374b_row6_col0\" class=\"data row6 col0\" >1128528829</td>\n",
       "                        <td id=\"T_0374b_row6_col1\" class=\"data row6 col1\" >3381655482</td>\n",
       "                        <td id=\"T_0374b_row6_col2\" class=\"data row6 col2\" >921500000</td>\n",
       "            </tr>\n",
       "            <tr>\n",
       "                        <th id=\"T_0374b_level0_row7\" class=\"row_heading level0 row7\" >2017</th>\n",
       "                        <td id=\"T_0374b_row7_col0\" class=\"data row7 col0\" >-3998502733</td>\n",
       "                        <td id=\"T_0374b_row7_col1\" class=\"data row7 col1\" >2464624781</td>\n",
       "                        <td id=\"T_0374b_row7_col2\" class=\"data row7 col2\" >719346881</td>\n",
       "            </tr>\n",
       "            <tr>\n",
       "                        <th id=\"T_0374b_level0_row8\" class=\"row_heading level0 row8\" >2018</th>\n",
       "                        <td id=\"T_0374b_row8_col0\" class=\"data row8 col0\" >-3282374376</td>\n",
       "                        <td id=\"T_0374b_row8_col1\" class=\"data row8 col1\" >2784969465</td>\n",
       "                        <td id=\"T_0374b_row8_col2\" class=\"data row8 col2\" >662000000</td>\n",
       "            </tr>\n",
       "            <tr>\n",
       "                        <th id=\"T_0374b_level0_row9\" class=\"row_heading level0 row9\" >2019</th>\n",
       "                        <td id=\"T_0374b_row9_col0\" class=\"data row9 col0\" >2645446437</td>\n",
       "                        <td id=\"T_0374b_row9_col1\" class=\"data row9 col1\" >3976000000</td>\n",
       "                        <td id=\"T_0374b_row9_col2\" class=\"data row9 col2\" >928000000</td>\n",
       "            </tr>\n",
       "    </tbody></table>"
      ],
      "text/plain": [
       "<pandas.io.formats.style.Styler at 0x7f16ac4e1910>"
      ]
     },
     "metadata": {},
     "output_type": "display_data"
    }
   ],
   "source": [
    "combined_data['budg_box_off'] = combined_data['budget'] - combined_data['box_office']\n",
    "budg_box_off_ref_nonref = combined_data.pivot_table(\n",
    "    index = 'rental_year',\n",
    "    values = ['budg_box_off', 'nonrefundable_support', 'refundable_support'],\n",
    "    aggfunc = 'sum').round()\n",
    "display(pd.DataFrame(budg_box_off_ref_nonref).style.format('{:.0f}').background_gradient('coolwarm'))"
   ]
  },
  {
   "cell_type": "markdown",
   "metadata": {},
   "source": [
    "Если вычесть из бюджета фильмов сумму сбров мы узнаем окупился фильм или нет. В результате видим что по общей сумме за год с 2015 по 2019 есть только два года(2017 и 2018) когда сборы в окупили затраченные средства. А вот в 2019 когда было выделено максимальное количество средств сборы не покрыли все расходы.\n",
    "\n",
    "Давайте проверим как дела обстоят в отдельных категориях."
   ]
  },
  {
   "cell_type": "code",
   "execution_count": 174,
   "metadata": {},
   "outputs": [
    {
     "data": {
      "text/html": [
       "<style  type=\"text/css\" >\n",
       "#T_d3d5c_row0_col0{\n",
       "            background-color:  #f6bda2;\n",
       "            color:  #000000;\n",
       "        }#T_d3d5c_row0_col1,#T_d3d5c_row1_col0,#T_d3d5c_row3_col2{\n",
       "            background-color:  #3b4cc0;\n",
       "            color:  #f1f1f1;\n",
       "        }#T_d3d5c_row0_col2{\n",
       "            background-color:  #3d50c3;\n",
       "            color:  #f1f1f1;\n",
       "        }#T_d3d5c_row1_col1,#T_d3d5c_row1_col2,#T_d3d5c_row2_col0{\n",
       "            background-color:  #b40426;\n",
       "            color:  #f1f1f1;\n",
       "        }#T_d3d5c_row2_col1{\n",
       "            background-color:  #f4987a;\n",
       "            color:  #000000;\n",
       "        }#T_d3d5c_row2_col2{\n",
       "            background-color:  #e2dad5;\n",
       "            color:  #000000;\n",
       "        }#T_d3d5c_row3_col0{\n",
       "            background-color:  #ed8366;\n",
       "            color:  #000000;\n",
       "        }#T_d3d5c_row3_col1{\n",
       "            background-color:  #6282ea;\n",
       "            color:  #000000;\n",
       "        }#T_d3d5c_row4_col0{\n",
       "            background-color:  #e0dbd8;\n",
       "            color:  #000000;\n",
       "        }#T_d3d5c_row4_col1{\n",
       "            background-color:  #f6bfa6;\n",
       "            color:  #000000;\n",
       "        }#T_d3d5c_row4_col2{\n",
       "            background-color:  #cd423b;\n",
       "            color:  #f1f1f1;\n",
       "        }</style><table id=\"T_d3d5c_\" ><thead>    <tr>        <th class=\"blank level0\" ></th>        <th class=\"col_heading level0 col0\" >budg_box_off</th>        <th class=\"col_heading level0 col1\" >nonrefundable_support</th>        <th class=\"col_heading level0 col2\" >refundable_support</th>    </tr>    <tr>        <th class=\"index_name level0\" >age_restriction</th>        <th class=\"blank\" ></th>        <th class=\"blank\" ></th>        <th class=\"blank\" ></th>    </tr></thead><tbody>\n",
       "                <tr>\n",
       "                        <th id=\"T_d3d5c_level0_row0\" class=\"row_heading level0 row0\" >«0+» - для любой зрительской аудитории</th>\n",
       "                        <td id=\"T_d3d5c_row0_col0\" class=\"data row0 col0\" >253745752</td>\n",
       "                        <td id=\"T_d3d5c_row0_col1\" class=\"data row0 col1\" >228520000</td>\n",
       "                        <td id=\"T_d3d5c_row0_col2\" class=\"data row0 col2\" >45000000</td>\n",
       "            </tr>\n",
       "            <tr>\n",
       "                        <th id=\"T_d3d5c_level0_row1\" class=\"row_heading level0 row1\" >«12+» - для детей старше 12 лет</th>\n",
       "                        <td id=\"T_d3d5c_row1_col0\" class=\"data row1 col0\" >-5996259373</td>\n",
       "                        <td id=\"T_d3d5c_row1_col1\" class=\"data row1 col1\" >6231894165</td>\n",
       "                        <td id=\"T_d3d5c_row1_col2\" class=\"data row1 col2\" >1567500000</td>\n",
       "            </tr>\n",
       "            <tr>\n",
       "                        <th id=\"T_d3d5c_level0_row2\" class=\"row_heading level0 row2\" >«16+» - для детей старше 16 лет</th>\n",
       "                        <td id=\"T_d3d5c_row2_col0\" class=\"data row2 col0\" >3587579224</td>\n",
       "                        <td id=\"T_d3d5c_row2_col1\" class=\"data row2 col1\" >4733900200</td>\n",
       "                        <td id=\"T_d3d5c_row2_col2\" class=\"data row2 col2\" >835153119</td>\n",
       "            </tr>\n",
       "            <tr>\n",
       "                        <th id=\"T_d3d5c_level0_row3\" class=\"row_heading level0 row3\" >«18+» - запрещено для детей</th>\n",
       "                        <td id=\"T_d3d5c_row3_col0\" class=\"data row3 col0\" >1690678425</td>\n",
       "                        <td id=\"T_d3d5c_row3_col1\" class=\"data row3 col1\" >980000000</td>\n",
       "                        <td id=\"T_d3d5c_row3_col2\" class=\"data row3 col2\" >32346881</td>\n",
       "            </tr>\n",
       "            <tr>\n",
       "                        <th id=\"T_d3d5c_level0_row4\" class=\"row_heading level0 row4\" >«6+» - для детей старше 6 лет</th>\n",
       "                        <td id=\"T_d3d5c_row4_col0\" class=\"data row4 col0\" >-1063085445</td>\n",
       "                        <td id=\"T_d3d5c_row4_col1\" class=\"data row4 col1\" >4087373947</td>\n",
       "                        <td id=\"T_d3d5c_row4_col2\" class=\"data row4 col2\" >1459000000</td>\n",
       "            </tr>\n",
       "    </tbody></table>"
      ],
      "text/plain": [
       "<pandas.io.formats.style.Styler at 0x7f16ac4ed8b0>"
      ]
     },
     "metadata": {},
     "output_type": "display_data"
    }
   ],
   "source": [
    "budg_box_off_age_rest = combined_data.pivot_table(\n",
    "    index = 'age_restriction',\n",
    "    values = ['budg_box_off', 'nonrefundable_support', 'refundable_support'],\n",
    "    aggfunc = 'sum').round()\n",
    "display(pd.DataFrame(budg_box_off_age_rest).style.format('{:.0f}').background_gradient('coolwarm'))"
   ]
  },
  {
   "cell_type": "code",
   "execution_count": 175,
   "metadata": {},
   "outputs": [
    {
     "data": {
      "text/html": [
       "<style  type=\"text/css\" >\n",
       "#T_c3a41_row0_col0,#T_c3a41_row0_col1,#T_c3a41_row0_col2,#T_c3a41_row0_col3,#T_c3a41_row0_col5,#T_c3a41_row1_col0,#T_c3a41_row1_col1,#T_c3a41_row1_col2,#T_c3a41_row1_col4,#T_c3a41_row1_col6,#T_c3a41_row1_col8,#T_c3a41_row1_col9,#T_c3a41_row2_col0,#T_c3a41_row2_col1,#T_c3a41_row2_col2,#T_c3a41_row3_col0,#T_c3a41_row3_col1,#T_c3a41_row3_col2,#T_c3a41_row3_col3,#T_c3a41_row4_col0,#T_c3a41_row4_col1,#T_c3a41_row4_col2,#T_c3a41_row4_col3,#T_c3a41_row4_col7{\n",
       "            background-color:  #3b4cc0;\n",
       "            color:  #f1f1f1;\n",
       "        }#T_c3a41_row0_col4{\n",
       "            background-color:  #9ebeff;\n",
       "            color:  #000000;\n",
       "        }#T_c3a41_row0_col6{\n",
       "            background-color:  #7093f3;\n",
       "            color:  #000000;\n",
       "        }#T_c3a41_row0_col7{\n",
       "            background-color:  #da5a49;\n",
       "            color:  #000000;\n",
       "        }#T_c3a41_row0_col8{\n",
       "            background-color:  #e97a5f;\n",
       "            color:  #000000;\n",
       "        }#T_c3a41_row0_col9{\n",
       "            background-color:  #d2dbe8;\n",
       "            color:  #000000;\n",
       "        }#T_c3a41_row1_col3,#T_c3a41_row2_col5,#T_c3a41_row2_col6,#T_c3a41_row2_col7,#T_c3a41_row3_col4,#T_c3a41_row3_col8,#T_c3a41_row4_col9{\n",
       "            background-color:  #b40426;\n",
       "            color:  #f1f1f1;\n",
       "        }#T_c3a41_row1_col5{\n",
       "            background-color:  #97b8ff;\n",
       "            color:  #000000;\n",
       "        }#T_c3a41_row1_col7,#T_c3a41_row3_col9{\n",
       "            background-color:  #e7d7ce;\n",
       "            color:  #000000;\n",
       "        }#T_c3a41_row2_col3{\n",
       "            background-color:  #dedcdb;\n",
       "            color:  #000000;\n",
       "        }#T_c3a41_row2_col4{\n",
       "            background-color:  #e36c55;\n",
       "            color:  #000000;\n",
       "        }#T_c3a41_row2_col8{\n",
       "            background-color:  #ebd3c6;\n",
       "            color:  #000000;\n",
       "        }#T_c3a41_row2_col9{\n",
       "            background-color:  #e26952;\n",
       "            color:  #000000;\n",
       "        }#T_c3a41_row3_col5{\n",
       "            background-color:  #85a8fc;\n",
       "            color:  #000000;\n",
       "        }#T_c3a41_row3_col6{\n",
       "            background-color:  #96b7ff;\n",
       "            color:  #000000;\n",
       "        }#T_c3a41_row3_col7{\n",
       "            background-color:  #de614d;\n",
       "            color:  #000000;\n",
       "        }#T_c3a41_row4_col4{\n",
       "            background-color:  #7597f6;\n",
       "            color:  #000000;\n",
       "        }#T_c3a41_row4_col5{\n",
       "            background-color:  #7ea1fa;\n",
       "            color:  #000000;\n",
       "        }#T_c3a41_row4_col6{\n",
       "            background-color:  #5e7de7;\n",
       "            color:  #000000;\n",
       "        }#T_c3a41_row4_col8{\n",
       "            background-color:  #f39778;\n",
       "            color:  #000000;\n",
       "        }</style><table id=\"T_c3a41_\" ><thead>    <tr>        <th class=\"index_name level0\" >rental_year</th>        <th class=\"col_heading level0 col0\" >2010</th>        <th class=\"col_heading level0 col1\" >2011</th>        <th class=\"col_heading level0 col2\" >2012</th>        <th class=\"col_heading level0 col3\" >2013</th>        <th class=\"col_heading level0 col4\" >2014</th>        <th class=\"col_heading level0 col5\" >2015</th>        <th class=\"col_heading level0 col6\" >2016</th>        <th class=\"col_heading level0 col7\" >2017</th>        <th class=\"col_heading level0 col8\" >2018</th>        <th class=\"col_heading level0 col9\" >2019</th>    </tr>    <tr>        <th class=\"index_name level0\" >age_restriction</th>        <th class=\"blank\" ></th>        <th class=\"blank\" ></th>        <th class=\"blank\" ></th>        <th class=\"blank\" ></th>        <th class=\"blank\" ></th>        <th class=\"blank\" ></th>        <th class=\"blank\" ></th>        <th class=\"blank\" ></th>        <th class=\"blank\" ></th>        <th class=\"blank\" ></th>    </tr></thead><tbody>\n",
       "                <tr>\n",
       "                        <th id=\"T_c3a41_level0_row0\" class=\"row_heading level0 row0\" >«0+» - для любой зрительской аудитории</th>\n",
       "                        <td id=\"T_c3a41_row0_col0\" class=\"data row0 col0\" >0</td>\n",
       "                        <td id=\"T_c3a41_row0_col1\" class=\"data row0 col1\" >0</td>\n",
       "                        <td id=\"T_c3a41_row0_col2\" class=\"data row0 col2\" >0</td>\n",
       "                        <td id=\"T_c3a41_row0_col3\" class=\"data row0 col3\" >0</td>\n",
       "                        <td id=\"T_c3a41_row0_col4\" class=\"data row0 col4\" >-3125086</td>\n",
       "                        <td id=\"T_c3a41_row0_col5\" class=\"data row0 col5\" >49219456</td>\n",
       "                        <td id=\"T_c3a41_row0_col6\" class=\"data row0 col6\" >69224179</td>\n",
       "                        <td id=\"T_c3a41_row0_col7\" class=\"data row0 col7\" >138427203</td>\n",
       "                        <td id=\"T_c3a41_row0_col8\" class=\"data row0 col8\" >0</td>\n",
       "                        <td id=\"T_c3a41_row0_col9\" class=\"data row0 col9\" >0</td>\n",
       "            </tr>\n",
       "            <tr>\n",
       "                        <th id=\"T_c3a41_level0_row1\" class=\"row_heading level0 row1\" >«12+» - для детей старше 12 лет</th>\n",
       "                        <td id=\"T_c3a41_row1_col0\" class=\"data row1 col0\" >0</td>\n",
       "                        <td id=\"T_c3a41_row1_col1\" class=\"data row1 col1\" >0</td>\n",
       "                        <td id=\"T_c3a41_row1_col2\" class=\"data row1 col2\" >0</td>\n",
       "                        <td id=\"T_c3a41_row1_col3\" class=\"data row1 col3\" >156066458</td>\n",
       "                        <td id=\"T_c3a41_row1_col4\" class=\"data row1 col4\" >-101375802</td>\n",
       "                        <td id=\"T_c3a41_row1_col5\" class=\"data row1 col5\" >250552621</td>\n",
       "                        <td id=\"T_c3a41_row1_col6\" class=\"data row1 col6\" >-117238594</td>\n",
       "                        <td id=\"T_c3a41_row1_col7\" class=\"data row1 col7\" >-1296496887</td>\n",
       "                        <td id=\"T_c3a41_row1_col8\" class=\"data row1 col8\" >-2760474396</td>\n",
       "                        <td id=\"T_c3a41_row1_col9\" class=\"data row1 col9\" >-2127292773</td>\n",
       "            </tr>\n",
       "            <tr>\n",
       "                        <th id=\"T_c3a41_level0_row2\" class=\"row_heading level0 row2\" >«16+» - для детей старше 16 лет</th>\n",
       "                        <td id=\"T_c3a41_row2_col0\" class=\"data row2 col0\" >0</td>\n",
       "                        <td id=\"T_c3a41_row2_col1\" class=\"data row2 col1\" >0</td>\n",
       "                        <td id=\"T_c3a41_row2_col2\" class=\"data row2 col2\" >0</td>\n",
       "                        <td id=\"T_c3a41_row2_col3\" class=\"data row2 col3\" >79046546</td>\n",
       "                        <td id=\"T_c3a41_row2_col4\" class=\"data row2 col4\" >178947326</td>\n",
       "                        <td id=\"T_c3a41_row2_col5\" class=\"data row2 col5\" >770227138</td>\n",
       "                        <td id=\"T_c3a41_row2_col6\" class=\"data row2 col6\" >981872559</td>\n",
       "                        <td id=\"T_c3a41_row2_col7\" class=\"data row2 col7\" >607636217</td>\n",
       "                        <td id=\"T_c3a41_row2_col8\" class=\"data row2 col8\" >-885256568</td>\n",
       "                        <td id=\"T_c3a41_row2_col9\" class=\"data row2 col9\" >1855106006</td>\n",
       "            </tr>\n",
       "            <tr>\n",
       "                        <th id=\"T_c3a41_level0_row3\" class=\"row_heading level0 row3\" >«18+» - запрещено для детей</th>\n",
       "                        <td id=\"T_c3a41_row3_col0\" class=\"data row3 col0\" >0</td>\n",
       "                        <td id=\"T_c3a41_row3_col1\" class=\"data row3 col1\" >0</td>\n",
       "                        <td id=\"T_c3a41_row3_col2\" class=\"data row3 col2\" >0</td>\n",
       "                        <td id=\"T_c3a41_row3_col3\" class=\"data row3 col3\" >0</td>\n",
       "                        <td id=\"T_c3a41_row3_col4\" class=\"data row3 col4\" >228841812</td>\n",
       "                        <td id=\"T_c3a41_row3_col5\" class=\"data row3 col5\" >212618439</td>\n",
       "                        <td id=\"T_c3a41_row3_col6\" class=\"data row3 col6\" >185882848</td>\n",
       "                        <td id=\"T_c3a41_row3_col7\" class=\"data row3 col7\" >83280047</td>\n",
       "                        <td id=\"T_c3a41_row3_col8\" class=\"data row3 col8\" >589378128</td>\n",
       "                        <td id=\"T_c3a41_row3_col9\" class=\"data row3 col9\" >390677151</td>\n",
       "            </tr>\n",
       "            <tr>\n",
       "                        <th id=\"T_c3a41_level0_row4\" class=\"row_heading level0 row4\" >«6+» - для детей старше 6 лет</th>\n",
       "                        <td id=\"T_c3a41_row4_col0\" class=\"data row4 col0\" >nan</td>\n",
       "                        <td id=\"T_c3a41_row4_col1\" class=\"data row4 col1\" >0</td>\n",
       "                        <td id=\"T_c3a41_row4_col2\" class=\"data row4 col2\" >0</td>\n",
       "                        <td id=\"T_c3a41_row4_col3\" class=\"data row4 col3\" >0</td>\n",
       "                        <td id=\"T_c3a41_row4_col4\" class=\"data row4 col4\" >-41225634</td>\n",
       "                        <td id=\"T_c3a41_row4_col5\" class=\"data row4 col5\" >199767151</td>\n",
       "                        <td id=\"T_c3a41_row4_col6\" class=\"data row4 col6\" >8787836</td>\n",
       "                        <td id=\"T_c3a41_row4_col7\" class=\"data row4 col7\" >-3531349313</td>\n",
       "                        <td id=\"T_c3a41_row4_col8\" class=\"data row4 col8\" >-226021540</td>\n",
       "                        <td id=\"T_c3a41_row4_col9\" class=\"data row4 col9\" >2526956054</td>\n",
       "            </tr>\n",
       "    </tbody></table>"
      ],
      "text/plain": [
       "<pandas.io.formats.style.Styler at 0x7f16a788bca0>"
      ]
     },
     "metadata": {},
     "output_type": "display_data"
    }
   ],
   "source": [
    "budg_box_off_age_rest_year = combined_data.pivot_table(\n",
    "    index = 'age_restriction',\n",
    "    columns = 'rental_year',\n",
    "    values = 'budg_box_off',\n",
    "    aggfunc = 'sum').round()\n",
    "display(pd.DataFrame(budg_box_off_age_rest_year).style.format('{:.0f}').background_gradient('coolwarm'))"
   ]
  },
  {
   "cell_type": "markdown",
   "metadata": {},
   "source": [
    "Если рассмотреть окупаемость по категориям в разрезе годов, то видим что больше всего средств выделялось на категорию 12+, при этом почти все года категория была прибыльной(сумма сборов привышала сумму бюджета фильма). При этом наиболее убыточной в период с 2015 по 2017 является категория 16+. В 2018 категория принесла доход, а в 2019 снова убыток. А вот в 2019 году наибольший убыток принесла категория 6+.\n"
   ]
  },
  {
   "cell_type": "code",
   "execution_count": 176,
   "metadata": {},
   "outputs": [
    {
     "data": {
      "text/plain": [
       "-1527341417.0"
      ]
     },
     "execution_count": 176,
     "metadata": {},
     "output_type": "execute_result"
    }
   ],
   "source": [
    "combined_data['budg_box_off'].sum().round()"
   ]
  },
  {
   "cell_type": "markdown",
   "metadata": {},
   "source": [
    "В случае если взять сумму по столцу, в котором мы посчитали прибыль или убыток несет фильм, имеем прибыльный результат в целом."
   ]
  },
  {
   "cell_type": "code",
   "execution_count": 177,
   "metadata": {},
   "outputs": [
    {
     "data": {
      "text/plain": [
       "profit_or_loss\n",
       "прибыль     83\n",
       "убыток     235\n",
       "Name: budg_box_off, dtype: int64"
      ]
     },
     "execution_count": 177,
     "metadata": {},
     "output_type": "execute_result"
    }
   ],
   "source": [
    "def profit_or_loss(prof):\n",
    "    if prof < 0:\n",
    "        return 'прибыль'\n",
    "    return 'убыток'\n",
    "combined_data['profit_or_loss'] = combined_data['budg_box_off'].apply(profit_or_loss)\n",
    "combined_data.groupby('profit_or_loss')['budg_box_off'].count()"
   ]
  },
  {
   "cell_type": "markdown",
   "metadata": {},
   "source": [
    "Чтобы удобнее было анализировать рейтирг фильмов с государтсвенной поддержкой, проведем сотртировку и собрем новую табличку."
   ]
  },
  {
   "cell_type": "code",
   "execution_count": 178,
   "metadata": {},
   "outputs": [
    {
     "name": "stdout",
     "output_type": "stream",
     "text": [
      "<class 'pandas.core.frame.DataFrame'>\n",
      "Int64Index: 332 entries, 1281 to 7478\n",
      "Data columns (total 22 columns):\n",
      " #   Column                 Non-Null Count  Dtype              \n",
      "---  ------                 --------------  -----              \n",
      " 0   title                  332 non-null    object             \n",
      " 1   pu_number              332 non-null    int64              \n",
      " 2   show_start_date        332 non-null    datetime64[ns, UTC]\n",
      " 3   type                   332 non-null    object             \n",
      " 4   film_studio            332 non-null    object             \n",
      " 5   production_country     332 non-null    object             \n",
      " 6   director               332 non-null    object             \n",
      " 7   producer               332 non-null    object             \n",
      " 8   age_restriction        332 non-null    object             \n",
      " 9   refundable_support     332 non-null    float64            \n",
      " 10  nonrefundable_support  332 non-null    float64            \n",
      " 11  budget                 332 non-null    float64            \n",
      " 12  financing_source       332 non-null    object             \n",
      " 13  ratings                332 non-null    float64            \n",
      " 14  genres                 332 non-null    object             \n",
      " 15  box_office             318 non-null    float64            \n",
      " 16  rental_year            332 non-null    int64              \n",
      " 17  director_name          332 non-null    object             \n",
      " 18  main_genre             332 non-null    object             \n",
      " 19  state_support          332 non-null    float64            \n",
      " 20  budg_box_off           318 non-null    float64            \n",
      " 21  profit_or_loss         332 non-null    object             \n",
      "dtypes: datetime64[ns, UTC](1), float64(7), int64(2), object(12)\n",
      "memory usage: 59.7+ KB\n"
     ]
    }
   ],
   "source": [
    "for_analisys_rate = combined_data.loc[combined_data['budget'] >= 0]\n",
    "for_analisys_rate.info()"
   ]
  },
  {
   "cell_type": "code",
   "execution_count": 179,
   "metadata": {},
   "outputs": [
    {
     "data": {
      "text/plain": [
       "count    332.000000\n",
       "mean       5.730723\n",
       "std        1.710008\n",
       "min        0.000000\n",
       "25%        5.200000\n",
       "50%        6.100000\n",
       "75%        6.700000\n",
       "max        9.400000\n",
       "Name: ratings, dtype: float64"
      ]
     },
     "execution_count": 179,
     "metadata": {},
     "output_type": "execute_result"
    }
   ],
   "source": [
    "for_analisys_rate['ratings'].describe()"
   ]
  },
  {
   "cell_type": "code",
   "execution_count": 180,
   "metadata": {},
   "outputs": [
    {
     "data": {
      "text/html": [
       "<style  type=\"text/css\" >\n",
       "#T_53aa3_row0_col0,#T_53aa3_row0_col1,#T_53aa3_row2_col2{\n",
       "            background-color:  #3b4cc0;\n",
       "            color:  #f1f1f1;\n",
       "        }#T_53aa3_row0_col2,#T_53aa3_row2_col0,#T_53aa3_row3_col1{\n",
       "            background-color:  #b40426;\n",
       "            color:  #f1f1f1;\n",
       "        }#T_53aa3_row1_col0{\n",
       "            background-color:  #e67259;\n",
       "            color:  #000000;\n",
       "        }#T_53aa3_row1_col1{\n",
       "            background-color:  #6c8ff1;\n",
       "            color:  #000000;\n",
       "        }#T_53aa3_row1_col2,#T_53aa3_row4_col2{\n",
       "            background-color:  #6f92f3;\n",
       "            color:  #000000;\n",
       "        }#T_53aa3_row2_col1{\n",
       "            background-color:  #f6a283;\n",
       "            color:  #000000;\n",
       "        }#T_53aa3_row3_col0{\n",
       "            background-color:  #7093f3;\n",
       "            color:  #000000;\n",
       "        }#T_53aa3_row3_col2{\n",
       "            background-color:  #dddcdc;\n",
       "            color:  #000000;\n",
       "        }#T_53aa3_row4_col0{\n",
       "            background-color:  #d9dce1;\n",
       "            color:  #000000;\n",
       "        }#T_53aa3_row4_col1{\n",
       "            background-color:  #e46e56;\n",
       "            color:  #000000;\n",
       "        }</style><table id=\"T_53aa3_\" ><thead>    <tr>        <th class=\"blank level0\" ></th>        <th class=\"col_heading level0 col0\" >count</th>        <th class=\"col_heading level0 col1\" >mean</th>        <th class=\"col_heading level0 col2\" >median</th>    </tr>    <tr>        <th class=\"index_name level0\" >age_restriction</th>        <th class=\"blank\" ></th>        <th class=\"blank\" ></th>        <th class=\"blank\" ></th>    </tr></thead><tbody>\n",
       "                <tr>\n",
       "                        <th id=\"T_53aa3_level0_row0\" class=\"row_heading level0 row0\" >«0+» - для любой зрительской аудитории</th>\n",
       "                        <td id=\"T_53aa3_row0_col0\" class=\"data row0 col0\" >8.0</td>\n",
       "                        <td id=\"T_53aa3_row0_col1\" class=\"data row0 col1\" >5.6</td>\n",
       "                        <td id=\"T_53aa3_row0_col2\" class=\"data row0 col2\" >6.6</td>\n",
       "            </tr>\n",
       "            <tr>\n",
       "                        <th id=\"T_53aa3_level0_row1\" class=\"row_heading level0 row1\" >«12+» - для детей старше 12 лет</th>\n",
       "                        <td id=\"T_53aa3_row1_col0\" class=\"data row1 col0\" >106.0</td>\n",
       "                        <td id=\"T_53aa3_row1_col1\" class=\"data row1 col1\" >5.6</td>\n",
       "                        <td id=\"T_53aa3_row1_col2\" class=\"data row1 col2\" >6.1</td>\n",
       "            </tr>\n",
       "            <tr>\n",
       "                        <th id=\"T_53aa3_level0_row2\" class=\"row_heading level0 row2\" >«16+» - для детей старше 16 лет</th>\n",
       "                        <td id=\"T_53aa3_row2_col0\" class=\"data row2 col0\" >125.0</td>\n",
       "                        <td id=\"T_53aa3_row2_col1\" class=\"data row2 col1\" >5.8</td>\n",
       "                        <td id=\"T_53aa3_row2_col2\" class=\"data row2 col2\" >6.0</td>\n",
       "            </tr>\n",
       "            <tr>\n",
       "                        <th id=\"T_53aa3_level0_row3\" class=\"row_heading level0 row3\" >«18+» - запрещено для детей</th>\n",
       "                        <td id=\"T_53aa3_row3_col0\" class=\"data row3 col0\" >28.0</td>\n",
       "                        <td id=\"T_53aa3_row3_col1\" class=\"data row3 col1\" >5.8</td>\n",
       "                        <td id=\"T_53aa3_row3_col2\" class=\"data row3 col2\" >6.3</td>\n",
       "            </tr>\n",
       "            <tr>\n",
       "                        <th id=\"T_53aa3_level0_row4\" class=\"row_heading level0 row4\" >«6+» - для детей старше 6 лет</th>\n",
       "                        <td id=\"T_53aa3_row4_col0\" class=\"data row4 col0\" >65.0</td>\n",
       "                        <td id=\"T_53aa3_row4_col1\" class=\"data row4 col1\" >5.8</td>\n",
       "                        <td id=\"T_53aa3_row4_col2\" class=\"data row4 col2\" >6.1</td>\n",
       "            </tr>\n",
       "    </tbody></table>"
      ],
      "text/plain": [
       "<pandas.io.formats.style.Styler at 0x7f16ac4b5760>"
      ]
     },
     "metadata": {},
     "output_type": "display_data"
    }
   ],
   "source": [
    "mean_median_rate = for_analisys_rate.pivot_table(\n",
    "    index = 'age_restriction',\n",
    "    values = 'ratings',\n",
    "    aggfunc = ['count','mean','median'])\n",
    "mean_median_rate.columns = ['count','mean', 'median']\n",
    "display(pd.DataFrame(mean_median_rate).style.format('{:.1f}').background_gradient('coolwarm'))"
   ]
  },
  {
   "cell_type": "markdown",
   "metadata": {},
   "source": [
    "Если сгруппировать данные по возрастной категории и посмотреть среднее значение и медиану видим что значение средней оценки не поднимается выше 5.8. А медианы 6.6."
   ]
  },
  {
   "cell_type": "code",
   "execution_count": 181,
   "metadata": {
    "scrolled": true
   },
   "outputs": [
    {
     "data": {
      "text/html": [
       "<style  type=\"text/css\" >\n",
       "#T_60a70_row0_col0,#T_60a70_row0_col5,#T_60a70_row3_col0,#T_60a70_row4_col0{\n",
       "            background-color:  #000000;\n",
       "            color:  #f1f1f1;\n",
       "        }#T_60a70_row0_col1,#T_60a70_row3_col6{\n",
       "            background-color:  #5875e1;\n",
       "            color:  #000000;\n",
       "        }#T_60a70_row0_col2,#T_60a70_row0_col4,#T_60a70_row0_col6,#T_60a70_row2_col0,#T_60a70_row2_col3,#T_60a70_row3_col1,#T_60a70_row3_col5{\n",
       "            background-color:  #b40426;\n",
       "            color:  #f1f1f1;\n",
       "        }#T_60a70_row0_col3,#T_60a70_row1_col0,#T_60a70_row1_col1,#T_60a70_row1_col6,#T_60a70_row3_col2,#T_60a70_row3_col4,#T_60a70_row4_col1,#T_60a70_row4_col5{\n",
       "            background-color:  #3b4cc0;\n",
       "            color:  #f1f1f1;\n",
       "        }#T_60a70_row1_col2{\n",
       "            background-color:  #e67259;\n",
       "            color:  #000000;\n",
       "        }#T_60a70_row1_col3{\n",
       "            background-color:  #f29274;\n",
       "            color:  #000000;\n",
       "        }#T_60a70_row1_col4{\n",
       "            background-color:  #eed0c0;\n",
       "            color:  #000000;\n",
       "        }#T_60a70_row1_col5{\n",
       "            background-color:  #7da0f9;\n",
       "            color:  #000000;\n",
       "        }#T_60a70_row2_col1{\n",
       "            background-color:  #f7b093;\n",
       "            color:  #000000;\n",
       "        }#T_60a70_row2_col2{\n",
       "            background-color:  #d7dce3;\n",
       "            color:  #000000;\n",
       "        }#T_60a70_row2_col4{\n",
       "            background-color:  #a3c2fe;\n",
       "            color:  #000000;\n",
       "        }#T_60a70_row2_col5{\n",
       "            background-color:  #edd1c2;\n",
       "            color:  #000000;\n",
       "        }#T_60a70_row2_col6{\n",
       "            background-color:  #465ecf;\n",
       "            color:  #f1f1f1;\n",
       "        }#T_60a70_row3_col3{\n",
       "            background-color:  #b8122a;\n",
       "            color:  #f1f1f1;\n",
       "        }#T_60a70_row4_col2{\n",
       "            background-color:  #ebd3c6;\n",
       "            color:  #000000;\n",
       "        }#T_60a70_row4_col3{\n",
       "            background-color:  #f7ad90;\n",
       "            color:  #000000;\n",
       "        }#T_60a70_row4_col4{\n",
       "            background-color:  #f7ba9f;\n",
       "            color:  #000000;\n",
       "        }#T_60a70_row4_col6{\n",
       "            background-color:  #c1d4f4;\n",
       "            color:  #000000;\n",
       "        }</style><table id=\"T_60a70_\" ><thead>    <tr>        <th class=\"index_name level0\" >rental_year</th>        <th class=\"col_heading level0 col0\" >2013</th>        <th class=\"col_heading level0 col1\" >2014</th>        <th class=\"col_heading level0 col2\" >2015</th>        <th class=\"col_heading level0 col3\" >2016</th>        <th class=\"col_heading level0 col4\" >2017</th>        <th class=\"col_heading level0 col5\" >2018</th>        <th class=\"col_heading level0 col6\" >2019</th>    </tr>    <tr>        <th class=\"index_name level0\" >age_restriction</th>        <th class=\"blank\" ></th>        <th class=\"blank\" ></th>        <th class=\"blank\" ></th>        <th class=\"blank\" ></th>        <th class=\"blank\" ></th>        <th class=\"blank\" ></th>        <th class=\"blank\" ></th>    </tr></thead><tbody>\n",
       "                <tr>\n",
       "                        <th id=\"T_60a70_level0_row0\" class=\"row_heading level0 row0\" >«0+» - для любой зрительской аудитории</th>\n",
       "                        <td id=\"T_60a70_row0_col0\" class=\"data row0 col0\" >nan</td>\n",
       "                        <td id=\"T_60a70_row0_col1\" class=\"data row0 col1\" >5.2</td>\n",
       "                        <td id=\"T_60a70_row0_col2\" class=\"data row0 col2\" >6.7</td>\n",
       "                        <td id=\"T_60a70_row0_col3\" class=\"data row0 col3\" >3.5</td>\n",
       "                        <td id=\"T_60a70_row0_col4\" class=\"data row0 col4\" >6.5</td>\n",
       "                        <td id=\"T_60a70_row0_col5\" class=\"data row0 col5\" >nan</td>\n",
       "                        <td id=\"T_60a70_row0_col6\" class=\"data row0 col6\" >8.0</td>\n",
       "            </tr>\n",
       "            <tr>\n",
       "                        <th id=\"T_60a70_level0_row1\" class=\"row_heading level0 row1\" >«12+» - для детей старше 12 лет</th>\n",
       "                        <td id=\"T_60a70_row1_col0\" class=\"data row1 col0\" >5.3</td>\n",
       "                        <td id=\"T_60a70_row1_col1\" class=\"data row1 col1\" >5.0</td>\n",
       "                        <td id=\"T_60a70_row1_col2\" class=\"data row1 col2\" >6.4</td>\n",
       "                        <td id=\"T_60a70_row1_col3\" class=\"data row1 col3\" >5.2</td>\n",
       "                        <td id=\"T_60a70_row1_col4\" class=\"data row1 col4\" >5.8</td>\n",
       "                        <td id=\"T_60a70_row1_col5\" class=\"data row1 col5\" >5.3</td>\n",
       "                        <td id=\"T_60a70_row1_col6\" class=\"data row1 col6\" >5.6</td>\n",
       "            </tr>\n",
       "            <tr>\n",
       "                        <th id=\"T_60a70_level0_row2\" class=\"row_heading level0 row2\" >«16+» - для детей старше 16 лет</th>\n",
       "                        <td id=\"T_60a70_row2_col0\" class=\"data row2 col0\" >8.1</td>\n",
       "                        <td id=\"T_60a70_row2_col1\" class=\"data row2 col1\" >6.1</td>\n",
       "                        <td id=\"T_60a70_row2_col2\" class=\"data row2 col2\" >5.8</td>\n",
       "                        <td id=\"T_60a70_row2_col3\" class=\"data row2 col3\" >5.7</td>\n",
       "                        <td id=\"T_60a70_row2_col4\" class=\"data row2 col4\" >5.5</td>\n",
       "                        <td id=\"T_60a70_row2_col5\" class=\"data row2 col5\" >5.9</td>\n",
       "                        <td id=\"T_60a70_row2_col6\" class=\"data row2 col6\" >5.7</td>\n",
       "            </tr>\n",
       "            <tr>\n",
       "                        <th id=\"T_60a70_level0_row3\" class=\"row_heading level0 row3\" >«18+» - запрещено для детей</th>\n",
       "                        <td id=\"T_60a70_row3_col0\" class=\"data row3 col0\" >nan</td>\n",
       "                        <td id=\"T_60a70_row3_col1\" class=\"data row3 col1\" >6.6</td>\n",
       "                        <td id=\"T_60a70_row3_col2\" class=\"data row3 col2\" >4.9</td>\n",
       "                        <td id=\"T_60a70_row3_col3\" class=\"data row3 col3\" >5.7</td>\n",
       "                        <td id=\"T_60a70_row3_col4\" class=\"data row3 col4\" >5.0</td>\n",
       "                        <td id=\"T_60a70_row3_col5\" class=\"data row3 col5\" >6.6</td>\n",
       "                        <td id=\"T_60a70_row3_col6\" class=\"data row3 col6\" >5.8</td>\n",
       "            </tr>\n",
       "            <tr>\n",
       "                        <th id=\"T_60a70_level0_row4\" class=\"row_heading level0 row4\" >«6+» - для детей старше 6 лет</th>\n",
       "                        <td id=\"T_60a70_row4_col0\" class=\"data row4 col0\" >nan</td>\n",
       "                        <td id=\"T_60a70_row4_col1\" class=\"data row4 col1\" >5.0</td>\n",
       "                        <td id=\"T_60a70_row4_col2\" class=\"data row4 col2\" >5.9</td>\n",
       "                        <td id=\"T_60a70_row4_col3\" class=\"data row4 col3\" >5.0</td>\n",
       "                        <td id=\"T_60a70_row4_col4\" class=\"data row4 col4\" >6.0</td>\n",
       "                        <td id=\"T_60a70_row4_col5\" class=\"data row4 col5\" >5.0</td>\n",
       "                        <td id=\"T_60a70_row4_col6\" class=\"data row4 col6\" >6.6</td>\n",
       "            </tr>\n",
       "    </tbody></table>"
      ],
      "text/plain": [
       "<pandas.io.formats.style.Styler at 0x7f16ac4b1dc0>"
      ]
     },
     "metadata": {},
     "output_type": "display_data"
    }
   ],
   "source": [
    "mean_median_rate = for_analisys_rate.pivot_table(\n",
    "    index = 'age_restriction',\n",
    "    columns = 'rental_year',\n",
    "    values = 'ratings',\n",
    "    aggfunc = 'mean')\n",
    "display(pd.DataFrame(mean_median_rate).style.format('{:.1f}').background_gradient('coolwarm'))"
   ]
  },
  {
   "cell_type": "markdown",
   "metadata": {},
   "source": [
    "После группировки рейтинга фильмов на три группы(низкая, средняя и высокая) видим по сути тот же результат, что наибольшее количество фильмов получает оценку от 4 до 7.5"
   ]
  },
  {
   "cell_type": "code",
   "execution_count": 182,
   "metadata": {},
   "outputs": [
    {
     "data": {
      "text/html": [
       "<style  type=\"text/css\" >\n",
       "#T_add9d_row0_col0,#T_add9d_row38_col1{\n",
       "            background-color:  #b40426;\n",
       "            color:  #f1f1f1;\n",
       "        }#T_add9d_row0_col1,#T_add9d_row2_col1,#T_add9d_row14_col1,#T_add9d_row29_col1{\n",
       "            background-color:  #ead4c8;\n",
       "            color:  #000000;\n",
       "        }#T_add9d_row1_col0{\n",
       "            background-color:  #e8765c;\n",
       "            color:  #000000;\n",
       "        }#T_add9d_row1_col1{\n",
       "            background-color:  #f7b89c;\n",
       "            color:  #000000;\n",
       "        }#T_add9d_row2_col0,#T_add9d_row3_col0{\n",
       "            background-color:  #f3c7b1;\n",
       "            color:  #000000;\n",
       "        }#T_add9d_row3_col1,#T_add9d_row11_col1,#T_add9d_row13_col1,#T_add9d_row15_col1,#T_add9d_row17_col1,#T_add9d_row23_col1,#T_add9d_row25_col1,#T_add9d_row28_col1,#T_add9d_row33_col1,#T_add9d_row37_col1,#T_add9d_row39_col1,#T_add9d_row42_col1,#T_add9d_row44_col1,#T_add9d_row47_col1,#T_add9d_row49_col1,#T_add9d_row51_col1,#T_add9d_row52_col1,#T_add9d_row53_col1,#T_add9d_row56_col1,#T_add9d_row58_col1,#T_add9d_row59_col1,#T_add9d_row60_col1,#T_add9d_row61_col1,#T_add9d_row63_col1,#T_add9d_row64_col1,#T_add9d_row65_col1,#T_add9d_row68_col1,#T_add9d_row69_col1,#T_add9d_row70_col1,#T_add9d_row71_col1,#T_add9d_row72_col1,#T_add9d_row74_col1,#T_add9d_row75_col1,#T_add9d_row76_col1,#T_add9d_row77_col1,#T_add9d_row78_col1,#T_add9d_row80_col1,#T_add9d_row81_col1,#T_add9d_row82_col1,#T_add9d_row83_col1,#T_add9d_row84_col1,#T_add9d_row87_col1,#T_add9d_row89_col1,#T_add9d_row90_col1,#T_add9d_row91_col1,#T_add9d_row92_col1,#T_add9d_row95_col1,#T_add9d_row97_col1,#T_add9d_row98_col1,#T_add9d_row99_col1,#T_add9d_row102_col1,#T_add9d_row106_col1,#T_add9d_row107_col1,#T_add9d_row110_col1,#T_add9d_row111_col1,#T_add9d_row112_col1,#T_add9d_row115_col1,#T_add9d_row116_col1,#T_add9d_row117_col1,#T_add9d_row118_col1,#T_add9d_row119_col1,#T_add9d_row121_col1,#T_add9d_row123_col1,#T_add9d_row124_col1,#T_add9d_row127_col1,#T_add9d_row128_col1,#T_add9d_row129_col1,#T_add9d_row131_col1,#T_add9d_row132_col1,#T_add9d_row133_col1,#T_add9d_row134_col1,#T_add9d_row136_col1,#T_add9d_row137_col1,#T_add9d_row138_col1,#T_add9d_row139_col1,#T_add9d_row140_col1,#T_add9d_row142_col1,#T_add9d_row143_col1,#T_add9d_row145_col1,#T_add9d_row147_col1,#T_add9d_row148_col1,#T_add9d_row150_col1,#T_add9d_row151_col1,#T_add9d_row152_col1,#T_add9d_row153_col1,#T_add9d_row154_col1,#T_add9d_row155_col1,#T_add9d_row156_col1,#T_add9d_row157_col1,#T_add9d_row158_col1,#T_add9d_row159_col1,#T_add9d_row160_col1,#T_add9d_row162_col1,#T_add9d_row165_col1,#T_add9d_row167_col1,#T_add9d_row168_col1,#T_add9d_row169_col1,#T_add9d_row170_col1,#T_add9d_row171_col1,#T_add9d_row172_col1,#T_add9d_row173_col1,#T_add9d_row174_col1,#T_add9d_row175_col1,#T_add9d_row176_col1,#T_add9d_row178_col1,#T_add9d_row179_col1,#T_add9d_row180_col1,#T_add9d_row181_col1,#T_add9d_row182_col1,#T_add9d_row183_col1,#T_add9d_row184_col1,#T_add9d_row185_col1,#T_add9d_row186_col1,#T_add9d_row187_col1,#T_add9d_row188_col1,#T_add9d_row189_col1,#T_add9d_row190_col1,#T_add9d_row191_col1,#T_add9d_row192_col1,#T_add9d_row193_col1,#T_add9d_row195_col1,#T_add9d_row196_col1,#T_add9d_row197_col1,#T_add9d_row198_col1,#T_add9d_row199_col1,#T_add9d_row200_col1,#T_add9d_row201_col1,#T_add9d_row202_col1,#T_add9d_row203_col1,#T_add9d_row204_col1,#T_add9d_row205_col1,#T_add9d_row206_col1,#T_add9d_row207_col1,#T_add9d_row209_col1,#T_add9d_row210_col1,#T_add9d_row211_col1,#T_add9d_row212_col1,#T_add9d_row213_col1,#T_add9d_row214_col1,#T_add9d_row215_col1,#T_add9d_row216_col1,#T_add9d_row217_col1,#T_add9d_row219_col1,#T_add9d_row220_col1,#T_add9d_row221_col1,#T_add9d_row222_col1,#T_add9d_row223_col1,#T_add9d_row226_col1,#T_add9d_row227_col1,#T_add9d_row228_col1,#T_add9d_row229_col1,#T_add9d_row230_col1,#T_add9d_row232_col1,#T_add9d_row233_col1,#T_add9d_row234_col1,#T_add9d_row235_col1,#T_add9d_row237_col1,#T_add9d_row239_col1,#T_add9d_row240_col1,#T_add9d_row241_col1,#T_add9d_row247_col1,#T_add9d_row248_col1,#T_add9d_row249_col1,#T_add9d_row250_col1,#T_add9d_row253_col1,#T_add9d_row254_col1,#T_add9d_row255_col1,#T_add9d_row256_col1,#T_add9d_row257_col0,#T_add9d_row258_col0,#T_add9d_row259_col0,#T_add9d_row259_col1,#T_add9d_row260_col0,#T_add9d_row261_col0,#T_add9d_row261_col1,#T_add9d_row262_col0,#T_add9d_row262_col1{\n",
       "            background-color:  #3b4cc0;\n",
       "            color:  #f1f1f1;\n",
       "        }#T_add9d_row4_col0{\n",
       "            background-color:  #f2c9b4;\n",
       "            color:  #000000;\n",
       "        }#T_add9d_row4_col1,#T_add9d_row10_col1{\n",
       "            background-color:  #b3cdfb;\n",
       "            color:  #000000;\n",
       "        }#T_add9d_row5_col0{\n",
       "            background-color:  #f2cbb7;\n",
       "            color:  #000000;\n",
       "        }#T_add9d_row5_col1,#T_add9d_row260_col1{\n",
       "            background-color:  #97b8ff;\n",
       "            color:  #000000;\n",
       "        }#T_add9d_row6_col0{\n",
       "            background-color:  #d2dbe8;\n",
       "            color:  #000000;\n",
       "        }#T_add9d_row6_col1,#T_add9d_row18_col1{\n",
       "            background-color:  #e7745b;\n",
       "            color:  #000000;\n",
       "        }#T_add9d_row7_col0{\n",
       "            background-color:  #ccd9ed;\n",
       "            color:  #000000;\n",
       "        }#T_add9d_row7_col1,#T_add9d_row31_col1,#T_add9d_row50_col1,#T_add9d_row57_col1,#T_add9d_row101_col1,#T_add9d_row125_col1,#T_add9d_row141_col1,#T_add9d_row161_col1,#T_add9d_row208_col1,#T_add9d_row238_col1,#T_add9d_row252_col1{\n",
       "            background-color:  #6687ed;\n",
       "            color:  #000000;\n",
       "        }#T_add9d_row8_col0{\n",
       "            background-color:  #c4d5f3;\n",
       "            color:  #000000;\n",
       "        }#T_add9d_row8_col1,#T_add9d_row41_col1,#T_add9d_row45_col1,#T_add9d_row48_col1,#T_add9d_row88_col0,#T_add9d_row89_col0,#T_add9d_row90_col0,#T_add9d_row91_col0,#T_add9d_row92_col0,#T_add9d_row93_col0,#T_add9d_row94_col0,#T_add9d_row95_col0,#T_add9d_row96_col0,#T_add9d_row97_col0,#T_add9d_row98_col0,#T_add9d_row99_col0,#T_add9d_row100_col0,#T_add9d_row101_col0,#T_add9d_row102_col0,#T_add9d_row103_col0,#T_add9d_row103_col1,#T_add9d_row104_col0,#T_add9d_row149_col1,#T_add9d_row177_col1,#T_add9d_row231_col1,#T_add9d_row244_col1,#T_add9d_row246_col1{\n",
       "            background-color:  #4b64d5;\n",
       "            color:  #f1f1f1;\n",
       "        }#T_add9d_row9_col0{\n",
       "            background-color:  #c0d4f5;\n",
       "            color:  #000000;\n",
       "        }#T_add9d_row9_col1,#T_add9d_row48_col0,#T_add9d_row49_col0,#T_add9d_row50_col0,#T_add9d_row51_col0{\n",
       "            background-color:  #5875e1;\n",
       "            color:  #000000;\n",
       "        }#T_add9d_row10_col0,#T_add9d_row11_col0{\n",
       "            background-color:  #bfd3f6;\n",
       "            color:  #000000;\n",
       "        }#T_add9d_row12_col0{\n",
       "            background-color:  #bbd1f8;\n",
       "            color:  #000000;\n",
       "        }#T_add9d_row12_col1,#T_add9d_row36_col1{\n",
       "            background-color:  #5b7ae5;\n",
       "            color:  #000000;\n",
       "        }#T_add9d_row13_col0,#T_add9d_row14_col0,#T_add9d_row15_col0{\n",
       "            background-color:  #bad0f8;\n",
       "            color:  #000000;\n",
       "        }#T_add9d_row16_col0{\n",
       "            background-color:  #adc9fd;\n",
       "            color:  #000000;\n",
       "        }#T_add9d_row16_col1{\n",
       "            background-color:  #f7af91;\n",
       "            color:  #000000;\n",
       "        }#T_add9d_row17_col0{\n",
       "            background-color:  #a7c5fe;\n",
       "            color:  #000000;\n",
       "        }#T_add9d_row18_col0{\n",
       "            background-color:  #9fbfff;\n",
       "            color:  #000000;\n",
       "        }#T_add9d_row19_col0{\n",
       "            background-color:  #9abbff;\n",
       "            color:  #000000;\n",
       "        }#T_add9d_row19_col1,#T_add9d_row146_col1{\n",
       "            background-color:  #f3c8b2;\n",
       "            color:  #000000;\n",
       "        }#T_add9d_row20_col0{\n",
       "            background-color:  #96b7ff;\n",
       "            color:  #000000;\n",
       "        }#T_add9d_row20_col1{\n",
       "            background-color:  #c53334;\n",
       "            color:  #f1f1f1;\n",
       "        }#T_add9d_row21_col0{\n",
       "            background-color:  #93b5fe;\n",
       "            color:  #000000;\n",
       "        }#T_add9d_row21_col1{\n",
       "            background-color:  #c5d6f2;\n",
       "            color:  #000000;\n",
       "        }#T_add9d_row22_col0{\n",
       "            background-color:  #8caffe;\n",
       "            color:  #000000;\n",
       "        }#T_add9d_row22_col1,#T_add9d_row24_col1,#T_add9d_row30_col1,#T_add9d_row54_col1,#T_add9d_row96_col1{\n",
       "            background-color:  #82a6fb;\n",
       "            color:  #000000;\n",
       "        }#T_add9d_row23_col0{\n",
       "            background-color:  #7ea1fa;\n",
       "            color:  #000000;\n",
       "        }#T_add9d_row24_col0{\n",
       "            background-color:  #7da0f9;\n",
       "            color:  #000000;\n",
       "        }#T_add9d_row25_col0{\n",
       "            background-color:  #7a9df8;\n",
       "            color:  #000000;\n",
       "        }#T_add9d_row26_col0,#T_add9d_row27_col0{\n",
       "            background-color:  #7597f6;\n",
       "            color:  #000000;\n",
       "        }#T_add9d_row26_col1,#T_add9d_row27_col1,#T_add9d_row32_col1,#T_add9d_row55_col1{\n",
       "            background-color:  #aac7fd;\n",
       "            color:  #000000;\n",
       "        }#T_add9d_row28_col0,#T_add9d_row29_col0{\n",
       "            background-color:  #7295f4;\n",
       "            color:  #000000;\n",
       "        }#T_add9d_row30_col0,#T_add9d_row35_col1,#T_add9d_row73_col1,#T_add9d_row108_col1,#T_add9d_row144_col1,#T_add9d_row166_col1,#T_add9d_row236_col1{\n",
       "            background-color:  #6f92f3;\n",
       "            color:  #000000;\n",
       "        }#T_add9d_row31_col0,#T_add9d_row194_col1{\n",
       "            background-color:  #6b8df0;\n",
       "            color:  #000000;\n",
       "        }#T_add9d_row32_col0,#T_add9d_row33_col0,#T_add9d_row34_col0,#T_add9d_row35_col0,#T_add9d_row36_col0{\n",
       "            background-color:  #6a8bef;\n",
       "            color:  #000000;\n",
       "        }#T_add9d_row34_col1,#T_add9d_row40_col1,#T_add9d_row42_col0,#T_add9d_row43_col0,#T_add9d_row44_col0,#T_add9d_row66_col1,#T_add9d_row79_col1,#T_add9d_row88_col1,#T_add9d_row94_col1,#T_add9d_row130_col1,#T_add9d_row243_col1,#T_add9d_row257_col1{\n",
       "            background-color:  #5d7ce6;\n",
       "            color:  #000000;\n",
       "        }#T_add9d_row37_col0,#T_add9d_row38_col0,#T_add9d_row39_col0{\n",
       "            background-color:  #6485ec;\n",
       "            color:  #000000;\n",
       "        }#T_add9d_row40_col0{\n",
       "            background-color:  #6282ea;\n",
       "            color:  #000000;\n",
       "        }#T_add9d_row41_col0{\n",
       "            background-color:  #5f7fe8;\n",
       "            color:  #000000;\n",
       "        }#T_add9d_row43_col1,#T_add9d_row114_col1{\n",
       "            background-color:  #a1c0ff;\n",
       "            color:  #000000;\n",
       "        }#T_add9d_row45_col0,#T_add9d_row46_col0{\n",
       "            background-color:  #5a78e4;\n",
       "            color:  #000000;\n",
       "        }#T_add9d_row46_col1,#T_add9d_row105_col1,#T_add9d_row138_col0,#T_add9d_row139_col0,#T_add9d_row140_col0,#T_add9d_row141_col0,#T_add9d_row142_col0,#T_add9d_row143_col0,#T_add9d_row144_col0,#T_add9d_row145_col0,#T_add9d_row146_col0,#T_add9d_row147_col0,#T_add9d_row148_col0,#T_add9d_row149_col0,#T_add9d_row150_col0,#T_add9d_row151_col0,#T_add9d_row152_col0,#T_add9d_row153_col0,#T_add9d_row154_col0,#T_add9d_row155_col0,#T_add9d_row156_col0,#T_add9d_row157_col0,#T_add9d_row158_col0,#T_add9d_row159_col0,#T_add9d_row160_col0,#T_add9d_row161_col0,#T_add9d_row162_col0,#T_add9d_row163_col0,#T_add9d_row164_col0,#T_add9d_row165_col0,#T_add9d_row166_col0,#T_add9d_row167_col0,#T_add9d_row168_col0,#T_add9d_row169_col0{\n",
       "            background-color:  #465ecf;\n",
       "            color:  #f1f1f1;\n",
       "        }#T_add9d_row47_col0{\n",
       "            background-color:  #5977e3;\n",
       "            color:  #000000;\n",
       "        }#T_add9d_row52_col0,#T_add9d_row53_col0,#T_add9d_row54_col0,#T_add9d_row55_col0,#T_add9d_row56_col0,#T_add9d_row57_col0,#T_add9d_row58_col0,#T_add9d_row59_col0,#T_add9d_row60_col0,#T_add9d_row61_col0{\n",
       "            background-color:  #5572df;\n",
       "            color:  #000000;\n",
       "        }#T_add9d_row62_col0,#T_add9d_row62_col1,#T_add9d_row63_col0,#T_add9d_row64_col0,#T_add9d_row113_col1,#T_add9d_row120_col1,#T_add9d_row126_col1,#T_add9d_row218_col1,#T_add9d_row251_col1,#T_add9d_row258_col1{\n",
       "            background-color:  #5470de;\n",
       "            color:  #000000;\n",
       "        }#T_add9d_row65_col0,#T_add9d_row66_col0,#T_add9d_row67_col0,#T_add9d_row68_col0,#T_add9d_row69_col0,#T_add9d_row70_col0{\n",
       "            background-color:  #536edd;\n",
       "            color:  #000000;\n",
       "        }#T_add9d_row67_col1,#T_add9d_row109_col1,#T_add9d_row122_col1,#T_add9d_row163_col1,#T_add9d_row224_col1,#T_add9d_row225_col1,#T_add9d_row234_col0,#T_add9d_row235_col0,#T_add9d_row245_col1{\n",
       "            background-color:  #4358cb;\n",
       "            color:  #f1f1f1;\n",
       "        }#T_add9d_row71_col0,#T_add9d_row72_col0{\n",
       "            background-color:  #516ddb;\n",
       "            color:  #000000;\n",
       "        }#T_add9d_row73_col0,#T_add9d_row74_col0,#T_add9d_row75_col0,#T_add9d_row76_col0,#T_add9d_row77_col0,#T_add9d_row78_col0,#T_add9d_row79_col0,#T_add9d_row80_col0,#T_add9d_row81_col0,#T_add9d_row100_col1{\n",
       "            background-color:  #506bda;\n",
       "            color:  #000000;\n",
       "        }#T_add9d_row82_col0{\n",
       "            background-color:  #4f69d9;\n",
       "            color:  #000000;\n",
       "        }#T_add9d_row83_col0,#T_add9d_row84_col0{\n",
       "            background-color:  #4e68d8;\n",
       "            color:  #000000;\n",
       "        }#T_add9d_row85_col0,#T_add9d_row86_col0,#T_add9d_row87_col0{\n",
       "            background-color:  #4c66d6;\n",
       "            color:  #000000;\n",
       "        }#T_add9d_row85_col1{\n",
       "            background-color:  #89acfd;\n",
       "            color:  #000000;\n",
       "        }#T_add9d_row86_col1{\n",
       "            background-color:  #80a3fa;\n",
       "            color:  #000000;\n",
       "        }#T_add9d_row93_col1,#T_add9d_row108_col0,#T_add9d_row109_col0,#T_add9d_row110_col0,#T_add9d_row111_col0,#T_add9d_row112_col0,#T_add9d_row113_col0,#T_add9d_row114_col0,#T_add9d_row115_col0,#T_add9d_row116_col0,#T_add9d_row117_col0,#T_add9d_row118_col0,#T_add9d_row119_col0,#T_add9d_row120_col0,#T_add9d_row121_col0,#T_add9d_row122_col0,#T_add9d_row123_col0,#T_add9d_row124_col0,#T_add9d_row125_col0,#T_add9d_row126_col0,#T_add9d_row127_col0,#T_add9d_row128_col0,#T_add9d_row129_col0,#T_add9d_row130_col0,#T_add9d_row131_col0,#T_add9d_row132_col0,#T_add9d_row133_col0,#T_add9d_row134_col0,#T_add9d_row135_col0,#T_add9d_row136_col0,#T_add9d_row137_col0{\n",
       "            background-color:  #4961d2;\n",
       "            color:  #f1f1f1;\n",
       "        }#T_add9d_row104_col1{\n",
       "            background-color:  #cdd9ec;\n",
       "            color:  #000000;\n",
       "        }#T_add9d_row105_col0,#T_add9d_row106_col0,#T_add9d_row107_col0{\n",
       "            background-color:  #4a63d3;\n",
       "            color:  #f1f1f1;\n",
       "        }#T_add9d_row135_col1{\n",
       "            background-color:  #6e90f2;\n",
       "            color:  #000000;\n",
       "        }#T_add9d_row164_col1{\n",
       "            background-color:  #6788ee;\n",
       "            color:  #000000;\n",
       "        }#T_add9d_row170_col0,#T_add9d_row171_col0,#T_add9d_row172_col0,#T_add9d_row173_col0,#T_add9d_row174_col0,#T_add9d_row175_col0,#T_add9d_row176_col0,#T_add9d_row177_col0,#T_add9d_row178_col0,#T_add9d_row179_col0,#T_add9d_row180_col0,#T_add9d_row181_col0,#T_add9d_row182_col0,#T_add9d_row183_col0{\n",
       "            background-color:  #455cce;\n",
       "            color:  #f1f1f1;\n",
       "        }#T_add9d_row184_col0,#T_add9d_row185_col0,#T_add9d_row186_col0,#T_add9d_row187_col0,#T_add9d_row188_col0,#T_add9d_row189_col0,#T_add9d_row190_col0,#T_add9d_row191_col0,#T_add9d_row192_col0,#T_add9d_row193_col0,#T_add9d_row194_col0,#T_add9d_row195_col0,#T_add9d_row196_col0,#T_add9d_row197_col0,#T_add9d_row198_col0,#T_add9d_row199_col0,#T_add9d_row200_col0,#T_add9d_row201_col0,#T_add9d_row202_col0,#T_add9d_row203_col0,#T_add9d_row204_col0,#T_add9d_row205_col0,#T_add9d_row206_col0,#T_add9d_row207_col0,#T_add9d_row208_col0,#T_add9d_row209_col0,#T_add9d_row210_col0,#T_add9d_row211_col0,#T_add9d_row212_col0,#T_add9d_row213_col0,#T_add9d_row214_col0,#T_add9d_row215_col0,#T_add9d_row216_col0,#T_add9d_row217_col0,#T_add9d_row218_col0,#T_add9d_row219_col0,#T_add9d_row220_col0,#T_add9d_row221_col0,#T_add9d_row222_col0,#T_add9d_row223_col0,#T_add9d_row224_col0,#T_add9d_row225_col0,#T_add9d_row226_col0,#T_add9d_row227_col0,#T_add9d_row228_col0,#T_add9d_row229_col0,#T_add9d_row230_col0,#T_add9d_row231_col0,#T_add9d_row232_col0,#T_add9d_row233_col0{\n",
       "            background-color:  #445acc;\n",
       "            color:  #f1f1f1;\n",
       "        }#T_add9d_row236_col0,#T_add9d_row237_col0,#T_add9d_row238_col0,#T_add9d_row239_col0,#T_add9d_row240_col0,#T_add9d_row241_col0,#T_add9d_row242_col0,#T_add9d_row243_col0,#T_add9d_row244_col0,#T_add9d_row245_col0,#T_add9d_row246_col0,#T_add9d_row247_col0,#T_add9d_row248_col0{\n",
       "            background-color:  #4257c9;\n",
       "            color:  #f1f1f1;\n",
       "        }#T_add9d_row242_col1,#T_add9d_row249_col0,#T_add9d_row250_col0,#T_add9d_row251_col0,#T_add9d_row252_col0{\n",
       "            background-color:  #3f53c6;\n",
       "            color:  #f1f1f1;\n",
       "        }#T_add9d_row253_col0{\n",
       "            background-color:  #3e51c5;\n",
       "            color:  #f1f1f1;\n",
       "        }#T_add9d_row254_col0,#T_add9d_row255_col0{\n",
       "            background-color:  #3d50c3;\n",
       "            color:  #f1f1f1;\n",
       "        }#T_add9d_row256_col0{\n",
       "            background-color:  #3c4ec2;\n",
       "            color:  #f1f1f1;\n",
       "        }</style><table id=\"T_add9d_\" ><thead>    <tr>        <th class=\"blank level0\" ></th>        <th class=\"col_heading level0 col0\" >nonrefundable_support</th>        <th class=\"col_heading level0 col1\" >refundable_support</th>    </tr>    <tr>        <th class=\"index_name level0\" >director_name</th>        <th class=\"blank\" ></th>        <th class=\"blank\" ></th>    </tr></thead><tbody>\n",
       "                <tr>\n",
       "                        <th id=\"T_add9d_level0_row0\" class=\"row_heading level0 row0\" >Ф.Бондарчук</th>\n",
       "                        <td id=\"T_add9d_row0_col0\" class=\"data row0 col0\" >650000000</td>\n",
       "                        <td id=\"T_add9d_row0_col1\" class=\"data row0 col1\" >100000000</td>\n",
       "            </tr>\n",
       "            <tr>\n",
       "                        <th id=\"T_add9d_level0_row1\" class=\"row_heading level0 row1\" >Н.Хомерики</th>\n",
       "                        <td id=\"T_add9d_row1_col0\" class=\"data row1 col0\" >540000000</td>\n",
       "                        <td id=\"T_add9d_row1_col1\" class=\"data row1 col1\" >120000000</td>\n",
       "            </tr>\n",
       "            <tr>\n",
       "                        <th id=\"T_add9d_level0_row2\" class=\"row_heading level0 row2\" >А.Кравчук</th>\n",
       "                        <td id=\"T_add9d_row2_col0\" class=\"data row2 col0\" >400000000</td>\n",
       "                        <td id=\"T_add9d_row2_col1\" class=\"data row2 col1\" >100000000</td>\n",
       "            </tr>\n",
       "            <tr>\n",
       "                        <th id=\"T_add9d_level0_row3\" class=\"row_heading level0 row3\" >А.Мегердичев</th>\n",
       "                        <td id=\"T_add9d_row3_col0\" class=\"data row3 col0\" >400000000</td>\n",
       "                        <td id=\"T_add9d_row3_col1\" class=\"data row3 col1\" >0</td>\n",
       "            </tr>\n",
       "            <tr>\n",
       "                        <th id=\"T_add9d_level0_row4\" class=\"row_heading level0 row4\" >Р.Давлетьяров</th>\n",
       "                        <td id=\"T_add9d_row4_col0\" class=\"data row4 col0\" >394847945</td>\n",
       "                        <td id=\"T_add9d_row4_col1\" class=\"data row4 col1\" >65000000</td>\n",
       "            </tr>\n",
       "            <tr>\n",
       "                        <th id=\"T_add9d_level0_row5\" class=\"row_heading level0 row5\" >Н.Лебедев</th>\n",
       "                        <td id=\"T_add9d_row5_col0\" class=\"data row5 col0\" >392104482</td>\n",
       "                        <td id=\"T_add9d_row5_col1\" class=\"data row5 col1\" >50000000</td>\n",
       "            </tr>\n",
       "            <tr>\n",
       "                        <th id=\"T_add9d_level0_row6\" class=\"row_heading level0 row6\" >А.Мизгирев</th>\n",
       "                        <td id=\"T_add9d_row6_col0\" class=\"data row6 col0\" >300000000</td>\n",
       "                        <td id=\"T_add9d_row6_col1\" class=\"data row6 col1\" >150000000</td>\n",
       "            </tr>\n",
       "            <tr>\n",
       "                        <th id=\"T_add9d_level0_row7\" class=\"row_heading level0 row7\" >К.Шипенко</th>\n",
       "                        <td id=\"T_add9d_row7_col0\" class=\"data row7 col0\" >287000000</td>\n",
       "                        <td id=\"T_add9d_row7_col1\" class=\"data row7 col1\" >25000000</td>\n",
       "            </tr>\n",
       "            <tr>\n",
       "                        <th id=\"T_add9d_level0_row8\" class=\"row_heading level0 row8\" >В.Тодоровский</th>\n",
       "                        <td id=\"T_add9d_row8_col0\" class=\"data row8 col0\" >270000000</td>\n",
       "                        <td id=\"T_add9d_row8_col1\" class=\"data row8 col1\" >10000000</td>\n",
       "            </tr>\n",
       "            <tr>\n",
       "                        <th id=\"T_add9d_level0_row9\" class=\"row_heading level0 row9\" >П.Лунгин</th>\n",
       "                        <td id=\"T_add9d_row9_col0\" class=\"data row9 col0\" >263000000</td>\n",
       "                        <td id=\"T_add9d_row9_col1\" class=\"data row9 col1\" >17000000</td>\n",
       "            </tr>\n",
       "            <tr>\n",
       "                        <th id=\"T_add9d_level0_row10\" class=\"row_heading level0 row10\" >С.Андреасян</th>\n",
       "                        <td id=\"T_add9d_row10_col0\" class=\"data row10 col0\" >260000000</td>\n",
       "                        <td id=\"T_add9d_row10_col1\" class=\"data row10 col1\" >65000000</td>\n",
       "            </tr>\n",
       "            <tr>\n",
       "                        <th id=\"T_add9d_level0_row11\" class=\"row_heading level0 row11\" >Д.Козловский</th>\n",
       "                        <td id=\"T_add9d_row11_col0\" class=\"data row11 col0\" >260000000</td>\n",
       "                        <td id=\"T_add9d_row11_col1\" class=\"data row11 col1\" >0</td>\n",
       "            </tr>\n",
       "            <tr>\n",
       "                        <th id=\"T_add9d_level0_row12\" class=\"row_heading level0 row12\" >Д.Тюрин</th>\n",
       "                        <td id=\"T_add9d_row12_col0\" class=\"data row12 col0\" >251000000</td>\n",
       "                        <td id=\"T_add9d_row12_col1\" class=\"data row12 col1\" >19000000</td>\n",
       "            </tr>\n",
       "            <tr>\n",
       "                        <th id=\"T_add9d_level0_row13\" class=\"row_heading level0 row13\" >И.Джендубаев</th>\n",
       "                        <td id=\"T_add9d_row13_col0\" class=\"data row13 col0\" >250000000</td>\n",
       "                        <td id=\"T_add9d_row13_col1\" class=\"data row13 col1\" >0</td>\n",
       "            </tr>\n",
       "            <tr>\n",
       "                        <th id=\"T_add9d_level0_row14\" class=\"row_heading level0 row14\" >И.Шурховецкий</th>\n",
       "                        <td id=\"T_add9d_row14_col0\" class=\"data row14 col0\" >250000000</td>\n",
       "                        <td id=\"T_add9d_row14_col1\" class=\"data row14 col1\" >100000000</td>\n",
       "            </tr>\n",
       "            <tr>\n",
       "                        <th id=\"T_add9d_level0_row15\" class=\"row_heading level0 row15\" >Ф.Дмитриев</th>\n",
       "                        <td id=\"T_add9d_row15_col0\" class=\"data row15 col0\" >250000000</td>\n",
       "                        <td id=\"T_add9d_row15_col1\" class=\"data row15 col1\" >0</td>\n",
       "            </tr>\n",
       "            <tr>\n",
       "                        <th id=\"T_add9d_level0_row16\" class=\"row_heading level0 row16\" >Д.Киселев</th>\n",
       "                        <td id=\"T_add9d_row16_col0\" class=\"data row16 col0\" >225000000</td>\n",
       "                        <td id=\"T_add9d_row16_col1\" class=\"data row16 col1\" >125000000</td>\n",
       "            </tr>\n",
       "            <tr>\n",
       "                        <th id=\"T_add9d_level0_row17\" class=\"row_heading level0 row17\" >Р.Прыгунов</th>\n",
       "                        <td id=\"T_add9d_row17_col0\" class=\"data row17 col0\" >215000000</td>\n",
       "                        <td id=\"T_add9d_row17_col1\" class=\"data row17 col1\" >0</td>\n",
       "            </tr>\n",
       "            <tr>\n",
       "                        <th id=\"T_add9d_level0_row18\" class=\"row_heading level0 row18\" >А.Цицилин</th>\n",
       "                        <td id=\"T_add9d_row18_col0\" class=\"data row18 col0\" >200000000</td>\n",
       "                        <td id=\"T_add9d_row18_col1\" class=\"data row18 col1\" >150000000</td>\n",
       "            </tr>\n",
       "            <tr>\n",
       "                        <th id=\"T_add9d_level0_row19\" class=\"row_heading level0 row19\" >А.Учитель</th>\n",
       "                        <td id=\"T_add9d_row19_col0\" class=\"data row19 col0\" >190000000</td>\n",
       "                        <td id=\"T_add9d_row19_col1\" class=\"data row19 col1\" >110000000</td>\n",
       "            </tr>\n",
       "            <tr>\n",
       "                        <th id=\"T_add9d_level0_row20\" class=\"row_heading level0 row20\" >Д.Дьяченко</th>\n",
       "                        <td id=\"T_add9d_row20_col0\" class=\"data row20 col0\" >180000000</td>\n",
       "                        <td id=\"T_add9d_row20_col1\" class=\"data row20 col1\" >171000000</td>\n",
       "            </tr>\n",
       "            <tr>\n",
       "                        <th id=\"T_add9d_level0_row21\" class=\"row_heading level0 row21\" >Т.Бекмамбетов</th>\n",
       "                        <td id=\"T_add9d_row21_col0\" class=\"data row21 col0\" >175000000</td>\n",
       "                        <td id=\"T_add9d_row21_col1\" class=\"data row21 col1\" >75000000</td>\n",
       "            </tr>\n",
       "            <tr>\n",
       "                        <th id=\"T_add9d_level0_row22\" class=\"row_heading level0 row22\" >С.Мокрицкий</th>\n",
       "                        <td id=\"T_add9d_row22_col0\" class=\"data row22 col0\" >162510000</td>\n",
       "                        <td id=\"T_add9d_row22_col1\" class=\"data row22 col1\" >40000000</td>\n",
       "            </tr>\n",
       "            <tr>\n",
       "                        <th id=\"T_add9d_level0_row23\" class=\"row_heading level0 row23\" >В.Саков</th>\n",
       "                        <td id=\"T_add9d_row23_col0\" class=\"data row23 col0\" >138969465</td>\n",
       "                        <td id=\"T_add9d_row23_col1\" class=\"data row23 col1\" >0</td>\n",
       "            </tr>\n",
       "            <tr>\n",
       "                        <th id=\"T_add9d_level0_row24\" class=\"row_heading level0 row24\" >А.Войтинский</th>\n",
       "                        <td id=\"T_add9d_row24_col0\" class=\"data row24 col0\" >135000000</td>\n",
       "                        <td id=\"T_add9d_row24_col1\" class=\"data row24 col1\" >40000000</td>\n",
       "            </tr>\n",
       "            <tr>\n",
       "                        <th id=\"T_add9d_level0_row25\" class=\"row_heading level0 row25\" >И.Зайцев</th>\n",
       "                        <td id=\"T_add9d_row25_col0\" class=\"data row25 col0\" >130000000</td>\n",
       "                        <td id=\"T_add9d_row25_col1\" class=\"data row25 col1\" >0</td>\n",
       "            </tr>\n",
       "            <tr>\n",
       "                        <th id=\"T_add9d_level0_row26\" class=\"row_heading level0 row26\" >А.Сидоров</th>\n",
       "                        <td id=\"T_add9d_row26_col0\" class=\"data row26 col0\" >120000000</td>\n",
       "                        <td id=\"T_add9d_row26_col1\" class=\"data row26 col1\" >60000000</td>\n",
       "            </tr>\n",
       "            <tr>\n",
       "                        <th id=\"T_add9d_level0_row27\" class=\"row_heading level0 row27\" >Н.Лопато</th>\n",
       "                        <td id=\"T_add9d_row27_col0\" class=\"data row27 col0\" >120000000</td>\n",
       "                        <td id=\"T_add9d_row27_col1\" class=\"data row27 col1\" >60000000</td>\n",
       "            </tr>\n",
       "            <tr>\n",
       "                        <th id=\"T_add9d_level0_row28\" class=\"row_heading level0 row28\" >Д.Месхиев</th>\n",
       "                        <td id=\"T_add9d_row28_col0\" class=\"data row28 col0\" >116579055</td>\n",
       "                        <td id=\"T_add9d_row28_col1\" class=\"data row28 col1\" >0</td>\n",
       "            </tr>\n",
       "            <tr>\n",
       "                        <th id=\"T_add9d_level0_row29\" class=\"row_heading level0 row29\" >Д.Шмидт</th>\n",
       "                        <td id=\"T_add9d_row29_col0\" class=\"data row29 col0\" >115000000</td>\n",
       "                        <td id=\"T_add9d_row29_col1\" class=\"data row29 col1\" >100000000</td>\n",
       "            </tr>\n",
       "            <tr>\n",
       "                        <th id=\"T_add9d_level0_row30\" class=\"row_heading level0 row30\" >Д.Чернов</th>\n",
       "                        <td id=\"T_add9d_row30_col0\" class=\"data row30 col0\" >110000000</td>\n",
       "                        <td id=\"T_add9d_row30_col1\" class=\"data row30 col1\" >40000000</td>\n",
       "            </tr>\n",
       "            <tr>\n",
       "                        <th id=\"T_add9d_level0_row31\" class=\"row_heading level0 row31\" >А.Котт</th>\n",
       "                        <td id=\"T_add9d_row31_col0\" class=\"data row31 col0\" >104000000</td>\n",
       "                        <td id=\"T_add9d_row31_col1\" class=\"data row31 col1\" >25000000</td>\n",
       "            </tr>\n",
       "            <tr>\n",
       "                        <th id=\"T_add9d_level0_row32\" class=\"row_heading level0 row32\" >М.Фадеев</th>\n",
       "                        <td id=\"T_add9d_row32_col0\" class=\"data row32 col0\" >100000000</td>\n",
       "                        <td id=\"T_add9d_row32_col1\" class=\"data row32 col1\" >60000000</td>\n",
       "            </tr>\n",
       "            <tr>\n",
       "                        <th id=\"T_add9d_level0_row33\" class=\"row_heading level0 row33\" >Т.Кеосаян</th>\n",
       "                        <td id=\"T_add9d_row33_col0\" class=\"data row33 col0\" >100000000</td>\n",
       "                        <td id=\"T_add9d_row33_col1\" class=\"data row33 col1\" >0</td>\n",
       "            </tr>\n",
       "            <tr>\n",
       "                        <th id=\"T_add9d_level0_row34\" class=\"row_heading level0 row34\" >К.Оганисян</th>\n",
       "                        <td id=\"T_add9d_row34_col0\" class=\"data row34 col0\" >100000000</td>\n",
       "                        <td id=\"T_add9d_row34_col1\" class=\"data row34 col1\" >20000000</td>\n",
       "            </tr>\n",
       "            <tr>\n",
       "                        <th id=\"T_add9d_level0_row35\" class=\"row_heading level0 row35\" >М.Волков</th>\n",
       "                        <td id=\"T_add9d_row35_col0\" class=\"data row35 col0\" >100000000</td>\n",
       "                        <td id=\"T_add9d_row35_col1\" class=\"data row35 col1\" >30000000</td>\n",
       "            </tr>\n",
       "            <tr>\n",
       "                        <th id=\"T_add9d_level0_row36\" class=\"row_heading level0 row36\" >К.Белевич (псевдоним - Кирилл Астахов)</th>\n",
       "                        <td id=\"T_add9d_row36_col0\" class=\"data row36 col0\" >100000000</td>\n",
       "                        <td id=\"T_add9d_row36_col1\" class=\"data row36 col1\" >19000000</td>\n",
       "            </tr>\n",
       "            <tr>\n",
       "                        <th id=\"T_add9d_level0_row37\" class=\"row_heading level0 row37\" >А.Звягинцев</th>\n",
       "                        <td id=\"T_add9d_row37_col0\" class=\"data row37 col0\" >90000000</td>\n",
       "                        <td id=\"T_add9d_row37_col1\" class=\"data row37 col1\" >0</td>\n",
       "            </tr>\n",
       "            <tr>\n",
       "                        <th id=\"T_add9d_level0_row38\" class=\"row_heading level0 row38\" >О.Степченко</th>\n",
       "                        <td id=\"T_add9d_row38_col0\" class=\"data row38 col0\" >90000000</td>\n",
       "                        <td id=\"T_add9d_row38_col1\" class=\"data row38 col1\" >180000000</td>\n",
       "            </tr>\n",
       "            <tr>\n",
       "                        <th id=\"T_add9d_level0_row39\" class=\"row_heading level0 row39\" >К.Дружинин</th>\n",
       "                        <td id=\"T_add9d_row39_col0\" class=\"data row39 col0\" >90000000</td>\n",
       "                        <td id=\"T_add9d_row39_col1\" class=\"data row39 col1\" >0</td>\n",
       "            </tr>\n",
       "            <tr>\n",
       "                        <th id=\"T_add9d_level0_row40\" class=\"row_heading level0 row40\" >Е.Шелякин</th>\n",
       "                        <td id=\"T_add9d_row40_col0\" class=\"data row40 col0\" >85000000</td>\n",
       "                        <td id=\"T_add9d_row40_col1\" class=\"data row40 col1\" >20000000</td>\n",
       "            </tr>\n",
       "            <tr>\n",
       "                        <th id=\"T_add9d_level0_row41\" class=\"row_heading level0 row41\" >Р.Гигинеишвили</th>\n",
       "                        <td id=\"T_add9d_row41_col0\" class=\"data row41 col0\" >80000000</td>\n",
       "                        <td id=\"T_add9d_row41_col1\" class=\"data row41 col1\" >10000000</td>\n",
       "            </tr>\n",
       "            <tr>\n",
       "                        <th id=\"T_add9d_level0_row42\" class=\"row_heading level0 row42\" >А Андрющенко</th>\n",
       "                        <td id=\"T_add9d_row42_col0\" class=\"data row42 col0\" >75000000</td>\n",
       "                        <td id=\"T_add9d_row42_col1\" class=\"data row42 col1\" >0</td>\n",
       "            </tr>\n",
       "            <tr>\n",
       "                        <th id=\"T_add9d_level0_row43\" class=\"row_heading level0 row43\" >Эген Уулу Нурбек</th>\n",
       "                        <td id=\"T_add9d_row43_col0\" class=\"data row43 col0\" >75000000</td>\n",
       "                        <td id=\"T_add9d_row43_col1\" class=\"data row43 col1\" >55000000</td>\n",
       "            </tr>\n",
       "            <tr>\n",
       "                        <th id=\"T_add9d_level0_row44\" class=\"row_heading level0 row44\" >А.Прошкин</th>\n",
       "                        <td id=\"T_add9d_row44_col0\" class=\"data row44 col0\" >75000000</td>\n",
       "                        <td id=\"T_add9d_row44_col1\" class=\"data row44 col1\" >0</td>\n",
       "            </tr>\n",
       "            <tr>\n",
       "                        <th id=\"T_add9d_level0_row45\" class=\"row_heading level0 row45\" >А.Андрианов</th>\n",
       "                        <td id=\"T_add9d_row45_col0\" class=\"data row45 col0\" >70000000</td>\n",
       "                        <td id=\"T_add9d_row45_col1\" class=\"data row45 col1\" >10000000</td>\n",
       "            </tr>\n",
       "            <tr>\n",
       "                        <th id=\"T_add9d_level0_row46\" class=\"row_heading level0 row46\" >К.Худяков</th>\n",
       "                        <td id=\"T_add9d_row46_col0\" class=\"data row46 col0\" >70000000</td>\n",
       "                        <td id=\"T_add9d_row46_col1\" class=\"data row46 col1\" >7346881</td>\n",
       "            </tr>\n",
       "            <tr>\n",
       "                        <th id=\"T_add9d_level0_row47\" class=\"row_heading level0 row47\" >В.Глаголева</th>\n",
       "                        <td id=\"T_add9d_row47_col0\" class=\"data row47 col0\" >66502299</td>\n",
       "                        <td id=\"T_add9d_row47_col1\" class=\"data row47 col1\" >0</td>\n",
       "            </tr>\n",
       "            <tr>\n",
       "                        <th id=\"T_add9d_level0_row48\" class=\"row_heading level0 row48\" >В.Ровенский</th>\n",
       "                        <td id=\"T_add9d_row48_col0\" class=\"data row48 col0\" >66000000</td>\n",
       "                        <td id=\"T_add9d_row48_col1\" class=\"data row48 col1\" >10000000</td>\n",
       "            </tr>\n",
       "            <tr>\n",
       "                        <th id=\"T_add9d_level0_row49\" class=\"row_heading level0 row49\" >А.Галибин</th>\n",
       "                        <td id=\"T_add9d_row49_col0\" class=\"data row49 col0\" >65000000</td>\n",
       "                        <td id=\"T_add9d_row49_col1\" class=\"data row49 col1\" >0</td>\n",
       "            </tr>\n",
       "            <tr>\n",
       "                        <th id=\"T_add9d_level0_row50\" class=\"row_heading level0 row50\" >А.Аксененко</th>\n",
       "                        <td id=\"T_add9d_row50_col0\" class=\"data row50 col0\" >65000000</td>\n",
       "                        <td id=\"T_add9d_row50_col1\" class=\"data row50 col1\" >25000000</td>\n",
       "            </tr>\n",
       "            <tr>\n",
       "                        <th id=\"T_add9d_level0_row51\" class=\"row_heading level0 row51\" >В.Татарский</th>\n",
       "                        <td id=\"T_add9d_row51_col0\" class=\"data row51 col0\" >64000000</td>\n",
       "                        <td id=\"T_add9d_row51_col1\" class=\"data row51 col1\" >0</td>\n",
       "            </tr>\n",
       "            <tr>\n",
       "                        <th id=\"T_add9d_level0_row52\" class=\"row_heading level0 row52\" >И.Твердовский</th>\n",
       "                        <td id=\"T_add9d_row52_col0\" class=\"data row52 col0\" >61000000</td>\n",
       "                        <td id=\"T_add9d_row52_col1\" class=\"data row52 col1\" >0</td>\n",
       "            </tr>\n",
       "            <tr>\n",
       "                        <th id=\"T_add9d_level0_row53\" class=\"row_heading level0 row53\" >А.Михалков (псевдоним А.Кончаловский)</th>\n",
       "                        <td id=\"T_add9d_row53_col0\" class=\"data row53 col0\" >60000000</td>\n",
       "                        <td id=\"T_add9d_row53_col1\" class=\"data row53 col1\" >0</td>\n",
       "            </tr>\n",
       "            <tr>\n",
       "                        <th id=\"T_add9d_level0_row54\" class=\"row_heading level0 row54\" >М.Бальчюнас (псевдоним М.Вайсберг)</th>\n",
       "                        <td id=\"T_add9d_row54_col0\" class=\"data row54 col0\" >60000000</td>\n",
       "                        <td id=\"T_add9d_row54_col1\" class=\"data row54 col1\" >40000000</td>\n",
       "            </tr>\n",
       "            <tr>\n",
       "                        <th id=\"T_add9d_level0_row55\" class=\"row_heading level0 row55\" >В.Николаев</th>\n",
       "                        <td id=\"T_add9d_row55_col0\" class=\"data row55 col0\" >60000000</td>\n",
       "                        <td id=\"T_add9d_row55_col1\" class=\"data row55 col1\" >60000000</td>\n",
       "            </tr>\n",
       "            <tr>\n",
       "                        <th id=\"T_add9d_level0_row56\" class=\"row_heading level0 row56\" >В.Чигинский</th>\n",
       "                        <td id=\"T_add9d_row56_col0\" class=\"data row56 col0\" >60000000</td>\n",
       "                        <td id=\"T_add9d_row56_col1\" class=\"data row56 col1\" >0</td>\n",
       "            </tr>\n",
       "            <tr>\n",
       "                        <th id=\"T_add9d_level0_row57\" class=\"row_heading level0 row57\" >О.Трофим</th>\n",
       "                        <td id=\"T_add9d_row57_col0\" class=\"data row57 col0\" >60000000</td>\n",
       "                        <td id=\"T_add9d_row57_col1\" class=\"data row57 col1\" >25000000</td>\n",
       "            </tr>\n",
       "            <tr>\n",
       "                        <th id=\"T_add9d_level0_row58\" class=\"row_heading level0 row58\" >К.Хабенский</th>\n",
       "                        <td id=\"T_add9d_row58_col0\" class=\"data row58 col0\" >60000000</td>\n",
       "                        <td id=\"T_add9d_row58_col1\" class=\"data row58 col1\" >0</td>\n",
       "            </tr>\n",
       "            <tr>\n",
       "                        <th id=\"T_add9d_level0_row59\" class=\"row_heading level0 row59\" >Стефано Лоренци</th>\n",
       "                        <td id=\"T_add9d_row59_col0\" class=\"data row59 col0\" >60000000</td>\n",
       "                        <td id=\"T_add9d_row59_col1\" class=\"data row59 col1\" >0</td>\n",
       "            </tr>\n",
       "            <tr>\n",
       "                        <th id=\"T_add9d_level0_row60\" class=\"row_heading level0 row60\" >В.Барбэ</th>\n",
       "                        <td id=\"T_add9d_row60_col0\" class=\"data row60 col0\" >60000000</td>\n",
       "                        <td id=\"T_add9d_row60_col1\" class=\"data row60 col1\" >0</td>\n",
       "            </tr>\n",
       "            <tr>\n",
       "                        <th id=\"T_add9d_level0_row61\" class=\"row_heading level0 row61\" >М.Местецкий</th>\n",
       "                        <td id=\"T_add9d_row61_col0\" class=\"data row61 col0\" >59000000</td>\n",
       "                        <td id=\"T_add9d_row61_col1\" class=\"data row61 col1\" >0</td>\n",
       "            </tr>\n",
       "            <tr>\n",
       "                        <th id=\"T_add9d_level0_row62\" class=\"row_heading level0 row62\" >Н.Меркулова</th>\n",
       "                        <td id=\"T_add9d_row62_col0\" class=\"data row62 col0\" >58500000</td>\n",
       "                        <td id=\"T_add9d_row62_col1\" class=\"data row62 col1\" >15000000</td>\n",
       "            </tr>\n",
       "            <tr>\n",
       "                        <th id=\"T_add9d_level0_row63\" class=\"row_heading level0 row63\" >А.Темников</th>\n",
       "                        <td id=\"T_add9d_row63_col0\" class=\"data row63 col0\" >58000000</td>\n",
       "                        <td id=\"T_add9d_row63_col1\" class=\"data row63 col1\" >0</td>\n",
       "            </tr>\n",
       "            <tr>\n",
       "                        <th id=\"T_add9d_level0_row64\" class=\"row_heading level0 row64\" >Н.Джорджадзе</th>\n",
       "                        <td id=\"T_add9d_row64_col0\" class=\"data row64 col0\" >56500000</td>\n",
       "                        <td id=\"T_add9d_row64_col1\" class=\"data row64 col1\" >0</td>\n",
       "            </tr>\n",
       "            <tr>\n",
       "                        <th id=\"T_add9d_level0_row65\" class=\"row_heading level0 row65\" >А.Якимчук</th>\n",
       "                        <td id=\"T_add9d_row65_col0\" class=\"data row65 col0\" >56000000</td>\n",
       "                        <td id=\"T_add9d_row65_col1\" class=\"data row65 col1\" >0</td>\n",
       "            </tr>\n",
       "            <tr>\n",
       "                        <th id=\"T_add9d_level0_row66\" class=\"row_heading level0 row66\" >А.Пиманов</th>\n",
       "                        <td id=\"T_add9d_row66_col0\" class=\"data row66 col0\" >55123915</td>\n",
       "                        <td id=\"T_add9d_row66_col1\" class=\"data row66 col1\" >20000000</td>\n",
       "            </tr>\n",
       "            <tr>\n",
       "                        <th id=\"T_add9d_level0_row67\" class=\"row_heading level0 row67\" >А.Лукьянчиков</th>\n",
       "                        <td id=\"T_add9d_row67_col0\" class=\"data row67 col0\" >55000000</td>\n",
       "                        <td id=\"T_add9d_row67_col1\" class=\"data row67 col1\" >5000000</td>\n",
       "            </tr>\n",
       "            <tr>\n",
       "                        <th id=\"T_add9d_level0_row68\" class=\"row_heading level0 row68\" >А.Карпиловский</th>\n",
       "                        <td id=\"T_add9d_row68_col0\" class=\"data row68 col0\" >55000000</td>\n",
       "                        <td id=\"T_add9d_row68_col1\" class=\"data row68 col1\" >0</td>\n",
       "            </tr>\n",
       "            <tr>\n",
       "                        <th id=\"T_add9d_level0_row69\" class=\"row_heading level0 row69\" >А.Пармас</th>\n",
       "                        <td id=\"T_add9d_row69_col0\" class=\"data row69 col0\" >55000000</td>\n",
       "                        <td id=\"T_add9d_row69_col1\" class=\"data row69 col1\" >0</td>\n",
       "            </tr>\n",
       "            <tr>\n",
       "                        <th id=\"T_add9d_level0_row70\" class=\"row_heading level0 row70\" >И.Северов</th>\n",
       "                        <td id=\"T_add9d_row70_col0\" class=\"data row70 col0\" >55000000</td>\n",
       "                        <td id=\"T_add9d_row70_col1\" class=\"data row70 col1\" >0</td>\n",
       "            </tr>\n",
       "            <tr>\n",
       "                        <th id=\"T_add9d_level0_row71\" class=\"row_heading level0 row71\" >Р.Каримов</th>\n",
       "                        <td id=\"T_add9d_row71_col0\" class=\"data row71 col0\" >53345000</td>\n",
       "                        <td id=\"T_add9d_row71_col1\" class=\"data row71 col1\" >0</td>\n",
       "            </tr>\n",
       "            <tr>\n",
       "                        <th id=\"T_add9d_level0_row72\" class=\"row_heading level0 row72\" >А.Федорченко</th>\n",
       "                        <td id=\"T_add9d_row72_col0\" class=\"data row72 col0\" >53000000</td>\n",
       "                        <td id=\"T_add9d_row72_col1\" class=\"data row72 col1\" >0</td>\n",
       "            </tr>\n",
       "            <tr>\n",
       "                        <th id=\"T_add9d_level0_row73\" class=\"row_heading level0 row73\" >А.Касаткин</th>\n",
       "                        <td id=\"T_add9d_row73_col0\" class=\"data row73 col0\" >50000866</td>\n",
       "                        <td id=\"T_add9d_row73_col1\" class=\"data row73 col1\" >30000000</td>\n",
       "            </tr>\n",
       "            <tr>\n",
       "                        <th id=\"T_add9d_level0_row74\" class=\"row_heading level0 row74\" >Р.Мосафир</th>\n",
       "                        <td id=\"T_add9d_row74_col0\" class=\"data row74 col0\" >50000000</td>\n",
       "                        <td id=\"T_add9d_row74_col1\" class=\"data row74 col1\" >0</td>\n",
       "            </tr>\n",
       "            <tr>\n",
       "                        <th id=\"T_add9d_level0_row75\" class=\"row_heading level0 row75\" >К.Белевич</th>\n",
       "                        <td id=\"T_add9d_row75_col0\" class=\"data row75 col0\" >50000000</td>\n",
       "                        <td id=\"T_add9d_row75_col1\" class=\"data row75 col1\" >0</td>\n",
       "            </tr>\n",
       "            <tr>\n",
       "                        <th id=\"T_add9d_level0_row76\" class=\"row_heading level0 row76\" >Р.Шульман</th>\n",
       "                        <td id=\"T_add9d_row76_col0\" class=\"data row76 col0\" >50000000</td>\n",
       "                        <td id=\"T_add9d_row76_col1\" class=\"data row76 col1\" >0</td>\n",
       "            </tr>\n",
       "            <tr>\n",
       "                        <th id=\"T_add9d_level0_row77\" class=\"row_heading level0 row77\" >А.Меликян</th>\n",
       "                        <td id=\"T_add9d_row77_col0\" class=\"data row77 col0\" >50000000</td>\n",
       "                        <td id=\"T_add9d_row77_col1\" class=\"data row77 col1\" >0</td>\n",
       "            </tr>\n",
       "            <tr>\n",
       "                        <th id=\"T_add9d_level0_row78\" class=\"row_heading level0 row78\" >Ф.Фархшатова</th>\n",
       "                        <td id=\"T_add9d_row78_col0\" class=\"data row78 col0\" >50000000</td>\n",
       "                        <td id=\"T_add9d_row78_col1\" class=\"data row78 col1\" >0</td>\n",
       "            </tr>\n",
       "            <tr>\n",
       "                        <th id=\"T_add9d_level0_row79\" class=\"row_heading level0 row79\" >А.Колпин</th>\n",
       "                        <td id=\"T_add9d_row79_col0\" class=\"data row79 col0\" >50000000</td>\n",
       "                        <td id=\"T_add9d_row79_col1\" class=\"data row79 col1\" >20000000</td>\n",
       "            </tr>\n",
       "            <tr>\n",
       "                        <th id=\"T_add9d_level0_row80\" class=\"row_heading level0 row80\" >А.Богатырев</th>\n",
       "                        <td id=\"T_add9d_row80_col0\" class=\"data row80 col0\" >50000000</td>\n",
       "                        <td id=\"T_add9d_row80_col1\" class=\"data row80 col1\" >0</td>\n",
       "            </tr>\n",
       "            <tr>\n",
       "                        <th id=\"T_add9d_level0_row81\" class=\"row_heading level0 row81\" >К.Максимов</th>\n",
       "                        <td id=\"T_add9d_row81_col0\" class=\"data row81 col0\" >50000000</td>\n",
       "                        <td id=\"T_add9d_row81_col1\" class=\"data row81 col1\" >0</td>\n",
       "            </tr>\n",
       "            <tr>\n",
       "                        <th id=\"T_add9d_level0_row82\" class=\"row_heading level0 row82\" >А.Богуславский</th>\n",
       "                        <td id=\"T_add9d_row82_col0\" class=\"data row82 col0\" >46000000</td>\n",
       "                        <td id=\"T_add9d_row82_col1\" class=\"data row82 col1\" >0</td>\n",
       "            </tr>\n",
       "            <tr>\n",
       "                        <th id=\"T_add9d_level0_row83\" class=\"row_heading level0 row83\" >С.Попов</th>\n",
       "                        <td id=\"T_add9d_row83_col0\" class=\"data row83 col0\" >45000000</td>\n",
       "                        <td id=\"T_add9d_row83_col1\" class=\"data row83 col1\" >0</td>\n",
       "            </tr>\n",
       "            <tr>\n",
       "                        <th id=\"T_add9d_level0_row84\" class=\"row_heading level0 row84\" >М.Расходников</th>\n",
       "                        <td id=\"T_add9d_row84_col0\" class=\"data row84 col0\" >45000000</td>\n",
       "                        <td id=\"T_add9d_row84_col1\" class=\"data row84 col1\" >0</td>\n",
       "            </tr>\n",
       "            <tr>\n",
       "                        <th id=\"T_add9d_level0_row85\" class=\"row_heading level0 row85\" >А.Матисон</th>\n",
       "                        <td id=\"T_add9d_row85_col0\" class=\"data row85 col0\" >42904000</td>\n",
       "                        <td id=\"T_add9d_row85_col1\" class=\"data row85 col1\" >43000000</td>\n",
       "            </tr>\n",
       "            <tr>\n",
       "                        <th id=\"T_add9d_level0_row86\" class=\"row_heading level0 row86\" >С.Гинзбург</th>\n",
       "                        <td id=\"T_add9d_row86_col0\" class=\"data row86 col0\" >41500000</td>\n",
       "                        <td id=\"T_add9d_row86_col1\" class=\"data row86 col1\" >38000000</td>\n",
       "            </tr>\n",
       "            <tr>\n",
       "                        <th id=\"T_add9d_level0_row87\" class=\"row_heading level0 row87\" >А.Волгин</th>\n",
       "                        <td id=\"T_add9d_row87_col0\" class=\"data row87 col0\" >41000000</td>\n",
       "                        <td id=\"T_add9d_row87_col1\" class=\"data row87 col1\" >0</td>\n",
       "            </tr>\n",
       "            <tr>\n",
       "                        <th id=\"T_add9d_level0_row88\" class=\"row_heading level0 row88\" >К.Плетнёв</th>\n",
       "                        <td id=\"T_add9d_row88_col0\" class=\"data row88 col0\" >40000000</td>\n",
       "                        <td id=\"T_add9d_row88_col1\" class=\"data row88 col1\" >20000000</td>\n",
       "            </tr>\n",
       "            <tr>\n",
       "                        <th id=\"T_add9d_level0_row89\" class=\"row_heading level0 row89\" >М.Зыков</th>\n",
       "                        <td id=\"T_add9d_row89_col0\" class=\"data row89 col0\" >40000000</td>\n",
       "                        <td id=\"T_add9d_row89_col1\" class=\"data row89 col1\" >0</td>\n",
       "            </tr>\n",
       "            <tr>\n",
       "                        <th id=\"T_add9d_level0_row90\" class=\"row_heading level0 row90\" >С.Саркисов</th>\n",
       "                        <td id=\"T_add9d_row90_col0\" class=\"data row90 col0\" >40000000</td>\n",
       "                        <td id=\"T_add9d_row90_col1\" class=\"data row90 col1\" >0</td>\n",
       "            </tr>\n",
       "            <tr>\n",
       "                        <th id=\"T_add9d_level0_row91\" class=\"row_heading level0 row91\" >Ф.Коршунов при участии П.Мирзоева</th>\n",
       "                        <td id=\"T_add9d_row91_col0\" class=\"data row91 col0\" >40000000</td>\n",
       "                        <td id=\"T_add9d_row91_col1\" class=\"data row91 col1\" >0</td>\n",
       "            </tr>\n",
       "            <tr>\n",
       "                        <th id=\"T_add9d_level0_row92\" class=\"row_heading level0 row92\" >А.Красовский</th>\n",
       "                        <td id=\"T_add9d_row92_col0\" class=\"data row92 col0\" >40000000</td>\n",
       "                        <td id=\"T_add9d_row92_col1\" class=\"data row92 col1\" >0</td>\n",
       "            </tr>\n",
       "            <tr>\n",
       "                        <th id=\"T_add9d_level0_row93\" class=\"row_heading level0 row93\" >А.Соколов</th>\n",
       "                        <td id=\"T_add9d_row93_col0\" class=\"data row93 col0\" >40000000</td>\n",
       "                        <td id=\"T_add9d_row93_col1\" class=\"data row93 col1\" >9000000</td>\n",
       "            </tr>\n",
       "            <tr>\n",
       "                        <th id=\"T_add9d_level0_row94\" class=\"row_heading level0 row94\" >А.Сахелашвили</th>\n",
       "                        <td id=\"T_add9d_row94_col0\" class=\"data row94 col0\" >40000000</td>\n",
       "                        <td id=\"T_add9d_row94_col1\" class=\"data row94 col1\" >20000000</td>\n",
       "            </tr>\n",
       "            <tr>\n",
       "                        <th id=\"T_add9d_level0_row95\" class=\"row_heading level0 row95\" >М.Бальчюнас (псевдоним Марюс Вайсберг)</th>\n",
       "                        <td id=\"T_add9d_row95_col0\" class=\"data row95 col0\" >40000000</td>\n",
       "                        <td id=\"T_add9d_row95_col1\" class=\"data row95 col1\" >0</td>\n",
       "            </tr>\n",
       "            <tr>\n",
       "                        <th id=\"T_add9d_level0_row96\" class=\"row_heading level0 row96\" >М.Нефедова</th>\n",
       "                        <td id=\"T_add9d_row96_col0\" class=\"data row96 col0\" >40000000</td>\n",
       "                        <td id=\"T_add9d_row96_col1\" class=\"data row96 col1\" >40000000</td>\n",
       "            </tr>\n",
       "            <tr>\n",
       "                        <th id=\"T_add9d_level0_row97\" class=\"row_heading level0 row97\" >О.Беляева</th>\n",
       "                        <td id=\"T_add9d_row97_col0\" class=\"data row97 col0\" >40000000</td>\n",
       "                        <td id=\"T_add9d_row97_col1\" class=\"data row97 col1\" >0</td>\n",
       "            </tr>\n",
       "            <tr>\n",
       "                        <th id=\"T_add9d_level0_row98\" class=\"row_heading level0 row98\" >В.Потапов</th>\n",
       "                        <td id=\"T_add9d_row98_col0\" class=\"data row98 col0\" >40000000</td>\n",
       "                        <td id=\"T_add9d_row98_col1\" class=\"data row98 col1\" >0</td>\n",
       "            </tr>\n",
       "            <tr>\n",
       "                        <th id=\"T_add9d_level0_row99\" class=\"row_heading level0 row99\" >Р.Артемьев (псев.С.Васильев)</th>\n",
       "                        <td id=\"T_add9d_row99_col0\" class=\"data row99 col0\" >40000000</td>\n",
       "                        <td id=\"T_add9d_row99_col1\" class=\"data row99 col1\" >0</td>\n",
       "            </tr>\n",
       "            <tr>\n",
       "                        <th id=\"T_add9d_level0_row100\" class=\"row_heading level0 row100\" >С.Подгаевский</th>\n",
       "                        <td id=\"T_add9d_row100_col0\" class=\"data row100 col0\" >40000000</td>\n",
       "                        <td id=\"T_add9d_row100_col1\" class=\"data row100 col1\" >13000000</td>\n",
       "            </tr>\n",
       "            <tr>\n",
       "                        <th id=\"T_add9d_level0_row101\" class=\"row_heading level0 row101\" >П.Руминов</th>\n",
       "                        <td id=\"T_add9d_row101_col0\" class=\"data row101 col0\" >40000000</td>\n",
       "                        <td id=\"T_add9d_row101_col1\" class=\"data row101 col1\" >25000000</td>\n",
       "            </tr>\n",
       "            <tr>\n",
       "                        <th id=\"T_add9d_level0_row102\" class=\"row_heading level0 row102\" >Ю.Разыков</th>\n",
       "                        <td id=\"T_add9d_row102_col0\" class=\"data row102 col0\" >40000000</td>\n",
       "                        <td id=\"T_add9d_row102_col1\" class=\"data row102 col1\" >0</td>\n",
       "            </tr>\n",
       "            <tr>\n",
       "                        <th id=\"T_add9d_level0_row103\" class=\"row_heading level0 row103\" >Л.Марголин</th>\n",
       "                        <td id=\"T_add9d_row103_col0\" class=\"data row103 col0\" >40000000</td>\n",
       "                        <td id=\"T_add9d_row103_col1\" class=\"data row103 col1\" >10000000</td>\n",
       "            </tr>\n",
       "            <tr>\n",
       "                        <th id=\"T_add9d_level0_row104\" class=\"row_heading level0 row104\" >В.Бедошвили</th>\n",
       "                        <td id=\"T_add9d_row104_col0\" class=\"data row104 col0\" >40000000</td>\n",
       "                        <td id=\"T_add9d_row104_col1\" class=\"data row104 col1\" >80000000</td>\n",
       "            </tr>\n",
       "            <tr>\n",
       "                        <th id=\"T_add9d_level0_row105\" class=\"row_heading level0 row105\" >В.Хотиненко</th>\n",
       "                        <td id=\"T_add9d_row105_col0\" class=\"data row105 col0\" >38000000</td>\n",
       "                        <td id=\"T_add9d_row105_col1\" class=\"data row105 col1\" >7153119</td>\n",
       "            </tr>\n",
       "            <tr>\n",
       "                        <th id=\"T_add9d_level0_row106\" class=\"row_heading level0 row106\" >Э.Парри</th>\n",
       "                        <td id=\"T_add9d_row106_col0\" class=\"data row106 col0\" >37000000</td>\n",
       "                        <td id=\"T_add9d_row106_col1\" class=\"data row106 col1\" >0</td>\n",
       "            </tr>\n",
       "            <tr>\n",
       "                        <th id=\"T_add9d_level0_row107\" class=\"row_heading level0 row107\" >Ю.Попович</th>\n",
       "                        <td id=\"T_add9d_row107_col0\" class=\"data row107 col0\" >37000000</td>\n",
       "                        <td id=\"T_add9d_row107_col1\" class=\"data row107 col1\" >0</td>\n",
       "            </tr>\n",
       "            <tr>\n",
       "                        <th id=\"T_add9d_level0_row108\" class=\"row_heading level0 row108\" >Ф.Попов</th>\n",
       "                        <td id=\"T_add9d_row108_col0\" class=\"data row108 col0\" >35000000</td>\n",
       "                        <td id=\"T_add9d_row108_col1\" class=\"data row108 col1\" >30000000</td>\n",
       "            </tr>\n",
       "            <tr>\n",
       "                        <th id=\"T_add9d_level0_row109\" class=\"row_heading level0 row109\" >И.Максимов</th>\n",
       "                        <td id=\"T_add9d_row109_col0\" class=\"data row109 col0\" >35000000</td>\n",
       "                        <td id=\"T_add9d_row109_col1\" class=\"data row109 col1\" >5000000</td>\n",
       "            </tr>\n",
       "            <tr>\n",
       "                        <th id=\"T_add9d_level0_row110\" class=\"row_heading level0 row110\" >Е.Борисова</th>\n",
       "                        <td id=\"T_add9d_row110_col0\" class=\"data row110 col0\" >35000000</td>\n",
       "                        <td id=\"T_add9d_row110_col1\" class=\"data row110 col1\" >0</td>\n",
       "            </tr>\n",
       "            <tr>\n",
       "                        <th id=\"T_add9d_level0_row111\" class=\"row_heading level0 row111\" >А.Кончаловский</th>\n",
       "                        <td id=\"T_add9d_row111_col0\" class=\"data row111 col0\" >35000000</td>\n",
       "                        <td id=\"T_add9d_row111_col1\" class=\"data row111 col1\" >0</td>\n",
       "            </tr>\n",
       "            <tr>\n",
       "                        <th id=\"T_add9d_level0_row112\" class=\"row_heading level0 row112\" >И.Волкова</th>\n",
       "                        <td id=\"T_add9d_row112_col0\" class=\"data row112 col0\" >35000000</td>\n",
       "                        <td id=\"T_add9d_row112_col1\" class=\"data row112 col1\" >0</td>\n",
       "            </tr>\n",
       "            <tr>\n",
       "                        <th id=\"T_add9d_level0_row113\" class=\"row_heading level0 row113\" >А.Домогаров</th>\n",
       "                        <td id=\"T_add9d_row113_col0\" class=\"data row113 col0\" >35000000</td>\n",
       "                        <td id=\"T_add9d_row113_col1\" class=\"data row113 col1\" >15000000</td>\n",
       "            </tr>\n",
       "            <tr>\n",
       "                        <th id=\"T_add9d_level0_row114\" class=\"row_heading level0 row114\" >Э.Веливис</th>\n",
       "                        <td id=\"T_add9d_row114_col0\" class=\"data row114 col0\" >35000000</td>\n",
       "                        <td id=\"T_add9d_row114_col1\" class=\"data row114 col1\" >55000000</td>\n",
       "            </tr>\n",
       "            <tr>\n",
       "                        <th id=\"T_add9d_level0_row115\" class=\"row_heading level0 row115\" >А.Луканев</th>\n",
       "                        <td id=\"T_add9d_row115_col0\" class=\"data row115 col0\" >35000000</td>\n",
       "                        <td id=\"T_add9d_row115_col1\" class=\"data row115 col1\" >0</td>\n",
       "            </tr>\n",
       "            <tr>\n",
       "                        <th id=\"T_add9d_level0_row116\" class=\"row_heading level0 row116\" >А.Майовер</th>\n",
       "                        <td id=\"T_add9d_row116_col0\" class=\"data row116 col0\" >35000000</td>\n",
       "                        <td id=\"T_add9d_row116_col1\" class=\"data row116 col1\" >0</td>\n",
       "            </tr>\n",
       "            <tr>\n",
       "                        <th id=\"T_add9d_level0_row117\" class=\"row_heading level0 row117\" >А.Томашевский</th>\n",
       "                        <td id=\"T_add9d_row117_col0\" class=\"data row117 col0\" >35000000</td>\n",
       "                        <td id=\"T_add9d_row117_col1\" class=\"data row117 col1\" >0</td>\n",
       "            </tr>\n",
       "            <tr>\n",
       "                        <th id=\"T_add9d_level0_row118\" class=\"row_heading level0 row118\" >О.Карас</th>\n",
       "                        <td id=\"T_add9d_row118_col0\" class=\"data row118 col0\" >35000000</td>\n",
       "                        <td id=\"T_add9d_row118_col1\" class=\"data row118 col1\" >0</td>\n",
       "            </tr>\n",
       "            <tr>\n",
       "                        <th id=\"T_add9d_level0_row119\" class=\"row_heading level0 row119\" >Е.Бедарев</th>\n",
       "                        <td id=\"T_add9d_row119_col0\" class=\"data row119 col0\" >35000000</td>\n",
       "                        <td id=\"T_add9d_row119_col1\" class=\"data row119 col1\" >0</td>\n",
       "            </tr>\n",
       "            <tr>\n",
       "                        <th id=\"T_add9d_level0_row120\" class=\"row_heading level0 row120\" >А.Миндадзе</th>\n",
       "                        <td id=\"T_add9d_row120_col0\" class=\"data row120 col0\" >35000000</td>\n",
       "                        <td id=\"T_add9d_row120_col1\" class=\"data row120 col1\" >15000000</td>\n",
       "            </tr>\n",
       "            <tr>\n",
       "                        <th id=\"T_add9d_level0_row121\" class=\"row_heading level0 row121\" >А.Баршак</th>\n",
       "                        <td id=\"T_add9d_row121_col0\" class=\"data row121 col0\" >35000000</td>\n",
       "                        <td id=\"T_add9d_row121_col1\" class=\"data row121 col1\" >0</td>\n",
       "            </tr>\n",
       "            <tr>\n",
       "                        <th id=\"T_add9d_level0_row122\" class=\"row_heading level0 row122\" >О.Городецкая</th>\n",
       "                        <td id=\"T_add9d_row122_col0\" class=\"data row122 col0\" >35000000</td>\n",
       "                        <td id=\"T_add9d_row122_col1\" class=\"data row122 col1\" >5000000</td>\n",
       "            </tr>\n",
       "            <tr>\n",
       "                        <th id=\"T_add9d_level0_row123\" class=\"row_heading level0 row123\" >М.Демченко</th>\n",
       "                        <td id=\"T_add9d_row123_col0\" class=\"data row123 col0\" >35000000</td>\n",
       "                        <td id=\"T_add9d_row123_col1\" class=\"data row123 col1\" >0</td>\n",
       "            </tr>\n",
       "            <tr>\n",
       "                        <th id=\"T_add9d_level0_row124\" class=\"row_heading level0 row124\" >Е.Михалков-Кончаловский</th>\n",
       "                        <td id=\"T_add9d_row124_col0\" class=\"data row124 col0\" >35000000</td>\n",
       "                        <td id=\"T_add9d_row124_col1\" class=\"data row124 col1\" >0</td>\n",
       "            </tr>\n",
       "            <tr>\n",
       "                        <th id=\"T_add9d_level0_row125\" class=\"row_heading level0 row125\" >Е.Невский (псевдоним Е.Торрес)</th>\n",
       "                        <td id=\"T_add9d_row125_col0\" class=\"data row125 col0\" >35000000</td>\n",
       "                        <td id=\"T_add9d_row125_col1\" class=\"data row125 col1\" >25000000</td>\n",
       "            </tr>\n",
       "            <tr>\n",
       "                        <th id=\"T_add9d_level0_row126\" class=\"row_heading level0 row126\" >Т.Игуменцева (псевдоним Татьяна Капитан)</th>\n",
       "                        <td id=\"T_add9d_row126_col0\" class=\"data row126 col0\" >35000000</td>\n",
       "                        <td id=\"T_add9d_row126_col1\" class=\"data row126 col1\" >15000000</td>\n",
       "            </tr>\n",
       "            <tr>\n",
       "                        <th id=\"T_add9d_level0_row127\" class=\"row_heading level0 row127\" >И.Перин</th>\n",
       "                        <td id=\"T_add9d_row127_col0\" class=\"data row127 col0\" >35000000</td>\n",
       "                        <td id=\"T_add9d_row127_col1\" class=\"data row127 col1\" >0</td>\n",
       "            </tr>\n",
       "            <tr>\n",
       "                        <th id=\"T_add9d_level0_row128\" class=\"row_heading level0 row128\" >А.Чернакова</th>\n",
       "                        <td id=\"T_add9d_row128_col0\" class=\"data row128 col0\" >35000000</td>\n",
       "                        <td id=\"T_add9d_row128_col1\" class=\"data row128 col1\" >0</td>\n",
       "            </tr>\n",
       "            <tr>\n",
       "                        <th id=\"T_add9d_level0_row129\" class=\"row_heading level0 row129\" >А.Велединский</th>\n",
       "                        <td id=\"T_add9d_row129_col0\" class=\"data row129 col0\" >35000000</td>\n",
       "                        <td id=\"T_add9d_row129_col1\" class=\"data row129 col1\" >0</td>\n",
       "            </tr>\n",
       "            <tr>\n",
       "                        <th id=\"T_add9d_level0_row130\" class=\"row_heading level0 row130\" >В.Бортко</th>\n",
       "                        <td id=\"T_add9d_row130_col0\" class=\"data row130 col0\" >35000000</td>\n",
       "                        <td id=\"T_add9d_row130_col1\" class=\"data row130 col1\" >20000000</td>\n",
       "            </tr>\n",
       "            <tr>\n",
       "                        <th id=\"T_add9d_level0_row131\" class=\"row_heading level0 row131\" >С Чекалов</th>\n",
       "                        <td id=\"T_add9d_row131_col0\" class=\"data row131 col0\" >35000000</td>\n",
       "                        <td id=\"T_add9d_row131_col1\" class=\"data row131 col1\" >0</td>\n",
       "            </tr>\n",
       "            <tr>\n",
       "                        <th id=\"T_add9d_level0_row132\" class=\"row_heading level0 row132\" >П.Чухрай</th>\n",
       "                        <td id=\"T_add9d_row132_col0\" class=\"data row132 col0\" >35000000</td>\n",
       "                        <td id=\"T_add9d_row132_col1\" class=\"data row132 col1\" >0</td>\n",
       "            </tr>\n",
       "            <tr>\n",
       "                        <th id=\"T_add9d_level0_row133\" class=\"row_heading level0 row133\" >П.Дроздов</th>\n",
       "                        <td id=\"T_add9d_row133_col0\" class=\"data row133 col0\" >35000000</td>\n",
       "                        <td id=\"T_add9d_row133_col1\" class=\"data row133 col1\" >0</td>\n",
       "            </tr>\n",
       "            <tr>\n",
       "                        <th id=\"T_add9d_level0_row134\" class=\"row_heading level0 row134\" >Ю.Фетинг</th>\n",
       "                        <td id=\"T_add9d_row134_col0\" class=\"data row134 col0\" >34000000</td>\n",
       "                        <td id=\"T_add9d_row134_col1\" class=\"data row134 col1\" >0</td>\n",
       "            </tr>\n",
       "            <tr>\n",
       "                        <th id=\"T_add9d_level0_row135\" class=\"row_heading level0 row135\" >А.Першин (псевдоним Ж.Крыжовников)</th>\n",
       "                        <td id=\"T_add9d_row135_col0\" class=\"data row135 col0\" >34000000</td>\n",
       "                        <td id=\"T_add9d_row135_col1\" class=\"data row135 col1\" >29000000</td>\n",
       "            </tr>\n",
       "            <tr>\n",
       "                        <th id=\"T_add9d_level0_row136\" class=\"row_heading level0 row136\" >Д.Федоров</th>\n",
       "                        <td id=\"T_add9d_row136_col0\" class=\"data row136 col0\" >34000000</td>\n",
       "                        <td id=\"T_add9d_row136_col1\" class=\"data row136 col1\" >0</td>\n",
       "            </tr>\n",
       "            <tr>\n",
       "                        <th id=\"T_add9d_level0_row137\" class=\"row_heading level0 row137\" >В.Харченко</th>\n",
       "                        <td id=\"T_add9d_row137_col0\" class=\"data row137 col0\" >34000000</td>\n",
       "                        <td id=\"T_add9d_row137_col1\" class=\"data row137 col1\" >0</td>\n",
       "            </tr>\n",
       "            <tr>\n",
       "                        <th id=\"T_add9d_level0_row138\" class=\"row_heading level0 row138\" >А.Сухарев</th>\n",
       "                        <td id=\"T_add9d_row138_col0\" class=\"data row138 col0\" >30000000</td>\n",
       "                        <td id=\"T_add9d_row138_col1\" class=\"data row138 col1\" >0</td>\n",
       "            </tr>\n",
       "            <tr>\n",
       "                        <th id=\"T_add9d_level0_row139\" class=\"row_heading level0 row139\" >В.Шевельков</th>\n",
       "                        <td id=\"T_add9d_row139_col0\" class=\"data row139 col0\" >30000000</td>\n",
       "                        <td id=\"T_add9d_row139_col1\" class=\"data row139 col1\" >0</td>\n",
       "            </tr>\n",
       "            <tr>\n",
       "                        <th id=\"T_add9d_level0_row140\" class=\"row_heading level0 row140\" >М.Бальчюнас</th>\n",
       "                        <td id=\"T_add9d_row140_col0\" class=\"data row140 col0\" >30000000</td>\n",
       "                        <td id=\"T_add9d_row140_col1\" class=\"data row140 col1\" >0</td>\n",
       "            </tr>\n",
       "            <tr>\n",
       "                        <th id=\"T_add9d_level0_row141\" class=\"row_heading level0 row141\" >Д.Суворов</th>\n",
       "                        <td id=\"T_add9d_row141_col0\" class=\"data row141 col0\" >30000000</td>\n",
       "                        <td id=\"T_add9d_row141_col1\" class=\"data row141 col1\" >25000000</td>\n",
       "            </tr>\n",
       "            <tr>\n",
       "                        <th id=\"T_add9d_level0_row142\" class=\"row_heading level0 row142\" >К.Малкин-Фам</th>\n",
       "                        <td id=\"T_add9d_row142_col0\" class=\"data row142 col0\" >30000000</td>\n",
       "                        <td id=\"T_add9d_row142_col1\" class=\"data row142 col1\" >0</td>\n",
       "            </tr>\n",
       "            <tr>\n",
       "                        <th id=\"T_add9d_level0_row143\" class=\"row_heading level0 row143\" >И.Угольников</th>\n",
       "                        <td id=\"T_add9d_row143_col0\" class=\"data row143 col0\" >30000000</td>\n",
       "                        <td id=\"T_add9d_row143_col1\" class=\"data row143 col1\" >0</td>\n",
       "            </tr>\n",
       "            <tr>\n",
       "                        <th id=\"T_add9d_level0_row144\" class=\"row_heading level0 row144\" >А.Мельник</th>\n",
       "                        <td id=\"T_add9d_row144_col0\" class=\"data row144 col0\" >30000000</td>\n",
       "                        <td id=\"T_add9d_row144_col1\" class=\"data row144 col1\" >30000000</td>\n",
       "            </tr>\n",
       "            <tr>\n",
       "                        <th id=\"T_add9d_level0_row145\" class=\"row_heading level0 row145\" >Д.Светозаров</th>\n",
       "                        <td id=\"T_add9d_row145_col0\" class=\"data row145 col0\" >30000000</td>\n",
       "                        <td id=\"T_add9d_row145_col1\" class=\"data row145 col1\" >0</td>\n",
       "            </tr>\n",
       "            <tr>\n",
       "                        <th id=\"T_add9d_level0_row146\" class=\"row_heading level0 row146\" >Ю.Васильев</th>\n",
       "                        <td id=\"T_add9d_row146_col0\" class=\"data row146 col0\" >30000000</td>\n",
       "                        <td id=\"T_add9d_row146_col1\" class=\"data row146 col1\" >110000000</td>\n",
       "            </tr>\n",
       "            <tr>\n",
       "                        <th id=\"T_add9d_level0_row147\" class=\"row_heading level0 row147\" >А.Герман</th>\n",
       "                        <td id=\"T_add9d_row147_col0\" class=\"data row147 col0\" >30000000</td>\n",
       "                        <td id=\"T_add9d_row147_col1\" class=\"data row147 col1\" >0</td>\n",
       "            </tr>\n",
       "            <tr>\n",
       "                        <th id=\"T_add9d_level0_row148\" class=\"row_heading level0 row148\" >П.Санаев</th>\n",
       "                        <td id=\"T_add9d_row148_col0\" class=\"data row148 col0\" >30000000</td>\n",
       "                        <td id=\"T_add9d_row148_col1\" class=\"data row148 col1\" >0</td>\n",
       "            </tr>\n",
       "            <tr>\n",
       "                        <th id=\"T_add9d_level0_row149\" class=\"row_heading level0 row149\" >И.Шахназаров</th>\n",
       "                        <td id=\"T_add9d_row149_col0\" class=\"data row149 col0\" >30000000</td>\n",
       "                        <td id=\"T_add9d_row149_col1\" class=\"data row149 col1\" >10000000</td>\n",
       "            </tr>\n",
       "            <tr>\n",
       "                        <th id=\"T_add9d_level0_row150\" class=\"row_heading level0 row150\" >В.Алеников</th>\n",
       "                        <td id=\"T_add9d_row150_col0\" class=\"data row150 col0\" >30000000</td>\n",
       "                        <td id=\"T_add9d_row150_col1\" class=\"data row150 col1\" >0</td>\n",
       "            </tr>\n",
       "            <tr>\n",
       "                        <th id=\"T_add9d_level0_row151\" class=\"row_heading level0 row151\" >Н.Сайфуллаева</th>\n",
       "                        <td id=\"T_add9d_row151_col0\" class=\"data row151 col0\" >30000000</td>\n",
       "                        <td id=\"T_add9d_row151_col1\" class=\"data row151 col1\" >0</td>\n",
       "            </tr>\n",
       "            <tr>\n",
       "                        <th id=\"T_add9d_level0_row152\" class=\"row_heading level0 row152\" >Я.Поляруш</th>\n",
       "                        <td id=\"T_add9d_row152_col0\" class=\"data row152 col0\" >30000000</td>\n",
       "                        <td id=\"T_add9d_row152_col1\" class=\"data row152 col1\" >0</td>\n",
       "            </tr>\n",
       "            <tr>\n",
       "                        <th id=\"T_add9d_level0_row153\" class=\"row_heading level0 row153\" >А.Золотухин</th>\n",
       "                        <td id=\"T_add9d_row153_col0\" class=\"data row153 col0\" >30000000</td>\n",
       "                        <td id=\"T_add9d_row153_col1\" class=\"data row153 col1\" >0</td>\n",
       "            </tr>\n",
       "            <tr>\n",
       "                        <th id=\"T_add9d_level0_row154\" class=\"row_heading level0 row154\" >Ф.Абрютин</th>\n",
       "                        <td id=\"T_add9d_row154_col0\" class=\"data row154 col0\" >30000000</td>\n",
       "                        <td id=\"T_add9d_row154_col1\" class=\"data row154 col1\" >0</td>\n",
       "            </tr>\n",
       "            <tr>\n",
       "                        <th id=\"T_add9d_level0_row155\" class=\"row_heading level0 row155\" >С.Проскурина</th>\n",
       "                        <td id=\"T_add9d_row155_col0\" class=\"data row155 col0\" >30000000</td>\n",
       "                        <td id=\"T_add9d_row155_col1\" class=\"data row155 col1\" >0</td>\n",
       "            </tr>\n",
       "            <tr>\n",
       "                        <th id=\"T_add9d_level0_row156\" class=\"row_heading level0 row156\" >Ю.Быков</th>\n",
       "                        <td id=\"T_add9d_row156_col0\" class=\"data row156 col0\" >30000000</td>\n",
       "                        <td id=\"T_add9d_row156_col1\" class=\"data row156 col1\" >0</td>\n",
       "            </tr>\n",
       "            <tr>\n",
       "                        <th id=\"T_add9d_level0_row157\" class=\"row_heading level0 row157\" >М.Шевчук</th>\n",
       "                        <td id=\"T_add9d_row157_col0\" class=\"data row157 col0\" >30000000</td>\n",
       "                        <td id=\"T_add9d_row157_col1\" class=\"data row157 col1\" >0</td>\n",
       "            </tr>\n",
       "            <tr>\n",
       "                        <th id=\"T_add9d_level0_row158\" class=\"row_heading level0 row158\" >К.Оганесян</th>\n",
       "                        <td id=\"T_add9d_row158_col0\" class=\"data row158 col0\" >30000000</td>\n",
       "                        <td id=\"T_add9d_row158_col1\" class=\"data row158 col1\" >0</td>\n",
       "            </tr>\n",
       "            <tr>\n",
       "                        <th id=\"T_add9d_level0_row159\" class=\"row_heading level0 row159\" >И.Волошин</th>\n",
       "                        <td id=\"T_add9d_row159_col0\" class=\"data row159 col0\" >30000000</td>\n",
       "                        <td id=\"T_add9d_row159_col1\" class=\"data row159 col1\" >0</td>\n",
       "            </tr>\n",
       "            <tr>\n",
       "                        <th id=\"T_add9d_level0_row160\" class=\"row_heading level0 row160\" >А.Китайцев</th>\n",
       "                        <td id=\"T_add9d_row160_col0\" class=\"data row160 col0\" >30000000</td>\n",
       "                        <td id=\"T_add9d_row160_col1\" class=\"data row160 col1\" >0</td>\n",
       "            </tr>\n",
       "            <tr>\n",
       "                        <th id=\"T_add9d_level0_row161\" class=\"row_heading level0 row161\" >А.Ананикян</th>\n",
       "                        <td id=\"T_add9d_row161_col0\" class=\"data row161 col0\" >30000000</td>\n",
       "                        <td id=\"T_add9d_row161_col1\" class=\"data row161 col1\" >25000000</td>\n",
       "            </tr>\n",
       "            <tr>\n",
       "                        <th id=\"T_add9d_level0_row162\" class=\"row_heading level0 row162\" >К.Геворкян</th>\n",
       "                        <td id=\"T_add9d_row162_col0\" class=\"data row162 col0\" >30000000</td>\n",
       "                        <td id=\"T_add9d_row162_col1\" class=\"data row162 col1\" >0</td>\n",
       "            </tr>\n",
       "            <tr>\n",
       "                        <th id=\"T_add9d_level0_row163\" class=\"row_heading level0 row163\" >В.Марков</th>\n",
       "                        <td id=\"T_add9d_row163_col0\" class=\"data row163 col0\" >30000000</td>\n",
       "                        <td id=\"T_add9d_row163_col1\" class=\"data row163 col1\" >5000000</td>\n",
       "            </tr>\n",
       "            <tr>\n",
       "                        <th id=\"T_add9d_level0_row164\" class=\"row_heading level0 row164\" >Максим Свешников</th>\n",
       "                        <td id=\"T_add9d_row164_col0\" class=\"data row164 col0\" >30000000</td>\n",
       "                        <td id=\"T_add9d_row164_col1\" class=\"data row164 col1\" >26000000</td>\n",
       "            </tr>\n",
       "            <tr>\n",
       "                        <th id=\"T_add9d_level0_row165\" class=\"row_heading level0 row165\" >Валерия Гай Германика</th>\n",
       "                        <td id=\"T_add9d_row165_col0\" class=\"data row165 col0\" >30000000</td>\n",
       "                        <td id=\"T_add9d_row165_col1\" class=\"data row165 col1\" >0</td>\n",
       "            </tr>\n",
       "            <tr>\n",
       "                        <th id=\"T_add9d_level0_row166\" class=\"row_heading level0 row166\" >И.Евланникова</th>\n",
       "                        <td id=\"T_add9d_row166_col0\" class=\"data row166 col0\" >30000000</td>\n",
       "                        <td id=\"T_add9d_row166_col1\" class=\"data row166 col1\" >30000000</td>\n",
       "            </tr>\n",
       "            <tr>\n",
       "                        <th id=\"T_add9d_level0_row167\" class=\"row_heading level0 row167\" >А.Черномазов (псевдоним Алексей Нужный)</th>\n",
       "                        <td id=\"T_add9d_row167_col0\" class=\"data row167 col0\" >30000000</td>\n",
       "                        <td id=\"T_add9d_row167_col1\" class=\"data row167 col1\" >0</td>\n",
       "            </tr>\n",
       "            <tr>\n",
       "                        <th id=\"T_add9d_level0_row168\" class=\"row_heading level0 row168\" >Е.Хазанова</th>\n",
       "                        <td id=\"T_add9d_row168_col0\" class=\"data row168 col0\" >30000000</td>\n",
       "                        <td id=\"T_add9d_row168_col1\" class=\"data row168 col1\" >0</td>\n",
       "            </tr>\n",
       "            <tr>\n",
       "                        <th id=\"T_add9d_level0_row169\" class=\"row_heading level0 row169\" >Р.Паушу</th>\n",
       "                        <td id=\"T_add9d_row169_col0\" class=\"data row169 col0\" >30000000</td>\n",
       "                        <td id=\"T_add9d_row169_col1\" class=\"data row169 col1\" >0</td>\n",
       "            </tr>\n",
       "            <tr>\n",
       "                        <th id=\"T_add9d_level0_row170\" class=\"row_heading level0 row170\" >Штефан Кромер</th>\n",
       "                        <td id=\"T_add9d_row170_col0\" class=\"data row170 col0\" >28000000</td>\n",
       "                        <td id=\"T_add9d_row170_col1\" class=\"data row170 col1\" >0</td>\n",
       "            </tr>\n",
       "            <tr>\n",
       "                        <th id=\"T_add9d_level0_row171\" class=\"row_heading level0 row171\" >Е.Миндадзе (псевдоним Катя Шагалова)</th>\n",
       "                        <td id=\"T_add9d_row171_col0\" class=\"data row171 col0\" >28000000</td>\n",
       "                        <td id=\"T_add9d_row171_col1\" class=\"data row171 col1\" >0</td>\n",
       "            </tr>\n",
       "            <tr>\n",
       "                        <th id=\"T_add9d_level0_row172\" class=\"row_heading level0 row172\" >И.Вырыпаев</th>\n",
       "                        <td id=\"T_add9d_row172_col0\" class=\"data row172 col0\" >28000000</td>\n",
       "                        <td id=\"T_add9d_row172_col1\" class=\"data row172 col1\" >0</td>\n",
       "            </tr>\n",
       "            <tr>\n",
       "                        <th id=\"T_add9d_level0_row173\" class=\"row_heading level0 row173\" >А.Стриженов</th>\n",
       "                        <td id=\"T_add9d_row173_col0\" class=\"data row173 col0\" >28000000</td>\n",
       "                        <td id=\"T_add9d_row173_col1\" class=\"data row173 col1\" >0</td>\n",
       "            </tr>\n",
       "            <tr>\n",
       "                        <th id=\"T_add9d_level0_row174\" class=\"row_heading level0 row174\" >С.Дворцевой</th>\n",
       "                        <td id=\"T_add9d_row174_col0\" class=\"data row174 col0\" >28000000</td>\n",
       "                        <td id=\"T_add9d_row174_col1\" class=\"data row174 col1\" >0</td>\n",
       "            </tr>\n",
       "            <tr>\n",
       "                        <th id=\"T_add9d_level0_row175\" class=\"row_heading level0 row175\" >С.Говорухин</th>\n",
       "                        <td id=\"T_add9d_row175_col0\" class=\"data row175 col0\" >28000000</td>\n",
       "                        <td id=\"T_add9d_row175_col1\" class=\"data row175 col1\" >0</td>\n",
       "            </tr>\n",
       "            <tr>\n",
       "                        <th id=\"T_add9d_level0_row176\" class=\"row_heading level0 row176\" >В.Штерянов при участии Е.Немых</th>\n",
       "                        <td id=\"T_add9d_row176_col0\" class=\"data row176 col0\" >27500000</td>\n",
       "                        <td id=\"T_add9d_row176_col1\" class=\"data row176 col1\" >0</td>\n",
       "            </tr>\n",
       "            <tr>\n",
       "                        <th id=\"T_add9d_level0_row177\" class=\"row_heading level0 row177\" >К.Ангелина</th>\n",
       "                        <td id=\"T_add9d_row177_col0\" class=\"data row177 col0\" >27000000</td>\n",
       "                        <td id=\"T_add9d_row177_col1\" class=\"data row177 col1\" >10000000</td>\n",
       "            </tr>\n",
       "            <tr>\n",
       "                        <th id=\"T_add9d_level0_row178\" class=\"row_heading level0 row178\" >А.Аравин</th>\n",
       "                        <td id=\"T_add9d_row178_col0\" class=\"data row178 col0\" >27000000</td>\n",
       "                        <td id=\"T_add9d_row178_col1\" class=\"data row178 col1\" >0</td>\n",
       "            </tr>\n",
       "            <tr>\n",
       "                        <th id=\"T_add9d_level0_row179\" class=\"row_heading level0 row179\" >С.Комаров</th>\n",
       "                        <td id=\"T_add9d_row179_col0\" class=\"data row179 col0\" >26950000</td>\n",
       "                        <td id=\"T_add9d_row179_col1\" class=\"data row179 col1\" >0</td>\n",
       "            </tr>\n",
       "            <tr>\n",
       "                        <th id=\"T_add9d_level0_row180\" class=\"row_heading level0 row180\" >А.Атанесян</th>\n",
       "                        <td id=\"T_add9d_row180_col0\" class=\"data row180 col0\" >26500000</td>\n",
       "                        <td id=\"T_add9d_row180_col1\" class=\"data row180 col1\" >0</td>\n",
       "            </tr>\n",
       "            <tr>\n",
       "                        <th id=\"T_add9d_level0_row181\" class=\"row_heading level0 row181\" >Е.Татаров</th>\n",
       "                        <td id=\"T_add9d_row181_col0\" class=\"data row181 col0\" >26000000</td>\n",
       "                        <td id=\"T_add9d_row181_col1\" class=\"data row181 col1\" >0</td>\n",
       "            </tr>\n",
       "            <tr>\n",
       "                        <th id=\"T_add9d_level0_row182\" class=\"row_heading level0 row182\" >Т.Воронецкая</th>\n",
       "                        <td id=\"T_add9d_row182_col0\" class=\"data row182 col0\" >26000000</td>\n",
       "                        <td id=\"T_add9d_row182_col1\" class=\"data row182 col1\" >0</td>\n",
       "            </tr>\n",
       "            <tr>\n",
       "                        <th id=\"T_add9d_level0_row183\" class=\"row_heading level0 row183\" >И.Кордзаия</th>\n",
       "                        <td id=\"T_add9d_row183_col0\" class=\"data row183 col0\" >25900000</td>\n",
       "                        <td id=\"T_add9d_row183_col1\" class=\"data row183 col1\" >0</td>\n",
       "            </tr>\n",
       "            <tr>\n",
       "                        <th id=\"T_add9d_level0_row184\" class=\"row_heading level0 row184\" >В.Щегольков</th>\n",
       "                        <td id=\"T_add9d_row184_col0\" class=\"data row184 col0\" >25500000</td>\n",
       "                        <td id=\"T_add9d_row184_col1\" class=\"data row184 col1\" >0</td>\n",
       "            </tr>\n",
       "            <tr>\n",
       "                        <th id=\"T_add9d_level0_row185\" class=\"row_heading level0 row185\" >А.Амиров</th>\n",
       "                        <td id=\"T_add9d_row185_col0\" class=\"data row185 col0\" >25200000</td>\n",
       "                        <td id=\"T_add9d_row185_col1\" class=\"data row185 col1\" >0</td>\n",
       "            </tr>\n",
       "            <tr>\n",
       "                        <th id=\"T_add9d_level0_row186\" class=\"row_heading level0 row186\" >Б.Акопов</th>\n",
       "                        <td id=\"T_add9d_row186_col0\" class=\"data row186 col0\" >25000000</td>\n",
       "                        <td id=\"T_add9d_row186_col1\" class=\"data row186 col1\" >0</td>\n",
       "            </tr>\n",
       "            <tr>\n",
       "                        <th id=\"T_add9d_level0_row187\" class=\"row_heading level0 row187\" >Н.Назарова</th>\n",
       "                        <td id=\"T_add9d_row187_col0\" class=\"data row187 col0\" >25000000</td>\n",
       "                        <td id=\"T_add9d_row187_col1\" class=\"data row187 col1\" >0</td>\n",
       "            </tr>\n",
       "            <tr>\n",
       "                        <th id=\"T_add9d_level0_row188\" class=\"row_heading level0 row188\" >Н.Михалкова</th>\n",
       "                        <td id=\"T_add9d_row188_col0\" class=\"data row188 col0\" >25000000</td>\n",
       "                        <td id=\"T_add9d_row188_col1\" class=\"data row188 col1\" >0</td>\n",
       "            </tr>\n",
       "            <tr>\n",
       "                        <th id=\"T_add9d_level0_row189\" class=\"row_heading level0 row189\" >Т.Жалнин</th>\n",
       "                        <td id=\"T_add9d_row189_col0\" class=\"data row189 col0\" >25000000</td>\n",
       "                        <td id=\"T_add9d_row189_col1\" class=\"data row189 col1\" >0</td>\n",
       "            </tr>\n",
       "            <tr>\n",
       "                        <th id=\"T_add9d_level0_row190\" class=\"row_heading level0 row190\" >К.Баскакова</th>\n",
       "                        <td id=\"T_add9d_row190_col0\" class=\"data row190 col0\" >25000000</td>\n",
       "                        <td id=\"T_add9d_row190_col1\" class=\"data row190 col1\" >0</td>\n",
       "            </tr>\n",
       "            <tr>\n",
       "                        <th id=\"T_add9d_level0_row191\" class=\"row_heading level0 row191\" >К.Сухарьков</th>\n",
       "                        <td id=\"T_add9d_row191_col0\" class=\"data row191 col0\" >25000000</td>\n",
       "                        <td id=\"T_add9d_row191_col1\" class=\"data row191 col1\" >0</td>\n",
       "            </tr>\n",
       "            <tr>\n",
       "                        <th id=\"T_add9d_level0_row192\" class=\"row_heading level0 row192\" >К.Соколов</th>\n",
       "                        <td id=\"T_add9d_row192_col0\" class=\"data row192 col0\" >25000000</td>\n",
       "                        <td id=\"T_add9d_row192_col1\" class=\"data row192 col1\" >0</td>\n",
       "            </tr>\n",
       "            <tr>\n",
       "                        <th id=\"T_add9d_level0_row193\" class=\"row_heading level0 row193\" >М.Морсков</th>\n",
       "                        <td id=\"T_add9d_row193_col0\" class=\"data row193 col0\" >25000000</td>\n",
       "                        <td id=\"T_add9d_row193_col1\" class=\"data row193 col1\" >0</td>\n",
       "            </tr>\n",
       "            <tr>\n",
       "                        <th id=\"T_add9d_level0_row194\" class=\"row_heading level0 row194\" >А.Аббасов</th>\n",
       "                        <td id=\"T_add9d_row194_col0\" class=\"data row194 col0\" >25000000</td>\n",
       "                        <td id=\"T_add9d_row194_col1\" class=\"data row194 col1\" >28000000</td>\n",
       "            </tr>\n",
       "            <tr>\n",
       "                        <th id=\"T_add9d_level0_row195\" class=\"row_heading level0 row195\" >С.Пускепалис</th>\n",
       "                        <td id=\"T_add9d_row195_col0\" class=\"data row195 col0\" >25000000</td>\n",
       "                        <td id=\"T_add9d_row195_col1\" class=\"data row195 col1\" >0</td>\n",
       "            </tr>\n",
       "            <tr>\n",
       "                        <th id=\"T_add9d_level0_row196\" class=\"row_heading level0 row196\" >Г.Куценко (Ю.Куценко)</th>\n",
       "                        <td id=\"T_add9d_row196_col0\" class=\"data row196 col0\" >25000000</td>\n",
       "                        <td id=\"T_add9d_row196_col1\" class=\"data row196 col1\" >0</td>\n",
       "            </tr>\n",
       "            <tr>\n",
       "                        <th id=\"T_add9d_level0_row197\" class=\"row_heading level0 row197\" >К.Коваленко</th>\n",
       "                        <td id=\"T_add9d_row197_col0\" class=\"data row197 col0\" >25000000</td>\n",
       "                        <td id=\"T_add9d_row197_col1\" class=\"data row197 col1\" >0</td>\n",
       "            </tr>\n",
       "            <tr>\n",
       "                        <th id=\"T_add9d_level0_row198\" class=\"row_heading level0 row198\" >М.Свешников</th>\n",
       "                        <td id=\"T_add9d_row198_col0\" class=\"data row198 col0\" >25000000</td>\n",
       "                        <td id=\"T_add9d_row198_col1\" class=\"data row198 col1\" >0</td>\n",
       "            </tr>\n",
       "            <tr>\n",
       "                        <th id=\"T_add9d_level0_row199\" class=\"row_heading level0 row199\" >П.Левченко</th>\n",
       "                        <td id=\"T_add9d_row199_col0\" class=\"data row199 col0\" >25000000</td>\n",
       "                        <td id=\"T_add9d_row199_col1\" class=\"data row199 col1\" >0</td>\n",
       "            </tr>\n",
       "            <tr>\n",
       "                        <th id=\"T_add9d_level0_row200\" class=\"row_heading level0 row200\" >И.Болотников</th>\n",
       "                        <td id=\"T_add9d_row200_col0\" class=\"data row200 col0\" >25000000</td>\n",
       "                        <td id=\"T_add9d_row200_col1\" class=\"data row200 col1\" >0</td>\n",
       "            </tr>\n",
       "            <tr>\n",
       "                        <th id=\"T_add9d_level0_row201\" class=\"row_heading level0 row201\" >А.Хант</th>\n",
       "                        <td id=\"T_add9d_row201_col0\" class=\"data row201 col0\" >25000000</td>\n",
       "                        <td id=\"T_add9d_row201_col1\" class=\"data row201 col1\" >0</td>\n",
       "            </tr>\n",
       "            <tr>\n",
       "                        <th id=\"T_add9d_level0_row202\" class=\"row_heading level0 row202\" >С.Серегин</th>\n",
       "                        <td id=\"T_add9d_row202_col0\" class=\"data row202 col0\" >25000000</td>\n",
       "                        <td id=\"T_add9d_row202_col1\" class=\"data row202 col1\" >0</td>\n",
       "            </tr>\n",
       "            <tr>\n",
       "                        <th id=\"T_add9d_level0_row203\" class=\"row_heading level0 row203\" >М.Угаров</th>\n",
       "                        <td id=\"T_add9d_row203_col0\" class=\"data row203 col0\" >25000000</td>\n",
       "                        <td id=\"T_add9d_row203_col1\" class=\"data row203 col1\" >0</td>\n",
       "            </tr>\n",
       "            <tr>\n",
       "                        <th id=\"T_add9d_level0_row204\" class=\"row_heading level0 row204\" >Т.Аленикова</th>\n",
       "                        <td id=\"T_add9d_row204_col0\" class=\"data row204 col0\" >25000000</td>\n",
       "                        <td id=\"T_add9d_row204_col1\" class=\"data row204 col1\" >0</td>\n",
       "            </tr>\n",
       "            <tr>\n",
       "                        <th id=\"T_add9d_level0_row205\" class=\"row_heading level0 row205\" >В.Фанасютина</th>\n",
       "                        <td id=\"T_add9d_row205_col0\" class=\"data row205 col0\" >25000000</td>\n",
       "                        <td id=\"T_add9d_row205_col1\" class=\"data row205 col1\" >0</td>\n",
       "            </tr>\n",
       "            <tr>\n",
       "                        <th id=\"T_add9d_level0_row206\" class=\"row_heading level0 row206\" >В.Алфёров</th>\n",
       "                        <td id=\"T_add9d_row206_col0\" class=\"data row206 col0\" >25000000</td>\n",
       "                        <td id=\"T_add9d_row206_col1\" class=\"data row206 col1\" >0</td>\n",
       "            </tr>\n",
       "            <tr>\n",
       "                        <th id=\"T_add9d_level0_row207\" class=\"row_heading level0 row207\" >В.Битоков</th>\n",
       "                        <td id=\"T_add9d_row207_col0\" class=\"data row207 col0\" >25000000</td>\n",
       "                        <td id=\"T_add9d_row207_col1\" class=\"data row207 col1\" >0</td>\n",
       "            </tr>\n",
       "            <tr>\n",
       "                        <th id=\"T_add9d_level0_row208\" class=\"row_heading level0 row208\" >И.Учитель</th>\n",
       "                        <td id=\"T_add9d_row208_col0\" class=\"data row208 col0\" >25000000</td>\n",
       "                        <td id=\"T_add9d_row208_col1\" class=\"data row208 col1\" >25000000</td>\n",
       "            </tr>\n",
       "            <tr>\n",
       "                        <th id=\"T_add9d_level0_row209\" class=\"row_heading level0 row209\" >О.Зуева</th>\n",
       "                        <td id=\"T_add9d_row209_col0\" class=\"data row209 col0\" >25000000</td>\n",
       "                        <td id=\"T_add9d_row209_col1\" class=\"data row209 col1\" >0</td>\n",
       "            </tr>\n",
       "            <tr>\n",
       "                        <th id=\"T_add9d_level0_row210\" class=\"row_heading level0 row210\" >С.Черников</th>\n",
       "                        <td id=\"T_add9d_row210_col0\" class=\"data row210 col0\" >25000000</td>\n",
       "                        <td id=\"T_add9d_row210_col1\" class=\"data row210 col1\" >0</td>\n",
       "            </tr>\n",
       "            <tr>\n",
       "                        <th id=\"T_add9d_level0_row211\" class=\"row_heading level0 row211\" >О.Попова</th>\n",
       "                        <td id=\"T_add9d_row211_col0\" class=\"data row211 col0\" >25000000</td>\n",
       "                        <td id=\"T_add9d_row211_col1\" class=\"data row211 col1\" >0</td>\n",
       "            </tr>\n",
       "            <tr>\n",
       "                        <th id=\"T_add9d_level0_row212\" class=\"row_heading level0 row212\" >Ю.Грымов</th>\n",
       "                        <td id=\"T_add9d_row212_col0\" class=\"data row212 col0\" >25000000</td>\n",
       "                        <td id=\"T_add9d_row212_col1\" class=\"data row212 col1\" >0</td>\n",
       "            </tr>\n",
       "            <tr>\n",
       "                        <th id=\"T_add9d_level0_row213\" class=\"row_heading level0 row213\" >Н.Мещанинова</th>\n",
       "                        <td id=\"T_add9d_row213_col0\" class=\"data row213 col0\" >25000000</td>\n",
       "                        <td id=\"T_add9d_row213_col1\" class=\"data row213 col1\" >0</td>\n",
       "            </tr>\n",
       "            <tr>\n",
       "                        <th id=\"T_add9d_level0_row214\" class=\"row_heading level0 row214\" >Т.Тания</th>\n",
       "                        <td id=\"T_add9d_row214_col0\" class=\"data row214 col0\" >25000000</td>\n",
       "                        <td id=\"T_add9d_row214_col1\" class=\"data row214 col1\" >0</td>\n",
       "            </tr>\n",
       "            <tr>\n",
       "                        <th id=\"T_add9d_level0_row215\" class=\"row_heading level0 row215\" >А.Игудин</th>\n",
       "                        <td id=\"T_add9d_row215_col0\" class=\"data row215 col0\" >25000000</td>\n",
       "                        <td id=\"T_add9d_row215_col1\" class=\"data row215 col1\" >0</td>\n",
       "            </tr>\n",
       "            <tr>\n",
       "                        <th id=\"T_add9d_level0_row216\" class=\"row_heading level0 row216\" >Ю.Белюсева</th>\n",
       "                        <td id=\"T_add9d_row216_col0\" class=\"data row216 col0\" >25000000</td>\n",
       "                        <td id=\"T_add9d_row216_col1\" class=\"data row216 col1\" >0</td>\n",
       "            </tr>\n",
       "            <tr>\n",
       "                        <th id=\"T_add9d_level0_row217\" class=\"row_heading level0 row217\" >Д.Панченко</th>\n",
       "                        <td id=\"T_add9d_row217_col0\" class=\"data row217 col0\" >25000000</td>\n",
       "                        <td id=\"T_add9d_row217_col1\" class=\"data row217 col1\" >0</td>\n",
       "            </tr>\n",
       "            <tr>\n",
       "                        <th id=\"T_add9d_level0_row218\" class=\"row_heading level0 row218\" >Т.Мамедов</th>\n",
       "                        <td id=\"T_add9d_row218_col0\" class=\"data row218 col0\" >25000000</td>\n",
       "                        <td id=\"T_add9d_row218_col1\" class=\"data row218 col1\" >15000000</td>\n",
       "            </tr>\n",
       "            <tr>\n",
       "                        <th id=\"T_add9d_level0_row219\" class=\"row_heading level0 row219\" >А.Михалков</th>\n",
       "                        <td id=\"T_add9d_row219_col0\" class=\"data row219 col0\" >25000000</td>\n",
       "                        <td id=\"T_add9d_row219_col1\" class=\"data row219 col1\" >0</td>\n",
       "            </tr>\n",
       "            <tr>\n",
       "                        <th id=\"T_add9d_level0_row220\" class=\"row_heading level0 row220\" >А.Калинкин</th>\n",
       "                        <td id=\"T_add9d_row220_col0\" class=\"data row220 col0\" >25000000</td>\n",
       "                        <td id=\"T_add9d_row220_col1\" class=\"data row220 col1\" >0</td>\n",
       "            </tr>\n",
       "            <tr>\n",
       "                        <th id=\"T_add9d_level0_row221\" class=\"row_heading level0 row221\" >А.Горчилин</th>\n",
       "                        <td id=\"T_add9d_row221_col0\" class=\"data row221 col0\" >25000000</td>\n",
       "                        <td id=\"T_add9d_row221_col1\" class=\"data row221 col1\" >0</td>\n",
       "            </tr>\n",
       "            <tr>\n",
       "                        <th id=\"T_add9d_level0_row222\" class=\"row_heading level0 row222\" >М.Агранович</th>\n",
       "                        <td id=\"T_add9d_row222_col0\" class=\"data row222 col0\" >25000000</td>\n",
       "                        <td id=\"T_add9d_row222_col1\" class=\"data row222 col1\" >0</td>\n",
       "            </tr>\n",
       "            <tr>\n",
       "                        <th id=\"T_add9d_level0_row223\" class=\"row_heading level0 row223\" >Е.Соколов</th>\n",
       "                        <td id=\"T_add9d_row223_col0\" class=\"data row223 col0\" >25000000</td>\n",
       "                        <td id=\"T_add9d_row223_col1\" class=\"data row223 col1\" >0</td>\n",
       "            </tr>\n",
       "            <tr>\n",
       "                        <th id=\"T_add9d_level0_row224\" class=\"row_heading level0 row224\" >Р.Волобуев</th>\n",
       "                        <td id=\"T_add9d_row224_col0\" class=\"data row224 col0\" >25000000</td>\n",
       "                        <td id=\"T_add9d_row224_col1\" class=\"data row224 col1\" >5000000</td>\n",
       "            </tr>\n",
       "            <tr>\n",
       "                        <th id=\"T_add9d_level0_row225\" class=\"row_heading level0 row225\" >Ю.Кулаков</th>\n",
       "                        <td id=\"T_add9d_row225_col0\" class=\"data row225 col0\" >25000000</td>\n",
       "                        <td id=\"T_add9d_row225_col1\" class=\"data row225 col1\" >5000000</td>\n",
       "            </tr>\n",
       "            <tr>\n",
       "                        <th id=\"T_add9d_level0_row226\" class=\"row_heading level0 row226\" >Е.Яцкина</th>\n",
       "                        <td id=\"T_add9d_row226_col0\" class=\"data row226 col0\" >25000000</td>\n",
       "                        <td id=\"T_add9d_row226_col1\" class=\"data row226 col1\" >0</td>\n",
       "            </tr>\n",
       "            <tr>\n",
       "                        <th id=\"T_add9d_level0_row227\" class=\"row_heading level0 row227\" >А.Лунгин</th>\n",
       "                        <td id=\"T_add9d_row227_col0\" class=\"data row227 col0\" >25000000</td>\n",
       "                        <td id=\"T_add9d_row227_col1\" class=\"data row227 col1\" >0</td>\n",
       "            </tr>\n",
       "            <tr>\n",
       "                        <th id=\"T_add9d_level0_row228\" class=\"row_heading level0 row228\" >М.Левитин мл.</th>\n",
       "                        <td id=\"T_add9d_row228_col0\" class=\"data row228 col0\" >24986000</td>\n",
       "                        <td id=\"T_add9d_row228_col1\" class=\"data row228 col1\" >0</td>\n",
       "            </tr>\n",
       "            <tr>\n",
       "                        <th id=\"T_add9d_level0_row229\" class=\"row_heading level0 row229\" >Э.Архангельская</th>\n",
       "                        <td id=\"T_add9d_row229_col0\" class=\"data row229 col0\" >24500000</td>\n",
       "                        <td id=\"T_add9d_row229_col1\" class=\"data row229 col1\" >0</td>\n",
       "            </tr>\n",
       "            <tr>\n",
       "                        <th id=\"T_add9d_level0_row230\" class=\"row_heading level0 row230\" >Э.Манжеева</th>\n",
       "                        <td id=\"T_add9d_row230_col0\" class=\"data row230 col0\" >24450000</td>\n",
       "                        <td id=\"T_add9d_row230_col1\" class=\"data row230 col1\" >0</td>\n",
       "            </tr>\n",
       "            <tr>\n",
       "                        <th id=\"T_add9d_level0_row231\" class=\"row_heading level0 row231\" >Э.Бордуков</th>\n",
       "                        <td id=\"T_add9d_row231_col0\" class=\"data row231 col0\" >24450000</td>\n",
       "                        <td id=\"T_add9d_row231_col1\" class=\"data row231 col1\" >10000000</td>\n",
       "            </tr>\n",
       "            <tr>\n",
       "                        <th id=\"T_add9d_level0_row232\" class=\"row_heading level0 row232\" >А.Коваленко</th>\n",
       "                        <td id=\"T_add9d_row232_col0\" class=\"data row232 col0\" >24000000</td>\n",
       "                        <td id=\"T_add9d_row232_col1\" class=\"data row232 col1\" >0</td>\n",
       "            </tr>\n",
       "            <tr>\n",
       "                        <th id=\"T_add9d_level0_row233\" class=\"row_heading level0 row233\" >В.Демент</th>\n",
       "                        <td id=\"T_add9d_row233_col0\" class=\"data row233 col0\" >24000000</td>\n",
       "                        <td id=\"T_add9d_row233_col1\" class=\"data row233 col1\" >0</td>\n",
       "            </tr>\n",
       "            <tr>\n",
       "                        <th id=\"T_add9d_level0_row234\" class=\"row_heading level0 row234\" >А.Зайцев</th>\n",
       "                        <td id=\"T_add9d_row234_col0\" class=\"data row234 col0\" >23000000</td>\n",
       "                        <td id=\"T_add9d_row234_col1\" class=\"data row234 col1\" >0</td>\n",
       "            </tr>\n",
       "            <tr>\n",
       "                        <th id=\"T_add9d_level0_row235\" class=\"row_heading level0 row235\" >М.Михайлова</th>\n",
       "                        <td id=\"T_add9d_row235_col0\" class=\"data row235 col0\" >21700000</td>\n",
       "                        <td id=\"T_add9d_row235_col1\" class=\"data row235 col1\" >0</td>\n",
       "            </tr>\n",
       "            <tr>\n",
       "                        <th id=\"T_add9d_level0_row236\" class=\"row_heading level0 row236\" >А.Нужный</th>\n",
       "                        <td id=\"T_add9d_row236_col0\" class=\"data row236 col0\" >20145285</td>\n",
       "                        <td id=\"T_add9d_row236_col1\" class=\"data row236 col1\" >30000000</td>\n",
       "            </tr>\n",
       "            <tr>\n",
       "                        <th id=\"T_add9d_level0_row237\" class=\"row_heading level0 row237\" >К.Кузин</th>\n",
       "                        <td id=\"T_add9d_row237_col0\" class=\"data row237 col0\" >20000000</td>\n",
       "                        <td id=\"T_add9d_row237_col1\" class=\"data row237 col1\" >0</td>\n",
       "            </tr>\n",
       "            <tr>\n",
       "                        <th id=\"T_add9d_level0_row238\" class=\"row_heading level0 row238\" >А.Молочников</th>\n",
       "                        <td id=\"T_add9d_row238_col0\" class=\"data row238 col0\" >20000000</td>\n",
       "                        <td id=\"T_add9d_row238_col1\" class=\"data row238 col1\" >25000000</td>\n",
       "            </tr>\n",
       "            <tr>\n",
       "                        <th id=\"T_add9d_level0_row239\" class=\"row_heading level0 row239\" >И.Чижиков</th>\n",
       "                        <td id=\"T_add9d_row239_col0\" class=\"data row239 col0\" >20000000</td>\n",
       "                        <td id=\"T_add9d_row239_col1\" class=\"data row239 col1\" >0</td>\n",
       "            </tr>\n",
       "            <tr>\n",
       "                        <th id=\"T_add9d_level0_row240\" class=\"row_heading level0 row240\" >А.Пинхасов</th>\n",
       "                        <td id=\"T_add9d_row240_col0\" class=\"data row240 col0\" >20000000</td>\n",
       "                        <td id=\"T_add9d_row240_col1\" class=\"data row240 col1\" >0</td>\n",
       "            </tr>\n",
       "            <tr>\n",
       "                        <th id=\"T_add9d_level0_row241\" class=\"row_heading level0 row241\" >Р.Артемьев</th>\n",
       "                        <td id=\"T_add9d_row241_col0\" class=\"data row241 col0\" >20000000</td>\n",
       "                        <td id=\"T_add9d_row241_col1\" class=\"data row241 col1\" >0</td>\n",
       "            </tr>\n",
       "            <tr>\n",
       "                        <th id=\"T_add9d_level0_row242\" class=\"row_heading level0 row242\" >В.Сторожева</th>\n",
       "                        <td id=\"T_add9d_row242_col0\" class=\"data row242 col0\" >20000000</td>\n",
       "                        <td id=\"T_add9d_row242_col1\" class=\"data row242 col1\" >3500000</td>\n",
       "            </tr>\n",
       "            <tr>\n",
       "                        <th id=\"T_add9d_level0_row243\" class=\"row_heading level0 row243\" >А.Лукичев</th>\n",
       "                        <td id=\"T_add9d_row243_col0\" class=\"data row243 col0\" >20000000</td>\n",
       "                        <td id=\"T_add9d_row243_col1\" class=\"data row243 col1\" >20000000</td>\n",
       "            </tr>\n",
       "            <tr>\n",
       "                        <th id=\"T_add9d_level0_row244\" class=\"row_heading level0 row244\" >М.Кравченко</th>\n",
       "                        <td id=\"T_add9d_row244_col0\" class=\"data row244 col0\" >20000000</td>\n",
       "                        <td id=\"T_add9d_row244_col1\" class=\"data row244 col1\" >10000000</td>\n",
       "            </tr>\n",
       "            <tr>\n",
       "                        <th id=\"T_add9d_level0_row245\" class=\"row_heading level0 row245\" >Т.Игуменцева</th>\n",
       "                        <td id=\"T_add9d_row245_col0\" class=\"data row245 col0\" >20000000</td>\n",
       "                        <td id=\"T_add9d_row245_col1\" class=\"data row245 col1\" >5000000</td>\n",
       "            </tr>\n",
       "            <tr>\n",
       "                        <th id=\"T_add9d_level0_row246\" class=\"row_heading level0 row246\" >Т.Корнев</th>\n",
       "                        <td id=\"T_add9d_row246_col0\" class=\"data row246 col0\" >20000000</td>\n",
       "                        <td id=\"T_add9d_row246_col1\" class=\"data row246 col1\" >10000000</td>\n",
       "            </tr>\n",
       "            <tr>\n",
       "                        <th id=\"T_add9d_level0_row247\" class=\"row_heading level0 row247\" >Р.Ильясов</th>\n",
       "                        <td id=\"T_add9d_row247_col0\" class=\"data row247 col0\" >20000000</td>\n",
       "                        <td id=\"T_add9d_row247_col1\" class=\"data row247 col1\" >0</td>\n",
       "            </tr>\n",
       "            <tr>\n",
       "                        <th id=\"T_add9d_level0_row248\" class=\"row_heading level0 row248\" >М.Идов</th>\n",
       "                        <td id=\"T_add9d_row248_col0\" class=\"data row248 col0\" >20000000</td>\n",
       "                        <td id=\"T_add9d_row248_col1\" class=\"data row248 col1\" >0</td>\n",
       "            </tr>\n",
       "            <tr>\n",
       "                        <th id=\"T_add9d_level0_row249\" class=\"row_heading level0 row249\" >Н.Кудряшова</th>\n",
       "                        <td id=\"T_add9d_row249_col0\" class=\"data row249 col0\" >15000000</td>\n",
       "                        <td id=\"T_add9d_row249_col1\" class=\"data row249 col1\" >0</td>\n",
       "            </tr>\n",
       "            <tr>\n",
       "                        <th id=\"T_add9d_level0_row250\" class=\"row_heading level0 row250\" >С.Соколов</th>\n",
       "                        <td id=\"T_add9d_row250_col0\" class=\"data row250 col0\" >15000000</td>\n",
       "                        <td id=\"T_add9d_row250_col1\" class=\"data row250 col1\" >0</td>\n",
       "            </tr>\n",
       "            <tr>\n",
       "                        <th id=\"T_add9d_level0_row251\" class=\"row_heading level0 row251\" >О.Лопато</th>\n",
       "                        <td id=\"T_add9d_row251_col0\" class=\"data row251 col0\" >15000000</td>\n",
       "                        <td id=\"T_add9d_row251_col1\" class=\"data row251 col1\" >15000000</td>\n",
       "            </tr>\n",
       "            <tr>\n",
       "                        <th id=\"T_add9d_level0_row252\" class=\"row_heading level0 row252\" >Е.Баранов</th>\n",
       "                        <td id=\"T_add9d_row252_col0\" class=\"data row252 col0\" >15000000</td>\n",
       "                        <td id=\"T_add9d_row252_col1\" class=\"data row252 col1\" >25000000</td>\n",
       "            </tr>\n",
       "            <tr>\n",
       "                        <th id=\"T_add9d_level0_row253\" class=\"row_heading level0 row253\" >А.Романец</th>\n",
       "                        <td id=\"T_add9d_row253_col0\" class=\"data row253 col0\" >11520000</td>\n",
       "                        <td id=\"T_add9d_row253_col1\" class=\"data row253 col1\" >0</td>\n",
       "            </tr>\n",
       "            <tr>\n",
       "                        <th id=\"T_add9d_level0_row254\" class=\"row_heading level0 row254\" >А.Сурикова</th>\n",
       "                        <td id=\"T_add9d_row254_col0\" class=\"data row254 col0\" >10000000</td>\n",
       "                        <td id=\"T_add9d_row254_col1\" class=\"data row254 col1\" >0</td>\n",
       "            </tr>\n",
       "            <tr>\n",
       "                        <th id=\"T_add9d_level0_row255\" class=\"row_heading level0 row255\" >Ю.Кара</th>\n",
       "                        <td id=\"T_add9d_row255_col0\" class=\"data row255 col0\" >10000000</td>\n",
       "                        <td id=\"T_add9d_row255_col1\" class=\"data row255 col1\" >0</td>\n",
       "            </tr>\n",
       "            <tr>\n",
       "                        <th id=\"T_add9d_level0_row256\" class=\"row_heading level0 row256\" >Е.Жигаева</th>\n",
       "                        <td id=\"T_add9d_row256_col0\" class=\"data row256 col0\" >8000000</td>\n",
       "                        <td id=\"T_add9d_row256_col1\" class=\"data row256 col1\" >0</td>\n",
       "            </tr>\n",
       "            <tr>\n",
       "                        <th id=\"T_add9d_level0_row257\" class=\"row_heading level0 row257\" >Н.Бондарчук</th>\n",
       "                        <td id=\"T_add9d_row257_col0\" class=\"data row257 col0\" >5300000</td>\n",
       "                        <td id=\"T_add9d_row257_col1\" class=\"data row257 col1\" >20000000</td>\n",
       "            </tr>\n",
       "            <tr>\n",
       "                        <th id=\"T_add9d_level0_row258\" class=\"row_heading level0 row258\" >Д.Елеонский</th>\n",
       "                        <td id=\"T_add9d_row258_col0\" class=\"data row258 col0\" >5000000</td>\n",
       "                        <td id=\"T_add9d_row258_col1\" class=\"data row258 col1\" >15000000</td>\n",
       "            </tr>\n",
       "            <tr>\n",
       "                        <th id=\"T_add9d_level0_row259\" class=\"row_heading level0 row259\" >Е.Константинова (псевдоним Алена Званцева)</th>\n",
       "                        <td id=\"T_add9d_row259_col0\" class=\"data row259 col0\" >5000000</td>\n",
       "                        <td id=\"T_add9d_row259_col1\" class=\"data row259 col1\" >0</td>\n",
       "            </tr>\n",
       "            <tr>\n",
       "                        <th id=\"T_add9d_level0_row260\" class=\"row_heading level0 row260\" >К.Васильев</th>\n",
       "                        <td id=\"T_add9d_row260_col0\" class=\"data row260 col0\" >5000000</td>\n",
       "                        <td id=\"T_add9d_row260_col1\" class=\"data row260 col1\" >50000000</td>\n",
       "            </tr>\n",
       "            <tr>\n",
       "                        <th id=\"T_add9d_level0_row261\" class=\"row_heading level0 row261\" >Н.Степанова при участии С.Иванова</th>\n",
       "                        <td id=\"T_add9d_row261_col0\" class=\"data row261 col0\" >4700000</td>\n",
       "                        <td id=\"T_add9d_row261_col1\" class=\"data row261 col1\" >0</td>\n",
       "            </tr>\n",
       "            <tr>\n",
       "                        <th id=\"T_add9d_level0_row262\" class=\"row_heading level0 row262\" >А.Попова</th>\n",
       "                        <td id=\"T_add9d_row262_col0\" class=\"data row262 col0\" >3000000</td>\n",
       "                        <td id=\"T_add9d_row262_col1\" class=\"data row262 col1\" >0</td>\n",
       "            </tr>\n",
       "    </tbody></table>"
      ],
      "text/plain": [
       "<pandas.io.formats.style.Styler at 0x7f16ac4b5fd0>"
      ]
     },
     "metadata": {},
     "output_type": "display_data"
    }
   ],
   "source": [
    "dir_name_ref_nonref = combined_data.pivot_table(\n",
    "    index = 'director_name',\n",
    "    values = ['nonrefundable_support', 'refundable_support'],\n",
    "    aggfunc = 'sum').round().sort_values(by = 'nonrefundable_support', ascending = False)\n",
    "for_table_nonre = dir_name_ref_nonref.loc[dir_name_ref_nonref['nonrefundable_support']>0 ]\n",
    "display(pd.DataFrame(for_table_nonre).style.format('{:.0f}').background_gradient('coolwarm'))"
   ]
  },
  {
   "cell_type": "markdown",
   "metadata": {},
   "source": [
    "Если посмотреть на список режисеров кто получал наибольшую поддержку в невозвратных стредствах то на превом месте находится Ф.Бондарчук. На втором и третьем соотвественно Н.Хомерики и А.Кравчук.\n",
    "А вот по возвратным средствам на первом месте О.Степченко."
   ]
  },
  {
   "cell_type": "markdown",
   "metadata": {},
   "source": [
    "<div class=\"alert alert-warning\">\n",
    "    <h2> Комментарий ревьюера v1 <a class=\"tocSkip\"> </h2>\n",
    "    \n",
    "<b>Небольшие замечания и рекомендации💡:</b> Можем еще поииследовать режиссеров) "
   ]
  },
  {
   "cell_type": "markdown",
   "metadata": {},
   "source": [
    "<div class=\"alert alert-success\">\n",
    "<h2> Комментарий ревьюера v2 <a class=\"tocSkip\"> </h2>\n",
    "\n",
    "<b>Все супер!👍:</b> Ага, хорошо) "
   ]
  },
  {
   "cell_type": "markdown",
   "metadata": {
    "id": "V2gYwMcPgFyd"
   },
   "source": [
    "### Шаг 5. Напишите общий вывод"
   ]
  },
  {
   "cell_type": "markdown",
   "metadata": {
    "id": "AYRg3dzXgFye"
   },
   "source": [
    "В ходе работы над проектом были проделаны следующие действия:\n",
    "\n",
    "1) Обзор и знакомство с данными - Вывели информация по двум таблицам, чтобы понимать с какими данными имеем дело. После чего скорректировкли тип данных по столбцу puNumber. А затем по нему объединили таблицы.\n",
    "\n",
    "2) Предобработка данных - Проверили данные на наличие пропусков. А так же явных и не явных дубликатов. Затем проверили данные на их корректность типов данных в столбцах. В данных с ошибками провели корректировку. Так же добавили в таблицу необходимые столбцы для дальнейшего расчета.\n",
    "\n",
    "3) Исследовательский анализ:\n",
    "\n",
    "- Посмотрели сколько фильмов выходило в год;\n",
    "- Проверили динамику сборов по годам;\n",
    "- Нашли занчения среднего и медианы сбров для каждого года;\n",
    "- Посмотрели влияют ли возрастные ограничения на сборы и зависимость от года выпуска фильма.\n",
    "\n",
    "4) Провели анализ какие средства выделяются на поддержку кино. Посмотрели динамику по сборам фильмов, окупаются они или нет. А так же проверили какие оценки получают фильмы с поддержкой."
   ]
  },
  {
   "cell_type": "markdown",
   "metadata": {},
   "source": [
    "Вывод: На основании проведенного анализа можно сделать следующие выводы. В период с 2015 по 2019 годы в прокат выходило от 500 до чуть более 900 фильмов. При этом в прокате было от 54% в 2015 году до целых 70.69% в 2017. Общая доля фильмов с информацией о прокате составила 42.3%. Что касается суммы сборов то минимальная была в 2010, а максимальна в 2018 году. Четкой зависимости суммы сбров от возрастной категории не наблюдается. Имеется постепенный рост суммы сбров с категории 0+ до 16+, но в категории 18+ идет снижение суммы. Больше всего за период с 2015 по 2019 годы собрали фильмы в категории 16+. Меньше всего за тот же временной период в категории 0+. Если посмотреть по годам видим, что картина практически не меняется. При этом если проверить количество фильмов в год приходим к выводу, что росту сборов способствует рост числа выпускаемых фильмов.\n",
    "\n",
    "Что касается сумм выделяемых для поддержки то до 2013 года средства не выделялись совсем, а в 2014 и 2015 годах выделенные средства были минимальныеми. Наибольшие суммы поддержки были выделены в 2019 году. Возвратные средства 928 млн, а не возвратные почти 4 млрд. А вот если посмотреть по типу фильмов, то поддержка выделяется исключительно на Художественные, Анимационные и Документальные фильмы. Что касается возрастной категории, то наибольшие средства выделяются для категории 16+(как возвратные так и не возвратные). А вот минимально возвратных средств выделяется для категории 18+, не возвратных - 0+. Главным источником поддержки является Фонд кино.\n",
    "\n",
    "Если рассмотреть окупаемость по категориям в разрезе годов, то видим что больше всего средств выделялось на категорию 12+, при этом почти все года категория была прибыльной(сумма сборов привышала сумму бюджета фильма). А наиболее убыточной в период с 2015 по 2017 является категория 16+. В 2018 категория принесла доход, а в 2019 снова убыток. Что касается 2019 года то наибольший убыток принесла категория 6+. При этом если посмотреть на рейтинги данных фильмов что получали поддержку, то среднее значени оценки не превышает 5,8. Это показывает что данные фильмы не особо пользуются популярностью.\n",
    "\n",
    "Если посмотреть на список режисеров кто получал наибольшую поддержку в невозвратных стредствах, то на превом месте находится Ф.Бондарчук. На втором и третьем соотвественно Н.Хомерики и А.Кравчук. А вот по возвратным средствам на первом месте О.Степченко."
   ]
  },
  {
   "cell_type": "markdown",
   "metadata": {},
   "source": [
    "<div class=\"alert alert-block alert-danger\">\n",
    "<h2> Комментарий ревьюера v1 <a class=\"tocSkip\"></h2>\n",
    "\n",
    "<b>На доработку🤔:</b>  Исправим замечания и доработаем вывод?) "
   ]
  },
  {
   "cell_type": "markdown",
   "metadata": {},
   "source": [
    "<div class=\"alert alert-info\">\n",
    "<b>Женя, спасибо за оператиную проверку проекта, а так же за обратную связь и помощь! Кажется все исправил)</b> \n",
    "</div>"
   ]
  },
  {
   "cell_type": "markdown",
   "metadata": {},
   "source": [
    "<div class=\"alert alert-warning\">\n",
    "    <h2> Комментарий ревьюера v2 <a class=\"tocSkip\"> </h2>\n",
    "    \n",
    "<b>Небольшие замечания и рекомендации💡:</b> Доработаем один момент еще) "
   ]
  },
  {
   "cell_type": "markdown",
   "metadata": {},
   "source": [
    "<div class=\"alert alert-success\">\n",
    "<h2> Комментарий ревьюера v4 <a class=\"tocSkip\"> </h2>\n",
    "\n",
    "<b>Все супер!👍:</b> Вывод отражает проделанную работу!"
   ]
  },
  {
   "cell_type": "markdown",
   "metadata": {},
   "source": [
    "<div style=\"border:solid Chocolate 2px; padding: 40px\">\n",
    "    \n",
    "**Общий вывод по проекту ревьювера**:\n",
    "Евгений, спасибо за  проект! Ты приложил много усилий, чтобы довести его до конца, проделана огромная работа, и это видно невооруженным глазом, ты большой молодец!\n",
    "    \n",
    "**Отмечу положительные моменты**:\n",
    "    \n",
    "    1. Все разложено по полочкам, всегда понятен ход твоих мыслей, приятно смотреть\n",
    "    \n",
    "    2. Отличные визуализации\n",
    "    \n",
    "    3. На разных шагах проекта ты предлагал очень интересные решения и методы для их реализации. Хорошая работа!\n",
    "    \n",
    "    \n",
    "**На что стоит обратить внимание**:\n",
    "    \n",
    "    1. Оформление графиков\n",
    "    \n",
    "    \n",
    "**Удачи и жду твой проект на повторное ревью!**"
   ]
  },
  {
   "cell_type": "markdown",
   "metadata": {},
   "source": [
    "<div style=\"border:solid Chocolate 2px; padding: 40px\">\n",
    "    \n",
    "**Общий вывод по проекту ревьювера v2**:\n",
    "Евгений, исправим оставшиеся замечания и проект будет зачтен) "
   ]
  },
  {
   "cell_type": "markdown",
   "metadata": {},
   "source": [
    "<div style=\"border:solid Chocolate 2px; padding: 40px\">\n",
    "    \n",
    "**Общий вывод по проекту ревьювера v3**:\n",
    "Евгений, остался один вопрос) "
   ]
  },
  {
   "cell_type": "markdown",
   "metadata": {},
   "source": [
    "<div style=\"border:solid Chocolate 2px; padding: 40px\">\n",
    "    \n",
    "**Общий вывод по проекту ревьювера v4**:\n",
    "Евгений, ошибки исправлены, проект принят, поздравляю тебя! Успешной учебы и еще увидимся в Практикуме!"
   ]
  },
  {
   "cell_type": "code",
   "execution_count": null,
   "metadata": {},
   "outputs": [],
   "source": []
  }
 ],
 "metadata": {
  "ExecuteTimeLog": [
   {
    "duration": 537,
    "start_time": "2021-07-07T10:12:08.634Z"
   },
   {
    "duration": 206,
    "start_time": "2021-07-07T10:12:30.191Z"
   },
   {
    "duration": 227,
    "start_time": "2021-07-07T10:12:33.078Z"
   },
   {
    "duration": 153,
    "start_time": "2021-07-07T10:13:42.146Z"
   },
   {
    "duration": 233,
    "start_time": "2021-07-07T10:30:09.252Z"
   },
   {
    "duration": 19,
    "start_time": "2021-07-07T10:30:15.577Z"
   },
   {
    "duration": 18,
    "start_time": "2021-07-07T10:30:57.348Z"
   },
   {
    "duration": 19,
    "start_time": "2021-07-07T10:31:17.452Z"
   },
   {
    "duration": 21,
    "start_time": "2021-07-07T10:31:32.227Z"
   },
   {
    "duration": 27,
    "start_time": "2021-07-07T10:32:06.588Z"
   },
   {
    "duration": 23,
    "start_time": "2021-07-07T10:32:43.645Z"
   },
   {
    "duration": 24,
    "start_time": "2021-07-07T10:33:06.948Z"
   },
   {
    "duration": 7,
    "start_time": "2021-07-07T10:33:28.558Z"
   },
   {
    "duration": 23,
    "start_time": "2021-07-07T10:33:43.761Z"
   },
   {
    "duration": 28,
    "start_time": "2021-07-07T10:34:13.466Z"
   },
   {
    "duration": 23,
    "start_time": "2021-07-07T10:35:56.187Z"
   },
   {
    "duration": 6,
    "start_time": "2021-07-07T10:36:48.182Z"
   },
   {
    "duration": 14,
    "start_time": "2021-07-07T10:37:49.641Z"
   },
   {
    "duration": 6,
    "start_time": "2021-07-07T10:38:06.694Z"
   },
   {
    "duration": 6,
    "start_time": "2021-07-07T10:38:13.493Z"
   },
   {
    "duration": 19,
    "start_time": "2021-07-07T10:38:44.056Z"
   },
   {
    "duration": 186,
    "start_time": "2021-07-07T10:48:35.618Z"
   },
   {
    "duration": 24,
    "start_time": "2021-07-07T10:48:51.498Z"
   },
   {
    "duration": 20,
    "start_time": "2021-07-07T10:48:59.415Z"
   },
   {
    "duration": 20,
    "start_time": "2021-07-07T10:53:02.195Z"
   },
   {
    "duration": 188,
    "start_time": "2021-07-07T10:54:40.486Z"
   },
   {
    "duration": 115,
    "start_time": "2021-07-07T10:54:52.552Z"
   },
   {
    "duration": 214,
    "start_time": "2021-07-07T10:54:56.354Z"
   },
   {
    "duration": 47,
    "start_time": "2021-07-07T10:54:58.282Z"
   },
   {
    "duration": 217,
    "start_time": "2021-07-07T10:59:16.075Z"
   },
   {
    "duration": 51,
    "start_time": "2021-07-07T10:59:16.243Z"
   },
   {
    "duration": 578,
    "start_time": "2021-07-07T10:59:18.774Z"
   },
   {
    "duration": 161,
    "start_time": "2021-07-07T10:59:21.238Z"
   },
   {
    "duration": 59,
    "start_time": "2021-07-07T10:59:21.453Z"
   },
   {
    "duration": 3,
    "start_time": "2021-07-07T11:02:10.786Z"
   },
   {
    "duration": 13,
    "start_time": "2021-07-07T11:07:07.722Z"
   },
   {
    "duration": 26,
    "start_time": "2021-07-07T11:07:17.958Z"
   },
   {
    "duration": 22,
    "start_time": "2021-07-07T11:08:17.939Z"
   },
   {
    "duration": 212,
    "start_time": "2021-07-07T11:08:19.665Z"
   },
   {
    "duration": 21,
    "start_time": "2021-07-07T11:08:29.945Z"
   },
   {
    "duration": 31,
    "start_time": "2021-07-07T11:08:38.899Z"
   },
   {
    "duration": 23,
    "start_time": "2021-07-07T11:08:54.527Z"
   },
   {
    "duration": 8,
    "start_time": "2021-07-07T11:18:55.974Z"
   },
   {
    "duration": 7,
    "start_time": "2021-07-07T11:19:03.639Z"
   },
   {
    "duration": 7,
    "start_time": "2021-07-07T11:19:06.444Z"
   },
   {
    "duration": 578,
    "start_time": "2021-07-07T12:09:59.576Z"
   },
   {
    "duration": 195,
    "start_time": "2021-07-07T12:10:00.156Z"
   },
   {
    "duration": 115,
    "start_time": "2021-07-07T12:10:00.353Z"
   },
   {
    "duration": 3,
    "start_time": "2021-07-07T12:10:00.470Z"
   },
   {
    "duration": 32,
    "start_time": "2021-07-07T12:10:00.474Z"
   },
   {
    "duration": 23,
    "start_time": "2021-07-07T12:10:00.508Z"
   },
   {
    "duration": 19,
    "start_time": "2021-07-07T12:10:00.533Z"
   },
   {
    "duration": 44,
    "start_time": "2021-07-07T12:10:00.553Z"
   },
   {
    "duration": 7,
    "start_time": "2021-07-07T12:10:00.600Z"
   },
   {
    "duration": 7,
    "start_time": "2021-07-07T12:19:45.761Z"
   },
   {
    "duration": 21,
    "start_time": "2021-07-07T12:21:35.482Z"
   },
   {
    "duration": 21,
    "start_time": "2021-07-07T12:29:23.569Z"
   },
   {
    "duration": 525,
    "start_time": "2021-07-07T12:29:44.542Z"
   },
   {
    "duration": 214,
    "start_time": "2021-07-07T12:29:45.069Z"
   },
   {
    "duration": 92,
    "start_time": "2021-07-07T12:29:45.285Z"
   },
   {
    "duration": 3,
    "start_time": "2021-07-07T12:29:45.379Z"
   },
   {
    "duration": 28,
    "start_time": "2021-07-07T12:29:45.384Z"
   },
   {
    "duration": 23,
    "start_time": "2021-07-07T12:29:45.413Z"
   },
   {
    "duration": 21,
    "start_time": "2021-07-07T12:29:45.437Z"
   },
   {
    "duration": 41,
    "start_time": "2021-07-07T12:29:45.460Z"
   },
   {
    "duration": 7,
    "start_time": "2021-07-07T12:29:45.502Z"
   },
   {
    "duration": 20,
    "start_time": "2021-07-07T12:29:45.511Z"
   },
   {
    "duration": 12,
    "start_time": "2021-07-07T12:34:02.800Z"
   },
   {
    "duration": 7,
    "start_time": "2021-07-07T12:35:10.479Z"
   },
   {
    "duration": 8,
    "start_time": "2021-07-07T12:35:22.440Z"
   },
   {
    "duration": 6,
    "start_time": "2021-07-07T12:35:35.649Z"
   },
   {
    "duration": 6,
    "start_time": "2021-07-07T12:35:43.107Z"
   },
   {
    "duration": 22,
    "start_time": "2021-07-07T12:38:03.029Z"
   },
   {
    "duration": 10,
    "start_time": "2021-07-07T12:38:06.592Z"
   },
   {
    "duration": 563,
    "start_time": "2021-07-07T12:38:46.493Z"
   },
   {
    "duration": 265,
    "start_time": "2021-07-07T12:38:47.058Z"
   },
   {
    "duration": 94,
    "start_time": "2021-07-07T12:38:47.325Z"
   },
   {
    "duration": 3,
    "start_time": "2021-07-07T12:38:47.422Z"
   },
   {
    "duration": 30,
    "start_time": "2021-07-07T12:38:47.427Z"
   },
   {
    "duration": 16,
    "start_time": "2021-07-07T12:38:53.305Z"
   },
   {
    "duration": 10,
    "start_time": "2021-07-07T12:38:53.499Z"
   },
   {
    "duration": 8,
    "start_time": "2021-07-07T12:39:48.161Z"
   },
   {
    "duration": 27,
    "start_time": "2021-07-07T12:41:17.629Z"
   },
   {
    "duration": 17,
    "start_time": "2021-07-07T12:41:17.867Z"
   },
   {
    "duration": 21,
    "start_time": "2021-07-07T12:41:19.310Z"
   },
   {
    "duration": 7,
    "start_time": "2021-07-07T12:41:19.544Z"
   },
   {
    "duration": 20,
    "start_time": "2021-07-07T12:41:20.504Z"
   },
   {
    "duration": 554,
    "start_time": "2021-07-07T12:56:23.696Z"
   },
   {
    "duration": 200,
    "start_time": "2021-07-07T12:56:25.234Z"
   },
   {
    "duration": 119,
    "start_time": "2021-07-07T12:56:25.480Z"
   },
   {
    "duration": 4,
    "start_time": "2021-07-07T12:56:25.762Z"
   },
   {
    "duration": 26,
    "start_time": "2021-07-07T12:56:27.172Z"
   },
   {
    "duration": 12,
    "start_time": "2021-07-07T12:56:29.051Z"
   },
   {
    "duration": 10,
    "start_time": "2021-07-07T12:56:29.291Z"
   },
   {
    "duration": 8,
    "start_time": "2021-07-07T12:56:29.623Z"
   },
   {
    "duration": 28,
    "start_time": "2021-07-07T12:56:32.137Z"
   },
   {
    "duration": 19,
    "start_time": "2021-07-07T12:56:39.785Z"
   },
   {
    "duration": 20,
    "start_time": "2021-07-07T12:56:44.297Z"
   },
   {
    "duration": 7,
    "start_time": "2021-07-07T12:56:45.392Z"
   },
   {
    "duration": 23,
    "start_time": "2021-07-07T12:56:46.615Z"
   },
   {
    "duration": 4,
    "start_time": "2021-07-07T12:57:06.625Z"
   },
   {
    "duration": 32,
    "start_time": "2021-07-07T12:57:36.690Z"
   },
   {
    "duration": 18,
    "start_time": "2021-07-07T12:58:00.149Z"
   },
   {
    "duration": 15,
    "start_time": "2021-07-07T12:59:16.793Z"
   },
   {
    "duration": 7,
    "start_time": "2021-07-07T13:19:22.624Z"
   },
   {
    "duration": 6,
    "start_time": "2021-07-07T14:17:33.527Z"
   },
   {
    "duration": 9,
    "start_time": "2021-07-07T14:17:48.409Z"
   },
   {
    "duration": 8,
    "start_time": "2021-07-07T14:20:13.060Z"
   },
   {
    "duration": 8,
    "start_time": "2021-07-07T14:20:37.957Z"
   },
   {
    "duration": 8,
    "start_time": "2021-07-07T14:20:47.470Z"
   },
   {
    "duration": 9,
    "start_time": "2021-07-07T14:20:54.503Z"
   },
   {
    "duration": 10,
    "start_time": "2021-07-07T14:28:57.763Z"
   },
   {
    "duration": 3,
    "start_time": "2021-07-07T14:30:23.377Z"
   },
   {
    "duration": 3,
    "start_time": "2021-07-07T14:30:36.489Z"
   },
   {
    "duration": 103,
    "start_time": "2021-07-07T14:30:52.351Z"
   },
   {
    "duration": 8,
    "start_time": "2021-07-07T14:30:54.763Z"
   },
   {
    "duration": 8,
    "start_time": "2021-07-07T14:31:29.301Z"
   },
   {
    "duration": 13,
    "start_time": "2021-07-07T14:31:44.516Z"
   },
   {
    "duration": 7,
    "start_time": "2021-07-07T14:33:10.972Z"
   },
   {
    "duration": 11,
    "start_time": "2021-07-07T14:33:27.780Z"
   },
   {
    "duration": 8,
    "start_time": "2021-07-07T14:34:44.588Z"
   },
   {
    "duration": 57,
    "start_time": "2021-07-07T14:35:59.042Z"
   },
   {
    "duration": 3,
    "start_time": "2021-07-07T14:36:28.168Z"
   },
   {
    "duration": 5,
    "start_time": "2021-07-07T14:36:46.254Z"
   },
   {
    "duration": 4,
    "start_time": "2021-07-07T14:36:52.714Z"
   },
   {
    "duration": 3,
    "start_time": "2021-07-07T14:36:56.612Z"
   },
   {
    "duration": 4,
    "start_time": "2021-07-07T14:36:57.049Z"
   },
   {
    "duration": 3,
    "start_time": "2021-07-07T14:39:21.214Z"
   },
   {
    "duration": 7,
    "start_time": "2021-07-07T14:39:52.406Z"
   },
   {
    "duration": 11,
    "start_time": "2021-07-07T14:39:58.576Z"
   },
   {
    "duration": 9,
    "start_time": "2021-07-07T14:40:26.301Z"
   },
   {
    "duration": 10,
    "start_time": "2021-07-07T14:40:31.704Z"
   },
   {
    "duration": 11,
    "start_time": "2021-07-07T14:40:36.249Z"
   },
   {
    "duration": 10,
    "start_time": "2021-07-07T14:40:39.783Z"
   },
   {
    "duration": 9,
    "start_time": "2021-07-07T14:40:48.558Z"
   },
   {
    "duration": 10,
    "start_time": "2021-07-07T14:40:57.143Z"
   },
   {
    "duration": 9,
    "start_time": "2021-07-07T14:41:06.074Z"
   },
   {
    "duration": 4324,
    "start_time": "2021-07-07T14:41:22.004Z"
   },
   {
    "duration": 11,
    "start_time": "2021-07-07T14:41:33.392Z"
   },
   {
    "duration": 9,
    "start_time": "2021-07-07T14:41:39.288Z"
   },
   {
    "duration": 569,
    "start_time": "2021-07-07T14:42:14.387Z"
   },
   {
    "duration": 197,
    "start_time": "2021-07-07T14:42:14.959Z"
   },
   {
    "duration": 84,
    "start_time": "2021-07-07T14:42:16.052Z"
   },
   {
    "duration": 4,
    "start_time": "2021-07-07T14:42:16.900Z"
   },
   {
    "duration": 27,
    "start_time": "2021-07-07T14:42:19.898Z"
   },
   {
    "duration": 12,
    "start_time": "2021-07-07T14:42:21.577Z"
   },
   {
    "duration": 9,
    "start_time": "2021-07-07T14:42:21.813Z"
   },
   {
    "duration": 9,
    "start_time": "2021-07-07T14:42:22.569Z"
   },
   {
    "duration": 29,
    "start_time": "2021-07-07T14:42:25.837Z"
   },
   {
    "duration": 20,
    "start_time": "2021-07-07T14:42:27.003Z"
   },
   {
    "duration": 21,
    "start_time": "2021-07-07T14:42:28.767Z"
   },
   {
    "duration": 7,
    "start_time": "2021-07-07T14:42:29.838Z"
   },
   {
    "duration": 4,
    "start_time": "2021-07-07T14:43:25.493Z"
   },
   {
    "duration": 7,
    "start_time": "2021-07-07T14:43:26.573Z"
   },
   {
    "duration": 10,
    "start_time": "2021-07-07T14:43:31.639Z"
   },
   {
    "duration": 9,
    "start_time": "2021-07-07T14:43:32.046Z"
   },
   {
    "duration": 10,
    "start_time": "2021-07-07T14:43:33.301Z"
   },
   {
    "duration": 12,
    "start_time": "2021-07-07T14:43:33.658Z"
   },
   {
    "duration": 8,
    "start_time": "2021-07-07T14:43:34.552Z"
   },
   {
    "duration": 9,
    "start_time": "2021-07-07T14:43:35.058Z"
   },
   {
    "duration": 12,
    "start_time": "2021-07-07T14:43:35.914Z"
   },
   {
    "duration": 17,
    "start_time": "2021-07-07T14:45:34.368Z"
   },
   {
    "duration": 512,
    "start_time": "2021-07-07T14:51:58.236Z"
   },
   {
    "duration": 223,
    "start_time": "2021-07-07T14:51:58.750Z"
   },
   {
    "duration": 93,
    "start_time": "2021-07-07T14:51:58.977Z"
   },
   {
    "duration": 4,
    "start_time": "2021-07-07T14:51:59.071Z"
   },
   {
    "duration": 37,
    "start_time": "2021-07-07T14:51:59.077Z"
   },
   {
    "duration": 18,
    "start_time": "2021-07-07T14:51:59.116Z"
   },
   {
    "duration": 10,
    "start_time": "2021-07-07T14:51:59.137Z"
   },
   {
    "duration": 8,
    "start_time": "2021-07-07T14:51:59.149Z"
   },
   {
    "duration": 54,
    "start_time": "2021-07-07T14:51:59.158Z"
   },
   {
    "duration": 18,
    "start_time": "2021-07-07T14:51:59.213Z"
   },
   {
    "duration": 22,
    "start_time": "2021-07-07T14:51:59.232Z"
   },
   {
    "duration": 36,
    "start_time": "2021-07-07T14:51:59.255Z"
   },
   {
    "duration": 7,
    "start_time": "2021-07-07T14:51:59.293Z"
   },
   {
    "duration": 10,
    "start_time": "2021-07-07T14:51:59.302Z"
   },
   {
    "duration": 9,
    "start_time": "2021-07-07T14:51:59.313Z"
   },
   {
    "duration": 11,
    "start_time": "2021-07-07T14:51:59.324Z"
   },
   {
    "duration": 8,
    "start_time": "2021-07-07T14:51:59.337Z"
   },
   {
    "duration": 46,
    "start_time": "2021-07-07T14:51:59.347Z"
   },
   {
    "duration": 22,
    "start_time": "2021-07-07T14:51:59.395Z"
   },
   {
    "duration": 24,
    "start_time": "2021-07-07T14:57:32.911Z"
   },
   {
    "duration": 7,
    "start_time": "2021-07-07T14:58:22.070Z"
   },
   {
    "duration": 4,
    "start_time": "2021-07-07T14:59:11.239Z"
   },
   {
    "duration": 25,
    "start_time": "2021-07-07T15:07:22.208Z"
   },
   {
    "duration": 16,
    "start_time": "2021-07-07T15:08:25.560Z"
   },
   {
    "duration": 15,
    "start_time": "2021-07-07T15:08:40.647Z"
   },
   {
    "duration": 14,
    "start_time": "2021-07-07T15:08:46.669Z"
   },
   {
    "duration": 533,
    "start_time": "2021-07-07T15:18:07.440Z"
   },
   {
    "duration": 173,
    "start_time": "2021-07-07T15:18:07.974Z"
   },
   {
    "duration": 84,
    "start_time": "2021-07-07T15:18:08.149Z"
   },
   {
    "duration": 3,
    "start_time": "2021-07-07T15:18:08.235Z"
   },
   {
    "duration": 30,
    "start_time": "2021-07-07T15:18:08.240Z"
   },
   {
    "duration": 22,
    "start_time": "2021-07-07T15:18:08.272Z"
   },
   {
    "duration": 11,
    "start_time": "2021-07-07T15:18:08.295Z"
   },
   {
    "duration": 11,
    "start_time": "2021-07-07T15:18:08.309Z"
   },
   {
    "duration": 40,
    "start_time": "2021-07-07T15:18:08.322Z"
   },
   {
    "duration": 42,
    "start_time": "2021-07-07T15:18:08.364Z"
   },
   {
    "duration": 22,
    "start_time": "2021-07-07T15:18:08.408Z"
   },
   {
    "duration": 5,
    "start_time": "2021-07-07T15:18:08.432Z"
   },
   {
    "duration": 13,
    "start_time": "2021-07-07T15:18:08.439Z"
   },
   {
    "duration": 9,
    "start_time": "2021-07-07T15:18:08.454Z"
   },
   {
    "duration": 32,
    "start_time": "2021-07-07T15:18:08.465Z"
   },
   {
    "duration": 10,
    "start_time": "2021-07-07T15:18:08.501Z"
   },
   {
    "duration": 7,
    "start_time": "2021-07-07T15:18:08.513Z"
   },
   {
    "duration": 11,
    "start_time": "2021-07-07T15:18:08.521Z"
   },
   {
    "duration": 17,
    "start_time": "2021-07-07T15:18:08.534Z"
   },
   {
    "duration": 44,
    "start_time": "2021-07-07T15:18:08.553Z"
   },
   {
    "duration": 22,
    "start_time": "2021-07-07T15:18:08.599Z"
   },
   {
    "duration": 61,
    "start_time": "2021-07-07T15:18:08.622Z"
   },
   {
    "duration": 7,
    "start_time": "2021-07-07T15:18:39.457Z"
   },
   {
    "duration": 5,
    "start_time": "2021-07-07T16:05:17.020Z"
   },
   {
    "duration": 5,
    "start_time": "2021-07-07T16:51:28.794Z"
   },
   {
    "duration": 546,
    "start_time": "2021-07-07T16:52:26.306Z"
   },
   {
    "duration": 203,
    "start_time": "2021-07-07T16:52:27.523Z"
   },
   {
    "duration": 85,
    "start_time": "2021-07-07T16:52:27.736Z"
   },
   {
    "duration": 4,
    "start_time": "2021-07-07T16:52:27.899Z"
   },
   {
    "duration": 25,
    "start_time": "2021-07-07T16:52:28.674Z"
   },
   {
    "duration": 8,
    "start_time": "2021-07-07T16:52:32.956Z"
   },
   {
    "duration": 18,
    "start_time": "2021-07-07T16:52:35.616Z"
   },
   {
    "duration": 6,
    "start_time": "2021-07-07T16:52:36.913Z"
   },
   {
    "duration": 11,
    "start_time": "2021-07-07T16:52:40.258Z"
   },
   {
    "duration": 10,
    "start_time": "2021-07-07T16:52:46.251Z"
   },
   {
    "duration": 8,
    "start_time": "2021-07-07T16:52:47.182Z"
   },
   {
    "duration": 27,
    "start_time": "2021-07-07T16:53:20.391Z"
   },
   {
    "duration": 20,
    "start_time": "2021-07-07T16:53:22.022Z"
   },
   {
    "duration": 23,
    "start_time": "2021-07-07T16:53:23.690Z"
   },
   {
    "duration": 8,
    "start_time": "2021-07-07T16:53:24.261Z"
   },
   {
    "duration": 4,
    "start_time": "2021-07-07T16:53:38.733Z"
   },
   {
    "duration": 7,
    "start_time": "2021-07-07T16:53:40.445Z"
   },
   {
    "duration": 11,
    "start_time": "2021-07-07T16:53:41.348Z"
   },
   {
    "duration": 13,
    "start_time": "2021-07-07T16:53:45.250Z"
   },
   {
    "duration": 12,
    "start_time": "2021-07-07T16:53:45.467Z"
   },
   {
    "duration": 4,
    "start_time": "2021-07-07T16:55:32.704Z"
   },
   {
    "duration": 12,
    "start_time": "2021-07-07T16:55:49.012Z"
   },
   {
    "duration": 18,
    "start_time": "2021-07-07T16:55:49.547Z"
   },
   {
    "duration": 611,
    "start_time": "2021-07-07T16:58:35.156Z"
   },
   {
    "duration": 200,
    "start_time": "2021-07-07T16:58:35.770Z"
   },
   {
    "duration": 86,
    "start_time": "2021-07-07T16:58:35.972Z"
   },
   {
    "duration": 3,
    "start_time": "2021-07-07T16:58:36.060Z"
   },
   {
    "duration": 27,
    "start_time": "2021-07-07T16:58:36.065Z"
   },
   {
    "duration": 8,
    "start_time": "2021-07-07T16:58:36.094Z"
   },
   {
    "duration": 17,
    "start_time": "2021-07-07T16:58:36.103Z"
   },
   {
    "duration": 5,
    "start_time": "2021-07-07T16:58:36.123Z"
   },
   {
    "duration": 11,
    "start_time": "2021-07-07T16:58:36.130Z"
   },
   {
    "duration": 7,
    "start_time": "2021-07-07T16:58:36.143Z"
   },
   {
    "duration": 37,
    "start_time": "2021-07-07T16:58:36.152Z"
   },
   {
    "duration": 27,
    "start_time": "2021-07-07T16:58:36.191Z"
   },
   {
    "duration": 19,
    "start_time": "2021-07-07T16:58:36.219Z"
   },
   {
    "duration": 49,
    "start_time": "2021-07-07T16:58:36.240Z"
   },
   {
    "duration": 6,
    "start_time": "2021-07-07T16:58:36.291Z"
   },
   {
    "duration": 3,
    "start_time": "2021-07-07T16:58:36.299Z"
   },
   {
    "duration": 13,
    "start_time": "2021-07-07T16:58:36.304Z"
   },
   {
    "duration": 10,
    "start_time": "2021-07-07T16:58:36.319Z"
   },
   {
    "duration": 10,
    "start_time": "2021-07-07T16:58:36.331Z"
   },
   {
    "duration": 44,
    "start_time": "2021-07-07T16:58:36.343Z"
   },
   {
    "duration": 4,
    "start_time": "2021-07-07T16:58:36.388Z"
   },
   {
    "duration": 13,
    "start_time": "2021-07-07T16:58:36.394Z"
   },
   {
    "duration": 16,
    "start_time": "2021-07-07T16:58:36.410Z"
   },
   {
    "duration": 8,
    "start_time": "2021-07-07T17:02:31.629Z"
   },
   {
    "duration": 8,
    "start_time": "2021-07-07T17:02:34.308Z"
   },
   {
    "duration": 6,
    "start_time": "2021-07-07T17:05:13.483Z"
   },
   {
    "duration": 17,
    "start_time": "2021-07-07T17:05:20.606Z"
   },
   {
    "duration": 7,
    "start_time": "2021-07-07T17:05:34.638Z"
   },
   {
    "duration": 3,
    "start_time": "2021-07-07T17:06:31.883Z"
   },
   {
    "duration": 570,
    "start_time": "2021-07-07T17:06:37.165Z"
   },
   {
    "duration": 174,
    "start_time": "2021-07-07T17:06:37.737Z"
   },
   {
    "duration": 47,
    "start_time": "2021-07-07T17:06:37.913Z"
   },
   {
    "duration": 3,
    "start_time": "2021-07-07T17:06:37.962Z"
   },
   {
    "duration": 27,
    "start_time": "2021-07-07T17:06:37.967Z"
   },
   {
    "duration": 7,
    "start_time": "2021-07-07T17:06:37.996Z"
   },
   {
    "duration": 16,
    "start_time": "2021-07-07T17:06:38.005Z"
   },
   {
    "duration": 6,
    "start_time": "2021-07-07T17:06:38.024Z"
   },
   {
    "duration": 12,
    "start_time": "2021-07-07T17:06:38.031Z"
   },
   {
    "duration": 41,
    "start_time": "2021-07-07T17:06:38.045Z"
   },
   {
    "duration": 8,
    "start_time": "2021-07-07T17:06:38.088Z"
   },
   {
    "duration": 26,
    "start_time": "2021-07-07T17:06:38.098Z"
   },
   {
    "duration": 17,
    "start_time": "2021-07-07T17:06:38.126Z"
   },
   {
    "duration": 43,
    "start_time": "2021-07-07T17:06:38.144Z"
   },
   {
    "duration": 6,
    "start_time": "2021-07-07T17:06:38.188Z"
   },
   {
    "duration": 5,
    "start_time": "2021-07-07T17:06:38.195Z"
   },
   {
    "duration": 9,
    "start_time": "2021-07-07T17:06:38.201Z"
   },
   {
    "duration": 12,
    "start_time": "2021-07-07T17:06:38.212Z"
   },
   {
    "duration": 11,
    "start_time": "2021-07-07T17:06:38.226Z"
   },
   {
    "duration": 47,
    "start_time": "2021-07-07T17:06:38.239Z"
   },
   {
    "duration": 4,
    "start_time": "2021-07-07T17:06:38.288Z"
   },
   {
    "duration": 13,
    "start_time": "2021-07-07T17:06:38.293Z"
   },
   {
    "duration": 5,
    "start_time": "2021-07-07T17:06:38.309Z"
   },
   {
    "duration": 18,
    "start_time": "2021-07-07T17:06:38.325Z"
   },
   {
    "duration": 20,
    "start_time": "2021-07-07T17:07:02.805Z"
   },
   {
    "duration": 19,
    "start_time": "2021-07-07T17:07:08.527Z"
   },
   {
    "duration": 19,
    "start_time": "2021-07-07T17:07:12.758Z"
   },
   {
    "duration": 22,
    "start_time": "2021-07-07T17:07:17.497Z"
   },
   {
    "duration": 19,
    "start_time": "2021-07-07T17:07:19.645Z"
   },
   {
    "duration": 10,
    "start_time": "2021-07-07T17:07:34.239Z"
   },
   {
    "duration": 17,
    "start_time": "2021-07-07T17:07:54.144Z"
   },
   {
    "duration": 14,
    "start_time": "2021-07-07T17:08:14.357Z"
   },
   {
    "duration": 616,
    "start_time": "2021-07-07T17:08:45.254Z"
   },
   {
    "duration": 178,
    "start_time": "2021-07-07T17:08:45.872Z"
   },
   {
    "duration": 60,
    "start_time": "2021-07-07T17:08:46.054Z"
   },
   {
    "duration": 3,
    "start_time": "2021-07-07T17:08:46.116Z"
   },
   {
    "duration": 26,
    "start_time": "2021-07-07T17:08:46.121Z"
   },
   {
    "duration": 7,
    "start_time": "2021-07-07T17:08:46.149Z"
   },
   {
    "duration": 17,
    "start_time": "2021-07-07T17:08:46.158Z"
   },
   {
    "duration": 14,
    "start_time": "2021-07-07T17:08:46.176Z"
   },
   {
    "duration": 17,
    "start_time": "2021-07-07T17:08:46.193Z"
   },
   {
    "duration": 9,
    "start_time": "2021-07-07T17:08:46.211Z"
   },
   {
    "duration": 21,
    "start_time": "2021-07-07T17:08:46.221Z"
   },
   {
    "duration": 49,
    "start_time": "2021-07-07T17:08:46.244Z"
   },
   {
    "duration": 24,
    "start_time": "2021-07-07T17:08:46.295Z"
   },
   {
    "duration": 22,
    "start_time": "2021-07-07T17:08:46.321Z"
   },
   {
    "duration": 6,
    "start_time": "2021-07-07T17:08:46.345Z"
   },
   {
    "duration": 5,
    "start_time": "2021-07-07T17:08:46.353Z"
   },
   {
    "duration": 13,
    "start_time": "2021-07-07T17:08:46.386Z"
   },
   {
    "duration": 12,
    "start_time": "2021-07-07T17:08:46.402Z"
   },
   {
    "duration": 10,
    "start_time": "2021-07-07T17:08:46.415Z"
   },
   {
    "duration": 7,
    "start_time": "2021-07-07T17:08:46.427Z"
   },
   {
    "duration": 8,
    "start_time": "2021-07-07T17:08:46.435Z"
   },
   {
    "duration": 68,
    "start_time": "2021-07-07T17:08:46.446Z"
   },
   {
    "duration": 13,
    "start_time": "2021-07-07T17:08:46.516Z"
   },
   {
    "duration": 78,
    "start_time": "2021-07-07T17:08:46.530Z"
   },
   {
    "duration": 40,
    "start_time": "2021-07-07T17:09:08.185Z"
   },
   {
    "duration": 16,
    "start_time": "2021-07-07T17:09:19.324Z"
   },
   {
    "duration": 21,
    "start_time": "2021-07-07T17:09:23.290Z"
   },
   {
    "duration": 13,
    "start_time": "2021-07-07T17:09:54.812Z"
   },
   {
    "duration": 13,
    "start_time": "2021-07-07T17:10:02.039Z"
   },
   {
    "duration": 10,
    "start_time": "2021-07-07T17:10:29.632Z"
   },
   {
    "duration": 13,
    "start_time": "2021-07-07T17:10:52.372Z"
   },
   {
    "duration": 13,
    "start_time": "2021-07-07T17:11:17.270Z"
   },
   {
    "duration": 13,
    "start_time": "2021-07-07T17:14:59.284Z"
   },
   {
    "duration": 547,
    "start_time": "2021-07-07T17:18:52.403Z"
   },
   {
    "duration": 163,
    "start_time": "2021-07-07T17:18:52.952Z"
   },
   {
    "duration": 44,
    "start_time": "2021-07-07T17:18:53.117Z"
   },
   {
    "duration": 3,
    "start_time": "2021-07-07T17:18:53.162Z"
   },
   {
    "duration": 26,
    "start_time": "2021-07-07T17:18:53.167Z"
   },
   {
    "duration": 6,
    "start_time": "2021-07-07T17:18:53.195Z"
   },
   {
    "duration": 15,
    "start_time": "2021-07-07T17:18:53.203Z"
   },
   {
    "duration": 5,
    "start_time": "2021-07-07T17:18:53.220Z"
   },
   {
    "duration": 11,
    "start_time": "2021-07-07T17:18:53.228Z"
   },
   {
    "duration": 9,
    "start_time": "2021-07-07T17:18:53.241Z"
   },
   {
    "duration": 41,
    "start_time": "2021-07-07T17:18:53.252Z"
   },
   {
    "duration": 33,
    "start_time": "2021-07-07T17:18:53.295Z"
   },
   {
    "duration": 19,
    "start_time": "2021-07-07T17:18:53.330Z"
   },
   {
    "duration": 49,
    "start_time": "2021-07-07T17:18:53.350Z"
   },
   {
    "duration": 5,
    "start_time": "2021-07-07T17:18:53.401Z"
   },
   {
    "duration": 5,
    "start_time": "2021-07-07T17:18:53.408Z"
   },
   {
    "duration": 11,
    "start_time": "2021-07-07T17:18:53.414Z"
   },
   {
    "duration": 9,
    "start_time": "2021-07-07T17:18:53.427Z"
   },
   {
    "duration": 10,
    "start_time": "2021-07-07T17:18:53.437Z"
   },
   {
    "duration": 39,
    "start_time": "2021-07-07T17:18:53.448Z"
   },
   {
    "duration": 26,
    "start_time": "2021-07-07T17:18:55.799Z"
   },
   {
    "duration": 598,
    "start_time": "2021-07-07T17:20:17.862Z"
   },
   {
    "duration": 161,
    "start_time": "2021-07-07T17:20:18.462Z"
   },
   {
    "duration": 45,
    "start_time": "2021-07-07T17:20:18.626Z"
   },
   {
    "duration": 4,
    "start_time": "2021-07-07T17:20:18.673Z"
   },
   {
    "duration": 38,
    "start_time": "2021-07-07T17:20:26.877Z"
   },
   {
    "duration": 7,
    "start_time": "2021-07-07T17:20:37.405Z"
   },
   {
    "duration": 19,
    "start_time": "2021-07-07T17:20:51.534Z"
   },
   {
    "duration": 5,
    "start_time": "2021-07-07T17:20:57.228Z"
   },
   {
    "duration": 7,
    "start_time": "2021-07-07T17:21:08.235Z"
   },
   {
    "duration": 19,
    "start_time": "2021-07-07T17:21:42.158Z"
   },
   {
    "duration": 14,
    "start_time": "2021-07-07T17:21:50.225Z"
   },
   {
    "duration": 22,
    "start_time": "2021-07-07T17:22:54.104Z"
   },
   {
    "duration": 5,
    "start_time": "2021-07-07T17:22:56.371Z"
   },
   {
    "duration": 14,
    "start_time": "2021-07-07T17:22:58.316Z"
   },
   {
    "duration": 5,
    "start_time": "2021-07-07T17:22:58.493Z"
   },
   {
    "duration": 35,
    "start_time": "2021-07-07T17:22:59.666Z"
   },
   {
    "duration": 6,
    "start_time": "2021-07-07T17:23:02.410Z"
   },
   {
    "duration": 611,
    "start_time": "2021-07-07T17:24:59.664Z"
   },
   {
    "duration": 178,
    "start_time": "2021-07-07T17:25:01.945Z"
   },
   {
    "duration": 47,
    "start_time": "2021-07-07T17:25:02.125Z"
   },
   {
    "duration": 2,
    "start_time": "2021-07-07T17:25:07.903Z"
   },
   {
    "duration": 254,
    "start_time": "2021-07-07T17:25:08.232Z"
   },
   {
    "duration": 182,
    "start_time": "2021-07-07T17:25:08.671Z"
   },
   {
    "duration": 6,
    "start_time": "2021-07-07T17:25:13.104Z"
   },
   {
    "duration": 36,
    "start_time": "2021-07-07T17:25:13.662Z"
   },
   {
    "duration": 7,
    "start_time": "2021-07-07T17:25:14.528Z"
   },
   {
    "duration": 24,
    "start_time": "2021-07-07T17:25:27.982Z"
   },
   {
    "duration": 3,
    "start_time": "2021-07-07T17:25:48.982Z"
   },
   {
    "duration": 165,
    "start_time": "2021-07-07T17:25:48.987Z"
   },
   {
    "duration": 50,
    "start_time": "2021-07-07T17:25:49.154Z"
   },
   {
    "duration": 4,
    "start_time": "2021-07-07T17:25:49.206Z"
   },
   {
    "duration": 26,
    "start_time": "2021-07-07T17:25:49.212Z"
   },
   {
    "duration": 7,
    "start_time": "2021-07-07T17:25:49.240Z"
   },
   {
    "duration": 16,
    "start_time": "2021-07-07T17:25:49.249Z"
   },
   {
    "duration": 22,
    "start_time": "2021-07-07T17:25:49.266Z"
   },
   {
    "duration": 16,
    "start_time": "2021-07-07T17:25:49.291Z"
   },
   {
    "duration": 9,
    "start_time": "2021-07-07T17:25:49.309Z"
   },
   {
    "duration": 7,
    "start_time": "2021-07-07T17:25:49.319Z"
   },
   {
    "duration": 28,
    "start_time": "2021-07-07T17:25:49.328Z"
   },
   {
    "duration": 44,
    "start_time": "2021-07-07T17:25:49.357Z"
   },
   {
    "duration": 22,
    "start_time": "2021-07-07T17:25:49.403Z"
   },
   {
    "duration": 7,
    "start_time": "2021-07-07T17:25:49.427Z"
   },
   {
    "duration": 3,
    "start_time": "2021-07-07T17:25:49.436Z"
   },
   {
    "duration": 44,
    "start_time": "2021-07-07T17:25:49.441Z"
   },
   {
    "duration": 12,
    "start_time": "2021-07-07T17:25:49.488Z"
   },
   {
    "duration": 13,
    "start_time": "2021-07-07T17:25:49.502Z"
   },
   {
    "duration": 10,
    "start_time": "2021-07-07T17:25:49.516Z"
   },
   {
    "duration": 62,
    "start_time": "2021-07-07T17:25:49.527Z"
   },
   {
    "duration": 26,
    "start_time": "2021-07-07T17:26:51.809Z"
   },
   {
    "duration": 26,
    "start_time": "2021-07-07T17:26:55.759Z"
   },
   {
    "duration": 26,
    "start_time": "2021-07-07T17:27:04.501Z"
   },
   {
    "duration": 25,
    "start_time": "2021-07-07T17:28:24.859Z"
   },
   {
    "duration": 21,
    "start_time": "2021-07-07T17:28:55.250Z"
   },
   {
    "duration": 21,
    "start_time": "2021-07-07T17:28:58.885Z"
   },
   {
    "duration": 7,
    "start_time": "2021-07-07T17:45:40.972Z"
   },
   {
    "duration": 13,
    "start_time": "2021-07-07T17:45:42.529Z"
   },
   {
    "duration": 27,
    "start_time": "2021-07-07T17:45:51.026Z"
   },
   {
    "duration": 518,
    "start_time": "2021-07-07T17:46:15.532Z"
   },
   {
    "duration": 235,
    "start_time": "2021-07-07T17:46:16.053Z"
   },
   {
    "duration": 80,
    "start_time": "2021-07-07T17:46:16.292Z"
   },
   {
    "duration": 5,
    "start_time": "2021-07-07T17:46:16.373Z"
   },
   {
    "duration": 26,
    "start_time": "2021-07-07T17:46:16.380Z"
   },
   {
    "duration": 7,
    "start_time": "2021-07-07T17:46:16.408Z"
   },
   {
    "duration": 16,
    "start_time": "2021-07-07T17:46:16.418Z"
   },
   {
    "duration": 5,
    "start_time": "2021-07-07T17:46:16.436Z"
   },
   {
    "duration": 13,
    "start_time": "2021-07-07T17:46:16.442Z"
   },
   {
    "duration": 35,
    "start_time": "2021-07-07T17:46:16.456Z"
   },
   {
    "duration": 8,
    "start_time": "2021-07-07T17:46:16.493Z"
   },
   {
    "duration": 28,
    "start_time": "2021-07-07T17:46:16.502Z"
   },
   {
    "duration": 17,
    "start_time": "2021-07-07T17:46:16.532Z"
   },
   {
    "duration": 44,
    "start_time": "2021-07-07T17:46:16.551Z"
   },
   {
    "duration": 6,
    "start_time": "2021-07-07T17:46:16.597Z"
   },
   {
    "duration": 4,
    "start_time": "2021-07-07T17:46:16.605Z"
   },
   {
    "duration": 9,
    "start_time": "2021-07-07T17:46:16.610Z"
   },
   {
    "duration": 9,
    "start_time": "2021-07-07T17:46:16.621Z"
   },
   {
    "duration": 10,
    "start_time": "2021-07-07T17:46:16.632Z"
   },
   {
    "duration": 43,
    "start_time": "2021-07-07T17:46:16.644Z"
   },
   {
    "duration": 26,
    "start_time": "2021-07-07T17:46:16.689Z"
   },
   {
    "duration": 19,
    "start_time": "2021-07-07T17:46:16.718Z"
   },
   {
    "duration": 8,
    "start_time": "2021-07-07T17:46:16.738Z"
   },
   {
    "duration": 43,
    "start_time": "2021-07-07T17:46:16.747Z"
   },
   {
    "duration": 19,
    "start_time": "2021-07-07T17:46:16.791Z"
   },
   {
    "duration": 9,
    "start_time": "2021-07-07T17:46:16.812Z"
   },
   {
    "duration": 60,
    "start_time": "2021-07-07T17:46:16.822Z"
   },
   {
    "duration": -8,
    "start_time": "2021-07-07T17:46:16.892Z"
   },
   {
    "duration": 12,
    "start_time": "2021-07-07T17:48:47.707Z"
   },
   {
    "duration": 553,
    "start_time": "2021-07-07T18:10:09.350Z"
   },
   {
    "duration": 230,
    "start_time": "2021-07-07T18:10:09.905Z"
   },
   {
    "duration": 97,
    "start_time": "2021-07-07T18:10:10.137Z"
   },
   {
    "duration": 5,
    "start_time": "2021-07-07T18:10:10.236Z"
   },
   {
    "duration": 29,
    "start_time": "2021-07-07T18:10:10.242Z"
   },
   {
    "duration": 7,
    "start_time": "2021-07-07T18:10:10.272Z"
   },
   {
    "duration": 15,
    "start_time": "2021-07-07T18:10:10.281Z"
   },
   {
    "duration": 4,
    "start_time": "2021-07-07T18:10:10.299Z"
   },
   {
    "duration": 14,
    "start_time": "2021-07-07T18:10:10.305Z"
   },
   {
    "duration": 8,
    "start_time": "2021-07-07T18:10:10.321Z"
   },
   {
    "duration": 8,
    "start_time": "2021-07-07T18:10:10.331Z"
   },
   {
    "duration": 56,
    "start_time": "2021-07-07T18:10:10.341Z"
   },
   {
    "duration": 19,
    "start_time": "2021-07-07T18:10:10.399Z"
   },
   {
    "duration": 23,
    "start_time": "2021-07-07T18:10:10.419Z"
   },
   {
    "duration": 6,
    "start_time": "2021-07-07T18:10:10.444Z"
   },
   {
    "duration": 9,
    "start_time": "2021-07-07T18:10:10.451Z"
   },
   {
    "duration": 30,
    "start_time": "2021-07-07T18:10:10.462Z"
   },
   {
    "duration": 9,
    "start_time": "2021-07-07T18:10:10.494Z"
   },
   {
    "duration": 14,
    "start_time": "2021-07-07T18:10:10.505Z"
   },
   {
    "duration": 7,
    "start_time": "2021-07-07T18:10:10.521Z"
   },
   {
    "duration": 26,
    "start_time": "2021-07-07T18:10:10.530Z"
   },
   {
    "duration": 44,
    "start_time": "2021-07-07T18:10:10.558Z"
   },
   {
    "duration": 7,
    "start_time": "2021-07-07T18:10:10.605Z"
   },
   {
    "duration": 11,
    "start_time": "2021-07-07T18:10:10.614Z"
   },
   {
    "duration": 19,
    "start_time": "2021-07-07T18:10:10.626Z"
   },
   {
    "duration": 44,
    "start_time": "2021-07-07T18:10:10.646Z"
   },
   {
    "duration": 516,
    "start_time": "2021-07-07T18:14:00.826Z"
   },
   {
    "duration": 230,
    "start_time": "2021-07-07T18:14:01.344Z"
   },
   {
    "duration": 105,
    "start_time": "2021-07-07T18:14:01.576Z"
   },
   {
    "duration": 5,
    "start_time": "2021-07-07T18:14:01.683Z"
   },
   {
    "duration": 46,
    "start_time": "2021-07-07T18:14:01.690Z"
   },
   {
    "duration": 7,
    "start_time": "2021-07-07T18:14:01.738Z"
   },
   {
    "duration": 20,
    "start_time": "2021-07-07T18:14:01.747Z"
   },
   {
    "duration": 16,
    "start_time": "2021-07-07T18:14:01.769Z"
   },
   {
    "duration": 14,
    "start_time": "2021-07-07T18:14:01.787Z"
   },
   {
    "duration": 15,
    "start_time": "2021-07-07T18:14:01.803Z"
   },
   {
    "duration": 12,
    "start_time": "2021-07-07T18:14:01.820Z"
   },
   {
    "duration": 35,
    "start_time": "2021-07-07T18:14:01.833Z"
   },
   {
    "duration": 31,
    "start_time": "2021-07-07T18:14:01.869Z"
   },
   {
    "duration": 37,
    "start_time": "2021-07-07T18:14:01.902Z"
   },
   {
    "duration": 8,
    "start_time": "2021-07-07T18:14:01.942Z"
   },
   {
    "duration": 16,
    "start_time": "2021-07-07T18:14:01.952Z"
   },
   {
    "duration": 13,
    "start_time": "2021-07-07T18:14:01.970Z"
   },
   {
    "duration": 32,
    "start_time": "2021-07-07T18:14:01.985Z"
   },
   {
    "duration": 11,
    "start_time": "2021-07-07T18:14:02.019Z"
   },
   {
    "duration": 22,
    "start_time": "2021-07-07T18:14:02.031Z"
   },
   {
    "duration": 27,
    "start_time": "2021-07-07T18:14:02.055Z"
   },
   {
    "duration": 18,
    "start_time": "2021-07-07T18:14:02.084Z"
   },
   {
    "duration": 18,
    "start_time": "2021-07-07T18:14:02.106Z"
   },
   {
    "duration": 11,
    "start_time": "2021-07-07T18:14:02.126Z"
   },
   {
    "duration": 21,
    "start_time": "2021-07-07T18:14:02.138Z"
   },
   {
    "duration": 32,
    "start_time": "2021-07-07T18:14:02.161Z"
   },
   {
    "duration": 28,
    "start_time": "2021-07-07T18:14:44.295Z"
   },
   {
    "duration": 6,
    "start_time": "2021-07-07T18:15:05.834Z"
   },
   {
    "duration": 511,
    "start_time": "2021-07-07T18:15:41.541Z"
   },
   {
    "duration": 183,
    "start_time": "2021-07-07T18:15:42.054Z"
   },
   {
    "duration": 50,
    "start_time": "2021-07-07T18:15:42.239Z"
   },
   {
    "duration": 5,
    "start_time": "2021-07-07T18:15:42.291Z"
   },
   {
    "duration": 48,
    "start_time": "2021-07-07T18:15:42.297Z"
   },
   {
    "duration": 8,
    "start_time": "2021-07-07T18:15:42.346Z"
   },
   {
    "duration": 17,
    "start_time": "2021-07-07T18:15:42.356Z"
   },
   {
    "duration": 15,
    "start_time": "2021-07-07T18:15:42.375Z"
   },
   {
    "duration": 12,
    "start_time": "2021-07-07T18:15:42.392Z"
   },
   {
    "duration": 7,
    "start_time": "2021-07-07T18:15:42.406Z"
   },
   {
    "duration": 7,
    "start_time": "2021-07-07T18:15:42.415Z"
   },
   {
    "duration": 29,
    "start_time": "2021-07-07T18:15:42.423Z"
   },
   {
    "duration": 43,
    "start_time": "2021-07-07T18:15:42.453Z"
   },
   {
    "duration": 18,
    "start_time": "2021-07-07T18:15:42.497Z"
   },
   {
    "duration": 6,
    "start_time": "2021-07-07T18:15:42.516Z"
   },
   {
    "duration": 3,
    "start_time": "2021-07-07T18:15:42.523Z"
   },
   {
    "duration": 18,
    "start_time": "2021-07-07T18:15:42.528Z"
   },
   {
    "duration": 10,
    "start_time": "2021-07-07T18:15:42.547Z"
   },
   {
    "duration": 36,
    "start_time": "2021-07-07T18:15:42.559Z"
   },
   {
    "duration": 8,
    "start_time": "2021-07-07T18:15:42.597Z"
   },
   {
    "duration": 28,
    "start_time": "2021-07-07T18:15:42.606Z"
   },
   {
    "duration": 52,
    "start_time": "2021-07-07T18:15:42.635Z"
   },
   {
    "duration": 7,
    "start_time": "2021-07-07T18:15:42.690Z"
   },
   {
    "duration": 10,
    "start_time": "2021-07-07T18:15:42.699Z"
   },
   {
    "duration": 19,
    "start_time": "2021-07-07T18:15:42.711Z"
   },
   {
    "duration": 9,
    "start_time": "2021-07-07T18:15:42.732Z"
   },
   {
    "duration": 5,
    "start_time": "2021-07-07T18:15:42.743Z"
   },
   {
    "duration": 1450,
    "start_time": "2021-07-07T18:15:51.984Z"
   },
   {
    "duration": 161,
    "start_time": "2021-07-07T18:15:53.435Z"
   },
   {
    "duration": 124,
    "start_time": "2021-07-07T18:15:53.598Z"
   },
   {
    "duration": 5,
    "start_time": "2021-07-07T18:15:53.724Z"
   },
   {
    "duration": 34,
    "start_time": "2021-07-07T18:15:53.730Z"
   },
   {
    "duration": 7,
    "start_time": "2021-07-07T18:15:53.765Z"
   },
   {
    "duration": 15,
    "start_time": "2021-07-07T18:15:53.773Z"
   },
   {
    "duration": 5,
    "start_time": "2021-07-07T18:15:53.791Z"
   },
   {
    "duration": 19,
    "start_time": "2021-07-07T18:15:53.798Z"
   },
   {
    "duration": 9,
    "start_time": "2021-07-07T18:15:53.818Z"
   },
   {
    "duration": 19,
    "start_time": "2021-07-07T18:15:53.828Z"
   },
   {
    "duration": 27,
    "start_time": "2021-07-07T18:15:53.848Z"
   },
   {
    "duration": 16,
    "start_time": "2021-07-07T18:15:53.884Z"
   },
   {
    "duration": 29,
    "start_time": "2021-07-07T18:15:53.901Z"
   },
   {
    "duration": 5,
    "start_time": "2021-07-07T18:15:53.932Z"
   },
   {
    "duration": 15,
    "start_time": "2021-07-07T18:15:53.939Z"
   },
   {
    "duration": 13,
    "start_time": "2021-07-07T18:15:53.956Z"
   },
   {
    "duration": 20,
    "start_time": "2021-07-07T18:15:53.971Z"
   },
   {
    "duration": 14,
    "start_time": "2021-07-07T18:15:53.992Z"
   },
   {
    "duration": 9,
    "start_time": "2021-07-07T18:15:54.009Z"
   },
   {
    "duration": 28,
    "start_time": "2021-07-07T18:15:54.020Z"
   },
   {
    "duration": 50,
    "start_time": "2021-07-07T18:15:54.051Z"
   },
   {
    "duration": 8,
    "start_time": "2021-07-07T18:15:54.105Z"
   },
   {
    "duration": 11,
    "start_time": "2021-07-07T18:15:54.115Z"
   },
   {
    "duration": 20,
    "start_time": "2021-07-07T18:15:54.128Z"
   },
   {
    "duration": 13,
    "start_time": "2021-07-07T18:15:54.184Z"
   },
   {
    "duration": 7,
    "start_time": "2021-07-07T18:15:54.199Z"
   },
   {
    "duration": 7,
    "start_time": "2021-07-07T18:17:08.042Z"
   },
   {
    "duration": 8,
    "start_time": "2021-07-07T18:17:21.008Z"
   },
   {
    "duration": 7,
    "start_time": "2021-07-07T18:17:29.003Z"
   },
   {
    "duration": 8,
    "start_time": "2021-07-07T18:17:32.492Z"
   },
   {
    "duration": 9,
    "start_time": "2021-07-07T18:17:41.758Z"
   },
   {
    "duration": 255,
    "start_time": "2021-07-07T18:20:20.897Z"
   },
   {
    "duration": 173,
    "start_time": "2021-07-07T18:20:26.636Z"
   },
   {
    "duration": 7,
    "start_time": "2021-07-07T18:21:47.164Z"
   },
   {
    "duration": 254,
    "start_time": "2021-07-07T18:23:08.703Z"
   },
   {
    "duration": 21,
    "start_time": "2021-07-07T18:23:22.506Z"
   },
   {
    "duration": 315,
    "start_time": "2021-07-07T18:25:54.801Z"
   },
   {
    "duration": 34,
    "start_time": "2021-07-07T18:26:51.817Z"
   },
   {
    "duration": 327,
    "start_time": "2021-07-07T18:26:56.147Z"
   },
   {
    "duration": 342,
    "start_time": "2021-07-07T18:27:15.887Z"
   },
   {
    "duration": 302,
    "start_time": "2021-07-07T18:28:18.569Z"
   },
   {
    "duration": 226,
    "start_time": "2021-07-07T18:29:20.879Z"
   },
   {
    "duration": 207,
    "start_time": "2021-07-07T18:29:58.114Z"
   },
   {
    "duration": 140,
    "start_time": "2021-07-07T18:32:04.372Z"
   },
   {
    "duration": 158,
    "start_time": "2021-07-07T18:32:32.508Z"
   },
   {
    "duration": 145,
    "start_time": "2021-07-07T18:32:41.365Z"
   },
   {
    "duration": 132,
    "start_time": "2021-07-07T18:32:45.199Z"
   },
   {
    "duration": 11,
    "start_time": "2021-07-07T18:35:24.679Z"
   },
   {
    "duration": 268,
    "start_time": "2021-07-07T18:36:16.145Z"
   },
   {
    "duration": 227,
    "start_time": "2021-07-07T18:37:04.918Z"
   },
   {
    "duration": 3,
    "start_time": "2021-07-07T18:37:33.012Z"
   },
   {
    "duration": 671,
    "start_time": "2021-07-07T18:37:38.295Z"
   },
   {
    "duration": 54,
    "start_time": "2021-07-07T18:37:53.406Z"
   },
   {
    "duration": 631,
    "start_time": "2021-07-07T18:37:56.463Z"
   },
   {
    "duration": 19,
    "start_time": "2021-07-07T18:39:40.535Z"
   },
   {
    "duration": 20,
    "start_time": "2021-07-07T18:40:12.236Z"
   },
   {
    "duration": 633,
    "start_time": "2021-07-07T18:42:00.398Z"
   },
   {
    "duration": 218,
    "start_time": "2021-07-07T18:42:01.033Z"
   },
   {
    "duration": 49,
    "start_time": "2021-07-07T18:42:01.253Z"
   },
   {
    "duration": 5,
    "start_time": "2021-07-07T18:42:01.303Z"
   },
   {
    "duration": 27,
    "start_time": "2021-07-07T18:42:01.310Z"
   },
   {
    "duration": 8,
    "start_time": "2021-07-07T18:42:01.339Z"
   },
   {
    "duration": 20,
    "start_time": "2021-07-07T18:42:01.348Z"
   },
   {
    "duration": 6,
    "start_time": "2021-07-07T18:42:01.386Z"
   },
   {
    "duration": 16,
    "start_time": "2021-07-07T18:42:01.394Z"
   },
   {
    "duration": 9,
    "start_time": "2021-07-07T18:42:01.411Z"
   },
   {
    "duration": 11,
    "start_time": "2021-07-07T18:42:01.421Z"
   },
   {
    "duration": 31,
    "start_time": "2021-07-07T18:42:01.434Z"
   },
   {
    "duration": 18,
    "start_time": "2021-07-07T18:42:01.485Z"
   },
   {
    "duration": 23,
    "start_time": "2021-07-07T18:42:01.505Z"
   },
   {
    "duration": 6,
    "start_time": "2021-07-07T18:42:01.530Z"
   },
   {
    "duration": 10,
    "start_time": "2021-07-07T18:42:01.538Z"
   },
   {
    "duration": 13,
    "start_time": "2021-07-07T18:42:01.550Z"
   },
   {
    "duration": 24,
    "start_time": "2021-07-07T18:42:01.564Z"
   },
   {
    "duration": 20,
    "start_time": "2021-07-07T18:42:01.590Z"
   },
   {
    "duration": 8,
    "start_time": "2021-07-07T18:42:01.611Z"
   },
   {
    "duration": 31,
    "start_time": "2021-07-07T18:42:01.620Z"
   },
   {
    "duration": 39,
    "start_time": "2021-07-07T18:42:01.653Z"
   },
   {
    "duration": 8,
    "start_time": "2021-07-07T18:42:01.696Z"
   },
   {
    "duration": 13,
    "start_time": "2021-07-07T18:42:01.705Z"
   },
   {
    "duration": 20,
    "start_time": "2021-07-07T18:42:01.720Z"
   },
   {
    "duration": 12,
    "start_time": "2021-07-07T18:42:01.741Z"
   },
   {
    "duration": 35,
    "start_time": "2021-07-07T18:42:01.755Z"
   },
   {
    "duration": 14,
    "start_time": "2021-07-07T18:42:01.792Z"
   },
   {
    "duration": 188,
    "start_time": "2021-07-07T18:42:01.808Z"
   },
   {
    "duration": 19,
    "start_time": "2021-07-07T18:42:01.998Z"
   },
   {
    "duration": 175,
    "start_time": "2021-07-07T18:42:02.019Z"
   },
   {
    "duration": 134,
    "start_time": "2021-07-07T18:42:02.196Z"
   },
   {
    "duration": 10,
    "start_time": "2021-07-07T18:42:02.331Z"
   },
   {
    "duration": 19,
    "start_time": "2021-07-07T18:42:02.343Z"
   },
   {
    "duration": 628,
    "start_time": "2021-07-07T18:46:30.701Z"
   },
   {
    "duration": 183,
    "start_time": "2021-07-07T18:46:31.331Z"
   },
   {
    "duration": 48,
    "start_time": "2021-07-07T18:46:31.516Z"
   },
   {
    "duration": 5,
    "start_time": "2021-07-07T18:46:31.566Z"
   },
   {
    "duration": 28,
    "start_time": "2021-07-07T18:46:31.572Z"
   },
   {
    "duration": 8,
    "start_time": "2021-07-07T18:46:31.602Z"
   },
   {
    "duration": 19,
    "start_time": "2021-07-07T18:46:31.611Z"
   },
   {
    "duration": 6,
    "start_time": "2021-07-07T18:46:31.633Z"
   },
   {
    "duration": 17,
    "start_time": "2021-07-07T18:46:31.642Z"
   },
   {
    "duration": 10,
    "start_time": "2021-07-07T18:46:31.684Z"
   },
   {
    "duration": 9,
    "start_time": "2021-07-07T18:46:31.695Z"
   },
   {
    "duration": 28,
    "start_time": "2021-07-07T18:46:31.705Z"
   },
   {
    "duration": 18,
    "start_time": "2021-07-07T18:46:31.735Z"
   },
   {
    "duration": 48,
    "start_time": "2021-07-07T18:46:31.755Z"
   },
   {
    "duration": 6,
    "start_time": "2021-07-07T18:46:31.804Z"
   },
   {
    "duration": 4,
    "start_time": "2021-07-07T18:46:31.812Z"
   },
   {
    "duration": 9,
    "start_time": "2021-07-07T18:46:31.817Z"
   },
   {
    "duration": 10,
    "start_time": "2021-07-07T18:46:31.827Z"
   },
   {
    "duration": 12,
    "start_time": "2021-07-07T18:46:31.838Z"
   },
   {
    "duration": 39,
    "start_time": "2021-07-07T18:46:31.851Z"
   },
   {
    "duration": 24,
    "start_time": "2021-07-07T18:46:31.892Z"
   },
   {
    "duration": 15,
    "start_time": "2021-07-07T18:46:31.918Z"
   },
   {
    "duration": 7,
    "start_time": "2021-07-07T18:46:31.936Z"
   },
   {
    "duration": 8,
    "start_time": "2021-07-07T18:46:31.944Z"
   },
   {
    "duration": 19,
    "start_time": "2021-07-07T18:46:31.984Z"
   },
   {
    "duration": 10,
    "start_time": "2021-07-07T18:46:32.004Z"
   },
   {
    "duration": 5,
    "start_time": "2021-07-07T18:46:32.016Z"
   },
   {
    "duration": 9,
    "start_time": "2021-07-07T18:46:32.023Z"
   },
   {
    "duration": 199,
    "start_time": "2021-07-07T18:46:32.033Z"
   },
   {
    "duration": 19,
    "start_time": "2021-07-07T18:46:32.234Z"
   },
   {
    "duration": 159,
    "start_time": "2021-07-07T18:46:32.255Z"
   },
   {
    "duration": 134,
    "start_time": "2021-07-07T18:46:32.416Z"
   },
   {
    "duration": 10,
    "start_time": "2021-07-07T18:46:32.552Z"
   },
   {
    "duration": 34,
    "start_time": "2021-07-07T18:46:32.563Z"
   },
   {
    "duration": 1039,
    "start_time": "2021-07-08T08:41:09.419Z"
   },
   {
    "duration": 333,
    "start_time": "2021-07-08T08:41:10.459Z"
   },
   {
    "duration": 173,
    "start_time": "2021-07-08T08:41:10.794Z"
   },
   {
    "duration": 5,
    "start_time": "2021-07-08T08:41:10.968Z"
   },
   {
    "duration": 25,
    "start_time": "2021-07-08T08:41:10.975Z"
   },
   {
    "duration": 9,
    "start_time": "2021-07-08T08:41:11.002Z"
   },
   {
    "duration": 18,
    "start_time": "2021-07-08T08:41:11.013Z"
   },
   {
    "duration": 6,
    "start_time": "2021-07-08T08:41:11.033Z"
   },
   {
    "duration": 44,
    "start_time": "2021-07-08T08:41:11.042Z"
   },
   {
    "duration": 10,
    "start_time": "2021-07-08T08:41:11.088Z"
   },
   {
    "duration": 9,
    "start_time": "2021-07-08T08:41:11.100Z"
   },
   {
    "duration": 27,
    "start_time": "2021-07-08T08:41:11.111Z"
   },
   {
    "duration": 46,
    "start_time": "2021-07-08T08:41:11.140Z"
   },
   {
    "duration": 17,
    "start_time": "2021-07-08T08:41:11.187Z"
   },
   {
    "duration": 6,
    "start_time": "2021-07-08T08:41:11.206Z"
   },
   {
    "duration": 5,
    "start_time": "2021-07-08T08:41:11.213Z"
   },
   {
    "duration": 10,
    "start_time": "2021-07-08T08:41:11.219Z"
   },
   {
    "duration": 9,
    "start_time": "2021-07-08T08:41:11.230Z"
   },
   {
    "duration": 45,
    "start_time": "2021-07-08T08:41:11.241Z"
   },
   {
    "duration": 7,
    "start_time": "2021-07-08T08:41:11.287Z"
   },
   {
    "duration": 24,
    "start_time": "2021-07-08T08:41:11.296Z"
   },
   {
    "duration": 16,
    "start_time": "2021-07-08T08:41:11.322Z"
   },
   {
    "duration": 7,
    "start_time": "2021-07-08T08:41:11.341Z"
   },
   {
    "duration": 41,
    "start_time": "2021-07-08T08:41:11.349Z"
   },
   {
    "duration": 17,
    "start_time": "2021-07-08T08:41:11.391Z"
   },
   {
    "duration": 9,
    "start_time": "2021-07-08T08:41:11.410Z"
   },
   {
    "duration": 5,
    "start_time": "2021-07-08T08:41:11.421Z"
   },
   {
    "duration": 6,
    "start_time": "2021-07-08T08:41:11.428Z"
   },
   {
    "duration": 198,
    "start_time": "2021-07-08T08:41:11.435Z"
   },
   {
    "duration": 18,
    "start_time": "2021-07-08T08:41:11.635Z"
   },
   {
    "duration": 155,
    "start_time": "2021-07-08T08:41:11.655Z"
   },
   {
    "duration": 138,
    "start_time": "2021-07-08T08:41:11.811Z"
   },
   {
    "duration": 10,
    "start_time": "2021-07-08T08:41:11.950Z"
   },
   {
    "duration": 29,
    "start_time": "2021-07-08T08:41:11.961Z"
   },
   {
    "duration": 171,
    "start_time": "2021-07-08T08:47:44.522Z"
   },
   {
    "duration": 124,
    "start_time": "2021-07-08T08:47:46.872Z"
   },
   {
    "duration": 191,
    "start_time": "2021-07-08T08:47:58.148Z"
   },
   {
    "duration": 191,
    "start_time": "2021-07-08T08:48:07.412Z"
   },
   {
    "duration": 261,
    "start_time": "2021-07-08T08:48:10.385Z"
   },
   {
    "duration": 255,
    "start_time": "2021-07-08T08:48:14.494Z"
   },
   {
    "duration": 219,
    "start_time": "2021-07-08T08:48:22.752Z"
   },
   {
    "duration": 173,
    "start_time": "2021-07-08T08:49:06.395Z"
   },
   {
    "duration": 180,
    "start_time": "2021-07-08T08:49:21.011Z"
   },
   {
    "duration": 6,
    "start_time": "2021-07-08T08:50:31.697Z"
   },
   {
    "duration": 10,
    "start_time": "2021-07-08T08:50:47.394Z"
   },
   {
    "duration": 11,
    "start_time": "2021-07-08T08:53:49.332Z"
   },
   {
    "duration": 171,
    "start_time": "2021-07-08T08:54:28.408Z"
   },
   {
    "duration": 636,
    "start_time": "2021-07-08T09:02:48.385Z"
   },
   {
    "duration": 227,
    "start_time": "2021-07-08T09:02:49.023Z"
   },
   {
    "duration": 104,
    "start_time": "2021-07-08T09:02:49.252Z"
   },
   {
    "duration": 5,
    "start_time": "2021-07-08T09:02:49.358Z"
   },
   {
    "duration": 27,
    "start_time": "2021-07-08T09:02:49.365Z"
   },
   {
    "duration": 8,
    "start_time": "2021-07-08T09:02:49.394Z"
   },
   {
    "duration": 18,
    "start_time": "2021-07-08T09:02:49.404Z"
   },
   {
    "duration": 6,
    "start_time": "2021-07-08T09:02:49.424Z"
   },
   {
    "duration": 11,
    "start_time": "2021-07-08T09:02:49.433Z"
   },
   {
    "duration": 13,
    "start_time": "2021-07-08T09:02:49.485Z"
   },
   {
    "duration": 9,
    "start_time": "2021-07-08T09:02:49.500Z"
   },
   {
    "duration": 38,
    "start_time": "2021-07-08T09:02:49.511Z"
   },
   {
    "duration": 42,
    "start_time": "2021-07-08T09:02:49.551Z"
   },
   {
    "duration": 21,
    "start_time": "2021-07-08T09:02:49.594Z"
   },
   {
    "duration": 6,
    "start_time": "2021-07-08T09:02:49.616Z"
   },
   {
    "duration": 3,
    "start_time": "2021-07-08T09:02:49.623Z"
   },
   {
    "duration": 9,
    "start_time": "2021-07-08T09:02:49.628Z"
   },
   {
    "duration": 52,
    "start_time": "2021-07-08T09:02:49.638Z"
   },
   {
    "duration": 11,
    "start_time": "2021-07-08T09:02:49.692Z"
   },
   {
    "duration": 8,
    "start_time": "2021-07-08T09:02:49.704Z"
   },
   {
    "duration": 27,
    "start_time": "2021-07-08T09:02:49.713Z"
   },
   {
    "duration": 59,
    "start_time": "2021-07-08T09:02:49.741Z"
   },
   {
    "duration": 8,
    "start_time": "2021-07-08T09:02:49.803Z"
   },
   {
    "duration": 14,
    "start_time": "2021-07-08T09:02:49.813Z"
   },
   {
    "duration": 20,
    "start_time": "2021-07-08T09:02:49.829Z"
   },
   {
    "duration": 44,
    "start_time": "2021-07-08T09:02:49.851Z"
   },
   {
    "duration": 14,
    "start_time": "2021-07-08T09:02:49.896Z"
   },
   {
    "duration": 221,
    "start_time": "2021-07-08T09:02:49.912Z"
   },
   {
    "duration": 6,
    "start_time": "2021-07-08T09:02:50.134Z"
   },
   {
    "duration": 206,
    "start_time": "2021-07-08T09:02:50.142Z"
   },
   {
    "duration": 19,
    "start_time": "2021-07-08T09:02:50.350Z"
   },
   {
    "duration": 21,
    "start_time": "2021-07-08T09:02:50.370Z"
   },
   {
    "duration": 20,
    "start_time": "2021-07-08T09:02:50.393Z"
   },
   {
    "duration": 5,
    "start_time": "2021-07-08T09:02:50.414Z"
   },
   {
    "duration": 5,
    "start_time": "2021-07-08T09:03:34.173Z"
   },
   {
    "duration": 6,
    "start_time": "2021-07-08T09:04:49.062Z"
   },
   {
    "duration": 9,
    "start_time": "2021-07-08T09:04:50.118Z"
   },
   {
    "duration": 14,
    "start_time": "2021-07-08T09:04:58.512Z"
   },
   {
    "duration": 9,
    "start_time": "2021-07-08T09:05:10.988Z"
   },
   {
    "duration": 11,
    "start_time": "2021-07-08T09:05:11.743Z"
   },
   {
    "duration": 7,
    "start_time": "2021-07-08T09:05:25.677Z"
   },
   {
    "duration": 13,
    "start_time": "2021-07-08T09:05:47.189Z"
   },
   {
    "duration": 13,
    "start_time": "2021-07-08T09:05:54.755Z"
   },
   {
    "duration": 4,
    "start_time": "2021-07-08T09:06:29.189Z"
   },
   {
    "duration": 244,
    "start_time": "2021-07-08T09:06:29.195Z"
   },
   {
    "duration": 91,
    "start_time": "2021-07-08T09:06:29.441Z"
   },
   {
    "duration": 4,
    "start_time": "2021-07-08T09:06:29.534Z"
   },
   {
    "duration": 28,
    "start_time": "2021-07-08T09:06:29.540Z"
   },
   {
    "duration": 6,
    "start_time": "2021-07-08T09:06:29.570Z"
   },
   {
    "duration": 18,
    "start_time": "2021-07-08T09:06:29.578Z"
   },
   {
    "duration": 5,
    "start_time": "2021-07-08T09:06:29.597Z"
   },
   {
    "duration": 13,
    "start_time": "2021-07-08T09:06:29.605Z"
   },
   {
    "duration": 8,
    "start_time": "2021-07-08T09:06:29.620Z"
   },
   {
    "duration": 7,
    "start_time": "2021-07-08T09:06:29.630Z"
   },
   {
    "duration": 63,
    "start_time": "2021-07-08T09:06:29.639Z"
   },
   {
    "duration": 17,
    "start_time": "2021-07-08T09:06:29.704Z"
   },
   {
    "duration": 20,
    "start_time": "2021-07-08T09:06:29.723Z"
   },
   {
    "duration": 6,
    "start_time": "2021-07-08T09:06:29.745Z"
   },
   {
    "duration": 3,
    "start_time": "2021-07-08T09:06:29.752Z"
   },
   {
    "duration": 7,
    "start_time": "2021-07-08T09:06:29.785Z"
   },
   {
    "duration": 11,
    "start_time": "2021-07-08T09:06:29.794Z"
   },
   {
    "duration": 15,
    "start_time": "2021-07-08T09:06:29.807Z"
   },
   {
    "duration": 8,
    "start_time": "2021-07-08T09:06:29.823Z"
   },
   {
    "duration": 70,
    "start_time": "2021-07-08T09:06:29.832Z"
   },
   {
    "duration": 17,
    "start_time": "2021-07-08T09:06:29.903Z"
   },
   {
    "duration": 9,
    "start_time": "2021-07-08T09:06:29.921Z"
   },
   {
    "duration": 9,
    "start_time": "2021-07-08T09:06:29.932Z"
   },
   {
    "duration": 57,
    "start_time": "2021-07-08T09:06:29.942Z"
   },
   {
    "duration": 11,
    "start_time": "2021-07-08T09:06:30.001Z"
   },
   {
    "duration": 19,
    "start_time": "2021-07-08T09:06:30.016Z"
   },
   {
    "duration": 217,
    "start_time": "2021-07-08T09:06:30.037Z"
   },
   {
    "duration": 6,
    "start_time": "2021-07-08T09:06:30.255Z"
   },
   {
    "duration": 205,
    "start_time": "2021-07-08T09:06:30.263Z"
   },
   {
    "duration": 27,
    "start_time": "2021-07-08T09:06:30.470Z"
   },
   {
    "duration": 11,
    "start_time": "2021-07-08T09:06:30.500Z"
   },
   {
    "duration": 31,
    "start_time": "2021-07-08T09:06:30.513Z"
   },
   {
    "duration": 18,
    "start_time": "2021-07-08T09:06:30.546Z"
   },
   {
    "duration": 11,
    "start_time": "2021-07-08T09:06:30.566Z"
   },
   {
    "duration": 19,
    "start_time": "2021-07-08T09:06:30.579Z"
   },
   {
    "duration": 20,
    "start_time": "2021-07-08T09:06:49.466Z"
   },
   {
    "duration": 9,
    "start_time": "2021-07-08T09:06:51.994Z"
   },
   {
    "duration": 20,
    "start_time": "2021-07-08T09:06:52.273Z"
   },
   {
    "duration": 246,
    "start_time": "2021-07-08T09:10:21.272Z"
   },
   {
    "duration": 84,
    "start_time": "2021-07-08T09:10:21.436Z"
   },
   {
    "duration": 7,
    "start_time": "2021-07-08T09:10:37.608Z"
   },
   {
    "duration": 189,
    "start_time": "2021-07-08T09:10:38.573Z"
   },
   {
    "duration": 185,
    "start_time": "2021-07-08T09:10:53.181Z"
   },
   {
    "duration": 11,
    "start_time": "2021-07-08T09:10:59.549Z"
   },
   {
    "duration": 42,
    "start_time": "2021-07-08T09:10:59.709Z"
   },
   {
    "duration": 12,
    "start_time": "2021-07-08T09:11:02.857Z"
   },
   {
    "duration": 28,
    "start_time": "2021-07-08T09:11:10.062Z"
   },
   {
    "duration": 249,
    "start_time": "2021-07-08T09:11:37.388Z"
   },
   {
    "duration": 232,
    "start_time": "2021-07-08T09:11:49.485Z"
   },
   {
    "duration": 453,
    "start_time": "2021-07-08T09:12:01.546Z"
   },
   {
    "duration": 440,
    "start_time": "2021-07-08T09:12:12.347Z"
   },
   {
    "duration": 213,
    "start_time": "2021-07-08T09:13:32.196Z"
   },
   {
    "duration": 172,
    "start_time": "2021-07-08T09:14:07.400Z"
   },
   {
    "duration": 185,
    "start_time": "2021-07-08T09:14:14.905Z"
   },
   {
    "duration": 209,
    "start_time": "2021-07-08T09:14:40.109Z"
   },
   {
    "duration": 201,
    "start_time": "2021-07-08T09:14:54.506Z"
   },
   {
    "duration": 622,
    "start_time": "2021-07-08T09:18:14.497Z"
   },
   {
    "duration": 220,
    "start_time": "2021-07-08T09:18:15.121Z"
   },
   {
    "duration": 79,
    "start_time": "2021-07-08T09:18:15.343Z"
   },
   {
    "duration": 4,
    "start_time": "2021-07-08T09:18:15.425Z"
   },
   {
    "duration": 24,
    "start_time": "2021-07-08T09:18:15.431Z"
   },
   {
    "duration": 8,
    "start_time": "2021-07-08T09:18:15.457Z"
   },
   {
    "duration": 16,
    "start_time": "2021-07-08T09:18:15.466Z"
   },
   {
    "duration": 5,
    "start_time": "2021-07-08T09:18:15.484Z"
   },
   {
    "duration": 10,
    "start_time": "2021-07-08T09:18:15.493Z"
   },
   {
    "duration": 8,
    "start_time": "2021-07-08T09:18:15.504Z"
   },
   {
    "duration": 7,
    "start_time": "2021-07-08T09:18:15.513Z"
   },
   {
    "duration": 26,
    "start_time": "2021-07-08T09:18:15.522Z"
   },
   {
    "duration": 49,
    "start_time": "2021-07-08T09:18:15.550Z"
   },
   {
    "duration": 21,
    "start_time": "2021-07-08T09:18:15.601Z"
   },
   {
    "duration": 8,
    "start_time": "2021-07-08T09:18:15.624Z"
   },
   {
    "duration": 3,
    "start_time": "2021-07-08T09:18:15.634Z"
   },
   {
    "duration": 8,
    "start_time": "2021-07-08T09:18:15.639Z"
   },
   {
    "duration": 45,
    "start_time": "2021-07-08T09:18:15.649Z"
   },
   {
    "duration": 13,
    "start_time": "2021-07-08T09:18:15.696Z"
   },
   {
    "duration": 10,
    "start_time": "2021-07-08T09:18:15.711Z"
   },
   {
    "duration": 64,
    "start_time": "2021-07-08T09:18:15.722Z"
   },
   {
    "duration": 19,
    "start_time": "2021-07-08T09:18:15.788Z"
   },
   {
    "duration": 9,
    "start_time": "2021-07-08T09:18:15.809Z"
   },
   {
    "duration": 9,
    "start_time": "2021-07-08T09:18:15.820Z"
   },
   {
    "duration": 18,
    "start_time": "2021-07-08T09:18:15.831Z"
   },
   {
    "duration": 43,
    "start_time": "2021-07-08T09:18:15.851Z"
   },
   {
    "duration": 12,
    "start_time": "2021-07-08T09:18:15.897Z"
   },
   {
    "duration": 219,
    "start_time": "2021-07-08T09:18:15.911Z"
   },
   {
    "duration": 8,
    "start_time": "2021-07-08T09:18:16.132Z"
   },
   {
    "duration": 199,
    "start_time": "2021-07-08T09:18:16.141Z"
   },
   {
    "duration": 18,
    "start_time": "2021-07-08T09:18:16.341Z"
   },
   {
    "duration": 24,
    "start_time": "2021-07-08T09:18:16.361Z"
   },
   {
    "duration": 24,
    "start_time": "2021-07-08T09:18:16.387Z"
   },
   {
    "duration": 211,
    "start_time": "2021-07-08T09:18:16.413Z"
   },
   {
    "duration": 18,
    "start_time": "2021-07-08T09:18:16.626Z"
   },
   {
    "duration": 596,
    "start_time": "2021-07-08T10:06:33.623Z"
   },
   {
    "duration": 181,
    "start_time": "2021-07-08T10:06:34.221Z"
   },
   {
    "duration": 176,
    "start_time": "2021-07-08T10:06:34.635Z"
   },
   {
    "duration": 239,
    "start_time": "2021-07-08T10:06:55.572Z"
   },
   {
    "duration": 6,
    "start_time": "2021-07-08T10:06:57.687Z"
   },
   {
    "duration": 4,
    "start_time": "2021-07-08T10:07:03.956Z"
   },
   {
    "duration": 4,
    "start_time": "2021-07-08T10:07:10.376Z"
   },
   {
    "duration": 4,
    "start_time": "2021-07-08T10:17:19.889Z"
   },
   {
    "duration": 3,
    "start_time": "2021-07-08T10:19:19.407Z"
   },
   {
    "duration": 197,
    "start_time": "2021-07-08T10:19:19.412Z"
   },
   {
    "duration": 127,
    "start_time": "2021-07-08T10:19:19.611Z"
   },
   {
    "duration": 4,
    "start_time": "2021-07-08T10:19:19.740Z"
   },
   {
    "duration": 27,
    "start_time": "2021-07-08T10:19:19.746Z"
   },
   {
    "duration": 7,
    "start_time": "2021-07-08T10:19:19.775Z"
   },
   {
    "duration": 30,
    "start_time": "2021-07-08T10:19:19.784Z"
   },
   {
    "duration": 7,
    "start_time": "2021-07-08T10:19:19.817Z"
   },
   {
    "duration": 26,
    "start_time": "2021-07-08T10:19:19.826Z"
   },
   {
    "duration": 18,
    "start_time": "2021-07-08T10:19:19.854Z"
   },
   {
    "duration": 14,
    "start_time": "2021-07-08T10:19:19.874Z"
   },
   {
    "duration": 48,
    "start_time": "2021-07-08T10:19:19.890Z"
   },
   {
    "duration": 17,
    "start_time": "2021-07-08T10:19:19.940Z"
   },
   {
    "duration": 38,
    "start_time": "2021-07-08T10:19:19.959Z"
   },
   {
    "duration": 8,
    "start_time": "2021-07-08T10:19:19.999Z"
   },
   {
    "duration": 15,
    "start_time": "2021-07-08T10:19:20.009Z"
   },
   {
    "duration": 22,
    "start_time": "2021-07-08T10:19:20.026Z"
   },
   {
    "duration": 10,
    "start_time": "2021-07-08T10:19:20.050Z"
   },
   {
    "duration": 10,
    "start_time": "2021-07-08T10:19:20.062Z"
   },
   {
    "duration": 20,
    "start_time": "2021-07-08T10:19:20.073Z"
   },
   {
    "duration": 29,
    "start_time": "2021-07-08T10:19:20.095Z"
   },
   {
    "duration": 17,
    "start_time": "2021-07-08T10:19:20.126Z"
   },
   {
    "duration": 40,
    "start_time": "2021-07-08T10:19:20.146Z"
   },
   {
    "duration": 15,
    "start_time": "2021-07-08T10:19:20.189Z"
   },
   {
    "duration": 19,
    "start_time": "2021-07-08T10:19:20.206Z"
   },
   {
    "duration": 10,
    "start_time": "2021-07-08T10:19:20.226Z"
   },
   {
    "duration": 11,
    "start_time": "2021-07-08T10:19:20.238Z"
   },
   {
    "duration": 297,
    "start_time": "2021-07-08T10:19:20.250Z"
   },
   {
    "duration": 6,
    "start_time": "2021-07-08T10:19:20.549Z"
   },
   {
    "duration": 191,
    "start_time": "2021-07-08T10:19:20.557Z"
   },
   {
    "duration": 19,
    "start_time": "2021-07-08T10:19:20.750Z"
   },
   {
    "duration": 20,
    "start_time": "2021-07-08T10:19:20.771Z"
   },
   {
    "duration": 15,
    "start_time": "2021-07-08T10:19:20.793Z"
   },
   {
    "duration": 222,
    "start_time": "2021-07-08T10:19:20.809Z"
   },
   {
    "duration": 20,
    "start_time": "2021-07-08T10:19:21.033Z"
   },
   {
    "duration": 27,
    "start_time": "2021-07-08T10:45:04.055Z"
   },
   {
    "duration": 8,
    "start_time": "2021-07-08T10:45:08.478Z"
   },
   {
    "duration": 8,
    "start_time": "2021-07-08T10:45:31.982Z"
   },
   {
    "duration": 10,
    "start_time": "2021-07-08T10:46:01.221Z"
   },
   {
    "duration": 17,
    "start_time": "2021-07-08T10:46:40.011Z"
   },
   {
    "duration": 193,
    "start_time": "2021-07-08T10:48:19.471Z"
   },
   {
    "duration": 225,
    "start_time": "2021-07-08T10:49:26.480Z"
   },
   {
    "duration": 204,
    "start_time": "2021-07-08T10:49:59.992Z"
   },
   {
    "duration": 435,
    "start_time": "2021-07-08T10:50:06.779Z"
   },
   {
    "duration": 199,
    "start_time": "2021-07-08T10:50:14.891Z"
   },
   {
    "duration": 204,
    "start_time": "2021-07-08T10:50:18.501Z"
   },
   {
    "duration": 244,
    "start_time": "2021-07-08T10:50:23.359Z"
   },
   {
    "duration": 192,
    "start_time": "2021-07-08T10:50:29.135Z"
   },
   {
    "duration": 218,
    "start_time": "2021-07-08T10:50:33.092Z"
   },
   {
    "duration": 207,
    "start_time": "2021-07-08T10:52:45.381Z"
   },
   {
    "duration": 5,
    "start_time": "2021-07-08T10:53:34.641Z"
   },
   {
    "duration": 196,
    "start_time": "2021-07-08T10:53:41.478Z"
   },
   {
    "duration": 43,
    "start_time": "2021-07-08T10:53:50.335Z"
   },
   {
    "duration": 32,
    "start_time": "2021-07-08T10:53:55.294Z"
   },
   {
    "duration": 55,
    "start_time": "2021-07-08T10:54:09.675Z"
   },
   {
    "duration": 16,
    "start_time": "2021-07-08T10:54:12.260Z"
   },
   {
    "duration": 15,
    "start_time": "2021-07-08T10:54:49.150Z"
   },
   {
    "duration": 20,
    "start_time": "2021-07-08T10:56:07.596Z"
   },
   {
    "duration": 16,
    "start_time": "2021-07-08T10:58:26.276Z"
   },
   {
    "duration": 22,
    "start_time": "2021-07-08T10:59:00.486Z"
   },
   {
    "duration": 18,
    "start_time": "2021-07-08T11:02:09.653Z"
   },
   {
    "duration": 10,
    "start_time": "2021-07-08T11:03:44.331Z"
   },
   {
    "duration": 10,
    "start_time": "2021-07-08T11:03:54.055Z"
   },
   {
    "duration": 12,
    "start_time": "2021-07-08T11:04:41.967Z"
   },
   {
    "duration": 24,
    "start_time": "2021-07-08T11:07:30.732Z"
   },
   {
    "duration": 6,
    "start_time": "2021-07-08T11:07:37.364Z"
   },
   {
    "duration": 16,
    "start_time": "2021-07-08T11:08:01.819Z"
   },
   {
    "duration": 17,
    "start_time": "2021-07-08T11:09:47.488Z"
   },
   {
    "duration": 246,
    "start_time": "2021-07-08T11:10:00.830Z"
   },
   {
    "duration": 18,
    "start_time": "2021-07-08T11:13:55.195Z"
   },
   {
    "duration": 204,
    "start_time": "2021-07-08T11:14:04.951Z"
   },
   {
    "duration": 19,
    "start_time": "2021-07-08T11:15:10.613Z"
   },
   {
    "duration": 680,
    "start_time": "2021-07-08T11:16:25.793Z"
   },
   {
    "duration": 451,
    "start_time": "2021-07-08T11:16:40.313Z"
   },
   {
    "duration": 469,
    "start_time": "2021-07-08T11:17:21.286Z"
   },
   {
    "duration": 20,
    "start_time": "2021-07-08T11:19:12.554Z"
   },
   {
    "duration": 35,
    "start_time": "2021-07-08T11:20:05.484Z"
   },
   {
    "duration": 53,
    "start_time": "2021-07-08T11:21:40.050Z"
   },
   {
    "duration": 13,
    "start_time": "2021-07-08T11:22:26.059Z"
   },
   {
    "duration": 19,
    "start_time": "2021-07-08T11:22:47.419Z"
   },
   {
    "duration": 25,
    "start_time": "2021-07-08T11:23:19.958Z"
   },
   {
    "duration": 29,
    "start_time": "2021-07-08T11:23:25.415Z"
   },
   {
    "duration": 10,
    "start_time": "2021-07-08T11:24:45.138Z"
   },
   {
    "duration": 19,
    "start_time": "2021-07-08T11:24:54.498Z"
   },
   {
    "duration": 12,
    "start_time": "2021-07-08T11:25:32.225Z"
   },
   {
    "duration": 19,
    "start_time": "2021-07-08T11:25:37.092Z"
   },
   {
    "duration": 17,
    "start_time": "2021-07-08T11:25:58.116Z"
   },
   {
    "duration": 15,
    "start_time": "2021-07-08T11:26:02.258Z"
   },
   {
    "duration": 8,
    "start_time": "2021-07-08T11:26:59.682Z"
   },
   {
    "duration": 184,
    "start_time": "2021-07-08T11:27:21.894Z"
   },
   {
    "duration": 8,
    "start_time": "2021-07-08T11:27:23.824Z"
   },
   {
    "duration": 202,
    "start_time": "2021-07-08T11:27:23.962Z"
   },
   {
    "duration": 360,
    "start_time": "2021-07-08T11:28:33.215Z"
   },
   {
    "duration": 231,
    "start_time": "2021-07-08T11:32:05.542Z"
   },
   {
    "duration": 607,
    "start_time": "2021-07-08T11:36:27.854Z"
   },
   {
    "duration": 241,
    "start_time": "2021-07-08T11:36:28.463Z"
   },
   {
    "duration": 67,
    "start_time": "2021-07-08T11:36:28.709Z"
   },
   {
    "duration": 5,
    "start_time": "2021-07-08T11:36:28.778Z"
   },
   {
    "duration": 32,
    "start_time": "2021-07-08T11:36:28.784Z"
   },
   {
    "duration": 11,
    "start_time": "2021-07-08T11:36:28.819Z"
   },
   {
    "duration": 20,
    "start_time": "2021-07-08T11:36:28.834Z"
   },
   {
    "duration": 36,
    "start_time": "2021-07-08T11:36:28.857Z"
   },
   {
    "duration": 16,
    "start_time": "2021-07-08T11:36:28.895Z"
   },
   {
    "duration": 14,
    "start_time": "2021-07-08T11:36:28.913Z"
   },
   {
    "duration": 9,
    "start_time": "2021-07-08T11:36:28.930Z"
   },
   {
    "duration": 55,
    "start_time": "2021-07-08T11:36:28.941Z"
   },
   {
    "duration": 27,
    "start_time": "2021-07-08T11:36:28.999Z"
   },
   {
    "duration": 30,
    "start_time": "2021-07-08T11:36:29.028Z"
   },
   {
    "duration": 31,
    "start_time": "2021-07-08T11:36:29.060Z"
   },
   {
    "duration": 3,
    "start_time": "2021-07-08T11:36:29.093Z"
   },
   {
    "duration": 12,
    "start_time": "2021-07-08T11:36:29.099Z"
   },
   {
    "duration": 11,
    "start_time": "2021-07-08T11:36:29.112Z"
   },
   {
    "duration": 12,
    "start_time": "2021-07-08T11:36:29.125Z"
   },
   {
    "duration": 9,
    "start_time": "2021-07-08T11:36:29.139Z"
   },
   {
    "duration": 31,
    "start_time": "2021-07-08T11:36:29.191Z"
   },
   {
    "duration": 17,
    "start_time": "2021-07-08T11:36:29.226Z"
   },
   {
    "duration": 7,
    "start_time": "2021-07-08T11:36:29.245Z"
   },
   {
    "duration": 10,
    "start_time": "2021-07-08T11:36:29.254Z"
   },
   {
    "duration": 30,
    "start_time": "2021-07-08T11:36:29.292Z"
   },
   {
    "duration": 11,
    "start_time": "2021-07-08T11:36:29.324Z"
   },
   {
    "duration": 11,
    "start_time": "2021-07-08T11:36:29.337Z"
   },
   {
    "duration": 230,
    "start_time": "2021-07-08T11:36:29.349Z"
   },
   {
    "duration": 13,
    "start_time": "2021-07-08T11:36:29.588Z"
   },
   {
    "duration": 205,
    "start_time": "2021-07-08T11:36:29.603Z"
   },
   {
    "duration": 20,
    "start_time": "2021-07-08T11:36:29.810Z"
   },
   {
    "duration": 9,
    "start_time": "2021-07-08T11:36:29.832Z"
   },
   {
    "duration": 16,
    "start_time": "2021-07-08T11:36:29.843Z"
   },
   {
    "duration": 283,
    "start_time": "2021-07-08T11:36:29.861Z"
   },
   {
    "duration": 50,
    "start_time": "2021-07-08T11:36:30.146Z"
   },
   {
    "duration": 14,
    "start_time": "2021-07-08T11:36:30.198Z"
   },
   {
    "duration": 11,
    "start_time": "2021-07-08T11:36:30.214Z"
   },
   {
    "duration": 245,
    "start_time": "2021-07-08T11:36:30.227Z"
   },
   {
    "duration": 439,
    "start_time": "2021-07-08T11:36:30.474Z"
   },
   {
    "duration": 210,
    "start_time": "2021-07-08T11:36:30.915Z"
   },
   {
    "duration": 15,
    "start_time": "2021-07-08T11:36:31.127Z"
   },
   {
    "duration": 17,
    "start_time": "2021-07-08T11:38:20.451Z"
   },
   {
    "duration": 642,
    "start_time": "2021-07-08T11:46:17.881Z"
   },
   {
    "duration": 210,
    "start_time": "2021-07-08T11:46:18.525Z"
   },
   {
    "duration": 104,
    "start_time": "2021-07-08T11:46:18.741Z"
   },
   {
    "duration": 8,
    "start_time": "2021-07-08T11:46:18.847Z"
   },
   {
    "duration": 25,
    "start_time": "2021-07-08T11:46:18.857Z"
   },
   {
    "duration": 14,
    "start_time": "2021-07-08T11:46:18.884Z"
   },
   {
    "duration": 22,
    "start_time": "2021-07-08T11:46:18.900Z"
   },
   {
    "duration": 5,
    "start_time": "2021-07-08T11:46:18.924Z"
   },
   {
    "duration": 13,
    "start_time": "2021-07-08T11:46:18.931Z"
   },
   {
    "duration": 45,
    "start_time": "2021-07-08T11:46:18.946Z"
   },
   {
    "duration": 12,
    "start_time": "2021-07-08T11:46:18.993Z"
   },
   {
    "duration": 38,
    "start_time": "2021-07-08T11:46:19.006Z"
   },
   {
    "duration": 50,
    "start_time": "2021-07-08T11:46:19.046Z"
   },
   {
    "duration": 29,
    "start_time": "2021-07-08T11:46:19.099Z"
   },
   {
    "duration": 7,
    "start_time": "2021-07-08T11:46:19.130Z"
   },
   {
    "duration": 3,
    "start_time": "2021-07-08T11:46:19.139Z"
   },
   {
    "duration": 11,
    "start_time": "2021-07-08T11:46:19.144Z"
   },
   {
    "duration": 40,
    "start_time": "2021-07-08T11:46:19.157Z"
   },
   {
    "duration": 15,
    "start_time": "2021-07-08T11:46:19.199Z"
   },
   {
    "duration": 10,
    "start_time": "2021-07-08T11:46:19.217Z"
   },
   {
    "duration": 68,
    "start_time": "2021-07-08T11:46:19.230Z"
   },
   {
    "duration": 17,
    "start_time": "2021-07-08T11:46:19.301Z"
   },
   {
    "duration": 7,
    "start_time": "2021-07-08T11:46:19.321Z"
   },
   {
    "duration": 11,
    "start_time": "2021-07-08T11:46:19.330Z"
   },
   {
    "duration": 59,
    "start_time": "2021-07-08T11:46:19.343Z"
   },
   {
    "duration": 17,
    "start_time": "2021-07-08T11:46:19.405Z"
   },
   {
    "duration": 16,
    "start_time": "2021-07-08T11:46:19.424Z"
   },
   {
    "duration": 252,
    "start_time": "2021-07-08T11:46:19.443Z"
   },
   {
    "duration": 9,
    "start_time": "2021-07-08T11:46:19.697Z"
   },
   {
    "duration": 224,
    "start_time": "2021-07-08T11:46:19.708Z"
   },
   {
    "duration": 21,
    "start_time": "2021-07-08T11:46:19.934Z"
   },
   {
    "duration": 9,
    "start_time": "2021-07-08T11:46:19.956Z"
   },
   {
    "duration": 32,
    "start_time": "2021-07-08T11:46:19.967Z"
   },
   {
    "duration": 288,
    "start_time": "2021-07-08T11:46:20.004Z"
   },
   {
    "duration": 23,
    "start_time": "2021-07-08T11:46:20.300Z"
   },
   {
    "duration": 11,
    "start_time": "2021-07-08T11:46:20.325Z"
   },
   {
    "duration": 11,
    "start_time": "2021-07-08T11:46:20.339Z"
   },
   {
    "duration": 259,
    "start_time": "2021-07-08T11:46:20.352Z"
   },
   {
    "duration": 438,
    "start_time": "2021-07-08T11:46:20.613Z"
   },
   {
    "duration": 207,
    "start_time": "2021-07-08T11:46:21.054Z"
   },
   {
    "duration": 27,
    "start_time": "2021-07-08T11:46:21.262Z"
   },
   {
    "duration": 19,
    "start_time": "2021-07-08T11:46:21.291Z"
   },
   {
    "duration": 820,
    "start_time": "2021-07-08T11:49:01.655Z"
   },
   {
    "duration": 372,
    "start_time": "2021-07-08T11:49:02.478Z"
   },
   {
    "duration": 98,
    "start_time": "2021-07-08T11:49:02.853Z"
   },
   {
    "duration": 6,
    "start_time": "2021-07-08T11:49:02.953Z"
   },
   {
    "duration": 39,
    "start_time": "2021-07-08T11:49:02.960Z"
   },
   {
    "duration": 9,
    "start_time": "2021-07-08T11:49:03.003Z"
   },
   {
    "duration": 23,
    "start_time": "2021-07-08T11:49:03.014Z"
   },
   {
    "duration": 6,
    "start_time": "2021-07-08T11:49:03.041Z"
   },
   {
    "duration": 20,
    "start_time": "2021-07-08T11:49:03.049Z"
   },
   {
    "duration": 18,
    "start_time": "2021-07-08T11:49:03.084Z"
   },
   {
    "duration": 14,
    "start_time": "2021-07-08T11:49:03.104Z"
   },
   {
    "duration": 39,
    "start_time": "2021-07-08T11:49:03.119Z"
   },
   {
    "duration": 38,
    "start_time": "2021-07-08T11:49:03.160Z"
   },
   {
    "duration": 26,
    "start_time": "2021-07-08T11:49:03.200Z"
   },
   {
    "duration": 7,
    "start_time": "2021-07-08T11:49:03.227Z"
   },
   {
    "duration": 4,
    "start_time": "2021-07-08T11:49:03.236Z"
   },
   {
    "duration": 15,
    "start_time": "2021-07-08T11:49:03.243Z"
   },
   {
    "duration": 21,
    "start_time": "2021-07-08T11:49:03.285Z"
   },
   {
    "duration": 17,
    "start_time": "2021-07-08T11:49:03.309Z"
   },
   {
    "duration": 10,
    "start_time": "2021-07-08T11:49:03.328Z"
   },
   {
    "duration": 65,
    "start_time": "2021-07-08T11:49:03.340Z"
   },
   {
    "duration": 18,
    "start_time": "2021-07-08T11:49:03.407Z"
   },
   {
    "duration": 8,
    "start_time": "2021-07-08T11:49:03.428Z"
   },
   {
    "duration": 15,
    "start_time": "2021-07-08T11:49:03.438Z"
   },
   {
    "duration": 40,
    "start_time": "2021-07-08T11:49:03.455Z"
   },
   {
    "duration": 12,
    "start_time": "2021-07-08T11:49:03.497Z"
   },
   {
    "duration": 29,
    "start_time": "2021-07-08T11:49:03.511Z"
   },
   {
    "duration": 285,
    "start_time": "2021-07-08T11:49:03.542Z"
   },
   {
    "duration": 8,
    "start_time": "2021-07-08T11:49:03.829Z"
   },
   {
    "duration": 227,
    "start_time": "2021-07-08T11:49:03.838Z"
   },
   {
    "duration": 40,
    "start_time": "2021-07-08T11:49:04.066Z"
   },
   {
    "duration": 10,
    "start_time": "2021-07-08T11:49:04.108Z"
   },
   {
    "duration": 26,
    "start_time": "2021-07-08T11:49:04.121Z"
   },
   {
    "duration": 290,
    "start_time": "2021-07-08T11:49:04.149Z"
   },
   {
    "duration": 26,
    "start_time": "2021-07-08T11:49:04.441Z"
   },
   {
    "duration": 31,
    "start_time": "2021-07-08T11:49:04.470Z"
   },
   {
    "duration": 14,
    "start_time": "2021-07-08T11:49:04.503Z"
   },
   {
    "duration": 259,
    "start_time": "2021-07-08T11:49:04.521Z"
   },
   {
    "duration": 480,
    "start_time": "2021-07-08T11:49:04.782Z"
   },
   {
    "duration": 225,
    "start_time": "2021-07-08T11:49:05.264Z"
   },
   {
    "duration": 22,
    "start_time": "2021-07-08T11:49:05.491Z"
   },
   {
    "duration": 24,
    "start_time": "2021-07-08T11:49:05.515Z"
   },
   {
    "duration": 634,
    "start_time": "2021-07-08T11:52:24.960Z"
   },
   {
    "duration": 199,
    "start_time": "2021-07-08T11:52:25.599Z"
   },
   {
    "duration": 106,
    "start_time": "2021-07-08T11:52:25.803Z"
   },
   {
    "duration": 7,
    "start_time": "2021-07-08T11:52:25.911Z"
   },
   {
    "duration": 29,
    "start_time": "2021-07-08T11:52:25.920Z"
   },
   {
    "duration": 7,
    "start_time": "2021-07-08T11:52:25.951Z"
   },
   {
    "duration": 26,
    "start_time": "2021-07-08T11:52:25.961Z"
   },
   {
    "duration": 11,
    "start_time": "2021-07-08T11:52:25.990Z"
   },
   {
    "duration": 29,
    "start_time": "2021-07-08T11:52:26.005Z"
   },
   {
    "duration": 9,
    "start_time": "2021-07-08T11:52:26.036Z"
   },
   {
    "duration": 8,
    "start_time": "2021-07-08T11:52:26.047Z"
   },
   {
    "duration": 63,
    "start_time": "2021-07-08T11:52:26.057Z"
   },
   {
    "duration": 17,
    "start_time": "2021-07-08T11:52:26.122Z"
   },
   {
    "duration": 43,
    "start_time": "2021-07-08T11:52:26.142Z"
   },
   {
    "duration": 17,
    "start_time": "2021-07-08T11:52:26.187Z"
   },
   {
    "duration": 5,
    "start_time": "2021-07-08T11:52:26.206Z"
   },
   {
    "duration": 12,
    "start_time": "2021-07-08T11:52:26.212Z"
   },
   {
    "duration": 11,
    "start_time": "2021-07-08T11:52:26.226Z"
   },
   {
    "duration": 12,
    "start_time": "2021-07-08T11:52:26.238Z"
   },
   {
    "duration": 38,
    "start_time": "2021-07-08T11:52:26.252Z"
   },
   {
    "duration": 40,
    "start_time": "2021-07-08T11:52:26.292Z"
   },
   {
    "duration": 17,
    "start_time": "2021-07-08T11:52:26.336Z"
   },
   {
    "duration": 39,
    "start_time": "2021-07-08T11:52:26.355Z"
   },
   {
    "duration": 11,
    "start_time": "2021-07-08T11:52:26.395Z"
   },
   {
    "duration": 23,
    "start_time": "2021-07-08T11:52:26.408Z"
   },
   {
    "duration": 12,
    "start_time": "2021-07-08T11:52:26.432Z"
   },
   {
    "duration": 41,
    "start_time": "2021-07-08T11:52:26.446Z"
   },
   {
    "duration": 215,
    "start_time": "2021-07-08T11:52:26.493Z"
   },
   {
    "duration": 8,
    "start_time": "2021-07-08T11:52:26.710Z"
   },
   {
    "duration": 228,
    "start_time": "2021-07-08T11:52:26.720Z"
   },
   {
    "duration": 18,
    "start_time": "2021-07-08T11:52:26.950Z"
   },
   {
    "duration": 35,
    "start_time": "2021-07-08T11:52:26.969Z"
   },
   {
    "duration": 23,
    "start_time": "2021-07-08T11:52:27.006Z"
   },
   {
    "duration": 258,
    "start_time": "2021-07-08T11:52:27.030Z"
   },
   {
    "duration": 24,
    "start_time": "2021-07-08T11:52:27.290Z"
   },
   {
    "duration": 12,
    "start_time": "2021-07-08T11:52:27.316Z"
   },
   {
    "duration": 10,
    "start_time": "2021-07-08T11:52:27.329Z"
   },
   {
    "duration": 298,
    "start_time": "2021-07-08T11:52:27.341Z"
   },
   {
    "duration": 436,
    "start_time": "2021-07-08T11:52:27.641Z"
   },
   {
    "duration": 216,
    "start_time": "2021-07-08T11:52:28.079Z"
   },
   {
    "duration": 20,
    "start_time": "2021-07-08T11:52:28.297Z"
   },
   {
    "duration": 17,
    "start_time": "2021-07-08T11:52:28.319Z"
   },
   {
    "duration": 1579,
    "start_time": "2023-04-04T05:41:20.581Z"
   },
   {
    "duration": 153,
    "start_time": "2023-04-04T05:41:34.169Z"
   },
   {
    "duration": 140,
    "start_time": "2023-04-04T05:41:53.157Z"
   },
   {
    "duration": 130,
    "start_time": "2023-04-04T05:42:07.253Z"
   },
   {
    "duration": 148,
    "start_time": "2023-04-04T05:42:21.155Z"
   },
   {
    "duration": 152,
    "start_time": "2023-04-04T05:42:29.541Z"
   },
   {
    "duration": 119,
    "start_time": "2023-04-04T05:45:57.047Z"
   },
   {
    "duration": 120,
    "start_time": "2023-04-04T05:46:08.198Z"
   },
   {
    "duration": 148,
    "start_time": "2023-04-04T05:49:34.698Z"
   },
   {
    "duration": 146,
    "start_time": "2023-04-04T05:49:51.183Z"
   },
   {
    "duration": 135,
    "start_time": "2023-04-04T05:49:59.635Z"
   },
   {
    "duration": 1142,
    "start_time": "2023-04-05T03:41:50.163Z"
   },
   {
    "duration": 139,
    "start_time": "2023-04-05T03:43:30.114Z"
   },
   {
    "duration": 201,
    "start_time": "2023-04-05T03:46:35.120Z"
   },
   {
    "duration": 135,
    "start_time": "2023-04-05T03:47:11.417Z"
   },
   {
    "duration": 144,
    "start_time": "2023-04-05T03:48:12.894Z"
   },
   {
    "duration": 131,
    "start_time": "2023-04-05T03:48:25.329Z"
   },
   {
    "duration": 151,
    "start_time": "2023-04-05T03:49:05.022Z"
   },
   {
    "duration": 245,
    "start_time": "2023-04-05T04:11:19.458Z"
   },
   {
    "duration": 215,
    "start_time": "2023-04-05T04:11:51.930Z"
   },
   {
    "duration": 414,
    "start_time": "2023-04-05T04:12:03.001Z"
   },
   {
    "duration": 2,
    "start_time": "2023-04-05T04:13:19.205Z"
   },
   {
    "duration": 154,
    "start_time": "2023-04-05T04:13:28.186Z"
   },
   {
    "duration": 161,
    "start_time": "2023-04-05T04:13:47.716Z"
   },
   {
    "duration": 171,
    "start_time": "2023-04-05T04:13:58.507Z"
   },
   {
    "duration": 150,
    "start_time": "2023-04-05T04:17:23.397Z"
   },
   {
    "duration": 467,
    "start_time": "2023-04-05T04:17:36.195Z"
   },
   {
    "duration": 309,
    "start_time": "2023-04-05T04:18:05.111Z"
   },
   {
    "duration": 11,
    "start_time": "2023-04-05T04:18:43.919Z"
   },
   {
    "duration": 3,
    "start_time": "2023-04-05T04:25:28.285Z"
   },
   {
    "duration": 156,
    "start_time": "2023-04-05T04:26:57.213Z"
   },
   {
    "duration": 160,
    "start_time": "2023-04-05T04:27:19.964Z"
   },
   {
    "duration": 171,
    "start_time": "2023-04-05T04:27:37.408Z"
   },
   {
    "duration": 155,
    "start_time": "2023-04-05T04:27:46.915Z"
   },
   {
    "duration": 163,
    "start_time": "2023-04-05T04:27:52.555Z"
   },
   {
    "duration": 211,
    "start_time": "2023-04-05T04:28:04.157Z"
   },
   {
    "duration": 192,
    "start_time": "2023-04-05T04:28:14.856Z"
   },
   {
    "duration": 168,
    "start_time": "2023-04-05T04:28:25.400Z"
   },
   {
    "duration": 15,
    "start_time": "2023-04-05T04:28:35.295Z"
   },
   {
    "duration": 200,
    "start_time": "2023-04-05T04:28:42.212Z"
   },
   {
    "duration": 5,
    "start_time": "2023-04-05T04:29:54.976Z"
   },
   {
    "duration": 3,
    "start_time": "2023-04-05T05:11:45.509Z"
   },
   {
    "duration": 4,
    "start_time": "2023-04-05T05:12:09.993Z"
   },
   {
    "duration": 4,
    "start_time": "2023-04-05T05:12:21.820Z"
   },
   {
    "duration": 358,
    "start_time": "2023-04-05T05:12:40.436Z"
   },
   {
    "duration": 326,
    "start_time": "2023-04-05T05:13:10.397Z"
   },
   {
    "duration": 217,
    "start_time": "2023-04-05T05:13:23.200Z"
   },
   {
    "duration": 315,
    "start_time": "2023-04-05T05:15:31.627Z"
   },
   {
    "duration": 4,
    "start_time": "2023-04-05T05:16:06.733Z"
   },
   {
    "duration": 4,
    "start_time": "2023-04-05T05:16:15.062Z"
   },
   {
    "duration": 766,
    "start_time": "2023-04-05T05:16:25.054Z"
   },
   {
    "duration": 54,
    "start_time": "2023-04-05T05:19:42.243Z"
   },
   {
    "duration": 59,
    "start_time": "2023-04-05T05:19:48.990Z"
   },
   {
    "duration": 11,
    "start_time": "2023-04-05T05:19:54.219Z"
   },
   {
    "duration": 221,
    "start_time": "2023-04-05T05:21:28.191Z"
   },
   {
    "duration": 271,
    "start_time": "2023-04-05T05:21:59.049Z"
   },
   {
    "duration": 373,
    "start_time": "2023-04-05T05:22:20.897Z"
   },
   {
    "duration": 1131,
    "start_time": "2023-04-05T05:22:45.263Z"
   },
   {
    "duration": 151,
    "start_time": "2023-04-05T05:22:49.868Z"
   },
   {
    "duration": 174,
    "start_time": "2023-04-05T05:22:59.650Z"
   },
   {
    "duration": 278,
    "start_time": "2023-04-05T05:23:21.548Z"
   },
   {
    "duration": 362,
    "start_time": "2023-04-05T05:23:28.468Z"
   },
   {
    "duration": 151,
    "start_time": "2023-04-05T05:25:26.047Z"
   },
   {
    "duration": 271,
    "start_time": "2023-04-05T05:28:23.776Z"
   },
   {
    "duration": 215,
    "start_time": "2023-04-05T05:28:29.113Z"
   },
   {
    "duration": 236,
    "start_time": "2023-04-05T05:28:54.693Z"
   },
   {
    "duration": 6,
    "start_time": "2023-04-05T05:30:37.758Z"
   },
   {
    "duration": 218,
    "start_time": "2023-04-05T05:30:41.318Z"
   },
   {
    "duration": 415,
    "start_time": "2023-04-05T05:31:02.001Z"
   },
   {
    "duration": 281,
    "start_time": "2023-04-05T05:31:09.042Z"
   },
   {
    "duration": 339,
    "start_time": "2023-04-05T05:31:12.142Z"
   },
   {
    "duration": 149,
    "start_time": "2023-04-05T05:31:33.910Z"
   },
   {
    "duration": 147,
    "start_time": "2023-04-05T05:31:37.481Z"
   },
   {
    "duration": 8,
    "start_time": "2023-04-05T05:31:40.156Z"
   },
   {
    "duration": 17,
    "start_time": "2023-04-05T05:33:07.226Z"
   },
   {
    "duration": 134,
    "start_time": "2023-04-05T05:33:22.849Z"
   },
   {
    "duration": 144,
    "start_time": "2023-04-05T05:33:25.107Z"
   },
   {
    "duration": 15,
    "start_time": "2023-04-05T05:33:55.181Z"
   },
   {
    "duration": 13,
    "start_time": "2023-04-05T05:34:11.954Z"
   },
   {
    "duration": 140,
    "start_time": "2023-04-05T05:34:22.065Z"
   },
   {
    "duration": 7,
    "start_time": "2023-04-05T05:34:25.313Z"
   },
   {
    "duration": 19,
    "start_time": "2023-04-05T05:34:27.504Z"
   },
   {
    "duration": 14,
    "start_time": "2023-04-05T05:34:39.512Z"
   },
   {
    "duration": 17,
    "start_time": "2023-04-05T05:35:24.937Z"
   },
   {
    "duration": 15,
    "start_time": "2023-04-05T05:35:29.180Z"
   },
   {
    "duration": 12,
    "start_time": "2023-04-05T05:35:56.271Z"
   },
   {
    "duration": 28,
    "start_time": "2023-04-05T05:36:09.147Z"
   },
   {
    "duration": 25,
    "start_time": "2023-04-05T05:36:32.024Z"
   },
   {
    "duration": 85,
    "start_time": "2023-04-05T05:41:08.033Z"
   },
   {
    "duration": 32,
    "start_time": "2023-04-05T05:43:25.343Z"
   },
   {
    "duration": 70,
    "start_time": "2023-04-05T05:44:07.373Z"
   },
   {
    "duration": 24,
    "start_time": "2023-04-05T05:44:09.412Z"
   },
   {
    "duration": 9,
    "start_time": "2023-04-05T05:49:22.561Z"
   },
   {
    "duration": 35,
    "start_time": "2023-04-05T05:49:29.652Z"
   },
   {
    "duration": 61,
    "start_time": "2023-04-05T05:52:02.892Z"
   },
   {
    "duration": 961,
    "start_time": "2023-04-05T05:52:58.771Z"
   },
   {
    "duration": 1379,
    "start_time": "2023-04-05T16:48:48.327Z"
   },
   {
    "duration": 7,
    "start_time": "2023-04-05T16:48:49.708Z"
   },
   {
    "duration": 38,
    "start_time": "2023-04-05T16:48:49.716Z"
   },
   {
    "duration": 48,
    "start_time": "2023-04-05T16:48:49.759Z"
   },
   {
    "duration": 23,
    "start_time": "2023-04-05T16:48:49.810Z"
   },
   {
    "duration": 728,
    "start_time": "2023-04-05T16:48:49.835Z"
   },
   {
    "duration": 767,
    "start_time": "2023-04-05T16:49:02.322Z"
   },
   {
    "duration": 32,
    "start_time": "2023-04-05T16:49:08.623Z"
   },
   {
    "duration": 29,
    "start_time": "2023-04-05T16:51:14.641Z"
   },
   {
    "duration": 23,
    "start_time": "2023-04-05T16:51:18.487Z"
   },
   {
    "duration": 84,
    "start_time": "2023-04-05T16:54:16.878Z"
   },
   {
    "duration": 34,
    "start_time": "2023-04-05T16:54:55.432Z"
   },
   {
    "duration": 19,
    "start_time": "2023-04-05T16:55:16.906Z"
   },
   {
    "duration": 35,
    "start_time": "2023-04-05T16:55:49.137Z"
   },
   {
    "duration": 27,
    "start_time": "2023-04-05T16:58:33.139Z"
   },
   {
    "duration": 77,
    "start_time": "2023-04-05T16:59:33.856Z"
   },
   {
    "duration": 17,
    "start_time": "2023-04-05T16:59:41.168Z"
   },
   {
    "duration": 25,
    "start_time": "2023-04-05T17:01:28.652Z"
   },
   {
    "duration": 29,
    "start_time": "2023-04-05T17:01:40.125Z"
   },
   {
    "duration": 24,
    "start_time": "2023-04-05T17:03:18.336Z"
   },
   {
    "duration": 25,
    "start_time": "2023-04-05T17:04:11.874Z"
   },
   {
    "duration": 142,
    "start_time": "2023-04-05T17:04:44.975Z"
   },
   {
    "duration": 171,
    "start_time": "2023-04-05T17:04:49.506Z"
   },
   {
    "duration": 27,
    "start_time": "2023-04-05T17:04:53.960Z"
   },
   {
    "duration": 13,
    "start_time": "2023-04-05T17:09:28.400Z"
   },
   {
    "duration": 20,
    "start_time": "2023-04-05T17:09:53.039Z"
   },
   {
    "duration": 23,
    "start_time": "2023-04-05T17:10:02.347Z"
   },
   {
    "duration": 23,
    "start_time": "2023-04-05T17:10:24.056Z"
   },
   {
    "duration": 26,
    "start_time": "2023-04-05T17:10:26.393Z"
   },
   {
    "duration": 196,
    "start_time": "2023-04-05T17:10:32.853Z"
   },
   {
    "duration": 10,
    "start_time": "2023-04-05T17:10:33.051Z"
   },
   {
    "duration": 23,
    "start_time": "2023-04-05T17:10:33.063Z"
   },
   {
    "duration": 24,
    "start_time": "2023-04-05T17:10:33.088Z"
   },
   {
    "duration": 30,
    "start_time": "2023-04-05T17:10:33.115Z"
   },
   {
    "duration": 23,
    "start_time": "2023-04-05T17:10:33.147Z"
   },
   {
    "duration": 164,
    "start_time": "2023-04-05T17:10:43.993Z"
   },
   {
    "duration": 13,
    "start_time": "2023-04-05T17:10:46.656Z"
   },
   {
    "duration": 15,
    "start_time": "2023-04-05T17:10:48.399Z"
   },
   {
    "duration": 25,
    "start_time": "2023-04-05T17:10:51.079Z"
   },
   {
    "duration": 16,
    "start_time": "2023-04-05T17:10:54.064Z"
   },
   {
    "duration": 18,
    "start_time": "2023-04-05T17:10:57.111Z"
   },
   {
    "duration": 16,
    "start_time": "2023-04-05T17:11:23.687Z"
   },
   {
    "duration": 83,
    "start_time": "2023-04-05T17:11:46.521Z"
   },
   {
    "duration": 18,
    "start_time": "2023-04-05T17:25:45.579Z"
   },
   {
    "duration": 33,
    "start_time": "2023-04-05T17:27:16.487Z"
   },
   {
    "duration": 10,
    "start_time": "2023-04-05T17:29:20.719Z"
   },
   {
    "duration": 714,
    "start_time": "2023-04-05T17:30:34.015Z"
   },
   {
    "duration": 71,
    "start_time": "2023-04-05T17:34:14.013Z"
   },
   {
    "duration": 150,
    "start_time": "2023-04-05T17:35:21.688Z"
   },
   {
    "duration": 20,
    "start_time": "2023-04-05T17:35:21.840Z"
   },
   {
    "duration": 29,
    "start_time": "2023-04-05T17:35:21.862Z"
   },
   {
    "duration": 28,
    "start_time": "2023-04-05T17:35:21.893Z"
   },
   {
    "duration": 37,
    "start_time": "2023-04-05T17:35:21.924Z"
   },
   {
    "duration": 27,
    "start_time": "2023-04-05T17:35:21.963Z"
   },
   {
    "duration": 6,
    "start_time": "2023-04-05T17:38:00.214Z"
   },
   {
    "duration": 39,
    "start_time": "2023-04-05T17:38:12.623Z"
   },
   {
    "duration": 45,
    "start_time": "2023-04-05T17:39:12.866Z"
   },
   {
    "duration": 22,
    "start_time": "2023-04-05T17:39:31.775Z"
   },
   {
    "duration": 168,
    "start_time": "2023-04-05T17:39:39.180Z"
   },
   {
    "duration": 11,
    "start_time": "2023-04-05T17:39:39.358Z"
   },
   {
    "duration": 22,
    "start_time": "2023-04-05T17:39:39.371Z"
   },
   {
    "duration": 24,
    "start_time": "2023-04-05T17:39:39.395Z"
   },
   {
    "duration": 44,
    "start_time": "2023-04-05T17:39:39.421Z"
   },
   {
    "duration": 36,
    "start_time": "2023-04-05T17:39:39.467Z"
   },
   {
    "duration": 47,
    "start_time": "2023-04-05T17:39:39.505Z"
   },
   {
    "duration": 14,
    "start_time": "2023-04-05T17:40:24.442Z"
   },
   {
    "duration": 7,
    "start_time": "2023-04-05T17:40:42.699Z"
   },
   {
    "duration": 13,
    "start_time": "2023-04-05T17:41:39.370Z"
   },
   {
    "duration": 13,
    "start_time": "2023-04-05T17:42:43.797Z"
   },
   {
    "duration": 12,
    "start_time": "2023-04-05T17:43:07.084Z"
   },
   {
    "duration": 166,
    "start_time": "2023-04-05T17:43:13.918Z"
   },
   {
    "duration": 8,
    "start_time": "2023-04-05T17:43:14.087Z"
   },
   {
    "duration": 23,
    "start_time": "2023-04-05T17:43:14.097Z"
   },
   {
    "duration": 45,
    "start_time": "2023-04-05T17:43:14.123Z"
   },
   {
    "duration": 38,
    "start_time": "2023-04-05T17:43:14.170Z"
   },
   {
    "duration": 51,
    "start_time": "2023-04-05T17:43:14.210Z"
   },
   {
    "duration": 11,
    "start_time": "2023-04-05T17:43:14.263Z"
   },
   {
    "duration": 9,
    "start_time": "2023-04-05T17:44:53.126Z"
   },
   {
    "duration": 150,
    "start_time": "2023-04-05T17:45:08.709Z"
   },
   {
    "duration": 7,
    "start_time": "2023-04-05T17:45:08.862Z"
   },
   {
    "duration": 20,
    "start_time": "2023-04-05T17:45:08.871Z"
   },
   {
    "duration": 25,
    "start_time": "2023-04-05T17:45:08.893Z"
   },
   {
    "duration": 63,
    "start_time": "2023-04-05T17:45:08.920Z"
   },
   {
    "duration": 25,
    "start_time": "2023-04-05T17:45:08.984Z"
   },
   {
    "duration": 16,
    "start_time": "2023-04-05T17:45:09.011Z"
   },
   {
    "duration": 9,
    "start_time": "2023-04-05T17:51:49.499Z"
   },
   {
    "duration": 135,
    "start_time": "2023-04-05T17:51:55.558Z"
   },
   {
    "duration": 7,
    "start_time": "2023-04-05T17:51:55.695Z"
   },
   {
    "duration": 17,
    "start_time": "2023-04-05T17:51:55.703Z"
   },
   {
    "duration": 33,
    "start_time": "2023-04-05T17:51:55.721Z"
   },
   {
    "duration": 35,
    "start_time": "2023-04-05T17:51:55.756Z"
   },
   {
    "duration": 29,
    "start_time": "2023-04-05T17:51:55.793Z"
   },
   {
    "duration": 27,
    "start_time": "2023-04-05T17:51:55.824Z"
   },
   {
    "duration": 21,
    "start_time": "2023-04-05T17:52:39.037Z"
   },
   {
    "duration": 129,
    "start_time": "2023-04-05T17:54:37.417Z"
   },
   {
    "duration": 9,
    "start_time": "2023-04-05T17:55:07.019Z"
   },
   {
    "duration": 168,
    "start_time": "2023-04-05T17:55:13.618Z"
   },
   {
    "duration": 8,
    "start_time": "2023-04-05T17:55:13.788Z"
   },
   {
    "duration": 20,
    "start_time": "2023-04-05T17:55:13.797Z"
   },
   {
    "duration": 47,
    "start_time": "2023-04-05T17:55:13.819Z"
   },
   {
    "duration": 24,
    "start_time": "2023-04-05T17:55:13.868Z"
   },
   {
    "duration": 24,
    "start_time": "2023-04-05T17:55:13.894Z"
   },
   {
    "duration": 147,
    "start_time": "2023-04-05T17:55:13.920Z"
   },
   {
    "duration": 9,
    "start_time": "2023-04-05T17:55:23.470Z"
   },
   {
    "duration": 141,
    "start_time": "2023-04-05T17:55:26.884Z"
   },
   {
    "duration": 8,
    "start_time": "2023-04-05T17:55:27.027Z"
   },
   {
    "duration": 37,
    "start_time": "2023-04-05T17:55:27.037Z"
   },
   {
    "duration": 25,
    "start_time": "2023-04-05T17:55:27.076Z"
   },
   {
    "duration": 26,
    "start_time": "2023-04-05T17:55:27.103Z"
   },
   {
    "duration": 62,
    "start_time": "2023-04-05T17:55:27.132Z"
   },
   {
    "duration": 158,
    "start_time": "2023-04-05T17:55:27.197Z"
   },
   {
    "duration": 10,
    "start_time": "2023-04-05T17:55:36.514Z"
   },
   {
    "duration": 148,
    "start_time": "2023-04-05T17:55:41.794Z"
   },
   {
    "duration": 13,
    "start_time": "2023-04-05T17:55:41.944Z"
   },
   {
    "duration": 21,
    "start_time": "2023-04-05T17:55:41.959Z"
   },
   {
    "duration": 24,
    "start_time": "2023-04-05T17:55:41.983Z"
   },
   {
    "duration": 50,
    "start_time": "2023-04-05T17:55:42.009Z"
   },
   {
    "duration": 24,
    "start_time": "2023-04-05T17:55:42.061Z"
   },
   {
    "duration": 120,
    "start_time": "2023-04-05T17:55:42.086Z"
   },
   {
    "duration": 10,
    "start_time": "2023-04-05T17:56:02.363Z"
   },
   {
    "duration": 12,
    "start_time": "2023-04-05T17:56:07.404Z"
   },
   {
    "duration": 144,
    "start_time": "2023-04-05T17:56:12.653Z"
   },
   {
    "duration": 7,
    "start_time": "2023-04-05T17:56:12.799Z"
   },
   {
    "duration": 21,
    "start_time": "2023-04-05T17:56:12.808Z"
   },
   {
    "duration": 30,
    "start_time": "2023-04-05T17:56:12.831Z"
   },
   {
    "duration": 24,
    "start_time": "2023-04-05T17:56:12.864Z"
   },
   {
    "duration": 23,
    "start_time": "2023-04-05T17:56:12.890Z"
   },
   {
    "duration": 142,
    "start_time": "2023-04-05T17:56:12.915Z"
   },
   {
    "duration": 12,
    "start_time": "2023-04-05T17:56:19.189Z"
   },
   {
    "duration": 24,
    "start_time": "2023-04-05T17:56:35.718Z"
   },
   {
    "duration": 28,
    "start_time": "2023-04-05T17:57:04.540Z"
   },
   {
    "duration": 892,
    "start_time": "2023-04-05T17:57:38.777Z"
   },
   {
    "duration": 619,
    "start_time": "2023-04-05T17:57:51.856Z"
   },
   {
    "duration": 140,
    "start_time": "2023-04-05T17:57:56.366Z"
   },
   {
    "duration": 6,
    "start_time": "2023-04-05T17:57:56.508Z"
   },
   {
    "duration": 21,
    "start_time": "2023-04-05T17:57:56.516Z"
   },
   {
    "duration": 43,
    "start_time": "2023-04-05T17:57:56.539Z"
   },
   {
    "duration": 27,
    "start_time": "2023-04-05T17:57:56.584Z"
   },
   {
    "duration": 38,
    "start_time": "2023-04-05T17:57:56.612Z"
   },
   {
    "duration": 130,
    "start_time": "2023-04-05T17:57:56.654Z"
   },
   {
    "duration": 17,
    "start_time": "2023-04-05T17:57:56.785Z"
   },
   {
    "duration": 15,
    "start_time": "2023-04-05T17:59:12.201Z"
   },
   {
    "duration": 155,
    "start_time": "2023-04-05T17:59:18.102Z"
   },
   {
    "duration": 8,
    "start_time": "2023-04-05T17:59:18.259Z"
   },
   {
    "duration": 37,
    "start_time": "2023-04-05T17:59:18.269Z"
   },
   {
    "duration": 38,
    "start_time": "2023-04-05T17:59:18.309Z"
   },
   {
    "duration": 29,
    "start_time": "2023-04-05T17:59:18.349Z"
   },
   {
    "duration": 27,
    "start_time": "2023-04-05T17:59:18.380Z"
   },
   {
    "duration": 72,
    "start_time": "2023-04-05T17:59:18.409Z"
   },
   {
    "duration": 27,
    "start_time": "2023-04-05T17:59:18.483Z"
   },
   {
    "duration": 7,
    "start_time": "2023-04-05T17:59:33.322Z"
   },
   {
    "duration": 16,
    "start_time": "2023-04-05T17:59:41.540Z"
   },
   {
    "duration": 10,
    "start_time": "2023-04-05T18:01:50.986Z"
   },
   {
    "duration": 167,
    "start_time": "2023-04-05T18:01:54.223Z"
   },
   {
    "duration": 7,
    "start_time": "2023-04-05T18:01:54.393Z"
   },
   {
    "duration": 25,
    "start_time": "2023-04-05T18:01:54.403Z"
   },
   {
    "duration": 31,
    "start_time": "2023-04-05T18:01:54.431Z"
   },
   {
    "duration": 26,
    "start_time": "2023-04-05T18:01:54.464Z"
   },
   {
    "duration": 27,
    "start_time": "2023-04-05T18:01:54.590Z"
   },
   {
    "duration": 42,
    "start_time": "2023-04-05T18:01:54.619Z"
   },
   {
    "duration": 10,
    "start_time": "2023-04-05T18:01:54.664Z"
   },
   {
    "duration": 1033,
    "start_time": "2023-04-06T04:05:33.726Z"
   },
   {
    "duration": 8,
    "start_time": "2023-04-06T04:05:34.761Z"
   },
   {
    "duration": 62,
    "start_time": "2023-04-06T04:05:34.771Z"
   },
   {
    "duration": 60,
    "start_time": "2023-04-06T04:05:34.834Z"
   },
   {
    "duration": 89,
    "start_time": "2023-04-06T04:05:34.896Z"
   },
   {
    "duration": 27,
    "start_time": "2023-04-06T04:05:34.987Z"
   },
   {
    "duration": 68,
    "start_time": "2023-04-06T04:05:35.015Z"
   },
   {
    "duration": 7,
    "start_time": "2023-04-06T04:05:35.085Z"
   },
   {
    "duration": 73,
    "start_time": "2023-04-06T04:09:03.616Z"
   },
   {
    "duration": 136,
    "start_time": "2023-04-06T04:09:13.840Z"
   },
   {
    "duration": 6,
    "start_time": "2023-04-06T04:09:13.978Z"
   },
   {
    "duration": 21,
    "start_time": "2023-04-06T04:09:13.985Z"
   },
   {
    "duration": 22,
    "start_time": "2023-04-06T04:09:14.008Z"
   },
   {
    "duration": 25,
    "start_time": "2023-04-06T04:09:14.032Z"
   },
   {
    "duration": 37,
    "start_time": "2023-04-06T04:09:14.059Z"
   },
   {
    "duration": 19,
    "start_time": "2023-04-06T04:09:14.098Z"
   },
   {
    "duration": 5,
    "start_time": "2023-04-06T04:09:14.119Z"
   },
   {
    "duration": 12,
    "start_time": "2023-04-06T04:09:14.126Z"
   },
   {
    "duration": 10,
    "start_time": "2023-04-06T04:10:04.728Z"
   },
   {
    "duration": 144,
    "start_time": "2023-04-06T04:10:11.540Z"
   },
   {
    "duration": 7,
    "start_time": "2023-04-06T04:10:11.687Z"
   },
   {
    "duration": 47,
    "start_time": "2023-04-06T04:10:11.696Z"
   },
   {
    "duration": 56,
    "start_time": "2023-04-06T04:10:11.745Z"
   },
   {
    "duration": 27,
    "start_time": "2023-04-06T04:10:11.804Z"
   },
   {
    "duration": 32,
    "start_time": "2023-04-06T04:10:11.834Z"
   },
   {
    "duration": 37,
    "start_time": "2023-04-06T04:10:11.867Z"
   },
   {
    "duration": 24,
    "start_time": "2023-04-06T04:10:11.906Z"
   },
   {
    "duration": 41,
    "start_time": "2023-04-06T04:10:11.931Z"
   },
   {
    "duration": 6,
    "start_time": "2023-04-06T04:10:18.376Z"
   },
   {
    "duration": 134,
    "start_time": "2023-04-06T04:11:26.274Z"
   },
   {
    "duration": 6,
    "start_time": "2023-04-06T04:11:26.410Z"
   },
   {
    "duration": 39,
    "start_time": "2023-04-06T04:11:26.417Z"
   },
   {
    "duration": 41,
    "start_time": "2023-04-06T04:11:26.458Z"
   },
   {
    "duration": 24,
    "start_time": "2023-04-06T04:11:26.500Z"
   },
   {
    "duration": 34,
    "start_time": "2023-04-06T04:11:26.526Z"
   },
   {
    "duration": 37,
    "start_time": "2023-04-06T04:11:26.562Z"
   },
   {
    "duration": 44,
    "start_time": "2023-04-06T04:11:26.601Z"
   },
   {
    "duration": 15,
    "start_time": "2023-04-06T04:11:59.686Z"
   },
   {
    "duration": 33,
    "start_time": "2023-04-06T04:17:38.512Z"
   },
   {
    "duration": 29,
    "start_time": "2023-04-06T04:25:51.306Z"
   },
   {
    "duration": 28,
    "start_time": "2023-04-06T04:26:13.531Z"
   },
   {
    "duration": 144,
    "start_time": "2023-04-06T04:29:51.453Z"
   },
   {
    "duration": 7,
    "start_time": "2023-04-06T04:29:51.599Z"
   },
   {
    "duration": 30,
    "start_time": "2023-04-06T04:29:51.608Z"
   },
   {
    "duration": 27,
    "start_time": "2023-04-06T04:29:51.640Z"
   },
   {
    "duration": 26,
    "start_time": "2023-04-06T04:29:51.669Z"
   },
   {
    "duration": 39,
    "start_time": "2023-04-06T04:29:51.697Z"
   },
   {
    "duration": 22,
    "start_time": "2023-04-06T04:29:51.738Z"
   },
   {
    "duration": 34,
    "start_time": "2023-04-06T04:29:51.762Z"
   },
   {
    "duration": 5,
    "start_time": "2023-04-06T04:29:51.798Z"
   },
   {
    "duration": 50,
    "start_time": "2023-04-06T04:29:51.805Z"
   },
   {
    "duration": 45,
    "start_time": "2023-04-06T04:29:51.857Z"
   },
   {
    "duration": 26,
    "start_time": "2023-04-06T04:30:06.647Z"
   },
   {
    "duration": 26,
    "start_time": "2023-04-06T04:30:49.421Z"
   },
   {
    "duration": 14,
    "start_time": "2023-04-06T04:31:09.124Z"
   },
   {
    "duration": 9,
    "start_time": "2023-04-06T04:31:54.893Z"
   },
   {
    "duration": 14,
    "start_time": "2023-04-06T04:32:08.098Z"
   },
   {
    "duration": 5,
    "start_time": "2023-04-06T04:36:29.609Z"
   },
   {
    "duration": 17,
    "start_time": "2023-04-06T04:36:31.701Z"
   },
   {
    "duration": 146,
    "start_time": "2023-04-06T04:36:40.201Z"
   },
   {
    "duration": 6,
    "start_time": "2023-04-06T04:36:40.349Z"
   },
   {
    "duration": 16,
    "start_time": "2023-04-06T04:36:40.357Z"
   },
   {
    "duration": 27,
    "start_time": "2023-04-06T04:36:40.375Z"
   },
   {
    "duration": 16,
    "start_time": "2023-04-06T04:36:40.404Z"
   },
   {
    "duration": 27,
    "start_time": "2023-04-06T04:36:40.422Z"
   },
   {
    "duration": 49,
    "start_time": "2023-04-06T04:36:40.451Z"
   },
   {
    "duration": 32,
    "start_time": "2023-04-06T04:36:40.502Z"
   },
   {
    "duration": 6,
    "start_time": "2023-04-06T04:36:40.536Z"
   },
   {
    "duration": 56,
    "start_time": "2023-04-06T04:36:40.544Z"
   },
   {
    "duration": 6,
    "start_time": "2023-04-06T04:36:40.604Z"
   },
   {
    "duration": 24,
    "start_time": "2023-04-06T04:36:40.612Z"
   },
   {
    "duration": 37,
    "start_time": "2023-04-06T04:37:01.583Z"
   },
   {
    "duration": 15,
    "start_time": "2023-04-06T04:37:05.193Z"
   },
   {
    "duration": 12,
    "start_time": "2023-04-06T04:39:25.512Z"
   },
   {
    "duration": 11,
    "start_time": "2023-04-06T04:39:30.031Z"
   },
   {
    "duration": 11,
    "start_time": "2023-04-06T04:39:39.790Z"
   },
   {
    "duration": 10,
    "start_time": "2023-04-06T04:39:43.240Z"
   },
   {
    "duration": 11,
    "start_time": "2023-04-06T04:39:58.847Z"
   },
   {
    "duration": 4,
    "start_time": "2023-04-06T04:40:26.716Z"
   },
   {
    "duration": 27,
    "start_time": "2023-04-06T04:40:32.205Z"
   },
   {
    "duration": 6,
    "start_time": "2023-04-06T04:40:57.311Z"
   },
   {
    "duration": 5,
    "start_time": "2023-04-06T04:41:13.596Z"
   },
   {
    "duration": 11,
    "start_time": "2023-04-06T04:41:39.741Z"
   },
   {
    "duration": 8,
    "start_time": "2023-04-06T04:41:44.174Z"
   },
   {
    "duration": 11,
    "start_time": "2023-04-06T04:41:50.568Z"
   },
   {
    "duration": 10,
    "start_time": "2023-04-06T04:43:01.825Z"
   },
   {
    "duration": 8,
    "start_time": "2023-04-06T04:49:18.185Z"
   },
   {
    "duration": 14,
    "start_time": "2023-04-06T04:49:19.919Z"
   },
   {
    "duration": 9,
    "start_time": "2023-04-06T04:49:45.228Z"
   },
   {
    "duration": 16,
    "start_time": "2023-04-06T04:49:46.587Z"
   },
   {
    "duration": 40,
    "start_time": "2023-04-06T04:50:00.492Z"
   },
   {
    "duration": 5,
    "start_time": "2023-04-06T05:02:20.240Z"
   },
   {
    "duration": 14,
    "start_time": "2023-04-06T05:03:21.690Z"
   },
   {
    "duration": 16,
    "start_time": "2023-04-06T05:03:37.672Z"
   },
   {
    "duration": 9,
    "start_time": "2023-04-06T05:04:01.160Z"
   },
   {
    "duration": 126,
    "start_time": "2023-04-06T05:04:10.864Z"
   },
   {
    "duration": 6,
    "start_time": "2023-04-06T05:04:10.991Z"
   },
   {
    "duration": 71,
    "start_time": "2023-04-06T05:04:10.998Z"
   },
   {
    "duration": 26,
    "start_time": "2023-04-06T05:04:11.071Z"
   },
   {
    "duration": 15,
    "start_time": "2023-04-06T05:04:11.098Z"
   },
   {
    "duration": 63,
    "start_time": "2023-04-06T05:04:11.115Z"
   },
   {
    "duration": 37,
    "start_time": "2023-04-06T05:04:11.180Z"
   },
   {
    "duration": 27,
    "start_time": "2023-04-06T05:04:11.218Z"
   },
   {
    "duration": 11,
    "start_time": "2023-04-06T05:04:11.246Z"
   },
   {
    "duration": 21,
    "start_time": "2023-04-06T05:04:11.259Z"
   },
   {
    "duration": 8,
    "start_time": "2023-04-06T05:04:11.282Z"
   },
   {
    "duration": 32,
    "start_time": "2023-04-06T05:04:11.292Z"
   },
   {
    "duration": 7,
    "start_time": "2023-04-06T05:04:11.325Z"
   },
   {
    "duration": 904,
    "start_time": "2023-04-06T05:27:46.983Z"
   },
   {
    "duration": 0,
    "start_time": "2023-04-06T05:27:57.743Z"
   },
   {
    "duration": 2553,
    "start_time": "2023-04-06T05:31:10.363Z"
   },
   {
    "duration": 143,
    "start_time": "2023-04-06T05:31:20.040Z"
   },
   {
    "duration": 7,
    "start_time": "2023-04-06T05:31:20.184Z"
   },
   {
    "duration": 24,
    "start_time": "2023-04-06T05:31:20.192Z"
   },
   {
    "duration": 25,
    "start_time": "2023-04-06T05:31:20.218Z"
   },
   {
    "duration": 15,
    "start_time": "2023-04-06T05:31:20.245Z"
   },
   {
    "duration": 38,
    "start_time": "2023-04-06T05:31:20.261Z"
   },
   {
    "duration": 23,
    "start_time": "2023-04-06T05:31:20.301Z"
   },
   {
    "duration": 28,
    "start_time": "2023-04-06T05:31:20.326Z"
   },
   {
    "duration": 28,
    "start_time": "2023-04-06T05:31:20.356Z"
   },
   {
    "duration": 24,
    "start_time": "2023-04-06T05:31:20.387Z"
   },
   {
    "duration": 8,
    "start_time": "2023-04-06T05:31:20.413Z"
   },
   {
    "duration": 28,
    "start_time": "2023-04-06T05:31:20.423Z"
   },
   {
    "duration": 32,
    "start_time": "2023-04-06T05:31:20.452Z"
   },
   {
    "duration": 2111,
    "start_time": "2023-04-06T05:31:20.486Z"
   },
   {
    "duration": 1115,
    "start_time": "2023-04-06T05:33:17.057Z"
   },
   {
    "duration": 2786,
    "start_time": "2023-04-06T05:33:22.653Z"
   },
   {
    "duration": 1329,
    "start_time": "2023-04-06T05:33:59.323Z"
   },
   {
    "duration": 6,
    "start_time": "2023-04-06T05:39:47.629Z"
   },
   {
    "duration": 21,
    "start_time": "2023-04-06T05:42:04.189Z"
   },
   {
    "duration": 8,
    "start_time": "2023-04-06T05:44:45.680Z"
   },
   {
    "duration": 25,
    "start_time": "2023-04-06T05:44:55.412Z"
   },
   {
    "duration": 8,
    "start_time": "2023-04-06T05:48:31.345Z"
   },
   {
    "duration": 12,
    "start_time": "2023-04-06T05:48:41.456Z"
   },
   {
    "duration": 6,
    "start_time": "2023-04-06T05:49:57.729Z"
   },
   {
    "duration": 5,
    "start_time": "2023-04-06T05:50:12.141Z"
   },
   {
    "duration": 8,
    "start_time": "2023-04-06T05:50:16.352Z"
   },
   {
    "duration": 12,
    "start_time": "2023-04-06T05:50:24.940Z"
   },
   {
    "duration": 9,
    "start_time": "2023-04-06T05:54:47.381Z"
   },
   {
    "duration": 1197,
    "start_time": "2023-04-07T03:33:40.752Z"
   },
   {
    "duration": 6,
    "start_time": "2023-04-07T03:33:41.951Z"
   },
   {
    "duration": 20,
    "start_time": "2023-04-07T03:33:41.958Z"
   },
   {
    "duration": 24,
    "start_time": "2023-04-07T03:33:41.979Z"
   },
   {
    "duration": 20,
    "start_time": "2023-04-07T03:33:42.006Z"
   },
   {
    "duration": 70,
    "start_time": "2023-04-07T03:33:42.027Z"
   },
   {
    "duration": 25,
    "start_time": "2023-04-07T03:33:42.099Z"
   },
   {
    "duration": 33,
    "start_time": "2023-04-07T03:33:42.126Z"
   },
   {
    "duration": 31,
    "start_time": "2023-04-07T03:33:42.161Z"
   },
   {
    "duration": 24,
    "start_time": "2023-04-07T03:33:42.194Z"
   },
   {
    "duration": 8,
    "start_time": "2023-04-07T03:33:42.219Z"
   },
   {
    "duration": 24,
    "start_time": "2023-04-07T03:33:42.229Z"
   },
   {
    "duration": 40,
    "start_time": "2023-04-07T03:33:42.254Z"
   },
   {
    "duration": 23,
    "start_time": "2023-04-07T03:33:42.296Z"
   },
   {
    "duration": 25,
    "start_time": "2023-04-07T03:33:42.321Z"
   },
   {
    "duration": 10,
    "start_time": "2023-04-07T03:33:42.347Z"
   },
   {
    "duration": 80,
    "start_time": "2023-04-07T03:42:14.347Z"
   },
   {
    "duration": 5,
    "start_time": "2023-04-07T03:42:22.950Z"
   },
   {
    "duration": 10,
    "start_time": "2023-04-07T03:42:29.822Z"
   },
   {
    "duration": 14,
    "start_time": "2023-04-07T03:43:09.346Z"
   },
   {
    "duration": 19,
    "start_time": "2023-04-07T03:43:38.345Z"
   },
   {
    "duration": 14,
    "start_time": "2023-04-07T03:44:28.105Z"
   },
   {
    "duration": 13,
    "start_time": "2023-04-07T03:45:38.398Z"
   },
   {
    "duration": 22,
    "start_time": "2023-04-07T03:47:50.416Z"
   },
   {
    "duration": 21,
    "start_time": "2023-04-07T03:48:05.122Z"
   },
   {
    "duration": 23,
    "start_time": "2023-04-07T03:48:31.194Z"
   },
   {
    "duration": 25,
    "start_time": "2023-04-07T03:48:42.509Z"
   },
   {
    "duration": 25,
    "start_time": "2023-04-07T03:52:14.023Z"
   },
   {
    "duration": 20,
    "start_time": "2023-04-07T03:52:42.895Z"
   },
   {
    "duration": 141,
    "start_time": "2023-04-07T03:52:59.287Z"
   },
   {
    "duration": 7,
    "start_time": "2023-04-07T03:52:59.430Z"
   },
   {
    "duration": 17,
    "start_time": "2023-04-07T03:52:59.438Z"
   },
   {
    "duration": 23,
    "start_time": "2023-04-07T03:52:59.457Z"
   },
   {
    "duration": 16,
    "start_time": "2023-04-07T03:52:59.483Z"
   },
   {
    "duration": 27,
    "start_time": "2023-04-07T03:52:59.501Z"
   },
   {
    "duration": 31,
    "start_time": "2023-04-07T03:52:59.530Z"
   },
   {
    "duration": 58,
    "start_time": "2023-04-07T03:52:59.563Z"
   },
   {
    "duration": 7,
    "start_time": "2023-04-07T03:52:59.623Z"
   },
   {
    "duration": 30,
    "start_time": "2023-04-07T03:52:59.632Z"
   },
   {
    "duration": 30,
    "start_time": "2023-04-07T03:52:59.664Z"
   },
   {
    "duration": 26,
    "start_time": "2023-04-07T03:52:59.697Z"
   },
   {
    "duration": 10,
    "start_time": "2023-04-07T03:52:59.724Z"
   },
   {
    "duration": 51,
    "start_time": "2023-04-07T03:52:59.737Z"
   },
   {
    "duration": 25,
    "start_time": "2023-04-07T03:52:59.790Z"
   },
   {
    "duration": 8,
    "start_time": "2023-04-07T03:52:59.816Z"
   },
   {
    "duration": 13,
    "start_time": "2023-04-07T03:52:59.825Z"
   },
   {
    "duration": 15,
    "start_time": "2023-04-07T03:52:59.840Z"
   },
   {
    "duration": 50,
    "start_time": "2023-04-07T03:52:59.856Z"
   },
   {
    "duration": 22,
    "start_time": "2023-04-07T03:52:59.908Z"
   },
   {
    "duration": 19,
    "start_time": "2023-04-07T03:52:59.932Z"
   },
   {
    "duration": 142,
    "start_time": "2023-04-07T03:56:02.809Z"
   },
   {
    "duration": 155,
    "start_time": "2023-04-07T03:56:09.657Z"
   },
   {
    "duration": 8,
    "start_time": "2023-04-07T03:56:09.815Z"
   },
   {
    "duration": 32,
    "start_time": "2023-04-07T03:56:09.825Z"
   },
   {
    "duration": 31,
    "start_time": "2023-04-07T03:56:09.860Z"
   },
   {
    "duration": 17,
    "start_time": "2023-04-07T03:56:09.893Z"
   },
   {
    "duration": 27,
    "start_time": "2023-04-07T03:56:09.911Z"
   },
   {
    "duration": 48,
    "start_time": "2023-04-07T03:56:09.939Z"
   },
   {
    "duration": 30,
    "start_time": "2023-04-07T03:56:09.989Z"
   },
   {
    "duration": 8,
    "start_time": "2023-04-07T03:56:10.021Z"
   },
   {
    "duration": 25,
    "start_time": "2023-04-07T03:56:10.031Z"
   },
   {
    "duration": 35,
    "start_time": "2023-04-07T03:56:10.058Z"
   },
   {
    "duration": 37,
    "start_time": "2023-04-07T03:56:10.095Z"
   },
   {
    "duration": 7,
    "start_time": "2023-04-07T03:56:10.134Z"
   },
   {
    "duration": 25,
    "start_time": "2023-04-07T03:56:10.143Z"
   },
   {
    "duration": 37,
    "start_time": "2023-04-07T03:56:10.170Z"
   },
   {
    "duration": 8,
    "start_time": "2023-04-07T03:56:10.209Z"
   },
   {
    "duration": 13,
    "start_time": "2023-04-07T03:56:10.218Z"
   },
   {
    "duration": 13,
    "start_time": "2023-04-07T03:56:10.233Z"
   },
   {
    "duration": 49,
    "start_time": "2023-04-07T03:56:10.247Z"
   },
   {
    "duration": 24,
    "start_time": "2023-04-07T03:56:10.297Z"
   },
   {
    "duration": 20,
    "start_time": "2023-04-07T03:56:10.323Z"
   },
   {
    "duration": 13,
    "start_time": "2023-04-07T03:56:35.408Z"
   },
   {
    "duration": 14,
    "start_time": "2023-04-07T03:56:54.123Z"
   },
   {
    "duration": 16,
    "start_time": "2023-04-07T03:58:44.227Z"
   },
   {
    "duration": 20,
    "start_time": "2023-04-07T03:59:04.177Z"
   },
   {
    "duration": 14,
    "start_time": "2023-04-07T04:03:41.244Z"
   },
   {
    "duration": 14,
    "start_time": "2023-04-07T04:03:48.559Z"
   },
   {
    "duration": 12,
    "start_time": "2023-04-07T04:07:36.700Z"
   },
   {
    "duration": 14,
    "start_time": "2023-04-07T04:07:39.993Z"
   },
   {
    "duration": 32,
    "start_time": "2023-04-07T04:08:05.609Z"
   },
   {
    "duration": 15,
    "start_time": "2023-04-07T04:08:21.024Z"
   },
   {
    "duration": 22,
    "start_time": "2023-04-07T04:08:27.618Z"
   },
   {
    "duration": 27,
    "start_time": "2023-04-07T04:09:00.909Z"
   },
   {
    "duration": 15,
    "start_time": "2023-04-07T04:18:04.189Z"
   },
   {
    "duration": 147,
    "start_time": "2023-04-07T04:18:38.113Z"
   },
   {
    "duration": 7,
    "start_time": "2023-04-07T04:18:38.263Z"
   },
   {
    "duration": 41,
    "start_time": "2023-04-07T04:18:38.273Z"
   },
   {
    "duration": 26,
    "start_time": "2023-04-07T04:18:38.316Z"
   },
   {
    "duration": 17,
    "start_time": "2023-04-07T04:18:38.344Z"
   },
   {
    "duration": 44,
    "start_time": "2023-04-07T04:18:38.363Z"
   },
   {
    "duration": 29,
    "start_time": "2023-04-07T04:18:38.409Z"
   },
   {
    "duration": 48,
    "start_time": "2023-04-07T04:18:38.440Z"
   },
   {
    "duration": 8,
    "start_time": "2023-04-07T04:18:38.490Z"
   },
   {
    "duration": 33,
    "start_time": "2023-04-07T04:18:38.499Z"
   },
   {
    "duration": 10,
    "start_time": "2023-04-07T04:18:38.533Z"
   },
   {
    "duration": 48,
    "start_time": "2023-04-07T04:18:38.544Z"
   },
   {
    "duration": 8,
    "start_time": "2023-04-07T04:18:38.593Z"
   },
   {
    "duration": 26,
    "start_time": "2023-04-07T04:18:38.604Z"
   },
   {
    "duration": 26,
    "start_time": "2023-04-07T04:18:38.631Z"
   },
   {
    "duration": 8,
    "start_time": "2023-04-07T04:18:38.688Z"
   },
   {
    "duration": 19,
    "start_time": "2023-04-07T04:18:38.698Z"
   },
   {
    "duration": 15,
    "start_time": "2023-04-07T04:18:38.719Z"
   },
   {
    "duration": 52,
    "start_time": "2023-04-07T04:18:38.736Z"
   },
   {
    "duration": 32,
    "start_time": "2023-04-07T04:18:38.790Z"
   },
   {
    "duration": 24,
    "start_time": "2023-04-07T04:18:38.824Z"
   },
   {
    "duration": 50,
    "start_time": "2023-04-07T04:18:38.850Z"
   },
   {
    "duration": 25,
    "start_time": "2023-04-07T04:21:12.502Z"
   },
   {
    "duration": 17,
    "start_time": "2023-04-07T04:22:24.066Z"
   },
   {
    "duration": 15,
    "start_time": "2023-04-07T04:23:12.644Z"
   },
   {
    "duration": 18,
    "start_time": "2023-04-07T04:23:59.996Z"
   },
   {
    "duration": 19,
    "start_time": "2023-04-07T04:28:25.228Z"
   },
   {
    "duration": 21,
    "start_time": "2023-04-07T04:28:37.842Z"
   },
   {
    "duration": 18,
    "start_time": "2023-04-07T04:28:51.535Z"
   },
   {
    "duration": 9,
    "start_time": "2023-04-07T04:29:03.704Z"
   },
   {
    "duration": 15,
    "start_time": "2023-04-07T04:29:07.631Z"
   },
   {
    "duration": 11,
    "start_time": "2023-04-07T04:29:51.624Z"
   },
   {
    "duration": 13,
    "start_time": "2023-04-07T04:29:54.053Z"
   },
   {
    "duration": 19,
    "start_time": "2023-04-07T04:30:06.538Z"
   },
   {
    "duration": 14,
    "start_time": "2023-04-07T04:30:08.541Z"
   },
   {
    "duration": 15,
    "start_time": "2023-04-07T04:30:40.062Z"
   },
   {
    "duration": 14,
    "start_time": "2023-04-07T04:30:43.762Z"
   },
   {
    "duration": 140,
    "start_time": "2023-04-07T04:31:06.314Z"
   },
   {
    "duration": 6,
    "start_time": "2023-04-07T04:31:06.457Z"
   },
   {
    "duration": 39,
    "start_time": "2023-04-07T04:31:06.465Z"
   },
   {
    "duration": 27,
    "start_time": "2023-04-07T04:31:06.506Z"
   },
   {
    "duration": 16,
    "start_time": "2023-04-07T04:31:06.536Z"
   },
   {
    "duration": 47,
    "start_time": "2023-04-07T04:31:06.554Z"
   },
   {
    "duration": 27,
    "start_time": "2023-04-07T04:31:06.603Z"
   },
   {
    "duration": 30,
    "start_time": "2023-04-07T04:31:06.632Z"
   },
   {
    "duration": 28,
    "start_time": "2023-04-07T04:31:06.664Z"
   },
   {
    "duration": 23,
    "start_time": "2023-04-07T04:31:06.694Z"
   },
   {
    "duration": 8,
    "start_time": "2023-04-07T04:31:06.718Z"
   },
   {
    "duration": 22,
    "start_time": "2023-04-07T04:31:06.727Z"
   },
   {
    "duration": 38,
    "start_time": "2023-04-07T04:31:06.750Z"
   },
   {
    "duration": 31,
    "start_time": "2023-04-07T04:31:06.791Z"
   },
   {
    "duration": 25,
    "start_time": "2023-04-07T04:31:06.823Z"
   },
   {
    "duration": 7,
    "start_time": "2023-04-07T04:31:06.850Z"
   },
   {
    "duration": 36,
    "start_time": "2023-04-07T04:31:06.859Z"
   },
   {
    "duration": 15,
    "start_time": "2023-04-07T04:31:06.896Z"
   },
   {
    "duration": 25,
    "start_time": "2023-04-07T04:31:06.912Z"
   },
   {
    "duration": 48,
    "start_time": "2023-04-07T04:31:06.939Z"
   },
   {
    "duration": 21,
    "start_time": "2023-04-07T04:31:06.989Z"
   },
   {
    "duration": 14,
    "start_time": "2023-04-07T04:31:07.011Z"
   },
   {
    "duration": 15,
    "start_time": "2023-04-07T04:31:07.026Z"
   },
   {
    "duration": 15,
    "start_time": "2023-04-07T04:31:20.332Z"
   },
   {
    "duration": 18,
    "start_time": "2023-04-07T04:31:23.768Z"
   },
   {
    "duration": 12,
    "start_time": "2023-04-07T04:31:40.635Z"
   },
   {
    "duration": 16,
    "start_time": "2023-04-07T04:31:43.025Z"
   },
   {
    "duration": 14,
    "start_time": "2023-04-07T04:31:45.245Z"
   },
   {
    "duration": 11,
    "start_time": "2023-04-07T04:32:05.224Z"
   },
   {
    "duration": 12,
    "start_time": "2023-04-07T04:32:10.076Z"
   },
   {
    "duration": 15,
    "start_time": "2023-04-07T04:32:11.739Z"
   },
   {
    "duration": 142,
    "start_time": "2023-04-07T04:32:16.516Z"
   },
   {
    "duration": 6,
    "start_time": "2023-04-07T04:32:16.660Z"
   },
   {
    "duration": 15,
    "start_time": "2023-04-07T04:32:16.668Z"
   },
   {
    "duration": 22,
    "start_time": "2023-04-07T04:32:16.685Z"
   },
   {
    "duration": 16,
    "start_time": "2023-04-07T04:32:16.709Z"
   },
   {
    "duration": 46,
    "start_time": "2023-04-07T04:32:16.726Z"
   },
   {
    "duration": 30,
    "start_time": "2023-04-07T04:32:16.774Z"
   },
   {
    "duration": 30,
    "start_time": "2023-04-07T04:32:16.805Z"
   },
   {
    "duration": 5,
    "start_time": "2023-04-07T04:32:16.837Z"
   },
   {
    "duration": 46,
    "start_time": "2023-04-07T04:32:16.844Z"
   },
   {
    "duration": 9,
    "start_time": "2023-04-07T04:32:16.892Z"
   },
   {
    "duration": 27,
    "start_time": "2023-04-07T04:32:16.902Z"
   },
   {
    "duration": 7,
    "start_time": "2023-04-07T04:32:16.931Z"
   },
   {
    "duration": 52,
    "start_time": "2023-04-07T04:32:16.941Z"
   },
   {
    "duration": 23,
    "start_time": "2023-04-07T04:32:16.995Z"
   },
   {
    "duration": 8,
    "start_time": "2023-04-07T04:32:17.020Z"
   },
   {
    "duration": 15,
    "start_time": "2023-04-07T04:32:17.029Z"
   },
   {
    "duration": 31,
    "start_time": "2023-04-07T04:32:17.046Z"
   },
   {
    "duration": 24,
    "start_time": "2023-04-07T04:32:17.087Z"
   },
   {
    "duration": 25,
    "start_time": "2023-04-07T04:32:17.113Z"
   },
   {
    "duration": 20,
    "start_time": "2023-04-07T04:32:17.140Z"
   },
   {
    "duration": 12,
    "start_time": "2023-04-07T04:32:17.187Z"
   },
   {
    "duration": 32,
    "start_time": "2023-04-07T04:32:17.201Z"
   },
   {
    "duration": 7,
    "start_time": "2023-04-07T04:33:08.063Z"
   },
   {
    "duration": 14,
    "start_time": "2023-04-07T04:33:09.951Z"
   },
   {
    "duration": 145,
    "start_time": "2023-04-07T04:33:15.327Z"
   },
   {
    "duration": 7,
    "start_time": "2023-04-07T04:33:15.474Z"
   },
   {
    "duration": 17,
    "start_time": "2023-04-07T04:33:15.483Z"
   },
   {
    "duration": 22,
    "start_time": "2023-04-07T04:33:15.502Z"
   },
   {
    "duration": 17,
    "start_time": "2023-04-07T04:33:15.526Z"
   },
   {
    "duration": 44,
    "start_time": "2023-04-07T04:33:15.545Z"
   },
   {
    "duration": 25,
    "start_time": "2023-04-07T04:33:15.590Z"
   },
   {
    "duration": 31,
    "start_time": "2023-04-07T04:33:15.617Z"
   },
   {
    "duration": 6,
    "start_time": "2023-04-07T04:33:15.649Z"
   },
   {
    "duration": 53,
    "start_time": "2023-04-07T04:33:15.656Z"
   },
   {
    "duration": 8,
    "start_time": "2023-04-07T04:33:15.711Z"
   },
   {
    "duration": 27,
    "start_time": "2023-04-07T04:33:15.721Z"
   },
   {
    "duration": 8,
    "start_time": "2023-04-07T04:33:15.750Z"
   },
   {
    "duration": 49,
    "start_time": "2023-04-07T04:33:15.761Z"
   },
   {
    "duration": 26,
    "start_time": "2023-04-07T04:33:15.811Z"
   },
   {
    "duration": 8,
    "start_time": "2023-04-07T04:33:15.839Z"
   },
   {
    "duration": 11,
    "start_time": "2023-04-07T04:33:15.848Z"
   },
   {
    "duration": 38,
    "start_time": "2023-04-07T04:33:15.861Z"
   },
   {
    "duration": 22,
    "start_time": "2023-04-07T04:33:15.901Z"
   },
   {
    "duration": 23,
    "start_time": "2023-04-07T04:33:15.925Z"
   },
   {
    "duration": 42,
    "start_time": "2023-04-07T04:33:15.949Z"
   },
   {
    "duration": 5,
    "start_time": "2023-04-07T04:33:15.993Z"
   },
   {
    "duration": 18,
    "start_time": "2023-04-07T04:33:16.000Z"
   },
   {
    "duration": 16,
    "start_time": "2023-04-07T04:34:45.920Z"
   },
   {
    "duration": 8,
    "start_time": "2023-04-07T04:35:07.953Z"
   },
   {
    "duration": 14,
    "start_time": "2023-04-07T04:35:11.939Z"
   },
   {
    "duration": 12,
    "start_time": "2023-04-07T04:36:05.628Z"
   },
   {
    "duration": 14,
    "start_time": "2023-04-07T04:36:08.524Z"
   },
   {
    "duration": 16,
    "start_time": "2023-04-07T04:36:16.636Z"
   },
   {
    "duration": 13,
    "start_time": "2023-04-07T04:36:18.682Z"
   },
   {
    "duration": 16,
    "start_time": "2023-04-07T04:36:59.408Z"
   },
   {
    "duration": 14,
    "start_time": "2023-04-07T04:37:01.320Z"
   },
   {
    "duration": 11,
    "start_time": "2023-04-07T04:39:16.339Z"
   },
   {
    "duration": 13,
    "start_time": "2023-04-07T04:39:47.340Z"
   },
   {
    "duration": 21,
    "start_time": "2023-04-07T04:39:51.845Z"
   },
   {
    "duration": 14,
    "start_time": "2023-04-07T04:40:13.936Z"
   },
   {
    "duration": 18,
    "start_time": "2023-04-07T04:40:25.432Z"
   },
   {
    "duration": 15,
    "start_time": "2023-04-07T04:40:41.316Z"
   },
   {
    "duration": 12,
    "start_time": "2023-04-07T04:41:14.954Z"
   },
   {
    "duration": 26,
    "start_time": "2023-04-07T04:41:41.145Z"
   },
   {
    "duration": 14,
    "start_time": "2023-04-07T04:49:16.856Z"
   },
   {
    "duration": 9,
    "start_time": "2023-04-07T04:50:38.736Z"
   },
   {
    "duration": 5,
    "start_time": "2023-04-07T04:50:48.647Z"
   },
   {
    "duration": 11,
    "start_time": "2023-04-07T04:51:10.031Z"
   },
   {
    "duration": 165,
    "start_time": "2023-04-07T04:55:09.915Z"
   },
   {
    "duration": 101,
    "start_time": "2023-04-07T04:55:27.457Z"
   },
   {
    "duration": 159,
    "start_time": "2023-04-07T04:57:11.126Z"
   },
   {
    "duration": 113,
    "start_time": "2023-04-07T04:57:19.513Z"
   },
   {
    "duration": 114,
    "start_time": "2023-04-07T04:57:30.225Z"
   },
   {
    "duration": 142,
    "start_time": "2023-04-07T04:57:40.325Z"
   },
   {
    "duration": 130,
    "start_time": "2023-04-07T04:57:44.729Z"
   },
   {
    "duration": 100,
    "start_time": "2023-04-07T04:57:57.324Z"
   },
   {
    "duration": 103,
    "start_time": "2023-04-07T04:58:03.571Z"
   },
   {
    "duration": 114,
    "start_time": "2023-04-07T04:58:08.837Z"
   },
   {
    "duration": 116,
    "start_time": "2023-04-07T04:58:18.028Z"
   },
   {
    "duration": 102,
    "start_time": "2023-04-07T04:58:27.222Z"
   },
   {
    "duration": 129,
    "start_time": "2023-04-07T04:58:46.912Z"
   },
   {
    "duration": 195,
    "start_time": "2023-04-07T04:58:56.441Z"
   },
   {
    "duration": 131,
    "start_time": "2023-04-07T04:59:02.464Z"
   },
   {
    "duration": 132,
    "start_time": "2023-04-07T04:59:07.677Z"
   },
   {
    "duration": 97,
    "start_time": "2023-04-07T04:59:13.139Z"
   },
   {
    "duration": 94,
    "start_time": "2023-04-07T04:59:15.853Z"
   },
   {
    "duration": 110,
    "start_time": "2023-04-07T04:59:19.121Z"
   },
   {
    "duration": 96,
    "start_time": "2023-04-07T04:59:23.355Z"
   },
   {
    "duration": 102,
    "start_time": "2023-04-07T04:59:34.524Z"
   },
   {
    "duration": 100,
    "start_time": "2023-04-07T04:59:38.201Z"
   },
   {
    "duration": 118,
    "start_time": "2023-04-07T05:00:08.392Z"
   },
   {
    "duration": 107,
    "start_time": "2023-04-07T05:00:37.033Z"
   },
   {
    "duration": 180,
    "start_time": "2023-04-07T05:00:47.726Z"
   },
   {
    "duration": 103,
    "start_time": "2023-04-07T05:00:50.220Z"
   },
   {
    "duration": 99,
    "start_time": "2023-04-07T05:00:57.821Z"
   },
   {
    "duration": 97,
    "start_time": "2023-04-07T05:01:03.117Z"
   },
   {
    "duration": 97,
    "start_time": "2023-04-07T05:01:08.034Z"
   },
   {
    "duration": 98,
    "start_time": "2023-04-07T05:01:11.838Z"
   },
   {
    "duration": 106,
    "start_time": "2023-04-07T05:01:14.321Z"
   },
   {
    "duration": 107,
    "start_time": "2023-04-07T05:01:18.365Z"
   },
   {
    "duration": 111,
    "start_time": "2023-04-07T05:01:22.717Z"
   },
   {
    "duration": 102,
    "start_time": "2023-04-07T05:01:27.619Z"
   },
   {
    "duration": 111,
    "start_time": "2023-04-07T05:01:35.218Z"
   },
   {
    "duration": 109,
    "start_time": "2023-04-07T05:01:43.443Z"
   },
   {
    "duration": 176,
    "start_time": "2023-04-07T05:01:49.069Z"
   },
   {
    "duration": 5,
    "start_time": "2023-04-07T05:02:19.610Z"
   },
   {
    "duration": 101,
    "start_time": "2023-04-07T05:02:26.538Z"
   },
   {
    "duration": 5,
    "start_time": "2023-04-07T05:38:58.720Z"
   },
   {
    "duration": 106,
    "start_time": "2023-04-07T05:39:21.226Z"
   },
   {
    "duration": 127,
    "start_time": "2023-04-07T05:39:35.216Z"
   },
   {
    "duration": 102,
    "start_time": "2023-04-07T05:39:39.176Z"
   },
   {
    "duration": 110,
    "start_time": "2023-04-07T05:39:41.877Z"
   },
   {
    "duration": 10,
    "start_time": "2023-04-07T05:40:13.831Z"
   },
   {
    "duration": 4,
    "start_time": "2023-04-07T05:40:49.844Z"
   },
   {
    "duration": 9,
    "start_time": "2023-04-07T05:40:54.765Z"
   },
   {
    "duration": 134,
    "start_time": "2023-04-07T05:41:32.364Z"
   },
   {
    "duration": 163,
    "start_time": "2023-04-07T05:42:10.352Z"
   },
   {
    "duration": 166,
    "start_time": "2023-04-07T05:42:30.424Z"
   },
   {
    "duration": 9,
    "start_time": "2023-04-07T05:42:55.265Z"
   },
   {
    "duration": 6,
    "start_time": "2023-04-07T05:43:20.052Z"
   },
   {
    "duration": 11,
    "start_time": "2023-04-07T05:43:41.565Z"
   },
   {
    "duration": 7,
    "start_time": "2023-04-07T05:43:46.567Z"
   },
   {
    "duration": 10,
    "start_time": "2023-04-07T05:44:07.370Z"
   },
   {
    "duration": 8,
    "start_time": "2023-04-07T05:44:22.437Z"
   },
   {
    "duration": 4,
    "start_time": "2023-04-07T05:52:19.830Z"
   },
   {
    "duration": 7,
    "start_time": "2023-04-07T05:52:43.663Z"
   },
   {
    "duration": 7,
    "start_time": "2023-04-07T05:53:07.447Z"
   },
   {
    "duration": 29,
    "start_time": "2023-04-07T05:53:37.638Z"
   },
   {
    "duration": 8,
    "start_time": "2023-04-07T05:53:47.325Z"
   },
   {
    "duration": 51,
    "start_time": "2023-04-07T17:28:15.467Z"
   },
   {
    "duration": 5,
    "start_time": "2023-04-07T17:28:47.383Z"
   },
   {
    "duration": 1085,
    "start_time": "2023-04-07T17:28:56.776Z"
   },
   {
    "duration": 5,
    "start_time": "2023-04-07T17:28:57.863Z"
   },
   {
    "duration": 18,
    "start_time": "2023-04-07T17:28:57.869Z"
   },
   {
    "duration": 22,
    "start_time": "2023-04-07T17:28:57.889Z"
   },
   {
    "duration": 29,
    "start_time": "2023-04-07T17:28:57.912Z"
   },
   {
    "duration": 59,
    "start_time": "2023-04-07T17:28:57.943Z"
   },
   {
    "duration": 21,
    "start_time": "2023-04-07T17:28:58.004Z"
   },
   {
    "duration": 27,
    "start_time": "2023-04-07T17:28:58.040Z"
   },
   {
    "duration": 6,
    "start_time": "2023-04-07T17:28:58.069Z"
   },
   {
    "duration": 20,
    "start_time": "2023-04-07T17:28:58.078Z"
   },
   {
    "duration": 6,
    "start_time": "2023-04-07T17:28:58.100Z"
   },
   {
    "duration": 48,
    "start_time": "2023-04-07T17:28:58.108Z"
   },
   {
    "duration": 7,
    "start_time": "2023-04-07T17:28:58.157Z"
   },
   {
    "duration": 18,
    "start_time": "2023-04-07T17:28:58.166Z"
   },
   {
    "duration": 23,
    "start_time": "2023-04-07T17:28:58.186Z"
   },
   {
    "duration": 31,
    "start_time": "2023-04-07T17:28:58.210Z"
   },
   {
    "duration": 10,
    "start_time": "2023-04-07T17:28:58.242Z"
   },
   {
    "duration": 12,
    "start_time": "2023-04-07T17:28:58.253Z"
   },
   {
    "duration": 22,
    "start_time": "2023-04-07T17:28:58.267Z"
   },
   {
    "duration": 22,
    "start_time": "2023-04-07T17:28:58.290Z"
   },
   {
    "duration": 21,
    "start_time": "2023-04-07T17:28:58.340Z"
   },
   {
    "duration": 15,
    "start_time": "2023-04-07T17:28:58.362Z"
   },
   {
    "duration": 13,
    "start_time": "2023-04-07T17:28:58.379Z"
   },
   {
    "duration": 19,
    "start_time": "2023-04-07T17:28:58.393Z"
   },
   {
    "duration": 38,
    "start_time": "2023-04-07T17:28:58.413Z"
   },
   {
    "duration": 136,
    "start_time": "2023-04-07T17:28:58.453Z"
   },
   {
    "duration": 954,
    "start_time": "2023-04-07T17:28:58.590Z"
   },
   {
    "duration": 376,
    "start_time": "2023-04-07T17:30:24.224Z"
   },
   {
    "duration": 6,
    "start_time": "2023-04-07T17:32:09.213Z"
   },
   {
    "duration": 133,
    "start_time": "2023-04-07T17:32:48.516Z"
   },
   {
    "duration": 164,
    "start_time": "2023-04-07T17:33:18.830Z"
   },
   {
    "duration": 131,
    "start_time": "2023-04-07T17:34:05.317Z"
   },
   {
    "duration": 153,
    "start_time": "2023-04-07T17:34:14.832Z"
   },
   {
    "duration": 186,
    "start_time": "2023-04-07T17:34:26.776Z"
   },
   {
    "duration": 141,
    "start_time": "2023-04-07T17:34:40.921Z"
   },
   {
    "duration": 9,
    "start_time": "2023-04-07T17:36:06.520Z"
   },
   {
    "duration": 98,
    "start_time": "2023-04-07T17:36:07.477Z"
   },
   {
    "duration": 96,
    "start_time": "2023-04-07T17:36:20.524Z"
   },
   {
    "duration": 98,
    "start_time": "2023-04-07T17:36:36.101Z"
   },
   {
    "duration": 95,
    "start_time": "2023-04-07T17:36:39.804Z"
   },
   {
    "duration": 7,
    "start_time": "2023-04-07T17:50:28.854Z"
   },
   {
    "duration": 5,
    "start_time": "2023-04-07T17:50:42.618Z"
   },
   {
    "duration": 129,
    "start_time": "2023-04-07T17:51:55.423Z"
   },
   {
    "duration": 249,
    "start_time": "2023-04-07T17:52:16.091Z"
   },
   {
    "duration": 205,
    "start_time": "2023-04-07T17:52:28.020Z"
   },
   {
    "duration": 215,
    "start_time": "2023-04-07T17:52:34.728Z"
   },
   {
    "duration": 173,
    "start_time": "2023-04-07T17:52:52.819Z"
   },
   {
    "duration": 168,
    "start_time": "2023-04-07T17:54:18.535Z"
   },
   {
    "duration": 159,
    "start_time": "2023-04-07T17:54:28.292Z"
   },
   {
    "duration": 170,
    "start_time": "2023-04-07T17:54:29.616Z"
   },
   {
    "duration": 160,
    "start_time": "2023-04-07T17:54:35.423Z"
   },
   {
    "duration": 161,
    "start_time": "2023-04-07T17:54:42.647Z"
   },
   {
    "duration": 132,
    "start_time": "2023-04-07T17:54:52.380Z"
   },
   {
    "duration": 6,
    "start_time": "2023-04-07T17:54:52.515Z"
   },
   {
    "duration": 20,
    "start_time": "2023-04-07T17:54:52.523Z"
   },
   {
    "duration": 27,
    "start_time": "2023-04-07T17:54:52.546Z"
   },
   {
    "duration": 18,
    "start_time": "2023-04-07T17:54:52.574Z"
   },
   {
    "duration": 25,
    "start_time": "2023-04-07T17:54:52.593Z"
   },
   {
    "duration": 31,
    "start_time": "2023-04-07T17:54:52.619Z"
   },
   {
    "duration": 25,
    "start_time": "2023-04-07T17:54:52.651Z"
   },
   {
    "duration": 6,
    "start_time": "2023-04-07T17:54:52.677Z"
   },
   {
    "duration": 37,
    "start_time": "2023-04-07T17:54:52.685Z"
   },
   {
    "duration": 18,
    "start_time": "2023-04-07T17:54:52.723Z"
   },
   {
    "duration": 20,
    "start_time": "2023-04-07T17:54:52.742Z"
   },
   {
    "duration": 7,
    "start_time": "2023-04-07T17:54:52.763Z"
   },
   {
    "duration": 37,
    "start_time": "2023-04-07T17:54:52.772Z"
   },
   {
    "duration": 31,
    "start_time": "2023-04-07T17:54:52.810Z"
   },
   {
    "duration": 8,
    "start_time": "2023-04-07T17:54:52.843Z"
   },
   {
    "duration": 17,
    "start_time": "2023-04-07T17:54:52.852Z"
   },
   {
    "duration": 20,
    "start_time": "2023-04-07T17:54:52.870Z"
   },
   {
    "duration": 27,
    "start_time": "2023-04-07T17:54:52.891Z"
   },
   {
    "duration": 31,
    "start_time": "2023-04-07T17:54:52.920Z"
   },
   {
    "duration": 20,
    "start_time": "2023-04-07T17:54:52.952Z"
   },
   {
    "duration": 17,
    "start_time": "2023-04-07T17:54:52.974Z"
   },
   {
    "duration": 20,
    "start_time": "2023-04-07T17:54:52.993Z"
   },
   {
    "duration": 40,
    "start_time": "2023-04-07T17:54:53.015Z"
   },
   {
    "duration": 14,
    "start_time": "2023-04-07T17:54:53.056Z"
   },
   {
    "duration": 136,
    "start_time": "2023-04-07T17:54:53.071Z"
   },
   {
    "duration": 101,
    "start_time": "2023-04-07T17:54:53.209Z"
   },
   {
    "duration": 169,
    "start_time": "2023-04-07T17:54:53.313Z"
   },
   {
    "duration": 182,
    "start_time": "2023-04-07T17:54:53.483Z"
   },
   {
    "duration": 135,
    "start_time": "2023-04-07T17:54:59.746Z"
   },
   {
    "duration": 204,
    "start_time": "2023-04-07T17:55:04.085Z"
   },
   {
    "duration": 174,
    "start_time": "2023-04-07T17:55:07.219Z"
   },
   {
    "duration": 114,
    "start_time": "2023-04-07T17:55:11.032Z"
   },
   {
    "duration": 119,
    "start_time": "2023-04-07T17:55:15.307Z"
   },
   {
    "duration": 13,
    "start_time": "2023-04-07T17:56:00.141Z"
   },
   {
    "duration": 634,
    "start_time": "2023-04-07T17:56:54.775Z"
   },
   {
    "duration": 8,
    "start_time": "2023-04-07T17:57:21.802Z"
   },
   {
    "duration": 583,
    "start_time": "2023-04-07T17:57:24.438Z"
   },
   {
    "duration": 584,
    "start_time": "2023-04-07T17:57:32.029Z"
   },
   {
    "duration": 124,
    "start_time": "2023-04-07T17:57:46.451Z"
   },
   {
    "duration": 8,
    "start_time": "2023-04-07T17:58:12.859Z"
   },
   {
    "duration": 8,
    "start_time": "2023-04-07T17:59:30.015Z"
   },
   {
    "duration": 133,
    "start_time": "2023-04-07T17:59:46.445Z"
   },
   {
    "duration": 8,
    "start_time": "2023-04-07T18:00:13.762Z"
   },
   {
    "duration": 122,
    "start_time": "2023-04-07T18:00:41.660Z"
   },
   {
    "duration": 123,
    "start_time": "2023-04-07T18:00:53.128Z"
   },
   {
    "duration": 142,
    "start_time": "2023-04-07T18:01:05.733Z"
   },
   {
    "duration": 150,
    "start_time": "2023-04-07T18:01:17.690Z"
   },
   {
    "duration": 140,
    "start_time": "2023-04-07T18:01:25.496Z"
   },
   {
    "duration": 129,
    "start_time": "2023-04-07T18:01:30.821Z"
   },
   {
    "duration": 4,
    "start_time": "2023-04-07T18:07:24.377Z"
   },
   {
    "duration": 5,
    "start_time": "2023-04-07T18:07:29.212Z"
   },
   {
    "duration": 6,
    "start_time": "2023-04-07T18:07:46.492Z"
   },
   {
    "duration": 35,
    "start_time": "2023-04-07T18:08:13.334Z"
   },
   {
    "duration": 7,
    "start_time": "2023-04-07T18:08:21.306Z"
   },
   {
    "duration": 7,
    "start_time": "2023-04-07T18:08:49.384Z"
   },
   {
    "duration": 25,
    "start_time": "2023-04-07T18:09:09.439Z"
   },
   {
    "duration": 763,
    "start_time": "2023-04-07T18:09:19.074Z"
   },
   {
    "duration": 6,
    "start_time": "2023-04-07T18:09:30.638Z"
   },
   {
    "duration": 10,
    "start_time": "2023-04-07T18:10:43.586Z"
   },
   {
    "duration": 7,
    "start_time": "2023-04-07T18:10:51.300Z"
   },
   {
    "duration": 1406,
    "start_time": "2023-04-07T18:11:01.270Z"
   },
   {
    "duration": 1364,
    "start_time": "2023-04-07T18:11:09.767Z"
   },
   {
    "duration": 66,
    "start_time": "2023-04-07T18:11:17.371Z"
   },
   {
    "duration": 6,
    "start_time": "2023-04-07T18:11:47.913Z"
   },
   {
    "duration": 6,
    "start_time": "2023-04-07T18:12:10.273Z"
   },
   {
    "duration": 7,
    "start_time": "2023-04-07T18:12:21.331Z"
   },
   {
    "duration": 5,
    "start_time": "2023-04-07T18:13:29.581Z"
   },
   {
    "duration": 6,
    "start_time": "2023-04-07T18:14:02.586Z"
   },
   {
    "duration": 5,
    "start_time": "2023-04-07T18:14:14.471Z"
   },
   {
    "duration": 5,
    "start_time": "2023-04-07T18:14:27.109Z"
   },
   {
    "duration": 38,
    "start_time": "2023-04-07T18:16:14.733Z"
   },
   {
    "duration": 29,
    "start_time": "2023-04-07T18:17:23.676Z"
   },
   {
    "duration": 4,
    "start_time": "2023-04-07T18:27:26.212Z"
   },
   {
    "duration": 23,
    "start_time": "2023-04-07T18:27:40.256Z"
   },
   {
    "duration": 20,
    "start_time": "2023-04-07T18:34:07.839Z"
   },
   {
    "duration": 32,
    "start_time": "2023-04-07T18:34:20.458Z"
   },
   {
    "duration": 19,
    "start_time": "2023-04-07T18:35:13.667Z"
   },
   {
    "duration": 47,
    "start_time": "2023-04-07T18:35:16.287Z"
   },
   {
    "duration": 87,
    "start_time": "2023-04-07T18:36:40.157Z"
   },
   {
    "duration": 5,
    "start_time": "2023-04-07T18:39:18.280Z"
   },
   {
    "duration": 25,
    "start_time": "2023-04-07T18:39:28.461Z"
   },
   {
    "duration": 32,
    "start_time": "2023-04-07T18:39:58.365Z"
   },
   {
    "duration": 35,
    "start_time": "2023-04-07T18:40:12.370Z"
   },
   {
    "duration": 28,
    "start_time": "2023-04-07T18:40:53.371Z"
   },
   {
    "duration": 47,
    "start_time": "2023-04-08T10:34:49.179Z"
   },
   {
    "duration": 1479,
    "start_time": "2023-04-08T10:34:53.359Z"
   },
   {
    "duration": 9,
    "start_time": "2023-04-08T10:34:54.839Z"
   },
   {
    "duration": 26,
    "start_time": "2023-04-08T10:34:54.857Z"
   },
   {
    "duration": 22,
    "start_time": "2023-04-08T10:34:54.885Z"
   },
   {
    "duration": 19,
    "start_time": "2023-04-08T10:34:54.909Z"
   },
   {
    "duration": 76,
    "start_time": "2023-04-08T10:34:54.929Z"
   },
   {
    "duration": 20,
    "start_time": "2023-04-08T10:34:55.007Z"
   },
   {
    "duration": 41,
    "start_time": "2023-04-08T10:34:55.028Z"
   },
   {
    "duration": 6,
    "start_time": "2023-04-08T10:34:55.070Z"
   },
   {
    "duration": 26,
    "start_time": "2023-04-08T10:34:55.078Z"
   },
   {
    "duration": 7,
    "start_time": "2023-04-08T10:34:55.105Z"
   },
   {
    "duration": 44,
    "start_time": "2023-04-08T10:34:55.113Z"
   },
   {
    "duration": 7,
    "start_time": "2023-04-08T10:34:55.159Z"
   },
   {
    "duration": 42,
    "start_time": "2023-04-08T10:34:55.168Z"
   },
   {
    "duration": 23,
    "start_time": "2023-04-08T10:34:55.211Z"
   },
   {
    "duration": 20,
    "start_time": "2023-04-08T10:34:55.235Z"
   },
   {
    "duration": 9,
    "start_time": "2023-04-08T10:34:55.256Z"
   },
   {
    "duration": 13,
    "start_time": "2023-04-08T10:34:55.266Z"
   },
   {
    "duration": 29,
    "start_time": "2023-04-08T10:34:55.281Z"
   },
   {
    "duration": 34,
    "start_time": "2023-04-08T10:34:55.311Z"
   },
   {
    "duration": 22,
    "start_time": "2023-04-08T10:34:55.346Z"
   },
   {
    "duration": 15,
    "start_time": "2023-04-08T10:34:55.369Z"
   },
   {
    "duration": 20,
    "start_time": "2023-04-08T10:34:55.385Z"
   },
   {
    "duration": 32,
    "start_time": "2023-04-08T10:34:55.406Z"
   },
   {
    "duration": 26,
    "start_time": "2023-04-08T10:34:55.439Z"
   },
   {
    "duration": 118,
    "start_time": "2023-04-08T10:34:55.466Z"
   },
   {
    "duration": 7,
    "start_time": "2023-04-08T10:34:55.586Z"
   },
   {
    "duration": 129,
    "start_time": "2023-04-08T10:34:55.595Z"
   },
   {
    "duration": 6,
    "start_time": "2023-04-08T10:34:55.726Z"
   },
   {
    "duration": 136,
    "start_time": "2023-04-08T10:34:55.734Z"
   },
   {
    "duration": 7,
    "start_time": "2023-04-08T10:34:55.871Z"
   },
   {
    "duration": 177,
    "start_time": "2023-04-08T10:34:55.879Z"
   },
   {
    "duration": 7,
    "start_time": "2023-04-08T10:34:56.057Z"
   },
   {
    "duration": 26,
    "start_time": "2023-04-08T10:34:56.065Z"
   },
   {
    "duration": 12,
    "start_time": "2023-04-08T10:34:56.092Z"
   },
   {
    "duration": 11,
    "start_time": "2023-04-08T10:34:56.105Z"
   },
   {
    "duration": 41,
    "start_time": "2023-04-08T10:34:56.117Z"
   },
   {
    "duration": 197,
    "start_time": "2023-04-08T10:34:56.159Z"
   },
   {
    "duration": 22,
    "start_time": "2023-04-08T10:34:56.358Z"
   },
   {
    "duration": 36,
    "start_time": "2023-04-08T10:34:56.381Z"
   },
   {
    "duration": 54,
    "start_time": "2023-04-08T10:34:56.418Z"
   },
   {
    "duration": 25,
    "start_time": "2023-04-08T10:37:03.133Z"
   },
   {
    "duration": 27,
    "start_time": "2023-04-08T10:38:01.564Z"
   },
   {
    "duration": 6,
    "start_time": "2023-04-08T10:46:59.089Z"
   },
   {
    "duration": 5,
    "start_time": "2023-04-08T10:51:34.923Z"
   },
   {
    "duration": 1727,
    "start_time": "2023-04-08T10:53:17.784Z"
   },
   {
    "duration": 132,
    "start_time": "2023-04-08T10:53:30.777Z"
   },
   {
    "duration": 6,
    "start_time": "2023-04-08T10:53:30.910Z"
   },
   {
    "duration": 55,
    "start_time": "2023-04-08T10:53:30.917Z"
   },
   {
    "duration": 22,
    "start_time": "2023-04-08T10:53:30.974Z"
   },
   {
    "duration": 24,
    "start_time": "2023-04-08T10:53:30.997Z"
   },
   {
    "duration": 54,
    "start_time": "2023-04-08T10:53:31.022Z"
   },
   {
    "duration": 26,
    "start_time": "2023-04-08T10:53:31.078Z"
   },
   {
    "duration": 23,
    "start_time": "2023-04-08T10:53:31.105Z"
   },
   {
    "duration": 37,
    "start_time": "2023-04-08T10:53:31.129Z"
   },
   {
    "duration": 20,
    "start_time": "2023-04-08T10:53:31.170Z"
   },
   {
    "duration": 18,
    "start_time": "2023-04-08T10:53:31.192Z"
   },
   {
    "duration": 64,
    "start_time": "2023-04-08T10:53:31.211Z"
   },
   {
    "duration": 9,
    "start_time": "2023-04-08T10:53:31.277Z"
   },
   {
    "duration": 26,
    "start_time": "2023-04-08T10:53:31.288Z"
   },
   {
    "duration": 42,
    "start_time": "2023-04-08T10:53:31.315Z"
   },
   {
    "duration": 16,
    "start_time": "2023-04-08T10:53:31.358Z"
   },
   {
    "duration": 24,
    "start_time": "2023-04-08T10:53:31.376Z"
   },
   {
    "duration": 55,
    "start_time": "2023-04-08T10:53:31.402Z"
   },
   {
    "duration": 24,
    "start_time": "2023-04-08T10:53:31.462Z"
   },
   {
    "duration": 21,
    "start_time": "2023-04-08T10:53:31.487Z"
   },
   {
    "duration": 55,
    "start_time": "2023-04-08T10:53:31.510Z"
   },
   {
    "duration": 22,
    "start_time": "2023-04-08T10:53:31.567Z"
   },
   {
    "duration": 42,
    "start_time": "2023-04-08T10:53:31.591Z"
   },
   {
    "duration": 45,
    "start_time": "2023-04-08T10:53:31.634Z"
   },
   {
    "duration": 23,
    "start_time": "2023-04-08T10:53:31.681Z"
   },
   {
    "duration": 129,
    "start_time": "2023-04-08T10:53:31.705Z"
   },
   {
    "duration": 27,
    "start_time": "2023-04-08T10:53:31.835Z"
   },
   {
    "duration": 129,
    "start_time": "2023-04-08T10:53:31.865Z"
   },
   {
    "duration": 6,
    "start_time": "2023-04-08T10:53:31.996Z"
   },
   {
    "duration": 168,
    "start_time": "2023-04-08T10:53:32.004Z"
   },
   {
    "duration": 6,
    "start_time": "2023-04-08T10:53:32.173Z"
   },
   {
    "duration": 142,
    "start_time": "2023-04-08T10:53:32.181Z"
   },
   {
    "duration": 21,
    "start_time": "2023-04-08T10:53:32.324Z"
   },
   {
    "duration": 14,
    "start_time": "2023-04-08T10:53:32.349Z"
   },
   {
    "duration": 7,
    "start_time": "2023-04-08T10:53:32.364Z"
   },
   {
    "duration": 23,
    "start_time": "2023-04-08T10:53:32.372Z"
   },
   {
    "duration": 182,
    "start_time": "2023-04-08T10:53:32.396Z"
   },
   {
    "duration": 21,
    "start_time": "2023-04-08T10:53:32.580Z"
   },
   {
    "duration": 106,
    "start_time": "2023-04-08T10:53:32.602Z"
   },
   {
    "duration": 36,
    "start_time": "2023-04-08T10:53:32.709Z"
   },
   {
    "duration": 14,
    "start_time": "2023-04-08T10:53:32.753Z"
   },
   {
    "duration": 6,
    "start_time": "2023-04-08T10:53:32.768Z"
   },
   {
    "duration": 6,
    "start_time": "2023-04-08T10:53:32.775Z"
   },
   {
    "duration": 1372,
    "start_time": "2023-04-08T10:54:02.418Z"
   },
   {
    "duration": 136,
    "start_time": "2023-04-08T10:54:09.169Z"
   },
   {
    "duration": 6,
    "start_time": "2023-04-08T10:54:09.306Z"
   },
   {
    "duration": 12,
    "start_time": "2023-04-08T10:54:09.313Z"
   },
   {
    "duration": 23,
    "start_time": "2023-04-08T10:54:09.326Z"
   },
   {
    "duration": 19,
    "start_time": "2023-04-08T10:54:09.350Z"
   },
   {
    "duration": 22,
    "start_time": "2023-04-08T10:54:09.370Z"
   },
   {
    "duration": 20,
    "start_time": "2023-04-08T10:54:09.394Z"
   },
   {
    "duration": 59,
    "start_time": "2023-04-08T10:54:09.416Z"
   },
   {
    "duration": 6,
    "start_time": "2023-04-08T10:54:09.476Z"
   },
   {
    "duration": 20,
    "start_time": "2023-04-08T10:54:09.485Z"
   },
   {
    "duration": 6,
    "start_time": "2023-04-08T10:54:09.506Z"
   },
   {
    "duration": 54,
    "start_time": "2023-04-08T10:54:09.514Z"
   },
   {
    "duration": 6,
    "start_time": "2023-04-08T10:54:09.570Z"
   },
   {
    "duration": 19,
    "start_time": "2023-04-08T10:54:09.577Z"
   },
   {
    "duration": 22,
    "start_time": "2023-04-08T10:54:09.597Z"
   },
   {
    "duration": 25,
    "start_time": "2023-04-08T10:54:09.620Z"
   },
   {
    "duration": 26,
    "start_time": "2023-04-08T10:54:09.646Z"
   },
   {
    "duration": 11,
    "start_time": "2023-04-08T10:54:09.674Z"
   },
   {
    "duration": 30,
    "start_time": "2023-04-08T10:54:09.687Z"
   },
   {
    "duration": 20,
    "start_time": "2023-04-08T10:54:09.718Z"
   },
   {
    "duration": 33,
    "start_time": "2023-04-08T10:54:09.739Z"
   },
   {
    "duration": 13,
    "start_time": "2023-04-08T10:54:09.773Z"
   },
   {
    "duration": 11,
    "start_time": "2023-04-08T10:54:09.788Z"
   },
   {
    "duration": 16,
    "start_time": "2023-04-08T10:54:09.800Z"
   },
   {
    "duration": 44,
    "start_time": "2023-04-08T10:54:09.817Z"
   },
   {
    "duration": 120,
    "start_time": "2023-04-08T10:54:09.862Z"
   },
   {
    "duration": 7,
    "start_time": "2023-04-08T10:54:09.984Z"
   },
   {
    "duration": 130,
    "start_time": "2023-04-08T10:54:09.994Z"
   },
   {
    "duration": 6,
    "start_time": "2023-04-08T10:54:10.125Z"
   },
   {
    "duration": 141,
    "start_time": "2023-04-08T10:54:10.145Z"
   },
   {
    "duration": 7,
    "start_time": "2023-04-08T10:54:10.287Z"
   },
   {
    "duration": 136,
    "start_time": "2023-04-08T10:54:10.295Z"
   },
   {
    "duration": 8,
    "start_time": "2023-04-08T10:54:10.432Z"
   },
   {
    "duration": 12,
    "start_time": "2023-04-08T10:54:10.441Z"
   },
   {
    "duration": 8,
    "start_time": "2023-04-08T10:54:10.457Z"
   },
   {
    "duration": 29,
    "start_time": "2023-04-08T10:54:10.466Z"
   },
   {
    "duration": 190,
    "start_time": "2023-04-08T10:54:10.496Z"
   },
   {
    "duration": 22,
    "start_time": "2023-04-08T10:54:10.687Z"
   },
   {
    "duration": 52,
    "start_time": "2023-04-08T10:54:10.710Z"
   },
   {
    "duration": 31,
    "start_time": "2023-04-08T10:54:10.766Z"
   },
   {
    "duration": 4,
    "start_time": "2023-04-08T10:54:10.799Z"
   },
   {
    "duration": 5,
    "start_time": "2023-04-08T10:54:10.804Z"
   },
   {
    "duration": 6,
    "start_time": "2023-04-08T10:54:10.810Z"
   },
   {
    "duration": 125,
    "start_time": "2023-04-08T10:55:27.799Z"
   },
   {
    "duration": 116,
    "start_time": "2023-04-08T10:55:41.077Z"
   },
   {
    "duration": 187,
    "start_time": "2023-04-08T10:56:35.878Z"
   },
   {
    "duration": 182,
    "start_time": "2023-04-08T10:57:39.678Z"
   },
   {
    "duration": 179,
    "start_time": "2023-04-08T10:58:54.921Z"
   },
   {
    "duration": 21,
    "start_time": "2023-04-08T11:02:24.469Z"
   },
   {
    "duration": 5,
    "start_time": "2023-04-08T11:03:02.421Z"
   },
   {
    "duration": 15,
    "start_time": "2023-04-08T11:05:25.009Z"
   },
   {
    "duration": 14,
    "start_time": "2023-04-08T11:05:52.804Z"
   },
   {
    "duration": 10,
    "start_time": "2023-04-08T11:10:50.066Z"
   },
   {
    "duration": 13,
    "start_time": "2023-04-08T11:13:38.851Z"
   },
   {
    "duration": 12,
    "start_time": "2023-04-08T11:14:21.435Z"
   },
   {
    "duration": 11,
    "start_time": "2023-04-08T11:14:27.567Z"
   },
   {
    "duration": 13,
    "start_time": "2023-04-08T11:14:32.589Z"
   },
   {
    "duration": 11,
    "start_time": "2023-04-08T11:14:38.679Z"
   },
   {
    "duration": 176,
    "start_time": "2023-04-08T11:25:47.299Z"
   },
   {
    "duration": 20,
    "start_time": "2023-04-08T11:34:02.239Z"
   },
   {
    "duration": 33,
    "start_time": "2023-04-08T11:34:15.539Z"
   },
   {
    "duration": 18,
    "start_time": "2023-04-08T11:58:55.691Z"
   },
   {
    "duration": 100,
    "start_time": "2023-04-08T12:02:34.498Z"
   },
   {
    "duration": 20,
    "start_time": "2023-04-08T12:02:38.219Z"
   },
   {
    "duration": 22,
    "start_time": "2023-04-08T12:02:44.010Z"
   },
   {
    "duration": 19,
    "start_time": "2023-04-08T12:03:24.089Z"
   },
   {
    "duration": 22,
    "start_time": "2023-04-08T12:03:30.099Z"
   },
   {
    "duration": 31,
    "start_time": "2023-04-08T12:04:30.137Z"
   },
   {
    "duration": 23,
    "start_time": "2023-04-08T12:06:14.063Z"
   },
   {
    "duration": 14,
    "start_time": "2023-04-08T12:06:32.575Z"
   },
   {
    "duration": 19,
    "start_time": "2023-04-08T12:06:42.384Z"
   },
   {
    "duration": 13,
    "start_time": "2023-04-08T12:08:10.719Z"
   },
   {
    "duration": 7,
    "start_time": "2023-04-08T12:08:19.372Z"
   },
   {
    "duration": 10,
    "start_time": "2023-04-08T12:08:24.012Z"
   },
   {
    "duration": 27,
    "start_time": "2023-04-08T12:11:29.219Z"
   },
   {
    "duration": 32,
    "start_time": "2023-04-08T12:16:36.562Z"
   },
   {
    "duration": 35,
    "start_time": "2023-04-08T12:17:32.639Z"
   },
   {
    "duration": 22,
    "start_time": "2023-04-08T12:17:57.800Z"
   },
   {
    "duration": 19,
    "start_time": "2023-04-08T12:18:03.214Z"
   },
   {
    "duration": 21,
    "start_time": "2023-04-08T12:18:08.574Z"
   },
   {
    "duration": 21,
    "start_time": "2023-04-08T12:18:12.984Z"
   },
   {
    "duration": 34,
    "start_time": "2023-04-08T12:18:24.511Z"
   },
   {
    "duration": 7,
    "start_time": "2023-04-08T12:18:57.378Z"
   },
   {
    "duration": 1347,
    "start_time": "2023-04-09T05:33:58.760Z"
   },
   {
    "duration": 7,
    "start_time": "2023-04-09T05:34:00.109Z"
   },
   {
    "duration": 25,
    "start_time": "2023-04-09T05:34:00.118Z"
   },
   {
    "duration": 53,
    "start_time": "2023-04-09T05:34:00.146Z"
   },
   {
    "duration": 19,
    "start_time": "2023-04-09T05:34:00.204Z"
   },
   {
    "duration": 78,
    "start_time": "2023-04-09T05:34:00.225Z"
   },
   {
    "duration": 32,
    "start_time": "2023-04-09T05:34:00.304Z"
   },
   {
    "duration": 51,
    "start_time": "2023-04-09T05:34:00.337Z"
   },
   {
    "duration": 7,
    "start_time": "2023-04-09T05:34:00.390Z"
   },
   {
    "duration": 41,
    "start_time": "2023-04-09T05:34:00.403Z"
   },
   {
    "duration": 11,
    "start_time": "2023-04-09T05:34:00.446Z"
   },
   {
    "duration": 40,
    "start_time": "2023-04-09T05:34:00.458Z"
   },
   {
    "duration": 53,
    "start_time": "2023-04-09T05:34:00.500Z"
   },
   {
    "duration": 37,
    "start_time": "2023-04-09T05:34:00.555Z"
   },
   {
    "duration": 49,
    "start_time": "2023-04-09T05:34:00.599Z"
   },
   {
    "duration": 44,
    "start_time": "2023-04-09T05:34:00.651Z"
   },
   {
    "duration": 29,
    "start_time": "2023-04-09T05:34:00.697Z"
   },
   {
    "duration": 18,
    "start_time": "2023-04-09T05:34:00.728Z"
   },
   {
    "duration": 23,
    "start_time": "2023-04-09T05:34:00.747Z"
   },
   {
    "duration": 42,
    "start_time": "2023-04-09T05:34:00.771Z"
   },
   {
    "duration": 27,
    "start_time": "2023-04-09T05:34:00.815Z"
   },
   {
    "duration": 19,
    "start_time": "2023-04-09T05:34:00.844Z"
   },
   {
    "duration": 46,
    "start_time": "2023-04-09T05:34:00.865Z"
   },
   {
    "duration": 34,
    "start_time": "2023-04-09T05:34:00.913Z"
   },
   {
    "duration": 30,
    "start_time": "2023-04-09T05:34:00.949Z"
   },
   {
    "duration": 172,
    "start_time": "2023-04-09T05:34:00.981Z"
   },
   {
    "duration": 10,
    "start_time": "2023-04-09T05:34:01.155Z"
   },
   {
    "duration": 155,
    "start_time": "2023-04-09T05:34:01.184Z"
   },
   {
    "duration": 11,
    "start_time": "2023-04-09T05:34:01.341Z"
   },
   {
    "duration": 203,
    "start_time": "2023-04-09T05:34:01.353Z"
   },
   {
    "duration": 9,
    "start_time": "2023-04-09T05:34:01.557Z"
   },
   {
    "duration": 255,
    "start_time": "2023-04-09T05:34:01.568Z"
   },
   {
    "duration": 7,
    "start_time": "2023-04-09T05:34:01.824Z"
   },
   {
    "duration": 22,
    "start_time": "2023-04-09T05:34:01.833Z"
   },
   {
    "duration": 11,
    "start_time": "2023-04-09T05:34:01.857Z"
   },
   {
    "duration": 41,
    "start_time": "2023-04-09T05:34:01.870Z"
   },
   {
    "duration": 256,
    "start_time": "2023-04-09T05:34:01.913Z"
   },
   {
    "duration": 38,
    "start_time": "2023-04-09T05:34:02.171Z"
   },
   {
    "duration": 46,
    "start_time": "2023-04-09T05:34:02.210Z"
   },
   {
    "duration": 63,
    "start_time": "2023-04-09T05:34:02.258Z"
   },
   {
    "duration": 6,
    "start_time": "2023-04-09T05:34:02.323Z"
   },
   {
    "duration": 223,
    "start_time": "2023-04-09T05:34:02.331Z"
   },
   {
    "duration": 15,
    "start_time": "2023-04-09T05:34:02.555Z"
   },
   {
    "duration": 34,
    "start_time": "2023-04-09T05:34:02.572Z"
   },
   {
    "duration": 193,
    "start_time": "2023-04-09T05:34:02.608Z"
   },
   {
    "duration": 26,
    "start_time": "2023-04-09T05:34:02.804Z"
   },
   {
    "duration": 9,
    "start_time": "2023-04-09T05:34:59.408Z"
   },
   {
    "duration": 12,
    "start_time": "2023-04-09T05:40:11.722Z"
   },
   {
    "duration": 13,
    "start_time": "2023-04-09T05:41:57.500Z"
   },
   {
    "duration": 29,
    "start_time": "2023-04-09T05:42:09.494Z"
   },
   {
    "duration": 6,
    "start_time": "2023-04-09T05:42:34.968Z"
   },
   {
    "duration": 230,
    "start_time": "2023-04-09T05:44:39.504Z"
   },
   {
    "duration": 83,
    "start_time": "2023-04-09T05:45:17.766Z"
   },
   {
    "duration": 16,
    "start_time": "2023-04-09T05:45:25.942Z"
   },
   {
    "duration": 25,
    "start_time": "2023-04-09T05:45:45.936Z"
   },
   {
    "duration": 19,
    "start_time": "2023-04-09T05:46:05.616Z"
   },
   {
    "duration": 7,
    "start_time": "2023-04-09T05:47:24.390Z"
   },
   {
    "duration": 12,
    "start_time": "2023-04-09T05:47:33.480Z"
   },
   {
    "duration": 13,
    "start_time": "2023-04-09T05:48:43.370Z"
   },
   {
    "duration": 9,
    "start_time": "2023-04-09T05:48:49.946Z"
   },
   {
    "duration": 12,
    "start_time": "2023-04-09T05:48:53.084Z"
   },
   {
    "duration": 6,
    "start_time": "2023-04-09T05:50:17.522Z"
   },
   {
    "duration": 16,
    "start_time": "2023-04-09T05:50:53.444Z"
   },
   {
    "duration": 17,
    "start_time": "2023-04-09T05:51:12.279Z"
   },
   {
    "duration": 899,
    "start_time": "2023-04-09T05:55:38.148Z"
   },
   {
    "duration": 865,
    "start_time": "2023-04-09T05:55:56.059Z"
   },
   {
    "duration": 196,
    "start_time": "2023-04-09T05:56:28.051Z"
   },
   {
    "duration": 33,
    "start_time": "2023-04-09T06:02:16.718Z"
   },
   {
    "duration": 33,
    "start_time": "2023-04-09T06:02:41.247Z"
   },
   {
    "duration": 39,
    "start_time": "2023-04-09T06:03:24.197Z"
   },
   {
    "duration": 33,
    "start_time": "2023-04-09T06:03:42.697Z"
   },
   {
    "duration": 39,
    "start_time": "2023-04-09T06:04:04.037Z"
   },
   {
    "duration": 34,
    "start_time": "2023-04-09T06:04:10.592Z"
   },
   {
    "duration": 33,
    "start_time": "2023-04-09T06:04:22.348Z"
   },
   {
    "duration": 27,
    "start_time": "2023-04-09T06:04:42.287Z"
   },
   {
    "duration": 102,
    "start_time": "2023-04-09T06:08:51.712Z"
   },
   {
    "duration": 15,
    "start_time": "2023-04-09T06:27:54.143Z"
   },
   {
    "duration": 13,
    "start_time": "2023-04-09T06:29:47.624Z"
   },
   {
    "duration": 16,
    "start_time": "2023-04-09T06:30:02.554Z"
   },
   {
    "duration": 16,
    "start_time": "2023-04-09T06:30:20.542Z"
   },
   {
    "duration": 16,
    "start_time": "2023-04-09T06:31:07.621Z"
   },
   {
    "duration": 21,
    "start_time": "2023-04-09T06:31:44.642Z"
   },
   {
    "duration": 14,
    "start_time": "2023-04-09T06:39:08.886Z"
   },
   {
    "duration": 18,
    "start_time": "2023-04-09T06:39:18.064Z"
   },
   {
    "duration": 11,
    "start_time": "2023-04-09T06:45:27.938Z"
   },
   {
    "duration": 12,
    "start_time": "2023-04-09T06:45:35.456Z"
   },
   {
    "duration": 18,
    "start_time": "2023-04-09T06:45:44.336Z"
   },
   {
    "duration": 11,
    "start_time": "2023-04-09T06:50:49.297Z"
   },
   {
    "duration": 11,
    "start_time": "2023-04-09T06:50:55.767Z"
   },
   {
    "duration": 151,
    "start_time": "2023-04-09T06:51:02.737Z"
   },
   {
    "duration": 17,
    "start_time": "2023-04-09T06:53:01.347Z"
   },
   {
    "duration": 18,
    "start_time": "2023-04-09T06:53:16.004Z"
   },
   {
    "duration": 17,
    "start_time": "2023-04-09T06:53:25.830Z"
   },
   {
    "duration": 202,
    "start_time": "2023-04-09T06:53:33.453Z"
   },
   {
    "duration": 19,
    "start_time": "2023-04-09T06:53:39.310Z"
   },
   {
    "duration": 18,
    "start_time": "2023-04-09T06:53:58.468Z"
   },
   {
    "duration": 29,
    "start_time": "2023-04-09T06:55:16.286Z"
   },
   {
    "duration": 23,
    "start_time": "2023-04-09T06:55:47.640Z"
   },
   {
    "duration": 32,
    "start_time": "2023-04-09T06:55:56.034Z"
   },
   {
    "duration": 20,
    "start_time": "2023-04-09T06:56:44.068Z"
   },
   {
    "duration": 30,
    "start_time": "2023-04-09T06:59:09.470Z"
   },
   {
    "duration": 19,
    "start_time": "2023-04-09T07:02:10.162Z"
   },
   {
    "duration": 14,
    "start_time": "2023-04-09T07:02:27.580Z"
   },
   {
    "duration": 22,
    "start_time": "2023-04-09T07:04:03.073Z"
   },
   {
    "duration": 59,
    "start_time": "2023-04-09T07:04:33.127Z"
   },
   {
    "duration": 10,
    "start_time": "2023-04-09T07:04:39.439Z"
   },
   {
    "duration": 24,
    "start_time": "2023-04-09T07:04:44.976Z"
   },
   {
    "duration": 21,
    "start_time": "2023-04-09T07:04:54.337Z"
   },
   {
    "duration": 12,
    "start_time": "2023-04-09T07:08:31.700Z"
   },
   {
    "duration": 12,
    "start_time": "2023-04-09T07:08:46.757Z"
   },
   {
    "duration": 21,
    "start_time": "2023-04-09T07:08:55.546Z"
   },
   {
    "duration": 48,
    "start_time": "2023-04-09T07:10:27.633Z"
   },
   {
    "duration": 165,
    "start_time": "2023-04-09T07:10:33.314Z"
   },
   {
    "duration": 9,
    "start_time": "2023-04-09T07:11:57.853Z"
   },
   {
    "duration": 83,
    "start_time": "2023-04-09T07:13:04.317Z"
   },
   {
    "duration": 41,
    "start_time": "2023-04-09T07:13:44.605Z"
   },
   {
    "duration": 61,
    "start_time": "2023-04-09T07:14:51.547Z"
   },
   {
    "duration": 40,
    "start_time": "2023-04-09T07:15:21.764Z"
   },
   {
    "duration": 20,
    "start_time": "2023-04-09T07:22:51.236Z"
   },
   {
    "duration": 19,
    "start_time": "2023-04-09T07:22:53.674Z"
   },
   {
    "duration": 34,
    "start_time": "2023-04-09T07:22:58.569Z"
   },
   {
    "duration": 5,
    "start_time": "2023-04-09T07:23:08.181Z"
   },
   {
    "duration": 4,
    "start_time": "2023-04-09T07:23:15.111Z"
   },
   {
    "duration": 110,
    "start_time": "2023-04-09T07:24:31.623Z"
   },
   {
    "duration": 30,
    "start_time": "2023-04-09T07:24:44.242Z"
   },
   {
    "duration": 6,
    "start_time": "2023-04-09T07:37:58.328Z"
   },
   {
    "duration": 9,
    "start_time": "2023-04-09T07:38:18.046Z"
   },
   {
    "duration": 12,
    "start_time": "2023-04-09T07:38:41.554Z"
   },
   {
    "duration": 12,
    "start_time": "2023-04-09T07:38:58.855Z"
   },
   {
    "duration": 33,
    "start_time": "2023-04-09T07:39:09.967Z"
   },
   {
    "duration": 9,
    "start_time": "2023-04-09T07:39:35.247Z"
   },
   {
    "duration": 9,
    "start_time": "2023-04-09T07:40:05.595Z"
   },
   {
    "duration": 10,
    "start_time": "2023-04-09T07:40:14.369Z"
   },
   {
    "duration": 10,
    "start_time": "2023-04-09T07:41:01.324Z"
   },
   {
    "duration": 4,
    "start_time": "2023-04-09T07:42:21.053Z"
   },
   {
    "duration": 5,
    "start_time": "2023-04-09T07:46:01.504Z"
   },
   {
    "duration": 15,
    "start_time": "2023-04-09T07:46:14.126Z"
   },
   {
    "duration": 13,
    "start_time": "2023-04-09T07:46:42.617Z"
   },
   {
    "duration": 37,
    "start_time": "2023-04-09T07:46:51.597Z"
   },
   {
    "duration": 15,
    "start_time": "2023-04-09T07:47:01.240Z"
   },
   {
    "duration": 8,
    "start_time": "2023-04-09T07:47:36.077Z"
   },
   {
    "duration": 135,
    "start_time": "2023-04-09T07:48:58.301Z"
   },
   {
    "duration": 6,
    "start_time": "2023-04-09T07:48:58.437Z"
   },
   {
    "duration": 15,
    "start_time": "2023-04-09T07:48:58.445Z"
   },
   {
    "duration": 21,
    "start_time": "2023-04-09T07:48:58.462Z"
   },
   {
    "duration": 15,
    "start_time": "2023-04-09T07:48:58.485Z"
   },
   {
    "duration": 24,
    "start_time": "2023-04-09T07:48:58.501Z"
   },
   {
    "duration": 22,
    "start_time": "2023-04-09T07:48:58.527Z"
   },
   {
    "duration": 53,
    "start_time": "2023-04-09T07:48:58.551Z"
   },
   {
    "duration": 6,
    "start_time": "2023-04-09T07:48:58.605Z"
   },
   {
    "duration": 23,
    "start_time": "2023-04-09T07:48:58.614Z"
   },
   {
    "duration": 6,
    "start_time": "2023-04-09T07:48:58.639Z"
   },
   {
    "duration": 42,
    "start_time": "2023-04-09T07:48:58.646Z"
   },
   {
    "duration": 8,
    "start_time": "2023-04-09T07:48:58.689Z"
   },
   {
    "duration": 26,
    "start_time": "2023-04-09T07:48:58.698Z"
   },
   {
    "duration": 20,
    "start_time": "2023-04-09T07:48:58.726Z"
   },
   {
    "duration": 7,
    "start_time": "2023-04-09T07:48:58.748Z"
   },
   {
    "duration": 32,
    "start_time": "2023-04-09T07:48:58.757Z"
   },
   {
    "duration": 13,
    "start_time": "2023-04-09T07:48:58.790Z"
   },
   {
    "duration": 21,
    "start_time": "2023-04-09T07:48:58.805Z"
   },
   {
    "duration": 20,
    "start_time": "2023-04-09T07:48:58.827Z"
   },
   {
    "duration": 43,
    "start_time": "2023-04-09T07:48:58.849Z"
   },
   {
    "duration": 14,
    "start_time": "2023-04-09T07:48:58.894Z"
   },
   {
    "duration": 13,
    "start_time": "2023-04-09T07:48:58.910Z"
   },
   {
    "duration": 18,
    "start_time": "2023-04-09T07:48:58.924Z"
   },
   {
    "duration": 12,
    "start_time": "2023-04-09T07:48:58.943Z"
   },
   {
    "duration": 144,
    "start_time": "2023-04-09T07:48:58.956Z"
   },
   {
    "duration": 8,
    "start_time": "2023-04-09T07:48:59.101Z"
   },
   {
    "duration": 208,
    "start_time": "2023-04-09T07:48:59.113Z"
   },
   {
    "duration": 8,
    "start_time": "2023-04-09T07:48:59.322Z"
   },
   {
    "duration": 170,
    "start_time": "2023-04-09T07:48:59.332Z"
   },
   {
    "duration": 10,
    "start_time": "2023-04-09T07:48:59.503Z"
   },
   {
    "duration": 173,
    "start_time": "2023-04-09T07:48:59.514Z"
   },
   {
    "duration": 7,
    "start_time": "2023-04-09T07:48:59.688Z"
   },
   {
    "duration": 23,
    "start_time": "2023-04-09T07:48:59.696Z"
   },
   {
    "duration": 5,
    "start_time": "2023-04-09T07:48:59.721Z"
   },
   {
    "duration": 26,
    "start_time": "2023-04-09T07:48:59.728Z"
   },
   {
    "duration": 229,
    "start_time": "2023-04-09T07:48:59.756Z"
   },
   {
    "duration": 30,
    "start_time": "2023-04-09T07:48:59.987Z"
   },
   {
    "duration": 68,
    "start_time": "2023-04-09T07:49:00.018Z"
   },
   {
    "duration": 36,
    "start_time": "2023-04-09T07:49:00.088Z"
   },
   {
    "duration": 5,
    "start_time": "2023-04-09T07:49:00.125Z"
   },
   {
    "duration": 204,
    "start_time": "2023-04-09T07:49:00.131Z"
   },
   {
    "duration": 16,
    "start_time": "2023-04-09T07:49:00.337Z"
   },
   {
    "duration": 74,
    "start_time": "2023-04-09T07:49:00.355Z"
   },
   {
    "duration": 181,
    "start_time": "2023-04-09T07:49:00.430Z"
   },
   {
    "duration": 23,
    "start_time": "2023-04-09T07:49:00.612Z"
   },
   {
    "duration": 73,
    "start_time": "2023-04-09T07:49:00.637Z"
   },
   {
    "duration": 237,
    "start_time": "2023-04-09T07:49:00.712Z"
   },
   {
    "duration": 79,
    "start_time": "2023-04-09T07:49:00.951Z"
   },
   {
    "duration": 18,
    "start_time": "2023-04-09T07:49:01.032Z"
   },
   {
    "duration": 66,
    "start_time": "2023-04-09T07:49:01.052Z"
   },
   {
    "duration": 44,
    "start_time": "2023-04-09T07:49:01.120Z"
   },
   {
    "duration": 38,
    "start_time": "2023-04-09T07:49:01.165Z"
   },
   {
    "duration": 52,
    "start_time": "2023-04-09T07:49:01.205Z"
   },
   {
    "duration": 43,
    "start_time": "2023-04-09T07:49:01.258Z"
   },
   {
    "duration": 54,
    "start_time": "2023-04-09T07:49:01.303Z"
   },
   {
    "duration": 54,
    "start_time": "2023-04-09T07:49:01.358Z"
   },
   {
    "duration": 7,
    "start_time": "2023-04-09T07:49:01.414Z"
   },
   {
    "duration": 51,
    "start_time": "2023-04-09T07:49:01.423Z"
   },
   {
    "duration": 53,
    "start_time": "2023-04-09T07:49:01.476Z"
   },
   {
    "duration": 33,
    "start_time": "2023-04-09T07:49:01.530Z"
   },
   {
    "duration": 63,
    "start_time": "2023-04-09T07:49:01.564Z"
   },
   {
    "duration": 29,
    "start_time": "2023-04-09T07:50:21.759Z"
   },
   {
    "duration": 31,
    "start_time": "2023-04-09T07:50:28.031Z"
   },
   {
    "duration": 26,
    "start_time": "2023-04-09T07:51:22.823Z"
   },
   {
    "duration": 25,
    "start_time": "2023-04-09T07:51:33.749Z"
   },
   {
    "duration": 237,
    "start_time": "2023-04-09T07:58:16.673Z"
   },
   {
    "duration": 26,
    "start_time": "2023-04-09T07:58:29.688Z"
   },
   {
    "duration": 225,
    "start_time": "2023-04-09T08:01:12.153Z"
   },
   {
    "duration": 7,
    "start_time": "2023-04-09T08:01:36.117Z"
   },
   {
    "duration": 9,
    "start_time": "2023-04-09T08:02:04.463Z"
   },
   {
    "duration": 10,
    "start_time": "2023-04-09T08:02:38.474Z"
   },
   {
    "duration": 10,
    "start_time": "2023-04-09T08:02:53.870Z"
   },
   {
    "duration": 10,
    "start_time": "2023-04-09T08:03:04.342Z"
   },
   {
    "duration": 9,
    "start_time": "2023-04-09T08:04:44.627Z"
   },
   {
    "duration": 28,
    "start_time": "2023-04-09T08:05:25.383Z"
   },
   {
    "duration": 11,
    "start_time": "2023-04-09T08:05:34.936Z"
   },
   {
    "duration": 8,
    "start_time": "2023-04-09T08:10:09.989Z"
   },
   {
    "duration": 5,
    "start_time": "2023-04-09T08:10:20.903Z"
   },
   {
    "duration": 9,
    "start_time": "2023-04-09T08:10:47.435Z"
   },
   {
    "duration": 754,
    "start_time": "2023-04-09T08:10:55.854Z"
   },
   {
    "duration": 672,
    "start_time": "2023-04-09T08:11:11.962Z"
   },
   {
    "duration": 322,
    "start_time": "2023-04-09T08:11:34.335Z"
   },
   {
    "duration": 7,
    "start_time": "2023-04-09T08:11:55.630Z"
   },
   {
    "duration": 78,
    "start_time": "2023-04-09T08:36:53.150Z"
   },
   {
    "duration": 4,
    "start_time": "2023-04-09T08:36:59.230Z"
   },
   {
    "duration": 57,
    "start_time": "2023-04-09T08:37:03.407Z"
   },
   {
    "duration": 29,
    "start_time": "2023-04-09T08:37:50.951Z"
   },
   {
    "duration": 914,
    "start_time": "2023-04-09T11:30:20.507Z"
   },
   {
    "duration": 6,
    "start_time": "2023-04-09T11:30:21.423Z"
   },
   {
    "duration": 19,
    "start_time": "2023-04-09T11:30:21.431Z"
   },
   {
    "duration": 23,
    "start_time": "2023-04-09T11:30:21.452Z"
   },
   {
    "duration": 25,
    "start_time": "2023-04-09T11:30:21.477Z"
   },
   {
    "duration": 64,
    "start_time": "2023-04-09T11:30:21.503Z"
   },
   {
    "duration": 40,
    "start_time": "2023-04-09T11:30:21.568Z"
   },
   {
    "duration": 30,
    "start_time": "2023-04-09T11:30:21.609Z"
   },
   {
    "duration": 6,
    "start_time": "2023-04-09T11:30:21.641Z"
   },
   {
    "duration": 56,
    "start_time": "2023-04-09T11:30:21.649Z"
   },
   {
    "duration": 10,
    "start_time": "2023-04-09T11:30:21.707Z"
   },
   {
    "duration": 27,
    "start_time": "2023-04-09T11:30:21.719Z"
   },
   {
    "duration": 8,
    "start_time": "2023-04-09T11:30:21.748Z"
   },
   {
    "duration": 25,
    "start_time": "2023-04-09T11:30:21.786Z"
   },
   {
    "duration": 25,
    "start_time": "2023-04-09T11:30:21.813Z"
   },
   {
    "duration": 9,
    "start_time": "2023-04-09T11:30:21.839Z"
   },
   {
    "duration": 38,
    "start_time": "2023-04-09T11:30:21.850Z"
   },
   {
    "duration": 13,
    "start_time": "2023-04-09T11:30:21.890Z"
   },
   {
    "duration": 24,
    "start_time": "2023-04-09T11:30:21.905Z"
   },
   {
    "duration": 24,
    "start_time": "2023-04-09T11:30:21.931Z"
   },
   {
    "duration": 42,
    "start_time": "2023-04-09T11:30:21.956Z"
   },
   {
    "duration": 15,
    "start_time": "2023-04-09T11:30:22.000Z"
   },
   {
    "duration": 17,
    "start_time": "2023-04-09T11:30:22.017Z"
   },
   {
    "duration": 29,
    "start_time": "2023-04-09T11:30:22.035Z"
   },
   {
    "duration": 17,
    "start_time": "2023-04-09T11:30:22.087Z"
   },
   {
    "duration": 156,
    "start_time": "2023-04-09T11:30:22.106Z"
   },
   {
    "duration": 9,
    "start_time": "2023-04-09T11:30:22.263Z"
   },
   {
    "duration": 167,
    "start_time": "2023-04-09T11:30:22.273Z"
   },
   {
    "duration": 8,
    "start_time": "2023-04-09T11:30:22.442Z"
   },
   {
    "duration": 178,
    "start_time": "2023-04-09T11:30:22.452Z"
   },
   {
    "duration": 8,
    "start_time": "2023-04-09T11:30:22.631Z"
   },
   {
    "duration": 227,
    "start_time": "2023-04-09T11:30:22.641Z"
   },
   {
    "duration": 7,
    "start_time": "2023-04-09T11:30:22.869Z"
   },
   {
    "duration": 6,
    "start_time": "2023-04-09T11:30:22.887Z"
   },
   {
    "duration": 7,
    "start_time": "2023-04-09T11:30:22.895Z"
   },
   {
    "duration": 29,
    "start_time": "2023-04-09T11:30:22.904Z"
   },
   {
    "duration": 222,
    "start_time": "2023-04-09T11:30:22.934Z"
   },
   {
    "duration": 32,
    "start_time": "2023-04-09T11:30:23.158Z"
   },
   {
    "duration": 43,
    "start_time": "2023-04-09T11:30:23.191Z"
   },
   {
    "duration": 59,
    "start_time": "2023-04-09T11:30:23.235Z"
   },
   {
    "duration": 5,
    "start_time": "2023-04-09T11:30:23.298Z"
   },
   {
    "duration": 194,
    "start_time": "2023-04-09T11:30:23.304Z"
   },
   {
    "duration": 16,
    "start_time": "2023-04-09T11:30:23.500Z"
   },
   {
    "duration": 11,
    "start_time": "2023-04-09T11:30:23.517Z"
   },
   {
    "duration": 194,
    "start_time": "2023-04-09T11:30:23.529Z"
   },
   {
    "duration": 28,
    "start_time": "2023-04-09T11:30:23.724Z"
   },
   {
    "duration": 16,
    "start_time": "2023-04-09T11:30:23.754Z"
   },
   {
    "duration": 241,
    "start_time": "2023-04-09T11:30:23.772Z"
   },
   {
    "duration": 78,
    "start_time": "2023-04-09T11:30:24.015Z"
   },
   {
    "duration": 20,
    "start_time": "2023-04-09T11:30:24.095Z"
   },
   {
    "duration": 19,
    "start_time": "2023-04-09T11:30:24.116Z"
   },
   {
    "duration": 17,
    "start_time": "2023-04-09T11:30:24.137Z"
   },
   {
    "duration": 51,
    "start_time": "2023-04-09T11:30:24.156Z"
   },
   {
    "duration": 16,
    "start_time": "2023-04-09T11:30:24.209Z"
   },
   {
    "duration": 21,
    "start_time": "2023-04-09T11:30:24.227Z"
   },
   {
    "duration": 41,
    "start_time": "2023-04-09T11:30:24.249Z"
   },
   {
    "duration": 33,
    "start_time": "2023-04-09T11:30:24.291Z"
   },
   {
    "duration": 4,
    "start_time": "2023-04-09T11:30:24.326Z"
   },
   {
    "duration": 11,
    "start_time": "2023-04-09T11:30:24.331Z"
   },
   {
    "duration": 14,
    "start_time": "2023-04-09T11:30:24.343Z"
   },
   {
    "duration": 8,
    "start_time": "2023-04-09T11:30:24.388Z"
   },
   {
    "duration": 29,
    "start_time": "2023-04-09T11:30:24.397Z"
   },
   {
    "duration": 29,
    "start_time": "2023-04-09T11:30:24.428Z"
   },
   {
    "duration": 280,
    "start_time": "2023-04-09T12:07:39.854Z"
   },
   {
    "duration": 194,
    "start_time": "2023-04-09T12:08:01.349Z"
   },
   {
    "duration": 181,
    "start_time": "2023-04-09T12:08:47.766Z"
   },
   {
    "duration": 218,
    "start_time": "2023-04-09T12:09:19.385Z"
   },
   {
    "duration": 5,
    "start_time": "2023-04-09T12:10:48.893Z"
   },
   {
    "duration": 59,
    "start_time": "2023-04-09T12:11:39.600Z"
   },
   {
    "duration": 187,
    "start_time": "2023-04-09T12:13:28.012Z"
   },
   {
    "duration": 72,
    "start_time": "2023-04-09T12:19:45.035Z"
   },
   {
    "duration": 26,
    "start_time": "2023-04-09T12:21:15.846Z"
   },
   {
    "duration": 44,
    "start_time": "2023-04-09T12:28:13.220Z"
   },
   {
    "duration": 29,
    "start_time": "2023-04-09T12:28:29.343Z"
   },
   {
    "duration": 29,
    "start_time": "2023-04-09T12:28:36.367Z"
   },
   {
    "duration": 30,
    "start_time": "2023-04-09T12:28:46.064Z"
   },
   {
    "duration": 39,
    "start_time": "2023-04-09T12:28:53.678Z"
   },
   {
    "duration": 281,
    "start_time": "2023-04-09T12:30:11.978Z"
   },
   {
    "duration": 201,
    "start_time": "2023-04-09T12:30:43.894Z"
   },
   {
    "duration": 151,
    "start_time": "2023-04-09T12:31:23.776Z"
   },
   {
    "duration": 206,
    "start_time": "2023-04-09T12:31:38.365Z"
   },
   {
    "duration": 177,
    "start_time": "2023-04-09T12:32:15.306Z"
   },
   {
    "duration": 288,
    "start_time": "2023-04-09T12:32:59.480Z"
   },
   {
    "duration": 328,
    "start_time": "2023-04-09T12:33:55.463Z"
   },
   {
    "duration": 806,
    "start_time": "2023-04-09T12:38:14.956Z"
   },
   {
    "duration": 84,
    "start_time": "2023-04-09T12:39:47.845Z"
   },
   {
    "duration": 31,
    "start_time": "2023-04-09T12:40:14.584Z"
   },
   {
    "duration": 37,
    "start_time": "2023-04-09T12:40:19.931Z"
   },
   {
    "duration": 28,
    "start_time": "2023-04-09T12:40:29.914Z"
   },
   {
    "duration": 67,
    "start_time": "2023-04-09T12:40:46.393Z"
   },
   {
    "duration": 82,
    "start_time": "2023-04-09T12:41:12.790Z"
   },
   {
    "duration": 48,
    "start_time": "2023-04-09T12:47:54.618Z"
   },
   {
    "duration": 44,
    "start_time": "2023-04-11T04:36:04.383Z"
   },
   {
    "duration": 1140,
    "start_time": "2023-04-11T04:36:12.230Z"
   },
   {
    "duration": 7,
    "start_time": "2023-04-11T04:36:13.372Z"
   },
   {
    "duration": 25,
    "start_time": "2023-04-11T04:36:13.381Z"
   },
   {
    "duration": 24,
    "start_time": "2023-04-11T04:36:13.408Z"
   },
   {
    "duration": 34,
    "start_time": "2023-04-11T04:36:13.434Z"
   },
   {
    "duration": 70,
    "start_time": "2023-04-11T04:36:13.470Z"
   },
   {
    "duration": 24,
    "start_time": "2023-04-11T04:36:13.542Z"
   },
   {
    "duration": 30,
    "start_time": "2023-04-11T04:36:13.584Z"
   },
   {
    "duration": 7,
    "start_time": "2023-04-11T04:36:13.615Z"
   },
   {
    "duration": 29,
    "start_time": "2023-04-11T04:36:13.624Z"
   },
   {
    "duration": 12,
    "start_time": "2023-04-11T04:36:13.655Z"
   },
   {
    "duration": 24,
    "start_time": "2023-04-11T04:36:13.684Z"
   },
   {
    "duration": 8,
    "start_time": "2023-04-11T04:36:13.709Z"
   },
   {
    "duration": 33,
    "start_time": "2023-04-11T04:36:13.719Z"
   },
   {
    "duration": 48,
    "start_time": "2023-04-11T04:36:13.754Z"
   },
   {
    "duration": 4,
    "start_time": "2023-04-11T04:36:13.805Z"
   },
   {
    "duration": 46,
    "start_time": "2023-04-11T04:36:13.811Z"
   },
   {
    "duration": 15,
    "start_time": "2023-04-11T04:36:13.859Z"
   },
   {
    "duration": 28,
    "start_time": "2023-04-11T04:36:13.876Z"
   },
   {
    "duration": 22,
    "start_time": "2023-04-11T04:36:13.906Z"
   },
   {
    "duration": 22,
    "start_time": "2023-04-11T04:36:13.930Z"
   },
   {
    "duration": 31,
    "start_time": "2023-04-11T04:36:13.953Z"
   },
   {
    "duration": 16,
    "start_time": "2023-04-11T04:36:13.986Z"
   },
   {
    "duration": 29,
    "start_time": "2023-04-11T04:36:14.003Z"
   },
   {
    "duration": 59,
    "start_time": "2023-04-11T04:36:14.034Z"
   },
   {
    "duration": 13,
    "start_time": "2023-04-11T04:36:14.095Z"
   },
   {
    "duration": 147,
    "start_time": "2023-04-11T04:36:14.110Z"
   },
   {
    "duration": 8,
    "start_time": "2023-04-11T04:36:14.261Z"
   },
   {
    "duration": 178,
    "start_time": "2023-04-11T04:36:14.270Z"
   },
   {
    "duration": 8,
    "start_time": "2023-04-11T04:36:14.450Z"
   },
   {
    "duration": 182,
    "start_time": "2023-04-11T04:36:14.459Z"
   },
   {
    "duration": 8,
    "start_time": "2023-04-11T04:36:14.643Z"
   },
   {
    "duration": 277,
    "start_time": "2023-04-11T04:36:14.652Z"
   },
   {
    "duration": 6,
    "start_time": "2023-04-11T04:36:14.931Z"
   },
   {
    "duration": 26,
    "start_time": "2023-04-11T04:36:14.939Z"
   },
   {
    "duration": 10,
    "start_time": "2023-04-11T04:36:14.967Z"
   },
   {
    "duration": 29,
    "start_time": "2023-04-11T04:36:14.979Z"
   },
   {
    "duration": 274,
    "start_time": "2023-04-11T04:36:15.009Z"
   },
   {
    "duration": 25,
    "start_time": "2023-04-11T04:36:15.284Z"
   },
   {
    "duration": 50,
    "start_time": "2023-04-11T04:36:15.311Z"
   },
   {
    "duration": 50,
    "start_time": "2023-04-11T04:36:15.363Z"
   },
   {
    "duration": 5,
    "start_time": "2023-04-11T04:36:15.414Z"
   },
   {
    "duration": 209,
    "start_time": "2023-04-11T04:36:15.421Z"
   },
   {
    "duration": 16,
    "start_time": "2023-04-11T04:36:15.632Z"
   },
   {
    "duration": 11,
    "start_time": "2023-04-11T04:36:15.650Z"
   },
   {
    "duration": 36,
    "start_time": "2023-04-11T04:36:15.663Z"
   },
   {
    "duration": 207,
    "start_time": "2023-04-11T04:36:15.701Z"
   },
   {
    "duration": 25,
    "start_time": "2023-04-11T04:36:15.910Z"
   },
   {
    "duration": 75,
    "start_time": "2023-04-11T04:36:15.937Z"
   },
   {
    "duration": 229,
    "start_time": "2023-04-11T04:36:16.014Z"
   },
   {
    "duration": 81,
    "start_time": "2023-04-11T04:36:16.245Z"
   },
   {
    "duration": 24,
    "start_time": "2023-04-11T04:36:16.328Z"
   },
   {
    "duration": 31,
    "start_time": "2023-04-11T04:36:16.354Z"
   },
   {
    "duration": 20,
    "start_time": "2023-04-11T04:36:16.387Z"
   },
   {
    "duration": 16,
    "start_time": "2023-04-11T04:36:16.409Z"
   },
   {
    "duration": 20,
    "start_time": "2023-04-11T04:36:16.427Z"
   },
   {
    "duration": 37,
    "start_time": "2023-04-11T04:36:16.449Z"
   },
   {
    "duration": 28,
    "start_time": "2023-04-11T04:36:16.487Z"
   },
   {
    "duration": 19,
    "start_time": "2023-04-11T04:36:16.517Z"
   },
   {
    "duration": 52,
    "start_time": "2023-04-11T04:36:16.538Z"
   },
   {
    "duration": 4,
    "start_time": "2023-04-11T04:36:16.591Z"
   },
   {
    "duration": 23,
    "start_time": "2023-04-11T04:36:16.597Z"
   },
   {
    "duration": 27,
    "start_time": "2023-04-11T04:36:16.622Z"
   },
   {
    "duration": 7,
    "start_time": "2023-04-11T04:36:16.651Z"
   },
   {
    "duration": 38,
    "start_time": "2023-04-11T04:36:16.660Z"
   },
   {
    "duration": 28,
    "start_time": "2023-04-11T04:36:16.700Z"
   },
   {
    "duration": 99,
    "start_time": "2023-04-11T04:36:16.729Z"
   },
   {
    "duration": 1293,
    "start_time": "2023-04-11T04:37:10.982Z"
   },
   {
    "duration": 799,
    "start_time": "2023-04-11T04:39:27.380Z"
   },
   {
    "duration": 32,
    "start_time": "2023-04-11T04:39:38.293Z"
   },
   {
    "duration": 10,
    "start_time": "2023-04-11T04:40:01.296Z"
   },
   {
    "duration": 11,
    "start_time": "2023-04-11T04:40:13.034Z"
   },
   {
    "duration": 10,
    "start_time": "2023-04-11T04:40:52.985Z"
   },
   {
    "duration": 11,
    "start_time": "2023-04-11T04:41:13.549Z"
   },
   {
    "duration": 13,
    "start_time": "2023-04-11T04:41:43.276Z"
   },
   {
    "duration": 11,
    "start_time": "2023-04-11T04:43:34.893Z"
   },
   {
    "duration": 920,
    "start_time": "2023-04-11T04:46:16.557Z"
   },
   {
    "duration": 10,
    "start_time": "2023-04-11T04:47:22.579Z"
   },
   {
    "duration": 27,
    "start_time": "2023-04-11T04:47:48.813Z"
   },
   {
    "duration": 5,
    "start_time": "2023-04-11T04:47:55.679Z"
   },
   {
    "duration": 140,
    "start_time": "2023-04-11T04:48:04.065Z"
   },
   {
    "duration": 6,
    "start_time": "2023-04-11T04:48:04.207Z"
   },
   {
    "duration": 29,
    "start_time": "2023-04-11T04:48:04.214Z"
   },
   {
    "duration": 37,
    "start_time": "2023-04-11T04:48:04.244Z"
   },
   {
    "duration": 41,
    "start_time": "2023-04-11T04:48:04.284Z"
   },
   {
    "duration": 53,
    "start_time": "2023-04-11T04:48:04.326Z"
   },
   {
    "duration": 24,
    "start_time": "2023-04-11T04:48:04.380Z"
   },
   {
    "duration": 39,
    "start_time": "2023-04-11T04:48:04.406Z"
   },
   {
    "duration": 37,
    "start_time": "2023-04-11T04:48:04.447Z"
   },
   {
    "duration": 36,
    "start_time": "2023-04-11T04:48:04.485Z"
   },
   {
    "duration": 10,
    "start_time": "2023-04-11T04:48:04.523Z"
   },
   {
    "duration": 48,
    "start_time": "2023-04-11T04:48:04.535Z"
   },
   {
    "duration": 8,
    "start_time": "2023-04-11T04:48:04.585Z"
   },
   {
    "duration": 55,
    "start_time": "2023-04-11T04:48:04.597Z"
   },
   {
    "duration": 39,
    "start_time": "2023-04-11T04:48:04.653Z"
   },
   {
    "duration": 820,
    "start_time": "2023-04-11T04:48:04.693Z"
   },
   {
    "duration": 0,
    "start_time": "2023-04-11T04:48:05.516Z"
   },
   {
    "duration": 1,
    "start_time": "2023-04-11T04:48:05.517Z"
   },
   {
    "duration": 0,
    "start_time": "2023-04-11T04:48:05.519Z"
   },
   {
    "duration": 0,
    "start_time": "2023-04-11T04:48:05.521Z"
   },
   {
    "duration": 0,
    "start_time": "2023-04-11T04:48:05.522Z"
   },
   {
    "duration": 0,
    "start_time": "2023-04-11T04:48:05.524Z"
   },
   {
    "duration": 0,
    "start_time": "2023-04-11T04:48:05.525Z"
   },
   {
    "duration": 0,
    "start_time": "2023-04-11T04:48:05.527Z"
   },
   {
    "duration": 0,
    "start_time": "2023-04-11T04:48:05.528Z"
   },
   {
    "duration": 0,
    "start_time": "2023-04-11T04:48:05.529Z"
   },
   {
    "duration": 0,
    "start_time": "2023-04-11T04:48:05.530Z"
   },
   {
    "duration": 0,
    "start_time": "2023-04-11T04:48:05.531Z"
   },
   {
    "duration": 0,
    "start_time": "2023-04-11T04:48:05.532Z"
   },
   {
    "duration": 0,
    "start_time": "2023-04-11T04:48:05.533Z"
   },
   {
    "duration": 0,
    "start_time": "2023-04-11T04:48:05.534Z"
   },
   {
    "duration": 0,
    "start_time": "2023-04-11T04:48:05.536Z"
   },
   {
    "duration": 0,
    "start_time": "2023-04-11T04:48:05.537Z"
   },
   {
    "duration": 0,
    "start_time": "2023-04-11T04:48:05.538Z"
   },
   {
    "duration": 0,
    "start_time": "2023-04-11T04:48:05.539Z"
   },
   {
    "duration": 0,
    "start_time": "2023-04-11T04:48:05.540Z"
   },
   {
    "duration": 0,
    "start_time": "2023-04-11T04:48:05.541Z"
   },
   {
    "duration": 0,
    "start_time": "2023-04-11T04:48:05.542Z"
   },
   {
    "duration": 0,
    "start_time": "2023-04-11T04:48:05.543Z"
   },
   {
    "duration": 0,
    "start_time": "2023-04-11T04:48:05.544Z"
   },
   {
    "duration": 0,
    "start_time": "2023-04-11T04:48:05.545Z"
   },
   {
    "duration": 0,
    "start_time": "2023-04-11T04:48:05.546Z"
   },
   {
    "duration": 0,
    "start_time": "2023-04-11T04:48:05.547Z"
   },
   {
    "duration": 0,
    "start_time": "2023-04-11T04:48:05.548Z"
   },
   {
    "duration": 0,
    "start_time": "2023-04-11T04:48:05.549Z"
   },
   {
    "duration": 0,
    "start_time": "2023-04-11T04:48:05.550Z"
   },
   {
    "duration": 0,
    "start_time": "2023-04-11T04:48:05.551Z"
   },
   {
    "duration": 0,
    "start_time": "2023-04-11T04:48:05.584Z"
   },
   {
    "duration": 0,
    "start_time": "2023-04-11T04:48:05.585Z"
   },
   {
    "duration": 0,
    "start_time": "2023-04-11T04:48:05.588Z"
   },
   {
    "duration": 0,
    "start_time": "2023-04-11T04:48:05.589Z"
   },
   {
    "duration": 0,
    "start_time": "2023-04-11T04:48:05.591Z"
   },
   {
    "duration": 0,
    "start_time": "2023-04-11T04:48:05.592Z"
   },
   {
    "duration": 0,
    "start_time": "2023-04-11T04:48:05.594Z"
   },
   {
    "duration": 0,
    "start_time": "2023-04-11T04:48:05.595Z"
   },
   {
    "duration": 0,
    "start_time": "2023-04-11T04:48:05.597Z"
   },
   {
    "duration": 0,
    "start_time": "2023-04-11T04:48:05.598Z"
   },
   {
    "duration": 0,
    "start_time": "2023-04-11T04:48:05.600Z"
   },
   {
    "duration": 0,
    "start_time": "2023-04-11T04:48:05.601Z"
   },
   {
    "duration": 0,
    "start_time": "2023-04-11T04:48:05.603Z"
   },
   {
    "duration": 0,
    "start_time": "2023-04-11T04:48:05.604Z"
   },
   {
    "duration": 0,
    "start_time": "2023-04-11T04:48:05.605Z"
   },
   {
    "duration": 0,
    "start_time": "2023-04-11T04:48:05.607Z"
   },
   {
    "duration": 0,
    "start_time": "2023-04-11T04:48:05.608Z"
   },
   {
    "duration": 0,
    "start_time": "2023-04-11T04:48:05.609Z"
   },
   {
    "duration": 0,
    "start_time": "2023-04-11T04:48:05.611Z"
   },
   {
    "duration": 0,
    "start_time": "2023-04-11T04:48:05.613Z"
   },
   {
    "duration": 0,
    "start_time": "2023-04-11T04:48:05.614Z"
   },
   {
    "duration": 6,
    "start_time": "2023-04-11T04:48:14.359Z"
   },
   {
    "duration": 19,
    "start_time": "2023-04-11T04:48:19.118Z"
   },
   {
    "duration": 14,
    "start_time": "2023-04-11T04:48:36.424Z"
   },
   {
    "duration": 20,
    "start_time": "2023-04-11T04:48:46.906Z"
   },
   {
    "duration": 15,
    "start_time": "2023-04-11T04:49:03.700Z"
   },
   {
    "duration": 34,
    "start_time": "2023-04-11T04:49:11.987Z"
   },
   {
    "duration": 10,
    "start_time": "2023-04-11T04:49:31.061Z"
   },
   {
    "duration": 9,
    "start_time": "2023-04-11T04:49:40.905Z"
   },
   {
    "duration": 9,
    "start_time": "2023-04-11T04:50:24.567Z"
   },
   {
    "duration": 14,
    "start_time": "2023-04-11T04:50:36.499Z"
   },
   {
    "duration": 16,
    "start_time": "2023-04-11T04:57:39.240Z"
   },
   {
    "duration": 6,
    "start_time": "2023-04-11T05:14:10.510Z"
   },
   {
    "duration": 18,
    "start_time": "2023-04-11T05:14:21.900Z"
   },
   {
    "duration": 8,
    "start_time": "2023-04-11T05:14:28.732Z"
   },
   {
    "duration": 137,
    "start_time": "2023-04-11T05:15:26.836Z"
   },
   {
    "duration": 6,
    "start_time": "2023-04-11T05:15:26.974Z"
   },
   {
    "duration": 24,
    "start_time": "2023-04-11T05:15:26.981Z"
   },
   {
    "duration": 41,
    "start_time": "2023-04-11T05:15:27.007Z"
   },
   {
    "duration": 22,
    "start_time": "2023-04-11T05:15:27.050Z"
   },
   {
    "duration": 38,
    "start_time": "2023-04-11T05:15:27.074Z"
   },
   {
    "duration": 25,
    "start_time": "2023-04-11T05:15:27.114Z"
   },
   {
    "duration": 41,
    "start_time": "2023-04-11T05:15:27.141Z"
   },
   {
    "duration": 6,
    "start_time": "2023-04-11T05:15:27.184Z"
   },
   {
    "duration": 43,
    "start_time": "2023-04-11T05:15:27.192Z"
   },
   {
    "duration": 19,
    "start_time": "2023-04-11T05:15:27.236Z"
   },
   {
    "duration": 43,
    "start_time": "2023-04-11T05:15:27.257Z"
   },
   {
    "duration": 8,
    "start_time": "2023-04-11T05:15:27.301Z"
   },
   {
    "duration": 42,
    "start_time": "2023-04-11T05:15:27.311Z"
   },
   {
    "duration": 29,
    "start_time": "2023-04-11T05:15:27.355Z"
   },
   {
    "duration": 4,
    "start_time": "2023-04-11T05:15:27.385Z"
   },
   {
    "duration": 12,
    "start_time": "2023-04-11T05:15:27.391Z"
   },
   {
    "duration": 23,
    "start_time": "2023-04-11T05:15:27.405Z"
   },
   {
    "duration": 22,
    "start_time": "2023-04-11T05:15:27.430Z"
   },
   {
    "duration": 11,
    "start_time": "2023-04-11T05:15:27.453Z"
   },
   {
    "duration": 18,
    "start_time": "2023-04-11T05:15:27.466Z"
   },
   {
    "duration": 10,
    "start_time": "2023-04-11T05:15:27.486Z"
   },
   {
    "duration": 17,
    "start_time": "2023-04-11T05:15:27.498Z"
   },
   {
    "duration": 24,
    "start_time": "2023-04-11T05:15:27.517Z"
   },
   {
    "duration": 44,
    "start_time": "2023-04-11T05:15:27.543Z"
   },
   {
    "duration": 22,
    "start_time": "2023-04-11T05:15:27.589Z"
   },
   {
    "duration": 15,
    "start_time": "2023-04-11T05:15:27.613Z"
   },
   {
    "duration": 16,
    "start_time": "2023-04-11T05:15:27.636Z"
   },
   {
    "duration": 44,
    "start_time": "2023-04-11T05:15:27.655Z"
   },
   {
    "duration": 16,
    "start_time": "2023-04-11T05:15:27.701Z"
   },
   {
    "duration": 159,
    "start_time": "2023-04-11T05:15:27.719Z"
   },
   {
    "duration": 12,
    "start_time": "2023-04-11T05:15:27.879Z"
   },
   {
    "duration": 236,
    "start_time": "2023-04-11T05:15:27.893Z"
   },
   {
    "duration": 9,
    "start_time": "2023-04-11T05:15:28.131Z"
   },
   {
    "duration": 182,
    "start_time": "2023-04-11T05:15:28.141Z"
   },
   {
    "duration": 8,
    "start_time": "2023-04-11T05:15:28.324Z"
   },
   {
    "duration": 178,
    "start_time": "2023-04-11T05:15:28.334Z"
   },
   {
    "duration": 7,
    "start_time": "2023-04-11T05:15:28.514Z"
   },
   {
    "duration": 15,
    "start_time": "2023-04-11T05:15:28.522Z"
   },
   {
    "duration": 13,
    "start_time": "2023-04-11T05:15:28.539Z"
   },
   {
    "duration": 30,
    "start_time": "2023-04-11T05:15:28.554Z"
   },
   {
    "duration": 205,
    "start_time": "2023-04-11T05:15:28.586Z"
   },
   {
    "duration": 22,
    "start_time": "2023-04-11T05:15:28.793Z"
   },
   {
    "duration": 42,
    "start_time": "2023-04-11T05:15:28.817Z"
   },
   {
    "duration": 55,
    "start_time": "2023-04-11T05:15:28.860Z"
   },
   {
    "duration": 5,
    "start_time": "2023-04-11T05:15:28.917Z"
   },
   {
    "duration": 198,
    "start_time": "2023-04-11T05:15:28.924Z"
   },
   {
    "duration": 14,
    "start_time": "2023-04-11T05:15:29.123Z"
   },
   {
    "duration": 12,
    "start_time": "2023-04-11T05:15:29.139Z"
   },
   {
    "duration": 15,
    "start_time": "2023-04-11T05:15:29.153Z"
   },
   {
    "duration": 185,
    "start_time": "2023-04-11T05:15:29.169Z"
   },
   {
    "duration": 32,
    "start_time": "2023-04-11T05:15:29.356Z"
   },
   {
    "duration": 13,
    "start_time": "2023-04-11T05:15:29.389Z"
   },
   {
    "duration": 221,
    "start_time": "2023-04-11T05:15:29.403Z"
   },
   {
    "duration": 79,
    "start_time": "2023-04-11T05:15:29.626Z"
   },
   {
    "duration": 25,
    "start_time": "2023-04-11T05:15:29.707Z"
   },
   {
    "duration": 21,
    "start_time": "2023-04-11T05:15:29.734Z"
   },
   {
    "duration": 42,
    "start_time": "2023-04-11T05:15:29.756Z"
   },
   {
    "duration": 26,
    "start_time": "2023-04-11T05:15:29.801Z"
   },
   {
    "duration": 25,
    "start_time": "2023-04-11T05:15:29.828Z"
   },
   {
    "duration": 42,
    "start_time": "2023-04-11T05:15:29.855Z"
   },
   {
    "duration": 23,
    "start_time": "2023-04-11T05:15:29.898Z"
   },
   {
    "duration": 19,
    "start_time": "2023-04-11T05:15:29.923Z"
   },
   {
    "duration": 56,
    "start_time": "2023-04-11T05:15:29.944Z"
   },
   {
    "duration": 4,
    "start_time": "2023-04-11T05:15:30.002Z"
   },
   {
    "duration": 29,
    "start_time": "2023-04-11T05:15:30.008Z"
   },
   {
    "duration": 47,
    "start_time": "2023-04-11T05:15:30.039Z"
   },
   {
    "duration": 8,
    "start_time": "2023-04-11T05:15:30.087Z"
   },
   {
    "duration": 80,
    "start_time": "2023-04-11T05:15:30.096Z"
   },
   {
    "duration": 29,
    "start_time": "2023-04-11T05:15:30.178Z"
   },
   {
    "duration": 94,
    "start_time": "2023-04-11T05:15:30.208Z"
   }
  ],
  "colab": {
   "name": "DA+. Сборный проект 1. Шаблон (1).ipynb",
   "provenance": []
  },
  "kernelspec": {
   "display_name": "Python 3 (ipykernel)",
   "language": "python",
   "name": "python3"
  },
  "language_info": {
   "codemirror_mode": {
    "name": "ipython",
    "version": 3
   },
   "file_extension": ".py",
   "mimetype": "text/x-python",
   "name": "python",
   "nbconvert_exporter": "python",
   "pygments_lexer": "ipython3",
   "version": "3.9.5"
  },
  "toc": {
   "base_numbering": 1,
   "nav_menu": {},
   "number_sections": true,
   "sideBar": true,
   "skip_h1_title": true,
   "title_cell": "Table of Contents",
   "title_sidebar": "Contents",
   "toc_cell": false,
   "toc_position": {
    "height": "calc(100% - 180px)",
    "left": "10px",
    "top": "150px",
    "width": "375.391px"
   },
   "toc_section_display": true,
   "toc_window_display": false
  }
 },
 "nbformat": 4,
 "nbformat_minor": 1
}
